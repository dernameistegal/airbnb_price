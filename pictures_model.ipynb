{
  "nbformat": 4,
  "nbformat_minor": 0,
  "metadata": {
    "colab": {
      "name": "Untitled0.ipynb",
      "provenance": [],
      "machine_shape": "hm",
      "include_colab_link": true
    },
    "kernelspec": {
      "name": "python3",
      "display_name": "Python 3"
    },
    "language_info": {
      "name": "python"
    },
    "accelerator": "GPU"
  },
  "cells": [
    {
      "cell_type": "markdown",
      "metadata": {
        "id": "view-in-github",
        "colab_type": "text"
      },
      "source": [
        "<a href=\"https://colab.research.google.com/github/dernameistegal/airbnb_price/blob/main/pictures_model.ipynb\" target=\"_parent\"><img src=\"https://colab.research.google.com/assets/colab-badge.svg\" alt=\"Open In Colab\"/></a>"
      ]
    },
    {
      "cell_type": "markdown",
      "source": [
        "# 0. Preparation"
      ],
      "metadata": {
        "id": "jbtdvB6FQgvs"
      }
    },
    {
      "cell_type": "code",
      "source": [
        "#@title remove repos from disc\n",
        "%cd /content\n",
        "!rm -r airbnb_price"
      ],
      "metadata": {
        "id": "QdOQljNz3blJ",
        "outputId": "2740fa02-f448-4a74-a34f-1d6eda40fdec",
        "colab": {
          "base_uri": "https://localhost:8080/"
        },
        "cellView": "form"
      },
      "execution_count": null,
      "outputs": [
        {
          "output_type": "stream",
          "name": "stdout",
          "text": [
            "/content\n"
          ]
        }
      ]
    },
    {
      "cell_type": "code",
      "metadata": {
        "id": "DJ7o4vsf3Sn9",
        "cellView": "form",
        "outputId": "979b7249-3a37-418c-9425-445d02e8cba4",
        "colab": {
          "base_uri": "https://localhost:8080/"
        }
      },
      "source": [
        "#@title Clone repo\n",
        "!git clone https://github.com/dernameistegal/airbnb_price.git"
      ],
      "execution_count": null,
      "outputs": [
        {
          "output_type": "stream",
          "name": "stdout",
          "text": [
            "Cloning into 'airbnb_price'...\n",
            "remote: Enumerating objects: 98, done.\u001b[K\n",
            "remote: Counting objects: 100% (98/98), done.\u001b[K\n",
            "remote: Compressing objects: 100% (89/89), done.\u001b[K\n",
            "remote: Total 98 (delta 42), reused 43 (delta 5), pack-reused 0\u001b[K\n",
            "Unpacking objects: 100% (98/98), done.\n"
          ]
        }
      ]
    },
    {
      "cell_type": "code",
      "source": [
        "#@title add paths to library search path\n",
        "import sys \n",
        "\n",
        "sys.path.append(\"/content/airbnb_price/custom_functions\")\n",
        "sys.path.append(\"/content/airbnb_price/feature_extraction\")"
      ],
      "metadata": {
        "id": "JwAoaaJGkz3k",
        "cellView": "form"
      },
      "execution_count": null,
      "outputs": []
    },
    {
      "cell_type": "code",
      "metadata": {
        "id": "4CxkNtPCI8nl",
        "cellView": "form",
        "colab": {
          "base_uri": "https://localhost:8080/"
        },
        "outputId": "31d76f20-2576-407c-c20b-111444529fcc"
      },
      "source": [
        "#@title Imports and drive\n",
        "import os\n",
        "import torch\n",
        "import torchvision\n",
        "import pandas as pd\n",
        "import numpy as np\n",
        "import matplotlib.pyplot as plt\n",
        "from tqdm import tqdm\n",
        "\n",
        "# own modules\n",
        "import general_utils as gu\n",
        "import feature_extraction_utils as fu\n",
        "\n",
        "\n",
        "\n",
        "from google.colab import drive\n",
        "\n",
        "#@title Mount drive\n",
        "drive.mount('/content/drive/', force_remount=True)"
      ],
      "execution_count": null,
      "outputs": [
        {
          "output_type": "stream",
          "name": "stdout",
          "text": [
            "Mounted at /content/drive/\n"
          ]
        }
      ]
    },
    {
      "cell_type": "code",
      "metadata": {
        "colab": {
          "base_uri": "https://localhost:8080/"
        },
        "id": "-5FPlKWBJMWs",
        "outputId": "c05360cd-a0a9-410b-958e-f1cca72d44da",
        "cellView": "form"
      },
      "source": [
        "#@title define device\n",
        "\n",
        "# device\n",
        "device = gu.get_device()\n",
        "num_cpus = os.cpu_count()\n",
        "print(num_cpus, 'CPUs available')"
      ],
      "execution_count": null,
      "outputs": [
        {
          "output_type": "stream",
          "name": "stdout",
          "text": [
            "cuda available: True ; cudnn available: True ; num devices: 1\n",
            "Using device Tesla K80\n",
            "2 CPUs available\n"
          ]
        }
      ]
    },
    {
      "cell_type": "markdown",
      "source": [
        "# 1. Data Cleaning Hostpics (Dont has to be run again)"
      ],
      "metadata": {
        "id": "QLS2yRBCQb6P"
      }
    },
    {
      "cell_type": "code",
      "source": [
        "hostpics_dir = \"/content/drive/MyDrive/Colab/airbnb/data/hostpics/hostpics_raw\""
      ],
      "metadata": {
        "id": "jqlGUnqDjabS"
      },
      "execution_count": null,
      "outputs": []
    },
    {
      "cell_type": "code",
      "source": [
        "# make dataset and dataloader with hostpics\n",
        "\n",
        "# load moments\n",
        "hostpics_moments = np.load(\"/content/drive/MyDrive/Colab/airbnb/data/hostpics/hostpics_moments.npy\")\n",
        "hostpics_moments = torch.from_numpy(hostpics_moments)\n",
        "\n",
        "# initialize dataset and dataloader\n",
        "dataset = fu.Dataset(filepath=hostpics_dir, channel_moments=hostpic_moments, ndata=10)\n",
        "dataloader = torch.utils.data.DataLoader(dataset, batch_size=1, shuffle=False)\n"
      ],
      "metadata": {
        "id": "p5h86a3dtPir"
      },
      "execution_count": null,
      "outputs": []
    },
    {
      "cell_type": "code",
      "source": [
        "# extract features from pretrained model\n",
        "vgg = torchvision.models.vgg19(pretrained=True)\n",
        "feature_extractor = vgg.features[0:31]\n",
        "\n",
        "# compute features for later training\n",
        "train_features = fu.compute_train_features(device=device, dataloader=dataloader, feature_extractor=feature_extractor)\n",
        "train_features = train.features.cpu().numpy()"
      ],
      "metadata": {
        "id": "OJiY3_a68RwA"
      },
      "execution_count": null,
      "outputs": []
    },
    {
      "cell_type": "markdown",
      "source": [
        "# 4. Feature Extraction thumbnails"
      ],
      "metadata": {
        "id": "rmwXb1Kb46Eo"
      }
    },
    {
      "cell_type": "code",
      "source": [
        "thumbnails_dir = \"/content/drive/MyDrive/Colab/airbnb/data/thumbnails/thumbnails_raw\""
      ],
      "metadata": {
        "id": "rsbXtkQz4_uP"
      },
      "execution_count": null,
      "outputs": []
    },
    {
      "cell_type": "code",
      "source": [
        "# make dataset and dataloader with hostpics\n",
        "\n",
        "# load moments\n",
        "thumbnails_moments = np.load(\"/content/drive/MyDrive/Colab/airbnb/data/thumbnails/thumbnails_moments.npy\")\n",
        "thumbnails_moments = torch.from_numpy(thumbnails_moments)\n",
        "\n",
        "# initialize dataset and dataloader\n",
        "dataset = fu.Dataset(filepath=thumbnails_dir, channel_moments=thumbnails_moments, ndata=1000)\n",
        "dataloader = torch.utils.data.DataLoader(dataset, batch_size=16, shuffle=False)"
      ],
      "metadata": {
        "id": "PIqyQ8V28UMd"
      },
      "execution_count": null,
      "outputs": []
    },
    {
      "cell_type": "code",
      "source": [
        "# extract features from pretrained model\n",
        "vgg = torchvision.models.vgg19(pretrained=True)\n",
        "feature_extractor = vgg.features[0:31]\n",
        "\n",
        "# compute features for later training\n",
        "train_features = fu.compute_train_features(device=device, dataloader=dataloader, feature_extractor=feature_extractor)\n",
        "train_features = train.features.cpu().numpy()"
      ],
      "metadata": {
        "id": "PVodQMjb8nzQ",
        "outputId": "6861b204-286a-4347-85c7-fc860b75574d",
        "colab": {
          "base_uri": "https://localhost:8080/"
        }
      },
      "execution_count": null,
      "outputs": [
        {
          "output_type": "stream",
          "name": "stderr",
          "text": [
            "100%|██████████| 63/63 [00:40<00:00,  1.54it/s]\n"
          ]
        }
      ]
    }
  ]
}