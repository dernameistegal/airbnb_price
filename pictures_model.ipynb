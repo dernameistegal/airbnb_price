{
  "nbformat": 4,
  "nbformat_minor": 0,
  "metadata": {
    "colab": {
      "name": "Untitled0.ipynb",
      "provenance": [],
      "machine_shape": "hm",
      "include_colab_link": true
    },
    "kernelspec": {
      "name": "python3",
      "display_name": "Python 3"
    },
    "language_info": {
      "name": "python"
    },
    "accelerator": "GPU"
  },
  "cells": [
    {
      "cell_type": "markdown",
      "metadata": {
        "id": "view-in-github",
        "colab_type": "text"
      },
      "source": [
        "<a href=\"https://colab.research.google.com/github/dernameistegal/airbnb_price/blob/main/pictures_model.ipynb\" target=\"_parent\"><img src=\"https://colab.research.google.com/assets/colab-badge.svg\" alt=\"Open In Colab\"/></a>"
      ]
    },
    {
      "cell_type": "markdown",
      "source": [
        "# 0. Preparation"
      ],
      "metadata": {
        "id": "jbtdvB6FQgvs"
      }
    },
    {
      "cell_type": "code",
      "source": [
        "#@title remove repos from disc\n",
        "%cd /content\n",
        "!rm -r airbnb_price"
      ],
      "metadata": {
        "id": "QdOQljNz3blJ",
        "outputId": "53931dfe-f14c-4dc9-b263-8632815f79fd",
        "colab": {
          "base_uri": "https://localhost:8080/"
        },
        "cellView": "form"
      },
      "execution_count": 1,
      "outputs": [
        {
          "output_type": "stream",
          "name": "stdout",
          "text": [
            "/content\n",
            "rm: cannot remove 'airbnb_price': No such file or directory\n"
          ]
        }
      ]
    },
    {
      "cell_type": "code",
      "metadata": {
        "id": "DJ7o4vsf3Sn9",
        "cellView": "form",
        "outputId": "f4804f1c-8967-4014-ac7d-039f662d971e",
        "colab": {
          "base_uri": "https://localhost:8080/"
        }
      },
      "source": [
        "#@title Clone repo\n",
        "!git clone https://github.com/dernameistegal/airbnb_price.git"
      ],
      "execution_count": 2,
      "outputs": [
        {
          "output_type": "stream",
          "name": "stdout",
          "text": [
            "Cloning into 'airbnb_price'...\n",
            "remote: Enumerating objects: 542, done.\u001b[K\n",
            "remote: Counting objects: 100% (542/542), done.\u001b[K\n",
            "remote: Compressing objects: 100% (510/510), done.\u001b[K\n",
            "remote: Total 542 (delta 286), reused 147 (delta 26), pack-reused 0\u001b[K\n",
            "Receiving objects: 100% (542/542), 3.76 MiB | 9.48 MiB/s, done.\n",
            "Resolving deltas: 100% (286/286), done.\n"
          ]
        }
      ]
    },
    {
      "cell_type": "code",
      "source": [
        "#@title add paths to library search path\n",
        "import sys \n",
        "\n",
        "sys.path.append(\"/content/airbnb_price/custom_functions\")"
      ],
      "metadata": {
        "id": "JwAoaaJGkz3k",
        "cellView": "form"
      },
      "execution_count": 3,
      "outputs": []
    },
    {
      "cell_type": "code",
      "metadata": {
        "id": "4CxkNtPCI8nl",
        "colab": {
          "base_uri": "https://localhost:8080/"
        },
        "outputId": "37251214-8e24-4f22-9e6c-76887d9b1874",
        "cellView": "form"
      },
      "source": [
        "#@title Imports and drive\n",
        "import os\n",
        "import torch\n",
        "import torchvision\n",
        "import pandas as pd\n",
        "import numpy as np\n",
        "import matplotlib.pyplot as plt\n",
        "import torch.nn.functional as F\n",
        "import requests\n",
        "from tqdm import tqdm\n",
        "from scipy.stats.stats import pearsonr\n",
        "\n",
        "# own modules\n",
        "import general_utils as gu\n",
        "import picture_model_utils as pu\n",
        "\n",
        "\n",
        "\n",
        "from google.colab import drive\n",
        "\n",
        "#@title Mount drive\n",
        "drive.mount('/content/drive/', force_remount=True)"
      ],
      "execution_count": 4,
      "outputs": [
        {
          "output_type": "stream",
          "name": "stdout",
          "text": [
            "Mounted at /content/drive/\n"
          ]
        }
      ]
    },
    {
      "cell_type": "code",
      "metadata": {
        "colab": {
          "base_uri": "https://localhost:8080/"
        },
        "id": "-5FPlKWBJMWs",
        "outputId": "d4b75d05-8727-490d-d896-3c21abdaf214",
        "cellView": "form"
      },
      "source": [
        "#@title define device\n",
        "\n",
        "# device\n",
        "device = gu.get_device()\n",
        "num_cpus = os.cpu_count()\n",
        "print(num_cpus, 'CPUs available')"
      ],
      "execution_count": 5,
      "outputs": [
        {
          "output_type": "stream",
          "name": "stdout",
          "text": [
            "cuda available: True ; cudnn available: True ; num devices: 1\n",
            "Using device Tesla P100-PCIE-16GB\n",
            "4 CPUs available\n"
          ]
        }
      ]
    },
    {
      "cell_type": "markdown",
      "source": [
        "# 1. Model thumbnail pictures"
      ],
      "metadata": {
        "id": "rmwXb1Kb46Eo"
      }
    },
    {
      "cell_type": "code",
      "source": [
        "# define train, val split\n",
        "listings = pd.read_pickle(\"/content/drive/MyDrive/Colab/airbnb/data/data1/listings_workfile.pickle\")\n",
        "trainsplit, valsplit, _ = gu.train_val_test_split(listings.index)"
      ],
      "metadata": {
        "id": "UtXc3a88KDXf"
      },
      "execution_count": 6,
      "outputs": []
    },
    {
      "cell_type": "code",
      "source": [
        "# information regarding predictor and response\n",
        "thumbnail_dir = \"/content/drive/MyDrive/Colab/airbnb/data/thumbnails/thumbnails_raw\"\n",
        "\n",
        "log_price = listings[\"log_price\"]\n",
        "log_price = log_price.to_dict()"
      ],
      "metadata": {
        "id": "-LpJcrINjJqW"
      },
      "execution_count": 7,
      "outputs": []
    },
    {
      "cell_type": "code",
      "source": [
        "# make train_dataset and val_dataset and respective dataloader with thumbnails\n",
        "train_dataset = pu.ThumbnailsDataset(thumbnail_dir=thumbnail_dir, response=log_price, split=trainsplit)\n",
        "val_dataset = pu.ThumbnailsDataset(thumbnail_dir=thumbnail_dir, response=log_price, split=valsplit)\n",
        "train_dataloader = torch.utils.data.DataLoader(train_dataset, batch_size=128, shuffle=True)\n",
        "val_dataloader = torch.utils.data.DataLoader(val_dataset, batch_size=128, shuffle=False)"
      ],
      "metadata": {
        "id": "PIqyQ8V28UMd"
      },
      "execution_count": 8,
      "outputs": []
    },
    {
      "cell_type": "code",
      "source": [
        "# calculate root mse to get reference value for model performance\n",
        "logprice = []\n",
        "for i in tqdm(range(len(val_dataset))):\n",
        "    logprice.append(val_dataset[i][1])"
      ],
      "metadata": {
        "id": "GgGq0tpD4pIy",
        "outputId": "38333315-43b6-4090-c16b-03a381d92efd",
        "colab": {
          "base_uri": "https://localhost:8080/"
        }
      },
      "execution_count": 9,
      "outputs": [
        {
          "output_type": "stream",
          "name": "stderr",
          "text": [
            "100%|██████████| 1711/1711 [07:53<00:00,  3.61it/s]\n"
          ]
        }
      ]
    },
    {
      "cell_type": "code",
      "source": [
        "mean_logprice = np.mean(logprice)\n",
        "squared_error = (np.array(logprice) - mean_logprice) ** 2\n",
        "mean_squared_error = np.mean(squared_error)\n",
        "root_mean_squared_error = np.sqrt(mean_squared_error)\n",
        "root_mean_squared_error"
      ],
      "metadata": {
        "id": "gpUKnFVB6sC9",
        "outputId": "9e3213dc-5795-42b8-82ea-bde667ad604e",
        "colab": {
          "base_uri": "https://localhost:8080/"
        }
      },
      "execution_count": 10,
      "outputs": [
        {
          "output_type": "execute_result",
          "data": {
            "text/plain": [
              "0.64899296"
            ]
          },
          "metadata": {},
          "execution_count": 10
        }
      ]
    },
    {
      "cell_type": "code",
      "source": [
        "#@title define models classes\n",
        "class Model(torch.nn.Module):\n",
        "    def __init__(self, feature_extractor, finalizer):\n",
        "        super().__init__()\n",
        "        self.feature_extractor = feature_extractor\n",
        "        self.finalizer = finalizer\n",
        "\n",
        "    def forward(self, x):\n",
        "        x = self.feature_extractor(x)\n",
        "        x = self.finalizer(x)\n",
        "    \n",
        "        return x\n",
        "\n",
        "class Finalizer(torch.nn.Module):\n",
        "    def __init__(self):\n",
        "        super().__init__()\n",
        "        self.conv1 = torch.nn.Conv2d(in_channels=512, out_channels=512, kernel_size=3, stride=1, padding=1)\n",
        "        self.bn1 = torch.nn.BatchNorm2d(512)\n",
        "        self.conv2 = torch.nn.Conv2d(in_channels=512, out_channels=512, kernel_size=3, stride=1, padding=1)\n",
        "        self.bn2 = torch.nn.BatchNorm2d(512)\n",
        "        self.conv3 = torch.nn.Conv2d(in_channels=512, out_channels=512, kernel_size=3, stride=1, padding=1)\n",
        "        self.bn3 = torch.nn.BatchNorm2d(512)\n",
        "        self.pool1 = torch.nn.MaxPool2d(kernel_size=2, stride=2, padding=0)\n",
        "        self.drop1 = torch.nn.Dropout()\n",
        "        self.linear1 = torch.nn.Linear(in_features = 25088, out_features=256)\n",
        "        self.bn4 = torch.nn.BatchNorm1d(256)\n",
        "        self.drop2 = torch.nn.Dropout()\n",
        "        self.linear2 = torch.nn.Linear(in_features=256, out_features=1)\n",
        "\n",
        "    def forward(self, x):\n",
        "        x = self.bn1(F.relu(self.conv1(x)))\n",
        "        x = self.bn2(F.relu(self.conv2(x)))\n",
        "        x = self.bn3(F.relu(self.conv3(x)))\n",
        "        x = self.pool1(x)\n",
        "        x = torch.flatten(x, start_dim=1)\n",
        "        x = self.drop1(x)\n",
        "        x = self.bn4(F.relu(self.linear1(x)))\n",
        "        x = self.drop2(x)\n",
        "        x = self.linear2(x)\n",
        "\n",
        "        return x\n",
        "        "
      ],
      "metadata": {
        "id": "-9RGDHyeNXfm",
        "cellView": "form"
      },
      "execution_count": 16,
      "outputs": []
    },
    {
      "cell_type": "code",
      "source": [
        "#@title define train functions\n",
        "import torch\n",
        "import torch.nn as nn\n",
        "import torch.nn.functional as F\n",
        "import torch.optim as optim\n",
        "from torch.optim.lr_scheduler import ReduceLROnPlateau, ExponentialLR, StepLR\n",
        "import torchvision\n",
        "from torchvision import datasets, transforms, models\n",
        "import fastprogress\n",
        "import numpy as np\n",
        "import pandas as pd\n",
        "import seaborn as sns\n",
        "import matplotlib.pyplot as plt\n",
        "import time\n",
        "    \n",
        "def train(dataloader, optimizer, model, loss_fn, device, master_bar, scaler):\n",
        "    model.train()\n",
        "    epoch_loss = []\n",
        "\n",
        "    for image, target in fastprogress.progress_bar(dataloader, parent=master_bar):\n",
        "        \n",
        "        image, target = image.to(device), target.to(device)\n",
        "        target = torch.squeeze(target)\n",
        "\n",
        "        # zero gradient\n",
        "        optimizer.zero_grad()\n",
        "\n",
        "        # Forward pass\n",
        "        prediction = model.forward(image)\n",
        "        prediction = torch.squeeze(prediction)\n",
        "\n",
        "        # loss calculation\n",
        "        loss = loss_fn(prediction, target)\n",
        "\n",
        "        # Backward pass\n",
        "        scaler.scale(loss).backward() #loss.backward()\n",
        "        scaler.step(optimizer) # optimizer.step()\n",
        "        scaler.update()\n",
        "\n",
        "        # For plotting the train loss, save it for each sample\n",
        "        epoch_loss.append(np.sqrt(loss.item()))\n",
        "\n",
        "    return np.mean(epoch_loss)\n",
        "\n",
        "\n",
        "def validate(dataloader, model, loss_fn, device, master_bar):\n",
        "    model.eval()\n",
        "    epoch_loss = []\n",
        "\n",
        "    with torch.no_grad():\n",
        "        for image, target in fastprogress.progress_bar(dataloader, parent=master_bar):\n",
        "            \n",
        "            image, target = image.to(device), target.to(device)\n",
        "            target = torch.squeeze(target)\n",
        "\n",
        "            # Forward pass\n",
        "            prediction = model.forward(image)\n",
        "            prediction = torch.squeeze(prediction)\n",
        "\n",
        "            # loss calculation\n",
        "            loss = loss_fn(prediction, target)\n",
        "\n",
        "            # For plotting the train loss, save it for each sample\n",
        "            epoch_loss.append(np.sqrt(loss.item()))\n",
        "\n",
        "    return np.mean(epoch_loss)\n",
        "    \n",
        "\n",
        "def run_training(model, optimizer, scheduler, loss_fn, device, num_epochs,\n",
        "                 train_dataloader, val_dataloader, verbose, \n",
        "                 savefolder=\"training_results1\"):\n",
        "  \n",
        "    # make path to save performance measures and state dict\n",
        "    savepath = \"/content/drive/MyDrive/Colab/airbnb/data/thumbnails/thumbnails_model/\" + savefolder\n",
        "    os.mkdir(savepath)\n",
        "  \n",
        "    # technical stuff\n",
        "    start_time = time.time()\n",
        "    scaler = torch.cuda.amp.GradScaler()\n",
        "    master_bar = fastprogress.master_bar(range(num_epochs))\n",
        "\n",
        "    # instantiate losses\n",
        "    train_loss = []\n",
        "    val_loss = []\n",
        "\n",
        "    for epoch in master_bar:\n",
        "\n",
        "        # Train the model\n",
        "        epoch_train_loss = train(train_dataloader, optimizer, model, loss_fn, device, master_bar, scaler)\n",
        "        #Validate the model\n",
        "        epoch_val_loss = validate(val_dataloader, model, loss_fn, device, master_bar)\n",
        "\n",
        "        # update scheduler\n",
        "        scheduler.step()\n",
        "\n",
        "        # Save loss and acc for plotting\n",
        "        train_loss.append(epoch_train_loss)\n",
        "        val_loss.append(epoch_val_loss)\n",
        "\n",
        "        if val_loss[-1] <= np.min(val_loss):\n",
        "            torch.save(model.state_dict(), savepath + \"/checkpoint.pt\")\n",
        "            print(\"saving model...\")\n",
        "\n",
        "        if verbose:\n",
        "            master_bar.write(\n",
        "                f'Epoch: {epoch+1}, Train root mse: {epoch_train_loss:.4f}, val root mse: {epoch_val_loss:.4f}')\n",
        "            \n",
        "    np.save(savepath + \"/trainloss\", train_loss)\n",
        "    np.save(savepath + \"/valloss\", val_loss)\n",
        "            \n",
        "    time_elapsed = np.round(time.time() - start_time, 0).astype(int)\n",
        "    print(f'Finished training after {time_elapsed} seconds.')\n",
        "    return train_loss, val_loss\n",
        "    "
      ],
      "metadata": {
        "id": "EXv7vzLvXghr",
        "cellView": "form"
      },
      "execution_count": 17,
      "outputs": []
    },
    {
      "cell_type": "code",
      "source": [
        "# define feature extractor\n",
        "vgg = torchvision.models.vgg19(pretrained=True)\n",
        "feature_extractor = vgg.features[0:31]\n",
        "\n",
        "# define finalizer\n",
        "finalizer = Finalizer()\n",
        "\n",
        "# define model\n",
        "model = Model(feature_extractor=feature_extractor, finalizer=finalizer)\n",
        "model = model.to(device)\n",
        "\n",
        "# freeze parameters in feature extractor\n",
        "for name, p in model.named_parameters():\n",
        "    if \"feature_extractor\" in name:\n",
        "        p.requires_grad = False\n",
        "\n",
        "# print parameters that are optimized\n",
        "for name, param in model.named_parameters():\n",
        "    if param.requires_grad:\n",
        "        print(name)"
      ],
      "metadata": {
        "id": "fxTQlwraHN2A",
        "outputId": "7295eb51-29b0-4cf0-82c3-24b67e1f5fee",
        "colab": {
          "base_uri": "https://localhost:8080/"
        }
      },
      "execution_count": 37,
      "outputs": [
        {
          "output_type": "stream",
          "name": "stdout",
          "text": [
            "finalizer.conv1.weight\n",
            "finalizer.conv1.bias\n",
            "finalizer.bn1.weight\n",
            "finalizer.bn1.bias\n",
            "finalizer.conv2.weight\n",
            "finalizer.conv2.bias\n",
            "finalizer.bn2.weight\n",
            "finalizer.bn2.bias\n",
            "finalizer.conv3.weight\n",
            "finalizer.conv3.bias\n",
            "finalizer.bn3.weight\n",
            "finalizer.bn3.bias\n",
            "finalizer.linear1.weight\n",
            "finalizer.linear1.bias\n",
            "finalizer.bn4.weight\n",
            "finalizer.bn4.bias\n",
            "finalizer.linear2.weight\n",
            "finalizer.linear2.bias\n"
          ]
        }
      ]
    },
    {
      "cell_type": "code",
      "source": [
        "# define loss function and optimizer\n",
        "optimizer = torch.optim.Adam(model.parameters(), lr=0.001)\n",
        "scheduler = torch.optim.lr_scheduler.LambdaLR(optimizer, lr_lambda = lambda epoch: 0.1 ** (epoch // 15), \n",
        "                                              last_epoch=-1, verbose=True)\n",
        "loss_fn = torch.nn.MSELoss()"
      ],
      "metadata": {
        "id": "6BBa0Vt7G8zC",
        "outputId": "981da6c0-6e85-4007-80be-e6b8c54be911",
        "colab": {
          "base_uri": "https://localhost:8080/"
        }
      },
      "execution_count": 33,
      "outputs": [
        {
          "output_type": "stream",
          "name": "stdout",
          "text": [
            "Adjusting learning rate of group 0 to 1.0000e-03.\n"
          ]
        }
      ]
    },
    {
      "cell_type": "code",
      "source": [
        "train_loss, val_loss = run_training(model=model, optimizer=optimizer, scheduler=scheduler, loss_fn=loss_fn, device=device, num_epochs=30,\n",
        "                                    train_dataloader=train_dataloader, val_dataloader=val_dataloader, verbose=True)"
      ],
      "metadata": {
        "id": "WLE_PzsPaVyx",
        "outputId": "03ebb904-5273-42c7-dab7-f1727123e37f",
        "colab": {
          "base_uri": "https://localhost:8080/",
          "height": 1000
        }
      },
      "execution_count": 34,
      "outputs": [
        {
          "output_type": "display_data",
          "data": {
            "text/html": [
              "Train root mse: 3.9139, val root mse: 3.3287<p>Train root mse: 2.8201, val root mse: 21.1620<p>Train root mse: 1.7649, val root mse: 0.9680<p>Train root mse: 1.4584, val root mse: 1.0795<p>Train root mse: 1.3346, val root mse: 1.5316<p>Train root mse: 1.2594, val root mse: 0.7475<p>Train root mse: 1.2146, val root mse: 0.6619<p>Train root mse: 1.1233, val root mse: 0.6887<p>Train root mse: 1.0725, val root mse: 0.6381<p>Train root mse: 1.0339, val root mse: 0.6533<p>Train root mse: 0.9910, val root mse: 0.6203<p>Train root mse: 0.9644, val root mse: 0.6188<p>Train root mse: 0.9249, val root mse: 0.6408<p>Train root mse: 0.9179, val root mse: 0.6028<p>Train root mse: 0.8744, val root mse: 0.5983<p>Train root mse: 0.8569, val root mse: 0.5947<p>Train root mse: 0.8596, val root mse: 0.5955<p>Train root mse: 0.8585, val root mse: 0.5990<p>Train root mse: 0.8532, val root mse: 0.5997<p>Train root mse: 0.8394, val root mse: 0.5952<p>Train root mse: 0.8393, val root mse: 0.5958<p>Train root mse: 0.8509, val root mse: 0.5953<p>Train root mse: 0.8473, val root mse: 0.5957<p>Train root mse: 0.8464, val root mse: 0.5970<p>Train root mse: 0.8332, val root mse: 0.5914<p>Train root mse: 0.8201, val root mse: 0.5913<p>Train root mse: 0.8238, val root mse: 0.5898<p>Train root mse: 0.8279, val root mse: 0.5942<p>Train root mse: 0.8248, val root mse: 0.5898<p>Train root mse: 0.8178, val root mse: 0.5956"
            ],
            "text/plain": [
              "<IPython.core.display.HTML object>"
            ]
          },
          "metadata": {}
        },
        {
          "output_type": "stream",
          "name": "stdout",
          "text": [
            "Adjusting learning rate of group 0 to 1.0000e-03.\n",
            "saving model...\n",
            "Adjusting learning rate of group 0 to 1.0000e-03.\n",
            "Adjusting learning rate of group 0 to 1.0000e-03.\n",
            "saving model...\n",
            "Adjusting learning rate of group 0 to 1.0000e-03.\n",
            "Adjusting learning rate of group 0 to 1.0000e-03.\n",
            "Adjusting learning rate of group 0 to 1.0000e-03.\n",
            "saving model...\n",
            "Adjusting learning rate of group 0 to 1.0000e-03.\n",
            "saving model...\n",
            "Adjusting learning rate of group 0 to 1.0000e-03.\n",
            "Adjusting learning rate of group 0 to 1.0000e-03.\n",
            "saving model...\n",
            "Adjusting learning rate of group 0 to 1.0000e-03.\n",
            "Adjusting learning rate of group 0 to 1.0000e-03.\n",
            "saving model...\n",
            "Adjusting learning rate of group 0 to 1.0000e-03.\n",
            "saving model...\n",
            "Adjusting learning rate of group 0 to 1.0000e-03.\n",
            "Adjusting learning rate of group 0 to 1.0000e-03.\n",
            "saving model...\n",
            "Adjusting learning rate of group 0 to 1.0000e-04.\n",
            "saving model...\n",
            "Adjusting learning rate of group 0 to 1.0000e-04.\n",
            "saving model...\n",
            "Adjusting learning rate of group 0 to 1.0000e-04.\n",
            "Adjusting learning rate of group 0 to 1.0000e-04.\n",
            "Adjusting learning rate of group 0 to 1.0000e-04.\n",
            "Adjusting learning rate of group 0 to 1.0000e-04.\n",
            "Adjusting learning rate of group 0 to 1.0000e-04.\n",
            "Adjusting learning rate of group 0 to 1.0000e-04.\n",
            "Adjusting learning rate of group 0 to 1.0000e-04.\n",
            "Adjusting learning rate of group 0 to 1.0000e-04.\n",
            "Adjusting learning rate of group 0 to 1.0000e-04.\n",
            "saving model...\n",
            "Adjusting learning rate of group 0 to 1.0000e-04.\n",
            "saving model...\n",
            "Adjusting learning rate of group 0 to 1.0000e-04.\n",
            "saving model...\n",
            "Adjusting learning rate of group 0 to 1.0000e-04.\n",
            "Adjusting learning rate of group 0 to 1.0000e-04.\n",
            "Adjusting learning rate of group 0 to 1.0000e-05.\n",
            "Finished training after 2039 seconds.\n"
          ]
        }
      ]
    },
    {
      "cell_type": "markdown",
      "source": [
        "# 2. Evaluation"
      ],
      "metadata": {
        "id": "ew0tSnECG5vX"
      }
    },
    {
      "cell_type": "code",
      "source": [
        "result_folder = \"training_results1\"\n",
        "savepath = \"/content/drive/MyDrive/Colab/airbnb/data/thumbnails/thumbnails_model/\" + result_folder\n",
        "model.load_state_dict(torch.load(savepath + \"/checkpoint.pt\"))\n",
        "trainloss = np.load(savepath + \"/trainloss.npy\")\n",
        "valloss = np.load(savepath + \"/valloss.npy\")"
      ],
      "metadata": {
        "id": "SYdEnfY4KUvm"
      },
      "execution_count": 38,
      "outputs": []
    },
    {
      "cell_type": "code",
      "source": [
        "ys = []\n",
        "ypreds = []\n",
        "\n",
        "with torch.no_grad():\n",
        "    model = model.eval()\n",
        "\n",
        "    for x, y in tqdm(val_dataloader):\n",
        "        x = x.to(device)\n",
        "        y_pred = model(x)\n",
        "        y_pred = list(y_pred.data.cpu())\n",
        "        ypreds = ypreds + y_pred\n",
        "\n",
        "        ys = ys + list(y)"
      ],
      "metadata": {
        "id": "TD_11ZhW1-iS",
        "outputId": "7c0d7353-251c-4791-f1e2-85b694d2ffb2",
        "colab": {
          "base_uri": "https://localhost:8080/"
        }
      },
      "execution_count": 39,
      "outputs": [
        {
          "output_type": "stream",
          "name": "stderr",
          "text": [
            "100%|██████████| 14/14 [00:11<00:00,  1.23it/s]\n"
          ]
        }
      ]
    },
    {
      "cell_type": "code",
      "source": [
        "print(pearsonr(ys, ypreds))\n",
        "plt.scatter(ys, ypreds)\n",
        "plt.show()"
      ],
      "metadata": {
        "id": "vSjF4FKr3ofM",
        "outputId": "97ef62c1-b9d1-4294-f1c7-8a976128113f",
        "colab": {
          "base_uri": "https://localhost:8080/",
          "height": 282
        }
      },
      "execution_count": 40,
      "outputs": [
        {
          "output_type": "stream",
          "name": "stdout",
          "text": [
            "(0.4415669794600462, 1.414564233079546e-82)\n"
          ]
        },
        {
          "output_type": "display_data",
          "data": {
            "image/png": "[encoded data removed]",
            "text/plain": [
              "<Figure size 432x288 with 1 Axes>"
            ]
          },
          "metadata": {
            "needs_background": "light"
          }
        }
      ]
    },
    {
      "cell_type": "code",
      "source": [
        "gu.plot(\"Root-MSE during training\", \"Root-MSE\", trainloss, valloss, yscale='linear', legend=[\"Training\", \"Validation\"],\n",
        "         thinning=1, save_path=None)\n"
      ],
      "metadata": {
        "id": "QQvTEWq_2t31",
        "outputId": "d62ff3b0-941c-42af-98b7-a73b24d2e820",
        "colab": {
          "base_uri": "https://localhost:8080/",
          "height": 303
        }
      },
      "execution_count": 41,
      "outputs": [
        {
          "output_type": "display_data",
          "data": {
            "image/png": "[encoded data removed]",
            "text/plain": [
              "<Figure size 432x288 with 1 Axes>"
            ]
          },
          "metadata": {}
        }
      ]
    },
    {
      "cell_type": "markdown",
      "source": [
        "#3. Explainability"
      ],
      "metadata": {
        "id": "y40YzLXWG9gl"
      }
    },
    {
      "cell_type": "code",
      "source": [
        "model()"
      ],
      "metadata": {
        "id": "C7mmUNy3iD_H"
      },
      "execution_count": null,
      "outputs": []
    },
    {
      "cell_type": "code",
      "source": [
        "# get indices of very high and low predictions\n",
        "sorted_indices = torch.argsort(torch.tensor(ypreds))\n",
        "sorted_indices_low_prediction = sorted_indices[:5]\n",
        "sorted_indices_high_prediction = sorted_indices[-5:]\n",
        "\n"
      ],
      "metadata": {
        "id": "-67nDXULOYRT"
      },
      "execution_count": 45,
      "outputs": []
    },
    {
      "cell_type": "code",
      "source": [
        "sorted_indices_low_prediction"
      ],
      "metadata": {
        "id": "KPDujYgaiCWT",
        "outputId": "e1402ec0-ff7d-4783-d2fb-d2015e4132b6",
        "colab": {
          "base_uri": "https://localhost:8080/"
        }
      },
      "execution_count": 46,
      "outputs": [
        {
          "output_type": "execute_result",
          "data": {
            "text/plain": [
              "tensor([ 787, 1510,  198, 1372, 1180])"
            ]
          },
          "metadata": {},
          "execution_count": 46
        }
      ]
    },
    {
      "cell_type": "code",
      "source": [
        "# low prediction example\n",
        "with torch.no_grad():\n",
        "    model = model.eval()\n",
        "    print(model(val_dataset[787][0].unsqueeze(0).to(device)))"
      ],
      "metadata": {
        "id": "n08yroCviISp",
        "outputId": "50182156-eac7-43eb-941f-0d040883f2bd",
        "colab": {
          "base_uri": "https://localhost:8080/"
        }
      },
      "execution_count": 55,
      "outputs": [
        {
          "output_type": "stream",
          "name": "stdout",
          "text": [
            "tensor([[2.9044]], device='cuda:0')\n"
          ]
        }
      ]
    },
    {
      "cell_type": "code",
      "source": [
        "sorted_indices_high_prediction"
      ],
      "metadata": {
        "id": "bhwoLg44itz9",
        "outputId": "16c6bfe5-3df9-4c1e-d413-88984ba5053f",
        "colab": {
          "base_uri": "https://localhost:8080/"
        }
      },
      "execution_count": 56,
      "outputs": [
        {
          "output_type": "execute_result",
          "data": {
            "text/plain": [
              "tensor([1027,  399,  759,  680,  721])"
            ]
          },
          "metadata": {},
          "execution_count": 56
        }
      ]
    },
    {
      "cell_type": "code",
      "source": [
        "# high prediction example\n",
        "with torch.no_grad():\n",
        "    model = model.eval()\n",
        "    print(model(val_dataset[1027][0].unsqueeze(0).to(device)))"
      ],
      "metadata": {
        "id": "MtROvfFCisGo",
        "outputId": "537fd505-b800-4392-cc46-9cefd5524b13",
        "colab": {
          "base_uri": "https://localhost:8080/"
        }
      },
      "execution_count": 57,
      "outputs": [
        {
          "output_type": "stream",
          "name": "stdout",
          "text": [
            "tensor([[4.9445]], device='cuda:0')\n"
          ]
        }
      ]
    },
    {
      "cell_type": "code",
      "source": [
        "val_dataset.split[sorted_indices_low_prediction]"
      ],
      "metadata": {
        "id": "ifvnSbwAN0Zo",
        "outputId": "11c39ef5-ca08-4036-a172-8c3db82a6b6b",
        "colab": {
          "base_uri": "https://localhost:8080/"
        }
      },
      "execution_count": 58,
      "outputs": [
        {
          "output_type": "execute_result",
          "data": {
            "text/plain": [
              "array([34039746, 23106156, 13677809, 48650922,  8265848])"
            ]
          },
          "metadata": {},
          "execution_count": 58
        }
      ]
    },
    {
      "cell_type": "code",
      "source": [
        "val_dataset.split[sorted_indices_high_prediction]"
      ],
      "metadata": {
        "id": "PMfRvLJpi3o6",
        "outputId": "b10f98fb-2d07-4fe8-8e20-e3765c3e836d",
        "colab": {
          "base_uri": "https://localhost:8080/"
        }
      },
      "execution_count": 60,
      "outputs": [
        {
          "output_type": "execute_result",
          "data": {
            "text/plain": [
              "array([40650634, 13402481, 35726559, 23333753, 39225532])"
            ]
          },
          "metadata": {},
          "execution_count": 60
        }
      ]
    },
    {
      "cell_type": "code",
      "source": [
        "plt.imshow(np.transpose(val_dataset[1180][0].numpy(), (1, 2, 0)))"
      ],
      "metadata": {
        "id": "3x6dOYYqi9uP",
        "outputId": "3bfc76c5-a0ca-4656-dc46-0383de9f3abe",
        "colab": {
          "base_uri": "https://localhost:8080/",
          "height": 306
        }
      },
      "execution_count": 79,
      "outputs": [
        {
          "output_type": "stream",
          "name": "stderr",
          "text": [
            "Clipping input data to the valid range for imshow with RGB data ([0..1] for floats or [0..255] for integers).\n"
          ]
        },
        {
          "output_type": "execute_result",
          "data": {
            "text/plain": [
              "<matplotlib.image.AxesImage at 0x7f48eb858ad0>"
            ]
          },
          "metadata": {},
          "execution_count": 79
        },
        {
          "output_type": "display_data",
          "data": {
            "image/png": "[encoded data removed]",
            "text/plain": [
              "<Figure size 432x288 with 1 Axes>"
            ]
          },
          "metadata": {}
        }
      ]
    },
    {
      "cell_type": "code",
      "source": [
        "# todo make feature masks for some small handpicked images (preferrably images where predicted price was very low or high)\n",
        "feature_mask = 0"
      ],
      "metadata": {
        "id": "_7LGyT1pas5F"
      },
      "execution_count": null,
      "outputs": []
    },
    {
      "cell_type": "code",
      "source": [
        "from captum.attr import visualization as viz\n",
        "from captum.attr import FeatureAblation\n",
        "\n",
        "\n",
        "\n",
        "ablator = FeatureAblation(model)\n",
        "\n",
        "attribution_map = ablator.attribute(\n",
        "    val_dataset[0][0].unsqueeze(0).to(device),\n",
        "    target=None,  \n",
        "    feature_mask=None) # here a feature mask should be included (do not expect useful outcome without it)"
      ],
      "metadata": {
        "id": "3L844fXaHA4Y"
      },
      "execution_count": null,
      "outputs": []
    },
    {
      "cell_type": "code",
      "source": [
        "target=ypreds[0].to(device).type(torch.LongTensor)"
      ],
      "metadata": {
        "id": "efRcTeSrluhC"
      },
      "execution_count": 93,
      "outputs": []
    },
    {
      "cell_type": "code",
      "source": [
        "%debug"
      ],
      "metadata": {
        "id": "tb6Bq_HelmFU",
        "outputId": "c9c46ed1-2edf-41aa-ff38-387c3484a399",
        "colab": {
          "base_uri": "https://localhost:8080/"
        }
      },
      "execution_count": 92,
      "outputs": [
        {
          "name": "stdout",
          "output_type": "stream",
          "text": [
            "> \u001b[0;32m/usr/local/lib/python3.7/dist-packages/captum/_utils/common.py\u001b[0m(520)\u001b[0;36m_verify_select_column\u001b[0;34m()\u001b[0m\n",
            "\u001b[0;32m    518 \u001b[0;31m        \u001b[0mlen\u001b[0m\u001b[0;34m(\u001b[0m\u001b[0mtarget\u001b[0m\u001b[0;34m)\u001b[0m \u001b[0;34m<=\u001b[0m \u001b[0mlen\u001b[0m\u001b[0;34m(\u001b[0m\u001b[0moutput\u001b[0m\u001b[0;34m.\u001b[0m\u001b[0mshape\u001b[0m\u001b[0;34m)\u001b[0m \u001b[0;34m-\u001b[0m \u001b[0;36m1\u001b[0m\u001b[0;34m\u001b[0m\u001b[0;34m\u001b[0m\u001b[0m\n",
            "\u001b[0m\u001b[0;32m    519 \u001b[0;31m    ), \"Cannot choose target column with output shape %r.\" % (output.shape,)\n",
            "\u001b[0m\u001b[0;32m--> 520 \u001b[0;31m    \u001b[0;32mreturn\u001b[0m \u001b[0moutput\u001b[0m\u001b[0;34m[\u001b[0m\u001b[0;34m(\u001b[0m\u001b[0mslice\u001b[0m\u001b[0;34m(\u001b[0m\u001b[0;32mNone\u001b[0m\u001b[0;34m)\u001b[0m\u001b[0;34m,\u001b[0m \u001b[0;34m*\u001b[0m\u001b[0mtarget\u001b[0m\u001b[0;34m)\u001b[0m\u001b[0;34m]\u001b[0m\u001b[0;34m\u001b[0m\u001b[0;34m\u001b[0m\u001b[0m\n",
            "\u001b[0m\u001b[0;32m    521 \u001b[0;31m\u001b[0;34m\u001b[0m\u001b[0m\n",
            "\u001b[0m\u001b[0;32m    522 \u001b[0;31m\u001b[0;34m\u001b[0m\u001b[0m\n",
            "\u001b[0m\n",
            "ipdb> output\n",
            "tensor([[4.3204]], device='cuda:0')\n",
            "ipdb> quit\n"
          ]
        },
        {
          "output_type": "stream",
          "name": "stderr",
          "text": [
            "\n",
            "PYDEV DEBUGGER WARNING:\n",
            "sys.settrace() should not be used when the debugger is being used.\n",
            "This may cause the debugger to stop working correctly.\n",
            "If this is needed, please check: \n",
            "http://pydev.blogspot.com/2007/06/why-cant-pydev-debugger-work-with.html\n",
            "to see how to restore the debug tracing back correctly.\n",
            "Call Location:\n",
            "  File \"/usr/lib/python3.7/bdb.py\", line 357, in set_quit\n",
            "    sys.settrace(None)\n",
            "\n"
          ]
        }
      ]
    },
    {
      "cell_type": "code",
      "source": [
        "attribution_map = attribution_map.squeeze().cpu().detach().numpy()\n",
        "# adjust shape to height, width, channels \n",
        "attribution_map = np.transpose(attribution_map, (1,2,0))\n",
        "_ = captum.attr.visualization.visualize_image_attr(attribution_map,\n",
        "                             method=\"heat_map\",\n",
        "                             sign=\"all\",\n",
        "                             show_colorbar=True)"
      ],
      "metadata": {
        "id": "bYPmmtsmTwC9"
      },
      "execution_count": null,
      "outputs": []
    },
    {
      "cell_type": "code",
      "source": [
        "# plot image without some important areas \n",
        "import cv2\n",
        "\n",
        "cV2_mask = np.array(feature_mask)\n",
        "cV2_mask[feature_mask == 0] = 1\n",
        "cV2_mask[feature_mask == 1] = 0\n",
        "cV2_mask[feature_mask == 2] = 1\n",
        "cV2_mask[feature_mask == 3] = 0\n",
        "cV2_mask = np.expand_dims(cV2_mask.squeeze(), axis=2).astype(np.uint8)\n",
        "\n",
        "img_arr = np.transpose(val_dataset[0].numpy(),  (1,2,0))\n",
        "img_without_important_areas = cv2.bitwise_and(img_arr, img_arr, mask=cV2_mask)\n",
        "plt.imshow(img_without_important_areas); plt.axis('off'); plt.show()"
      ],
      "metadata": {
        "id": "aLB6d5mhaQRY"
      },
      "execution_count": null,
      "outputs": []
    },
    {
      "cell_type": "code",
      "source": [
        "# generate prediction for this ablated image\n",
        "img_tensor = torch.from_numpy(img_arr)\n",
        "img_tensor = torch.permute(img_tensor, (2, 0, 1))\n",
        "\n",
        "model(img_tensor)"
      ],
      "metadata": {
        "id": "0Ey9CfnybUrE"
      },
      "execution_count": null,
      "outputs": []
    }
  ]
}