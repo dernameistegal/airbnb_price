{
  "nbformat": 4,
  "nbformat_minor": 0,
  "metadata": {
    "colab": {
      "name": "Untitled0.ipynb",
      "provenance": [],
      "machine_shape": "hm",
      "include_colab_link": true
    },
    "kernelspec": {
      "name": "python3",
      "display_name": "Python 3"
    },
    "language_info": {
      "name": "python"
    },
    "accelerator": "GPU"
  },
  "cells": [
    {
      "cell_type": "markdown",
      "metadata": {
        "id": "view-in-github",
        "colab_type": "text"
      },
      "source": [
        "<a href=\"https://colab.research.google.com/github/dernameistegal/airbnb_price/blob/main/pictures_model.ipynb\" target=\"_parent\"><img src=\"https://colab.research.google.com/assets/colab-badge.svg\" alt=\"Open In Colab\"/></a>"
      ]
    },
    {
      "cell_type": "markdown",
      "source": [
        "# 0. Preparation"
      ],
      "metadata": {
        "id": "jbtdvB6FQgvs"
      }
    },
    {
      "cell_type": "code",
      "source": [
        "#@title remove repos from disc\n",
        "%cd /content\n",
        "!rm -r airbnb_price"
      ],
      "metadata": {
        "id": "QdOQljNz3blJ",
        "outputId": "160c769f-f631-4f0d-ee1b-367ed6029768",
        "colab": {
          "base_uri": "https://localhost:8080/"
        },
        "cellView": "form"
      },
      "execution_count": 1,
      "outputs": [
        {
          "output_type": "stream",
          "name": "stdout",
          "text": [
            "/content\n"
          ]
        }
      ]
    },
    {
      "cell_type": "code",
      "metadata": {
        "id": "DJ7o4vsf3Sn9",
        "cellView": "form",
        "outputId": "9266aa7a-57d4-4f8e-9689-17e76862635b",
        "colab": {
          "base_uri": "https://localhost:8080/"
        }
      },
      "source": [
        "#@title Clone repo\n",
        "!git clone https://github.com/dernameistegal/airbnb_price.git"
      ],
      "execution_count": 2,
      "outputs": [
        {
          "output_type": "stream",
          "name": "stdout",
          "text": [
            "Cloning into 'airbnb_price'...\n",
            "remote: Enumerating objects: 554, done.\u001b[K\n",
            "remote: Counting objects: 100% (554/554), done.\u001b[K\n",
            "remote: Compressing objects: 100% (522/522), done.\u001b[K\n",
            "remote: Total 554 (delta 291), reused 149 (delta 26), pack-reused 0\u001b[K\n",
            "Receiving objects: 100% (554/554), 3.83 MiB | 9.06 MiB/s, done.\n",
            "Resolving deltas: 100% (291/291), done.\n"
          ]
        }
      ]
    },
    {
      "cell_type": "code",
      "source": [
        "#@title add paths to library search path\n",
        "import sys \n",
        "\n",
        "sys.path.append(\"/content/airbnb_price/custom_functions\")"
      ],
      "metadata": {
        "id": "JwAoaaJGkz3k",
        "cellView": "form"
      },
      "execution_count": 3,
      "outputs": []
    },
    {
      "cell_type": "code",
      "metadata": {
        "id": "4CxkNtPCI8nl",
        "colab": {
          "base_uri": "https://localhost:8080/"
        },
        "outputId": "f6c5914b-f27d-4fdc-c07c-d7f4bb011249"
      },
      "source": [
        "#@title Imports and drive\n",
        "import os\n",
        "import torch\n",
        "import torchvision\n",
        "import pandas as pd\n",
        "import numpy as np\n",
        "import matplotlib.pyplot as plt\n",
        "import torch.nn.functional as F\n",
        "import requests\n",
        "from tqdm import tqdm\n",
        "from scipy.stats.stats import pearsonr\n",
        "!pip install captum\n",
        "from captum.attr import visualization as viz\n",
        "from captum.attr import FeatureAblation\n",
        "import cv2\n",
        "\n",
        "# own modules\n",
        "import general_utils as gu\n",
        "import picture_model_utils as pu\n",
        "\n",
        "\n",
        "\n",
        "from google.colab import drive\n",
        "\n",
        "#@title Mount drive\n",
        "drive.mount('/content/drive/', force_remount=True)"
      ],
      "execution_count": 4,
      "outputs": [
        {
          "output_type": "stream",
          "name": "stdout",
          "text": [
            "Mounted at /content/drive/\n"
          ]
        }
      ]
    },
    {
      "cell_type": "code",
      "metadata": {
        "colab": {
          "base_uri": "https://localhost:8080/"
        },
        "id": "-5FPlKWBJMWs",
        "outputId": "4228f698-e11b-4fc7-d27d-419b96cab45b",
        "cellView": "form"
      },
      "source": [
        "#@title define device\n",
        "\n",
        "# device\n",
        "device = gu.get_device()\n",
        "num_cpus = os.cpu_count()\n",
        "print(num_cpus, 'CPUs available')"
      ],
      "execution_count": 5,
      "outputs": [
        {
          "output_type": "stream",
          "name": "stdout",
          "text": [
            "cuda available: True ; cudnn available: True ; num devices: 1\n",
            "Using device Tesla P100-PCIE-16GB\n",
            "4 CPUs available\n"
          ]
        }
      ]
    },
    {
      "cell_type": "markdown",
      "source": [
        "# 1. Model thumbnail pictures"
      ],
      "metadata": {
        "id": "rmwXb1Kb46Eo"
      }
    },
    {
      "cell_type": "code",
      "source": [
        "# define train, val split\n",
        "listings = pd.read_pickle(\"/content/drive/MyDrive/Colab/airbnb/data/data1/listings_workfile.pickle\")\n",
        "trainsplit, valsplit, _ = gu.train_val_test_split(listings.index)"
      ],
      "metadata": {
        "id": "UtXc3a88KDXf"
      },
      "execution_count": 6,
      "outputs": []
    },
    {
      "cell_type": "code",
      "source": [
        "# information regarding predictor and response\n",
        "thumbnail_dir = \"/content/drive/MyDrive/Colab/airbnb/data/thumbnails/thumbnails_raw\"\n",
        "\n",
        "log_price = listings[\"log_price\"]\n",
        "log_price = log_price.to_dict()"
      ],
      "metadata": {
        "id": "-LpJcrINjJqW"
      },
      "execution_count": 7,
      "outputs": []
    },
    {
      "cell_type": "code",
      "source": [
        "# make train_dataset and val_dataset and respective dataloader with thumbnails\n",
        "train_dataset = pu.ThumbnailsDataset(thumbnail_dir=thumbnail_dir, response=log_price, split=trainsplit)\n",
        "val_dataset = pu.ThumbnailsDataset(thumbnail_dir=thumbnail_dir, response=log_price, split=valsplit)\n",
        "train_dataloader = torch.utils.data.DataLoader(train_dataset, batch_size=128, shuffle=True)\n",
        "val_dataloader = torch.utils.data.DataLoader(val_dataset, batch_size=128, shuffle=False)"
      ],
      "metadata": {
        "id": "PIqyQ8V28UMd"
      },
      "execution_count": 8,
      "outputs": []
    },
    {
      "cell_type": "code",
      "source": [
        "# calculate root mse to get reference value for model performance\n",
        "logprice = []\n",
        "for i in tqdm(range(len(val_dataset))):\n",
        "    logprice.append(val_dataset[i][1])"
      ],
      "metadata": {
        "id": "GgGq0tpD4pIy",
        "outputId": "38333315-43b6-4090-c16b-03a381d92efd",
        "colab": {
          "base_uri": "https://localhost:8080/"
        }
      },
      "execution_count": null,
      "outputs": [
        {
          "output_type": "stream",
          "name": "stderr",
          "text": [
            "100%|██████████| 1711/1711 [07:53<00:00,  3.61it/s]\n"
          ]
        }
      ]
    },
    {
      "cell_type": "code",
      "source": [
        "mean_logprice = np.mean(logprice)\n",
        "squared_error = (np.array(logprice) - mean_logprice) ** 2\n",
        "mean_squared_error = np.mean(squared_error)\n",
        "root_mean_squared_error = np.sqrt(mean_squared_error)\n",
        "root_mean_squared_error"
      ],
      "metadata": {
        "id": "gpUKnFVB6sC9",
        "outputId": "9e3213dc-5795-42b8-82ea-bde667ad604e",
        "colab": {
          "base_uri": "https://localhost:8080/"
        }
      },
      "execution_count": null,
      "outputs": [
        {
          "output_type": "execute_result",
          "data": {
            "text/plain": [
              "0.64899296"
            ]
          },
          "metadata": {},
          "execution_count": 10
        }
      ]
    },
    {
      "cell_type": "code",
      "source": [
        "#@title define models classes\n",
        "class Model(torch.nn.Module):\n",
        "    def __init__(self, feature_extractor, finalizer):\n",
        "        super().__init__()\n",
        "        self.feature_extractor = feature_extractor\n",
        "        self.finalizer = finalizer\n",
        "\n",
        "    def forward(self, x):\n",
        "        x = self.feature_extractor(x)\n",
        "        x = self.finalizer(x)\n",
        "    \n",
        "        return x\n",
        "\n",
        "    def genembeddings(self, x):\n",
        "        x = self.feature_extractor(x)\n",
        "        x = self.finalizer.genembeddings(x)\n",
        "        \n",
        "        return x\n",
        "\n",
        "class Finalizer(torch.nn.Module):\n",
        "    def __init__(self):\n",
        "        super().__init__()\n",
        "        self.conv1 = torch.nn.Conv2d(in_channels=512, out_channels=512, kernel_size=3, stride=1, padding=1)\n",
        "        self.bn1 = torch.nn.BatchNorm2d(512)\n",
        "        self.conv2 = torch.nn.Conv2d(in_channels=512, out_channels=512, kernel_size=3, stride=1, padding=1)\n",
        "        self.bn2 = torch.nn.BatchNorm2d(512)\n",
        "        self.conv3 = torch.nn.Conv2d(in_channels=512, out_channels=512, kernel_size=3, stride=1, padding=1)\n",
        "        self.bn3 = torch.nn.BatchNorm2d(512)\n",
        "        self.pool1 = torch.nn.MaxPool2d(kernel_size=2, stride=2, padding=0)\n",
        "        self.drop1 = torch.nn.Dropout()\n",
        "        self.linear1 = torch.nn.Linear(in_features = 25088, out_features=100)\n",
        "        self.bn4 = torch.nn.BatchNorm1d(100)\n",
        "        self.drop2 = torch.nn.Dropout()\n",
        "        self.linear2 = torch.nn.Linear(in_features=100, out_features=1)\n",
        "\n",
        "    def forward(self, x):\n",
        "        x = self.bn1(F.relu(self.conv1(x)))\n",
        "        x = self.bn2(F.relu(self.conv2(x)))\n",
        "        x = self.bn3(F.relu(self.conv3(x)))\n",
        "        x = self.pool1(x)\n",
        "        x = torch.flatten(x, start_dim=1)\n",
        "        x = self.drop1(x)\n",
        "        x = self.bn4(F.relu(self.linear1(x)))\n",
        "        x = self.drop2(x)\n",
        "        x = self.linear2(x)\n",
        "\n",
        "        return x\n",
        "\n",
        "    def genembeddings(self, x):\n",
        "        x = self.bn1(F.relu(self.conv1(x)))\n",
        "        x = self.bn2(F.relu(self.conv2(x)))\n",
        "        x = self.bn3(F.relu(self.conv3(x)))\n",
        "        x = self.pool1(x)\n",
        "        x = torch.flatten(x, start_dim=1)\n",
        "        x = self.drop1(x)\n",
        "        x = self.bn4(F.relu(self.linear1(x)))\n",
        "        return x\n",
        "        "
      ],
      "metadata": {
        "id": "-9RGDHyeNXfm"
      },
      "execution_count": 78,
      "outputs": []
    },
    {
      "cell_type": "code",
      "source": [
        "#@title define train functions\n",
        "import torch\n",
        "import torch.nn as nn\n",
        "import torch.nn.functional as F\n",
        "import torch.optim as optim\n",
        "from torch.optim.lr_scheduler import ReduceLROnPlateau, ExponentialLR, StepLR\n",
        "import torchvision\n",
        "from torchvision import datasets, transforms, models\n",
        "import fastprogress\n",
        "import numpy as np\n",
        "import pandas as pd\n",
        "import seaborn as sns\n",
        "import matplotlib.pyplot as plt\n",
        "import time\n",
        "    \n",
        "def train(dataloader, optimizer, model, loss_fn, device, master_bar, scaler):\n",
        "    model.train()\n",
        "    epoch_loss = []\n",
        "\n",
        "    for image, target in fastprogress.progress_bar(dataloader, parent=master_bar):\n",
        "        \n",
        "        image, target = image.to(device), target.to(device)\n",
        "        target = torch.squeeze(target)\n",
        "\n",
        "        # zero gradient\n",
        "        optimizer.zero_grad()\n",
        "\n",
        "        # Forward pass\n",
        "        prediction = model.forward(image)\n",
        "        prediction = torch.squeeze(prediction)\n",
        "\n",
        "        # loss calculation\n",
        "        loss = loss_fn(prediction, target)\n",
        "\n",
        "        # Backward pass\n",
        "        scaler.scale(loss).backward() #loss.backward()\n",
        "        scaler.step(optimizer) # optimizer.step()\n",
        "        scaler.update()\n",
        "\n",
        "        # For plotting the train loss, save it for each sample\n",
        "        epoch_loss.append(np.sqrt(loss.item()))\n",
        "\n",
        "    return np.mean(epoch_loss)\n",
        "\n",
        "\n",
        "def validate(dataloader, model, loss_fn, device, master_bar):\n",
        "    model.eval()\n",
        "    epoch_loss = []\n",
        "\n",
        "    with torch.no_grad():\n",
        "        for image, target in fastprogress.progress_bar(dataloader, parent=master_bar):\n",
        "            \n",
        "            image, target = image.to(device), target.to(device)\n",
        "            target = torch.squeeze(target)\n",
        "\n",
        "            # Forward pass\n",
        "            prediction = model.forward(image)\n",
        "            prediction = torch.squeeze(prediction)\n",
        "\n",
        "            # loss calculation\n",
        "            loss = loss_fn(prediction, target)\n",
        "\n",
        "            # For plotting the train loss, save it for each sample\n",
        "            epoch_loss.append(np.sqrt(loss.item()))\n",
        "\n",
        "    return np.mean(epoch_loss)\n",
        "    \n",
        "\n",
        "def run_training(model, optimizer, scheduler, loss_fn, device, num_epochs,\n",
        "                 train_dataloader, val_dataloader, verbose, \n",
        "                 savefolder=\"training_results1\"):\n",
        "  \n",
        "    # make path to save performance measures and state dict\n",
        "    savepath = \"/content/drive/MyDrive/Colab/airbnb/data/thumbnails/thumbnails_model/\" + savefolder\n",
        "    os.mkdir(savepath)\n",
        "  \n",
        "    # technical stuff\n",
        "    start_time = time.time()\n",
        "    scaler = torch.cuda.amp.GradScaler()\n",
        "    master_bar = fastprogress.master_bar(range(num_epochs))\n",
        "\n",
        "    # instantiate losses\n",
        "    train_loss = []\n",
        "    val_loss = []\n",
        "\n",
        "    for epoch in master_bar:\n",
        "\n",
        "        # Train the model\n",
        "        epoch_train_loss = train(train_dataloader, optimizer, model, loss_fn, device, master_bar, scaler)\n",
        "        #Validate the model\n",
        "        epoch_val_loss = validate(val_dataloader, model, loss_fn, device, master_bar)\n",
        "\n",
        "        # update scheduler\n",
        "        scheduler.step()\n",
        "\n",
        "        # Save loss and acc for plotting\n",
        "        train_loss.append(epoch_train_loss)\n",
        "        val_loss.append(epoch_val_loss)\n",
        "\n",
        "        if val_loss[-1] <= np.min(val_loss):\n",
        "            torch.save(model.state_dict(), savepath + \"/checkpoint.pt\")\n",
        "            print(\"saving model...\")\n",
        "\n",
        "        if verbose:\n",
        "            master_bar.write(\n",
        "                f'Epoch: {epoch+1}, Train root mse: {epoch_train_loss:.4f}, val root mse: {epoch_val_loss:.4f}')\n",
        "            \n",
        "    np.save(savepath + \"/trainloss\", train_loss)\n",
        "    np.save(savepath + \"/valloss\", val_loss)\n",
        "            \n",
        "    time_elapsed = np.round(time.time() - start_time, 0).astype(int)\n",
        "    print(f'Finished training after {time_elapsed} seconds.')\n",
        "    return train_loss, val_loss\n",
        "    "
      ],
      "metadata": {
        "id": "EXv7vzLvXghr",
        "cellView": "form"
      },
      "execution_count": 10,
      "outputs": []
    },
    {
      "cell_type": "code",
      "source": [
        "# define feature extractor\n",
        "vgg = torchvision.models.vgg19(pretrained=True)\n",
        "feature_extractor = vgg.features[0:31]\n",
        "\n",
        "# define finalizer\n",
        "finalizer = Finalizer()\n",
        "\n",
        "# define model\n",
        "model = Model(feature_extractor=feature_extractor, finalizer=finalizer)\n",
        "model = model.to(device)\n",
        "\n",
        "# freeze parameters in feature extractor\n",
        "for name, p in model.named_parameters():\n",
        "    if \"feature_extractor\" in name:\n",
        "        p.requires_grad = False\n",
        "\n",
        "# print parameters that are optimized\n",
        "for name, param in model.named_parameters():\n",
        "    if param.requires_grad:\n",
        "        print(name)"
      ],
      "metadata": {
        "id": "fxTQlwraHN2A",
        "outputId": "ca9148b7-729f-4b34-f920-9fae4e4d5906",
        "colab": {
          "base_uri": "https://localhost:8080/"
        }
      },
      "execution_count": 11,
      "outputs": [
        {
          "output_type": "stream",
          "name": "stdout",
          "text": [
            "finalizer.conv1.weight\n",
            "finalizer.conv1.bias\n",
            "finalizer.bn1.weight\n",
            "finalizer.bn1.bias\n",
            "finalizer.conv2.weight\n",
            "finalizer.conv2.bias\n",
            "finalizer.bn2.weight\n",
            "finalizer.bn2.bias\n",
            "finalizer.conv3.weight\n",
            "finalizer.conv3.bias\n",
            "finalizer.bn3.weight\n",
            "finalizer.bn3.bias\n",
            "finalizer.linear1.weight\n",
            "finalizer.linear1.bias\n",
            "finalizer.bn4.weight\n",
            "finalizer.bn4.bias\n",
            "finalizer.linear2.weight\n",
            "finalizer.linear2.bias\n"
          ]
        }
      ]
    },
    {
      "cell_type": "code",
      "source": [
        "# define loss function and optimizer\n",
        "optimizer = torch.optim.Adam(model.parameters(), lr=0.001)\n",
        "scheduler = torch.optim.lr_scheduler.LambdaLR(optimizer, lr_lambda = lambda epoch: 0.1 ** (epoch // 15), \n",
        "                                              last_epoch=-1, verbose=True)\n",
        "loss_fn = torch.nn.MSELoss()"
      ],
      "metadata": {
        "id": "6BBa0Vt7G8zC",
        "outputId": "a7535194-4600-48cc-cc35-44842a1e27ce",
        "colab": {
          "base_uri": "https://localhost:8080/"
        }
      },
      "execution_count": 12,
      "outputs": [
        {
          "output_type": "stream",
          "name": "stdout",
          "text": [
            "Adjusting learning rate of group 0 to 1.0000e-03.\n"
          ]
        }
      ]
    },
    {
      "cell_type": "code",
      "source": [
        "train_loss, val_loss = run_training(model=model, optimizer=optimizer, scheduler=scheduler, loss_fn=loss_fn, device=device, num_epochs=30,\n",
        "                                    train_dataloader=train_dataloader, val_dataloader=val_dataloader, verbose=True, savefolder=\"training_results_100layer\")"
      ],
      "metadata": {
        "id": "WLE_PzsPaVyx",
        "outputId": "9cc834c2-3cf8-4c3e-eced-bd4afc18004e",
        "colab": {
          "base_uri": "https://localhost:8080/",
          "height": 1000
        }
      },
      "execution_count": 14,
      "outputs": [
        {
          "output_type": "display_data",
          "data": {
            "text/html": [
              "Epoch: 1, Train root mse: 4.0256, val root mse: 3.7592<p>Epoch: 2, Train root mse: 3.4168, val root mse: 2.9642<p>Epoch: 3, Train root mse: 2.3156, val root mse: 1.5024<p>Epoch: 4, Train root mse: 1.6312, val root mse: 8.3744<p>Epoch: 5, Train root mse: 1.4202, val root mse: 1.0286<p>Epoch: 6, Train root mse: 1.3149, val root mse: 8.6218<p>Epoch: 7, Train root mse: 1.2655, val root mse: 6.1549<p>Epoch: 8, Train root mse: 1.1966, val root mse: 0.7687<p>Epoch: 9, Train root mse: 1.1359, val root mse: 34.5941<p>Epoch: 10, Train root mse: 1.1257, val root mse: 0.6822<p>Epoch: 11, Train root mse: 1.0660, val root mse: 1.6074<p>Epoch: 12, Train root mse: 1.0470, val root mse: 0.6654<p>Epoch: 13, Train root mse: 1.0059, val root mse: 0.6691<p>Epoch: 14, Train root mse: 0.9684, val root mse: 0.6205<p>Epoch: 15, Train root mse: 0.9473, val root mse: 0.6253<p>Epoch: 16, Train root mse: 0.9285, val root mse: 0.6063<p>Epoch: 17, Train root mse: 0.9349, val root mse: 0.5988<p>Epoch: 18, Train root mse: 0.9109, val root mse: 0.6018<p>Epoch: 19, Train root mse: 0.9292, val root mse: 0.5951<p>Epoch: 20, Train root mse: 0.9060, val root mse: 0.5993<p>Epoch: 21, Train root mse: 0.9032, val root mse: 0.6022<p>Epoch: 22, Train root mse: 0.9115, val root mse: 0.5992<p>Epoch: 23, Train root mse: 0.9007, val root mse: 0.5963<p>Epoch: 24, Train root mse: 0.9098, val root mse: 0.6062<p>Epoch: 25, Train root mse: 0.8933, val root mse: 0.6046<p>Epoch: 26, Train root mse: 0.9000, val root mse: 0.6017<p>Epoch: 27, Train root mse: 0.8961, val root mse: 0.5901<p>Epoch: 28, Train root mse: 0.8738, val root mse: 0.6081<p>Epoch: 29, Train root mse: 0.8841, val root mse: 0.6004<p>Epoch: 30, Train root mse: 0.8907, val root mse: 0.6155"
            ],
            "text/plain": [
              "<IPython.core.display.HTML object>"
            ]
          },
          "metadata": {}
        },
        {
          "output_type": "stream",
          "name": "stdout",
          "text": [
            "Adjusting learning rate of group 0 to 1.0000e-03.\n",
            "saving model...\n",
            "Adjusting learning rate of group 0 to 1.0000e-03.\n",
            "saving model...\n",
            "Adjusting learning rate of group 0 to 1.0000e-03.\n",
            "saving model...\n",
            "Adjusting learning rate of group 0 to 1.0000e-03.\n",
            "Adjusting learning rate of group 0 to 1.0000e-03.\n",
            "saving model...\n",
            "Adjusting learning rate of group 0 to 1.0000e-03.\n",
            "Adjusting learning rate of group 0 to 1.0000e-03.\n",
            "Adjusting learning rate of group 0 to 1.0000e-03.\n",
            "saving model...\n",
            "Adjusting learning rate of group 0 to 1.0000e-03.\n",
            "Adjusting learning rate of group 0 to 1.0000e-03.\n",
            "saving model...\n",
            "Adjusting learning rate of group 0 to 1.0000e-03.\n",
            "Adjusting learning rate of group 0 to 1.0000e-03.\n",
            "saving model...\n",
            "Adjusting learning rate of group 0 to 1.0000e-03.\n",
            "Adjusting learning rate of group 0 to 1.0000e-03.\n",
            "saving model...\n",
            "Adjusting learning rate of group 0 to 1.0000e-04.\n",
            "Adjusting learning rate of group 0 to 1.0000e-04.\n",
            "saving model...\n",
            "Adjusting learning rate of group 0 to 1.0000e-04.\n",
            "saving model...\n",
            "Adjusting learning rate of group 0 to 1.0000e-04.\n",
            "Adjusting learning rate of group 0 to 1.0000e-04.\n",
            "saving model...\n",
            "Adjusting learning rate of group 0 to 1.0000e-04.\n",
            "Adjusting learning rate of group 0 to 1.0000e-04.\n",
            "Adjusting learning rate of group 0 to 1.0000e-04.\n",
            "Adjusting learning rate of group 0 to 1.0000e-04.\n",
            "Adjusting learning rate of group 0 to 1.0000e-04.\n",
            "Adjusting learning rate of group 0 to 1.0000e-04.\n",
            "Adjusting learning rate of group 0 to 1.0000e-04.\n",
            "Adjusting learning rate of group 0 to 1.0000e-04.\n",
            "saving model...\n",
            "Adjusting learning rate of group 0 to 1.0000e-04.\n",
            "Adjusting learning rate of group 0 to 1.0000e-04.\n",
            "Adjusting learning rate of group 0 to 1.0000e-05.\n",
            "Finished training after 3852 seconds.\n"
          ]
        }
      ]
    },
    {
      "cell_type": "markdown",
      "source": [
        "# 2. Evaluation"
      ],
      "metadata": {
        "id": "ew0tSnECG5vX"
      }
    },
    {
      "cell_type": "code",
      "source": [
        "result_folder = \"training_results_100layer\"\n",
        "savepath = \"/content/drive/MyDrive/Colab/airbnb/data/thumbnails/thumbnails_model/\" + result_folder\n",
        "model.load_state_dict(torch.load(savepath + \"/checkpoint.pt\"))\n",
        "trainloss = np.load(savepath + \"/trainloss.npy\")\n",
        "valloss = np.load(savepath + \"/valloss.npy\")"
      ],
      "metadata": {
        "id": "SYdEnfY4KUvm"
      },
      "execution_count": 115,
      "outputs": []
    },
    {
      "cell_type": "code",
      "source": [
        "ys = []\n",
        "ypreds = []\n",
        "\n",
        "with torch.no_grad():\n",
        "    model = model.eval()\n",
        "\n",
        "    for x, y in tqdm(val_dataloader):\n",
        "        x = x.to(device)\n",
        "        y_pred = model(x)\n",
        "        y_pred = list(y_pred.data.cpu())\n",
        "        ypreds = ypreds + y_pred\n",
        "\n",
        "        ys = ys + list(y)"
      ],
      "metadata": {
        "id": "TD_11ZhW1-iS",
        "outputId": "dfb937bb-df34-4518-d2a9-445c91f7d0c4",
        "colab": {
          "base_uri": "https://localhost:8080/"
        }
      },
      "execution_count": 116,
      "outputs": [
        {
          "output_type": "stream",
          "name": "stderr",
          "text": [
            "100%|██████████| 14/14 [00:09<00:00,  1.45it/s]\n"
          ]
        }
      ]
    },
    {
      "cell_type": "code",
      "source": [
        "print(pearsonr(ys, ypreds))\n",
        "plt.scatter(ys, ypreds)\n",
        "plt.show()"
      ],
      "metadata": {
        "id": "vSjF4FKr3ofM",
        "outputId": "77c97668-977b-471c-aa17-64a7e26eea10",
        "colab": {
          "base_uri": "https://localhost:8080/",
          "height": 285
        }
      },
      "execution_count": 117,
      "outputs": [
        {
          "output_type": "stream",
          "name": "stdout",
          "text": [
            "(0.4439039920494887, 1.5601451775644161e-83)\n"
          ]
        },
        {
          "output_type": "display_data",
          "data": {
            "image/png": "[encoded data removed]",
            "text/plain": [
              "<Figure size 432x288 with 1 Axes>"
            ]
          },
          "metadata": {}
        }
      ]
    },
    {
      "cell_type": "code",
      "source": [
        "gu.plot(\"Root-MSE during training\", \"Root-MSE\", trainloss, valloss, yscale='linear', legend=[\"Training\", \"Validation\"],\n",
        "         thinning=1, save_path=None)\n"
      ],
      "metadata": {
        "id": "QQvTEWq_2t31",
        "outputId": "ad8e27a3-d181-46ed-a44b-3ab348f41fb1",
        "colab": {
          "base_uri": "https://localhost:8080/",
          "height": 303
        }
      },
      "execution_count": 118,
      "outputs": [
        {
          "output_type": "display_data",
          "data": {
            "image/png": "[encoded data removed]",
            "text/plain": [
              "<Figure size 432x288 with 1 Axes>"
            ]
          },
          "metadata": {}
        }
      ]
    },
    {
      "cell_type": "markdown",
      "source": [
        "#3. Explainability"
      ],
      "metadata": {
        "id": "y40YzLXWG9gl"
      }
    },
    {
      "cell_type": "code",
      "source": [
        "# get indices of very high and low predictions\n",
        "np.random.seed(1)\n",
        "sorted_indices = torch.argsort(torch.tensor(ypreds))\n",
        "sorted_indices_low_prediction = sorted_indices[:3]\n",
        "sorted_indices_high_prediction = sorted_indices[-3:]\n",
        "sorted_indices_random_prediction = np.random.choice(sorted_indices, size=10, replace=False, p=None)\n",
        "\n",
        "print(\"indices lowest 3 predictions: \", val_dataset.split[sorted_indices_low_prediction])\n",
        "print(\"indices highest 3 predictions: \", val_dataset.split[sorted_indices_high_prediction])\n",
        "print(\"indices 10 random predictions: \", val_dataset.split[sorted_indices_random_prediction])\n",
        "\n",
        "\n"
      ],
      "metadata": {
        "id": "-67nDXULOYRT",
        "outputId": "78f917cd-74fd-435b-a551-766b2f108677",
        "colab": {
          "base_uri": "https://localhost:8080/"
        }
      },
      "execution_count": 206,
      "outputs": [
        {
          "output_type": "stream",
          "name": "stdout",
          "text": [
            "indices lowest 3 predictions:  [23106156 48650922 18608895]\n",
            "indices highest 3 predictions:  [15709168 51704242 43722955]\n",
            "indices 10 random predictions:  Int64Index([49138135, 16919588, 52929748, 21147294,  9398230, 49648865,\n",
            "            11654647,  3082172, 49647330, 36027297],\n",
            "           dtype='int64')\n"
          ]
        }
      ]
    },
    {
      "cell_type": "code",
      "source": [
        "# low prediction example\n",
        "with torch.no_grad():\n",
        "    model = model.eval()\n",
        "    print(model(val_dataset[198][0].unsqueeze(0).to(device)))"
      ],
      "metadata": {
        "id": "n08yroCviISp",
        "outputId": "5394da2d-ccf7-4c4d-b1d5-f9a66368ba8e",
        "colab": {
          "base_uri": "https://localhost:8080/"
        }
      },
      "execution_count": 57,
      "outputs": [
        {
          "output_type": "stream",
          "name": "stdout",
          "text": [
            "tensor([[2.9856]], device='cuda:0')\n"
          ]
        }
      ]
    },
    {
      "cell_type": "code",
      "source": [
        "# high prediction example\n",
        "with torch.no_grad():\n",
        "    model = model.eval()\n",
        "    print(model(val_dataset[255][0].unsqueeze(0).to(device)))"
      ],
      "metadata": {
        "id": "MtROvfFCisGo",
        "outputId": "6f0fca19-6314-4deb-b1a1-a45c67d9524b",
        "colab": {
          "base_uri": "https://localhost:8080/"
        }
      },
      "execution_count": 123,
      "outputs": [
        {
          "output_type": "stream",
          "name": "stdout",
          "text": [
            "tensor([[4.9120]], device='cuda:0')\n"
          ]
        }
      ]
    },
    {
      "cell_type": "code",
      "source": [
        "val_dataset.split[sorted_indices_low_prediction]"
      ],
      "metadata": {
        "id": "ifvnSbwAN0Zo",
        "outputId": "691952c7-c8c1-4ef1-8b1b-702c16fa4235",
        "colab": {
          "base_uri": "https://localhost:8080/"
        }
      },
      "execution_count": 129,
      "outputs": [
        {
          "output_type": "execute_result",
          "data": {
            "text/plain": [
              "array([23106156, 48650922, 18608895, 16892715, 45798021])"
            ]
          },
          "metadata": {},
          "execution_count": 129
        }
      ]
    },
    {
      "cell_type": "code",
      "source": [
        "val_dataset.split[sorted_indices_high_prediction]"
      ],
      "metadata": {
        "id": "PMfRvLJpi3o6",
        "outputId": "c867b67d-dc39-4ecb-eb63-cb0bda964c19",
        "colab": {
          "base_uri": "https://localhost:8080/"
        }
      },
      "execution_count": 130,
      "outputs": [
        {
          "output_type": "execute_result",
          "data": {
            "text/plain": [
              "array([48437089, 48437178, 15709168, 51704242, 43722955])"
            ]
          },
          "metadata": {},
          "execution_count": 130
        }
      ]
    },
    {
      "cell_type": "code",
      "source": [
        "plt.imshow(np.transpose(val_dataset[1205][0].numpy(), (1, 2, 0)))"
      ],
      "metadata": {
        "id": "3x6dOYYqi9uP",
        "outputId": "2687e963-3ea6-4f51-e940-cb23d3ba8a6b",
        "colab": {
          "base_uri": "https://localhost:8080/",
          "height": 306
        }
      },
      "execution_count": 195,
      "outputs": [
        {
          "output_type": "stream",
          "name": "stderr",
          "text": [
            "Clipping input data to the valid range for imshow with RGB data ([0..1] for floats or [0..255] for integers).\n"
          ]
        },
        {
          "output_type": "execute_result",
          "data": {
            "text/plain": [
              "<matplotlib.image.AxesImage at 0x7f8dc9325c50>"
            ]
          },
          "metadata": {},
          "execution_count": 195
        },
        {
          "output_type": "display_data",
          "data": {
            "image/png": "[encoded data removed]",
            "text/plain": [
              "<Figure size 432x288 with 1 Axes>"
            ]
          },
          "metadata": {}
        }
      ]
    },
    {
      "cell_type": "code",
      "source": [
        "def generate_heatmap(feature_mask_path, model):\n",
        "    feature_mask = np.load(feature_mask_path)\n",
        "    feature_mask = torch.tensor(feature_mask)\n",
        "\n",
        "    ablator = FeatureAblation(model)\n",
        "\n",
        "    attribution_map = ablator.attribute(val_dataset[1510][0].unsqueeze(0).to(device), # npload here based on featuremaskpath\n",
        "                                        target=None,  \n",
        "                                        feature_mask=feature_mask.to(device))\n",
        "\n"
      ],
      "metadata": {
        "id": "_7LGyT1pas5F"
      },
      "execution_count": 165,
      "outputs": []
    },
    {
      "cell_type": "code",
      "source": [
        "feature_mask = np.load(\"/content/drive/MyDrive/Colab/airbnb/data/thumbnails/thumbnails_labeled/23106156.npy\")"
      ],
      "metadata": {
        "id": "k37bf9sj59AE"
      },
      "execution_count": null,
      "outputs": []
    },
    {
      "cell_type": "code",
      "source": [
        "attribution_map = attribution_map.squeeze().cpu().detach().numpy()\n",
        "attribution_map = np.transpose(attribution_map, (1,2,0))\n",
        "_ = viz.visualize_image_attr(attribution_map,\n",
        "                             method=\"heat_map\",\n",
        "                             sign=\"all\",\n",
        "                             show_colorbar=True)"
      ],
      "metadata": {
        "id": "bYPmmtsmTwC9",
        "outputId": "3aeeff80-9080-4522-faf9-8a6d8a6c5371",
        "colab": {
          "base_uri": "https://localhost:8080/",
          "height": 377
        }
      },
      "execution_count": 176,
      "outputs": [
        {
          "output_type": "display_data",
          "data": {
            "image/png": "[encoded data removed]",
            "text/plain": [
              "<Figure size 432x432 with 2 Axes>"
            ]
          },
          "metadata": {}
        }
      ]
    },
    {
      "cell_type": "code",
      "source": [
        "# plot image without some important areas \n",
        "\n",
        "cV2_mask = np.array(feature_mask)\n",
        "cV2_mask[feature_mask == 1] = 0\n",
        "cV2_mask[feature_mask == 2] = 1\n",
        "cV2_mask[feature_mask == 3] = 1\n",
        "cV2_mask[feature_mask == 4] = 1\n",
        "cV2_mask[feature_mask == 5] = 1\n",
        "cV2_mask[feature_mask == 6] = 1\n",
        "cV2_mask = np.expand_dims(cV2_mask.squeeze(), axis=2).astype(np.uint8)\n",
        "\n",
        "img_arr = np.load(\"/content/drive/MyDrive/Colab/airbnb/data/thumbnails/thumbnails_raw/thumbnail23106156.npy\")\n",
        "img_without_important_areas = cv2.bitwise_and(img_arr, img_arr, mask=cV2_mask)\n",
        "plt.imshow(img_without_important_areas); plt.axis('off'); plt.show()"
      ],
      "metadata": {
        "id": "aLB6d5mhaQRY",
        "outputId": "cb358744-6841-4f0b-939f-cb656bc474e0",
        "colab": {
          "base_uri": "https://localhost:8080/",
          "height": 248
        }
      },
      "execution_count": 187,
      "outputs": [
        {
          "output_type": "display_data",
          "data": {
            "image/png": "[encoded data removed]",
            "text/plain": [
              "<Figure size 432x288 with 1 Axes>"
            ]
          },
          "metadata": {}
        }
      ]
    },
    {
      "cell_type": "code",
      "source": [
        "import torchvision.transforms as T\n",
        "img_to_vgg_input = T.Compose([\n",
        " T.ToTensor(),\n",
        " T.Normalize(\n",
        "     mean=[0.485, 0.456, 0.406],\n",
        "     std=[0.229, 0.224, 0.225]\n",
        " )    \n",
        "])"
      ],
      "metadata": {
        "id": "NpI1Kcejf4uT"
      },
      "execution_count": 188,
      "outputs": []
    },
    {
      "cell_type": "code",
      "source": [
        "# generate prediction for ablated image\n",
        "img_tensor = img_to_vgg_input(img_without_important_areas)\n",
        "img_tensor = torch.unsqueeze(img_tensor, 0).to(device)\n",
        "\n",
        "model(img_tensor)"
      ],
      "metadata": {
        "id": "0Ey9CfnybUrE",
        "outputId": "1f827a35-8ef2-475b-add1-ee1acc3a0e76",
        "colab": {
          "base_uri": "https://localhost:8080/"
        }
      },
      "execution_count": 189,
      "outputs": [
        {
          "output_type": "execute_result",
          "data": {
            "text/plain": [
              "tensor([[3.7397]], device='cuda:0', grad_fn=<AddmmBackward0>)"
            ]
          },
          "metadata": {},
          "execution_count": 189
        }
      ]
    },
    {
      "cell_type": "code",
      "source": [
        "# generate prediction for original image\n",
        "with torch.no_grad():\n",
        "    model = model.eval()\n",
        "    print(model(val_dataset[1510][0].unsqueeze(0).to(device)))"
      ],
      "metadata": {
        "id": "Zt-iIYwn-ZeF",
        "outputId": "110be8eb-a7d6-4d29-ded6-37ba60a2872f",
        "colab": {
          "base_uri": "https://localhost:8080/"
        }
      },
      "execution_count": 190,
      "outputs": [
        {
          "output_type": "stream",
          "name": "stdout",
          "text": [
            "tensor([[2.5207]], device='cuda:0')\n"
          ]
        }
      ]
    },
    {
      "cell_type": "markdown",
      "source": [
        "# 4. Generate Embeddings"
      ],
      "metadata": {
        "id": "VOZs2pmJL5xH"
      }
    },
    {
      "cell_type": "code",
      "source": [
        "# load model\n",
        "# define feature extractor\n",
        "vgg = torchvision.models.vgg19(pretrained=True)\n",
        "feature_extractor = vgg.features[0:31]\n",
        "\n",
        "# define finalizer\n",
        "finalizer = Finalizer()\n",
        "\n",
        "# define model\n",
        "model = Model(feature_extractor=feature_extractor, finalizer=finalizer)\n",
        "model = model.to(device)\n",
        "\n",
        "# load statedict\n",
        "result_folder = \"training_results_100layer\"\n",
        "savepath = \"/content/drive/MyDrive/Colab/airbnb/data/thumbnails/thumbnails_model/\" + result_folder\n",
        "model.load_state_dict(torch.load(savepath + \"/checkpoint.pt\"))\n",
        "\n",
        "# make dataset which contains all the data first\n",
        "listings = pd.read_pickle(\"/content/drive/MyDrive/Colab/airbnb/data/data1/listings_workfile.pickle\")\n",
        "listings_index = listings.index\n",
        "listings_index = pd.Series(listings_index, index = listings_index)\n",
        "listings_index = listings_index.to_dict()\n",
        "\n",
        "dataset = pu.ThumbnailsDataset(thumbnail_dir=thumbnail_dir, response=listings_index, split=listings.index)\n",
        "\n",
        "# make dataloader with all the data\n",
        "loader = torch.utils.data.DataLoader(dataset, shuffle=False, num_workers=2, batch_size=128)\n",
        "\n",
        "# generate embeddings\n",
        "embeddings = torch.empty((len(dataset), 100))\n",
        "model.eval()\n",
        "start = 0\n",
        "indices = []\n",
        "with torch.no_grad():\n",
        "    for pic, index in tqdm(loader):\n",
        "        \n",
        "        pic = pic.to(device)\n",
        "        embedding = model.genembeddings(pic)\n",
        "        embedding = embedding.detach().cpu()\n",
        "        stop = start + len(pic)\n",
        "        embeddings[start:stop] = embedding\n",
        "        start = stop\n",
        "        indices = indices + list(index.numpy())\n",
        "# save embeddings in pandas dataframe\n",
        "indices = [int(index[0]) for index in indices]\n",
        "df = pd.Series(embeddings.numpy().tolist(), name=\"thumbnails\", index=indices)\n",
        "path = \"/content/drive/MyDrive/Colab/airbnb/data/embeddings/thumbnails.pickle\"\n",
        "df.to_pickle(path)"
      ],
      "metadata": {
        "id": "5aWaoUtDL9Kd",
        "outputId": "1afee158-5281-4875-d768-d1118b2f72eb",
        "colab": {
          "base_uri": "https://localhost:8080/"
        }
      },
      "execution_count": 208,
      "outputs": [
        {
          "output_type": "stream",
          "name": "stderr",
          "text": [
            "100%|██████████| 90/90 [00:35<00:00,  2.56it/s]\n"
          ]
        }
      ]
    }
  ]
}