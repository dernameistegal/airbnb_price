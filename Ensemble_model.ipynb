{
  "cells": [
    {
      "cell_type": "markdown",
      "metadata": {
        "id": "view-in-github",
        "colab_type": "text"
      },
      "source": [
        "<a href=\"https://colab.research.google.com/github/dernameistegal/airbnb_price/blob/main/Ensemble_model.ipynb\" target=\"_parent\"><img src=\"https://colab.research.google.com/assets/colab-badge.svg\" alt=\"Open In Colab\"/></a>"
      ]
    },
    {
      "cell_type": "markdown",
      "source": [
        "#Model Descriptions"
      ],
      "metadata": {
        "id": "XlqDyKsuVdCa"
      }
    },
    {
      "cell_type": "code",
      "source": [
        "!rm -r airbnb_price"
      ],
      "metadata": {
        "id": "MzNY5F9pjBYs"
      },
      "execution_count": 3,
      "outputs": []
    },
    {
      "cell_type": "code",
      "source": [
        "!git clone https://github.com/dernameistegal/airbnb_price.git"
      ],
      "metadata": {
        "colab": {
          "base_uri": "https://localhost:8080/"
        },
        "id": "LPxhl9jSVd1z",
        "outputId": "905fe74e-6510-49f2-a30a-11e7b40b3a36"
      },
      "execution_count": 4,
      "outputs": [
        {
          "output_type": "stream",
          "name": "stdout",
          "text": [
            "Cloning into 'airbnb_price'...\n",
            "remote: Enumerating objects: 1382, done.\u001b[K\n",
            "remote: Counting objects: 100% (1382/1382), done.\u001b[K\n",
            "remote: Compressing objects: 100% (1306/1306), done.\u001b[K\n",
            "remote: Total 1382 (delta 818), reused 352 (delta 66), pack-reused 0\u001b[K\n",
            "Receiving objects: 100% (1382/1382), 11.72 MiB | 12.00 MiB/s, done.\n",
            "Resolving deltas: 100% (818/818), done.\n"
          ]
        }
      ]
    },
    {
      "cell_type": "code",
      "source": [
        "#@title also import libraries\n",
        "%cd airbnb_price\n",
        "import sys\n",
        "sys.path.append(\"/content/airbnb_price/custom_functions\")\n",
        "sys.path.append(\"/content/airbnb_price/models\")\n",
        "from ensemble_model import EnsembleModel2, EnsembleDataset2\n",
        "import train_ensemble2 as train\n",
        "import general_utils as ut\n",
        "device = ut.get_device()"
      ],
      "metadata": {
        "colab": {
          "base_uri": "https://localhost:8080/"
        },
        "id": "c1rK8zOtVoMG",
        "outputId": "111485af-38c4-408e-acdf-7ffe02a647b6",
        "cellView": "form"
      },
      "execution_count": 5,
      "outputs": [
        {
          "output_type": "stream",
          "name": "stdout",
          "text": [
            "/content/airbnb_price\n",
            "cuda available: True ; cudnn available: True ; num devices: 1\n",
            "Using device Tesla P100-PCIE-16GB\n"
          ]
        }
      ]
    },
    {
      "cell_type": "code",
      "execution_count": 6,
      "metadata": {
        "id": "it5JOetS6sgI",
        "colab": {
          "base_uri": "https://localhost:8080/"
        },
        "outputId": "daeb9471-add9-4efa-abf6-7ab006f0c683",
        "cellView": "form"
      },
      "outputs": [
        {
          "output_type": "stream",
          "name": "stderr",
          "text": [
            "/usr/local/lib/python3.7/dist-packages/statsmodels/tools/_testing.py:19: FutureWarning: pandas.util.testing is deprecated. Use the functions in the public API at pandas.testing instead.\n",
            "  import pandas.util.testing as tm\n"
          ]
        },
        {
          "output_type": "stream",
          "name": "stdout",
          "text": [
            "Mounted at /content/drive\n"
          ]
        }
      ],
      "source": [
        "#@title Import libraries\n",
        "import numpy as np\n",
        "import pandas as pd\n",
        "import seaborn as sns\n",
        "import matplotlib.pyplot as plt\n",
        "from tqdm import tqdm\n",
        "import fastprogress\n",
        "from sklearn.model_selection import train_test_split\n",
        "from torch.utils.data import TensorDataset, DataLoader\n",
        "import torch.nn as nn\n",
        "import torch\n",
        "from torch.nn import CrossEntropyLoss\n",
        "import torch.nn.functional as F\n",
        "import json\n",
        "from scipy.stats.stats import pearsonr\n",
        "import matplotlib.pyplot as plt\n",
        "import sklearn\n",
        "from sklearn import linear_model\n",
        "import pandas as pd\n",
        "from sklearn.linear_model import LinearRegression\n",
        "import statsmodels.api as sm\n",
        "from scipy import stats\n",
        "\n",
        "from google.colab import drive\n",
        "drive.mount('/content/drive', force_remount=True)"
      ]
    },
    {
      "cell_type": "markdown",
      "metadata": {
        "id": "hu-hKzYgFvZJ"
      },
      "source": [
        "# Data Loading"
      ]
    },
    {
      "cell_type": "code",
      "source": [
        "desc = pd.read_pickle(\"/content/drive/MyDrive/Colab/airbnb/data/embeddings/descriptions.pickle\")\n",
        "rev = pd.read_pickle(\"/content/drive/MyDrive/Colab/airbnb/data/embeddings/reviews.pickle\")\n",
        "thumb = pd.read_pickle(\"/content/drive/MyDrive/Colab/airbnb/data/embeddings/thumbnails.pickle\")\n",
        "features = pd.read_pickle(\"/content/drive/MyDrive/Colab/airbnb/data/data1/listings_embeddedcats.pickle\")\n",
        "with open(\"/content/drive/MyDrive/Colab/airbnb/data/data1/catdict.json\", \"r\") as f:\n",
        "    catlist = json.load(f)"
      ],
      "metadata": {
        "id": "WZYdm_QkeJ86"
      },
      "execution_count": 7,
      "outputs": []
    },
    {
      "cell_type": "code",
      "source": [
        "# if you want to set desc, rev and thumb to zero for performance comparison, run this chunk\n",
        "\n",
        "# for i in range(len(desc)):\n",
        "#     desc.iloc[i] = [0 for i in range(len(desc.iloc[0]))]\n",
        "\n",
        "# for i in range(len(rev)):\n",
        "#     rev.iloc[i] = [0 for i in range(len(rev.iloc[0]))]\n",
        "\n",
        "# for i in range(len(thumb)):\n",
        "#     thumb.iloc[i] = [0 for i in range(len(thumb.iloc[0]))]"
      ],
      "metadata": {
        "id": "De9fLstPb1HD"
      },
      "execution_count": 8,
      "outputs": []
    },
    {
      "cell_type": "code",
      "source": [
        "logprice = features[\"log_price\"]"
      ],
      "metadata": {
        "id": "s0fwindkmVyq"
      },
      "execution_count": 9,
      "outputs": []
    },
    {
      "cell_type": "code",
      "source": [
        "selected_features = np.load(\"/content/drive/MyDrive/Colab/airbnb/data/feature_selection/selected_features2.npy\", allow_pickle=True)\n",
        "selected_features = (set(selected_features) & set(features.columns)) | (set(['neighbourhood_cleansed', 'property_type', 'room_type', \"lang\"]))\n",
        "features = features[selected_features]"
      ],
      "metadata": {
        "id": "83GSXtmPcYSB"
      },
      "execution_count": 10,
      "outputs": []
    },
    {
      "cell_type": "code",
      "source": [
        "# if you want to set all values of tabular variables to 0 (use only unstructured data), run this\n",
        "# features.loc[:, :] = 0"
      ],
      "metadata": {
        "id": "bBJVvIOncdSV"
      },
      "execution_count": 11,
      "outputs": []
    },
    {
      "cell_type": "code",
      "source": [
        "desc = pd.DataFrame(desc)\n",
        "thumb = pd.DataFrame(thumb)\n",
        "rev = pd.DataFrame(rev)\n",
        "logprice = pd.DataFrame(logprice)"
      ],
      "metadata": {
        "id": "EzRmzUm9x_yN"
      },
      "execution_count": 12,
      "outputs": []
    },
    {
      "cell_type": "code",
      "source": [
        "data = pd.concat([thumb, desc, rev, features, logprice], axis=1)"
      ],
      "metadata": {
        "id": "gUduHBgwrgG0"
      },
      "execution_count": 13,
      "outputs": []
    },
    {
      "cell_type": "markdown",
      "source": [
        "# define which of the (possibly 7) data columns are treated as categories"
      ],
      "metadata": {
        "id": "T0GvHOX43pOk"
      }
    },
    {
      "cell_type": "code",
      "source": [
        "# choose to exclude some columns from the cat_cols\n",
        "cat_cols_regular = ['neighbourhood_cleansed', \n",
        "                    'property_type', \n",
        "                    'room_type', \n",
        "                    'lang', \n",
        "                    \"availability_30\", \n",
        "                    \"accommodates\", \n",
        "                    \"bedrooms\"]\n",
        "\n",
        "cat_cols_exclude = [#'neighbourhood_cleansed', \n",
        "                    #'property_type', \n",
        "                    #'room_type', \n",
        "                    'lang', \n",
        "                    #\"availability_30\", \n",
        "                    \"accommodates\", \n",
        "                    \"bedrooms\"\n",
        "                    ]\n",
        "\n",
        "\n",
        "# if only use unstructured data also exclude lang, accommodates and bedrooms\n",
        "\n",
        "cat_cols = cat_cols_regular.copy()\n",
        "for x in cat_cols_exclude:\n",
        "    cat_cols.remove(x)\n",
        "\n",
        "rm_list = []\n",
        "for i, col in enumerate(cat_cols_regular):\n",
        "    if col in set(cat_cols_exclude):\n",
        "        rm_list.append(i)\n",
        "\n",
        "for i in rm_list[::-1]:\n",
        "    del catlist[i]\n",
        "\n",
        "to_replace = pd.read_pickle(\"/content/drive/MyDrive/Colab/airbnb/data/data1/listings_workfile.pickle\")\n",
        "\n",
        "if \"neighbourhood_cleansed\" in cat_cols_exclude:\n",
        "    cat_cols_exclude.remove(\"neighbourhood_cleansed\")\n",
        "    data.loc[:, \"neighbourhood_cleansed_Simmering\"] = to_replace[\"neighbourhood_cleansed_Simmering\"]\n",
        "    data.loc[:, \"neighbourhood_cleansed_Brigittenau\"] = to_replace[\"neighbourhood_cleansed_Brigittenau\"]\n",
        "    data.loc[:, \"neighbourhood_cleansed_Ottakring\"] =  to_replace[\"neighbourhood_cleansed_Ottakring\"]\n",
        "    data.loc[:, \"neighbourhood_cleansed_W\\x8ahring\"] =  to_replace[\"neighbourhood_cleansed_W\\x8ahring\"]\n",
        "    data.loc[:, \"neighbourhood_cleansed_Wieden\"] =  to_replace[\"neighbourhood_cleansed_Wieden\"]\n",
        "    data.loc[:, \"neighbourhood_cleansed_Hietzing\"] =  to_replace[\"neighbourhood_cleansed_Hietzing\"]\n",
        "    data.loc[:, \"neighbourhood_cleansed_Innere Stadt\"] =  to_replace[\"neighbourhood_cleansed_Innere Stadt\"]\n",
        "    data = data.drop(\"neighbourhood_cleansed\", axis=1)\n",
        "\n",
        "if \"property_type\" in cat_cols_exclude:\n",
        "    cat_cols_exclude.remove(\"property_type\")\n",
        "    data.loc[:, \"property_type_shared_room\"] =  to_replace[\"property_type_shared_room\"]\n",
        "    data.loc[:, \"property_type_private_room\"] =  to_replace[\"property_type_private_room\"]\n",
        "    data = data.drop(\"property_type\", axis=1)\n",
        "\n",
        "if \"room_type\" in cat_cols_exclude:\n",
        "    cat_cols_exclude.remove(\"room_type\")\n",
        "    data.loc[:, \"room_Private room\"] =  to_replace[\"room_Private room\"]\n",
        "    data.loc[:, \"room_Shared room\"] =  to_replace[\"room_Shared room\"]   \n",
        "    data = data.drop(\"room_type\", axis=1)\n",
        "\n",
        "if \"lang\" in cat_cols_exclude:\n",
        "    cat_cols_exclude.remove(\"lang\")\n",
        "    data = data.drop(\"lang\", axis=1)\n",
        "\n",
        "data.loc[:, cat_cols_exclude] = to_replace[cat_cols_exclude]"
      ],
      "metadata": {
        "id": "YOSpxARL4FRQ"
      },
      "execution_count": 14,
      "outputs": []
    },
    {
      "cell_type": "code",
      "source": [
        "train_ids, val_ids, test_ids = ut.train_val_test_split(data.index)\n",
        "traindf, valdf, testdf = data.loc[train_ids], data.loc[val_ids], data.loc[test_ids]"
      ],
      "metadata": {
        "id": "rdLu5CuEsLPz"
      },
      "execution_count": 15,
      "outputs": []
    },
    {
      "cell_type": "markdown",
      "metadata": {
        "id": "8vuwkaCRkYLL"
      },
      "source": [
        "\n",
        "#Training full model\n"
      ]
    },
    {
      "cell_type": "code",
      "source": [
        "# create dataloaders\n",
        "trainset = EnsembleDataset2(traindf, [\"thumbnails\"], [\"descriptions\"], [\"reviews\"], cat_cols, [\"log_price\"])\n",
        "valset = EnsembleDataset2(valdf, [\"thumbnails\"], [\"descriptions\"], [\"reviews\"], cat_cols, [\"log_price\"])\n",
        "testset = EnsembleDataset2(testdf, [\"thumbnails\"], [\"descriptions\"], [\"reviews\"], cat_cols, [\"log_price\"])\n",
        "\n",
        "b = 128\n",
        "trainloader = DataLoader(trainset, shuffle=True, num_workers=2, batch_size=b)\n",
        "valloader = DataLoader(valset, shuffle=False, num_workers=2, batch_size=b)\n",
        "testloader = DataLoader(testset, shuffle=False, num_workers=2, batch_size=b)"
      ],
      "metadata": {
        "id": "TrU-2cSxQekK"
      },
      "execution_count": 28,
      "outputs": []
    },
    {
      "cell_type": "code",
      "source": [
        "no_of_thumb = 100\n",
        "no_of_desc = 100\n",
        "no_of_rev = 100\n",
        "no_of_cont = len(traindf.columns) - 3 - 1 - len(catlist)  # -3 for thumb, desc and rev, -1 for price, last term to subtract cat cols\n",
        "cat_emb_dims = [(len(x), 16) for x in catlist]\n",
        "lin_layer_sizes = [512, 512, 512, 512, 512]"
      ],
      "metadata": {
        "id": "VkLI1Brf2cZA"
      },
      "execution_count": 29,
      "outputs": []
    },
    {
      "cell_type": "code",
      "source": [
        "model = EnsembleModel2(no_of_thumb=no_of_thumb, no_of_desc=no_of_desc, no_of_rev=no_of_rev, no_of_cont=no_of_cont,\n",
        "                      cat_emb_dims=cat_emb_dims, lin_layer_sizes=lin_layer_sizes, thumb_dropout=0, desc_dropout=0,\n",
        "                      rev_dropout=0, cont_dropout=0, cat_dropout=0, linear_layer_dropout=[0, 0, 0, 0, 0], bn_layers=False)\n",
        "\n",
        "# In case only unstructured data is used, also change lin_layer_sizes to 468\n",
        "\n",
        "\n",
        "model = model.to(device)\n",
        "loss_fn = torch.nn.MSELoss()\n",
        "optimizer = torch.optim.Adam(model.parameters(), lr=1e-3, weight_decay=1e-4)\n",
        "scheduler = torch.optim.lr_scheduler.LambdaLR(optimizer, lr_lambda = lambda epoch: 0.1 ** (epoch // 15), last_epoch=- 1, verbose=True)\n",
        "result = train.run_training(model, optimizer, loss_fn, device, 40, trainloader, \n",
        "                            valloader, verbose=True, ntrain=500, nval=200, scheduler=scheduler, savefolder=\"vienna_only_unstructured\")"
      ],
      "metadata": {
        "id": "nXfkQU-21cI3",
        "outputId": "df35f71e-8a9a-45c8-de35-16e6d2d98159",
        "colab": {
          "base_uri": "https://localhost:8080/",
          "height": 1000
        }
      },
      "execution_count": 30,
      "outputs": [
        {
          "output_type": "stream",
          "name": "stdout",
          "text": [
            "Adjusting learning rate of group 0 to 1.0000e-03.\n"
          ]
        },
        {
          "output_type": "display_data",
          "data": {
            "text/html": [
              "\n",
              "<style>\n",
              "    /* Turns off some styling */\n",
              "    progress {\n",
              "        /* gets rid of default border in Firefox and Opera. */\n",
              "        border: none;\n",
              "        /* Needs to be in here for Safari polyfill so background images work as expected. */\n",
              "        background-size: auto;\n",
              "    }\n",
              "    .progress-bar-interrupted, .progress-bar-interrupted::-webkit-progress-bar {\n",
              "        background: #F44336;\n",
              "    }\n",
              "</style>\n"
            ],
            "text/plain": [
              "<IPython.core.display.HTML object>"
            ]
          },
          "metadata": {}
        },
        {
          "output_type": "display_data",
          "data": {
            "text/html": [
              "Epoch: 0, Train loss: 1.44, val loss: 0.27, train rmse: 1.202, val rmse 0.518<p>Epoch: 1, Train loss: 0.10, val loss: 0.22, train rmse: 0.324, val rmse 0.471<p>Epoch: 2, Train loss: 0.07, val loss: 0.23, train rmse: 0.260, val rmse 0.480<p>Epoch: 3, Train loss: 0.07, val loss: 0.22, train rmse: 0.262, val rmse 0.474<p>Epoch: 4, Train loss: 0.07, val loss: 0.22, train rmse: 0.258, val rmse 0.471<p>Epoch: 5, Train loss: 0.07, val loss: 0.22, train rmse: 0.261, val rmse 0.474<p>Epoch: 6, Train loss: 0.07, val loss: 0.22, train rmse: 0.264, val rmse 0.473<p>Epoch: 7, Train loss: 0.07, val loss: 0.23, train rmse: 0.266, val rmse 0.475<p>Epoch: 8, Train loss: 0.07, val loss: 0.26, train rmse: 0.264, val rmse 0.508<p>Epoch: 9, Train loss: 0.07, val loss: 0.22, train rmse: 0.265, val rmse 0.474<p>Epoch: 10, Train loss: 0.07, val loss: 0.22, train rmse: 0.258, val rmse 0.472<p>Epoch: 11, Train loss: 0.07, val loss: 0.25, train rmse: 0.267, val rmse 0.503<p>Epoch: 12, Train loss: 0.07, val loss: 0.22, train rmse: 0.261, val rmse 0.473<p>Epoch: 13, Train loss: 0.07, val loss: 0.22, train rmse: 0.269, val rmse 0.469<p>Epoch: 14, Train loss: 0.07, val loss: 0.23, train rmse: 0.259, val rmse 0.481<p>Epoch: 15, Train loss: 0.06, val loss: 0.22, train rmse: 0.253, val rmse 0.469<p>Epoch: 16, Train loss: 0.06, val loss: 0.22, train rmse: 0.252, val rmse 0.470<p>Epoch: 17, Train loss: 0.06, val loss: 0.22, train rmse: 0.250, val rmse 0.470<p>Epoch: 18, Train loss: 0.06, val loss: 0.22, train rmse: 0.253, val rmse 0.470<p>Epoch: 19, Train loss: 0.06, val loss: 0.22, train rmse: 0.251, val rmse 0.471<p>Epoch: 20, Train loss: 0.06, val loss: 0.22, train rmse: 0.252, val rmse 0.470<p>Epoch: 21, Train loss: 0.06, val loss: 0.22, train rmse: 0.253, val rmse 0.470<p>Epoch: 22, Train loss: 0.06, val loss: 0.22, train rmse: 0.252, val rmse 0.470<p>Epoch: 23, Train loss: 0.06, val loss: 0.22, train rmse: 0.251, val rmse 0.470<p>Epoch: 24, Train loss: 0.06, val loss: 0.22, train rmse: 0.251, val rmse 0.470<p>Epoch: 25, Train loss: 0.06, val loss: 0.22, train rmse: 0.251, val rmse 0.470<p>Epoch: 26, Train loss: 0.06, val loss: 0.22, train rmse: 0.251, val rmse 0.471<p>Epoch: 27, Train loss: 0.06, val loss: 0.22, train rmse: 0.252, val rmse 0.470<p>Epoch: 28, Train loss: 0.06, val loss: 0.22, train rmse: 0.251, val rmse 0.470<p>Epoch: 29, Train loss: 0.06, val loss: 0.22, train rmse: 0.255, val rmse 0.470<p>Epoch: 30, Train loss: 0.06, val loss: 0.22, train rmse: 0.253, val rmse 0.470<p>Epoch: 31, Train loss: 0.06, val loss: 0.22, train rmse: 0.250, val rmse 0.469<p>Epoch: 32, Train loss: 0.06, val loss: 0.22, train rmse: 0.250, val rmse 0.470<p>Epoch: 33, Train loss: 0.06, val loss: 0.22, train rmse: 0.250, val rmse 0.469<p>Epoch: 34, Train loss: 0.06, val loss: 0.22, train rmse: 0.250, val rmse 0.469<p>Epoch: 35, Train loss: 0.06, val loss: 0.22, train rmse: 0.250, val rmse 0.470<p>Epoch: 36, Train loss: 0.06, val loss: 0.22, train rmse: 0.249, val rmse 0.469<p>Epoch: 37, Train loss: 0.06, val loss: 0.22, train rmse: 0.250, val rmse 0.470<p>Epoch: 38, Train loss: 0.06, val loss: 0.22, train rmse: 0.250, val rmse 0.470<p>Epoch: 39, Train loss: 0.06, val loss: 0.22, train rmse: 0.249, val rmse 0.470"
            ],
            "text/plain": [
              "<IPython.core.display.HTML object>"
            ]
          },
          "metadata": {}
        },
        {
          "output_type": "stream",
          "name": "stdout",
          "text": [
            "saving model...\n",
            "Adjusting learning rate of group 0 to 1.0000e-03.\n",
            "saving model...\n",
            "Adjusting learning rate of group 0 to 1.0000e-03.\n",
            "Adjusting learning rate of group 0 to 1.0000e-03.\n",
            "Adjusting learning rate of group 0 to 1.0000e-03.\n",
            "Adjusting learning rate of group 0 to 1.0000e-03.\n",
            "Adjusting learning rate of group 0 to 1.0000e-03.\n",
            "Adjusting learning rate of group 0 to 1.0000e-03.\n",
            "Adjusting learning rate of group 0 to 1.0000e-03.\n",
            "Adjusting learning rate of group 0 to 1.0000e-03.\n",
            "Adjusting learning rate of group 0 to 1.0000e-03.\n",
            "Adjusting learning rate of group 0 to 1.0000e-03.\n",
            "Adjusting learning rate of group 0 to 1.0000e-03.\n",
            "Adjusting learning rate of group 0 to 1.0000e-03.\n",
            "saving model...\n",
            "Adjusting learning rate of group 0 to 1.0000e-03.\n",
            "Adjusting learning rate of group 0 to 1.0000e-04.\n",
            "saving model...\n",
            "Adjusting learning rate of group 0 to 1.0000e-04.\n",
            "Adjusting learning rate of group 0 to 1.0000e-04.\n",
            "Adjusting learning rate of group 0 to 1.0000e-04.\n",
            "Adjusting learning rate of group 0 to 1.0000e-04.\n",
            "Adjusting learning rate of group 0 to 1.0000e-04.\n",
            "Adjusting learning rate of group 0 to 1.0000e-04.\n",
            "Adjusting learning rate of group 0 to 1.0000e-04.\n",
            "Adjusting learning rate of group 0 to 1.0000e-04.\n",
            "Adjusting learning rate of group 0 to 1.0000e-04.\n",
            "Adjusting learning rate of group 0 to 1.0000e-04.\n",
            "Adjusting learning rate of group 0 to 1.0000e-04.\n",
            "Adjusting learning rate of group 0 to 1.0000e-04.\n",
            "Adjusting learning rate of group 0 to 1.0000e-04.\n",
            "Adjusting learning rate of group 0 to 1.0000e-04.\n",
            "Adjusting learning rate of group 0 to 1.0000e-05.\n",
            "Adjusting learning rate of group 0 to 1.0000e-05.\n",
            "Adjusting learning rate of group 0 to 1.0000e-05.\n",
            "Adjusting learning rate of group 0 to 1.0000e-05.\n",
            "Adjusting learning rate of group 0 to 1.0000e-05.\n",
            "Adjusting learning rate of group 0 to 1.0000e-05.\n",
            "Adjusting learning rate of group 0 to 1.0000e-05.\n",
            "Adjusting learning rate of group 0 to 1.0000e-05.\n",
            "Adjusting learning rate of group 0 to 1.0000e-05.\n",
            "Adjusting learning rate of group 0 to 1.0000e-05.\n",
            "Adjusting learning rate of group 0 to 1.0000e-05.\n",
            "Finished training after 39 seconds.\n"
          ]
        }
      ]
    },
    {
      "cell_type": "markdown",
      "source": [
        "# Training model with fewer variables"
      ],
      "metadata": {
        "id": "L-LDbFTsd-pV"
      }
    },
    {
      "cell_type": "code",
      "source": [
        "desc = pd.read_pickle(\"/content/drive/MyDrive/Colab/airbnb/data/embeddings/descriptions.pickle\")\n",
        "rev = pd.read_pickle(\"/content/drive/MyDrive/Colab/airbnb/data/embeddings/reviews.pickle\")\n",
        "thumb = pd.read_pickle(\"/content/drive/MyDrive/Colab/airbnb/data/embeddings/thumbnails.pickle\")\n",
        "features = pd.read_pickle(\"/content/drive/MyDrive/Colab/airbnb/data/data1/listings_embeddedcats.pickle\")\n",
        "with open(\"/content/drive/MyDrive/Colab/airbnb/data/data1/catdict.json\", \"r\") as f:\n",
        "    catlist = json.load(f)\n",
        "\n",
        "\n",
        "# if you want to exclude columns in training (used for munich), run this chunk\n",
        "features = features.drop([\"calculated_host_listings_count_private_rooms\", \"calculated_host_listings_count_entire_homes\", \n",
        "                          \"calculated_host_listings_count\", \"longitude\", \"latitude\", \"neighbourhood_cleansed\",\n",
        "                          'host_verification_photographer', 'host_verification_sesame', 'host_verification_sesame_offline',\n",
        "                          'host_verification_weibo','host_verification_zhima_selfie'], axis=1)\n",
        "dropset = set([\"calculated_host_listings_count_private_rooms\", \"calculated_host_listings_count_entire_homes\", \"calculated_host_listings_count\", \"longitude\", \"latitude\", \"neighbourhood_cleansed\"])\n",
        "\n",
        "\n",
        "logprice = features[\"log_price\"]\n",
        "\n",
        "\n",
        "selected_features = np.load(\"/content/drive/MyDrive/Colab/airbnb/data/feature_selection/selected_features2.npy\", allow_pickle=True)\n",
        "selected_features = (set(selected_features) & set(features.columns)) | (set(['neighbourhood_cleansed', 'property_type', 'room_type', \"lang\"]) - dropset)\n",
        "features = features[selected_features]\n",
        "\n",
        "\n",
        "desc = pd.DataFrame(desc)\n",
        "thumb = pd.DataFrame(thumb)\n",
        "rev = pd.DataFrame(rev)\n",
        "logprice = pd.DataFrame(logprice)\n",
        "data = pd.concat([thumb, desc, rev, features, logprice], axis=1)\n",
        "\n",
        "\n",
        "# choose to exclude some columns from the cat_cols\n",
        "cat_cols_regular = ['neighbourhood_cleansed', \n",
        "                    'property_type', \n",
        "                    'room_type', \n",
        "                    'lang', \n",
        "                    \"availability_30\", \n",
        "                    \"accommodates\", \n",
        "                    \"bedrooms\"]\n",
        "\n",
        "cat_cols_exclude = [#'neighbourhood_cleansed', \n",
        "                    #'property_type', \n",
        "                    #'room_type', \n",
        "                    'lang', \n",
        "                    #\"availability_30\", \n",
        "                    \"accommodates\", \n",
        "                    \"bedrooms\"\n",
        "                    ]\n",
        "\n",
        "\n",
        "cat_cols = cat_cols_regular.copy()\n",
        "for x in cat_cols_exclude:\n",
        "    cat_cols.remove(x)\n",
        "\n",
        "rm_list = []\n",
        "for i, col in enumerate(cat_cols_regular):\n",
        "    if col in set(cat_cols_exclude):\n",
        "        rm_list.append(i)\n",
        "\n",
        "for i in rm_list[::-1]:\n",
        "    del catlist[i]\n",
        "\n",
        "to_replace = pd.read_pickle(\"/content/drive/MyDrive/Colab/airbnb/data/data1/listings_workfile.pickle\")\n",
        "\n",
        "if \"neighbourhood_cleansed\" in cat_cols_exclude:\n",
        "    cat_cols_exclude.remove(\"neighbourhood_cleansed\")\n",
        "    data.loc[:, \"neighbourhood_cleansed_Simmering\"] = to_replace[\"neighbourhood_cleansed_Simmering\"]\n",
        "    data.loc[:, \"neighbourhood_cleansed_Brigittenau\"] = to_replace[\"neighbourhood_cleansed_Brigittenau\"]\n",
        "    data.loc[:, \"neighbourhood_cleansed_Ottakring\"] =  to_replace[\"neighbourhood_cleansed_Ottakring\"]\n",
        "    data.loc[:, \"neighbourhood_cleansed_W\\x8ahring\"] =  to_replace[\"neighbourhood_cleansed_W\\x8ahring\"]\n",
        "    data.loc[:, \"neighbourhood_cleansed_Wieden\"] =  to_replace[\"neighbourhood_cleansed_Wieden\"]\n",
        "    data.loc[:, \"neighbourhood_cleansed_Hietzing\"] =  to_replace[\"neighbourhood_cleansed_Hietzing\"]\n",
        "    data.loc[:, \"neighbourhood_cleansed_Innere Stadt\"] =  to_replace[\"neighbourhood_cleansed_Innere Stadt\"]\n",
        "    data = data.drop(\"neighbourhood_cleansed\", axis=1)\n",
        "\n",
        "if \"property_type\" in cat_cols_exclude:\n",
        "    cat_cols_exclude.remove(\"property_type\")\n",
        "    data.loc[:, \"property_type_shared_room\"] =  to_replace[\"property_type_shared_room\"]\n",
        "    data.loc[:, \"property_type_private_room\"] =  to_replace[\"property_type_private_room\"]\n",
        "    data = data.drop(\"property_type\", axis=1)\n",
        "\n",
        "if \"room_type\" in cat_cols_exclude:\n",
        "    cat_cols_exclude.remove(\"room_type\")\n",
        "    data.loc[:, \"room_Private room\"] =  to_replace[\"room_Private room\"]\n",
        "    data.loc[:, \"room_Shared room\"] =  to_replace[\"room_Shared room\"]   \n",
        "    data = data.drop(\"room_type\", axis=1)\n",
        "\n",
        "if \"lang\" in cat_cols_exclude:\n",
        "    cat_cols_exclude.remove(\"lang\")\n",
        "    data = data.drop(\"lang\", axis=1)\n",
        "\n",
        "data.loc[:, cat_cols_exclude] = to_replace[cat_cols_exclude]\n",
        "\n",
        "\n",
        "train_ids, val_ids, test_ids = ut.train_val_test_split(data.index)\n",
        "traindf, valdf, testdf = data.loc[train_ids], data.loc[val_ids], data.loc[test_ids]\n",
        "\n",
        "\n",
        "# if you want to remove something from catcols and catlist (used for munich), run this\n",
        "del cat_cols[0]\n",
        "del catlist[0]\n",
        "\n",
        "\n",
        "# create dataloaders\n",
        "trainset = EnsembleDataset2(traindf, [\"thumbnails\"], [\"descriptions\"], [\"reviews\"], cat_cols, [\"log_price\"])\n",
        "valset = EnsembleDataset2(valdf, [\"thumbnails\"], [\"descriptions\"], [\"reviews\"], cat_cols, [\"log_price\"])\n",
        "testset = EnsembleDataset2(testdf, [\"thumbnails\"], [\"descriptions\"], [\"reviews\"], cat_cols, [\"log_price\"])\n",
        "\n",
        "b = 128\n",
        "trainloader = DataLoader(trainset, shuffle=True, num_workers=2, batch_size=b)\n",
        "valloader = DataLoader(valset, shuffle=False, num_workers=2, batch_size=b)\n",
        "testloader = DataLoader(testset, shuffle=False, num_workers=2, batch_size=b)\n",
        "\n",
        "no_of_thumb = 100\n",
        "no_of_desc = 100\n",
        "no_of_rev = 100\n",
        "no_of_cont = len(traindf.columns) - 3 - 1 - len(catlist)  # -3 for thumb, desc and rev, -1 for price, last term to subtract cat cols\n",
        "cat_emb_dims = [(len(x), 16) for x in catlist]\n",
        "lin_layer_sizes = [512, 512, 512, 512, 512]\n",
        "\n",
        "\n",
        "model = EnsembleModel2(no_of_thumb=no_of_thumb, no_of_desc=no_of_desc, no_of_rev=no_of_rev, no_of_cont=no_of_cont,\n",
        "                      cat_emb_dims=cat_emb_dims, lin_layer_sizes=lin_layer_sizes, thumb_dropout=0.35, desc_dropout=0.35,\n",
        "                      rev_dropout=0.25, cont_dropout=0, cat_dropout=0, linear_layer_dropout=[0, 0, 0, 0, 0], bn_layers=False)\n",
        "\n",
        "\n",
        "model = model.to(device)\n",
        "loss_fn = torch.nn.MSELoss()\n",
        "optimizer = torch.optim.Adam(model.parameters(), lr=1e-3, weight_decay=1e-4)\n",
        "scheduler = torch.optim.lr_scheduler.LambdaLR(optimizer, lr_lambda = lambda epoch: 0.1 ** (epoch // 15), last_epoch=- 1, verbose=True)\n",
        "result = train.run_training(model, optimizer, loss_fn, device, 40, trainloader, \n",
        "                            valloader, verbose=True, ntrain=500, nval=200, scheduler=scheduler, savefolder=\"munich_model\")"
      ],
      "metadata": {
        "colab": {
          "base_uri": "https://localhost:8080/",
          "height": 1000
        },
        "id": "FMSaliznd9O2",
        "outputId": "51580024-a0d3-46f6-f35c-fff3704bf413"
      },
      "execution_count": null,
      "outputs": [
        {
          "output_type": "stream",
          "name": "stdout",
          "text": [
            "Adjusting learning rate of group 0 to 1.0000e-03.\n"
          ]
        },
        {
          "output_type": "display_data",
          "data": {
            "text/html": [
              "\n",
              "<style>\n",
              "    /* Turns off some styling */\n",
              "    progress {\n",
              "        /* gets rid of default border in Firefox and Opera. */\n",
              "        border: none;\n",
              "        /* Needs to be in here for Safari polyfill so background images work as expected. */\n",
              "        background-size: auto;\n",
              "    }\n",
              "    .progress-bar-interrupted, .progress-bar-interrupted::-webkit-progress-bar {\n",
              "        background: #F44336;\n",
              "    }\n",
              "</style>\n"
            ],
            "text/plain": [
              "<IPython.core.display.HTML object>"
            ]
          },
          "metadata": {}
        },
        {
          "output_type": "display_data",
          "data": {
            "text/html": [
              "Epoch: 0, Train loss: 1.79, val loss: 0.22, train rmse: 1.339, val rmse 0.469<p>Epoch: 1, Train loss: 0.19, val loss: 0.19, train rmse: 0.437, val rmse 0.436<p>Epoch: 2, Train loss: 0.17, val loss: 0.18, train rmse: 0.411, val rmse 0.421<p>Epoch: 3, Train loss: 0.18, val loss: 0.18, train rmse: 0.423, val rmse 0.426<p>Epoch: 4, Train loss: 0.14, val loss: 0.20, train rmse: 0.379, val rmse 0.447<p>Epoch: 5, Train loss: 0.14, val loss: 0.18, train rmse: 0.380, val rmse 0.420<p>Epoch: 6, Train loss: 0.15, val loss: 0.17, train rmse: 0.391, val rmse 0.415<p>Epoch: 7, Train loss: 0.14, val loss: 0.18, train rmse: 0.372, val rmse 0.422<p>Epoch: 8, Train loss: 0.15, val loss: 0.21, train rmse: 0.383, val rmse 0.463<p>Epoch: 9, Train loss: 0.14, val loss: 0.20, train rmse: 0.370, val rmse 0.450<p>Epoch: 10, Train loss: 0.14, val loss: 0.24, train rmse: 0.367, val rmse 0.486<p>Epoch: 11, Train loss: 0.13, val loss: 0.17, train rmse: 0.361, val rmse 0.415<p>Epoch: 12, Train loss: 0.16, val loss: 0.22, train rmse: 0.396, val rmse 0.470<p>Epoch: 13, Train loss: 0.14, val loss: 0.22, train rmse: 0.370, val rmse 0.465<p>Epoch: 14, Train loss: 0.13, val loss: 0.18, train rmse: 0.366, val rmse 0.428<p>Epoch: 15, Train loss: 0.11, val loss: 0.17, train rmse: 0.335, val rmse 0.410<p>Epoch: 16, Train loss: 0.11, val loss: 0.17, train rmse: 0.329, val rmse 0.415<p>Epoch: 17, Train loss: 0.11, val loss: 0.17, train rmse: 0.331, val rmse 0.408<p>Epoch: 18, Train loss: 0.11, val loss: 0.17, train rmse: 0.329, val rmse 0.410<p>Epoch: 19, Train loss: 0.11, val loss: 0.17, train rmse: 0.331, val rmse 0.410<p>Epoch: 20, Train loss: 0.11, val loss: 0.17, train rmse: 0.324, val rmse 0.412<p>Epoch: 21, Train loss: 0.10, val loss: 0.17, train rmse: 0.324, val rmse 0.409<p>Epoch: 22, Train loss: 0.10, val loss: 0.17, train rmse: 0.324, val rmse 0.409<p>Epoch: 23, Train loss: 0.11, val loss: 0.17, train rmse: 0.324, val rmse 0.409<p>Epoch: 24, Train loss: 0.11, val loss: 0.17, train rmse: 0.328, val rmse 0.411<p>Epoch: 25, Train loss: 0.10, val loss: 0.17, train rmse: 0.323, val rmse 0.413<p>Epoch: 26, Train loss: 0.11, val loss: 0.17, train rmse: 0.325, val rmse 0.412<p>Epoch: 27, Train loss: 0.10, val loss: 0.17, train rmse: 0.322, val rmse 0.410<p>Epoch: 28, Train loss: 0.10, val loss: 0.17, train rmse: 0.323, val rmse 0.413<p>Epoch: 29, Train loss: 0.10, val loss: 0.17, train rmse: 0.321, val rmse 0.412<p>Epoch: 30, Train loss: 0.10, val loss: 0.17, train rmse: 0.320, val rmse 0.411<p>Epoch: 31, Train loss: 0.10, val loss: 0.17, train rmse: 0.319, val rmse 0.410<p>Epoch: 32, Train loss: 0.10, val loss: 0.17, train rmse: 0.319, val rmse 0.412<p>Epoch: 33, Train loss: 0.10, val loss: 0.17, train rmse: 0.318, val rmse 0.410<p>Epoch: 34, Train loss: 0.10, val loss: 0.17, train rmse: 0.324, val rmse 0.411<p>Epoch: 35, Train loss: 0.10, val loss: 0.17, train rmse: 0.320, val rmse 0.409<p>Epoch: 36, Train loss: 0.10, val loss: 0.17, train rmse: 0.315, val rmse 0.410<p>Epoch: 37, Train loss: 0.11, val loss: 0.17, train rmse: 0.324, val rmse 0.409<p>Epoch: 38, Train loss: 0.10, val loss: 0.17, train rmse: 0.318, val rmse 0.411<p>Epoch: 39, Train loss: 0.10, val loss: 0.17, train rmse: 0.315, val rmse 0.409"
            ],
            "text/plain": [
              "<IPython.core.display.HTML object>"
            ]
          },
          "metadata": {}
        },
        {
          "output_type": "stream",
          "name": "stdout",
          "text": [
            "saving model...\n",
            "Adjusting learning rate of group 0 to 1.0000e-03.\n",
            "saving model...\n",
            "Adjusting learning rate of group 0 to 1.0000e-03.\n",
            "saving model...\n",
            "Adjusting learning rate of group 0 to 1.0000e-03.\n",
            "Adjusting learning rate of group 0 to 1.0000e-03.\n",
            "Adjusting learning rate of group 0 to 1.0000e-03.\n",
            "saving model...\n",
            "Adjusting learning rate of group 0 to 1.0000e-03.\n",
            "saving model...\n",
            "Adjusting learning rate of group 0 to 1.0000e-03.\n",
            "Adjusting learning rate of group 0 to 1.0000e-03.\n",
            "Adjusting learning rate of group 0 to 1.0000e-03.\n",
            "Adjusting learning rate of group 0 to 1.0000e-03.\n",
            "Adjusting learning rate of group 0 to 1.0000e-03.\n",
            "saving model...\n",
            "Adjusting learning rate of group 0 to 1.0000e-03.\n",
            "Adjusting learning rate of group 0 to 1.0000e-03.\n",
            "Adjusting learning rate of group 0 to 1.0000e-03.\n",
            "Adjusting learning rate of group 0 to 1.0000e-04.\n",
            "saving model...\n",
            "Adjusting learning rate of group 0 to 1.0000e-04.\n",
            "Adjusting learning rate of group 0 to 1.0000e-04.\n",
            "saving model...\n",
            "Adjusting learning rate of group 0 to 1.0000e-04.\n",
            "Adjusting learning rate of group 0 to 1.0000e-04.\n",
            "Adjusting learning rate of group 0 to 1.0000e-04.\n",
            "Adjusting learning rate of group 0 to 1.0000e-04.\n",
            "Adjusting learning rate of group 0 to 1.0000e-04.\n",
            "Adjusting learning rate of group 0 to 1.0000e-04.\n",
            "Adjusting learning rate of group 0 to 1.0000e-04.\n",
            "Adjusting learning rate of group 0 to 1.0000e-04.\n",
            "Adjusting learning rate of group 0 to 1.0000e-04.\n",
            "Adjusting learning rate of group 0 to 1.0000e-04.\n",
            "Adjusting learning rate of group 0 to 1.0000e-04.\n",
            "Adjusting learning rate of group 0 to 1.0000e-04.\n",
            "Adjusting learning rate of group 0 to 1.0000e-05.\n",
            "Adjusting learning rate of group 0 to 1.0000e-05.\n",
            "Adjusting learning rate of group 0 to 1.0000e-05.\n",
            "Adjusting learning rate of group 0 to 1.0000e-05.\n",
            "Adjusting learning rate of group 0 to 1.0000e-05.\n",
            "Adjusting learning rate of group 0 to 1.0000e-05.\n",
            "Adjusting learning rate of group 0 to 1.0000e-05.\n",
            "Adjusting learning rate of group 0 to 1.0000e-05.\n",
            "Adjusting learning rate of group 0 to 1.0000e-05.\n",
            "Adjusting learning rate of group 0 to 1.0000e-05.\n",
            "Adjusting learning rate of group 0 to 1.0000e-05.\n",
            "Finished training after 54 seconds.\n"
          ]
        }
      ]
    },
    {
      "cell_type": "markdown",
      "source": [
        "# Evaluation of final model Vienna"
      ],
      "metadata": {
        "id": "pulBx8YibrAp"
      }
    },
    {
      "cell_type": "code",
      "source": [
        "# calculate mean logprice on testset\n",
        "mean_logprice = 0\n",
        "\n",
        "for     _, _, _, _, _, logprice  in testset:\n",
        "    mean_logprice += np.array(logprice)\n",
        "\n",
        "mean_logprice = mean_logprice/ len(testset)\n",
        "\n",
        "mean_logprice\n",
        "\n",
        "mse =  0\n",
        "for _, _, _, _, _, logprice  in testset:\n",
        "    mse += (logprice - mean_logprice)**2\n",
        "\n",
        "mse = mse / len(testset)\n",
        "mse    "
      ],
      "metadata": {
        "id": "SwZh2KTgS-II",
        "outputId": "22f51713-29cb-4b89-881e-f08823592b9c",
        "colab": {
          "base_uri": "https://localhost:8080/"
        }
      },
      "execution_count": null,
      "outputs": [
        {
          "output_type": "execute_result",
          "data": {
            "text/plain": [
              "tensor([0.4106])"
            ]
          },
          "metadata": {},
          "execution_count": 142
        }
      ]
    },
    {
      "cell_type": "code",
      "source": [
        "# load statedict of saved model\n",
        "\n",
        "no_of_thumb = 100\n",
        "no_of_desc = 100\n",
        "no_of_rev = 100\n",
        "no_of_cont = len(traindf.columns) - 3 - 1 - len(catlist)  # -3 for thumb, desc and rev, -1 for price, last term to subtract cat cols\n",
        "cat_emb_dims = [(len(x), 16) for x in catlist]\n",
        "lin_layer_sizes = [468, 468]\n",
        "\n",
        "model = EnsembleModel2(no_of_thumb=no_of_thumb, no_of_desc=no_of_desc, no_of_rev=no_of_rev, no_of_cont=no_of_cont,\n",
        "                      cat_emb_dims=cat_emb_dims, lin_layer_sizes=lin_layer_sizes, thumb_dropout=0.6, desc_dropout=0.6,\n",
        "                      rev_dropout=0.6, cont_dropout=0, cat_dropout=0, linear_layer_dropout=[0, 0, 0, 0, 0], bn_layers=False, only_unstructured=True)\n",
        "\n",
        "# load statedict and model performances\n",
        "savefolder = \"vienna_only_unstructured\"\n",
        "state_dict = torch.load(\"/content/drive/MyDrive/Colab/airbnb/data/model_performance/\" + savefolder + \"/checkpoint.pt\")\n",
        "train_rmse = np.load(\"/content/drive/MyDrive/Colab/airbnb/data/model_performance/\" + savefolder + \"/trainloss.npy\")\n",
        "val_rmse = np.load(\"/content/drive/MyDrive/Colab/airbnb/data/model_performance/\" + savefolder + \"/valloss.npy\")\n",
        "\n",
        "model.load_state_dict(state_dict)"
      ],
      "metadata": {
        "id": "sP0XfRbdv0Qs",
        "outputId": "0cb6430d-8b8a-4222-9979-5388788ff327",
        "colab": {
          "base_uri": "https://localhost:8080/"
        }
      },
      "execution_count": 31,
      "outputs": [
        {
          "output_type": "execute_result",
          "data": {
            "text/plain": [
              "<All keys matched successfully>"
            ]
          },
          "metadata": {},
          "execution_count": 31
        }
      ]
    },
    {
      "cell_type": "code",
      "source": [
        "# plot train and test\n",
        "ut.plot(\"RMSE\", \"RMSE\", train_rmse, val_rmse, yscale='linear', save_path=\"/content/file0.svg\")\n",
        "print(np.min(val_rmse))"
      ],
      "metadata": {
        "id": "D9TgHotkyidp",
        "outputId": "73691703-e8af-4192-daf3-b175530a4124",
        "colab": {
          "base_uri": "https://localhost:8080/",
          "height": 320
        }
      },
      "execution_count": 32,
      "outputs": [
        {
          "output_type": "display_data",
          "data": {
            "image/png": "[encoded data removed]",
            "text/plain": [
              "<Figure size 360x288 with 1 Axes>"
            ]
          },
          "metadata": {
            "needs_background": "light"
          }
        },
        {
          "output_type": "stream",
          "name": "stdout",
          "text": [
            "0.4690408633037844\n"
          ]
        }
      ]
    },
    {
      "cell_type": "code",
      "source": [
        "# compute predictions\n",
        "\n",
        "ypreds = []\n",
        "ys = []\n",
        "model = model.to(device)\n",
        "with torch.no_grad():\n",
        "    model = model.eval()\n",
        "\n",
        "    for pic_embdg, description_embdg, reviews_embdg, cont_features, cat_features, label in tqdm(testloader):\n",
        "\n",
        "        pic_embdg, description_embdg, reviews_embdg, cont_features, cat_features = \\\n",
        "        pic_embdg.to(device), description_embdg.to(device), reviews_embdg.to(device), cont_features.to(device), cat_features.to(device).int()\n",
        "        \n",
        "        y_pred = model(pic_embdg, description_embdg, reviews_embdg, cont_features, cat_features)\n",
        "        y_pred = list(y_pred.detach().cpu())\n",
        "        \n",
        "        ypreds = ypreds + y_pred\n",
        "        ys = ys + list(label)"
      ],
      "metadata": {
        "colab": {
          "base_uri": "https://localhost:8080/"
        },
        "id": "a_fks15wPIUA",
        "outputId": "585de6a7-ecef-47bf-a0d3-96c78bc4b85d"
      },
      "execution_count": 33,
      "outputs": [
        {
          "output_type": "stream",
          "name": "stderr",
          "text": [
            "100%|██████████| 14/14 [00:00<00:00, 60.22it/s]\n"
          ]
        }
      ]
    },
    {
      "cell_type": "code",
      "source": [
        "ys = [i.item() for i in ys]\n",
        "ypreds = [i.item() for i in ypreds]\n",
        "\n",
        "print(pearsonr(ys, ypreds))\n",
        "plt.figure(figsize=(5,4))\n",
        "sns.set(style=\"ticks\")\n",
        "plt.scatter(ys, ypreds, c='#1f77b4')\n",
        "plt.ylabel(\"predicted log price\")\n",
        "plt.xlabel(\"log price\")\n",
        "plt.scatter(ys, ypreds)\n",
        "plt.savefig(str(\"/content/file1.svg\"), bbox_inches='tight', format=\"svg\", transparent=True)\n",
        "plt.show()"
      ],
      "metadata": {
        "id": "mGE1h6X12M6Z",
        "outputId": "faee33cf-7ed6-4771-da99-b42512deb7f3",
        "colab": {
          "base_uri": "https://localhost:8080/",
          "height": 302
        }
      },
      "execution_count": 34,
      "outputs": [
        {
          "output_type": "stream",
          "name": "stdout",
          "text": [
            "(0.73537294628027, 4.1774277266288815e-291)\n"
          ]
        },
        {
          "output_type": "display_data",
          "data": {
            "image/png": "[encoded data removed]",
            "text/plain": [
              "<Figure size 360x288 with 1 Axes>"
            ]
          },
          "metadata": {}
        }
      ]
    },
    {
      "cell_type": "code",
      "source": [
        "import sklearn\n",
        "print(\"RMSE test set: \", np.sqrt(sklearn.metrics.mean_squared_error(ys, np.squeeze(ypreds))))\n",
        "print(\"MSE test set: \", (sklearn.metrics.mean_squared_error(ys, np.squeeze(ypreds))))"
      ],
      "metadata": {
        "id": "DI8umYtez7G6",
        "outputId": "b4a1037f-b5fd-45b9-ffd9-c235b7f0e10e",
        "colab": {
          "base_uri": "https://localhost:8080/"
        }
      },
      "execution_count": 35,
      "outputs": [
        {
          "output_type": "stream",
          "name": "stdout",
          "text": [
            "RMSE test set:  0.4358982231663284\n",
            "MSE test set:  0.19000726095956227\n"
          ]
        }
      ]
    },
    {
      "cell_type": "code",
      "source": [
        "sklearn.metrics.r2_score(ys, ypreds)"
      ],
      "metadata": {
        "id": "ws_2Aep3SwQn",
        "outputId": "0513c1e6-5497-489f-9437-fefd40ebd49b",
        "colab": {
          "base_uri": "https://localhost:8080/"
        }
      },
      "execution_count": 36,
      "outputs": [
        {
          "output_type": "execute_result",
          "data": {
            "text/plain": [
              "0.5372134134122512"
            ]
          },
          "metadata": {},
          "execution_count": 36
        }
      ]
    },
    {
      "cell_type": "markdown",
      "source": [
        "# Evaluation of Munich model"
      ],
      "metadata": {
        "id": "4O211_g0Wk3N"
      }
    },
    {
      "cell_type": "code",
      "source": [
        "# load statedict of saved model\n",
        "no_of_thumb = 100\n",
        "no_of_desc = 100\n",
        "no_of_rev = 100\n",
        "no_of_cont = len(traindf.columns) - 3 - 1 - len(catlist)  # -3 for thumb, desc and rev, -1 for price, last term to subtract cat cols\n",
        "cat_emb_dims = [(len(x), 16) for x in catlist]\n",
        "lin_layer_sizes = [512, 512, 512, 512, 512]\n",
        "\n",
        "model = EnsembleModel2(no_of_thumb=no_of_thumb, no_of_desc=no_of_desc, no_of_rev=no_of_rev, no_of_cont=no_of_cont,\n",
        "                      cat_emb_dims=cat_emb_dims, lin_layer_sizes=lin_layer_sizes, thumb_dropout=0.3, desc_dropout=0.3,\n",
        "                      rev_dropout=0.3, cont_dropout=0, cat_dropout=0, linear_layer_dropout=[0, 0, 0, 0, 0], bn_layers=False)\n",
        "\n",
        "# load statedict and model performances\n",
        "savefolder = \"munich_model\"\n",
        "state_dict = torch.load(\"/content/drive/MyDrive/Colab/airbnb/data/model_performance/\" + savefolder + \"/checkpoint.pt\")\n",
        "train_rmse = np.load(\"/content/drive/MyDrive/Colab/airbnb/data/model_performance/\" + savefolder + \"/trainloss.npy\")\n",
        "val_rmse = np.load(\"/content/drive/MyDrive/Colab/airbnb/data/model_performance/\" + savefolder + \"/valloss.npy\")\n",
        "\n",
        "model.load_state_dict(state_dict)"
      ],
      "metadata": {
        "colab": {
          "base_uri": "https://localhost:8080/"
        },
        "id": "mL1zOSqVgDZP",
        "outputId": "61e0aa52-f232-47e3-e7c7-9985fd7dd0a9"
      },
      "execution_count": null,
      "outputs": [
        {
          "output_type": "execute_result",
          "data": {
            "text/plain": [
              "<All keys matched successfully>"
            ]
          },
          "metadata": {},
          "execution_count": 63
        }
      ]
    },
    {
      "cell_type": "code",
      "source": [
        "ut.plot(\"RMSE\", \"RMSE\", train_rmse, val_rmse, yscale='linear', save_path=\"/content/file0.svg\")"
      ],
      "metadata": {
        "id": "oExyHurZuovP",
        "outputId": "1c9c402e-220f-4397-88d4-2a899d206929",
        "colab": {
          "base_uri": "https://localhost:8080/",
          "height": 303
        }
      },
      "execution_count": null,
      "outputs": [
        {
          "output_type": "display_data",
          "data": {
            "image/png": "[encoded data removed]",
            "text/plain": [
              "<Figure size 360x288 with 1 Axes>"
            ]
          },
          "metadata": {}
        }
      ]
    },
    {
      "cell_type": "code",
      "source": [
        "desc = pd.read_pickle(\"/content/drive/MyDrive/Colab/airbnb/munich/embeddings/descriptions.pickle\")\n",
        "rev = pd.read_pickle(\"/content/drive/MyDrive/Colab/airbnb/munich/embeddings/reviews.pickle\")\n",
        "thumb = pd.read_pickle(\"/content/drive/MyDrive/Colab/airbnb/munich/thumbnails/thumbnails_embeddings.pickle\")\n",
        "features = pd.read_pickle(\"/content/drive/MyDrive/Colab/airbnb/munich/listings_embeddedcats.pickle\")\n",
        "with open(\"/content/drive/MyDrive/Colab/airbnb/munich/catdict.json\", \"r\") as f:\n",
        "    catlist = json.load(f)\n",
        "\n",
        "# exclude columns not used as predictors in munich\n",
        "features = features.drop([\"calculated_host_listings_count_private_rooms\", \"calculated_host_listings_count_entire_homes\", \"calculated_host_listings_count\", \"longitude\", \"latitude\", \"neighbourhood_cleansed\"], axis=1)\n",
        "dropset = set([\"calculated_host_listings_count_private_rooms\", \"calculated_host_listings_count_entire_homes\", \"calculated_host_listings_count\", \"longitude\", \"latitude\", \"neighbourhood_cleansed\"])\n",
        "\n",
        "logprice = features[\"log_price\"]\n",
        "\n",
        "selected_features = np.load(\"/content/drive/MyDrive/Colab/airbnb/data/feature_selection/selected_features2.npy\", allow_pickle=True)\n",
        "selected_features = (set(selected_features) & set(features.columns)) | (set(['neighbourhood_cleansed', 'property_type', 'room_type', 'lang']) - dropset)\n",
        "features = features[selected_features]\n",
        "\n",
        "desc = pd.DataFrame(desc)\n",
        "thumb = pd.DataFrame(thumb)\n",
        "rev = pd.DataFrame(rev)\n",
        "logprice = pd.DataFrame(logprice)\n",
        "\n",
        "data = pd.concat([thumb, desc, rev, features, logprice], axis=1)\n",
        "\n",
        "\n",
        "# choose to exclude some columns from the cat_cols\n",
        "cat_cols_regular = ['neighbourhood_cleansed', \n",
        "                    'property_type', \n",
        "                    'room_type', \n",
        "                    'lang', \n",
        "                    \"availability_30\", \n",
        "                    \"accommodates\", \n",
        "                    \"bedrooms\"]\n",
        "\n",
        "cat_cols_exclude = [#'neighbourhood_cleansed', \n",
        "                    #'property_type', \n",
        "                    #'room_type', \n",
        "                    'lang', \n",
        "                    #\"availability_30\", \n",
        "                    \"accommodates\", \n",
        "                    \"bedrooms\"\n",
        "                    ]\n",
        "\n",
        "\n",
        "cat_cols = cat_cols_regular.copy()\n",
        "for x in cat_cols_exclude:\n",
        "    cat_cols.remove(x)\n",
        "\n",
        "rm_list = []\n",
        "for i, col in enumerate(cat_cols_regular):\n",
        "    if col in set(cat_cols_exclude):\n",
        "        rm_list.append(i)\n",
        "\n",
        "for i in rm_list[::-1]:\n",
        "    del catlist[i]\n",
        "\n",
        "to_replace = pd.read_pickle(\"/content/drive/MyDrive/Colab/airbnb/munich/listings_workfile.pickle\")\n",
        "\n",
        "if \"neighbourhood_cleansed\" in cat_cols_exclude:\n",
        "    cat_cols_exclude.remove(\"neighbourhood_cleansed\")\n",
        "    data.loc[:, \"neighbourhood_cleansed_Simmering\"] = to_replace[\"neighbourhood_cleansed_Simmering\"]\n",
        "    data.loc[:, \"neighbourhood_cleansed_Brigittenau\"] = to_replace[\"neighbourhood_cleansed_Brigittenau\"]\n",
        "    data.loc[:, \"neighbourhood_cleansed_Ottakring\"] =  to_replace[\"neighbourhood_cleansed_Ottakring\"]\n",
        "    data.loc[:, \"neighbourhood_cleansed_W\\x8ahring\"] =  to_replace[\"neighbourhood_cleansed_W\\x8ahring\"]\n",
        "    data.loc[:, \"neighbourhood_cleansed_Wieden\"] =  to_replace[\"neighbourhood_cleansed_Wieden\"]\n",
        "    data.loc[:, \"neighbourhood_cleansed_Hietzing\"] =  to_replace[\"neighbourhood_cleansed_Hietzing\"]\n",
        "    data.loc[:, \"neighbourhood_cleansed_Innere Stadt\"] =  to_replace[\"neighbourhood_cleansed_Innere Stadt\"]\n",
        "    data = data.drop(\"neighbourhood_cleansed\", axis=1)\n",
        "\n",
        "if \"property_type\" in cat_cols_exclude:\n",
        "    cat_cols_exclude.remove(\"property_type\")\n",
        "    data.loc[:, \"property_type_shared_room\"] =  to_replace[\"property_type_shared_room\"]\n",
        "    data.loc[:, \"property_type_private_room\"] =  to_replace[\"property_type_private_room\"]\n",
        "    data = data.drop(\"property_type\", axis=1)\n",
        "\n",
        "if \"room_type\" in cat_cols_exclude:\n",
        "    cat_cols_exclude.remove(\"room_type\")\n",
        "    data.loc[:, \"room_Private room\"] =  to_replace[\"room_Private room\"]\n",
        "    data.loc[:, \"room_Shared room\"] =  to_replace[\"room_Shared room\"]   \n",
        "    data = data.drop(\"room_type\", axis=1)\n",
        "\n",
        "if \"lang\" in cat_cols_exclude:\n",
        "    cat_cols_exclude.remove(\"lang\")\n",
        "    data = data.drop(\"lang\", axis=1)\n",
        "\n",
        "data.loc[:, cat_cols_exclude] = to_replace[cat_cols_exclude]\n",
        "\n",
        "\n",
        "# if you want to remove something from catcols and catlist, run this\n",
        "del cat_cols[0]\n",
        "del catlist[0]\n",
        "\n",
        "\n",
        "# TODO\n",
        "# create dataloaders\n",
        "testset = EnsembleDataset2(data, [\"thumbnails\"], [\"descriptions\"], [\"reviews\"], cat_cols, [\"log_price\"])\n",
        "\n",
        "b = 128\n",
        "testloader = DataLoader(testset, shuffle=True, num_workers=2, batch_size=b)"
      ],
      "metadata": {
        "id": "n1t8LpkLXedg"
      },
      "execution_count": null,
      "outputs": []
    },
    {
      "cell_type": "code",
      "source": [
        "model = model.to(device)\n",
        "ypreds = []\n",
        "ys = []\n",
        "\n",
        "with torch.no_grad():\n",
        "    model = model.eval()\n",
        "\n",
        "    for pic_embdg, description_embdg, reviews_embdg, cont_features, cat_features, label in tqdm(testloader):\n",
        "\n",
        "        pic_embdg, description_embdg, reviews_embdg, cont_features, cat_features = \\\n",
        "        pic_embdg.to(device), description_embdg.to(device), reviews_embdg.to(device), cont_features.to(device), cat_features.to(device).int()\n",
        "        \n",
        "        y_pred = model(pic_embdg, description_embdg, reviews_embdg, cont_features, cat_features)\n",
        "        y_pred = list(y_pred.detach().cpu())\n",
        "        \n",
        "        ypreds = ypreds + y_pred\n",
        "        ys = ys + list(label)\n"
      ],
      "metadata": {
        "id": "HjQq9O2UWwZM",
        "outputId": "1f230366-4b93-478a-b07c-bb1c621ee728",
        "colab": {
          "base_uri": "https://localhost:8080/"
        }
      },
      "execution_count": null,
      "outputs": [
        {
          "output_type": "stream",
          "name": "stderr",
          "text": [
            "100%|██████████| 8/8 [00:00<00:00, 37.12it/s]\n"
          ]
        }
      ]
    },
    {
      "cell_type": "code",
      "source": [
        "ys = [i.item() for i in ys]\n",
        "ypreds = [i.item() for i in ypreds]\n",
        "\n",
        "print(pearsonr(ys, ypreds))\n",
        "plt.scatter(ys, ypreds)\n",
        "plt.show()"
      ],
      "metadata": {
        "id": "pmmYeWuChX-B",
        "outputId": "c0c42aff-fd35-4702-b8d9-154bd9653d4c",
        "colab": {
          "base_uri": "https://localhost:8080/",
          "height": 286
        }
      },
      "execution_count": null,
      "outputs": [
        {
          "output_type": "stream",
          "name": "stdout",
          "text": [
            "(0.5806746647771787, 4.919576144580997e-91)\n"
          ]
        },
        {
          "output_type": "display_data",
          "data": {
            "image/png": "[encoded data removed]",
            "text/plain": [
              "<Figure size 432x288 with 1 Axes>"
            ]
          },
          "metadata": {}
        }
      ]
    },
    {
      "cell_type": "code",
      "source": [
        "plt.figure(figsize=(5,4))\n",
        "sns.set(style=\"ticks\")\n",
        "plt.scatter(ys, ypreds, c='#1f77b4')\n",
        "plt.ylabel(\"predicted log price\")\n",
        "plt.xlabel(\"log price\")\n",
        "plt.scatter(ys, ypreds)\n",
        "plt.savefig(str(\"/content/file1.svg\"), bbox_inches='tight', format=\"svg\", transparent=True)\n",
        "plt.show()"
      ],
      "metadata": {
        "id": "E0wWloYQuUg1",
        "outputId": "23f5549a-cb4f-49c0-c753-838fb5b27ed9",
        "colab": {
          "base_uri": "https://localhost:8080/",
          "height": 285
        }
      },
      "execution_count": null,
      "outputs": [
        {
          "output_type": "display_data",
          "data": {
            "image/png": "[encoded data removed]",
            "text/plain": [
              "<Figure size 360x288 with 1 Axes>"
            ]
          },
          "metadata": {}
        }
      ]
    },
    {
      "cell_type": "code",
      "source": [
        "# unadjusted mse\n",
        "sklearn.metrics.mean_squared_error(ys, ypreds)"
      ],
      "metadata": {
        "id": "n3aP94xXhfel",
        "outputId": "6e08369e-e0eb-4620-a7eb-858ab6c9494e",
        "colab": {
          "base_uri": "https://localhost:8080/"
        }
      },
      "execution_count": null,
      "outputs": [
        {
          "output_type": "execute_result",
          "data": {
            "text/plain": [
              "0.4641983952519291"
            ]
          },
          "metadata": {},
          "execution_count": 140
        }
      ]
    },
    {
      "cell_type": "code",
      "source": [
        "# unadjusted rsquared\n",
        "sklearn.metrics.r2_score(ys, ypreds)"
      ],
      "metadata": {
        "colab": {
          "base_uri": "https://localhost:8080/"
        },
        "id": "QIO1q8VanJvU",
        "outputId": "d084ed9f-9887-4850-885f-11bbb6097494"
      },
      "execution_count": null,
      "outputs": [
        {
          "output_type": "execute_result",
          "data": {
            "text/plain": [
              "0.04467789263931643"
            ]
          },
          "metadata": {},
          "execution_count": 141
        }
      ]
    },
    {
      "cell_type": "code",
      "source": [
        "# fit standard linear model\n",
        "ypreds = np.array(ypreds).reshape(-1, 1) \n",
        "ys = np.array(ys).reshape(-1,1)\n",
        "\n",
        "X = sm.add_constant(ypreds)\n",
        "est = sm.OLS(ys, X)\n",
        "est2 = est.fit()\n",
        "print(est2.summary())"
      ],
      "metadata": {
        "colab": {
          "base_uri": "https://localhost:8080/"
        },
        "id": "ln2FINO1tMA0",
        "outputId": "f4a6f62b-c242-4770-d486-e0bef6dca9dc"
      },
      "execution_count": null,
      "outputs": [
        {
          "output_type": "stream",
          "name": "stdout",
          "text": [
            "                            OLS Regression Results                            \n",
            "==============================================================================\n",
            "Dep. Variable:                      y   R-squared:                       0.337\n",
            "Model:                            OLS   Adj. R-squared:                  0.337\n",
            "Method:                 Least Squares   F-statistic:                     506.7\n",
            "Date:                Fri, 25 Feb 2022   Prob (F-statistic):           4.92e-91\n",
            "Time:                        11:52:37   Log-Likelihood:                -850.74\n",
            "No. Observations:                 998   AIC:                             1705.\n",
            "Df Residuals:                     996   BIC:                             1715.\n",
            "Df Model:                           1                                         \n",
            "Covariance Type:            nonrobust                                         \n",
            "==============================================================================\n",
            "                 coef    std err          t      P>|t|      [0.025      0.975]\n",
            "------------------------------------------------------------------------------\n",
            "const          0.2405      0.187      1.283      0.200      -0.127       0.608\n",
            "x1             1.0336      0.046     22.509      0.000       0.943       1.124\n",
            "==============================================================================\n",
            "Omnibus:                      283.799   Durbin-Watson:                   2.047\n",
            "Prob(Omnibus):                  0.000   Jarque-Bera (JB):             1425.072\n",
            "Skew:                           1.220   Prob(JB):                    3.54e-310\n",
            "Kurtosis:                       8.321   Cond. No.                         45.0\n",
            "==============================================================================\n",
            "\n",
            "Warnings:\n",
            "[1] Standard Errors assume that the covariance matrix of the errors is correctly specified.\n"
          ]
        }
      ]
    },
    {
      "cell_type": "code",
      "source": [
        "# adjusted mse\n",
        "sklearn.metrics.mean_squared_error(ys, est2.predict(X))"
      ],
      "metadata": {
        "id": "HChpEL-PjmRd",
        "outputId": "ab4991df-7480-44dd-a2db-1c69b669b378",
        "colab": {
          "base_uri": "https://localhost:8080/"
        }
      },
      "execution_count": null,
      "outputs": [
        {
          "output_type": "execute_result",
          "data": {
            "text/plain": [
              "0.32206787071309734"
            ]
          },
          "metadata": {},
          "execution_count": 135
        }
      ]
    },
    {
      "cell_type": "code",
      "source": [
        "# adjusted rsquared\n",
        "sklearn.metrics.r2_score(np.squeeze(ys), np.squeeze(est2.predict(X)))"
      ],
      "metadata": {
        "colab": {
          "base_uri": "https://localhost:8080/"
        },
        "id": "8SKDgt6VmxKe",
        "outputId": "614646d5-ce7a-41be-b909-bf02876e690d"
      },
      "execution_count": null,
      "outputs": [
        {
          "output_type": "execute_result",
          "data": {
            "text/plain": [
              "0.3371830663140887"
            ]
          },
          "metadata": {},
          "execution_count": 136
        }
      ]
    },
    {
      "cell_type": "markdown",
      "source": [
        "# Explainability categorical variables"
      ],
      "metadata": {
        "id": "4lgacq3DrsFE"
      }
    },
    {
      "cell_type": "code",
      "source": [
        "embeddings = np.empty((len(catlist[0]), 16))\n",
        "\n",
        "for i in range(len(catlist[0])):\n",
        "    embedding = model.generate_cat_embeddings(variable_number=0, category_number=i)\n",
        "    embedding = embedding.numpy()\n",
        "    embeddings[i] = embedding"
      ],
      "metadata": {
        "id": "0qhD16589zzN"
      },
      "execution_count": null,
      "outputs": []
    },
    {
      "cell_type": "code",
      "source": [
        "from sklearn.manifold import TSNE\n",
        "\n",
        "tsne = TSNE(random_state=1, perplexity=20)  # perplexity=x argument possible\n",
        "tsne_results = tsne.fit_transform(embeddings)"
      ],
      "metadata": {
        "id": "AbUZ26UsrvLz",
        "outputId": "571b2c88-165a-48f7-9a4e-a52a6cb5d493",
        "colab": {
          "base_uri": "https://localhost:8080/"
        }
      },
      "execution_count": null,
      "outputs": [
        {
          "output_type": "stream",
          "name": "stderr",
          "text": [
            "/usr/local/lib/python3.7/dist-packages/sklearn/manifold/_t_sne.py:783: FutureWarning: The default initialization in TSNE will change from 'random' to 'pca' in 1.2.\n",
            "  FutureWarning,\n",
            "/usr/local/lib/python3.7/dist-packages/sklearn/manifold/_t_sne.py:793: FutureWarning: The default learning rate in TSNE will change from 200.0 to 'auto' in 1.2.\n",
            "  FutureWarning,\n"
          ]
        }
      ]
    },
    {
      "cell_type": "code",
      "source": [
        "districts = ['Donaustadt', 'Leopoldstadt', 'Rudolfsheim-Fuenfhaus', 'Ottakring', 'Brigittenau', 'Neubau', 'Margareten',\n",
        "             'Hernals', 'Floridsdorf', 'Alsergrund', 'Simmering', 'Wieden', 'Mariahilf', 'Josefstadt', 'Landstrasse',\n",
        "             'Favoriten', 'Innere Stadt', 'Meidling', 'Wöhring', 'Döbling', 'Penzing', 'Liesing', 'Hietzing']"
      ],
      "metadata": {
        "id": "M-CAwqRxE4kS"
      },
      "execution_count": null,
      "outputs": []
    },
    {
      "cell_type": "code",
      "source": [
        "fig, ax = plt.subplots(figsize=(10, 10))\n",
        "ax.scatter(pca_results[:, 0], pca_results[:, 1])\n",
        "\n",
        "for i, txt in enumerate(districts):\n",
        "    ax.annotate(districts[i], (pca_results[:, 0][i], pca_results[:, 1][i]))\n",
        "\n",
        "plt.show()"
      ],
      "metadata": {
        "id": "lvDRkisBDNwx",
        "outputId": "245152a4-8a45-4172-a9fb-8bf11aed3578",
        "colab": {
          "base_uri": "https://localhost:8080/",
          "height": 594
        }
      },
      "execution_count": null,
      "outputs": [
        {
          "output_type": "display_data",
          "data": {
            "image/png": "[encoded data removed]",
            "text/plain": [
              "<Figure size 720x720 with 1 Axes>"
            ]
          },
          "metadata": {}
        }
      ]
    },
    {
      "cell_type": "code",
      "source": [
        "import sklearn\n",
        "pca = sklearn.decomposition.PCA(n_components=2)"
      ],
      "metadata": {
        "id": "nQy1akGCHa3f"
      },
      "execution_count": null,
      "outputs": []
    },
    {
      "cell_type": "code",
      "source": [
        "pca_results = pca.fit_transform(embeddings)"
      ],
      "metadata": {
        "id": "ctL25JbJHkbA"
      },
      "execution_count": null,
      "outputs": []
    }
  ],
  "metadata": {
    "colab": {
      "collapsed_sections": [],
      "name": "Ensemble_model.ipynb",
      "provenance": [],
      "include_colab_link": true
    },
    "kernelspec": {
      "display_name": "Python 3",
      "language": "python",
      "name": "python3"
    },
    "language_info": {
      "codemirror_mode": {
        "name": "ipython",
        "version": 3
      },
      "file_extension": ".py",
      "mimetype": "text/x-python",
      "name": "python",
      "nbconvert_exporter": "python",
      "pygments_lexer": "ipython3",
      "version": "3.8.5"
    },
    "accelerator": "GPU"
  },
  "nbformat": 4,
  "nbformat_minor": 0
}