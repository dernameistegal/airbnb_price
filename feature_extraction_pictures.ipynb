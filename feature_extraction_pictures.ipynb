{
  "nbformat": 4,
  "nbformat_minor": 0,
  "metadata": {
    "colab": {
      "name": "Untitled0.ipynb",
      "provenance": [],
      "machine_shape": "hm",
      "include_colab_link": true
    },
    "kernelspec": {
      "name": "python3",
      "display_name": "Python 3"
    },
    "language_info": {
      "name": "python"
    },
    "accelerator": "GPU"
  },
  "cells": [
    {
      "cell_type": "markdown",
      "metadata": {
        "id": "view-in-github",
        "colab_type": "text"
      },
      "source": [
        "<a href=\"https://colab.research.google.com/github/dernameistegal/airbnb_price/blob/main/feature_extraction_pictures.ipynb\" target=\"_parent\"><img src=\"https://colab.research.google.com/assets/colab-badge.svg\" alt=\"Open In Colab\"/></a>"
      ]
    },
    {
      "cell_type": "markdown",
      "source": [
        "# 0. Preparation"
      ],
      "metadata": {
        "id": "jbtdvB6FQgvs"
      }
    },
    {
      "cell_type": "code",
      "source": [
        "#@title remove repos from disc\n",
        "%cd /content\n",
        "!rm -r airbnb_price"
      ],
      "metadata": {
        "id": "QdOQljNz3blJ",
        "outputId": "4debfcb2-ef95-4145-d33b-c120888c5a35",
        "colab": {
          "base_uri": "https://localhost:8080/"
        },
        "cellView": "form"
      },
      "execution_count": 9,
      "outputs": [
        {
          "output_type": "stream",
          "name": "stdout",
          "text": [
            "/content\n"
          ]
        }
      ]
    },
    {
      "cell_type": "code",
      "metadata": {
        "id": "DJ7o4vsf3Sn9",
        "cellView": "form",
        "outputId": "e51a4af0-647b-460e-9066-3edf9d599b8f",
        "colab": {
          "base_uri": "https://localhost:8080/"
        }
      },
      "source": [
        "#@title Clone repo\n",
        "!git clone https://github.com/dernameistegal/airbnb_price.git"
      ],
      "execution_count": 10,
      "outputs": [
        {
          "output_type": "stream",
          "name": "stdout",
          "text": [
            "Cloning into 'airbnb_price'...\n",
            "remote: Enumerating objects: 68, done.\u001b[K\n",
            "remote: Counting objects: 100% (68/68), done.\u001b[K\n",
            "remote: Compressing objects: 100% (61/61), done.\u001b[K\n",
            "remote: Total 68 (delta 24), reused 28 (delta 3), pack-reused 0\u001b[K\n",
            "Unpacking objects: 100% (68/68), done.\n"
          ]
        }
      ]
    },
    {
      "cell_type": "code",
      "source": [
        "#@title add paths to library search path\n",
        "import sys \n",
        "\n",
        "sys.path.append(\"/content/airbnb_price/custom_functions\")\n",
        "sys.path.append(\"/content/airbnb_price/feature_extraction\")"
      ],
      "metadata": {
        "id": "JwAoaaJGkz3k",
        "cellView": "form"
      },
      "execution_count": 11,
      "outputs": []
    },
    {
      "cell_type": "code",
      "metadata": {
        "id": "4CxkNtPCI8nl",
        "cellView": "form",
        "colab": {
          "base_uri": "https://localhost:8080/"
        },
        "outputId": "b59f4d5e-6cef-4856-ced9-f93d8da9eace"
      },
      "source": [
        "#@title Imports and drive\n",
        "import os\n",
        "import torch\n",
        "import torchvision\n",
        "import pandas as pd\n",
        "import numpy as np\n",
        "import matplotlib.pyplot as plt\n",
        "from tqdm import tqdm\n",
        "\n",
        "# own modules\n",
        "import general_utils as gu\n",
        "import feature_extraction_utils as fu\n",
        "\n",
        "\n",
        "\n",
        "from google.colab import drive\n",
        "\n",
        "#@title Mount drive\n",
        "drive.mount('/content/drive/', force_remount=True)"
      ],
      "execution_count": 12,
      "outputs": [
        {
          "output_type": "stream",
          "name": "stdout",
          "text": [
            "Mounted at /content/drive/\n"
          ]
        }
      ]
    },
    {
      "cell_type": "code",
      "metadata": {
        "colab": {
          "base_uri": "https://localhost:8080/"
        },
        "id": "-5FPlKWBJMWs",
        "outputId": "75a35fe0-a525-4700-f4e3-d30a4301394d",
        "cellView": "form"
      },
      "source": [
        "#@title define device\n",
        "\n",
        "# device\n",
        "device = gu.get_device()\n",
        "num_cpus = os.cpu_count()\n",
        "print(num_cpus, 'CPUs available')"
      ],
      "execution_count": 13,
      "outputs": [
        {
          "output_type": "stream",
          "name": "stdout",
          "text": [
            "cuda available: True ; cudnn available: True ; num devices: 1\n",
            "Using device Tesla T4\n",
            "2 CPUs available\n"
          ]
        }
      ]
    },
    {
      "cell_type": "markdown",
      "source": [
        "# 1. Data Cleaning Hostpics (Dont has to be run again)"
      ],
      "metadata": {
        "id": "QLS2yRBCQb6P"
      }
    },
    {
      "cell_type": "code",
      "source": [
        "#@title function to detect one-channel images\n",
        "\n",
        "from tqdm import tqdm\n",
        "import numpy as np\n",
        "\n",
        "\n",
        "def detect_one_channel_pics(data_dir):\n",
        "    file_names = os.listdir(data_dir)\n",
        "    data = np.empty((len(file_names), 224, 224, 3))\n",
        "    ind_exceptions = []\n",
        "\n",
        "\n",
        "    for i in tqdm(range(len(file_names))):\n",
        "        try:\n",
        "            np.transpose(np.load(data_dir + \"/\" + file_names[i]), (2, 0, 1))\n",
        "        except:\n",
        "            ind_exceptions.append(i)\n",
        "            \n",
        "    # calculate list of file_names where exceptions occured\n",
        "    exceptions_file_names = [file_names[i] for i in ind_exceptions]\n",
        "\n",
        "    return exceptions_file_names"
      ],
      "metadata": {
        "cellView": "form",
        "id": "alQMhvZv6Cm0"
      },
      "execution_count": 8,
      "outputs": []
    },
    {
      "cell_type": "code",
      "source": [
        "#@title get file_names where pictures only have one channel\n",
        "hostpics_dir = \"/content/drive/MyDrive/Colab/airbnb/data/hostpics\"\n",
        "\n",
        "exceptions_file_names_npy = detect_one_channel_pics(hostpics_dir)\n",
        "\n",
        "# get pure ids that correspond to these pictures\n",
        "exceptions_file_names = [file_name.replace(\"hostpic\", \"\") for file_name in exceptions_file_names_npy]\n",
        "exceptions_file_names = [file_name.replace(\".npy\", \"\") for file_name in exceptions_file_names]"
      ],
      "metadata": {
        "id": "CDh453I7b9T0",
        "cellView": "form",
        "outputId": "312edaaf-c991-4399-c3c5-57d172c325b9",
        "colab": {
          "base_uri": "https://localhost:8080/"
        }
      },
      "execution_count": 10,
      "outputs": [
        {
          "output_type": "stream",
          "name": "stderr",
          "text": [
            "100%|██████████| 11375/11375 [03:18<00:00, 57.39it/s] \n"
          ]
        }
      ]
    },
    {
      "cell_type": "code",
      "source": [
        "#@title convert one channel images to grey scale and overwrite original images for compatibility with neural net\n",
        "for file_name in exceptions_file_names_npy:\n",
        "    file_path = \"/content/drive/MyDrive/Colab/airbnb/data/hostpics/\" + file_name\n",
        "    # add axis and repeat 3 times for 3 channels\n",
        "    x = np.load(file_path)\n",
        "    x = x[..., np.newaxis]\n",
        "    x = np.repeat(x, 3, axis=2)\n",
        "\n",
        "    # get max pixel value of image\n",
        "    max_pixel_value = np.max(x)\n",
        "\n",
        "    # scale pixel values to rgb range\n",
        "    x = np.round(x * (255/max_pixel_value))\n",
        "    x = x.astype(int)\n",
        "\n",
        "    np.save(file_path, x)\n"
      ],
      "metadata": {
        "id": "3Y7K5YovdU2H",
        "cellView": "form"
      },
      "execution_count": null,
      "outputs": []
    },
    {
      "cell_type": "code",
      "source": [
        "#@title get file_names where pictures only have two channels\n",
        "\n",
        "file_names = os.listdir(hostpics_dir)\n",
        "files_two_channels = []\n",
        "\n",
        "for file_name in file_names:\n",
        "    if np.load(hostpics_dir + \"/\" + file_name).shape == (224, 224, 2):\n",
        "        files_two_channels.append(file_name)"
      ],
      "metadata": {
        "cellView": "form",
        "id": "4cCeL1DZk5Cy"
      },
      "execution_count": 7,
      "outputs": []
    },
    {
      "cell_type": "code",
      "source": [
        "#@title convert two channel images to grey scale and overwrite original images for compatibility with neural net\n",
        "\n",
        "for file_name in tqdm(files_two_channels):\n",
        "    temp = np.load(hostpics_dir + \"/\" + file_name)\n",
        "    temp = temp[..., 0]\n",
        "    temp = temp[..., np.newaxis]\n",
        "    temp = np.repeat(temp, 3, axis = 2)\n",
        "\n",
        "    max_pixel_value = np.max(temp)\n",
        "\n",
        "    temp = np.round(temp * (255 / max_pixel_value))\n",
        "    temp = temp.astype(int)\n",
        "\n",
        "    np.save(hostpics_dir + \"/\" + file_name, temp)"
      ],
      "metadata": {
        "cellView": "form",
        "id": "43vjauW-mbMc",
        "outputId": "a75b61dd-d661-467e-a272-9a9c44c23c6a",
        "colab": {
          "base_uri": "https://localhost:8080/"
        }
      },
      "execution_count": 67,
      "outputs": [
        {
          "output_type": "stream",
          "name": "stderr",
          "text": [
            "100%|██████████| 13/13 [00:00<00:00, 60.11it/s]\n"
          ]
        }
      ]
    },
    {
      "cell_type": "code",
      "source": [
        "#@title get file_names where pictures have four channels\n",
        "\n",
        "file_names = os.listdir(hostpics_dir)\n",
        "files_four_channels = []\n",
        "\n",
        "for file_name in tqdm(file_names):\n",
        "    if np.load(hostpics_dir + \"/\" + file_name).shape == (224, 224, 4):\n",
        "        files_four_channels.append(file_name)"
      ],
      "metadata": {
        "cellView": "form",
        "id": "Ipp6mqR-Ohua",
        "outputId": "fcb7a909-caca-4eef-8345-1b25ca53c406",
        "colab": {
          "base_uri": "https://localhost:8080/"
        }
      },
      "execution_count": 99,
      "outputs": [
        {
          "output_type": "stream",
          "name": "stderr",
          "text": [
            "100%|██████████| 11311/11311 [00:28<00:00, 398.50it/s]\n"
          ]
        }
      ]
    },
    {
      "cell_type": "code",
      "source": [
        "#@title convert four channel images to three channel images and overwrite original images for compatibility with neural net\n",
        "\n",
        "for file_name in tqdm(files_four_channels):\n",
        "    temp = np.load(hostpics_dir + \"/\" + file_name)\n",
        "    temp = temp[..., 0:3]\n",
        "    np.save(hostpics_dir + \"/\" + file_name, temp)"
      ],
      "metadata": {
        "cellView": "form",
        "id": "HQ3BdU2uPSb5",
        "outputId": "89075d7f-830e-464f-8c23-0f85d9597e96",
        "colab": {
          "base_uri": "https://localhost:8080/"
        }
      },
      "execution_count": 85,
      "outputs": [
        {
          "output_type": "stream",
          "name": "stderr",
          "text": [
            "100%|██████████| 51/51 [00:00<00:00, 51.47it/s]\n"
          ]
        }
      ]
    },
    {
      "cell_type": "markdown",
      "source": [
        "# 2. Feature Extraction Hostpics"
      ],
      "metadata": {
        "id": "q2D71W_WQqu4"
      }
    },
    {
      "cell_type": "code",
      "source": [
        "file_names = os.listdir(\"/content/drive/MyDrive/Colab/airbnb/data/hostpics\")"
      ],
      "metadata": {
        "id": "5keKHMKAUMqN"
      },
      "execution_count": 16,
      "outputs": []
    },
    {
      "cell_type": "code",
      "source": [
        "len(file_names)"
      ],
      "metadata": {
        "id": "41feUWKpUNiL",
        "outputId": "7bc41252-03f2-444a-961b-cbd8fb96685a",
        "colab": {
          "base_uri": "https://localhost:8080/"
        }
      },
      "execution_count": 17,
      "outputs": [
        {
          "output_type": "execute_result",
          "data": {
            "text/plain": [
              "11311"
            ]
          },
          "metadata": {},
          "execution_count": 17
        }
      ]
    },
    {
      "cell_type": "code",
      "source": [
        "len(file_names)"
      ],
      "metadata": {
        "id": "1iAidm1vSlxx",
        "outputId": "862f460e-d38d-417b-8666-275246c36aaa",
        "colab": {
          "base_uri": "https://localhost:8080/"
        }
      },
      "execution_count": 88,
      "outputs": [
        {
          "output_type": "execute_result",
          "data": {
            "text/plain": [
              "11362"
            ]
          },
          "metadata": {},
          "execution_count": 88
        }
      ]
    },
    {
      "cell_type": "code",
      "source": [
        "len(os.listdir(hostpics_dir))"
      ],
      "metadata": {
        "id": "oFqwxmj0S_lk",
        "outputId": "bfc3281f-584c-447a-a2ac-06211e450e42",
        "colab": {
          "base_uri": "https://localhost:8080/"
        }
      },
      "execution_count": 93,
      "outputs": [
        {
          "output_type": "execute_result",
          "data": {
            "text/plain": [
              "11311"
            ]
          },
          "metadata": {},
          "execution_count": 93
        }
      ]
    },
    {
      "cell_type": "code",
      "source": [
        "len(files_four_channels)"
      ],
      "metadata": {
        "id": "ibUHqfnvTDFI",
        "outputId": "f15461a8-1eee-4477-862c-342137b81007",
        "colab": {
          "base_uri": "https://localhost:8080/"
        }
      },
      "execution_count": 90,
      "outputs": [
        {
          "output_type": "execute_result",
          "data": {
            "text/plain": [
              "51"
            ]
          },
          "metadata": {},
          "execution_count": 90
        }
      ]
    },
    {
      "cell_type": "code",
      "source": [
        "test = []\n",
        "\n",
        "for file_name in tqdm(file_names):\n",
        "    if np.load(hostpics_dir + \"/\" + file_name).shape == (224, 224, 3):\n",
        "        test.append(file_name)"
      ],
      "metadata": {
        "id": "vMgjBTCsSKLE",
        "outputId": "570285b9-fdb7-4dd8-cb8a-dacd2d396ed1",
        "colab": {
          "base_uri": "https://localhost:8080/",
          "height": 374
        }
      },
      "execution_count": 86,
      "outputs": [
        {
          "output_type": "stream",
          "name": "stderr",
          "text": [
            "  4%|▍         | 477/11362 [00:00<00:21, 503.16it/s]\n"
          ]
        },
        {
          "output_type": "error",
          "ename": "FileNotFoundError",
          "evalue": "ignored",
          "traceback": [
            "\u001b[0;31m---------------------------------------------------------------------------\u001b[0m",
            "\u001b[0;31mFileNotFoundError\u001b[0m                         Traceback (most recent call last)",
            "\u001b[0;32m<ipython-input-86-084aa1191092>\u001b[0m in \u001b[0;36m<module>\u001b[0;34m()\u001b[0m\n\u001b[1;32m      2\u001b[0m \u001b[0;34m\u001b[0m\u001b[0m\n\u001b[1;32m      3\u001b[0m \u001b[0;32mfor\u001b[0m \u001b[0mfile_name\u001b[0m \u001b[0;32min\u001b[0m \u001b[0mtqdm\u001b[0m\u001b[0;34m(\u001b[0m\u001b[0mfile_names\u001b[0m\u001b[0;34m)\u001b[0m\u001b[0;34m:\u001b[0m\u001b[0;34m\u001b[0m\u001b[0;34m\u001b[0m\u001b[0m\n\u001b[0;32m----> 4\u001b[0;31m     \u001b[0;32mif\u001b[0m \u001b[0mnp\u001b[0m\u001b[0;34m.\u001b[0m\u001b[0mload\u001b[0m\u001b[0;34m(\u001b[0m\u001b[0mhostpics_dir\u001b[0m \u001b[0;34m+\u001b[0m \u001b[0;34m\"/\"\u001b[0m \u001b[0;34m+\u001b[0m \u001b[0mfile_name\u001b[0m\u001b[0;34m)\u001b[0m\u001b[0;34m.\u001b[0m\u001b[0mshape\u001b[0m \u001b[0;34m==\u001b[0m \u001b[0;34m(\u001b[0m\u001b[0;36m224\u001b[0m\u001b[0;34m,\u001b[0m \u001b[0;36m224\u001b[0m\u001b[0;34m,\u001b[0m \u001b[0;36m3\u001b[0m\u001b[0;34m)\u001b[0m\u001b[0;34m:\u001b[0m\u001b[0;34m\u001b[0m\u001b[0;34m\u001b[0m\u001b[0m\n\u001b[0m\u001b[1;32m      5\u001b[0m         \u001b[0mtest\u001b[0m\u001b[0;34m.\u001b[0m\u001b[0mappend\u001b[0m\u001b[0;34m(\u001b[0m\u001b[0mfile_name\u001b[0m\u001b[0;34m)\u001b[0m\u001b[0;34m\u001b[0m\u001b[0;34m\u001b[0m\u001b[0m\n",
            "\u001b[0;32m/usr/local/lib/python3.7/dist-packages/numpy/lib/npyio.py\u001b[0m in \u001b[0;36mload\u001b[0;34m(file, mmap_mode, allow_pickle, fix_imports, encoding)\u001b[0m\n\u001b[1;32m    414\u001b[0m             \u001b[0mown_fid\u001b[0m \u001b[0;34m=\u001b[0m \u001b[0;32mFalse\u001b[0m\u001b[0;34m\u001b[0m\u001b[0;34m\u001b[0m\u001b[0m\n\u001b[1;32m    415\u001b[0m         \u001b[0;32melse\u001b[0m\u001b[0;34m:\u001b[0m\u001b[0;34m\u001b[0m\u001b[0;34m\u001b[0m\u001b[0m\n\u001b[0;32m--> 416\u001b[0;31m             \u001b[0mfid\u001b[0m \u001b[0;34m=\u001b[0m \u001b[0mstack\u001b[0m\u001b[0;34m.\u001b[0m\u001b[0menter_context\u001b[0m\u001b[0;34m(\u001b[0m\u001b[0mopen\u001b[0m\u001b[0;34m(\u001b[0m\u001b[0mos_fspath\u001b[0m\u001b[0;34m(\u001b[0m\u001b[0mfile\u001b[0m\u001b[0;34m)\u001b[0m\u001b[0;34m,\u001b[0m \u001b[0;34m\"rb\"\u001b[0m\u001b[0;34m)\u001b[0m\u001b[0;34m)\u001b[0m\u001b[0;34m\u001b[0m\u001b[0;34m\u001b[0m\u001b[0m\n\u001b[0m\u001b[1;32m    417\u001b[0m             \u001b[0mown_fid\u001b[0m \u001b[0;34m=\u001b[0m \u001b[0;32mTrue\u001b[0m\u001b[0;34m\u001b[0m\u001b[0;34m\u001b[0m\u001b[0m\n\u001b[1;32m    418\u001b[0m \u001b[0;34m\u001b[0m\u001b[0m\n",
            "\u001b[0;31mFileNotFoundError\u001b[0m: [Errno 2] No such file or directory: '/content/drive/MyDrive/Colab/airbnb/data/hostpics/hostpic52543399.npy'"
          ]
        }
      ]
    },
    {
      "cell_type": "code",
      "source": [
        "hostpics_dir = \"/content/drive/MyDrive/Colab/airbnb/data/hostpics\""
      ],
      "metadata": {
        "id": "vLL1uRWndLTw"
      },
      "execution_count": 4,
      "outputs": []
    },
    {
      "cell_type": "code",
      "source": [
        "shapes = []\n",
        "\n",
        "for file_name in atypical:\n",
        "    temp = np.load(hostpics_dir + \"/\" + file_name)\n",
        "    shapes.append(temp.shape)\n"
      ],
      "metadata": {
        "id": "gztC3KT_jCMA"
      },
      "execution_count": 18,
      "outputs": []
    },
    {
      "cell_type": "code",
      "source": [
        "shapes"
      ],
      "metadata": {
        "id": "FW6pTYvEkoLd",
        "outputId": "a6b695c3-b788-434d-a1fa-23dcbfdbe3da",
        "colab": {
          "base_uri": "https://localhost:8080/"
        }
      },
      "execution_count": 20,
      "outputs": [
        {
          "output_type": "execute_result",
          "data": {
            "text/plain": [
              "[(224, 224, 2),\n",
              " (224, 224, 2),\n",
              " (224, 224, 2),\n",
              " (224, 224, 4),\n",
              " (224, 224, 2),\n",
              " (224, 224, 2),\n",
              " (224, 224, 2),\n",
              " (224, 224, 2),\n",
              " (224, 224, 2),\n",
              " (224, 224, 4),\n",
              " (224, 224, 4),\n",
              " (224, 224, 4),\n",
              " (224, 224, 4),\n",
              " (224, 224, 4),\n",
              " (224, 224, 4),\n",
              " (224, 224, 4),\n",
              " (224, 224, 4),\n",
              " (224, 224, 4),\n",
              " (224, 224, 4),\n",
              " (224, 224, 4),\n",
              " (224, 224, 2),\n",
              " (224, 224, 4),\n",
              " (224, 224, 4),\n",
              " (224, 224, 4),\n",
              " (224, 224, 2),\n",
              " (224, 224, 4),\n",
              " (224, 224, 4),\n",
              " (224, 224, 2),\n",
              " (224, 224, 2),\n",
              " (224, 224, 4),\n",
              " (224, 224, 4),\n",
              " (224, 224, 4),\n",
              " (224, 224, 4),\n",
              " (224, 224, 4),\n",
              " (224, 224, 4),\n",
              " (224, 224, 4),\n",
              " (224, 224, 4),\n",
              " (224, 224, 4),\n",
              " (224, 224, 4),\n",
              " (224, 224, 4),\n",
              " (224, 224, 4),\n",
              " (224, 224, 4),\n",
              " (224, 224, 4),\n",
              " (224, 224, 4),\n",
              " (224, 224, 4),\n",
              " (224, 224, 4),\n",
              " (224, 224, 4),\n",
              " (224, 224, 4),\n",
              " (224, 224, 4),\n",
              " (224, 224, 4),\n",
              " (224, 224, 4),\n",
              " (224, 224, 4),\n",
              " (224, 224, 4),\n",
              " (224, 224, 4),\n",
              " (224, 224, 2),\n",
              " (224, 224, 4),\n",
              " (224, 224, 4),\n",
              " (224, 224, 4),\n",
              " (224, 224, 4),\n",
              " (224, 224, 4),\n",
              " (224, 224, 4),\n",
              " (224, 224, 4),\n",
              " (224, 224, 4),\n",
              " (224, 224, 4)]"
            ]
          },
          "metadata": {},
          "execution_count": 20
        }
      ]
    },
    {
      "cell_type": "code",
      "source": [
        "#@title make dataset\n",
        "\n",
        "# initialize dataset and dataloader\n",
        "dataset = fu.Dataset(hostpics_dir, means, stds, 10)\n",
        "dataloader = torch.utils.data.DataLoader(dataset, batch_size=1, shuffle=False)\n",
        "\n",
        "# # get pretrained model\n",
        "# vgg = torchvision.models.vgg19(pretrained=True)\n",
        "# feature_extractor = vgg.features[0:31]\n",
        "\n",
        "# # compute features for later training\n",
        "# x = fu.compute_train_features(device, dataloader, feature_extractor)\n",
        "\n",
        "\n",
        "\n",
        "\n",
        "\n",
        "\n",
        "\n",
        "\n",
        "\n",
        "\n",
        "\n",
        "\n",
        "\n",
        "\n",
        "\n",
        "\n",
        "\n",
        "\n",
        "\n",
        "\n",
        "\n",
        "\n",
        "\n",
        "\n",
        "\n"
      ],
      "metadata": {
        "id": "p5h86a3dtPir",
        "colab": {
          "base_uri": "https://localhost:8080/",
          "height": 235
        },
        "outputId": "23b822a4-c7b3-43b0-f755-bfc36a474ebe"
      },
      "execution_count": 6,
      "outputs": [
        {
          "output_type": "error",
          "ename": "NameError",
          "evalue": "ignored",
          "traceback": [
            "\u001b[0;31m---------------------------------------------------------------------------\u001b[0m",
            "\u001b[0;31mNameError\u001b[0m                                 Traceback (most recent call last)",
            "\u001b[0;32m<ipython-input-6-5ef192702ceb>\u001b[0m in \u001b[0;36m<module>\u001b[0;34m()\u001b[0m\n\u001b[1;32m      2\u001b[0m \u001b[0;34m\u001b[0m\u001b[0m\n\u001b[1;32m      3\u001b[0m \u001b[0;31m# initialize dataset and dataloader\u001b[0m\u001b[0;34m\u001b[0m\u001b[0;34m\u001b[0m\u001b[0;34m\u001b[0m\u001b[0m\n\u001b[0;32m----> 4\u001b[0;31m \u001b[0mdataset\u001b[0m \u001b[0;34m=\u001b[0m \u001b[0mfu\u001b[0m\u001b[0;34m.\u001b[0m\u001b[0mDataset\u001b[0m\u001b[0;34m(\u001b[0m\u001b[0mhostpics_dir\u001b[0m\u001b[0;34m,\u001b[0m \u001b[0mmeans\u001b[0m\u001b[0;34m,\u001b[0m \u001b[0mstds\u001b[0m\u001b[0;34m,\u001b[0m \u001b[0;36m10\u001b[0m\u001b[0;34m)\u001b[0m\u001b[0;34m\u001b[0m\u001b[0;34m\u001b[0m\u001b[0m\n\u001b[0m\u001b[1;32m      5\u001b[0m \u001b[0mdataloader\u001b[0m \u001b[0;34m=\u001b[0m \u001b[0mtorch\u001b[0m\u001b[0;34m.\u001b[0m\u001b[0mutils\u001b[0m\u001b[0;34m.\u001b[0m\u001b[0mdata\u001b[0m\u001b[0;34m.\u001b[0m\u001b[0mDataLoader\u001b[0m\u001b[0;34m(\u001b[0m\u001b[0mdataset\u001b[0m\u001b[0;34m,\u001b[0m \u001b[0mbatch_size\u001b[0m\u001b[0;34m=\u001b[0m\u001b[0;36m1\u001b[0m\u001b[0;34m,\u001b[0m \u001b[0mshuffle\u001b[0m\u001b[0;34m=\u001b[0m\u001b[0;32mFalse\u001b[0m\u001b[0;34m)\u001b[0m\u001b[0;34m\u001b[0m\u001b[0;34m\u001b[0m\u001b[0m\n\u001b[1;32m      6\u001b[0m \u001b[0;34m\u001b[0m\u001b[0m\n",
            "\u001b[0;31mNameError\u001b[0m: name 'means' is not defined"
          ]
        }
      ]
    },
    {
      "cell_type": "code",
      "source": [
        "model_name = \"pointnet2_2\" # model to be trained\n",
        "model = importlib.import_module(model_name)\n",
        "destination_path = \"/content/Pointnet_Pointnet2_pytorch/log/part_seg/\"\n",
        "destination_path = destination_path + model_name"
      ],
      "metadata": {
        "id": "G7D9JJgB_thB"
      },
      "execution_count": null,
      "outputs": []
    },
    {
      "cell_type": "code",
      "source": [
        "# Use pretrained model? If yes run this chunk\n",
        "source_path = \"/content/drive/MyDrive/Colab/tree_learning/trained_models/PartSeg1\"  # pretrained model to be used (check for compatibility with model to be trained)\n",
        "source_path = source_path + \"/.\"\n",
        "!rm -r $destination_path\n",
        "!mkdir $destination_path\n",
        "!cp -a $source_path $destination_path"
      ],
      "metadata": {
        "id": "2JdT2VVH-eSN"
      },
      "execution_count": null,
      "outputs": []
    },
    {
      "cell_type": "code",
      "source": [
        "# generate train and val split to be used in dataloaders\n",
        "gu.gen_split(percentages=[0.7, 0.3])"
      ],
      "metadata": {
        "id": "0lqq14Xto5DC"
      },
      "execution_count": null,
      "outputs": []
    },
    {
      "cell_type": "code",
      "source": [
        "# train model\n",
        "!python train_partseg.py --model $model_name --log_dir $model_name --npoint 8192 --epoch 30 --step_size 30 --batch_size 8 --weight 1"
      ],
      "metadata": {
        "id": "a0rLC8NaKO5T"
      },
      "execution_count": null,
      "outputs": []
    },
    {
      "cell_type": "code",
      "source": [
        "# Save trained model? If yes run this chunk\n",
        "source_path = \"/content/Pointnet_Pointnet2_pytorch/log/part_seg/\"\n",
        "source_path = source_path + model_name\n",
        "source_path = source_path + \"/.\"\n",
        "destination_path = \"/content/drive/MyDrive/Colab/tree_learning/trained_models/test/test/\" # destination path to save trained model and corresponding files\n",
        "\n",
        "!mkdir -p $destination_path\n",
        "!cp -a $source_path $destination_path"
      ],
      "metadata": {
        "id": "DSFO4IrX-m54"
      },
      "execution_count": null,
      "outputs": []
    },
    {
      "cell_type": "code",
      "source": [
        "#@title plot performance\n",
        "# plot loss and accuracy against epochs\n",
        "    \n",
        "loss_path = \"/content/Pointnet_Pointnet2_pytorch/log/part_seg/\" + model_name + \"/performance/loss.npy\"\n",
        "pu.plot(\"Loss\", \"Loss\", loss_path, yscale='linear')\n",
        "\n",
        "accs_path = \"/content/Pointnet_Pointnet2_pytorch/log/part_seg/\" + model_name + \"/performance/accs.npy\"\n",
        "pu.plot(\"Accuracy\", \"Accuracy\", accs_path, yscale='linear')\n",
        "\n",
        "w_accs_path = \"/content/Pointnet_Pointnet2_pytorch/log/part_seg/\" + model_name + \"/performance/w_accs.npy\"\n",
        "pu.plot(\"weighted Accuracy\", \"weighted Accuracy\", w_accs_path, yscale='linear')\n",
        "\n",
        "w_accs_path = \"/content/Pointnet_Pointnet2_pytorch/log/part_seg/\" + model_name + \"/performance/tree_accs.npy\"\n",
        "pu.plot(\"tree Accuracy\", \"tree Accuracy\", w_accs_path, yscale='linear')\n",
        "\n",
        "w_accs_path = \"/content/Pointnet_Pointnet2_pytorch/log/part_seg/\" + model_name + \"/performance/no_tree_accs.npy\"\n",
        "pu.plot(\"no tree Accuracy\", \"no tree Accuracy\", w_accs_path, yscale='linear')\n",
        "\n",
        "mious_path = w_accs_path = \"/content/Pointnet_Pointnet2_pytorch/log/part_seg/\" + model_name + \"/performance/mious.npy\"\n",
        "pu.plot(\"miou\", \"miou\", mious_path, yscale='linear')"
      ],
      "metadata": {
        "id": "WK66PhjOCbFS",
        "cellView": "form"
      },
      "execution_count": null,
      "outputs": []
    },
    {
      "cell_type": "markdown",
      "source": [
        "#Analysis"
      ],
      "metadata": {
        "id": "0VAlV-EU-GXF"
      }
    },
    {
      "cell_type": "code",
      "source": [
        "#@title definition of visual analysis function\n",
        "import pandas as pd\n",
        "import plotly.express as px\n",
        "import matplotlib.pyplot as plt\n",
        "\n",
        "\n",
        "def explore2(points, prediction, label, mode=\"pointcloud\", colormode=\"binary\"):\n",
        "\n",
        "    # explore results with pointcloud\n",
        "    if mode == \"pointcloud\":\n",
        "        if colormode == \"binary\":\n",
        "            prediction[np.logical_and(label == 1, prediction == 1)] = 4  # true positive\n",
        "            prediction[np.logical_and(label == 1, prediction == 0)] = 2  # false negative\n",
        "            prediction[np.logical_and(label == 0, prediction == 1)] = 3  # false positive\n",
        "            prediction[np.logical_and(label == 0, prediction == 0)] = 1  # true negative\n",
        "        \n",
        "        df = pd.DataFrame(data=np.column_stack((points, label, prediction)), columns=[\"x\", \"y\", \"z\", \"label\", \"prediction\"])\n",
        "        # create vector of sizes (two sizes for tree and non-tree points)\n",
        "        size = df.iloc[:, -2] * 0.02 + 1\n",
        "\n",
        "        fig = px.scatter_3d(df, x='x', y='y', z='z',\n",
        "                            color='prediction',\n",
        "                            symbol='label', size=size, opacity=0, size_max=5)\n",
        "\n",
        "        # tight layout\n",
        "        fig.update_layout(margin=dict(l=0, r=0, b=0, t=0))\n",
        "\n",
        "        fig.show()\n",
        "\n",
        "    # explore results with histogram\n",
        "    if mode == \"histogram\":\n",
        "        tp = sum(np.logical_and(label == 1, prediction >= 0.5))\n",
        "        fn = sum(np.logical_and(label == 1, prediction <= 0.5))\n",
        "        fp = sum(np.logical_and(label == 0, prediction >= 0.5))\n",
        "        tn = sum(np.logical_and(label == 0, prediction <= 0.5))\n",
        "        print(f\"{tp / len(label)*100:.2f} are true positive\")  # true positive\n",
        "        print(f\"{fn / len(label)*100:.2f} are false negative\")  # false negative\n",
        "        print(f\"{fp / len(label)*100:.2f} are false positive\")  # false positive\n",
        "        print(f\"{tn / len(label)*100:.2f} are true negative\")  # true negative\n",
        "        iou_tree = tp / (tp + fp + fn)\n",
        "        iou_not_tree = tn / (tn + fn + fp)\n",
        "        acc_tree, acc_not_tree = tp / (tp + fn), tn / (tn + fp)\n",
        "        w_acc = (acc_tree + acc_not_tree) / 2\n",
        "        print(f\"the iou_tree is {iou_tree:.4f} the iou_not_tree is {iou_not_tree:.4f}\")\n",
        "        print(f\"the miou is {(iou_tree + iou_not_tree) / 2:.4f}\")\n",
        "        print(f\"the acc_tree is {acc_tree:.4f} the acc_not_tree is {acc_not_tree:.4f}\")\n",
        "        print(f\"the weighted accuracy is {w_acc:.4f}\")\n",
        "        \n",
        "        fig, axs = plt.subplots(1, 2, sharey=True, tight_layout=True)\n",
        "        axs[0].hist(prediction)\n",
        "        axs[1].hist(label)\n",
        "        fig.show()"
      ],
      "metadata": {
        "id": "iRDCif1ysVAG",
        "cellView": "form"
      },
      "execution_count": null,
      "outputs": []
    },
    {
      "cell_type": "code",
      "source": [
        "treenumber = 15\n",
        "npoints = 2048\n",
        "split_path = \"/content/Pointnet_Pointnet2_pytorch/data/\" + \"valsplit.npy\"\n",
        "# um einen bestimmten Baum zu wählen, die folgende Zeile ausführen\n",
        "#gu.gen_split(paths = [split_path], shuffle=False, percentages=[1])"
      ],
      "metadata": {
        "id": "PDD1NuMJauSm"
      },
      "execution_count": null,
      "outputs": []
    },
    {
      "cell_type": "code",
      "source": [
        "#@title generate predictions for chosen tree from trained model (saved in result)\n",
        "\n",
        "# load learned model\n",
        "def inplace_relu(m):\n",
        "    classname = m.__class__.__name__\n",
        "    if classname.find('ReLU') != -1:\n",
        "        m.inplace=True\n",
        "\n",
        "classifier = model.get_model(2, normal_channel=False).to(device)\n",
        "classifier.apply(inplace_relu)\n",
        "\n",
        "model_path = \"/content/Pointnet_Pointnet2_pytorch/log/part_seg/\" + model_name + \"/checkpoints/best_model.pth\"\n",
        "checkpoint = torch.load(model_path)\n",
        "classifier.load_state_dict(checkpoint['model_state_dict'])\n",
        "\n",
        "# instantiate dataset (choose from trainsplit, valsplit or nosplit)\n",
        "root = \"/content/Pointnet_Pointnet2_pytorch/data/\"\n",
        "\n",
        "\n",
        "testtransform = t.Compose([t.Normalize()])\n",
        "TRAIN_DATASET = dset.PartNormalDataset(root=root, \n",
        "                                  npoints=npoints,\n",
        "                                  transform=testtransform,\n",
        "                                  splitpath=split_path, \n",
        "                                  normal_channel=False, mode=\"eval\")\n",
        "\n",
        "# predict targets for arbitrary tree number\n",
        "points, label, target, _, upoints = TRAIN_DATASET[treenumber]\n",
        "points, label, target = torch.tensor(points), torch.tensor(label), torch.tensor(target)\n",
        "points, target = torch.unsqueeze(points, 0), torch.unsqueeze(target, 0)\n",
        "points, label, target = points.float().to(device), label.long().to(device), target.long().to(device)\n",
        "points = points.transpose(2, 1)\n",
        "\n",
        "\n",
        "def to_categorical(y, num_classes):\n",
        "    \"\"\" 1-hot encodes a tensor \"\"\"\n",
        "    new_y = torch.eye(num_classes)[y.cpu().data.numpy(),]\n",
        "    if (y.is_cuda):\n",
        "        return new_y.cuda()\n",
        "    return new_y\n",
        "\n",
        "\n",
        "with torch.no_grad():\n",
        "    classifier.eval()\n",
        "    result = classifier(points, to_categorical(label, 1))[0]\n",
        "\n",
        "\n",
        "preds = torch.argmax(result[0], axis=1)\n",
        "points = points[0].T\n",
        "target = target[0]\n",
        "points = points[:, :3]\n",
        "points = points.detach().cpu().numpy()\n",
        "preds = preds.detach().cpu().numpy()\n",
        "target = target.detach().cpu().numpy()\n",
        "m = torch.nn.Softmax()\n",
        "pred_probabilities = m(result[0])[:,1].detach().cpu().numpy()\n"
      ],
      "metadata": {
        "id": "kpLffSEKfBXC",
        "cellView": "form"
      },
      "execution_count": null,
      "outputs": []
    },
    {
      "cell_type": "code",
      "source": [
        "#@title Numerical Analysis for the chosen tree\n",
        "correct = np.sum(preds == target)\n",
        "print(\"Accuracy\", correct / (npoints))\n",
        "# confusion values in numbers and histograms of predicted probabilities and true labels\n",
        "explore2(upoints, pred_probabilities, target, mode=\"histogram\")"
      ],
      "metadata": {
        "cellView": "form",
        "id": "2xqMBVl_99rV"
      },
      "execution_count": null,
      "outputs": []
    },
    {
      "cell_type": "code",
      "source": [
        "# plot binary predictions (yellow = true positive, red = false positive, blue = true negative, purple = false negative)\n",
        "explore2(upoints, preds, target, mode=\"pointcloud\", colormode=\"binary\")"
      ],
      "metadata": {
        "id": "3lsfCI3I2mAY"
      },
      "execution_count": null,
      "outputs": []
    },
    {
      "cell_type": "code",
      "source": [
        "# non-binary predictions\n",
        "explore2(upoints, pred_probabilities, np.array(target), mode=\"pointcloud\")"
      ],
      "metadata": {
        "id": "6uQe2auQeVNm"
      },
      "execution_count": null,
      "outputs": []
    }
  ]
}