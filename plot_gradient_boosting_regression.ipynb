{
  "cells": [
    {
      "cell_type": "markdown",
      "metadata": {
        "id": "view-in-github",
        "colab_type": "text"
      },
      "source": [
        "<a href=\"https://colab.research.google.com/github/dernameistegal/airbnb_price/blob/main/plot_gradient_boosting_regression.ipynb\" target=\"_parent\"><img src=\"https://colab.research.google.com/assets/colab-badge.svg\" alt=\"Open In Colab\"/></a>"
      ]
    },
    {
      "cell_type": "code",
      "source": [
        "import pandas as pd"
      ],
      "metadata": {
        "id": "TiQqv28usDl4"
      },
      "execution_count": 1,
      "outputs": []
    },
    {
      "cell_type": "code",
      "source": [
        "!git clone https://github.com/dernameistegal/airbnb_price.git"
      ],
      "metadata": {
        "id": "xiB-yymdplDz",
        "outputId": "fb962877-b861-4471-83f4-cad96a347d0b",
        "colab": {
          "base_uri": "https://localhost:8080/"
        }
      },
      "execution_count": 2,
      "outputs": [
        {
          "output_type": "stream",
          "name": "stdout",
          "text": [
            "Cloning into 'airbnb_price'...\n",
            "remote: Enumerating objects: 583, done.\u001b[K\n",
            "remote: Counting objects: 100% (583/583), done.\u001b[K\n",
            "remote: Compressing objects: 100% (550/550), done.\u001b[K\n",
            "remote: Total 583 (delta 310), reused 152 (delta 27), pack-reused 0\u001b[K\n",
            "Receiving objects: 100% (583/583), 3.93 MiB | 9.32 MiB/s, done.\n",
            "Resolving deltas: 100% (310/310), done.\n"
          ]
        }
      ]
    },
    {
      "cell_type": "markdown",
      "metadata": {
        "id": "UnX3snverztr"
      },
      "source": [
        "\n",
        "# Gradient Boosting regression\n",
        "\n",
        "This example demonstrates Gradient Boosting to produce a predictive\n",
        "model from an ensemble of weak predictive models. Gradient boosting can be used\n",
        "for regression and classification problems. Here, we will train a model to\n",
        "tackle a diabetes regression task. We will obtain the results from\n",
        ":class:`~sklearn.ensemble.GradientBoostingRegressor` with least squares loss\n",
        "and 500 regression trees of depth 4.\n",
        "\n",
        "Note: For larger datasets (n_samples >= 10000), please refer to\n",
        ":class:`~sklearn.ensemble.HistGradientBoostingRegressor`.\n"
      ]
    },
    {
      "cell_type": "code",
      "source": [
        "from google.colab import drive\n",
        "drive.mount('/content/drive')"
      ],
      "metadata": {
        "colab": {
          "base_uri": "https://localhost:8080/"
        },
        "id": "kVFynWyYr22U",
        "outputId": "2784cdeb-4d15-4af5-f079-cdc637f24488"
      },
      "execution_count": 3,
      "outputs": [
        {
          "output_type": "stream",
          "name": "stdout",
          "text": [
            "Mounted at /content/drive\n"
          ]
        }
      ]
    },
    {
      "cell_type": "code",
      "source": [
        "%cd airbnb_price\n",
        "import sys\n",
        "sys.path.append(\"/content/airbnb_price/custom_functions\")\n",
        "import general_utils as ut"
      ],
      "metadata": {
        "id": "L9dvk-VhqItL",
        "outputId": "164320b5-f730-49e0-b8f4-ec404bf52f51",
        "colab": {
          "base_uri": "https://localhost:8080/"
        }
      },
      "execution_count": 4,
      "outputs": [
        {
          "output_type": "stream",
          "name": "stdout",
          "text": [
            "/content/airbnb_price\n"
          ]
        }
      ]
    },
    {
      "cell_type": "code",
      "source": [
        "listings =pd.read_pickle(\"/content/drive/MyDrive/Colab/airbnb/data/data1/listings_workfile.pickle\")"
      ],
      "metadata": {
        "id": "kj6NmXH9sBRj"
      },
      "execution_count": 5,
      "outputs": []
    },
    {
      "cell_type": "code",
      "execution_count": 6,
      "metadata": {
        "id": "W7fO0eP5rztt"
      },
      "outputs": [],
      "source": [
        "# Author: Peter Prettenhofer <peter.prettenhofer@gmail.com>\n",
        "#         Maria Telenczuk <https://github.com/maikia>\n",
        "#         Katrina Ni <https://github.com/nilichen>\n",
        "#\n",
        "# License: BSD 3 clause\n",
        "\n",
        "import matplotlib.pyplot as plt\n",
        "import numpy as np\n",
        "from sklearn import datasets, ensemble\n",
        "from sklearn.inspection import permutation_importance\n",
        "from sklearn.metrics import mean_squared_error\n",
        "from sklearn.model_selection import train_test_split\n",
        "from datetime import datetime"
      ]
    },
    {
      "cell_type": "markdown",
      "metadata": {
        "id": "sCnGueyLrztt"
      },
      "source": [
        "## Load the data\n",
        "\n",
        "First we need to load the data.\n",
        "\n"
      ]
    },
    {
      "cell_type": "code",
      "source": [
        "columns1 = set(listings.columns)\n",
        "listings = listings.select_dtypes([np.number])\n",
        "columns2 = set(listings.columns)\n",
        "columns1 - columns2"
      ],
      "metadata": {
        "id": "CkpTNOwuqnoU",
        "outputId": "0cfe1270-6b1e-4d54-c597-f0242618a6db",
        "colab": {
          "base_uri": "https://localhost:8080/"
        }
      },
      "execution_count": 7,
      "outputs": [
        {
          "output_type": "execute_result",
          "data": {
            "text/plain": [
              "{'description_en', 'host_about_en', 'lang', 'name_en', 'reviews_en'}"
            ]
          },
          "metadata": {},
          "execution_count": 7
        }
      ]
    },
    {
      "cell_type": "code",
      "source": [
        "train_ids, val_ids, test_ids = ut.train_val_test_split(listings.index)  \n",
        "traindf = listings.loc[train_ids]\n",
        "valdf = listings.loc[val_ids]"
      ],
      "metadata": {
        "id": "m3-wOm9up32X"
      },
      "execution_count": 8,
      "outputs": []
    },
    {
      "cell_type": "code",
      "source": [
        "y = listings[\"log_price\"]\n",
        "X = listings[listings.columns.difference([\"price\", \"log_price\"])] \n",
        "\n",
        "\n",
        "y_train, y_test = traindf[\"log_price\"], valdf[\"log_price\"]\n",
        "X_train, X_test = traindf[traindf.columns.difference([\"price\", \"log_price\"])], valdf[valdf.columns.difference([\"price\", \"log_price\"])]\n"
      ],
      "metadata": {
        "id": "wPjbrPItsUn5"
      },
      "execution_count": 9,
      "outputs": []
    },
    {
      "cell_type": "markdown",
      "metadata": {
        "id": "L2KHelVmrztu"
      },
      "source": [
        "## Data preprocessing\n",
        "\n",
        "Next, we will split our dataset to use 70% for training and 15% for validation. We will also set the regression model parameters. You can play\n",
        "with these parameters to see how the results change.\n",
        "\n",
        "`n_estimators` : the number of boosting stages that will be performed.\n",
        "Later, we will plot deviance against boosting iterations.\n",
        "\n",
        "`max_depth` : limits the number of nodes in the tree.\n",
        "The best value depends on the interaction of the input variables.\n",
        "\n",
        "`min_samples_split` : the minimum number of samples required to split an\n",
        "internal node.\n",
        "\n",
        "`learning_rate` : how much the contribution of each tree will shrink.\n",
        "\n",
        "`loss` : loss function to optimize. The least squares function is  used in\n",
        "this case however, there are many other options (see\n",
        ":class:`~sklearn.ensemble.GradientBoostingRegressor` ).\n",
        "\n"
      ]
    },
    {
      "cell_type": "markdown",
      "source": [
        ""
      ],
      "metadata": {
        "id": "578w3jb5qOrM"
      }
    },
    {
      "cell_type": "code",
      "execution_count": 10,
      "metadata": {
        "id": "JfTGqmitrztv"
      },
      "outputs": [],
      "source": [
        "params = {\n",
        "    \"n_estimators\": 5000,\n",
        "    \"max_depth\": 10,\n",
        "    \"min_samples_split\": 5,\n",
        "    \"learning_rate\": 0.01,\n",
        "    \"loss\": \"squared_error\",\n",
        "}"
      ]
    },
    {
      "cell_type": "code",
      "source": [
        "# Baseline performance\n",
        "mean_prediction = np.mean(y_train)\n",
        "\n",
        "mse = mean_squared_error(y_test, np.ones(len(y_test)) * mean_prediction)\n",
        "print(\"The root mean squared error (MSE) on test set: {:.4f}\".format(np.sqrt(mse)))"
      ],
      "metadata": {
        "colab": {
          "base_uri": "https://localhost:8080/"
        },
        "id": "372E6vhvzucr",
        "outputId": "09959060-f87c-4ded-ff88-08b4c3da1f55"
      },
      "execution_count": 11,
      "outputs": [
        {
          "output_type": "stream",
          "name": "stdout",
          "text": [
            "The root mean squared error (MSE) on test set: 0.6490\n"
          ]
        }
      ]
    },
    {
      "cell_type": "markdown",
      "metadata": {
        "id": "TfVCulKIrztw"
      },
      "source": [
        "## Fit regression model\n",
        "\n",
        "Now we will initiate the gradient boosting regressors and fit it with our\n",
        "training data. Let's also look and the mean squared error on the test data.\n",
        "\n"
      ]
    },
    {
      "cell_type": "code",
      "execution_count": 12,
      "metadata": {
        "colab": {
          "base_uri": "https://localhost:8080/"
        },
        "id": "h_tdeOMHrztw",
        "outputId": "36e6f570-70b6-4d16-e40c-13b72ae5874c"
      },
      "outputs": [
        {
          "output_type": "stream",
          "name": "stdout",
          "text": [
            "      Iter       Train Loss   Remaining Time \n",
            "         1           0.4316           11.59m\n",
            "         2           0.4257           12.16m\n",
            "         3           0.4199           11.99m\n",
            "         4           0.4142           11.94m\n",
            "         5           0.4086           11.80m\n",
            "         6           0.4032           11.78m\n",
            "         7           0.3978           11.72m\n",
            "         8           0.3925           11.76m\n",
            "         9           0.3873           11.74m\n",
            "        10           0.3822           11.75m\n",
            "        20           0.3361           11.45m\n",
            "        30           0.2978           11.32m\n",
            "        40           0.2654           11.17m\n",
            "        50           0.2381           11.05m\n",
            "        60           0.2148           11.00m\n",
            "        70           0.1947           10.95m\n",
            "        80           0.1775           10.91m\n",
            "        90           0.1622           10.89m\n",
            "       100           0.1488           10.85m\n",
            "       200           0.0757           10.78m\n",
            "       300           0.0445           15.96m\n",
            "       400           0.0292           16.13m\n",
            "       500           0.0212           15.22m\n",
            "       600           0.0165           14.18m\n",
            "       700           0.0135           13.22m\n",
            "       800           0.0113           12.47m\n",
            "       900           0.0097           11.93m\n",
            "      1000           0.0081           11.86m\n",
            "      2000           0.0020            7.85m\n",
            "      3000           0.0005            4.96m\n",
            "      4000           0.0002            2.40m\n",
            "      5000           0.0001            0.00s\n",
            "time to obtain model:  714.406976\n",
            "The root mean squared error (MSE) on test set: 0.3830\n"
          ]
        }
      ],
      "source": [
        "start = datetime.now()\n",
        "\n",
        "reg = ensemble.GradientBoostingRegressor(**params, verbose=1)\n",
        "reg.fit(X_train, y_train)\n",
        "\n",
        "mse = mean_squared_error(y_test, reg.predict(X_test))\n",
        "\n",
        "end = datetime.now()\n",
        "print(\"time to obtain model: \", (end-start).total_seconds())\n",
        "print(\"The root mean squared error (MSE) on test set: {:.4f}\".format(np.sqrt(mse)))"
      ]
    },
    {
      "cell_type": "markdown",
      "metadata": {
        "id": "S6IwFvKIrztx"
      },
      "source": [
        "## Plot training deviance\n",
        "\n",
        "Finally, we will visualize the results. To do that we will first compute the\n",
        "test set deviance and then plot it against boosting iterations.\n",
        "\n"
      ]
    },
    {
      "cell_type": "code",
      "execution_count": 13,
      "metadata": {
        "colab": {
          "base_uri": "https://localhost:8080/",
          "height": 441
        },
        "id": "-CwbItqorztx",
        "outputId": "ee39ce6e-3df0-4723-c170-d29c059e05e5"
      },
      "outputs": [
        {
          "output_type": "display_data",
          "data": {
            "image/png": "[encoded data removed]",
            "text/plain": [
              "<Figure size 432x432 with 1 Axes>"
            ]
          },
          "metadata": {
            "needs_background": "light"
          }
        }
      ],
      "source": [
        "test_score = np.zeros((params[\"n_estimators\"],), dtype=np.float64)\n",
        "for i, y_pred in enumerate(reg.staged_predict(X_test)):\n",
        "    test_score[i] = reg.loss_(y_test, y_pred)\n",
        "\n",
        "fig = plt.figure(figsize=(6, 6))\n",
        "plt.subplot(1, 1, 1)\n",
        "plt.title(\"Deviance\")\n",
        "plt.plot(\n",
        "    np.arange(params[\"n_estimators\"]) + 1,\n",
        "    reg.train_score_,\n",
        "    \"b-\",\n",
        "    label=\"Training Set Deviance\",\n",
        ")\n",
        "plt.plot(\n",
        "    np.arange(params[\"n_estimators\"]) + 1, test_score, \"r-\", label=\"Test Set Deviance\"\n",
        ")\n",
        "plt.legend(loc=\"upper right\")\n",
        "plt.xlabel(\"Boosting Iterations\")\n",
        "plt.ylabel(\"Deviance\")\n",
        "fig.tight_layout()\n",
        "plt.show()"
      ]
    },
    {
      "cell_type": "markdown",
      "metadata": {
        "id": "TNtEtnHVrztx"
      },
      "source": [
        "## Plot feature importance\n",
        "\n",
        "<div class=\"alert alert-danger\"><h4>Warning</h4><p>Careful, impurity-based feature importances can be misleading for\n",
        "   **high cardinality** features (many unique values). As an alternative,\n",
        "   the permutation importances of ``reg`` can be computed on a\n",
        "   held out test set. See `permutation_importance` for more details.</p></div>\n",
        "\n",
        "For this example, the impurity-based and permutation methods identify the\n",
        "same 2 strongly predictive features but not in the same order. The third most\n",
        "predictive feature, \"bp\", is also the same for the 2 methods. The remaining\n",
        "features are less predictive and the error bars of the permutation plot\n",
        "show that they overlap with 0.\n",
        "\n"
      ]
    },
    {
      "cell_type": "code",
      "execution_count": 15,
      "metadata": {
        "colab": {
          "base_uri": "https://localhost:8080/",
          "height": 458
        },
        "id": "ew_4p-zNrzty",
        "outputId": "5daa400c-dea1-4f47-de13-1fa7a9f53748"
      },
      "outputs": [
        {
          "output_type": "display_data",
          "data": {
            "image/png": "[encoded data removed]",
            "text/plain": [
              "<Figure size 864x432 with 2 Axes>"
            ]
          },
          "metadata": {
            "needs_background": "light"
          }
        },
        {
          "output_type": "stream",
          "name": "stdout",
          "text": [
            "time to generate permutation importance:  588.132879\n"
          ]
        }
      ],
      "source": [
        "start = datetime.now()\n",
        "n_features = 50\n",
        "\n",
        "feature_importance = reg.feature_importances_\n",
        "sorted_idx = np.argsort(feature_importance)[::-1]\n",
        "sorted_idx = sorted_idx[:n_features][::-1]\n",
        "pos = np.arange(sorted_idx.shape[0]) + 0.5\n",
        "fig = plt.figure(figsize=(12, 6)) # might make bigger\n",
        "plt.subplot(1, 2, 1)\n",
        "plt.barh(pos, feature_importance[sorted_idx], align=\"center\")\n",
        "plt.yticks(pos, np.array(X.columns)[sorted_idx], fontsize=6)\n",
        "plt.title(\"Feature Importance (MDI)\")\n",
        "\n",
        "result = permutation_importance(\n",
        "    reg, X_test, y_test, n_repeats=10, random_state=42, n_jobs=2\n",
        ")\n",
        "sorted_idx2 = result.importances_mean.argsort()[::-1]\n",
        "sorted_idx2 = sorted_idx2[:n_features][::-1]\n",
        "plt.subplot(1, 2, 2)\n",
        "plt.boxplot(\n",
        "    result.importances[sorted_idx2].T,\n",
        "    vert=False,\n",
        "    labels=np.array(X.columns)[sorted_idx2],\n",
        ")\n",
        "plt.title(\"Permutation Importance (test set)\")\n",
        "fig.tight_layout()\n",
        "plt.show()\n",
        "\n",
        "end = datetime.now()\n",
        "print(\"time to generate permutation importance: \", (end-start).total_seconds())"
      ]
    },
    {
      "cell_type": "code",
      "source": [
        "#variable feature importance\n",
        "df = pd.DataFrame(np.array([X.columns[sorted_idx2[::-1]], feature_importance[sorted_idx2[::-1]], result.importances_mean[sorted_idx2[::-1]]]).T)[:30]\n",
        "df"
      ],
      "metadata": {
        "id": "QFd6TXp2clHs",
        "outputId": "d7a917fc-640f-4cc0-f0d1-76a14bab3a7e",
        "colab": {
          "base_uri": "https://localhost:8080/",
          "height": 990
        }
      },
      "execution_count": 16,
      "outputs": [
        {
          "output_type": "execute_result",
          "data": {
            "text/html": [
              "\n",
              "  <div id=\"df-5f19a82c-f3b3-4801-a1f4-20bf8b7faee3\">\n",
              "    <div class=\"colab-df-container\">\n",
              "      <div>\n",
              "<style scoped>\n",
              "    .dataframe tbody tr th:only-of-type {\n",
              "        vertical-align: middle;\n",
              "    }\n",
              "\n",
              "    .dataframe tbody tr th {\n",
              "        vertical-align: top;\n",
              "    }\n",
              "\n",
              "    .dataframe thead th {\n",
              "        text-align: right;\n",
              "    }\n",
              "</style>\n",
              "<table border=\"1\" class=\"dataframe\">\n",
              "  <thead>\n",
              "    <tr style=\"text-align: right;\">\n",
              "      <th></th>\n",
              "      <th>0</th>\n",
              "      <th>1</th>\n",
              "      <th>2</th>\n",
              "    </tr>\n",
              "  </thead>\n",
              "  <tbody>\n",
              "    <tr>\n",
              "      <th>0</th>\n",
              "      <td>property_type_private_room</td>\n",
              "      <td>0.221797</td>\n",
              "      <td>0.140979</td>\n",
              "    </tr>\n",
              "    <tr>\n",
              "      <th>1</th>\n",
              "      <td>accommodates</td>\n",
              "      <td>0.043306</td>\n",
              "      <td>0.098304</td>\n",
              "    </tr>\n",
              "    <tr>\n",
              "      <th>2</th>\n",
              "      <td>bedrooms</td>\n",
              "      <td>0.088765</td>\n",
              "      <td>0.079743</td>\n",
              "    </tr>\n",
              "    <tr>\n",
              "      <th>3</th>\n",
              "      <td>availability_30</td>\n",
              "      <td>0.040698</td>\n",
              "      <td>0.047138</td>\n",
              "    </tr>\n",
              "    <tr>\n",
              "      <th>4</th>\n",
              "      <td>amenities_tv</td>\n",
              "      <td>0.030149</td>\n",
              "      <td>0.045643</td>\n",
              "    </tr>\n",
              "    <tr>\n",
              "      <th>5</th>\n",
              "      <td>calculated_host_listings_count_private_rooms</td>\n",
              "      <td>0.024346</td>\n",
              "      <td>0.033698</td>\n",
              "    </tr>\n",
              "    <tr>\n",
              "      <th>6</th>\n",
              "      <td>longitude</td>\n",
              "      <td>0.04314</td>\n",
              "      <td>0.032923</td>\n",
              "    </tr>\n",
              "    <tr>\n",
              "      <th>7</th>\n",
              "      <td>latitude</td>\n",
              "      <td>0.043356</td>\n",
              "      <td>0.029563</td>\n",
              "    </tr>\n",
              "    <tr>\n",
              "      <th>8</th>\n",
              "      <td>bath_number</td>\n",
              "      <td>0.039532</td>\n",
              "      <td>0.028415</td>\n",
              "    </tr>\n",
              "    <tr>\n",
              "      <th>9</th>\n",
              "      <td>neighbourhood_cleansed_Innere Stadt</td>\n",
              "      <td>0.030779</td>\n",
              "      <td>0.022435</td>\n",
              "    </tr>\n",
              "    <tr>\n",
              "      <th>10</th>\n",
              "      <td>availability_365</td>\n",
              "      <td>0.020237</td>\n",
              "      <td>0.017908</td>\n",
              "    </tr>\n",
              "    <tr>\n",
              "      <th>11</th>\n",
              "      <td>reviews_per_month</td>\n",
              "      <td>0.019363</td>\n",
              "      <td>0.017832</td>\n",
              "    </tr>\n",
              "    <tr>\n",
              "      <th>12</th>\n",
              "      <td>bath_is_shared</td>\n",
              "      <td>0.008467</td>\n",
              "      <td>0.016976</td>\n",
              "    </tr>\n",
              "    <tr>\n",
              "      <th>13</th>\n",
              "      <td>host_verification_phone</td>\n",
              "      <td>0.012261</td>\n",
              "      <td>0.016911</td>\n",
              "    </tr>\n",
              "    <tr>\n",
              "      <th>14</th>\n",
              "      <td>calculated_host_listings_count_entire_homes</td>\n",
              "      <td>0.008729</td>\n",
              "      <td>0.013984</td>\n",
              "    </tr>\n",
              "    <tr>\n",
              "      <th>15</th>\n",
              "      <td>host_listings_count</td>\n",
              "      <td>0.012486</td>\n",
              "      <td>0.013131</td>\n",
              "    </tr>\n",
              "    <tr>\n",
              "      <th>16</th>\n",
              "      <td>minimum_nights</td>\n",
              "      <td>0.017725</td>\n",
              "      <td>0.01215</td>\n",
              "    </tr>\n",
              "    <tr>\n",
              "      <th>17</th>\n",
              "      <td>calculated_host_listings_count</td>\n",
              "      <td>0.01275</td>\n",
              "      <td>0.010264</td>\n",
              "    </tr>\n",
              "    <tr>\n",
              "      <th>18</th>\n",
              "      <td>review_scores_location</td>\n",
              "      <td>0.017904</td>\n",
              "      <td>0.009902</td>\n",
              "    </tr>\n",
              "    <tr>\n",
              "      <th>19</th>\n",
              "      <td>maximum_minimum_nights</td>\n",
              "      <td>0.015431</td>\n",
              "      <td>0.009813</td>\n",
              "    </tr>\n",
              "    <tr>\n",
              "      <th>20</th>\n",
              "      <td>review_scores_value</td>\n",
              "      <td>0.010588</td>\n",
              "      <td>0.009304</td>\n",
              "    </tr>\n",
              "    <tr>\n",
              "      <th>21</th>\n",
              "      <td>number_of_reviews</td>\n",
              "      <td>0.013058</td>\n",
              "      <td>0.009295</td>\n",
              "    </tr>\n",
              "    <tr>\n",
              "      <th>22</th>\n",
              "      <td>review_scores_rating</td>\n",
              "      <td>0.013025</td>\n",
              "      <td>0.008295</td>\n",
              "    </tr>\n",
              "    <tr>\n",
              "      <th>23</th>\n",
              "      <td>availability_60</td>\n",
              "      <td>0.010167</td>\n",
              "      <td>0.006534</td>\n",
              "    </tr>\n",
              "    <tr>\n",
              "      <th>24</th>\n",
              "      <td>amenities_nbath</td>\n",
              "      <td>0.006039</td>\n",
              "      <td>0.006363</td>\n",
              "    </tr>\n",
              "    <tr>\n",
              "      <th>25</th>\n",
              "      <td>review_scores_cleanliness</td>\n",
              "      <td>0.012397</td>\n",
              "      <td>0.006193</td>\n",
              "    </tr>\n",
              "    <tr>\n",
              "      <th>26</th>\n",
              "      <td>amenities_extinguisher</td>\n",
              "      <td>0.005379</td>\n",
              "      <td>0.004712</td>\n",
              "    </tr>\n",
              "    <tr>\n",
              "      <th>27</th>\n",
              "      <td>amenities_balcony</td>\n",
              "      <td>0.003827</td>\n",
              "      <td>0.004221</td>\n",
              "    </tr>\n",
              "    <tr>\n",
              "      <th>28</th>\n",
              "      <td>host_verification_work_email</td>\n",
              "      <td>0.003508</td>\n",
              "      <td>0.003817</td>\n",
              "    </tr>\n",
              "    <tr>\n",
              "      <th>29</th>\n",
              "      <td>amenities_nkitchen</td>\n",
              "      <td>0.018576</td>\n",
              "      <td>0.003724</td>\n",
              "    </tr>\n",
              "  </tbody>\n",
              "</table>\n",
              "</div>\n",
              "      <button class=\"colab-df-convert\" onclick=\"convertToInteractive('df-5f19a82c-f3b3-4801-a1f4-20bf8b7faee3')\"\n",
              "              title=\"Convert this dataframe to an interactive table.\"\n",
              "              style=\"display:none;\">\n",
              "        \n",
              "  <svg xmlns=\"http://www.w3.org/2000/svg\" height=\"24px\"viewBox=\"0 0 24 24\"\n",
              "       width=\"24px\">\n",
              "    <path d=\"M0 0h24v24H0V0z\" fill=\"none\"/>\n",
              "    <path d=\"M18.56 5.44l.94 2.06.94-2.06 2.06-.94-2.06-.94-.94-2.06-.94 2.06-2.06.94zm-11 1L8.5 8.5l.94-2.06 2.06-.94-2.06-.94L8.5 2.5l-.94 2.06-2.06.94zm10 10l.94 2.06.94-2.06 2.06-.94-2.06-.94-.94-2.06-.94 2.06-2.06.94z\"/><path d=\"M17.41 7.96l-1.37-1.37c-.4-.4-.92-.59-1.43-.59-.52 0-1.04.2-1.43.59L10.3 9.45l-7.72 7.72c-.78.78-.78 2.05 0 2.83L4 21.41c.39.39.9.59 1.41.59.51 0 1.02-.2 1.41-.59l7.78-7.78 2.81-2.81c.8-.78.8-2.07 0-2.86zM5.41 20L4 18.59l7.72-7.72 1.47 1.35L5.41 20z\"/>\n",
              "  </svg>\n",
              "      </button>\n",
              "      \n",
              "  <style>\n",
              "    .colab-df-container {\n",
              "      display:flex;\n",
              "      flex-wrap:wrap;\n",
              "      gap: 12px;\n",
              "    }\n",
              "\n",
              "    .colab-df-convert {\n",
              "      background-color: #E8F0FE;\n",
              "      border: none;\n",
              "      border-radius: 50%;\n",
              "      cursor: pointer;\n",
              "      display: none;\n",
              "      fill: #1967D2;\n",
              "      height: 32px;\n",
              "      padding: 0 0 0 0;\n",
              "      width: 32px;\n",
              "    }\n",
              "\n",
              "    .colab-df-convert:hover {\n",
              "      background-color: #E2EBFA;\n",
              "      box-shadow: 0px 1px 2px rgba(60, 64, 67, 0.3), 0px 1px 3px 1px rgba(60, 64, 67, 0.15);\n",
              "      fill: #174EA6;\n",
              "    }\n",
              "\n",
              "    [theme=dark] .colab-df-convert {\n",
              "      background-color: #3B4455;\n",
              "      fill: #D2E3FC;\n",
              "    }\n",
              "\n",
              "    [theme=dark] .colab-df-convert:hover {\n",
              "      background-color: #434B5C;\n",
              "      box-shadow: 0px 1px 3px 1px rgba(0, 0, 0, 0.15);\n",
              "      filter: drop-shadow(0px 1px 2px rgba(0, 0, 0, 0.3));\n",
              "      fill: #FFFFFF;\n",
              "    }\n",
              "  </style>\n",
              "\n",
              "      <script>\n",
              "        const buttonEl =\n",
              "          document.querySelector('#df-5f19a82c-f3b3-4801-a1f4-20bf8b7faee3 button.colab-df-convert');\n",
              "        buttonEl.style.display =\n",
              "          google.colab.kernel.accessAllowed ? 'block' : 'none';\n",
              "\n",
              "        async function convertToInteractive(key) {\n",
              "          const element = document.querySelector('#df-5f19a82c-f3b3-4801-a1f4-20bf8b7faee3');\n",
              "          const dataTable =\n",
              "            await google.colab.kernel.invokeFunction('convertToInteractive',\n",
              "                                                     [key], {});\n",
              "          if (!dataTable) return;\n",
              "\n",
              "          const docLinkHtml = 'Like what you see? Visit the ' +\n",
              "            '<a target=\"_blank\" href=https://colab.research.google.com/notebooks/data_table.ipynb>data table notebook</a>'\n",
              "            + ' to learn more about interactive tables.';\n",
              "          element.innerHTML = '';\n",
              "          dataTable['output_type'] = 'display_data';\n",
              "          await google.colab.output.renderOutput(dataTable, element);\n",
              "          const docLink = document.createElement('div');\n",
              "          docLink.innerHTML = docLinkHtml;\n",
              "          element.appendChild(docLink);\n",
              "        }\n",
              "      </script>\n",
              "    </div>\n",
              "  </div>\n",
              "  "
            ],
            "text/plain": [
              "                                               0         1         2\n",
              "0                     property_type_private_room  0.221797  0.140979\n",
              "1                                   accommodates  0.043306  0.098304\n",
              "2                                       bedrooms  0.088765  0.079743\n",
              "3                                availability_30  0.040698  0.047138\n",
              "4                                   amenities_tv  0.030149  0.045643\n",
              "5   calculated_host_listings_count_private_rooms  0.024346  0.033698\n",
              "6                                      longitude   0.04314  0.032923\n",
              "7                                       latitude  0.043356  0.029563\n",
              "8                                    bath_number  0.039532  0.028415\n",
              "9            neighbourhood_cleansed_Innere Stadt  0.030779  0.022435\n",
              "10                              availability_365  0.020237  0.017908\n",
              "11                             reviews_per_month  0.019363  0.017832\n",
              "12                                bath_is_shared  0.008467  0.016976\n",
              "13                       host_verification_phone  0.012261  0.016911\n",
              "14   calculated_host_listings_count_entire_homes  0.008729  0.013984\n",
              "15                           host_listings_count  0.012486  0.013131\n",
              "16                                minimum_nights  0.017725   0.01215\n",
              "17                calculated_host_listings_count   0.01275  0.010264\n",
              "18                        review_scores_location  0.017904  0.009902\n",
              "19                        maximum_minimum_nights  0.015431  0.009813\n",
              "20                           review_scores_value  0.010588  0.009304\n",
              "21                             number_of_reviews  0.013058  0.009295\n",
              "22                          review_scores_rating  0.013025  0.008295\n",
              "23                               availability_60  0.010167  0.006534\n",
              "24                               amenities_nbath  0.006039  0.006363\n",
              "25                     review_scores_cleanliness  0.012397  0.006193\n",
              "26                        amenities_extinguisher  0.005379  0.004712\n",
              "27                             amenities_balcony  0.003827  0.004221\n",
              "28                  host_verification_work_email  0.003508  0.003817\n",
              "29                            amenities_nkitchen  0.018576  0.003724"
            ]
          },
          "metadata": {},
          "execution_count": 16
        }
      ]
    },
    {
      "cell_type": "code",
      "source": [
        "path = \"/content/drive/MyDrive/Colab/airbnb/data/feature_selection/features_importance.pickle\"\n",
        "df.to_pickle(path)"
      ],
      "metadata": {
        "id": "_187j8tU12BK"
      },
      "execution_count": 17,
      "outputs": []
    }
  ],
  "metadata": {
    "kernelspec": {
      "display_name": "Python 3",
      "language": "python",
      "name": "python3"
    },
    "language_info": {
      "codemirror_mode": {
        "name": "ipython",
        "version": 3
      },
      "file_extension": ".py",
      "mimetype": "text/x-python",
      "name": "python",
      "nbconvert_exporter": "python",
      "pygments_lexer": "ipython3",
      "version": "3.9.9"
    },
    "colab": {
      "name": "plot_gradient_boosting_regression.ipynb",
      "provenance": [],
      "include_colab_link": true
    }
  },
  "nbformat": 4,
  "nbformat_minor": 0
}