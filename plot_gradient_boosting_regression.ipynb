{
  "cells": [
    {
      "cell_type": "markdown",
      "metadata": {
        "id": "view-in-github",
        "colab_type": "text"
      },
      "source": [
        "<a href=\"https://colab.research.google.com/github/dernameistegal/airbnb_price/blob/main/plot_gradient_boosting_regression.ipynb\" target=\"_parent\"><img src=\"https://colab.research.google.com/assets/colab-badge.svg\" alt=\"Open In Colab\"/></a>"
      ]
    },
    {
      "cell_type": "code",
      "source": [
        "import pandas as pd"
      ],
      "metadata": {
        "id": "TiQqv28usDl4"
      },
      "execution_count": 1,
      "outputs": []
    },
    {
      "cell_type": "code",
      "source": [
        "!git clone https://github.com/dernameistegal/airbnb_price.git"
      ],
      "metadata": {
        "id": "xiB-yymdplDz",
        "outputId": "6f6aaa7f-3fa9-4b88-bd4e-363342ab6768",
        "colab": {
          "base_uri": "https://localhost:8080/"
        }
      },
      "execution_count": 2,
      "outputs": [
        {
          "output_type": "stream",
          "name": "stdout",
          "text": [
            "Cloning into 'airbnb_price'...\n",
            "remote: Enumerating objects: 523, done.\u001b[K\n",
            "remote: Counting objects: 100% (523/523), done.\u001b[K\n",
            "remote: Compressing objects: 100% (492/492), done.\u001b[K\n",
            "remote: Total 523 (delta 276), reused 142 (delta 25), pack-reused 0\u001b[K\n",
            "Receiving objects: 100% (523/523), 3.66 MiB | 9.20 MiB/s, done.\n",
            "Resolving deltas: 100% (276/276), done.\n"
          ]
        }
      ]
    },
    {
      "cell_type": "markdown",
      "metadata": {
        "id": "UnX3snverztr"
      },
      "source": [
        "\n",
        "# Gradient Boosting regression\n",
        "\n",
        "This example demonstrates Gradient Boosting to produce a predictive\n",
        "model from an ensemble of weak predictive models. Gradient boosting can be used\n",
        "for regression and classification problems. Here, we will train a model to\n",
        "tackle a diabetes regression task. We will obtain the results from\n",
        ":class:`~sklearn.ensemble.GradientBoostingRegressor` with least squares loss\n",
        "and 500 regression trees of depth 4.\n",
        "\n",
        "Note: For larger datasets (n_samples >= 10000), please refer to\n",
        ":class:`~sklearn.ensemble.HistGradientBoostingRegressor`.\n"
      ]
    },
    {
      "cell_type": "code",
      "source": [
        "from google.colab import drive\n",
        "drive.mount('/content/drive')"
      ],
      "metadata": {
        "colab": {
          "base_uri": "https://localhost:8080/"
        },
        "id": "kVFynWyYr22U",
        "outputId": "469bab57-1135-482e-8019-50b9daede7e8"
      },
      "execution_count": 4,
      "outputs": [
        {
          "output_type": "stream",
          "name": "stdout",
          "text": [
            "Mounted at /content/drive\n"
          ]
        }
      ]
    },
    {
      "cell_type": "code",
      "source": [
        "%cd airbnb_price\n",
        "import sys\n",
        "sys.path.append(\"/content/airbnb_price/custom_functions\")\n",
        "import general_utils as ut"
      ],
      "metadata": {
        "id": "L9dvk-VhqItL",
        "outputId": "cced4c60-d72e-4bec-cd71-ef347dab8898",
        "colab": {
          "base_uri": "https://localhost:8080/"
        }
      },
      "execution_count": 5,
      "outputs": [
        {
          "output_type": "stream",
          "name": "stdout",
          "text": [
            "/content/airbnb_price\n"
          ]
        }
      ]
    },
    {
      "cell_type": "code",
      "source": [
        "listings =pd.read_pickle(\"/content/drive/MyDrive/Colab/airbnb/data/data1/listings_workfile.pickle\")"
      ],
      "metadata": {
        "id": "kj6NmXH9sBRj"
      },
      "execution_count": 6,
      "outputs": []
    },
    {
      "cell_type": "code",
      "execution_count": 51,
      "metadata": {
        "id": "W7fO0eP5rztt"
      },
      "outputs": [],
      "source": [
        "# Author: Peter Prettenhofer <peter.prettenhofer@gmail.com>\n",
        "#         Maria Telenczuk <https://github.com/maikia>\n",
        "#         Katrina Ni <https://github.com/nilichen>\n",
        "#\n",
        "# License: BSD 3 clause\n",
        "\n",
        "import matplotlib.pyplot as plt\n",
        "import numpy as np\n",
        "from sklearn import datasets, ensemble\n",
        "from sklearn.inspection import permutation_importance\n",
        "from sklearn.metrics import mean_squared_error\n",
        "from sklearn.model_selection import train_test_split\n",
        "from datetime import datetime"
      ]
    },
    {
      "cell_type": "markdown",
      "metadata": {
        "id": "sCnGueyLrztt"
      },
      "source": [
        "## Load the data\n",
        "\n",
        "First we need to load the data.\n",
        "\n"
      ]
    },
    {
      "cell_type": "code",
      "source": [
        "columns1 = set(listings.columns)\n",
        "listings = listings.select_dtypes([np.number])\n",
        "columns2 = set(listings.columns)\n",
        "columns1 - columns2"
      ],
      "metadata": {
        "id": "CkpTNOwuqnoU",
        "outputId": "336ed0ca-c32f-4ad0-f0bd-1e53233db674",
        "colab": {
          "base_uri": "https://localhost:8080/"
        }
      },
      "execution_count": 8,
      "outputs": [
        {
          "output_type": "execute_result",
          "data": {
            "text/plain": [
              "{'description_en', 'host_about_en', 'lang', 'name_en', 'reviews'}"
            ]
          },
          "metadata": {},
          "execution_count": 8
        }
      ]
    },
    {
      "cell_type": "code",
      "source": [
        "train_ids, val_ids, test_ids = ut.train_val_test_split(listings.index)  \n",
        "traindf = listings.loc[train_ids]\n",
        "valdf = listings.loc[val_ids]"
      ],
      "metadata": {
        "id": "m3-wOm9up32X"
      },
      "execution_count": 9,
      "outputs": []
    },
    {
      "cell_type": "code",
      "source": [
        "y = listings[\"log_price\"]\n",
        "X = listings[listings.columns.difference([\"price\", \"log_price\"])] \n",
        "\n",
        "\n",
        "y_train, y_test = traindf[\"log_price\"], valdf[\"log_price\"]\n",
        "X_train, X_test = traindf[traindf.columns.difference([\"price\", \"log_price\"])], valdf[valdf.columns.difference([\"price\", \"log_price\"])]\n"
      ],
      "metadata": {
        "id": "wPjbrPItsUn5"
      },
      "execution_count": 10,
      "outputs": []
    },
    {
      "cell_type": "markdown",
      "metadata": {
        "id": "L2KHelVmrztu"
      },
      "source": [
        "## Data preprocessing\n",
        "\n",
        "Next, we will split our dataset to use 70% for training and 15% for validation. We will also set the regression model parameters. You can play\n",
        "with these parameters to see how the results change.\n",
        "\n",
        "`n_estimators` : the number of boosting stages that will be performed.\n",
        "Later, we will plot deviance against boosting iterations.\n",
        "\n",
        "`max_depth` : limits the number of nodes in the tree.\n",
        "The best value depends on the interaction of the input variables.\n",
        "\n",
        "`min_samples_split` : the minimum number of samples required to split an\n",
        "internal node.\n",
        "\n",
        "`learning_rate` : how much the contribution of each tree will shrink.\n",
        "\n",
        "`loss` : loss function to optimize. The least squares function is  used in\n",
        "this case however, there are many other options (see\n",
        ":class:`~sklearn.ensemble.GradientBoostingRegressor` ).\n",
        "\n"
      ]
    },
    {
      "cell_type": "markdown",
      "source": [
        ""
      ],
      "metadata": {
        "id": "578w3jb5qOrM"
      }
    },
    {
      "cell_type": "code",
      "execution_count": 14,
      "metadata": {
        "id": "JfTGqmitrztv"
      },
      "outputs": [],
      "source": [
        "params = {\n",
        "    \"n_estimators\": 5000,\n",
        "    \"max_depth\": 10,\n",
        "    \"min_samples_split\": 5,\n",
        "    \"learning_rate\": 0.01,\n",
        "    \"loss\": \"squared_error\",\n",
        "}"
      ]
    },
    {
      "cell_type": "code",
      "source": [
        "# Baseline performance\n",
        "mean_prediction = np.mean(y_train)\n",
        "\n",
        "mse = mean_squared_error(y_test, np.ones(len(y_test)) * mean_prediction)\n",
        "print(\"The root mean squared error (MSE) on test set: {:.4f}\".format(np.sqrt(mse)))"
      ],
      "metadata": {
        "colab": {
          "base_uri": "https://localhost:8080/"
        },
        "id": "372E6vhvzucr",
        "outputId": "84922e90-9591-44a0-8b54-44125dbd1e15"
      },
      "execution_count": 15,
      "outputs": [
        {
          "output_type": "stream",
          "name": "stdout",
          "text": [
            "The root mean squared error (MSE) on test set: 0.6490\n"
          ]
        }
      ]
    },
    {
      "cell_type": "markdown",
      "metadata": {
        "id": "TfVCulKIrztw"
      },
      "source": [
        "## Fit regression model\n",
        "\n",
        "Now we will initiate the gradient boosting regressors and fit it with our\n",
        "training data. Let's also look and the mean squared error on the test data.\n",
        "\n"
      ]
    },
    {
      "cell_type": "code",
      "execution_count": 17,
      "metadata": {
        "colab": {
          "base_uri": "https://localhost:8080/"
        },
        "id": "h_tdeOMHrztw",
        "outputId": "f89c4720-c8bf-402b-d77d-85cd1b23ea9a"
      },
      "outputs": [
        {
          "output_type": "stream",
          "name": "stdout",
          "text": [
            "      Iter       Train Loss   Remaining Time \n",
            "         1           0.4316           19.08m\n",
            "         2           0.4257           17.25m\n",
            "         3           0.4199           16.82m\n",
            "         4           0.4142           16.56m\n",
            "         5           0.4086           16.57m\n",
            "         6           0.4032           16.37m\n",
            "         7           0.3978           16.28m\n",
            "         8           0.3925           16.63m\n",
            "         9           0.3873           16.53m\n",
            "        10           0.3822           16.62m\n",
            "        20           0.3361           24.25m\n",
            "        30           0.2978           22.12m\n",
            "        40           0.2654           19.24m\n",
            "        50           0.2381           17.49m\n",
            "        60           0.2148           16.26m\n",
            "        70           0.1947           15.41m\n",
            "        80           0.1775           14.75m\n",
            "        90           0.1622           14.24m\n",
            "       100           0.1488           13.81m\n",
            "       200           0.0757           11.84m\n",
            "       300           0.0445           11.10m\n",
            "       400           0.0292           10.60m\n",
            "       500           0.0212           10.22m\n",
            "       600           0.0162            9.89m\n",
            "       700           0.0135            9.59m\n",
            "       800           0.0116            9.32m\n",
            "       900           0.0101            9.05m\n",
            "      1000           0.0080            8.80m\n",
            "      2000           0.0018            6.48m\n",
            "      3000           0.0005            4.38m\n",
            "      4000           0.0002            2.17m\n",
            "      5000           0.0001            0.00s\n",
            "The root mean squared error (MSE) on test set: 0.3845\n"
          ]
        }
      ],
      "source": [
        "start = datetime.now()\n",
        "\n",
        "reg = ensemble.GradientBoostingRegressor(**params, verbose=1)\n",
        "reg.fit(X_train, y_train)\n",
        "\n",
        "mse = mean_squared_error(y_test, reg.predict(X_test))\n",
        "\n",
        "end = datetime.now()\n",
        "print(\"time to obtain model: \", (end-start).total_seconds())\n",
        "print(\"The root mean squared error (MSE) on test set: {:.4f}\".format(np.sqrt(mse)))"
      ]
    },
    {
      "cell_type": "markdown",
      "metadata": {
        "id": "S6IwFvKIrztx"
      },
      "source": [
        "## Plot training deviance\n",
        "\n",
        "Finally, we will visualize the results. To do that we will first compute the\n",
        "test set deviance and then plot it against boosting iterations.\n",
        "\n"
      ]
    },
    {
      "cell_type": "code",
      "execution_count": 19,
      "metadata": {
        "colab": {
          "base_uri": "https://localhost:8080/",
          "height": 441
        },
        "id": "-CwbItqorztx",
        "outputId": "a95acf4d-ca9e-42aa-e440-bde12680db7c"
      },
      "outputs": [
        {
          "output_type": "display_data",
          "data": {
            "image/png": "[encoded data removed]",
            "text/plain": [
              "<Figure size 432x432 with 1 Axes>"
            ]
          },
          "metadata": {
            "needs_background": "light"
          }
        }
      ],
      "source": [
        "test_score = np.zeros((params[\"n_estimators\"],), dtype=np.float64)\n",
        "for i, y_pred in enumerate(reg.staged_predict(X_test)):\n",
        "    test_score[i] = reg.loss_(y_test, y_pred)\n",
        "\n",
        "fig = plt.figure(figsize=(6, 6))\n",
        "plt.subplot(1, 1, 1)\n",
        "plt.title(\"Deviance\")\n",
        "plt.plot(\n",
        "    np.arange(params[\"n_estimators\"]) + 1,\n",
        "    reg.train_score_,\n",
        "    \"b-\",\n",
        "    label=\"Training Set Deviance\",\n",
        ")\n",
        "plt.plot(\n",
        "    np.arange(params[\"n_estimators\"]) + 1, test_score, \"r-\", label=\"Test Set Deviance\"\n",
        ")\n",
        "plt.legend(loc=\"upper right\")\n",
        "plt.xlabel(\"Boosting Iterations\")\n",
        "plt.ylabel(\"Deviance\")\n",
        "fig.tight_layout()\n",
        "plt.show()"
      ]
    },
    {
      "cell_type": "markdown",
      "metadata": {
        "id": "TNtEtnHVrztx"
      },
      "source": [
        "## Plot feature importance\n",
        "\n",
        "<div class=\"alert alert-danger\"><h4>Warning</h4><p>Careful, impurity-based feature importances can be misleading for\n",
        "   **high cardinality** features (many unique values). As an alternative,\n",
        "   the permutation importances of ``reg`` can be computed on a\n",
        "   held out test set. See `permutation_importance` for more details.</p></div>\n",
        "\n",
        "For this example, the impurity-based and permutation methods identify the\n",
        "same 2 strongly predictive features but not in the same order. The third most\n",
        "predictive feature, \"bp\", is also the same for the 2 methods. The remaining\n",
        "features are less predictive and the error bars of the permutation plot\n",
        "show that they overlap with 0.\n",
        "\n"
      ]
    },
    {
      "cell_type": "code",
      "source": [
        "feature_importance = reg.feature_importances_\n",
        "sorted_idx = np.argsort(feature_importance)\n",
        "sorted_idx = sorted_idx[:n_features]\n",
        "sorted_idx"
      ],
      "metadata": {
        "id": "fU4ze6ieGMEk",
        "outputId": "8bb06bf7-0e63-41fc-97fe-ed98f954350e",
        "colab": {
          "base_uri": "https://localhost:8080/"
        }
      },
      "execution_count": 43,
      "outputs": [
        {
          "output_type": "execute_result",
          "data": {
            "text/plain": [
              "array([ 31,  19,  88,  89,  90,  84,  43,  33,   8,  38,  79,  55, 110,\n",
              "        39,   4,  41,  87,  18,  42,  37,   9, 100,  80,  92,  30,  20,\n",
              "        47,  34, 103,  53,  45,  10,  51,  32,  15,  12,  29, 101, 120,\n",
              "        35,   3, 118,  11,  81, 116,   2,  23,  44,  99,  21,  26,   7,\n",
              "        49, 104, 102,  77, 133,  75, 122,  86, 109, 113,  69, 135, 117,\n",
              "        22,  76,  46,  70, 115,  68,  40,   1,  36,  17,  74,  25, 124,\n",
              "       119,  82,  98,  85, 136, 108, 134, 111,   5,  56,  13,  93,  54,\n",
              "        78,  48, 112, 105,  52,  91,  72, 114,  73,   6, 128,  14,  24,\n",
              "        64, 107,  16,  27, 126, 125,  66,  61,  60, 131,  59, 127,  83,\n",
              "        71, 130, 121,  65,  96,  97, 129,  28, 132,  58,  67,  50, 106,\n",
              "        62,  57,  95,   0,  94,  63, 123])"
            ]
          },
          "metadata": {},
          "execution_count": 43
        }
      ]
    },
    {
      "cell_type": "code",
      "execution_count": 57,
      "metadata": {
        "colab": {
          "base_uri": "https://localhost:8080/",
          "height": 458
        },
        "id": "ew_4p-zNrzty",
        "outputId": "abe2af5f-3fef-4384-f5c0-5b5de1ac6919"
      },
      "outputs": [
        {
          "output_type": "display_data",
          "data": {
            "image/png": "[encoded data removed]",
            "text/plain": [
              "<Figure size 864x432 with 2 Axes>"
            ]
          },
          "metadata": {
            "needs_background": "light"
          }
        },
        {
          "output_type": "stream",
          "name": "stdout",
          "text": [
            "time to generate permutation importance:  590.657675\n"
          ]
        }
      ],
      "source": [
        "start = datetime.now()\n",
        "n_features = 50\n",
        "\n",
        "feature_importance = reg.feature_importances_\n",
        "sorted_idx = np.argsort(feature_importance)[::-1]\n",
        "sorted_idx = sorted_idx[:n_features][::-1]\n",
        "pos = np.arange(sorted_idx.shape[0]) + 0.5\n",
        "fig = plt.figure(figsize=(12, 6)) # might make bigger\n",
        "plt.subplot(1, 2, 1)\n",
        "plt.barh(pos, feature_importance[sorted_idx], align=\"center\")\n",
        "plt.yticks(pos, np.array(X.columns)[sorted_idx], fontsize=6)\n",
        "plt.title(\"Feature Importance (MDI)\")\n",
        "\n",
        "result = permutation_importance(\n",
        "    reg, X_test, y_test, n_repeats=10, random_state=42, n_jobs=2\n",
        ")\n",
        "sorted_idx2 = result.importances_mean.argsort()[::-1]\n",
        "sorted_idx2 = sorted_idx2[:n_features][::-1]\n",
        "plt.subplot(1, 2, 2)\n",
        "plt.boxplot(\n",
        "    result.importances[sorted_idx2].T,\n",
        "    vert=False,\n",
        "    labels=np.array(X.columns)[sorted_idx2],\n",
        ")\n",
        "plt.title(\"Permutation Importance (test set)\")\n",
        "fig.tight_layout()\n",
        "plt.show()\n",
        "\n",
        "end = datetime.now()\n",
        "print(\"time to generate permutation importance: \", (end-start).total_seconds())"
      ]
    },
    {
      "cell_type": "code",
      "source": [
        "#variable feature importance\n",
        "pd.DataFrame(np.array([X.columns[sorted_idx2[::-1]], feature_importance[sorted_idx2[::-1]], result.importances_mean[sorted_idx2[::-1]]]).T)[:30]"
      ],
      "metadata": {
        "id": "QFd6TXp2clHs",
        "outputId": "c83233f1-eb7d-4498-c6b2-39ee7b816da6",
        "colab": {
          "base_uri": "https://localhost:8080/",
          "height": 990
        }
      },
      "execution_count": null,
      "outputs": [
        {
          "output_type": "execute_result",
          "data": {
            "text/html": [
              "\n",
              "  <div id=\"df-c094c3fa-1f8e-43b1-ad90-5464c7e2e46d\">\n",
              "    <div class=\"colab-df-container\">\n",
              "      <div>\n",
              "<style scoped>\n",
              "    .dataframe tbody tr th:only-of-type {\n",
              "        vertical-align: middle;\n",
              "    }\n",
              "\n",
              "    .dataframe tbody tr th {\n",
              "        vertical-align: top;\n",
              "    }\n",
              "\n",
              "    .dataframe thead th {\n",
              "        text-align: right;\n",
              "    }\n",
              "</style>\n",
              "<table border=\"1\" class=\"dataframe\">\n",
              "  <thead>\n",
              "    <tr style=\"text-align: right;\">\n",
              "      <th></th>\n",
              "      <th>0</th>\n",
              "      <th>1</th>\n",
              "      <th>2</th>\n",
              "    </tr>\n",
              "  </thead>\n",
              "  <tbody>\n",
              "    <tr>\n",
              "      <th>0</th>\n",
              "      <td>property_type_private_room</td>\n",
              "      <td>0.204889</td>\n",
              "      <td>0.105166</td>\n",
              "    </tr>\n",
              "    <tr>\n",
              "      <th>1</th>\n",
              "      <td>accommodates</td>\n",
              "      <td>0.075118</td>\n",
              "      <td>0.100765</td>\n",
              "    </tr>\n",
              "    <tr>\n",
              "      <th>2</th>\n",
              "      <td>bedrooms</td>\n",
              "      <td>0.078546</td>\n",
              "      <td>0.061164</td>\n",
              "    </tr>\n",
              "    <tr>\n",
              "      <th>3</th>\n",
              "      <td>longitude</td>\n",
              "      <td>0.043544</td>\n",
              "      <td>0.036613</td>\n",
              "    </tr>\n",
              "    <tr>\n",
              "      <th>4</th>\n",
              "      <td>latitude</td>\n",
              "      <td>0.039794</td>\n",
              "      <td>0.033457</td>\n",
              "    </tr>\n",
              "    <tr>\n",
              "      <th>5</th>\n",
              "      <td>availability_30</td>\n",
              "      <td>0.043515</td>\n",
              "      <td>0.033048</td>\n",
              "    </tr>\n",
              "    <tr>\n",
              "      <th>6</th>\n",
              "      <td>amenities_tv</td>\n",
              "      <td>0.037308</td>\n",
              "      <td>0.030776</td>\n",
              "    </tr>\n",
              "    <tr>\n",
              "      <th>7</th>\n",
              "      <td>reviews_per_month</td>\n",
              "      <td>0.017981</td>\n",
              "      <td>0.024848</td>\n",
              "    </tr>\n",
              "    <tr>\n",
              "      <th>8</th>\n",
              "      <td>number_of_reviews</td>\n",
              "      <td>0.007746</td>\n",
              "      <td>0.023509</td>\n",
              "    </tr>\n",
              "    <tr>\n",
              "      <th>9</th>\n",
              "      <td>bath_number</td>\n",
              "      <td>0.038146</td>\n",
              "      <td>0.023298</td>\n",
              "    </tr>\n",
              "    <tr>\n",
              "      <th>10</th>\n",
              "      <td>calculated_host_listings_count_private_rooms</td>\n",
              "      <td>0.024871</td>\n",
              "      <td>0.021507</td>\n",
              "    </tr>\n",
              "    <tr>\n",
              "      <th>11</th>\n",
              "      <td>review_scores_value</td>\n",
              "      <td>0.008921</td>\n",
              "      <td>0.021137</td>\n",
              "    </tr>\n",
              "    <tr>\n",
              "      <th>12</th>\n",
              "      <td>availability_365</td>\n",
              "      <td>0.014471</td>\n",
              "      <td>0.019707</td>\n",
              "    </tr>\n",
              "    <tr>\n",
              "      <th>13</th>\n",
              "      <td>neighbourhood_cleansed_Landstra§e</td>\n",
              "      <td>0.002418</td>\n",
              "      <td>0.019702</td>\n",
              "    </tr>\n",
              "    <tr>\n",
              "      <th>14</th>\n",
              "      <td>neighbourhood_cleansed_Innere Stadt</td>\n",
              "      <td>0.032215</td>\n",
              "      <td>0.015782</td>\n",
              "    </tr>\n",
              "    <tr>\n",
              "      <th>15</th>\n",
              "      <td>host_verification_phone</td>\n",
              "      <td>0.013696</td>\n",
              "      <td>0.015238</td>\n",
              "    </tr>\n",
              "    <tr>\n",
              "      <th>16</th>\n",
              "      <td>minimum_nights</td>\n",
              "      <td>0.020559</td>\n",
              "      <td>0.01484</td>\n",
              "    </tr>\n",
              "    <tr>\n",
              "      <th>17</th>\n",
              "      <td>review_scores_cleanliness</td>\n",
              "      <td>0.011055</td>\n",
              "      <td>0.012148</td>\n",
              "    </tr>\n",
              "    <tr>\n",
              "      <th>18</th>\n",
              "      <td>calculated_host_listings_count</td>\n",
              "      <td>0.012211</td>\n",
              "      <td>0.011928</td>\n",
              "    </tr>\n",
              "    <tr>\n",
              "      <th>19</th>\n",
              "      <td>review_scores_rating</td>\n",
              "      <td>0.010957</td>\n",
              "      <td>0.011601</td>\n",
              "    </tr>\n",
              "    <tr>\n",
              "      <th>20</th>\n",
              "      <td>host_listings_count</td>\n",
              "      <td>0.010667</td>\n",
              "      <td>0.010292</td>\n",
              "    </tr>\n",
              "    <tr>\n",
              "      <th>21</th>\n",
              "      <td>bath_is_shared</td>\n",
              "      <td>0.026532</td>\n",
              "      <td>0.009216</td>\n",
              "    </tr>\n",
              "    <tr>\n",
              "      <th>22</th>\n",
              "      <td>calculated_host_listings_count_entire_homes</td>\n",
              "      <td>0.010516</td>\n",
              "      <td>0.009211</td>\n",
              "    </tr>\n",
              "    <tr>\n",
              "      <th>23</th>\n",
              "      <td>amenities_balcony</td>\n",
              "      <td>0.00645</td>\n",
              "      <td>0.008442</td>\n",
              "    </tr>\n",
              "    <tr>\n",
              "      <th>24</th>\n",
              "      <td>amenities_nbath</td>\n",
              "      <td>0.007785</td>\n",
              "      <td>0.008072</td>\n",
              "    </tr>\n",
              "    <tr>\n",
              "      <th>25</th>\n",
              "      <td>review_scores_location</td>\n",
              "      <td>0.020136</td>\n",
              "      <td>0.00786</td>\n",
              "    </tr>\n",
              "    <tr>\n",
              "      <th>26</th>\n",
              "      <td>availability_60</td>\n",
              "      <td>0.010806</td>\n",
              "      <td>0.007374</td>\n",
              "    </tr>\n",
              "    <tr>\n",
              "      <th>27</th>\n",
              "      <td>room_Hotel room</td>\n",
              "      <td>0.003261</td>\n",
              "      <td>0.006885</td>\n",
              "    </tr>\n",
              "    <tr>\n",
              "      <th>28</th>\n",
              "      <td>maximum_minimum_nights</td>\n",
              "      <td>0.013111</td>\n",
              "      <td>0.005704</td>\n",
              "    </tr>\n",
              "    <tr>\n",
              "      <th>29</th>\n",
              "      <td>host_picture_binary</td>\n",
              "      <td>0.004502</td>\n",
              "      <td>0.004829</td>\n",
              "    </tr>\n",
              "  </tbody>\n",
              "</table>\n",
              "</div>\n",
              "      <button class=\"colab-df-convert\" onclick=\"convertToInteractive('df-c094c3fa-1f8e-43b1-ad90-5464c7e2e46d')\"\n",
              "              title=\"Convert this dataframe to an interactive table.\"\n",
              "              style=\"display:none;\">\n",
              "        \n",
              "  <svg xmlns=\"http://www.w3.org/2000/svg\" height=\"24px\"viewBox=\"0 0 24 24\"\n",
              "       width=\"24px\">\n",
              "    <path d=\"M0 0h24v24H0V0z\" fill=\"none\"/>\n",
              "    <path d=\"M18.56 5.44l.94 2.06.94-2.06 2.06-.94-2.06-.94-.94-2.06-.94 2.06-2.06.94zm-11 1L8.5 8.5l.94-2.06 2.06-.94-2.06-.94L8.5 2.5l-.94 2.06-2.06.94zm10 10l.94 2.06.94-2.06 2.06-.94-2.06-.94-.94-2.06-.94 2.06-2.06.94z\"/><path d=\"M17.41 7.96l-1.37-1.37c-.4-.4-.92-.59-1.43-.59-.52 0-1.04.2-1.43.59L10.3 9.45l-7.72 7.72c-.78.78-.78 2.05 0 2.83L4 21.41c.39.39.9.59 1.41.59.51 0 1.02-.2 1.41-.59l7.78-7.78 2.81-2.81c.8-.78.8-2.07 0-2.86zM5.41 20L4 18.59l7.72-7.72 1.47 1.35L5.41 20z\"/>\n",
              "  </svg>\n",
              "      </button>\n",
              "      \n",
              "  <style>\n",
              "    .colab-df-container {\n",
              "      display:flex;\n",
              "      flex-wrap:wrap;\n",
              "      gap: 12px;\n",
              "    }\n",
              "\n",
              "    .colab-df-convert {\n",
              "      background-color: #E8F0FE;\n",
              "      border: none;\n",
              "      border-radius: 50%;\n",
              "      cursor: pointer;\n",
              "      display: none;\n",
              "      fill: #1967D2;\n",
              "      height: 32px;\n",
              "      padding: 0 0 0 0;\n",
              "      width: 32px;\n",
              "    }\n",
              "\n",
              "    .colab-df-convert:hover {\n",
              "      background-color: #E2EBFA;\n",
              "      box-shadow: 0px 1px 2px rgba(60, 64, 67, 0.3), 0px 1px 3px 1px rgba(60, 64, 67, 0.15);\n",
              "      fill: #174EA6;\n",
              "    }\n",
              "\n",
              "    [theme=dark] .colab-df-convert {\n",
              "      background-color: #3B4455;\n",
              "      fill: #D2E3FC;\n",
              "    }\n",
              "\n",
              "    [theme=dark] .colab-df-convert:hover {\n",
              "      background-color: #434B5C;\n",
              "      box-shadow: 0px 1px 3px 1px rgba(0, 0, 0, 0.15);\n",
              "      filter: drop-shadow(0px 1px 2px rgba(0, 0, 0, 0.3));\n",
              "      fill: #FFFFFF;\n",
              "    }\n",
              "  </style>\n",
              "\n",
              "      <script>\n",
              "        const buttonEl =\n",
              "          document.querySelector('#df-c094c3fa-1f8e-43b1-ad90-5464c7e2e46d button.colab-df-convert');\n",
              "        buttonEl.style.display =\n",
              "          google.colab.kernel.accessAllowed ? 'block' : 'none';\n",
              "\n",
              "        async function convertToInteractive(key) {\n",
              "          const element = document.querySelector('#df-c094c3fa-1f8e-43b1-ad90-5464c7e2e46d');\n",
              "          const dataTable =\n",
              "            await google.colab.kernel.invokeFunction('convertToInteractive',\n",
              "                                                     [key], {});\n",
              "          if (!dataTable) return;\n",
              "\n",
              "          const docLinkHtml = 'Like what you see? Visit the ' +\n",
              "            '<a target=\"_blank\" href=https://colab.research.google.com/notebooks/data_table.ipynb>data table notebook</a>'\n",
              "            + ' to learn more about interactive tables.';\n",
              "          element.innerHTML = '';\n",
              "          dataTable['output_type'] = 'display_data';\n",
              "          await google.colab.output.renderOutput(dataTable, element);\n",
              "          const docLink = document.createElement('div');\n",
              "          docLink.innerHTML = docLinkHtml;\n",
              "          element.appendChild(docLink);\n",
              "        }\n",
              "      </script>\n",
              "    </div>\n",
              "  </div>\n",
              "  "
            ],
            "text/plain": [
              "                                               0         1         2\n",
              "0                     property_type_private_room  0.204889  0.105166\n",
              "1                                   accommodates  0.075118  0.100765\n",
              "2                                       bedrooms  0.078546  0.061164\n",
              "3                                      longitude  0.043544  0.036613\n",
              "4                                       latitude  0.039794  0.033457\n",
              "5                                availability_30  0.043515  0.033048\n",
              "6                                   amenities_tv  0.037308  0.030776\n",
              "7                              reviews_per_month  0.017981  0.024848\n",
              "8                              number_of_reviews  0.007746  0.023509\n",
              "9                                    bath_number  0.038146  0.023298\n",
              "10  calculated_host_listings_count_private_rooms  0.024871  0.021507\n",
              "11                           review_scores_value  0.008921  0.021137\n",
              "12                              availability_365  0.014471  0.019707\n",
              "13             neighbourhood_cleansed_Landstra§e  0.002418  0.019702\n",
              "14           neighbourhood_cleansed_Innere Stadt  0.032215  0.015782\n",
              "15                       host_verification_phone  0.013696  0.015238\n",
              "16                                minimum_nights  0.020559   0.01484\n",
              "17                     review_scores_cleanliness  0.011055  0.012148\n",
              "18                calculated_host_listings_count  0.012211  0.011928\n",
              "19                          review_scores_rating  0.010957  0.011601\n",
              "20                           host_listings_count  0.010667  0.010292\n",
              "21                                bath_is_shared  0.026532  0.009216\n",
              "22   calculated_host_listings_count_entire_homes  0.010516  0.009211\n",
              "23                             amenities_balcony   0.00645  0.008442\n",
              "24                               amenities_nbath  0.007785  0.008072\n",
              "25                        review_scores_location  0.020136   0.00786\n",
              "26                               availability_60  0.010806  0.007374\n",
              "27                               room_Hotel room  0.003261  0.006885\n",
              "28                        maximum_minimum_nights  0.013111  0.005704\n",
              "29                           host_picture_binary  0.004502  0.004829"
            ]
          },
          "metadata": {},
          "execution_count": 18
        }
      ]
    }
  ],
  "metadata": {
    "kernelspec": {
      "display_name": "Python 3",
      "language": "python",
      "name": "python3"
    },
    "language_info": {
      "codemirror_mode": {
        "name": "ipython",
        "version": 3
      },
      "file_extension": ".py",
      "mimetype": "text/x-python",
      "name": "python",
      "nbconvert_exporter": "python",
      "pygments_lexer": "ipython3",
      "version": "3.9.9"
    },
    "colab": {
      "name": "plot_gradient_boosting_regression.ipynb",
      "provenance": [],
      "include_colab_link": true
    }
  },
  "nbformat": 4,
  "nbformat_minor": 0
}