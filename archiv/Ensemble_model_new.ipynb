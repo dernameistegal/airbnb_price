{
  "cells": [
    {
      "cell_type": "markdown",
      "metadata": {
        "id": "view-in-github",
        "colab_type": "text"
      },
      "source": [
        "<a href=\"https://colab.research.google.com/github/dernameistegal/airbnb_price/blob/main/Ensemble_model_new.ipynb\" target=\"_parent\"><img src=\"https://colab.research.google.com/assets/colab-badge.svg\" alt=\"Open In Colab\"/></a>"
      ]
    },
    {
      "cell_type": "markdown",
      "source": [
        "#Model Descriptions"
      ],
      "metadata": {
        "id": "XlqDyKsuVdCa"
      }
    },
    {
      "cell_type": "code",
      "source": [
        "!rm -r airbnb_price"
      ],
      "metadata": {
        "id": "MzNY5F9pjBYs",
        "outputId": "3d8cceed-46d3-4144-eebf-2fd15f22e104",
        "colab": {
          "base_uri": "https://localhost:8080/"
        }
      },
      "execution_count": 69,
      "outputs": [
        {
          "output_type": "stream",
          "name": "stdout",
          "text": [
            "rm: cannot remove 'airbnb_price': No such file or directory\n"
          ]
        }
      ]
    },
    {
      "cell_type": "code",
      "source": [
        "!git clone https://github.com/dernameistegal/airbnb_price.git"
      ],
      "metadata": {
        "colab": {
          "base_uri": "https://localhost:8080/"
        },
        "id": "LPxhl9jSVd1z",
        "outputId": "256af202-ccb0-4b24-d20a-82e1ecbacd72"
      },
      "execution_count": 70,
      "outputs": [
        {
          "output_type": "stream",
          "name": "stdout",
          "text": [
            "Cloning into 'airbnb_price'...\n",
            "remote: Enumerating objects: 1322, done.\u001b[K\n",
            "remote: Counting objects: 100% (1322/1322), done.\u001b[K\n",
            "remote: Compressing objects: 100% (1249/1249), done.\u001b[K\n",
            "remote: Total 1322 (delta 790), reused 337 (delta 63), pack-reused 0\u001b[K\n",
            "Receiving objects: 100% (1322/1322), 11.26 MiB | 4.69 MiB/s, done.\n",
            "Resolving deltas: 100% (790/790), done.\n"
          ]
        }
      ]
    },
    {
      "cell_type": "code",
      "source": [
        "#@title also import libraries\n",
        "%cd airbnb_price\n",
        "import sys\n",
        "sys.path.append(\"/content/airbnb_price/custom_functions\")\n",
        "sys.path.append(\"/content/airbnb_price/models\")\n",
        "from ensemble_model import EnsembleModel2, EnsembleDataset2\n",
        "import train_ensemble2 as train\n",
        "import general_utils as ut\n",
        "device = ut.get_device()"
      ],
      "metadata": {
        "colab": {
          "base_uri": "https://localhost:8080/"
        },
        "id": "c1rK8zOtVoMG",
        "outputId": "b6580605-aa62-420b-f24f-349840809de3",
        "cellView": "form"
      },
      "execution_count": 71,
      "outputs": [
        {
          "output_type": "stream",
          "name": "stdout",
          "text": [
            "/content/airbnb_price/airbnb_price\n",
            "cuda available: True ; cudnn available: True ; num devices: 1\n",
            "Using device Tesla P100-PCIE-16GB\n"
          ]
        }
      ]
    },
    {
      "cell_type": "code",
      "execution_count": 72,
      "metadata": {
        "id": "it5JOetS6sgI",
        "colab": {
          "base_uri": "https://localhost:8080/"
        },
        "outputId": "5fc19ea0-9c6f-4ccc-8356-f3d9e72696a7",
        "cellView": "form"
      },
      "outputs": [
        {
          "output_type": "stream",
          "name": "stdout",
          "text": [
            "Mounted at /content/drive\n"
          ]
        }
      ],
      "source": [
        "#@title Import libraries\n",
        "import numpy as np\n",
        "import pandas as pd\n",
        "import seaborn as sns\n",
        "import matplotlib.pyplot as plt\n",
        "from tqdm import tqdm\n",
        "import fastprogress\n",
        "from sklearn.model_selection import train_test_split\n",
        "from torch.utils.data import TensorDataset, DataLoader\n",
        "import torch.nn as nn\n",
        "import torch\n",
        "from torch.nn import CrossEntropyLoss\n",
        "import torch.nn.functional as F\n",
        "import json\n",
        "from scipy.stats.stats import pearsonr\n",
        "import matplotlib.pyplot as plt\n",
        "import sklearn\n",
        "\n",
        "from google.colab import drive\n",
        "drive.mount('/content/drive', force_remount=True)"
      ]
    },
    {
      "cell_type": "markdown",
      "metadata": {
        "id": "hu-hKzYgFvZJ"
      },
      "source": [
        "# Data Loading"
      ]
    },
    {
      "cell_type": "code",
      "source": [
        "desc = pd.read_pickle(\"/content/drive/MyDrive/Colab/airbnb/data/embeddings/descriptions.pickle\")\n",
        "rev = pd.read_pickle(\"/content/drive/MyDrive/Colab/airbnb/data/embeddings/reviews.pickle\")\n",
        "thumb = pd.read_pickle(\"/content/drive/MyDrive/Colab/airbnb/data/embeddings/thumbnails.pickle\")\n",
        "features = pd.read_pickle(\"/content/drive/MyDrive/Colab/airbnb/data/data1/listings_embeddedcats_morevars.pickle\")\n",
        "with open(\"/content/drive/MyDrive/Colab/airbnb/data/data1/catdict_morevars.json\", \"r\") as f:\n",
        "    catlist = json.load(f)"
      ],
      "metadata": {
        "id": "g5YLN7M0rNDa"
      },
      "execution_count": 92,
      "outputs": []
    },
    {
      "cell_type": "code",
      "source": [
        "# if you want to set desc, rev and thumb to zero for performance comparison, run this chunk\n",
        "\n",
        "# for i in range(len(desc)):\n",
        "#     desc.iloc[i] = [0 for i in range(len(desc.iloc[0]))]\n",
        "\n",
        "# for i in range(len(rev)):\n",
        "#     rev.iloc[i] = [0 for i in range(len(rev.iloc[0]))]\n",
        "\n",
        "# for i in range(len(thumb)):\n",
        "#     thumb.iloc[i] = [0 for i in range(len(thumb.iloc[0]))]"
      ],
      "metadata": {
        "id": "De9fLstPb1HD"
      },
      "execution_count": 93,
      "outputs": []
    },
    {
      "cell_type": "code",
      "source": [
        "dropset = set()"
      ],
      "metadata": {
        "id": "EXHOar8Xw7IP"
      },
      "execution_count": 76,
      "outputs": []
    },
    {
      "cell_type": "code",
      "source": [
        "# # if you want to exclude columns in training (used for munich), run this chunk\n",
        "\n",
        "# features = features.drop([\"calculated_host_listings_count_private_rooms\", \"calculated_host_listings_count_entire_homes\", \n",
        "#                           \"calculated_host_listings_count\", \"longitude\", \"latitude\", \"neighbourhood_cleansed\",\n",
        "#                           'host_verification_photographer', 'host_verification_sesame', 'host_verification_sesame_offline',\n",
        "#                           'host_verification_weibo','host_verification_zhima_selfie'], axis=1)\n",
        "# dropset = set([\"calculated_host_listings_count_private_rooms\", \"calculated_host_listings_count_entire_homes\", \"calculated_host_listings_count\", \"longitude\", \"latitude\", \"neighbourhood_cleansed\"])"
      ],
      "metadata": {
        "id": "n_EKZHDpPU1n"
      },
      "execution_count": 94,
      "outputs": []
    },
    {
      "cell_type": "code",
      "source": [
        "logprice = features[\"log_price\"]"
      ],
      "metadata": {
        "id": "s0fwindkmVyq"
      },
      "execution_count": 78,
      "outputs": []
    },
    {
      "cell_type": "code",
      "source": [
        "selected_features = np.load(\"/content/drive/MyDrive/Colab/airbnb/data/feature_selection/selected_features_morefeatures.npy\", allow_pickle=True)\n",
        "selected_features = (set(selected_features) & set(features.columns)) - dropset\n",
        "features = features[selected_features]"
      ],
      "metadata": {
        "id": "83GSXtmPcYSB"
      },
      "execution_count": 95,
      "outputs": []
    },
    {
      "cell_type": "code",
      "source": [
        "# if you want to set all values of tabular variables to 0 (used to use only unstructured data), run this\n",
        "# features.loc[:, :] = 0"
      ],
      "metadata": {
        "id": "65hDWZyH-cLX"
      },
      "execution_count": 80,
      "outputs": []
    },
    {
      "cell_type": "code",
      "source": [
        "desc = pd.DataFrame(desc)\n",
        "thumb = pd.DataFrame(thumb)\n",
        "rev = pd.DataFrame(rev)\n",
        "logprice = pd.DataFrame(logprice)"
      ],
      "metadata": {
        "id": "EzRmzUm9x_yN"
      },
      "execution_count": 81,
      "outputs": []
    },
    {
      "cell_type": "code",
      "source": [
        "data = pd.concat([thumb, desc, rev, features, logprice], axis=1)"
      ],
      "metadata": {
        "id": "gUduHBgwrgG0"
      },
      "execution_count": 82,
      "outputs": []
    },
    {
      "cell_type": "markdown",
      "source": [
        "# define which of the (possibly 7) data columns are treated as categories"
      ],
      "metadata": {
        "id": "T0GvHOX43pOk"
      }
    },
    {
      "cell_type": "code",
      "source": [
        "# choose to exclude some columns from the cat_cols\n",
        "cat_cols_regular = ['neighbourhood_cleansed', \n",
        "                    'property_type', \n",
        "                    'room_type', \n",
        "                    'lang', \n",
        "                    \"availability_30\", \n",
        "                    \"accommodates\", \n",
        "                    \"bedrooms\",\n",
        "                    \"host_response_time\"]\n",
        "\n",
        "cat_cols_exclude = [#'neighbourhood_cleansed', \n",
        "                    #'property_type', \n",
        "                    #'room_type', \n",
        "                    #'lang', \n",
        "                    #\"availability_30\", \n",
        "                    \"accommodates\", \n",
        "                    \"bedrooms\",\n",
        "                    #\"host_response_time\"\n",
        "                    ]\n",
        "\n",
        "\n",
        "cat_cols = cat_cols_regular.copy()\n",
        "for x in cat_cols_exclude:\n",
        "    cat_cols.remove(x)\n",
        "\n",
        "rm_list = []\n",
        "for i, col in enumerate(cat_cols_regular):\n",
        "    if col in set(cat_cols_exclude):\n",
        "        rm_list.append(i)\n",
        "\n",
        "for i in rm_list[::-1]:\n",
        "    del catlist[i]\n",
        "\n",
        "to_replace = pd.read_pickle(\"/content/drive/MyDrive/Colab/airbnb/data/data1/listings_workfile.pickle\")\n",
        "\n",
        "if \"neighbourhood_cleansed\" in cat_cols_exclude:\n",
        "    cat_cols_exclude.remove(\"neighbourhood_cleansed\")\n",
        "    data.loc[:, \"neighbourhood_cleansed_Simmering\"] = to_replace[\"neighbourhood_cleansed_Simmering\"]\n",
        "    data.loc[:, \"neighbourhood_cleansed_Brigittenau\"] = to_replace[\"neighbourhood_cleansed_Brigittenau\"]\n",
        "    data.loc[:, \"neighbourhood_cleansed_Ottakring\"] =  to_replace[\"neighbourhood_cleansed_Ottakring\"]\n",
        "    data.loc[:, \"neighbourhood_cleansed_W\\x8ahring\"] =  to_replace[\"neighbourhood_cleansed_W\\x8ahring\"]\n",
        "    data.loc[:, \"neighbourhood_cleansed_Wieden\"] =  to_replace[\"neighbourhood_cleansed_Wieden\"]\n",
        "    data.loc[:, \"neighbourhood_cleansed_Hietzing\"] =  to_replace[\"neighbourhood_cleansed_Hietzing\"]\n",
        "    data.loc[:, \"neighbourhood_cleansed_Innere Stadt\"] =  to_replace[\"neighbourhood_cleansed_Innere Stadt\"]\n",
        "    data = data.drop(\"neighbourhood_cleansed\", axis=1)\n",
        "\n",
        "if \"property_type\" in cat_cols_exclude:\n",
        "    cat_cols_exclude.remove(\"property_type\")\n",
        "    data.loc[:, \"property_type_shared_room\"] =  to_replace[\"property_type_shared_room\"]\n",
        "    data.loc[:, \"property_type_private_room\"] =  to_replace[\"property_type_private_room\"]\n",
        "    data = data.drop(\"property_type\", axis=1)\n",
        "\n",
        "if \"room_type\" in cat_cols_exclude:\n",
        "    cat_cols_exclude.remove(\"room_type\")\n",
        "    data.loc[:, \"room_Private room\"] =  to_replace[\"room_Private room\"]\n",
        "    data.loc[:, \"room_Shared room\"] =  to_replace[\"room_Shared room\"]   \n",
        "    data = data.drop(\"room_type\", axis=1)\n",
        "\n",
        "if \"lang\" in cat_cols_exclude:\n",
        "    cat_cols_exclude.remove(\"lang\")\n",
        "    data = data.drop(\"lang\", axis=1)\n",
        "\n",
        "data.loc[:, cat_cols_exclude] = to_replace[cat_cols_exclude]"
      ],
      "metadata": {
        "id": "YOSpxARL4FRQ"
      },
      "execution_count": 83,
      "outputs": []
    },
    {
      "cell_type": "code",
      "source": [
        "train_ids, val_ids, test_ids = ut.train_val_test_split(data.index)\n",
        "traindf, valdf, testdf = data.loc[train_ids], data.loc[val_ids], data.loc[test_ids]"
      ],
      "metadata": {
        "id": "rdLu5CuEsLPz"
      },
      "execution_count": 85,
      "outputs": []
    },
    {
      "cell_type": "markdown",
      "metadata": {
        "id": "NaSTkvQca3or"
      },
      "source": [
        "## Create DataLoader"
      ]
    },
    {
      "cell_type": "code",
      "source": [
        "# if you want to remove something from catcols and catlist (used for munich), run this\n",
        "# del cat_cols[0]\n",
        "# del catlist[0]"
      ],
      "metadata": {
        "id": "D2E5iJiDVKsg"
      },
      "execution_count": 86,
      "outputs": []
    },
    {
      "cell_type": "code",
      "execution_count": 87,
      "metadata": {
        "id": "7my-m1Zt75Zp"
      },
      "outputs": [],
      "source": [
        "# TODO\n",
        "# create dataloaders\n",
        "trainset = EnsembleDataset2(traindf, [\"thumbnails\"], [\"descriptions\"], [\"reviews\"], cat_cols, [\"log_price\"])\n",
        "valset = EnsembleDataset2(valdf, [\"thumbnails\"], [\"descriptions\"], [\"reviews\"], cat_cols, [\"log_price\"])\n",
        "testset = EnsembleDataset2(testdf, [\"thumbnails\"], [\"descriptions\"], [\"reviews\"], cat_cols, [\"log_price\"])\n",
        "\n",
        "b = 128\n",
        "trainloader = DataLoader(trainset, shuffle=True, num_workers=2, batch_size=b)\n",
        "valloader = DataLoader(valset, shuffle=False, num_workers=2, batch_size=b)\n",
        "testloader = DataLoader(testset, shuffle=False, num_workers=2, batch_size=b)"
      ]
    },
    {
      "cell_type": "markdown",
      "metadata": {
        "id": "8vuwkaCRkYLL"
      },
      "source": [
        "\n",
        "#Training\n"
      ]
    },
    {
      "cell_type": "code",
      "source": [
        "no_of_thumb = 100\n",
        "no_of_desc = 100\n",
        "no_of_rev = 100\n",
        "no_of_cont = len(traindf.columns) - 3 - 1 - len(catlist)  # -3 for thumb, desc and rev, -1 for price, last term to subtract cat cols\n",
        "cat_emb_dims = [(len(x), 16) for x in catlist]\n",
        "lin_layer_sizes = [512, 512, 512, 512, 512]"
      ],
      "metadata": {
        "id": "VkLI1Brf2cZA"
      },
      "execution_count": 88,
      "outputs": []
    },
    {
      "cell_type": "code",
      "source": [
        "model = EnsembleModel2(no_of_thumb=no_of_thumb, no_of_desc=no_of_desc, no_of_rev=no_of_rev, no_of_cont=no_of_cont,\n",
        "                      cat_emb_dims=cat_emb_dims, lin_layer_sizes=lin_layer_sizes, thumb_dropout=0.6, desc_dropout=0.6,\n",
        "                      rev_dropout=0.6, cont_dropout=0, cat_dropout=0, linear_layer_dropout=[0, 0, 0], bn_layers=False)\n",
        "\n",
        "\n",
        "model = model.to(device)\n",
        "loss_fn = torch.nn.MSELoss()\n",
        "optimizer = torch.optim.Adam(model.parameters(), lr=1e-3, weight_decay=1e-4)\n",
        "scheduler = torch.optim.lr_scheduler.LambdaLR(optimizer, lr_lambda = lambda epoch: 0.1 ** (epoch // 15), last_epoch=- 1, verbose=True)\n",
        "result = train.run_training(model, optimizer, loss_fn, device, 40, trainloader, \n",
        "                            valloader, verbose=True, ntrain=500, nval=200, scheduler=scheduler, savefolder=\"gooo\")"
      ],
      "metadata": {
        "id": "nXfkQU-21cI3",
        "outputId": "e74a125b-eb53-4089-b061-7bc2d2c1196b",
        "colab": {
          "base_uri": "https://localhost:8080/",
          "height": 1000
        }
      },
      "execution_count": 90,
      "outputs": [
        {
          "output_type": "stream",
          "name": "stdout",
          "text": [
            "Adjusting learning rate of group 0 to 1.0000e-03.\n"
          ]
        },
        {
          "output_type": "display_data",
          "data": {
            "text/html": [
              "\n",
              "<style>\n",
              "    /* Turns off some styling */\n",
              "    progress {\n",
              "        /* gets rid of default border in Firefox and Opera. */\n",
              "        border: none;\n",
              "        /* Needs to be in here for Safari polyfill so background images work as expected. */\n",
              "        background-size: auto;\n",
              "    }\n",
              "    .progress-bar-interrupted, .progress-bar-interrupted::-webkit-progress-bar {\n",
              "        background: #F44336;\n",
              "    }\n",
              "</style>\n"
            ],
            "text/plain": [
              "<IPython.core.display.HTML object>"
            ]
          },
          "metadata": {}
        },
        {
          "output_type": "display_data",
          "data": {
            "text/html": [
              "Epoch: 0, Train loss: 1.06, val loss: 0.33, train rmse: 1.027, val rmse 0.578<p>Epoch: 1, Train loss: 0.22, val loss: 0.28, train rmse: 0.467, val rmse 0.530<p>Epoch: 2, Train loss: 0.19, val loss: 0.19, train rmse: 0.434, val rmse 0.431<p>Epoch: 3, Train loss: 0.18, val loss: 0.22, train rmse: 0.419, val rmse 0.472<p>Epoch: 4, Train loss: 0.16, val loss: 0.18, train rmse: 0.397, val rmse 0.420<p>Epoch: 5, Train loss: 0.17, val loss: 0.21, train rmse: 0.409, val rmse 0.462<p>Epoch: 6, Train loss: 0.17, val loss: 0.20, train rmse: 0.413, val rmse 0.452<p>Epoch: 7, Train loss: 0.16, val loss: 0.17, train rmse: 0.396, val rmse 0.408<p>Epoch: 8, Train loss: 0.15, val loss: 0.17, train rmse: 0.385, val rmse 0.416<p>Epoch: 9, Train loss: 0.15, val loss: 0.17, train rmse: 0.385, val rmse 0.416<p>Epoch: 10, Train loss: 0.15, val loss: 0.33, train rmse: 0.385, val rmse 0.578<p>Epoch: 11, Train loss: 0.15, val loss: 0.17, train rmse: 0.384, val rmse 0.414<p>Epoch: 12, Train loss: 0.15, val loss: 0.18, train rmse: 0.389, val rmse 0.419<p>Epoch: 13, Train loss: 0.14, val loss: 0.16, train rmse: 0.379, val rmse 0.402<p>Epoch: 14, Train loss: 0.15, val loss: 0.16, train rmse: 0.385, val rmse 0.399<p>Epoch: 15, Train loss: 0.12, val loss: 0.16, train rmse: 0.349, val rmse 0.396<p>Epoch: 16, Train loss: 0.12, val loss: 0.16, train rmse: 0.347, val rmse 0.400<p>Epoch: 17, Train loss: 0.13, val loss: 0.16, train rmse: 0.354, val rmse 0.395<p>Epoch: 18, Train loss: 0.12, val loss: 0.16, train rmse: 0.345, val rmse 0.398<p>Epoch: 19, Train loss: 0.12, val loss: 0.15, train rmse: 0.342, val rmse 0.394<p>Epoch: 20, Train loss: 0.12, val loss: 0.15, train rmse: 0.344, val rmse 0.393<p>Epoch: 21, Train loss: 0.12, val loss: 0.16, train rmse: 0.342, val rmse 0.401<p>Epoch: 22, Train loss: 0.12, val loss: 0.16, train rmse: 0.340, val rmse 0.403<p>Epoch: 23, Train loss: 0.12, val loss: 0.15, train rmse: 0.343, val rmse 0.394<p>Epoch: 24, Train loss: 0.11, val loss: 0.16, train rmse: 0.338, val rmse 0.397<p>Epoch: 25, Train loss: 0.12, val loss: 0.16, train rmse: 0.342, val rmse 0.398<p>Epoch: 26, Train loss: 0.11, val loss: 0.16, train rmse: 0.338, val rmse 0.398<p>Epoch: 27, Train loss: 0.12, val loss: 0.16, train rmse: 0.340, val rmse 0.395<p>Epoch: 28, Train loss: 0.11, val loss: 0.15, train rmse: 0.336, val rmse 0.393<p>Epoch: 29, Train loss: 0.12, val loss: 0.15, train rmse: 0.343, val rmse 0.393<p>Epoch: 30, Train loss: 0.11, val loss: 0.16, train rmse: 0.330, val rmse 0.394<p>Epoch: 31, Train loss: 0.11, val loss: 0.16, train rmse: 0.337, val rmse 0.394<p>Epoch: 32, Train loss: 0.11, val loss: 0.16, train rmse: 0.338, val rmse 0.394<p>Epoch: 33, Train loss: 0.11, val loss: 0.16, train rmse: 0.334, val rmse 0.397<p>Epoch: 34, Train loss: 0.11, val loss: 0.15, train rmse: 0.333, val rmse 0.393<p>Epoch: 35, Train loss: 0.11, val loss: 0.16, train rmse: 0.334, val rmse 0.395<p>Epoch: 36, Train loss: 0.11, val loss: 0.16, train rmse: 0.335, val rmse 0.394<p>Epoch: 37, Train loss: 0.11, val loss: 0.16, train rmse: 0.337, val rmse 0.394<p>Epoch: 38, Train loss: 0.12, val loss: 0.16, train rmse: 0.340, val rmse 0.394<p>Epoch: 39, Train loss: 0.11, val loss: 0.15, train rmse: 0.334, val rmse 0.393"
            ],
            "text/plain": [
              "<IPython.core.display.HTML object>"
            ]
          },
          "metadata": {}
        },
        {
          "output_type": "stream",
          "name": "stdout",
          "text": [
            "saving model...\n",
            "Adjusting learning rate of group 0 to 1.0000e-03.\n",
            "saving model...\n",
            "Adjusting learning rate of group 0 to 1.0000e-03.\n",
            "saving model...\n",
            "Adjusting learning rate of group 0 to 1.0000e-03.\n",
            "Adjusting learning rate of group 0 to 1.0000e-03.\n",
            "saving model...\n",
            "Adjusting learning rate of group 0 to 1.0000e-03.\n",
            "Adjusting learning rate of group 0 to 1.0000e-03.\n",
            "Adjusting learning rate of group 0 to 1.0000e-03.\n",
            "saving model...\n",
            "Adjusting learning rate of group 0 to 1.0000e-03.\n",
            "Adjusting learning rate of group 0 to 1.0000e-03.\n",
            "Adjusting learning rate of group 0 to 1.0000e-03.\n",
            "Adjusting learning rate of group 0 to 1.0000e-03.\n",
            "Adjusting learning rate of group 0 to 1.0000e-03.\n",
            "Adjusting learning rate of group 0 to 1.0000e-03.\n",
            "saving model...\n",
            "Adjusting learning rate of group 0 to 1.0000e-03.\n",
            "saving model...\n",
            "Adjusting learning rate of group 0 to 1.0000e-04.\n",
            "saving model...\n",
            "Adjusting learning rate of group 0 to 1.0000e-04.\n",
            "Adjusting learning rate of group 0 to 1.0000e-04.\n",
            "saving model...\n",
            "Adjusting learning rate of group 0 to 1.0000e-04.\n",
            "Adjusting learning rate of group 0 to 1.0000e-04.\n",
            "saving model...\n",
            "Adjusting learning rate of group 0 to 1.0000e-04.\n",
            "saving model...\n",
            "Adjusting learning rate of group 0 to 1.0000e-04.\n",
            "Adjusting learning rate of group 0 to 1.0000e-04.\n",
            "Adjusting learning rate of group 0 to 1.0000e-04.\n",
            "Adjusting learning rate of group 0 to 1.0000e-04.\n",
            "Adjusting learning rate of group 0 to 1.0000e-04.\n",
            "Adjusting learning rate of group 0 to 1.0000e-04.\n",
            "Adjusting learning rate of group 0 to 1.0000e-04.\n",
            "Adjusting learning rate of group 0 to 1.0000e-04.\n",
            "saving model...\n",
            "Adjusting learning rate of group 0 to 1.0000e-04.\n",
            "Adjusting learning rate of group 0 to 1.0000e-05.\n",
            "Adjusting learning rate of group 0 to 1.0000e-05.\n",
            "Adjusting learning rate of group 0 to 1.0000e-05.\n",
            "Adjusting learning rate of group 0 to 1.0000e-05.\n",
            "Adjusting learning rate of group 0 to 1.0000e-05.\n",
            "Adjusting learning rate of group 0 to 1.0000e-05.\n",
            "Adjusting learning rate of group 0 to 1.0000e-05.\n",
            "Adjusting learning rate of group 0 to 1.0000e-05.\n",
            "Adjusting learning rate of group 0 to 1.0000e-05.\n",
            "Adjusting learning rate of group 0 to 1.0000e-05.\n",
            "saving model...\n",
            "Adjusting learning rate of group 0 to 1.0000e-05.\n",
            "Finished training after 51 seconds.\n"
          ]
        }
      ]
    },
    {
      "cell_type": "markdown",
      "source": [
        "# Evaluation of final model"
      ],
      "metadata": {
        "id": "pulBx8YibrAp"
      }
    },
    {
      "cell_type": "code",
      "source": [
        "# calculate mean logprice on testset\n",
        "mean_logprice = 0\n",
        "\n",
        "for     _, _, _, _, _, logprice  in testset:\n",
        "    mean_logprice += np.array(logprice)\n",
        "\n",
        "mean_logprice = mean_logprice/ len(testset)\n",
        "\n",
        "mean_logprice\n",
        "\n",
        "mse =  0\n",
        "for _, _, _, _, _, logprice  in testset:\n",
        "    mse += (logprice - mean_logprice)**2\n",
        "\n",
        "mse = mse / len(testset)\n",
        "mse    "
      ],
      "metadata": {
        "id": "SwZh2KTgS-II",
        "outputId": "29d23fd0-f43d-4782-d9a7-6ca8752464b2",
        "colab": {
          "base_uri": "https://localhost:8080/"
        }
      },
      "execution_count": null,
      "outputs": [
        {
          "output_type": "execute_result",
          "data": {
            "text/plain": [
              "tensor([0.4106])"
            ]
          },
          "metadata": {},
          "execution_count": 31
        }
      ]
    },
    {
      "cell_type": "code",
      "source": [
        "# load statedict of saved model\n",
        "\n",
        "no_of_thumb = 100\n",
        "no_of_desc = 100\n",
        "no_of_rev = 100\n",
        "no_of_cont = len(traindf.columns) - 3 - 1 - len(catlist)  # -3 for thumb, desc and rev, -1 for price, last term to subtract cat cols\n",
        "cat_emb_dims = [(len(x), 16) for x in catlist]\n",
        "lin_layer_sizes = [512, 512, 512, 512, 512]\n",
        "\n",
        "model = EnsembleModel2(no_of_thumb=no_of_thumb, no_of_desc=no_of_desc, no_of_rev=no_of_rev, no_of_cont=no_of_cont,\n",
        "                      cat_emb_dims=cat_emb_dims, lin_layer_sizes=lin_layer_sizes, thumb_dropout=0.6, desc_dropout=0.6,\n",
        "                      rev_dropout=0.6, cont_dropout=0, cat_dropout=0, linear_layer_dropout=[0, 0, 0, 0, 0], bn_layers=False)\n",
        "\n",
        "# load statedict and model performances\n",
        "savefolder = \"test1\"\n",
        "state_dict = torch.load(\"/content/drive/MyDrive/Colab/airbnb/data/model_performance/\" + savefolder + \"/checkpoint.pt\")\n",
        "train_rmse = np.load(\"/content/drive/MyDrive/Colab/airbnb/data/model_performance/\" + savefolder + \"/trainloss.npy\")\n",
        "val_rmse = np.load(\"/content/drive/MyDrive/Colab/airbnb/data/model_performance/\" + savefolder + \"/valloss.npy\")\n",
        "\n",
        "model.load_state_dict(state_dict)"
      ],
      "metadata": {
        "id": "sP0XfRbdv0Qs",
        "outputId": "f7c02132-66d5-4b13-b45c-12012e1e9998",
        "colab": {
          "base_uri": "https://localhost:8080/"
        }
      },
      "execution_count": null,
      "outputs": [
        {
          "output_type": "execute_result",
          "data": {
            "text/plain": [
              "<All keys matched successfully>"
            ]
          },
          "metadata": {},
          "execution_count": 32
        }
      ]
    },
    {
      "cell_type": "code",
      "source": [
        "# plot train and test\n",
        "ut.plot(\"RMSE\", \"RMSE\", train_rmse, val_rmse, yscale='linear', save_path=\"/content/file0.svg\")\n",
        "print(np.min(val_rmse))"
      ],
      "metadata": {
        "id": "D9TgHotkyidp",
        "outputId": "c17d7325-5904-4b24-a7d5-54f83e5a0cfb",
        "colab": {
          "base_uri": "https://localhost:8080/",
          "height": 321
        }
      },
      "execution_count": null,
      "outputs": [
        {
          "output_type": "display_data",
          "data": {
            "image/png": "[encoded data removed]",
            "text/plain": [
              "<Figure size 360x288 with 1 Axes>"
            ]
          },
          "metadata": {}
        },
        {
          "output_type": "stream",
          "name": "stdout",
          "text": [
            "0.3912501156161271\n"
          ]
        }
      ]
    },
    {
      "cell_type": "code",
      "source": [
        "# compute predictions\n",
        "\n",
        "ypreds = []\n",
        "ys = []\n",
        "model = model.to(device)\n",
        "with torch.no_grad():\n",
        "    model = model.eval()\n",
        "\n",
        "    for pic_embdg, description_embdg, reviews_embdg, cont_features, cat_features, label in tqdm(testloader):\n",
        "\n",
        "        pic_embdg, description_embdg, reviews_embdg, cont_features, cat_features = \\\n",
        "        pic_embdg.to(device), description_embdg.to(device), reviews_embdg.to(device), cont_features.to(device), cat_features.to(device).int()\n",
        "        \n",
        "        y_pred = model(pic_embdg, description_embdg, reviews_embdg, cont_features, cat_features)\n",
        "        y_pred = list(y_pred.detach().cpu())\n",
        "        \n",
        "        ypreds = ypreds + y_pred\n",
        "        ys = ys + list(label)"
      ],
      "metadata": {
        "colab": {
          "base_uri": "https://localhost:8080/"
        },
        "id": "a_fks15wPIUA",
        "outputId": "878ee631-a7c6-4780-be9a-07f6f5bd3b4c"
      },
      "execution_count": null,
      "outputs": [
        {
          "output_type": "stream",
          "name": "stderr",
          "text": [
            "100%|██████████| 14/14 [00:00<00:00, 45.62it/s]\n"
          ]
        }
      ]
    },
    {
      "cell_type": "code",
      "source": [
        "ys = [i.item() for i in ys]\n",
        "ypreds = [i.item() for i in ypreds]\n",
        "\n",
        "print(pearsonr(ys, ypreds))\n",
        "plt.figure(figsize=(5,4))\n",
        "sns.set(style=\"ticks\")\n",
        "plt.scatter(ys, ypreds, c='#1f77b4')\n",
        "plt.ylabel(\"predicted log price\")\n",
        "plt.xlabel(\"log price\")\n",
        "plt.scatter(ys, ypreds)\n",
        "plt.savefig(str(\"/content/file0.svg\"), bbox_inches='tight', format=\"svg\", transparent=True)\n",
        "plt.show()"
      ],
      "metadata": {
        "id": "mGE1h6X12M6Z",
        "outputId": "3156664d-9fbe-4a3d-a61e-673bc48e9217",
        "colab": {
          "base_uri": "https://localhost:8080/",
          "height": 304
        }
      },
      "execution_count": null,
      "outputs": [
        {
          "output_type": "stream",
          "name": "stdout",
          "text": [
            "(0.8287092704442537, 0.0)\n"
          ]
        },
        {
          "output_type": "display_data",
          "data": {
            "image/png": "[encoded data removed]",
            "text/plain": [
              "<Figure size 360x288 with 1 Axes>"
            ]
          },
          "metadata": {}
        }
      ]
    },
    {
      "cell_type": "code",
      "source": [
        "import sklearn\n",
        "print(\"RMSE test set: \", np.sqrt(sklearn.metrics.mean_squared_error(ys, np.squeeze(ypreds))))\n",
        "print(\"MSE test set: \", (sklearn.metrics.mean_squared_error(ys, np.squeeze(ypreds))))"
      ],
      "metadata": {
        "id": "DI8umYtez7G6",
        "outputId": "53bc951e-8a83-4b0f-9d32-7d956a7cf84b",
        "colab": {
          "base_uri": "https://localhost:8080/"
        }
      },
      "execution_count": null,
      "outputs": [
        {
          "output_type": "stream",
          "name": "stdout",
          "text": [
            "RMSE test set:  0.36250530857974456\n",
            "MSE test set:  0.13141009874849582\n"
          ]
        }
      ]
    },
    {
      "cell_type": "code",
      "source": [
        "sklearn.metrics.r2_score(ys, ypreds)"
      ],
      "metadata": {
        "id": "ws_2Aep3SwQn",
        "outputId": "fd7d525e-4ea9-4664-8ee6-131d99cd4dcd",
        "colab": {
          "base_uri": "https://localhost:8080/"
        }
      },
      "execution_count": null,
      "outputs": [
        {
          "output_type": "execute_result",
          "data": {
            "text/plain": [
              "0.6799341733792051"
            ]
          },
          "metadata": {},
          "execution_count": 41
        }
      ]
    },
    {
      "cell_type": "markdown",
      "source": [
        "# Evaluation of Munich model"
      ],
      "metadata": {
        "id": "4O211_g0Wk3N"
      }
    },
    {
      "cell_type": "code",
      "source": [
        "tl, vl, tm, vm = result\n",
        "ut.plot(\"RMSE\", \"RMSE\", tm, vm, yscale='linear', save_path=\"/content/file0.svg\")"
      ],
      "metadata": {
        "id": "oExyHurZuovP",
        "outputId": "e1639bcb-c8fe-4d47-c7ca-cba3dc17d831",
        "colab": {
          "base_uri": "https://localhost:8080/",
          "height": 303
        }
      },
      "execution_count": null,
      "outputs": [
        {
          "output_type": "display_data",
          "data": {
            "image/png": "[encoded data removed]",
            "text/plain": [
              "<Figure size 360x288 with 1 Axes>"
            ]
          },
          "metadata": {}
        }
      ]
    },
    {
      "cell_type": "code",
      "source": [
        "desc = pd.read_pickle(\"/content/drive/MyDrive/Colab/airbnb/data/embeddings/descriptions.pickle\")\n",
        "rev = pd.read_pickle(\"/content/drive/MyDrive/Colab/airbnb/data/embeddings/reviews.pickle\")\n",
        "thumb = pd.read_pickle(\"/content/drive/MyDrive/Colab/airbnb/data/embeddings/thumbnails.pickle\")\n",
        "features = pd.read_pickle(\"/content/drive/MyDrive/Colab/airbnb/data/data1/listings_withcategorical_better.pickle\")\n",
        "with open(\"/content/drive/MyDrive/Colab/airbnb/data/data1/catdict_better.json\", \"r\") as f:\n",
        "    catlist = json.load(f)\n",
        "\n",
        "# if you want to exclude columns in training, run this chunk\n",
        "\n",
        "features = features.drop([\"calculated_host_listings_count_private_rooms\", \"calculated_host_listings_count_entire_homes\", \"calculated_host_listings_count\", \"longitude\", \"latitude\", \"neighbourhood_cleansed\"], axis=1)\n",
        "dropset = set([\"calculated_host_listings_count_private_rooms\", \"calculated_host_listings_count_entire_homes\", \"calculated_host_listings_count\", \"longitude\", \"latitude\", \"neighbourhood_cleansed\"])\n",
        "\n",
        "logprice = features[\"log_price\"]\n",
        "\n",
        "selected_features = np.load(\"/content/drive/MyDrive/Colab/airbnb/data/feature_selection/selected_features2.npy\", allow_pickle=True)\n",
        "selected_features = (set(selected_features) & set(features.columns)) | (set(['neighbourhood_cleansed', 'property_type', 'room_type', 'lang']) - dropset)\n",
        "features = features[selected_features]\n",
        "\n",
        "desc = pd.DataFrame(desc)\n",
        "thumb = pd.DataFrame(thumb)\n",
        "rev = pd.DataFrame(rev)\n",
        "logprice = pd.DataFrame(logprice)\n",
        "\n",
        "data = pd.concat([thumb, desc, rev, features, logprice], axis=1)\n",
        "\n",
        "\n",
        "# choose to exclude some columns from the cat_cols\n",
        "cat_cols_regular = ['neighbourhood_cleansed', \n",
        "                    'property_type', \n",
        "                    'room_type', \n",
        "                    'lang', \n",
        "                    \"availability_30\", \n",
        "                    \"accommodates\", \n",
        "                    \"bedrooms\"]\n",
        "\n",
        "cat_cols_exclude = [#'neighbourhood_cleansed', \n",
        "                    #'property_type', \n",
        "                    #'room_type', \n",
        "                    'lang', \n",
        "                    #\"availability_30\", \n",
        "                    \"accommodates\", \n",
        "                    \"bedrooms\"\n",
        "                    ]\n",
        "\n",
        "\n",
        "cat_cols = cat_cols_regular.copy()\n",
        "for x in cat_cols_exclude:\n",
        "    cat_cols.remove(x)\n",
        "\n",
        "rm_list = []\n",
        "for i, col in enumerate(cat_cols_regular):\n",
        "    if col in set(cat_cols_exclude):\n",
        "        rm_list.append(i)\n",
        "\n",
        "for i in rm_list[::-1]:\n",
        "    del catlist[i]\n",
        "\n",
        "to_replace = pd.read_pickle(\"/content/drive/MyDrive/Colab/airbnb/munich/listings_workfile.pickle\")\n",
        "\n",
        "if \"neighbourhood_cleansed\" in cat_cols_exclude:\n",
        "    cat_cols_exclude.remove(\"neighbourhood_cleansed\")\n",
        "    data.loc[:, \"neighbourhood_cleansed_Simmering\"] = to_replace[\"neighbourhood_cleansed_Simmering\"]\n",
        "    data.loc[:, \"neighbourhood_cleansed_Brigittenau\"] = to_replace[\"neighbourhood_cleansed_Brigittenau\"]\n",
        "    data.loc[:, \"neighbourhood_cleansed_Ottakring\"] =  to_replace[\"neighbourhood_cleansed_Ottakring\"]\n",
        "    data.loc[:, \"neighbourhood_cleansed_W\\x8ahring\"] =  to_replace[\"neighbourhood_cleansed_W\\x8ahring\"]\n",
        "    data.loc[:, \"neighbourhood_cleansed_Wieden\"] =  to_replace[\"neighbourhood_cleansed_Wieden\"]\n",
        "    data.loc[:, \"neighbourhood_cleansed_Hietzing\"] =  to_replace[\"neighbourhood_cleansed_Hietzing\"]\n",
        "    data.loc[:, \"neighbourhood_cleansed_Innere Stadt\"] =  to_replace[\"neighbourhood_cleansed_Innere Stadt\"]\n",
        "    data = data.drop(\"neighbourhood_cleansed\", axis=1)\n",
        "\n",
        "if \"property_type\" in cat_cols_exclude:\n",
        "    cat_cols_exclude.remove(\"property_type\")\n",
        "    data.loc[:, \"property_type_shared_room\"] =  to_replace[\"property_type_shared_room\"]\n",
        "    data.loc[:, \"property_type_private_room\"] =  to_replace[\"property_type_private_room\"]\n",
        "    data = data.drop(\"property_type\", axis=1)\n",
        "\n",
        "if \"room_type\" in cat_cols_exclude:\n",
        "    cat_cols_exclude.remove(\"room_type\")\n",
        "    data.loc[:, \"room_Private room\"] =  to_replace[\"room_Private room\"]\n",
        "    data.loc[:, \"room_Shared room\"] =  to_replace[\"room_Shared room\"]   \n",
        "    data = data.drop(\"room_type\", axis=1)\n",
        "\n",
        "if \"lang\" in cat_cols_exclude:\n",
        "    cat_cols_exclude.remove(\"lang\")\n",
        "    data = data.drop(\"lang\", axis=1)\n",
        "\n",
        "data.loc[:, cat_cols_exclude] = to_replace[cat_cols_exclude]\n",
        "\n",
        "\n",
        "# if you want to remove something from catcols and catlist, run this\n",
        "del cat_cols[0]\n",
        "del catlist[0]\n",
        "\n",
        "\n",
        "# TODO\n",
        "# create dataloaders\n",
        "testset = EnsembleDataset2(data, [\"thumbnails\"], [\"descriptions\"], [\"reviews\"], cat_cols, [\"log_price\"])\n",
        "\n",
        "b = 128\n",
        "testloader = DataLoader(testset, shuffle=True, num_workers=2, batch_size=b)"
      ],
      "metadata": {
        "id": "n1t8LpkLXedg"
      },
      "execution_count": null,
      "outputs": []
    },
    {
      "cell_type": "code",
      "source": [
        "no_of_thumb = 100\n",
        "no_of_desc = 100\n",
        "no_of_rev = 100\n",
        "no_of_cont = len(traindf.columns) - 3 - 1 - len(catlist)  # -3 for thumb, desc and rev, -1 for price, last term to subtract cat cols\n",
        "cat_emb_dims = [(len(x), 10) for x in catlist]\n",
        "lin_layer_sizes = [512, 512, 512, 512, 512]\n",
        "\n",
        "model = EnsembleModel2(no_of_thumb=no_of_thumb, no_of_desc=no_of_desc, no_of_rev=no_of_rev, no_of_cont=no_of_cont,\n",
        "                       cat_emb_dims=cat_emb_dims, lin_layer_sizes=lin_layer_sizes, thumb_dropout=0.3, desc_dropout=0.3,\n",
        "                       rev_dropout=0.2, cont_dropout=0, cat_dropout=0, linear_layer_dropout=[0, 0, 0], bn_layers=False)\n",
        "\n",
        "# load statedict and model performances\n",
        "savefolder = \"munich_modeltmp\"\n",
        "state_dict = torch.load(\"/content/drive/MyDrive/Colab/airbnb/data/model_performance/\" + savefolder + \"/checkpoint.pt\")\n",
        "model.load_state_dict(state_dict)\n",
        "train_rmse = np.load(\"/content/drive/MyDrive/Colab/airbnb/data/model_performance/\" + savefolder + \"/trainloss.npy\")\n",
        "val_rmse = np.load(\"/content/drive/MyDrive/Colab/airbnb/data/model_performance/\" + savefolder + \"/valloss.npy\")"
      ],
      "metadata": {
        "id": "jjXVUsP8Wlst"
      },
      "execution_count": null,
      "outputs": []
    },
    {
      "cell_type": "code",
      "source": [
        "model = model.to(device)\n",
        "ypreds = []\n",
        "ys = []\n",
        "\n",
        "with torch.no_grad():\n",
        "    model = model.eval()\n",
        "\n",
        "    for pic_embdg, description_embdg, reviews_embdg, cont_features, cat_features, label in tqdm(testloader):\n",
        "\n",
        "        pic_embdg, description_embdg, reviews_embdg, cont_features, cat_features = \\\n",
        "        pic_embdg.to(device), description_embdg.to(device), reviews_embdg.to(device), cont_features.to(device), cat_features.to(device).int()\n",
        "        \n",
        "        y_pred = model(pic_embdg, description_embdg, reviews_embdg, cont_features, cat_features)\n",
        "        y_pred = list(y_pred.detach().cpu())\n",
        "        \n",
        "        ypreds = ypreds + y_pred\n",
        "        ys = ys + list(label)\n"
      ],
      "metadata": {
        "id": "HjQq9O2UWwZM",
        "outputId": "4c63bed5-94a5-44ff-ba90-e747238f016e",
        "colab": {
          "base_uri": "https://localhost:8080/"
        }
      },
      "execution_count": null,
      "outputs": [
        {
          "output_type": "stream",
          "name": "stderr",
          "text": [
            "100%|██████████| 8/8 [00:00<00:00, 40.29it/s]\n"
          ]
        }
      ]
    },
    {
      "cell_type": "code",
      "source": [
        "ys = [i.item() for i in ys]\n",
        "ypreds = [i.item() for i in ypreds]\n",
        "\n",
        "\n",
        "\n",
        "\n",
        "print(pearsonr(ys, ypreds))\n",
        "plt.scatter(ys, ypreds)\n",
        "plt.show()"
      ],
      "metadata": {
        "id": "pmmYeWuChX-B",
        "outputId": "fd1cf38d-261b-4683-eab3-f8f933410c3f",
        "colab": {
          "base_uri": "https://localhost:8080/",
          "height": 282
        }
      },
      "execution_count": null,
      "outputs": [
        {
          "output_type": "stream",
          "name": "stdout",
          "text": [
            "(0.5775360479018536, 7.536920555454828e-90)\n"
          ]
        },
        {
          "output_type": "display_data",
          "data": {
            "image/png": "[encoded data removed]",
            "text/plain": [
              "<Figure size 432x288 with 1 Axes>"
            ]
          },
          "metadata": {
            "needs_background": "light"
          }
        }
      ]
    },
    {
      "cell_type": "code",
      "source": [
        "plt.figure(figsize=(5,4))\n",
        "sns.set(style=\"ticks\")\n",
        "plt.scatter(ys, ypreds, c='#1f77b4')\n",
        "plt.ylabel(\"predicted log price\")\n",
        "plt.xlabel(\"log price\")\n",
        "plt.scatter(ys, ypreds)\n",
        "plt.savefig(str(\"/content/file0.svg\"), bbox_inches='tight', format=\"svg\", transparent=True)\n",
        "plt.show()"
      ],
      "metadata": {
        "id": "E0wWloYQuUg1",
        "outputId": "d7d74bef-3947-48c4-8ec7-2137485ab2ce",
        "colab": {
          "base_uri": "https://localhost:8080/",
          "height": 285
        }
      },
      "execution_count": null,
      "outputs": [
        {
          "output_type": "display_data",
          "data": {
            "image/png": "[encoded data removed]",
            "text/plain": [
              "<Figure size 360x288 with 1 Axes>"
            ]
          },
          "metadata": {
            "needs_background": "light"
          }
        }
      ]
    },
    {
      "cell_type": "code",
      "source": [
        "import sklearn\n",
        "\n",
        "sklearn.metrics.mean_squared_error(ys, ypreds)"
      ],
      "metadata": {
        "id": "n3aP94xXhfel",
        "outputId": "dff8e769-c83e-4a82-a6d1-bd10f5b58b2d",
        "colab": {
          "base_uri": "https://localhost:8080/"
        }
      },
      "execution_count": null,
      "outputs": [
        {
          "output_type": "execute_result",
          "data": {
            "text/plain": [
              "0.44182635902559514"
            ]
          },
          "metadata": {},
          "execution_count": 58
        }
      ]
    },
    {
      "cell_type": "code",
      "source": [
        "from sklearn import linear_model\n",
        "reg = linear_model.LinearRegression()\n",
        "reg.fit(np.array(ypreds).reshape(-1, 1), np.array(ys).reshape(-1,1))\n",
        "ypreds = ypreds * reg.coef_ + reg.intercept_"
      ],
      "metadata": {
        "id": "jBTzUvhUiDP3"
      },
      "execution_count": null,
      "outputs": []
    },
    {
      "cell_type": "code",
      "source": [
        "sklearn.metrics.mean_squared_error(ys, np.squeeze(ypreds))"
      ],
      "metadata": {
        "id": "HChpEL-PjmRd",
        "outputId": "0e760a89-e38a-47db-fb1e-2ce7e93fbae7",
        "colab": {
          "base_uri": "https://localhost:8080/"
        }
      },
      "execution_count": null,
      "outputs": [
        {
          "output_type": "execute_result",
          "data": {
            "text/plain": [
              "0.3238342326182796"
            ]
          },
          "metadata": {},
          "execution_count": 60
        }
      ]
    },
    {
      "cell_type": "code",
      "source": [
        "reg.coef_"
      ],
      "metadata": {
        "id": "nf-_pX87vscf",
        "outputId": "eca12499-65c6-4f2f-8671-e361d96ae702",
        "colab": {
          "base_uri": "https://localhost:8080/"
        }
      },
      "execution_count": null,
      "outputs": [
        {
          "output_type": "execute_result",
          "data": {
            "text/plain": [
              "array([[1.02402179]])"
            ]
          },
          "metadata": {},
          "execution_count": 67
        }
      ]
    },
    {
      "cell_type": "code",
      "source": [
        "reg.intercept_"
      ],
      "metadata": {
        "id": "Aa9kxyiKvvkj",
        "outputId": "b4d8ba34-7042-4791-ec5c-baababdb6b7a",
        "colab": {
          "base_uri": "https://localhost:8080/"
        }
      },
      "execution_count": null,
      "outputs": [
        {
          "output_type": "execute_result",
          "data": {
            "text/plain": [
              "array([0.24499807])"
            ]
          },
          "metadata": {},
          "execution_count": 68
        }
      ]
    },
    {
      "cell_type": "markdown",
      "source": [
        "# Explainability categorical variables"
      ],
      "metadata": {
        "id": "4lgacq3DrsFE"
      }
    },
    {
      "cell_type": "code",
      "source": [
        "embeddings = np.empty((len(catlist[0]), 16))\n",
        "\n",
        "for i in range(len(catlist[0])):\n",
        "    embedding = model.generate_cat_embeddings(variable_number=0, category_number=i)\n",
        "    embedding = embedding.numpy()\n",
        "    embeddings[i] = embedding"
      ],
      "metadata": {
        "id": "0qhD16589zzN"
      },
      "execution_count": null,
      "outputs": []
    },
    {
      "cell_type": "code",
      "source": [
        "from sklearn.manifold import TSNE\n",
        "\n",
        "tsne = TSNE(random_state=1, perplexity=20)  # perplexity=x argument possible\n",
        "tsne_results = tsne.fit_transform(embeddings)"
      ],
      "metadata": {
        "id": "AbUZ26UsrvLz",
        "outputId": "571b2c88-165a-48f7-9a4e-a52a6cb5d493",
        "colab": {
          "base_uri": "https://localhost:8080/"
        }
      },
      "execution_count": null,
      "outputs": [
        {
          "output_type": "stream",
          "name": "stderr",
          "text": [
            "/usr/local/lib/python3.7/dist-packages/sklearn/manifold/_t_sne.py:783: FutureWarning: The default initialization in TSNE will change from 'random' to 'pca' in 1.2.\n",
            "  FutureWarning,\n",
            "/usr/local/lib/python3.7/dist-packages/sklearn/manifold/_t_sne.py:793: FutureWarning: The default learning rate in TSNE will change from 200.0 to 'auto' in 1.2.\n",
            "  FutureWarning,\n"
          ]
        }
      ]
    },
    {
      "cell_type": "code",
      "source": [
        "districts = ['Donaustadt', 'Leopoldstadt', 'Rudolfsheim-Fuenfhaus', 'Ottakring', 'Brigittenau', 'Neubau', 'Margareten',\n",
        "             'Hernals', 'Floridsdorf', 'Alsergrund', 'Simmering', 'Wieden', 'Mariahilf', 'Josefstadt', 'Landstrasse',\n",
        "             'Favoriten', 'Innere Stadt', 'Meidling', 'Wöhring', 'Döbling', 'Penzing', 'Liesing', 'Hietzing']"
      ],
      "metadata": {
        "id": "M-CAwqRxE4kS"
      },
      "execution_count": null,
      "outputs": []
    },
    {
      "cell_type": "code",
      "source": [
        "fig, ax = plt.subplots(figsize=(10, 10))\n",
        "ax.scatter(pca_results[:, 0], pca_results[:, 1])\n",
        "\n",
        "for i, txt in enumerate(districts):\n",
        "    ax.annotate(districts[i], (pca_results[:, 0][i], pca_results[:, 1][i]))\n",
        "\n",
        "plt.show()"
      ],
      "metadata": {
        "id": "lvDRkisBDNwx",
        "outputId": "245152a4-8a45-4172-a9fb-8bf11aed3578",
        "colab": {
          "base_uri": "https://localhost:8080/",
          "height": 594
        }
      },
      "execution_count": null,
      "outputs": [
        {
          "output_type": "display_data",
          "data": {
            "image/png": "[encoded data removed]",
            "text/plain": [
              "<Figure size 720x720 with 1 Axes>"
            ]
          },
          "metadata": {}
        }
      ]
    },
    {
      "cell_type": "code",
      "source": [
        "import sklearn\n",
        "pca = sklearn.decomposition.PCA(n_components=2)"
      ],
      "metadata": {
        "id": "nQy1akGCHa3f"
      },
      "execution_count": null,
      "outputs": []
    },
    {
      "cell_type": "code",
      "source": [
        "pca_results = pca.fit_transform(embeddings)"
      ],
      "metadata": {
        "id": "ctL25JbJHkbA"
      },
      "execution_count": null,
      "outputs": []
    }
  ],
  "metadata": {
    "colab": {
      "collapsed_sections": [],
      "name": "Ensemble_model.ipynb",
      "provenance": [],
      "include_colab_link": true
    },
    "kernelspec": {
      "display_name": "Python 3",
      "language": "python",
      "name": "python3"
    },
    "language_info": {
      "codemirror_mode": {
        "name": "ipython",
        "version": 3
      },
      "file_extension": ".py",
      "mimetype": "text/x-python",
      "name": "python",
      "nbconvert_exporter": "python",
      "pygments_lexer": "ipython3",
      "version": "3.8.5"
    },
    "accelerator": "GPU"
  },
  "nbformat": 4,
  "nbformat_minor": 0
}