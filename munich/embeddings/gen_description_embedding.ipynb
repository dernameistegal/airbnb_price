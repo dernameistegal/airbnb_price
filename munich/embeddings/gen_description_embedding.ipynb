{
  "cells": [
    {
      "cell_type": "markdown",
      "metadata": {
        "id": "view-in-github",
        "colab_type": "text"
      },
      "source": [
        "<a href=\"https://colab.research.google.com/github/dernameistegal/airbnb_price/blob/main/munich/embeddings/gen_description_embedding.ipynb\" target=\"_parent\"><img src=\"https://colab.research.google.com/assets/colab-badge.svg\" alt=\"Open In Colab\"/></a>"
      ]
    },
    {
      "cell_type": "markdown",
      "source": [
        "#Model Descriptions"
      ],
      "metadata": {
        "id": "XlqDyKsuVdCa"
      }
    },
    {
      "cell_type": "code",
      "source": [
        "!git clone https://github.com/dernameistegal/airbnb_price.git"
      ],
      "metadata": {
        "colab": {
          "base_uri": "https://localhost:8080/"
        },
        "id": "LPxhl9jSVd1z",
        "outputId": "1b2fd7f7-86bc-4cd0-cdd3-c9e26d2a344c"
      },
      "execution_count": 1,
      "outputs": [
        {
          "output_type": "stream",
          "name": "stdout",
          "text": [
            "Cloning into 'airbnb_price'...\n",
            "remote: Enumerating objects: 1157, done.\u001b[K\n",
            "remote: Counting objects: 100% (1157/1157), done.\u001b[K\n",
            "remote: Compressing objects: 100% (1095/1095), done.\u001b[K\n",
            "remote: Total 1157 (delta 692), reused 304 (delta 55), pack-reused 0\u001b[K\n",
            "Receiving objects: 100% (1157/1157), 9.92 MiB | 9.63 MiB/s, done.\n",
            "Resolving deltas: 100% (692/692), done.\n"
          ]
        }
      ]
    },
    {
      "cell_type": "code",
      "source": [
        "%cd airbnb_price\n",
        "import sys\n",
        "sys.path.append(\"/content/airbnb_price/custom_functions\")\n",
        "import general_utils as ut\n",
        "import train_utils as train\n",
        "device = ut.get_device()"
      ],
      "metadata": {
        "colab": {
          "base_uri": "https://localhost:8080/"
        },
        "id": "c1rK8zOtVoMG",
        "outputId": "e2f8b78f-7727-4a44-d779-4b6902bb945c"
      },
      "execution_count": 2,
      "outputs": [
        {
          "output_type": "stream",
          "name": "stdout",
          "text": [
            "/content/airbnb_price\n",
            "cuda available: True ; cudnn available: True ; num devices: 1\n",
            "Using device Tesla P100-PCIE-16GB\n"
          ]
        }
      ]
    },
    {
      "cell_type": "code",
      "execution_count": 3,
      "metadata": {
        "id": "hOrc3Hf6213A"
      },
      "outputs": [],
      "source": [
        "%%capture\n",
        "!pip install transformers\n",
        "!pip install requests\n",
        "!pip install captum"
      ]
    },
    {
      "cell_type": "code",
      "execution_count": 4,
      "metadata": {
        "id": "it5JOetS6sgI",
        "colab": {
          "base_uri": "https://localhost:8080/"
        },
        "outputId": "b01808d9-f864-4091-b99c-5ebd661f9758"
      },
      "outputs": [
        {
          "output_type": "stream",
          "name": "stdout",
          "text": [
            "Mounted at /content/drive\n"
          ]
        }
      ],
      "source": [
        "# Import libraries\n",
        "import numpy as np\n",
        "import pandas as pd\n",
        "import seaborn as sns\n",
        "import matplotlib.pyplot as plt\n",
        "from tqdm import tqdm\n",
        "import fastprogress\n",
        "from sklearn.model_selection import train_test_split\n",
        "from torch.utils.data import TensorDataset, DataLoader\n",
        "from transformers import BertModel\n",
        "import torch.nn as nn\n",
        "import torch\n",
        "from torch.nn import CrossEntropyLoss\n",
        "import torch.nn.functional as F\n",
        "\n",
        "from google.colab import drive\n",
        "drive.mount('/content/drive')"
      ]
    },
    {
      "cell_type": "markdown",
      "metadata": {
        "id": "hu-hKzYgFvZJ"
      },
      "source": [
        "# Data Loading"
      ]
    },
    {
      "cell_type": "markdown",
      "metadata": {
        "id": "hqjAI7Uiz-ah"
      },
      "source": [
        "### Explore the dataset"
      ]
    },
    {
      "cell_type": "code",
      "source": [
        "path = \"/content/drive/MyDrive/Colab/airbnb/munich/language/train.pickle\"\n",
        "data = pd.read_pickle(path)\n",
        "input_ids, attention_masks, labels = data['desc_input_ids'], data['desc_attention_masks'], data['log_price']"
      ],
      "metadata": {
        "id": "GSXV1gD2EbkH"
      },
      "execution_count": 5,
      "outputs": []
    },
    {
      "cell_type": "code",
      "execution_count": 6,
      "metadata": {
        "id": "zE3O85czz6-y",
        "outputId": "3f0af9a6-206e-4871-b1ec-b1a54d6c616d",
        "colab": {
          "base_uri": "https://localhost:8080/",
          "height": 265
        }
      },
      "outputs": [
        {
          "output_type": "display_data",
          "data": {
            "image/png": "[encoded data removed]",
            "text/plain": [
              "<Figure size 432x288 with 1 Axes>"
            ]
          },
          "metadata": {
            "needs_background": "light"
          }
        }
      ],
      "source": [
        "# TODO Visualize the length of the reviews in your dataset\n",
        "def count_words(string):\n",
        "    return len(string.split())\n",
        "\n",
        "review_lengths = np.vectorize(count_words)(data['description_en'])\n",
        "\n",
        "a = plt.hist(review_lengths, bins = 100)\n",
        "plt.show()"
      ]
    },
    {
      "cell_type": "code",
      "execution_count": 7,
      "metadata": {
        "id": "eZTmDwOueqEN",
        "colab": {
          "base_uri": "https://localhost:8080/",
          "height": 162,
          "referenced_widgets": [
            "58f5ce73f08d4c7c9f51c814a807ed1d",
            "6d79306bbc1e4170a36ac350ac54c4e8",
            "a89618921f9848c4b6d31ed09c549417",
            "05a90b0183fb47e7a045ea8229d5a98b",
            "55c80a88f7014c6681113d740a230e71",
            "4b2fc0174a734dc2867ccde51053f931",
            "756e1642291d422f8234e92323e0b2d4",
            "ee52769f06604a34a35902dc2813c56c",
            "4a31c75acbcb4c999d0a9f9843719ab4",
            "5f840b72cab14b9aa95438640930c3cb",
            "e1f7a6c01b904df8ae7c1e59735b3995",
            "5cc31e5ff3d1430caed52bb6f9fd7d98",
            "ab474fc9a61e4fa9a3b5b0bf5f1658f3",
            "c937fd4e2c064d34bd693e7e8a54949c",
            "573ed15e91a049e1a1a6a5e5e78e7c39",
            "d72034639e11473facd90d7734134493",
            "f2ef2e47ff4d48a6a5f588222f6fe374",
            "0624cc7bdddd478eb51849aea032237f",
            "8a5d1767edd64afa9876a840b96b144f",
            "4b8c0c7d5ba34138bd87ddf8ab0001e0",
            "4090c186eb4c42f4ba2656d084d4d028",
            "58c79072353f48a3b2fe2cb7100e7db9",
            "6635adae5ee54ee9aa4589a173b9aa10",
            "f683364225664941b1cabd9d7b600189",
            "d0f189a58a7c4eb29bc71a6371845682",
            "64ba4dcd6b024a418cac7c769ef65e94",
            "2ca71d336b39401482044a9978a80a47",
            "957a61f931cf410399d68f1b909c948d",
            "7df86bfa7e784cf0a69fbe69d62df363",
            "cac937adbbd04778893b23fe01003e70",
            "f6e4212cd4074040b36b62ed8f1018f9",
            "68f2cdf6741d435d96eee7d11c3b889c",
            "9df2f5942c344bd9b092490c848e29fc",
            "6bd7722fd14b4a9da015756e761770d7",
            "1736e11600a74cd4a9fa76473f4510b6",
            "c0a42a6010ec4b2d80ccf58bda53e3bb",
            "db2b3991d0154a8fb6a2032bf07a14ef",
            "e692e983f6ba4a06b66e1297a2181cc4",
            "8faf1a103ee64b5b919189b463612baa",
            "b0ce348f75aa4cf69f5713378cf5ab96",
            "e7651097b7e64b27909155675a818a5c",
            "787c7b9841164042af401a5302b5d0e5",
            "00152b91afdf43bca71940190d7f98f3",
            "46b3476ffddb48538412792e30a696cb"
          ]
        },
        "outputId": "42bd6253-4ab8-4950-dfcc-2f91ec7091ff"
      },
      "outputs": [
        {
          "output_type": "stream",
          "name": "stdout",
          "text": [
            "TensorFlow 1.x selected.\n"
          ]
        },
        {
          "output_type": "display_data",
          "data": {
            "application/vnd.jupyter.widget-view+json": {
              "model_id": "58f5ce73f08d4c7c9f51c814a807ed1d",
              "version_minor": 0,
              "version_major": 2
            },
            "text/plain": [
              "Downloading:   0%|          | 0.00/28.0 [00:00<?, ?B/s]"
            ]
          },
          "metadata": {}
        },
        {
          "output_type": "display_data",
          "data": {
            "application/vnd.jupyter.widget-view+json": {
              "model_id": "5cc31e5ff3d1430caed52bb6f9fd7d98",
              "version_minor": 0,
              "version_major": 2
            },
            "text/plain": [
              "Downloading:   0%|          | 0.00/226k [00:00<?, ?B/s]"
            ]
          },
          "metadata": {}
        },
        {
          "output_type": "display_data",
          "data": {
            "application/vnd.jupyter.widget-view+json": {
              "model_id": "6635adae5ee54ee9aa4589a173b9aa10",
              "version_minor": 0,
              "version_major": 2
            },
            "text/plain": [
              "Downloading:   0%|          | 0.00/455k [00:00<?, ?B/s]"
            ]
          },
          "metadata": {}
        },
        {
          "output_type": "display_data",
          "data": {
            "application/vnd.jupyter.widget-view+json": {
              "model_id": "6bd7722fd14b4a9da015756e761770d7",
              "version_minor": 0,
              "version_major": 2
            },
            "text/plain": [
              "Downloading:   0%|          | 0.00/570 [00:00<?, ?B/s]"
            ]
          },
          "metadata": {}
        }
      ],
      "source": [
        "%tensorflow_version 1.x\n",
        "from transformers import BertTokenizer\n",
        "tokenizer = BertTokenizer.from_pretrained('bert-base-uncased', do_lower_case=True)"
      ]
    },
    {
      "cell_type": "code",
      "source": [
        "ids = np.stack(input_ids)\n",
        "labels = np.stack(labels)\n",
        "masks = np.stack(attention_masks)"
      ],
      "metadata": {
        "id": "hDA_vLJFqnK5"
      },
      "execution_count": 8,
      "outputs": []
    },
    {
      "cell_type": "markdown",
      "metadata": {
        "id": "NaSTkvQca3or"
      },
      "source": [
        "## Create DataLoader\n",
        "\n",
        "You can use `TensorDataset`, `torch.from_numpy(...)`, and `DataLoader(...)` to create Dataloaders for your dataset holding features, labels and attention masks. Make sure to shuffle your training data. Is shuffling required for the validation and test data?"
      ]
    },
    {
      "cell_type": "code",
      "execution_count": 9,
      "metadata": {
        "id": "7my-m1Zt75Zp"
      },
      "outputs": [],
      "source": [
        "# TODO\n",
        "# create dataloaders\n",
        "from torch.utils.data import TensorDataset, DataLoader\n",
        "dataset = TensorDataset(torch.from_numpy(ids), torch.from_numpy(labels), torch.from_numpy(masks))\n",
        "dataloader = DataLoader(dataset, shuffle=False, num_workers=2, batch_size=128)"
      ]
    },
    {
      "cell_type": "markdown",
      "source": [
        "# Generate Embeddings"
      ],
      "metadata": {
        "id": "YdbXhU-Ku3Ek"
      }
    },
    {
      "cell_type": "code",
      "source": [
        "# load model\n",
        "sys.path.append(\"/content/airbnb_price/models\")\n",
        "from language_model import LanguageBertNet\n",
        "model = LanguageBertNet(fine_tune=True, with_attention_masks=True)\n",
        "path = \"/content/drive/MyDrive/Colab/airbnb/data/logs/description/best/checkpoints/checkpoint.pt\"\n",
        "model.load_state_dict(torch.load(path))\n",
        "model = model.to(device)"
      ],
      "metadata": {
        "id": "Jfu4D9PzvBDA",
        "colab": {
          "base_uri": "https://localhost:8080/",
          "height": 121,
          "referenced_widgets": [
            "452a00de639743fc8fd16cc2dba4af25",
            "955ed69e940c4fd1a7794b70d2d2de3f",
            "6d1605b31f3b45a083a46fb2db3fc6a4",
            "37910c7c204b4254b04e80af62800817",
            "f39630ecb60646cfb535e60c79f6a31c",
            "4b1e60120bf349a9b9a305cc8cf9d3c7",
            "e8d6de70ca3b43648183dcce4b795fb8",
            "dc1c0a0b77c24025be8bb5ae0e1d3144",
            "ea58659ad3c946868e996bce41852a9e",
            "6f0a47bacd3a43ecb0120171202927bc",
            "94edf4d046e240b18aeae185ccb2adcb"
          ]
        },
        "outputId": "611e6569-8103-4fb0-8edb-2f1891578b99"
      },
      "execution_count": 10,
      "outputs": [
        {
          "output_type": "display_data",
          "data": {
            "application/vnd.jupyter.widget-view+json": {
              "model_id": "452a00de639743fc8fd16cc2dba4af25",
              "version_minor": 0,
              "version_major": 2
            },
            "text/plain": [
              "Downloading:   0%|          | 0.00/420M [00:00<?, ?B/s]"
            ]
          },
          "metadata": {}
        },
        {
          "output_type": "stream",
          "name": "stderr",
          "text": [
            "Some weights of the model checkpoint at bert-base-uncased were not used when initializing BertModel: ['cls.predictions.bias', 'cls.predictions.transform.dense.weight', 'cls.seq_relationship.bias', 'cls.seq_relationship.weight', 'cls.predictions.transform.LayerNorm.bias', 'cls.predictions.transform.dense.bias', 'cls.predictions.decoder.weight', 'cls.predictions.transform.LayerNorm.weight']\n",
            "- This IS expected if you are initializing BertModel from the checkpoint of a model trained on another task or with another architecture (e.g. initializing a BertForSequenceClassification model from a BertForPreTraining model).\n",
            "- This IS NOT expected if you are initializing BertModel from the checkpoint of a model that you expect to be exactly identical (initializing a BertForSequenceClassification model from a BertForSequenceClassification model).\n"
          ]
        }
      ]
    },
    {
      "cell_type": "code",
      "source": [
        "# generate embeddings\n",
        "from tqdm import tqdm\n",
        "embeddings = torch.empty((len(dataset), 100))\n",
        "model.eval()\n",
        "start = 0\n",
        "indices = []\n",
        "with torch.no_grad():\n",
        "    for ids, index, masks in tqdm(dataloader):\n",
        "        ids, masks = ids.to(device), masks.to(device)\n",
        "        embedding = model.genembeddings(ids, masks)\n",
        "        embedding = embedding.detach().cpu()\n",
        "        stop = start + len(ids)\n",
        "        embeddings[start:stop] = embedding\n",
        "        start = stop\n",
        "        indices = indices + list(index.numpy())"
      ],
      "metadata": {
        "id": "ppP7iRcpvA81",
        "colab": {
          "base_uri": "https://localhost:8080/"
        },
        "outputId": "bcd205f0-ee44-4fb4-f2ae-35ddadb2694a"
      },
      "execution_count": 11,
      "outputs": [
        {
          "output_type": "stream",
          "name": "stderr",
          "text": [
            "100%|██████████| 8/8 [00:07<00:00,  1.01it/s]\n"
          ]
        }
      ]
    },
    {
      "cell_type": "code",
      "source": [
        "# save embeddings in pandas dataframe\n",
        "embeddings[embeddings < 0] = 0\n",
        "df = pd.Series(embeddings.numpy().tolist(), name=\"descriptions\", index=indices)\n",
        "path = \"/content/drive/MyDrive/Colab/airbnb/munich/embeddings/descriptions.pickle\"\n",
        "df.to_pickle(path)"
      ],
      "metadata": {
        "id": "D3QyroDQvA0S"
      },
      "execution_count": 12,
      "outputs": []
    },
    {
      "cell_type": "code",
      "source": [
        "price = data[\"log_price\"].to_numpy()\n",
        "dataset = TensorDataset(torch.from_numpy(np.apply_along_axis(np.concatenate, 1, np.array(df)[:, np.newaxis])),\n",
        "                        torch.tensor(price))\n",
        "dataloader = DataLoader(dataset, batch_size=128)"
      ],
      "metadata": {
        "id": "iLC9bzLMvoG2"
      },
      "execution_count": 13,
      "outputs": []
    },
    {
      "cell_type": "code",
      "source": [
        "# show correlation\n",
        "from scipy.stats.stats import pearsonr\n",
        "import matplotlib.pyplot as plt\n",
        "from tqdm import tqdm\n",
        "import seaborn as sns\n",
        "\n",
        "ys = []\n",
        "ypreds = []\n",
        "\n",
        "with torch.no_grad():\n",
        "    model = model.eval()\n",
        "\n",
        "    for embeddings, labels in tqdm(dataloader):\n",
        "        embeddings = embeddings.to(device).float()\n",
        "        y_pred = model.prediction_from_mean(embeddings)\n",
        "        y_pred = list(y_pred.detach().cpu().numpy())\n",
        "        ypreds = ypreds + y_pred\n",
        "\n",
        "        ys = ys + list(labels)\n",
        "\n",
        "ys = np.array(ys)\n",
        "ypreds = np.array(ypreds)\n",
        "m = np.mean(ypreds)\n",
        "from sklearn import linear_model\n",
        "reg = linear_model.LinearRegression()\n",
        "reg.fit(ypreds, ys)\n",
        "ypreds = ypreds * reg.coef_ + reg.intercept_ \n",
        "plt.figure(figsize=(5,4))\n",
        "sns.set(style=\"ticks\")\n",
        "plt.scatter(ys, ypreds, c='#1f77b4')\n",
        "plt.ylabel(\"predicted log price\")\n",
        "plt.xlabel(\"log price\")\n",
        "plt.scatter(ys, ypreds)\n",
        "plt.savefig(str(\"/content/file0.svg\"), bbox_inches='tight', format=\"svg\", transparent=True)\n",
        "plt.show()\n",
        "print(pearsonr(ys, ypreds))\n",
        "\n",
        "\n",
        "from sklearn.metrics import mean_squared_error\n",
        "\n",
        "mse = mean_squared_error(ys, ypreds)\n",
        "print(\"The root mean squared error (MSE) on test set: {:.4f}\".format(np.sqrt(mse)))"
      ],
      "metadata": {
        "colab": {
          "base_uri": "https://localhost:8080/",
          "height": 337
        },
        "id": "ydX98ddXvXlB",
        "outputId": "4d075f2a-7d50-4afb-93a9-9fd45a7b7281"
      },
      "execution_count": 43,
      "outputs": [
        {
          "output_type": "stream",
          "name": "stderr",
          "text": [
            "100%|██████████| 8/8 [00:00<00:00, 160.87it/s]\n"
          ]
        },
        {
          "output_type": "display_data",
          "data": {
            "image/png": "[encoded data removed]",
            "text/plain": [
              "<Figure size 360x288 with 1 Axes>"
            ]
          },
          "metadata": {}
        },
        {
          "output_type": "stream",
          "name": "stdout",
          "text": [
            "(array([0.3873213296085121], dtype=object), 4.552930645086156e-37)\n",
            "The root mean squared error (MSE) on test set: 0.6427\n"
          ]
        }
      ]
    },
    {
      "cell_type": "code",
      "source": [
        "print(reg.intercept_, reg.coef_)"
      ],
      "metadata": {
        "colab": {
          "base_uri": "https://localhost:8080/"
        },
        "id": "KWa7HrwWwJn7",
        "outputId": "22630ea1-63ef-4478-deac-8c56bed76d19"
      },
      "execution_count": 20,
      "outputs": [
        {
          "output_type": "stream",
          "name": "stdout",
          "text": [
            "1.9549041 [0.60061556]\n"
          ]
        }
      ]
    },
    {
      "cell_type": "code",
      "source": [
        "ypreds"
      ],
      "metadata": {
        "colab": {
          "base_uri": "https://localhost:8080/"
        },
        "id": "_rfKpl7J1TWH",
        "outputId": "93f8c99f-4037-4377-b30f-8bc73bfb29e1"
      },
      "execution_count": 39,
      "outputs": [
        {
          "output_type": "execute_result",
          "data": {
            "text/plain": [
              "array([4.5804024, 4.280608 , 3.9751205, 4.1153846, 4.0540695, 4.032804 ,\n",
              "       4.4531517, 4.541872 , 3.7398486, 4.6289344, 3.723716 , 4.4198174,\n",
              "       3.3659801, 4.050956 , 4.026059 , 3.5794399, 4.7988114, 3.7957618,\n",
              "       4.593045 , 4.1128206, 4.446609 , 4.097125 , 4.1044974, 4.0684776,\n",
              "       4.6851373, 4.1017256, 4.500895 , 3.7181482, 3.8992386, 3.9281595,\n",
              "       4.233194 , 4.067055 , 3.9578018, 4.9072924, 3.9778867, 4.3473663,\n",
              "       4.1392536, 3.8600585, 4.524637 , 3.8814673, 3.5007641, 3.7570245,\n",
              "       3.6279044, 3.7116144, 4.373026 , 3.435082 , 3.6618452, 3.4164517,\n",
              "       3.59459  , 3.3173811, 3.682251 , 3.867712 , 4.297894 , 4.5640564,\n",
              "       4.237868 , 4.5853844, 4.053966 , 5.016529 , 3.260788 , 3.3990746,\n",
              "       5.088754 , 3.8739285, 3.3492856, 3.9555511, 3.87944  , 3.0665598,\n",
              "       3.794102 , 3.5890799, 3.0122097, 4.2298903, 3.3971171, 4.702963 ,\n",
              "       3.5205777, 3.7803319, 4.5615897, 4.5261703, 4.238818 , 4.9027443,\n",
              "       4.6623344, 4.3378553, 4.1668434, 3.8016553, 4.600809 , 4.0945263,\n",
              "       4.7045393, 3.5193222, 4.205388 , 4.3356347, 4.181098 , 4.309374 ,\n",
              "       4.776939 , 4.6174335, 4.9879413, 3.577275 , 3.592973 , 4.3766284,\n",
              "       4.660816 , 4.455381 , 4.6463237, 3.4339128, 3.9652233, 4.37695  ,\n",
              "       3.9736304, 3.5055633, 4.460215 , 3.5358884, 3.9870887, 3.3587132,\n",
              "       3.0008223, 4.501081 , 4.6498013, 4.52013  , 3.9315703, 3.922199 ,\n",
              "       3.859049 , 4.6363916, 4.3858447, 4.29148  , 4.110027 , 4.0261087,\n",
              "       3.543661 , 3.4793642, 3.1786025, 3.6246128, 4.1074224, 3.866343 ,\n",
              "       4.215053 , 4.2402086, 4.804424 , 3.1364746, 3.8528407, 4.0198884,\n",
              "       3.7965674, 4.4156365, 3.8336787, 3.5134656, 3.8866742, 3.742042 ,\n",
              "       3.525016 , 4.4332213, 4.960749 , 4.3717837, 4.4515347, 5.22989  ,\n",
              "       3.6184778, 4.043616 , 3.7357655, 4.105068 , 3.9457588, 4.296849 ,\n",
              "       4.3457813, 3.749115 , 3.1121519, 4.621168 , 4.216062 , 3.8027723,\n",
              "       4.1955075, 4.3414392, 4.7001767, 3.9286091, 3.8049333, 4.519803 ,\n",
              "       3.8323286, 4.1973686, 4.7461815, 3.3251278, 3.900858 , 3.305717 ,\n",
              "       4.34753  , 3.8649852, 4.3659225, 4.3723307, 4.5164585, 4.1577444,\n",
              "       3.979836 , 3.7853973, 3.5579305, 4.2152686, 4.7579236, 4.0494375,\n",
              "       3.56373  , 4.1424026, 4.3825393, 3.6787488, 3.1318614, 3.4996579,\n",
              "       4.3633323, 4.1908846, 4.157315 , 4.0930567, 4.41782  , 4.299499 ,\n",
              "       4.9951572, 3.7460601, 4.8146644, 3.364237 , 4.1745477, 5.1027966,\n",
              "       3.830448 , 4.7728715, 3.3291805, 3.9941425, 4.7777953, 4.075618 ,\n",
              "       4.431019 , 3.9766026, 4.5688553, 4.40767  , 4.941588 , 4.3249373,\n",
              "       4.096836 , 4.7425036, 3.7689893, 3.64883  , 3.6580057, 4.4538374,\n",
              "       4.8557763, 4.500511 , 3.8459527, 4.4721437, 3.79927  , 3.5709863,\n",
              "       4.8965526, 4.3886313, 4.6234508, 4.2385383, 4.4063344, 4.216533 ,\n",
              "       4.1275816, 4.4833627, 3.860976 , 3.9562092, 4.11801  , 3.4904873,\n",
              "       4.0331783, 3.5883703, 4.2992277, 3.8938844, 3.5073934, 4.194925 ,\n",
              "       4.0162406, 3.2973304, 4.921836 , 3.8723576, 4.2924175, 3.8366494,\n",
              "       4.1689973, 4.058484 , 3.8246894, 4.5681133, 4.384058 , 3.430029 ,\n",
              "       3.6319206, 4.3703527, 4.0712605, 3.964261 , 3.7138824, 4.7180004,\n",
              "       4.5182905, 3.9315994, 4.1070447, 4.2283516, 3.5507376, 4.261504 ,\n",
              "       4.483019 , 3.8318172, 4.6400757, 4.1908255, 3.8152452, 4.899695 ,\n",
              "       5.0011444, 3.6771636, 4.2151036, 4.055556 , 4.2401304, 3.5039878,\n",
              "       4.170042 , 4.272702 , 3.851103 , 4.0950403, 4.337602 , 3.525141 ,\n",
              "       3.79496  , 4.383132 , 3.9528785, 3.9417634, 4.132393 , 3.3056455,\n",
              "       4.6648436, 4.1968865, 3.5823393, 4.184876 , 3.608088 , 4.2381945,\n",
              "       3.835425 , 4.2861114, 3.3667374, 4.337562 , 4.3436046, 4.2888794,\n",
              "       4.673331 , 4.337708 , 4.665356 , 3.8191504, 4.5214605, 3.9755187,\n",
              "       4.9763026, 4.1769524, 4.530649 , 4.5481024, 4.1776667, 4.117091 ,\n",
              "       4.667957 , 4.4407067, 3.6052384, 3.8010316, 4.298494 , 3.9701905,\n",
              "       3.9826317, 4.696632 , 4.4079204, 3.8528407, 4.077735 , 3.608124 ,\n",
              "       4.5617704, 3.610158 , 4.3118567, 4.61402  , 4.3617187, 4.589571 ,\n",
              "       4.0276833, 3.6419544, 4.2518096, 3.3965588, 3.9890895, 4.1211476,\n",
              "       4.829403 , 3.522991 , 4.6847863, 4.302768 , 4.009616 , 3.5662084,\n",
              "       4.238678 , 4.2627215, 4.468697 , 4.202292 , 3.9567566, 4.1020813,\n",
              "       5.1566486, 4.4528127, 4.0556703, 4.143758 , 4.139106 , 4.2808733,\n",
              "       3.4673347, 3.223996 , 3.773072 , 3.4925327, 3.680999 , 4.2547565,\n",
              "       3.6027126, 4.6754613, 4.3239155, 4.1716757, 4.560911 , 3.3633924,\n",
              "       4.1897182, 4.5214605, 4.481342 , 4.103021 , 3.1960108, 3.9251454,\n",
              "       3.3348815, 3.953071 , 3.7150948, 4.240213 , 3.6112344, 4.118325 ,\n",
              "       3.2387352, 3.6060598, 4.0260563, 3.751337 , 3.6545238, 4.6380677,\n",
              "       3.4746146, 4.138611 , 3.9638042, 3.178192 , 4.174855 , 3.5055912,\n",
              "       3.8094437, 4.200892 , 4.2850747, 3.6656504, 4.620285 , 4.8889594,\n",
              "       3.7701   , 4.61483  , 4.6202393, 4.5636396, 4.2057395, 3.7668467,\n",
              "       3.8424773, 4.786726 , 4.84144  , 4.043939 , 4.5848083, 4.100277 ,\n",
              "       3.8723745, 4.5627427, 4.62516  , 4.520292 , 4.3956094, 4.364717 ,\n",
              "       4.170811 , 4.4190874, 3.5722563, 4.511423 , 3.767007 , 4.6961975,\n",
              "       4.2855597, 3.4579012, 4.6191053, 3.6088052, 3.7237825, 4.648283 ,\n",
              "       4.044198 , 4.4575524, 4.5730486, 4.7459702, 4.111604 , 4.5910916,\n",
              "       4.52384  , 4.2595267, 4.575371 , 4.259211 , 3.6469848, 4.0996127,\n",
              "       4.6866426, 4.0488505, 3.3695228, 4.8637257, 4.432801 , 3.7965753,\n",
              "       3.8782198, 3.5064325, 3.898509 , 4.7303295, 3.582746 , 3.5271816,\n",
              "       4.1639757, 4.540845 , 4.7624545, 3.8996394, 4.633272 , 4.161652 ,\n",
              "       4.8637257, 3.6816294, 3.6816294, 3.6287203, 4.2546744, 4.2390065,\n",
              "       4.98955  , 3.5072076, 3.9893498, 3.3602169, 4.112949 , 3.9660435,\n",
              "       3.7138824, 3.4863708, 4.4203   , 3.5531926, 4.392218 , 3.7138824,\n",
              "       4.2138667, 4.103315 , 3.1792727, 4.4948025, 3.4082165, 4.1226916,\n",
              "       4.411917 , 3.9341238, 4.3507   , 4.1347604, 4.0461497, 4.1858497,\n",
              "       4.3583136, 4.472949 , 4.2036104, 4.569309 , 4.781697 , 4.528878 ,\n",
              "       3.8870506, 3.83626  , 5.244909 , 5.2526093, 4.7147164, 3.8946137,\n",
              "       4.4833884, 4.2922764, 4.40787  , 3.699289 , 4.133878 , 4.5761514,\n",
              "       4.402397 , 4.565177 , 4.534687 , 4.0541463, 4.2962756, 4.2962756,\n",
              "       4.0281415, 3.6501036, 4.747052 , 5.0860744, 4.5865054, 4.2476335,\n",
              "       4.744397 , 4.0342584, 4.8343043, 4.548663 , 3.9654984, 4.164475 ,\n",
              "       4.410664 , 4.494458 , 4.2785454, 4.0579104, 3.382334 , 3.8240318,\n",
              "       5.233312 , 4.4484935, 4.8730373, 4.5707145, 4.2136984, 3.69359  ,\n",
              "       3.5115545, 3.2262678, 4.658679 , 3.4430692, 4.2852044, 4.399529 ,\n",
              "       4.2885084, 4.8664207, 3.7138824, 4.657994 , 4.6329093, 3.7138824,\n",
              "       3.5140777, 4.293906 , 4.335364 , 3.8130913, 4.005191 , 4.0453653,\n",
              "       4.60595  , 4.694037 , 4.411293 , 3.7138824, 4.3956494, 4.581336 ,\n",
              "       3.889375 , 4.519318 , 3.8527105, 4.9986   , 4.669799 , 4.5075884,\n",
              "       3.97445  , 4.189354 , 4.159688 , 3.9701672, 4.25622  , 4.4079866,\n",
              "       3.1644542, 4.250912 , 4.0366983, 3.7588096, 4.361939 , 4.516407 ,\n",
              "       4.03059  , 3.7879965, 3.2496316, 3.936864 , 3.7660093, 4.4105163,\n",
              "       4.0870733, 3.3270843, 3.7924294, 4.550171 , 4.105058 , 4.459999 ,\n",
              "       4.159772 , 3.7885299, 3.3149984, 3.4932683, 3.9393053, 3.8267865,\n",
              "       3.8954272, 4.7007637, 3.5926788, 4.228939 , 3.1968358, 3.9902344,\n",
              "       4.0235105, 3.4872954, 4.3739605, 3.7042868, 3.8604777, 3.7998807,\n",
              "       3.4058828, 4.064213 , 3.7138824, 4.431304 , 4.5241003, 3.7735286,\n",
              "       3.521217 , 3.9546843, 3.988904 , 3.630885 , 4.107684 , 3.8709447,\n",
              "       3.8820844, 3.8675263, 3.3970153, 4.175102 , 3.1544616, 4.456044 ,\n",
              "       3.557293 , 4.3256836, 4.7422686, 4.846628 , 4.321057 , 3.7281804,\n",
              "       4.055314 , 3.7138824, 4.955697 , 3.368599 , 3.752824 , 4.186125 ,\n",
              "       3.9457178, 3.6971836, 3.2710073, 3.7138824, 3.7848613, 3.624414 ,\n",
              "       4.7792797, 3.4494927, 3.993929 , 4.4933095, 3.4574568, 3.6674986,\n",
              "       4.399587 , 4.454587 , 3.7138824, 4.2371264, 3.5137825, 3.920369 ,\n",
              "       4.8128924, 4.208861 , 4.705755 , 3.9086752, 4.0348635, 3.8980243,\n",
              "       4.4417176, 4.289169 , 4.3451285, 4.4497056, 4.4095993, 4.969429 ,\n",
              "       4.65416  , 3.7138824, 4.092943 , 4.356046 , 4.1265903, 4.422303 ,\n",
              "       3.9850345, 3.621061 , 4.1917334, 4.581773 , 5.096159 , 5.096159 ,\n",
              "       4.169287 , 3.977635 , 3.8842602, 4.001824 , 4.4348874, 4.9482503,\n",
              "       3.638988 , 4.546504 , 4.3628116, 4.5908923, 3.9891825, 4.1243086,\n",
              "       3.784954 , 4.248874 , 4.092768 , 4.503183 , 3.889235 , 3.7138824,\n",
              "       3.648033 , 4.6218524, 3.7138824, 5.158963 , 4.0210505, 4.6126986,\n",
              "       4.24676  , 3.9531531, 4.737429 , 3.969409 , 4.016757 , 4.3231783,\n",
              "       4.1146693, 4.341978 , 4.5745583, 4.3953543, 4.68379  , 4.467065 ,\n",
              "       4.413724 , 3.9910526, 3.7723567, 3.7138824, 4.416591 , 4.171875 ,\n",
              "       4.4131465, 3.4853234, 3.0245845, 3.8993382, 5.2499356, 4.0801287,\n",
              "       4.5177674, 4.5808687, 3.9554472, 4.1092978, 4.2449923, 4.340807 ,\n",
              "       4.537234 , 3.8385592, 3.6496387, 4.353504 , 3.975966 , 3.8901446,\n",
              "       4.1262546, 3.969366 , 4.66807  , 3.5805233, 3.3697026, 3.9294899,\n",
              "       4.21005  , 4.1265903, 4.2126217, 4.5463   , 4.5005655, 3.5625653,\n",
              "       3.7671957, 4.6232185, 4.536993 , 3.9853668, 4.247854 , 4.4619384,\n",
              "       4.308878 , 4.414918 , 4.0118337, 4.0760436, 5.041427 , 4.1887417,\n",
              "       4.5440717, 4.455877 , 4.4590526, 4.3389797, 3.8647585, 4.5720444,\n",
              "       4.2733755, 3.8206468, 4.3049316, 3.561248 , 4.564803 , 4.4085197,\n",
              "       4.507122 , 4.560043 , 3.167548 , 4.4746623, 4.507122 , 4.507122 ,\n",
              "       3.7138824, 4.7056746, 3.8459492, 4.8227973, 4.919844 , 3.1106997,\n",
              "       4.507122 , 4.320059 , 3.7138824, 4.507122 , 3.3957686, 4.1054835,\n",
              "       4.782756 , 4.039088 , 4.074338 , 4.232395 , 4.2817283, 4.8660984,\n",
              "       3.7138824, 3.7138824, 3.4390972, 4.2269135, 4.1104264, 4.1556077,\n",
              "       3.951964 , 4.4645886, 4.5184593, 3.7138824, 4.141737 , 4.1181293,\n",
              "       4.298983 , 4.284989 , 4.493779 , 4.300828 , 4.660308 , 4.389849 ,\n",
              "       3.0458894, 4.636013 , 3.5315561, 4.5028925, 4.9277835, 4.6191587,\n",
              "       3.7138824, 3.2933915, 4.2059984, 3.7138824, 4.671149 , 4.4762173,\n",
              "       4.6535935, 3.7138824, 4.2173057, 4.816646 , 4.3992815, 4.2952833,\n",
              "       4.4942346, 3.8148353, 3.374414 , 3.7138824, 4.427175 , 4.1812806,\n",
              "       4.5885544, 3.931673 , 4.036161 , 4.036161 , 4.2997866, 5.0543585,\n",
              "       4.70358  , 4.1071496, 4.582306 , 4.525546 , 5.408632 , 3.3482943,\n",
              "       4.703992 , 4.7072387, 4.262469 , 4.0086446, 4.9000106, 4.1480894,\n",
              "       4.3761563, 4.22027  , 4.2754617, 4.517627 , 4.3238597, 3.7749407,\n",
              "       4.1212068, 3.7461295, 3.384019 , 3.7138824, 4.191222 , 3.826409 ,\n",
              "       4.4271984, 4.4157815, 5.380378 , 5.111557 , 4.356788 , 5.2354555,\n",
              "       3.3782103, 4.41556  , 4.818661 , 4.1235228, 4.1812143, 4.0321527,\n",
              "       4.441382 , 4.091623 , 4.1476073, 4.2451224, 3.348292 , 4.114888 ,\n",
              "       4.1105413, 3.9139116, 4.1204643, 4.1555576, 3.825518 , 3.8509736,\n",
              "       3.8509505, 4.2803235, 4.100696 , 3.7567675, 3.6971536, 3.0193055,\n",
              "       3.8933408, 3.988224 , 3.2774534, 4.495887 , 4.2046056, 3.7138824,\n",
              "       4.515885 , 4.047268 , 3.928329 , 3.787929 , 4.2248163, 4.2731366,\n",
              "       4.318449 , 3.7138824, 4.5542507, 3.510922 , 4.5686593, 4.1912923,\n",
              "       4.2261386, 4.621516 , 4.027954 , 3.2179356, 4.492569 , 3.3097792,\n",
              "       4.365119 , 4.6379685, 4.989077 , 4.6125255, 5.014347 , 4.0152783,\n",
              "       3.304439 , 4.3430767, 4.901462 , 4.7400365, 4.242341 , 4.09744  ,\n",
              "       4.0946608, 3.8518176, 3.4993365, 5.0460954, 3.4655466, 3.4811933,\n",
              "       4.1159725, 3.3237996, 3.4786046, 4.1219993, 4.5608783, 3.6110842,\n",
              "       4.3862295, 3.892419 , 3.9890857, 4.3839316, 3.8762085, 3.5724792,\n",
              "       3.9887471, 3.2886078, 4.1935287, 4.0904627, 3.7138824, 3.44414  ,\n",
              "       3.9232264, 4.0983725, 4.1960793, 3.7138824, 4.3881035, 3.8966613,\n",
              "       3.6870582, 4.355592 , 3.972209 , 5.196996 , 5.147819 , 3.8395844,\n",
              "       4.7394447, 4.7394447, 4.711347 , 4.711347 , 4.711347 , 4.756    ,\n",
              "       4.1069913, 3.9665437, 3.7370195, 4.026651 , 3.5496922, 4.4491568,\n",
              "       3.8770344, 4.366364 , 4.2951546, 4.339086 , 4.844044 , 4.372764 ,\n",
              "       4.567742 , 4.073973 , 3.983615 , 3.7892683, 3.7138824, 4.214989 ,\n",
              "       4.469026 , 4.5887303], dtype=float32)"
            ]
          },
          "metadata": {},
          "execution_count": 39
        }
      ]
    }
  ],
  "metadata": {
    "accelerator": "GPU",
    "colab": {
      "collapsed_sections": [],
      "name": "Model_descriptions.ipynb",
      "provenance": [],
      "include_colab_link": true
    },
    "kernelspec": {
      "display_name": "Python 3",
      "language": "python",
      "name": "python3"
    },
    "language_info": {
      "codemirror_mode": {
        "name": "ipython",
        "version": 3
      },
      "file_extension": ".py",
      "mimetype": "text/x-python",
      "name": "python",
      "nbconvert_exporter": "python",
      "pygments_lexer": "ipython3",
      "version": "3.8.5"
    },
    "widgets": {
      "application/vnd.jupyter.widget-state+json": {
        "58f5ce73f08d4c7c9f51c814a807ed1d": {
          "model_module": "@jupyter-widgets/controls",
          "model_name": "HBoxModel",
          "model_module_version": "1.5.0",
          "state": {
            "_view_name": "HBoxView",
            "_dom_classes": [],
            "_model_name": "HBoxModel",
            "_view_module": "@jupyter-widgets/controls",
            "_model_module_version": "1.5.0",
            "_view_count": null,
            "_view_module_version": "1.5.0",
            "box_style": "",
            "layout": "IPY_MODEL_6d79306bbc1e4170a36ac350ac54c4e8",
            "_model_module": "@jupyter-widgets/controls",
            "children": [
              "IPY_MODEL_a89618921f9848c4b6d31ed09c549417",
              "IPY_MODEL_05a90b0183fb47e7a045ea8229d5a98b",
              "IPY_MODEL_55c80a88f7014c6681113d740a230e71"
            ]
          }
        },
        "6d79306bbc1e4170a36ac350ac54c4e8": {
          "model_module": "@jupyter-widgets/base",
          "model_name": "LayoutModel",
          "model_module_version": "1.2.0",
          "state": {
            "_view_name": "LayoutView",
            "grid_template_rows": null,
            "right": null,
            "justify_content": null,
            "_view_module": "@jupyter-widgets/base",
            "overflow": null,
            "_model_module_version": "1.2.0",
            "_view_count": null,
            "flex_flow": null,
            "width": null,
            "min_width": null,
            "border": null,
            "align_items": null,
            "bottom": null,
            "_model_module": "@jupyter-widgets/base",
            "top": null,
            "grid_column": null,
            "overflow_y": null,
            "overflow_x": null,
            "grid_auto_flow": null,
            "grid_area": null,
            "grid_template_columns": null,
            "flex": null,
            "_model_name": "LayoutModel",
            "justify_items": null,
            "grid_row": null,
            "max_height": null,
            "align_content": null,
            "visibility": null,
            "align_self": null,
            "height": null,
            "min_height": null,
            "padding": null,
            "grid_auto_rows": null,
            "grid_gap": null,
            "max_width": null,
            "order": null,
            "_view_module_version": "1.2.0",
            "grid_template_areas": null,
            "object_position": null,
            "object_fit": null,
            "grid_auto_columns": null,
            "margin": null,
            "display": null,
            "left": null
          }
        },
        "a89618921f9848c4b6d31ed09c549417": {
          "model_module": "@jupyter-widgets/controls",
          "model_name": "HTMLModel",
          "model_module_version": "1.5.0",
          "state": {
            "_view_name": "HTMLView",
            "style": "IPY_MODEL_4b2fc0174a734dc2867ccde51053f931",
            "_dom_classes": [],
            "description": "",
            "_model_name": "HTMLModel",
            "placeholder": "​",
            "_view_module": "@jupyter-widgets/controls",
            "_model_module_version": "1.5.0",
            "value": "Downloading: 100%",
            "_view_count": null,
            "_view_module_version": "1.5.0",
            "description_tooltip": null,
            "_model_module": "@jupyter-widgets/controls",
            "layout": "IPY_MODEL_756e1642291d422f8234e92323e0b2d4"
          }
        },
        "05a90b0183fb47e7a045ea8229d5a98b": {
          "model_module": "@jupyter-widgets/controls",
          "model_name": "FloatProgressModel",
          "model_module_version": "1.5.0",
          "state": {
            "_view_name": "ProgressView",
            "style": "IPY_MODEL_ee52769f06604a34a35902dc2813c56c",
            "_dom_classes": [],
            "description": "",
            "_model_name": "FloatProgressModel",
            "bar_style": "success",
            "max": 28,
            "_view_module": "@jupyter-widgets/controls",
            "_model_module_version": "1.5.0",
            "value": 28,
            "_view_count": null,
            "_view_module_version": "1.5.0",
            "orientation": "horizontal",
            "min": 0,
            "description_tooltip": null,
            "_model_module": "@jupyter-widgets/controls",
            "layout": "IPY_MODEL_4a31c75acbcb4c999d0a9f9843719ab4"
          }
        },
        "55c80a88f7014c6681113d740a230e71": {
          "model_module": "@jupyter-widgets/controls",
          "model_name": "HTMLModel",
          "model_module_version": "1.5.0",
          "state": {
            "_view_name": "HTMLView",
            "style": "IPY_MODEL_5f840b72cab14b9aa95438640930c3cb",
            "_dom_classes": [],
            "description": "",
            "_model_name": "HTMLModel",
            "placeholder": "​",
            "_view_module": "@jupyter-widgets/controls",
            "_model_module_version": "1.5.0",
            "value": " 28.0/28.0 [00:00&lt;00:00, 770B/s]",
            "_view_count": null,
            "_view_module_version": "1.5.0",
            "description_tooltip": null,
            "_model_module": "@jupyter-widgets/controls",
            "layout": "IPY_MODEL_e1f7a6c01b904df8ae7c1e59735b3995"
          }
        },
        "4b2fc0174a734dc2867ccde51053f931": {
          "model_module": "@jupyter-widgets/controls",
          "model_name": "DescriptionStyleModel",
          "model_module_version": "1.5.0",
          "state": {
            "_view_name": "StyleView",
            "_model_name": "DescriptionStyleModel",
            "description_width": "",
            "_view_module": "@jupyter-widgets/base",
            "_model_module_version": "1.5.0",
            "_view_count": null,
            "_view_module_version": "1.2.0",
            "_model_module": "@jupyter-widgets/controls"
          }
        },
        "756e1642291d422f8234e92323e0b2d4": {
          "model_module": "@jupyter-widgets/base",
          "model_name": "LayoutModel",
          "model_module_version": "1.2.0",
          "state": {
            "_view_name": "LayoutView",
            "grid_template_rows": null,
            "right": null,
            "justify_content": null,
            "_view_module": "@jupyter-widgets/base",
            "overflow": null,
            "_model_module_version": "1.2.0",
            "_view_count": null,
            "flex_flow": null,
            "width": null,
            "min_width": null,
            "border": null,
            "align_items": null,
            "bottom": null,
            "_model_module": "@jupyter-widgets/base",
            "top": null,
            "grid_column": null,
            "overflow_y": null,
            "overflow_x": null,
            "grid_auto_flow": null,
            "grid_area": null,
            "grid_template_columns": null,
            "flex": null,
            "_model_name": "LayoutModel",
            "justify_items": null,
            "grid_row": null,
            "max_height": null,
            "align_content": null,
            "visibility": null,
            "align_self": null,
            "height": null,
            "min_height": null,
            "padding": null,
            "grid_auto_rows": null,
            "grid_gap": null,
            "max_width": null,
            "order": null,
            "_view_module_version": "1.2.0",
            "grid_template_areas": null,
            "object_position": null,
            "object_fit": null,
            "grid_auto_columns": null,
            "margin": null,
            "display": null,
            "left": null
          }
        },
        "ee52769f06604a34a35902dc2813c56c": {
          "model_module": "@jupyter-widgets/controls",
          "model_name": "ProgressStyleModel",
          "model_module_version": "1.5.0",
          "state": {
            "_view_name": "StyleView",
            "_model_name": "ProgressStyleModel",
            "description_width": "",
            "_view_module": "@jupyter-widgets/base",
            "_model_module_version": "1.5.0",
            "_view_count": null,
            "_view_module_version": "1.2.0",
            "bar_color": null,
            "_model_module": "@jupyter-widgets/controls"
          }
        },
        "4a31c75acbcb4c999d0a9f9843719ab4": {
          "model_module": "@jupyter-widgets/base",
          "model_name": "LayoutModel",
          "model_module_version": "1.2.0",
          "state": {
            "_view_name": "LayoutView",
            "grid_template_rows": null,
            "right": null,
            "justify_content": null,
            "_view_module": "@jupyter-widgets/base",
            "overflow": null,
            "_model_module_version": "1.2.0",
            "_view_count": null,
            "flex_flow": null,
            "width": null,
            "min_width": null,
            "border": null,
            "align_items": null,
            "bottom": null,
            "_model_module": "@jupyter-widgets/base",
            "top": null,
            "grid_column": null,
            "overflow_y": null,
            "overflow_x": null,
            "grid_auto_flow": null,
            "grid_area": null,
            "grid_template_columns": null,
            "flex": null,
            "_model_name": "LayoutModel",
            "justify_items": null,
            "grid_row": null,
            "max_height": null,
            "align_content": null,
            "visibility": null,
            "align_self": null,
            "height": null,
            "min_height": null,
            "padding": null,
            "grid_auto_rows": null,
            "grid_gap": null,
            "max_width": null,
            "order": null,
            "_view_module_version": "1.2.0",
            "grid_template_areas": null,
            "object_position": null,
            "object_fit": null,
            "grid_auto_columns": null,
            "margin": null,
            "display": null,
            "left": null
          }
        },
        "5f840b72cab14b9aa95438640930c3cb": {
          "model_module": "@jupyter-widgets/controls",
          "model_name": "DescriptionStyleModel",
          "model_module_version": "1.5.0",
          "state": {
            "_view_name": "StyleView",
            "_model_name": "DescriptionStyleModel",
            "description_width": "",
            "_view_module": "@jupyter-widgets/base",
            "_model_module_version": "1.5.0",
            "_view_count": null,
            "_view_module_version": "1.2.0",
            "_model_module": "@jupyter-widgets/controls"
          }
        },
        "e1f7a6c01b904df8ae7c1e59735b3995": {
          "model_module": "@jupyter-widgets/base",
          "model_name": "LayoutModel",
          "model_module_version": "1.2.0",
          "state": {
            "_view_name": "LayoutView",
            "grid_template_rows": null,
            "right": null,
            "justify_content": null,
            "_view_module": "@jupyter-widgets/base",
            "overflow": null,
            "_model_module_version": "1.2.0",
            "_view_count": null,
            "flex_flow": null,
            "width": null,
            "min_width": null,
            "border": null,
            "align_items": null,
            "bottom": null,
            "_model_module": "@jupyter-widgets/base",
            "top": null,
            "grid_column": null,
            "overflow_y": null,
            "overflow_x": null,
            "grid_auto_flow": null,
            "grid_area": null,
            "grid_template_columns": null,
            "flex": null,
            "_model_name": "LayoutModel",
            "justify_items": null,
            "grid_row": null,
            "max_height": null,
            "align_content": null,
            "visibility": null,
            "align_self": null,
            "height": null,
            "min_height": null,
            "padding": null,
            "grid_auto_rows": null,
            "grid_gap": null,
            "max_width": null,
            "order": null,
            "_view_module_version": "1.2.0",
            "grid_template_areas": null,
            "object_position": null,
            "object_fit": null,
            "grid_auto_columns": null,
            "margin": null,
            "display": null,
            "left": null
          }
        },
        "5cc31e5ff3d1430caed52bb6f9fd7d98": {
          "model_module": "@jupyter-widgets/controls",
          "model_name": "HBoxModel",
          "model_module_version": "1.5.0",
          "state": {
            "_view_name": "HBoxView",
            "_dom_classes": [],
            "_model_name": "HBoxModel",
            "_view_module": "@jupyter-widgets/controls",
            "_model_module_version": "1.5.0",
            "_view_count": null,
            "_view_module_version": "1.5.0",
            "box_style": "",
            "layout": "IPY_MODEL_ab474fc9a61e4fa9a3b5b0bf5f1658f3",
            "_model_module": "@jupyter-widgets/controls",
            "children": [
              "IPY_MODEL_c937fd4e2c064d34bd693e7e8a54949c",
              "IPY_MODEL_573ed15e91a049e1a1a6a5e5e78e7c39",
              "IPY_MODEL_d72034639e11473facd90d7734134493"
            ]
          }
        },
        "ab474fc9a61e4fa9a3b5b0bf5f1658f3": {
          "model_module": "@jupyter-widgets/base",
          "model_name": "LayoutModel",
          "model_module_version": "1.2.0",
          "state": {
            "_view_name": "LayoutView",
            "grid_template_rows": null,
            "right": null,
            "justify_content": null,
            "_view_module": "@jupyter-widgets/base",
            "overflow": null,
            "_model_module_version": "1.2.0",
            "_view_count": null,
            "flex_flow": null,
            "width": null,
            "min_width": null,
            "border": null,
            "align_items": null,
            "bottom": null,
            "_model_module": "@jupyter-widgets/base",
            "top": null,
            "grid_column": null,
            "overflow_y": null,
            "overflow_x": null,
            "grid_auto_flow": null,
            "grid_area": null,
            "grid_template_columns": null,
            "flex": null,
            "_model_name": "LayoutModel",
            "justify_items": null,
            "grid_row": null,
            "max_height": null,
            "align_content": null,
            "visibility": null,
            "align_self": null,
            "height": null,
            "min_height": null,
            "padding": null,
            "grid_auto_rows": null,
            "grid_gap": null,
            "max_width": null,
            "order": null,
            "_view_module_version": "1.2.0",
            "grid_template_areas": null,
            "object_position": null,
            "object_fit": null,
            "grid_auto_columns": null,
            "margin": null,
            "display": null,
            "left": null
          }
        },
        "c937fd4e2c064d34bd693e7e8a54949c": {
          "model_module": "@jupyter-widgets/controls",
          "model_name": "HTMLModel",
          "model_module_version": "1.5.0",
          "state": {
            "_view_name": "HTMLView",
            "style": "IPY_MODEL_f2ef2e47ff4d48a6a5f588222f6fe374",
            "_dom_classes": [],
            "description": "",
            "_model_name": "HTMLModel",
            "placeholder": "​",
            "_view_module": "@jupyter-widgets/controls",
            "_model_module_version": "1.5.0",
            "value": "Downloading: 100%",
            "_view_count": null,
            "_view_module_version": "1.5.0",
            "description_tooltip": null,
            "_model_module": "@jupyter-widgets/controls",
            "layout": "IPY_MODEL_0624cc7bdddd478eb51849aea032237f"
          }
        },
        "573ed15e91a049e1a1a6a5e5e78e7c39": {
          "model_module": "@jupyter-widgets/controls",
          "model_name": "FloatProgressModel",
          "model_module_version": "1.5.0",
          "state": {
            "_view_name": "ProgressView",
            "style": "IPY_MODEL_8a5d1767edd64afa9876a840b96b144f",
            "_dom_classes": [],
            "description": "",
            "_model_name": "FloatProgressModel",
            "bar_style": "success",
            "max": 231508,
            "_view_module": "@jupyter-widgets/controls",
            "_model_module_version": "1.5.0",
            "value": 231508,
            "_view_count": null,
            "_view_module_version": "1.5.0",
            "orientation": "horizontal",
            "min": 0,
            "description_tooltip": null,
            "_model_module": "@jupyter-widgets/controls",
            "layout": "IPY_MODEL_4b8c0c7d5ba34138bd87ddf8ab0001e0"
          }
        },
        "d72034639e11473facd90d7734134493": {
          "model_module": "@jupyter-widgets/controls",
          "model_name": "HTMLModel",
          "model_module_version": "1.5.0",
          "state": {
            "_view_name": "HTMLView",
            "style": "IPY_MODEL_4090c186eb4c42f4ba2656d084d4d028",
            "_dom_classes": [],
            "description": "",
            "_model_name": "HTMLModel",
            "placeholder": "​",
            "_view_module": "@jupyter-widgets/controls",
            "_model_module_version": "1.5.0",
            "value": " 226k/226k [00:00&lt;00:00, 783kB/s]",
            "_view_count": null,
            "_view_module_version": "1.5.0",
            "description_tooltip": null,
            "_model_module": "@jupyter-widgets/controls",
            "layout": "IPY_MODEL_58c79072353f48a3b2fe2cb7100e7db9"
          }
        },
        "f2ef2e47ff4d48a6a5f588222f6fe374": {
          "model_module": "@jupyter-widgets/controls",
          "model_name": "DescriptionStyleModel",
          "model_module_version": "1.5.0",
          "state": {
            "_view_name": "StyleView",
            "_model_name": "DescriptionStyleModel",
            "description_width": "",
            "_view_module": "@jupyter-widgets/base",
            "_model_module_version": "1.5.0",
            "_view_count": null,
            "_view_module_version": "1.2.0",
            "_model_module": "@jupyter-widgets/controls"
          }
        },
        "0624cc7bdddd478eb51849aea032237f": {
          "model_module": "@jupyter-widgets/base",
          "model_name": "LayoutModel",
          "model_module_version": "1.2.0",
          "state": {
            "_view_name": "LayoutView",
            "grid_template_rows": null,
            "right": null,
            "justify_content": null,
            "_view_module": "@jupyter-widgets/base",
            "overflow": null,
            "_model_module_version": "1.2.0",
            "_view_count": null,
            "flex_flow": null,
            "width": null,
            "min_width": null,
            "border": null,
            "align_items": null,
            "bottom": null,
            "_model_module": "@jupyter-widgets/base",
            "top": null,
            "grid_column": null,
            "overflow_y": null,
            "overflow_x": null,
            "grid_auto_flow": null,
            "grid_area": null,
            "grid_template_columns": null,
            "flex": null,
            "_model_name": "LayoutModel",
            "justify_items": null,
            "grid_row": null,
            "max_height": null,
            "align_content": null,
            "visibility": null,
            "align_self": null,
            "height": null,
            "min_height": null,
            "padding": null,
            "grid_auto_rows": null,
            "grid_gap": null,
            "max_width": null,
            "order": null,
            "_view_module_version": "1.2.0",
            "grid_template_areas": null,
            "object_position": null,
            "object_fit": null,
            "grid_auto_columns": null,
            "margin": null,
            "display": null,
            "left": null
          }
        },
        "8a5d1767edd64afa9876a840b96b144f": {
          "model_module": "@jupyter-widgets/controls",
          "model_name": "ProgressStyleModel",
          "model_module_version": "1.5.0",
          "state": {
            "_view_name": "StyleView",
            "_model_name": "ProgressStyleModel",
            "description_width": "",
            "_view_module": "@jupyter-widgets/base",
            "_model_module_version": "1.5.0",
            "_view_count": null,
            "_view_module_version": "1.2.0",
            "bar_color": null,
            "_model_module": "@jupyter-widgets/controls"
          }
        },
        "4b8c0c7d5ba34138bd87ddf8ab0001e0": {
          "model_module": "@jupyter-widgets/base",
          "model_name": "LayoutModel",
          "model_module_version": "1.2.0",
          "state": {
            "_view_name": "LayoutView",
            "grid_template_rows": null,
            "right": null,
            "justify_content": null,
            "_view_module": "@jupyter-widgets/base",
            "overflow": null,
            "_model_module_version": "1.2.0",
            "_view_count": null,
            "flex_flow": null,
            "width": null,
            "min_width": null,
            "border": null,
            "align_items": null,
            "bottom": null,
            "_model_module": "@jupyter-widgets/base",
            "top": null,
            "grid_column": null,
            "overflow_y": null,
            "overflow_x": null,
            "grid_auto_flow": null,
            "grid_area": null,
            "grid_template_columns": null,
            "flex": null,
            "_model_name": "LayoutModel",
            "justify_items": null,
            "grid_row": null,
            "max_height": null,
            "align_content": null,
            "visibility": null,
            "align_self": null,
            "height": null,
            "min_height": null,
            "padding": null,
            "grid_auto_rows": null,
            "grid_gap": null,
            "max_width": null,
            "order": null,
            "_view_module_version": "1.2.0",
            "grid_template_areas": null,
            "object_position": null,
            "object_fit": null,
            "grid_auto_columns": null,
            "margin": null,
            "display": null,
            "left": null
          }
        },
        "4090c186eb4c42f4ba2656d084d4d028": {
          "model_module": "@jupyter-widgets/controls",
          "model_name": "DescriptionStyleModel",
          "model_module_version": "1.5.0",
          "state": {
            "_view_name": "StyleView",
            "_model_name": "DescriptionStyleModel",
            "description_width": "",
            "_view_module": "@jupyter-widgets/base",
            "_model_module_version": "1.5.0",
            "_view_count": null,
            "_view_module_version": "1.2.0",
            "_model_module": "@jupyter-widgets/controls"
          }
        },
        "58c79072353f48a3b2fe2cb7100e7db9": {
          "model_module": "@jupyter-widgets/base",
          "model_name": "LayoutModel",
          "model_module_version": "1.2.0",
          "state": {
            "_view_name": "LayoutView",
            "grid_template_rows": null,
            "right": null,
            "justify_content": null,
            "_view_module": "@jupyter-widgets/base",
            "overflow": null,
            "_model_module_version": "1.2.0",
            "_view_count": null,
            "flex_flow": null,
            "width": null,
            "min_width": null,
            "border": null,
            "align_items": null,
            "bottom": null,
            "_model_module": "@jupyter-widgets/base",
            "top": null,
            "grid_column": null,
            "overflow_y": null,
            "overflow_x": null,
            "grid_auto_flow": null,
            "grid_area": null,
            "grid_template_columns": null,
            "flex": null,
            "_model_name": "LayoutModel",
            "justify_items": null,
            "grid_row": null,
            "max_height": null,
            "align_content": null,
            "visibility": null,
            "align_self": null,
            "height": null,
            "min_height": null,
            "padding": null,
            "grid_auto_rows": null,
            "grid_gap": null,
            "max_width": null,
            "order": null,
            "_view_module_version": "1.2.0",
            "grid_template_areas": null,
            "object_position": null,
            "object_fit": null,
            "grid_auto_columns": null,
            "margin": null,
            "display": null,
            "left": null
          }
        },
        "6635adae5ee54ee9aa4589a173b9aa10": {
          "model_module": "@jupyter-widgets/controls",
          "model_name": "HBoxModel",
          "model_module_version": "1.5.0",
          "state": {
            "_view_name": "HBoxView",
            "_dom_classes": [],
            "_model_name": "HBoxModel",
            "_view_module": "@jupyter-widgets/controls",
            "_model_module_version": "1.5.0",
            "_view_count": null,
            "_view_module_version": "1.5.0",
            "box_style": "",
            "layout": "IPY_MODEL_f683364225664941b1cabd9d7b600189",
            "_model_module": "@jupyter-widgets/controls",
            "children": [
              "IPY_MODEL_d0f189a58a7c4eb29bc71a6371845682",
              "IPY_MODEL_64ba4dcd6b024a418cac7c769ef65e94",
              "IPY_MODEL_2ca71d336b39401482044a9978a80a47"
            ]
          }
        },
        "f683364225664941b1cabd9d7b600189": {
          "model_module": "@jupyter-widgets/base",
          "model_name": "LayoutModel",
          "model_module_version": "1.2.0",
          "state": {
            "_view_name": "LayoutView",
            "grid_template_rows": null,
            "right": null,
            "justify_content": null,
            "_view_module": "@jupyter-widgets/base",
            "overflow": null,
            "_model_module_version": "1.2.0",
            "_view_count": null,
            "flex_flow": null,
            "width": null,
            "min_width": null,
            "border": null,
            "align_items": null,
            "bottom": null,
            "_model_module": "@jupyter-widgets/base",
            "top": null,
            "grid_column": null,
            "overflow_y": null,
            "overflow_x": null,
            "grid_auto_flow": null,
            "grid_area": null,
            "grid_template_columns": null,
            "flex": null,
            "_model_name": "LayoutModel",
            "justify_items": null,
            "grid_row": null,
            "max_height": null,
            "align_content": null,
            "visibility": null,
            "align_self": null,
            "height": null,
            "min_height": null,
            "padding": null,
            "grid_auto_rows": null,
            "grid_gap": null,
            "max_width": null,
            "order": null,
            "_view_module_version": "1.2.0",
            "grid_template_areas": null,
            "object_position": null,
            "object_fit": null,
            "grid_auto_columns": null,
            "margin": null,
            "display": null,
            "left": null
          }
        },
        "d0f189a58a7c4eb29bc71a6371845682": {
          "model_module": "@jupyter-widgets/controls",
          "model_name": "HTMLModel",
          "model_module_version": "1.5.0",
          "state": {
            "_view_name": "HTMLView",
            "style": "IPY_MODEL_957a61f931cf410399d68f1b909c948d",
            "_dom_classes": [],
            "description": "",
            "_model_name": "HTMLModel",
            "placeholder": "​",
            "_view_module": "@jupyter-widgets/controls",
            "_model_module_version": "1.5.0",
            "value": "Downloading: 100%",
            "_view_count": null,
            "_view_module_version": "1.5.0",
            "description_tooltip": null,
            "_model_module": "@jupyter-widgets/controls",
            "layout": "IPY_MODEL_7df86bfa7e784cf0a69fbe69d62df363"
          }
        },
        "64ba4dcd6b024a418cac7c769ef65e94": {
          "model_module": "@jupyter-widgets/controls",
          "model_name": "FloatProgressModel",
          "model_module_version": "1.5.0",
          "state": {
            "_view_name": "ProgressView",
            "style": "IPY_MODEL_cac937adbbd04778893b23fe01003e70",
            "_dom_classes": [],
            "description": "",
            "_model_name": "FloatProgressModel",
            "bar_style": "success",
            "max": 466062,
            "_view_module": "@jupyter-widgets/controls",
            "_model_module_version": "1.5.0",
            "value": 466062,
            "_view_count": null,
            "_view_module_version": "1.5.0",
            "orientation": "horizontal",
            "min": 0,
            "description_tooltip": null,
            "_model_module": "@jupyter-widgets/controls",
            "layout": "IPY_MODEL_f6e4212cd4074040b36b62ed8f1018f9"
          }
        },
        "2ca71d336b39401482044a9978a80a47": {
          "model_module": "@jupyter-widgets/controls",
          "model_name": "HTMLModel",
          "model_module_version": "1.5.0",
          "state": {
            "_view_name": "HTMLView",
            "style": "IPY_MODEL_68f2cdf6741d435d96eee7d11c3b889c",
            "_dom_classes": [],
            "description": "",
            "_model_name": "HTMLModel",
            "placeholder": "​",
            "_view_module": "@jupyter-widgets/controls",
            "_model_module_version": "1.5.0",
            "value": " 455k/455k [00:00&lt;00:00, 1.31MB/s]",
            "_view_count": null,
            "_view_module_version": "1.5.0",
            "description_tooltip": null,
            "_model_module": "@jupyter-widgets/controls",
            "layout": "IPY_MODEL_9df2f5942c344bd9b092490c848e29fc"
          }
        },
        "957a61f931cf410399d68f1b909c948d": {
          "model_module": "@jupyter-widgets/controls",
          "model_name": "DescriptionStyleModel",
          "model_module_version": "1.5.0",
          "state": {
            "_view_name": "StyleView",
            "_model_name": "DescriptionStyleModel",
            "description_width": "",
            "_view_module": "@jupyter-widgets/base",
            "_model_module_version": "1.5.0",
            "_view_count": null,
            "_view_module_version": "1.2.0",
            "_model_module": "@jupyter-widgets/controls"
          }
        },
        "7df86bfa7e784cf0a69fbe69d62df363": {
          "model_module": "@jupyter-widgets/base",
          "model_name": "LayoutModel",
          "model_module_version": "1.2.0",
          "state": {
            "_view_name": "LayoutView",
            "grid_template_rows": null,
            "right": null,
            "justify_content": null,
            "_view_module": "@jupyter-widgets/base",
            "overflow": null,
            "_model_module_version": "1.2.0",
            "_view_count": null,
            "flex_flow": null,
            "width": null,
            "min_width": null,
            "border": null,
            "align_items": null,
            "bottom": null,
            "_model_module": "@jupyter-widgets/base",
            "top": null,
            "grid_column": null,
            "overflow_y": null,
            "overflow_x": null,
            "grid_auto_flow": null,
            "grid_area": null,
            "grid_template_columns": null,
            "flex": null,
            "_model_name": "LayoutModel",
            "justify_items": null,
            "grid_row": null,
            "max_height": null,
            "align_content": null,
            "visibility": null,
            "align_self": null,
            "height": null,
            "min_height": null,
            "padding": null,
            "grid_auto_rows": null,
            "grid_gap": null,
            "max_width": null,
            "order": null,
            "_view_module_version": "1.2.0",
            "grid_template_areas": null,
            "object_position": null,
            "object_fit": null,
            "grid_auto_columns": null,
            "margin": null,
            "display": null,
            "left": null
          }
        },
        "cac937adbbd04778893b23fe01003e70": {
          "model_module": "@jupyter-widgets/controls",
          "model_name": "ProgressStyleModel",
          "model_module_version": "1.5.0",
          "state": {
            "_view_name": "StyleView",
            "_model_name": "ProgressStyleModel",
            "description_width": "",
            "_view_module": "@jupyter-widgets/base",
            "_model_module_version": "1.5.0",
            "_view_count": null,
            "_view_module_version": "1.2.0",
            "bar_color": null,
            "_model_module": "@jupyter-widgets/controls"
          }
        },
        "f6e4212cd4074040b36b62ed8f1018f9": {
          "model_module": "@jupyter-widgets/base",
          "model_name": "LayoutModel",
          "model_module_version": "1.2.0",
          "state": {
            "_view_name": "LayoutView",
            "grid_template_rows": null,
            "right": null,
            "justify_content": null,
            "_view_module": "@jupyter-widgets/base",
            "overflow": null,
            "_model_module_version": "1.2.0",
            "_view_count": null,
            "flex_flow": null,
            "width": null,
            "min_width": null,
            "border": null,
            "align_items": null,
            "bottom": null,
            "_model_module": "@jupyter-widgets/base",
            "top": null,
            "grid_column": null,
            "overflow_y": null,
            "overflow_x": null,
            "grid_auto_flow": null,
            "grid_area": null,
            "grid_template_columns": null,
            "flex": null,
            "_model_name": "LayoutModel",
            "justify_items": null,
            "grid_row": null,
            "max_height": null,
            "align_content": null,
            "visibility": null,
            "align_self": null,
            "height": null,
            "min_height": null,
            "padding": null,
            "grid_auto_rows": null,
            "grid_gap": null,
            "max_width": null,
            "order": null,
            "_view_module_version": "1.2.0",
            "grid_template_areas": null,
            "object_position": null,
            "object_fit": null,
            "grid_auto_columns": null,
            "margin": null,
            "display": null,
            "left": null
          }
        },
        "68f2cdf6741d435d96eee7d11c3b889c": {
          "model_module": "@jupyter-widgets/controls",
          "model_name": "DescriptionStyleModel",
          "model_module_version": "1.5.0",
          "state": {
            "_view_name": "StyleView",
            "_model_name": "DescriptionStyleModel",
            "description_width": "",
            "_view_module": "@jupyter-widgets/base",
            "_model_module_version": "1.5.0",
            "_view_count": null,
            "_view_module_version": "1.2.0",
            "_model_module": "@jupyter-widgets/controls"
          }
        },
        "9df2f5942c344bd9b092490c848e29fc": {
          "model_module": "@jupyter-widgets/base",
          "model_name": "LayoutModel",
          "model_module_version": "1.2.0",
          "state": {
            "_view_name": "LayoutView",
            "grid_template_rows": null,
            "right": null,
            "justify_content": null,
            "_view_module": "@jupyter-widgets/base",
            "overflow": null,
            "_model_module_version": "1.2.0",
            "_view_count": null,
            "flex_flow": null,
            "width": null,
            "min_width": null,
            "border": null,
            "align_items": null,
            "bottom": null,
            "_model_module": "@jupyter-widgets/base",
            "top": null,
            "grid_column": null,
            "overflow_y": null,
            "overflow_x": null,
            "grid_auto_flow": null,
            "grid_area": null,
            "grid_template_columns": null,
            "flex": null,
            "_model_name": "LayoutModel",
            "justify_items": null,
            "grid_row": null,
            "max_height": null,
            "align_content": null,
            "visibility": null,
            "align_self": null,
            "height": null,
            "min_height": null,
            "padding": null,
            "grid_auto_rows": null,
            "grid_gap": null,
            "max_width": null,
            "order": null,
            "_view_module_version": "1.2.0",
            "grid_template_areas": null,
            "object_position": null,
            "object_fit": null,
            "grid_auto_columns": null,
            "margin": null,
            "display": null,
            "left": null
          }
        },
        "6bd7722fd14b4a9da015756e761770d7": {
          "model_module": "@jupyter-widgets/controls",
          "model_name": "HBoxModel",
          "model_module_version": "1.5.0",
          "state": {
            "_view_name": "HBoxView",
            "_dom_classes": [],
            "_model_name": "HBoxModel",
            "_view_module": "@jupyter-widgets/controls",
            "_model_module_version": "1.5.0",
            "_view_count": null,
            "_view_module_version": "1.5.0",
            "box_style": "",
            "layout": "IPY_MODEL_1736e11600a74cd4a9fa76473f4510b6",
            "_model_module": "@jupyter-widgets/controls",
            "children": [
              "IPY_MODEL_c0a42a6010ec4b2d80ccf58bda53e3bb",
              "IPY_MODEL_db2b3991d0154a8fb6a2032bf07a14ef",
              "IPY_MODEL_e692e983f6ba4a06b66e1297a2181cc4"
            ]
          }
        },
        "1736e11600a74cd4a9fa76473f4510b6": {
          "model_module": "@jupyter-widgets/base",
          "model_name": "LayoutModel",
          "model_module_version": "1.2.0",
          "state": {
            "_view_name": "LayoutView",
            "grid_template_rows": null,
            "right": null,
            "justify_content": null,
            "_view_module": "@jupyter-widgets/base",
            "overflow": null,
            "_model_module_version": "1.2.0",
            "_view_count": null,
            "flex_flow": null,
            "width": null,
            "min_width": null,
            "border": null,
            "align_items": null,
            "bottom": null,
            "_model_module": "@jupyter-widgets/base",
            "top": null,
            "grid_column": null,
            "overflow_y": null,
            "overflow_x": null,
            "grid_auto_flow": null,
            "grid_area": null,
            "grid_template_columns": null,
            "flex": null,
            "_model_name": "LayoutModel",
            "justify_items": null,
            "grid_row": null,
            "max_height": null,
            "align_content": null,
            "visibility": null,
            "align_self": null,
            "height": null,
            "min_height": null,
            "padding": null,
            "grid_auto_rows": null,
            "grid_gap": null,
            "max_width": null,
            "order": null,
            "_view_module_version": "1.2.0",
            "grid_template_areas": null,
            "object_position": null,
            "object_fit": null,
            "grid_auto_columns": null,
            "margin": null,
            "display": null,
            "left": null
          }
        },
        "c0a42a6010ec4b2d80ccf58bda53e3bb": {
          "model_module": "@jupyter-widgets/controls",
          "model_name": "HTMLModel",
          "model_module_version": "1.5.0",
          "state": {
            "_view_name": "HTMLView",
            "style": "IPY_MODEL_8faf1a103ee64b5b919189b463612baa",
            "_dom_classes": [],
            "description": "",
            "_model_name": "HTMLModel",
            "placeholder": "​",
            "_view_module": "@jupyter-widgets/controls",
            "_model_module_version": "1.5.0",
            "value": "Downloading: 100%",
            "_view_count": null,
            "_view_module_version": "1.5.0",
            "description_tooltip": null,
            "_model_module": "@jupyter-widgets/controls",
            "layout": "IPY_MODEL_b0ce348f75aa4cf69f5713378cf5ab96"
          }
        },
        "db2b3991d0154a8fb6a2032bf07a14ef": {
          "model_module": "@jupyter-widgets/controls",
          "model_name": "FloatProgressModel",
          "model_module_version": "1.5.0",
          "state": {
            "_view_name": "ProgressView",
            "style": "IPY_MODEL_e7651097b7e64b27909155675a818a5c",
            "_dom_classes": [],
            "description": "",
            "_model_name": "FloatProgressModel",
            "bar_style": "success",
            "max": 570,
            "_view_module": "@jupyter-widgets/controls",
            "_model_module_version": "1.5.0",
            "value": 570,
            "_view_count": null,
            "_view_module_version": "1.5.0",
            "orientation": "horizontal",
            "min": 0,
            "description_tooltip": null,
            "_model_module": "@jupyter-widgets/controls",
            "layout": "IPY_MODEL_787c7b9841164042af401a5302b5d0e5"
          }
        },
        "e692e983f6ba4a06b66e1297a2181cc4": {
          "model_module": "@jupyter-widgets/controls",
          "model_name": "HTMLModel",
          "model_module_version": "1.5.0",
          "state": {
            "_view_name": "HTMLView",
            "style": "IPY_MODEL_00152b91afdf43bca71940190d7f98f3",
            "_dom_classes": [],
            "description": "",
            "_model_name": "HTMLModel",
            "placeholder": "​",
            "_view_module": "@jupyter-widgets/controls",
            "_model_module_version": "1.5.0",
            "value": " 570/570 [00:00&lt;00:00, 4.50kB/s]",
            "_view_count": null,
            "_view_module_version": "1.5.0",
            "description_tooltip": null,
            "_model_module": "@jupyter-widgets/controls",
            "layout": "IPY_MODEL_46b3476ffddb48538412792e30a696cb"
          }
        },
        "8faf1a103ee64b5b919189b463612baa": {
          "model_module": "@jupyter-widgets/controls",
          "model_name": "DescriptionStyleModel",
          "model_module_version": "1.5.0",
          "state": {
            "_view_name": "StyleView",
            "_model_name": "DescriptionStyleModel",
            "description_width": "",
            "_view_module": "@jupyter-widgets/base",
            "_model_module_version": "1.5.0",
            "_view_count": null,
            "_view_module_version": "1.2.0",
            "_model_module": "@jupyter-widgets/controls"
          }
        },
        "b0ce348f75aa4cf69f5713378cf5ab96": {
          "model_module": "@jupyter-widgets/base",
          "model_name": "LayoutModel",
          "model_module_version": "1.2.0",
          "state": {
            "_view_name": "LayoutView",
            "grid_template_rows": null,
            "right": null,
            "justify_content": null,
            "_view_module": "@jupyter-widgets/base",
            "overflow": null,
            "_model_module_version": "1.2.0",
            "_view_count": null,
            "flex_flow": null,
            "width": null,
            "min_width": null,
            "border": null,
            "align_items": null,
            "bottom": null,
            "_model_module": "@jupyter-widgets/base",
            "top": null,
            "grid_column": null,
            "overflow_y": null,
            "overflow_x": null,
            "grid_auto_flow": null,
            "grid_area": null,
            "grid_template_columns": null,
            "flex": null,
            "_model_name": "LayoutModel",
            "justify_items": null,
            "grid_row": null,
            "max_height": null,
            "align_content": null,
            "visibility": null,
            "align_self": null,
            "height": null,
            "min_height": null,
            "padding": null,
            "grid_auto_rows": null,
            "grid_gap": null,
            "max_width": null,
            "order": null,
            "_view_module_version": "1.2.0",
            "grid_template_areas": null,
            "object_position": null,
            "object_fit": null,
            "grid_auto_columns": null,
            "margin": null,
            "display": null,
            "left": null
          }
        },
        "e7651097b7e64b27909155675a818a5c": {
          "model_module": "@jupyter-widgets/controls",
          "model_name": "ProgressStyleModel",
          "model_module_version": "1.5.0",
          "state": {
            "_view_name": "StyleView",
            "_model_name": "ProgressStyleModel",
            "description_width": "",
            "_view_module": "@jupyter-widgets/base",
            "_model_module_version": "1.5.0",
            "_view_count": null,
            "_view_module_version": "1.2.0",
            "bar_color": null,
            "_model_module": "@jupyter-widgets/controls"
          }
        },
        "787c7b9841164042af401a5302b5d0e5": {
          "model_module": "@jupyter-widgets/base",
          "model_name": "LayoutModel",
          "model_module_version": "1.2.0",
          "state": {
            "_view_name": "LayoutView",
            "grid_template_rows": null,
            "right": null,
            "justify_content": null,
            "_view_module": "@jupyter-widgets/base",
            "overflow": null,
            "_model_module_version": "1.2.0",
            "_view_count": null,
            "flex_flow": null,
            "width": null,
            "min_width": null,
            "border": null,
            "align_items": null,
            "bottom": null,
            "_model_module": "@jupyter-widgets/base",
            "top": null,
            "grid_column": null,
            "overflow_y": null,
            "overflow_x": null,
            "grid_auto_flow": null,
            "grid_area": null,
            "grid_template_columns": null,
            "flex": null,
            "_model_name": "LayoutModel",
            "justify_items": null,
            "grid_row": null,
            "max_height": null,
            "align_content": null,
            "visibility": null,
            "align_self": null,
            "height": null,
            "min_height": null,
            "padding": null,
            "grid_auto_rows": null,
            "grid_gap": null,
            "max_width": null,
            "order": null,
            "_view_module_version": "1.2.0",
            "grid_template_areas": null,
            "object_position": null,
            "object_fit": null,
            "grid_auto_columns": null,
            "margin": null,
            "display": null,
            "left": null
          }
        },
        "00152b91afdf43bca71940190d7f98f3": {
          "model_module": "@jupyter-widgets/controls",
          "model_name": "DescriptionStyleModel",
          "model_module_version": "1.5.0",
          "state": {
            "_view_name": "StyleView",
            "_model_name": "DescriptionStyleModel",
            "description_width": "",
            "_view_module": "@jupyter-widgets/base",
            "_model_module_version": "1.5.0",
            "_view_count": null,
            "_view_module_version": "1.2.0",
            "_model_module": "@jupyter-widgets/controls"
          }
        },
        "46b3476ffddb48538412792e30a696cb": {
          "model_module": "@jupyter-widgets/base",
          "model_name": "LayoutModel",
          "model_module_version": "1.2.0",
          "state": {
            "_view_name": "LayoutView",
            "grid_template_rows": null,
            "right": null,
            "justify_content": null,
            "_view_module": "@jupyter-widgets/base",
            "overflow": null,
            "_model_module_version": "1.2.0",
            "_view_count": null,
            "flex_flow": null,
            "width": null,
            "min_width": null,
            "border": null,
            "align_items": null,
            "bottom": null,
            "_model_module": "@jupyter-widgets/base",
            "top": null,
            "grid_column": null,
            "overflow_y": null,
            "overflow_x": null,
            "grid_auto_flow": null,
            "grid_area": null,
            "grid_template_columns": null,
            "flex": null,
            "_model_name": "LayoutModel",
            "justify_items": null,
            "grid_row": null,
            "max_height": null,
            "align_content": null,
            "visibility": null,
            "align_self": null,
            "height": null,
            "min_height": null,
            "padding": null,
            "grid_auto_rows": null,
            "grid_gap": null,
            "max_width": null,
            "order": null,
            "_view_module_version": "1.2.0",
            "grid_template_areas": null,
            "object_position": null,
            "object_fit": null,
            "grid_auto_columns": null,
            "margin": null,
            "display": null,
            "left": null
          }
        },
        "452a00de639743fc8fd16cc2dba4af25": {
          "model_module": "@jupyter-widgets/controls",
          "model_name": "HBoxModel",
          "model_module_version": "1.5.0",
          "state": {
            "_view_name": "HBoxView",
            "_dom_classes": [],
            "_model_name": "HBoxModel",
            "_view_module": "@jupyter-widgets/controls",
            "_model_module_version": "1.5.0",
            "_view_count": null,
            "_view_module_version": "1.5.0",
            "box_style": "",
            "layout": "IPY_MODEL_955ed69e940c4fd1a7794b70d2d2de3f",
            "_model_module": "@jupyter-widgets/controls",
            "children": [
              "IPY_MODEL_6d1605b31f3b45a083a46fb2db3fc6a4",
              "IPY_MODEL_37910c7c204b4254b04e80af62800817",
              "IPY_MODEL_f39630ecb60646cfb535e60c79f6a31c"
            ]
          }
        },
        "955ed69e940c4fd1a7794b70d2d2de3f": {
          "model_module": "@jupyter-widgets/base",
          "model_name": "LayoutModel",
          "model_module_version": "1.2.0",
          "state": {
            "_view_name": "LayoutView",
            "grid_template_rows": null,
            "right": null,
            "justify_content": null,
            "_view_module": "@jupyter-widgets/base",
            "overflow": null,
            "_model_module_version": "1.2.0",
            "_view_count": null,
            "flex_flow": null,
            "width": null,
            "min_width": null,
            "border": null,
            "align_items": null,
            "bottom": null,
            "_model_module": "@jupyter-widgets/base",
            "top": null,
            "grid_column": null,
            "overflow_y": null,
            "overflow_x": null,
            "grid_auto_flow": null,
            "grid_area": null,
            "grid_template_columns": null,
            "flex": null,
            "_model_name": "LayoutModel",
            "justify_items": null,
            "grid_row": null,
            "max_height": null,
            "align_content": null,
            "visibility": null,
            "align_self": null,
            "height": null,
            "min_height": null,
            "padding": null,
            "grid_auto_rows": null,
            "grid_gap": null,
            "max_width": null,
            "order": null,
            "_view_module_version": "1.2.0",
            "grid_template_areas": null,
            "object_position": null,
            "object_fit": null,
            "grid_auto_columns": null,
            "margin": null,
            "display": null,
            "left": null
          }
        },
        "6d1605b31f3b45a083a46fb2db3fc6a4": {
          "model_module": "@jupyter-widgets/controls",
          "model_name": "HTMLModel",
          "model_module_version": "1.5.0",
          "state": {
            "_view_name": "HTMLView",
            "style": "IPY_MODEL_4b1e60120bf349a9b9a305cc8cf9d3c7",
            "_dom_classes": [],
            "description": "",
            "_model_name": "HTMLModel",
            "placeholder": "​",
            "_view_module": "@jupyter-widgets/controls",
            "_model_module_version": "1.5.0",
            "value": "Downloading: 100%",
            "_view_count": null,
            "_view_module_version": "1.5.0",
            "description_tooltip": null,
            "_model_module": "@jupyter-widgets/controls",
            "layout": "IPY_MODEL_e8d6de70ca3b43648183dcce4b795fb8"
          }
        },
        "37910c7c204b4254b04e80af62800817": {
          "model_module": "@jupyter-widgets/controls",
          "model_name": "FloatProgressModel",
          "model_module_version": "1.5.0",
          "state": {
            "_view_name": "ProgressView",
            "style": "IPY_MODEL_dc1c0a0b77c24025be8bb5ae0e1d3144",
            "_dom_classes": [],
            "description": "",
            "_model_name": "FloatProgressModel",
            "bar_style": "success",
            "max": 440473133,
            "_view_module": "@jupyter-widgets/controls",
            "_model_module_version": "1.5.0",
            "value": 440473133,
            "_view_count": null,
            "_view_module_version": "1.5.0",
            "orientation": "horizontal",
            "min": 0,
            "description_tooltip": null,
            "_model_module": "@jupyter-widgets/controls",
            "layout": "IPY_MODEL_ea58659ad3c946868e996bce41852a9e"
          }
        },
        "f39630ecb60646cfb535e60c79f6a31c": {
          "model_module": "@jupyter-widgets/controls",
          "model_name": "HTMLModel",
          "model_module_version": "1.5.0",
          "state": {
            "_view_name": "HTMLView",
            "style": "IPY_MODEL_6f0a47bacd3a43ecb0120171202927bc",
            "_dom_classes": [],
            "description": "",
            "_model_name": "HTMLModel",
            "placeholder": "​",
            "_view_module": "@jupyter-widgets/controls",
            "_model_module_version": "1.5.0",
            "value": " 420M/420M [00:27&lt;00:00, 26.2MB/s]",
            "_view_count": null,
            "_view_module_version": "1.5.0",
            "description_tooltip": null,
            "_model_module": "@jupyter-widgets/controls",
            "layout": "IPY_MODEL_94edf4d046e240b18aeae185ccb2adcb"
          }
        },
        "4b1e60120bf349a9b9a305cc8cf9d3c7": {
          "model_module": "@jupyter-widgets/controls",
          "model_name": "DescriptionStyleModel",
          "model_module_version": "1.5.0",
          "state": {
            "_view_name": "StyleView",
            "_model_name": "DescriptionStyleModel",
            "description_width": "",
            "_view_module": "@jupyter-widgets/base",
            "_model_module_version": "1.5.0",
            "_view_count": null,
            "_view_module_version": "1.2.0",
            "_model_module": "@jupyter-widgets/controls"
          }
        },
        "e8d6de70ca3b43648183dcce4b795fb8": {
          "model_module": "@jupyter-widgets/base",
          "model_name": "LayoutModel",
          "model_module_version": "1.2.0",
          "state": {
            "_view_name": "LayoutView",
            "grid_template_rows": null,
            "right": null,
            "justify_content": null,
            "_view_module": "@jupyter-widgets/base",
            "overflow": null,
            "_model_module_version": "1.2.0",
            "_view_count": null,
            "flex_flow": null,
            "width": null,
            "min_width": null,
            "border": null,
            "align_items": null,
            "bottom": null,
            "_model_module": "@jupyter-widgets/base",
            "top": null,
            "grid_column": null,
            "overflow_y": null,
            "overflow_x": null,
            "grid_auto_flow": null,
            "grid_area": null,
            "grid_template_columns": null,
            "flex": null,
            "_model_name": "LayoutModel",
            "justify_items": null,
            "grid_row": null,
            "max_height": null,
            "align_content": null,
            "visibility": null,
            "align_self": null,
            "height": null,
            "min_height": null,
            "padding": null,
            "grid_auto_rows": null,
            "grid_gap": null,
            "max_width": null,
            "order": null,
            "_view_module_version": "1.2.0",
            "grid_template_areas": null,
            "object_position": null,
            "object_fit": null,
            "grid_auto_columns": null,
            "margin": null,
            "display": null,
            "left": null
          }
        },
        "dc1c0a0b77c24025be8bb5ae0e1d3144": {
          "model_module": "@jupyter-widgets/controls",
          "model_name": "ProgressStyleModel",
          "model_module_version": "1.5.0",
          "state": {
            "_view_name": "StyleView",
            "_model_name": "ProgressStyleModel",
            "description_width": "",
            "_view_module": "@jupyter-widgets/base",
            "_model_module_version": "1.5.0",
            "_view_count": null,
            "_view_module_version": "1.2.0",
            "bar_color": null,
            "_model_module": "@jupyter-widgets/controls"
          }
        },
        "ea58659ad3c946868e996bce41852a9e": {
          "model_module": "@jupyter-widgets/base",
          "model_name": "LayoutModel",
          "model_module_version": "1.2.0",
          "state": {
            "_view_name": "LayoutView",
            "grid_template_rows": null,
            "right": null,
            "justify_content": null,
            "_view_module": "@jupyter-widgets/base",
            "overflow": null,
            "_model_module_version": "1.2.0",
            "_view_count": null,
            "flex_flow": null,
            "width": null,
            "min_width": null,
            "border": null,
            "align_items": null,
            "bottom": null,
            "_model_module": "@jupyter-widgets/base",
            "top": null,
            "grid_column": null,
            "overflow_y": null,
            "overflow_x": null,
            "grid_auto_flow": null,
            "grid_area": null,
            "grid_template_columns": null,
            "flex": null,
            "_model_name": "LayoutModel",
            "justify_items": null,
            "grid_row": null,
            "max_height": null,
            "align_content": null,
            "visibility": null,
            "align_self": null,
            "height": null,
            "min_height": null,
            "padding": null,
            "grid_auto_rows": null,
            "grid_gap": null,
            "max_width": null,
            "order": null,
            "_view_module_version": "1.2.0",
            "grid_template_areas": null,
            "object_position": null,
            "object_fit": null,
            "grid_auto_columns": null,
            "margin": null,
            "display": null,
            "left": null
          }
        },
        "6f0a47bacd3a43ecb0120171202927bc": {
          "model_module": "@jupyter-widgets/controls",
          "model_name": "DescriptionStyleModel",
          "model_module_version": "1.5.0",
          "state": {
            "_view_name": "StyleView",
            "_model_name": "DescriptionStyleModel",
            "description_width": "",
            "_view_module": "@jupyter-widgets/base",
            "_model_module_version": "1.5.0",
            "_view_count": null,
            "_view_module_version": "1.2.0",
            "_model_module": "@jupyter-widgets/controls"
          }
        },
        "94edf4d046e240b18aeae185ccb2adcb": {
          "model_module": "@jupyter-widgets/base",
          "model_name": "LayoutModel",
          "model_module_version": "1.2.0",
          "state": {
            "_view_name": "LayoutView",
            "grid_template_rows": null,
            "right": null,
            "justify_content": null,
            "_view_module": "@jupyter-widgets/base",
            "overflow": null,
            "_model_module_version": "1.2.0",
            "_view_count": null,
            "flex_flow": null,
            "width": null,
            "min_width": null,
            "border": null,
            "align_items": null,
            "bottom": null,
            "_model_module": "@jupyter-widgets/base",
            "top": null,
            "grid_column": null,
            "overflow_y": null,
            "overflow_x": null,
            "grid_auto_flow": null,
            "grid_area": null,
            "grid_template_columns": null,
            "flex": null,
            "_model_name": "LayoutModel",
            "justify_items": null,
            "grid_row": null,
            "max_height": null,
            "align_content": null,
            "visibility": null,
            "align_self": null,
            "height": null,
            "min_height": null,
            "padding": null,
            "grid_auto_rows": null,
            "grid_gap": null,
            "max_width": null,
            "order": null,
            "_view_module_version": "1.2.0",
            "grid_template_areas": null,
            "object_position": null,
            "object_fit": null,
            "grid_auto_columns": null,
            "margin": null,
            "display": null,
            "left": null
          }
        }
      }
    }
  },
  "nbformat": 4,
  "nbformat_minor": 0
}