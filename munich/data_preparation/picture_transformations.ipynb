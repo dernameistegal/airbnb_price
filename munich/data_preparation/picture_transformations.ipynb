{
  "nbformat": 4,
  "nbformat_minor": 0,
  "metadata": {
    "colab": {
      "name": "Untitled0.ipynb",
      "provenance": [],
      "machine_shape": "hm",
      "include_colab_link": true
    },
    "kernelspec": {
      "name": "python3",
      "display_name": "Python 3"
    },
    "language_info": {
      "name": "python"
    }
  },
  "cells": [
    {
      "cell_type": "markdown",
      "metadata": {
        "id": "view-in-github",
        "colab_type": "text"
      },
      "source": [
        "<a href=\"https://colab.research.google.com/github/dernameistegal/airbnb_price/blob/main/data_utils/munich/picture_transformations.ipynb\" target=\"_parent\"><img src=\"https://colab.research.google.com/assets/colab-badge.svg\" alt=\"Open In Colab\"/></a>"
      ]
    },
    {
      "cell_type": "markdown",
      "source": [
        "# 0. Preparation"
      ],
      "metadata": {
        "id": "jbtdvB6FQgvs"
      }
    },
    {
      "cell_type": "code",
      "source": [
        "#@title remove repos from disc\n",
        "%cd /content\n",
        "!rm -r airbnb_price"
      ],
      "metadata": {
        "id": "QdOQljNz3blJ",
        "outputId": "42bdcad3-75a9-4aad-cefa-f60c8e9fc253",
        "colab": {
          "base_uri": "https://localhost:8080/"
        },
        "cellView": "form"
      },
      "execution_count": null,
      "outputs": [
        {
          "output_type": "stream",
          "name": "stdout",
          "text": [
            "/content\n",
            "rm: cannot remove 'airbnb_price': No such file or directory\n"
          ]
        }
      ]
    },
    {
      "cell_type": "code",
      "metadata": {
        "id": "DJ7o4vsf3Sn9",
        "cellView": "form",
        "outputId": "f385c966-247c-48f0-eaf4-07c9427704e2",
        "colab": {
          "base_uri": "https://localhost:8080/"
        }
      },
      "source": [
        "#@title Clone repo\n",
        "!git clone https://github.com/dernameistegal/airbnb_price.git"
      ],
      "execution_count": null,
      "outputs": [
        {
          "output_type": "stream",
          "name": "stdout",
          "text": [
            "Cloning into 'airbnb_price'...\n",
            "remote: Enumerating objects: 435, done.\u001b[K\n",
            "remote: Counting objects: 100% (435/435), done.\u001b[K\n",
            "remote: Compressing objects: 100% (408/408), done.\u001b[K\n",
            "remote: Total 435 (delta 221), reused 117 (delta 21), pack-reused 0\u001b[K\n",
            "Receiving objects: 100% (435/435), 3.27 MiB | 8.57 MiB/s, done.\n",
            "Resolving deltas: 100% (221/221), done.\n"
          ]
        }
      ]
    },
    {
      "cell_type": "code",
      "source": [
        "#@title add paths to library search path\n",
        "import sys \n",
        "\n",
        "sys.path.append(\"/content/airbnb_price/custom_functions\")"
      ],
      "metadata": {
        "id": "JwAoaaJGkz3k"
      },
      "execution_count": null,
      "outputs": []
    },
    {
      "cell_type": "code",
      "metadata": {
        "id": "4CxkNtPCI8nl",
        "colab": {
          "base_uri": "https://localhost:8080/"
        },
        "outputId": "3173f656-b6a7-42b8-eb8f-1d630bd3601d"
      },
      "source": [
        "#@title Imports and drive\n",
        "import os\n",
        "import torch\n",
        "import torchvision\n",
        "import pandas as pd\n",
        "import json\n",
        "import numpy as np\n",
        "import matplotlib.pyplot as plt\n",
        "from tqdm import tqdm\n",
        "\n",
        "# own modules\n",
        "import general_utils as gu\n",
        "import picture_transformations_utils as pu\n",
        "\n",
        "\n",
        "\n",
        "from google.colab import drive\n",
        "\n",
        "#@title Mount drive\n",
        "drive.mount('/content/drive/', force_remount=True)"
      ],
      "execution_count": null,
      "outputs": [
        {
          "output_type": "stream",
          "name": "stdout",
          "text": [
            "Mounted at /content/drive/\n"
          ]
        }
      ]
    },
    {
      "cell_type": "code",
      "metadata": {
        "colab": {
          "base_uri": "https://localhost:8080/"
        },
        "id": "-5FPlKWBJMWs",
        "outputId": "d85f7883-b797-42e2-c963-2875a595dbd7",
        "cellView": "form"
      },
      "source": [
        "#@title define device\n",
        "\n",
        "# device\n",
        "device = gu.get_device()\n",
        "num_cpus = os.cpu_count()\n",
        "print(num_cpus, 'CPUs available')"
      ],
      "execution_count": null,
      "outputs": [
        {
          "output_type": "stream",
          "name": "stdout",
          "text": [
            "cuda available: False ; cudnn available: True ; num devices: 0\n",
            "Using device cpu\n",
            "4 CPUs available\n"
          ]
        }
      ]
    },
    {
      "cell_type": "markdown",
      "source": [
        "# 1. Data Cleaning Hostpics (Dont has to be run again)"
      ],
      "metadata": {
        "id": "QLS2yRBCQb6P"
      }
    },
    {
      "cell_type": "code",
      "source": [
        "hostpics_dir = \"/content/drive/MyDrive/Colab/airbnb/data/hostpics/hostpics_raw\""
      ],
      "metadata": {
        "id": "bz8_SdR0DX9h"
      },
      "execution_count": null,
      "outputs": []
    },
    {
      "cell_type": "code",
      "source": [
        "#@title get file_names where pictures only have one channel\n",
        "\n",
        "file_names = os.listdir(hostpics_dir)\n",
        "files_one_channel = []\n",
        "\n",
        "for file_name in file_names:\n",
        "    if np.load(hostpics_dir + \"/\" + file_name).shape == (224, 224):\n",
        "        files_one_channel.append(file_name)"
      ],
      "metadata": {
        "id": "CDh453I7b9T0",
        "cellView": "form",
        "outputId": "312edaaf-c991-4399-c3c5-57d172c325b9",
        "colab": {
          "base_uri": "https://localhost:8080/"
        }
      },
      "execution_count": null,
      "outputs": [
        {
          "output_type": "stream",
          "name": "stderr",
          "text": [
            "100%|██████████| 11375/11375 [03:18<00:00, 57.39it/s] \n"
          ]
        }
      ]
    },
    {
      "cell_type": "code",
      "source": [
        "#@title convert one channel images to grey scale and overwrite original images for compatibility with neural net\n",
        "for file_name in files_one_channel:\n",
        "    file_path = \"/content/drive/MyDrive/Colab/airbnb/data/hostpics/hostpics_raw\" + file_name\n",
        "    # add axis and repeat 3 times for 3 channels\n",
        "    x = np.load(file_path)\n",
        "    x = x[..., np.newaxis]\n",
        "    x = np.repeat(x, 3, axis=2)\n",
        "\n",
        "    # get max pixel value of image\n",
        "    max_pixel_value = np.max(x)\n",
        "\n",
        "    # scale pixel values to rgb range\n",
        "    x = np.round(x * (255/max_pixel_value))\n",
        "    x = x.astype(int)\n",
        "\n",
        "    np.save(file_path, x)\n"
      ],
      "metadata": {
        "id": "3Y7K5YovdU2H",
        "cellView": "form"
      },
      "execution_count": null,
      "outputs": []
    },
    {
      "cell_type": "code",
      "source": [
        "#@title get file_names where pictures only have two channels\n",
        "\n",
        "file_names = os.listdir(hostpics_dir)\n",
        "files_two_channels = []\n",
        "\n",
        "for file_name in file_names:\n",
        "    if np.load(hostpics_dir + \"/\" + file_name).shape == (224, 224, 2):\n",
        "        files_two_channels.append(file_name)"
      ],
      "metadata": {
        "cellView": "form",
        "id": "4cCeL1DZk5Cy"
      },
      "execution_count": null,
      "outputs": []
    },
    {
      "cell_type": "code",
      "source": [
        "#@title convert two channel images to grey scale and overwrite original images for compatibility with neural net\n",
        "\n",
        "for file_name in tqdm(files_two_channels):\n",
        "    temp = np.load(hostpics_dir + \"/\" + file_name)\n",
        "    temp = temp[..., 0]\n",
        "    temp = temp[..., np.newaxis]\n",
        "    temp = np.repeat(temp, 3, axis = 2)\n",
        "\n",
        "    max_pixel_value = np.max(temp)\n",
        "\n",
        "    temp = np.round(temp * (255 / max_pixel_value))\n",
        "    temp = temp.astype(int)\n",
        "\n",
        "    np.save(hostpics_dir + \"/\" + file_name, temp)"
      ],
      "metadata": {
        "cellView": "form",
        "id": "43vjauW-mbMc",
        "outputId": "a75b61dd-d661-467e-a272-9a9c44c23c6a",
        "colab": {
          "base_uri": "https://localhost:8080/"
        }
      },
      "execution_count": null,
      "outputs": [
        {
          "output_type": "stream",
          "name": "stderr",
          "text": [
            "100%|██████████| 13/13 [00:00<00:00, 60.11it/s]\n"
          ]
        }
      ]
    },
    {
      "cell_type": "code",
      "source": [
        "#@title get file_names where pictures have four channels\n",
        "\n",
        "file_names = os.listdir(hostpics_dir)\n",
        "files_four_channels = []\n",
        "\n",
        "for file_name in tqdm(file_names):\n",
        "    if np.load(hostpics_dir + \"/\" + file_name).shape == (224, 224, 4):\n",
        "        files_four_channels.append(file_name)"
      ],
      "metadata": {
        "cellView": "form",
        "id": "Ipp6mqR-Ohua",
        "outputId": "fcb7a909-caca-4eef-8345-1b25ca53c406",
        "colab": {
          "base_uri": "https://localhost:8080/"
        }
      },
      "execution_count": null,
      "outputs": [
        {
          "output_type": "stream",
          "name": "stderr",
          "text": [
            "100%|██████████| 11311/11311 [00:28<00:00, 398.50it/s]\n"
          ]
        }
      ]
    },
    {
      "cell_type": "code",
      "source": [
        "#@title convert four channel images to three channel images and overwrite original images for compatibility with neural net\n",
        "\n",
        "for file_name in tqdm(files_four_channels):\n",
        "    temp = np.load(hostpics_dir + \"/\" + file_name)\n",
        "    temp = temp[..., 0:3]\n",
        "    np.save(hostpics_dir + \"/\" + file_name, temp)"
      ],
      "metadata": {
        "cellView": "form",
        "id": "HQ3BdU2uPSb5",
        "outputId": "89075d7f-830e-464f-8c23-0f85d9597e96",
        "colab": {
          "base_uri": "https://localhost:8080/"
        }
      },
      "execution_count": null,
      "outputs": [
        {
          "output_type": "stream",
          "name": "stderr",
          "text": [
            "100%|██████████| 51/51 [00:00<00:00, 51.47it/s]\n"
          ]
        }
      ]
    },
    {
      "cell_type": "markdown",
      "source": [
        "# 2. Data Cleaning Thumbnails (Dont has to be run again)"
      ],
      "metadata": {
        "id": "GCFh1rEUwwxI"
      }
    },
    {
      "cell_type": "code",
      "source": [
        "thumbnails_dir = \"/content/drive/MyDrive/Colab/airbnb/data/thumbnails/thumbnails_raw\""
      ],
      "metadata": {
        "id": "fqHZkWxwDute"
      },
      "execution_count": null,
      "outputs": []
    },
    {
      "cell_type": "code",
      "source": [
        "#@title get file_names where pictures only have one channel\n",
        "\n",
        "file_names = os.listdir(thumbnails_dir)\n",
        "files_one_channel = []\n",
        "\n",
        "for file_name in tqdm(file_names):\n",
        "    if np.load(thumbnails_dir + \"/\" + file_name).shape == (224, 224):\n",
        "        files_one_channel.append(file_name)"
      ],
      "metadata": {
        "cellView": "form",
        "id": "eGt-qX3-w08q",
        "outputId": "fd44f7d4-e598-421b-82f8-8285586ec312",
        "colab": {
          "base_uri": "https://localhost:8080/"
        }
      },
      "execution_count": null,
      "outputs": [
        {
          "output_type": "stream",
          "name": "stderr",
          "text": [
            "100%|██████████| 11402/11402 [00:32<00:00, 352.73it/s]\n"
          ]
        }
      ]
    },
    {
      "cell_type": "code",
      "source": [
        "#@title convert one channel images to grey scale and overwrite original images for compatibility with neural net\n",
        "\n",
        "for file_name in tqdm(files_one_channel):\n",
        "    temp = np.load(thumbnails_dir + \"/\" + file_name)\n",
        "    temp = temp[..., np.newaxis]\n",
        "    temp = np.repeat(temp, 3, axis = 2)\n",
        "\n",
        "    max_pixel_value = np.max(temp)\n",
        "\n",
        "    temp = np.round(temp * (255 / max_pixel_value))\n",
        "    temp = temp.astype(int)\n",
        "\n",
        "    np.save(thumbnails_dir + \"/\" + file_name, temp)"
      ],
      "metadata": {
        "cellView": "form",
        "id": "GkBhQbqUxyZT",
        "outputId": "72a0b01a-79c0-4290-b8aa-77f64e8b5ba8",
        "colab": {
          "base_uri": "https://localhost:8080/"
        }
      },
      "execution_count": null,
      "outputs": [
        {
          "output_type": "stream",
          "name": "stderr",
          "text": [
            "100%|██████████| 2/2 [00:00<00:00, 45.05it/s]\n"
          ]
        }
      ]
    },
    {
      "cell_type": "code",
      "source": [
        "#@title get file_names where pictures  have four channels\n",
        "\n",
        "file_names = os.listdir(thumbnails_dir)\n",
        "files_four_channels = []\n",
        "\n",
        "for file_name in tqdm(file_names):\n",
        "    if np.load(thumbnails_dir + \"/\" + file_name).shape == (224, 224, 4):\n",
        "        files_four_channels.append(file_name)"
      ],
      "metadata": {
        "cellView": "form",
        "id": "mPFbdDIw2n-N",
        "outputId": "7cfbae74-0609-4b65-beeb-2a81414a516c",
        "colab": {
          "base_uri": "https://localhost:8080/"
        }
      },
      "execution_count": null,
      "outputs": [
        {
          "output_type": "stream",
          "name": "stderr",
          "text": [
            "100%|██████████| 11402/11402 [00:42<00:00, 267.58it/s]\n"
          ]
        }
      ]
    },
    {
      "cell_type": "code",
      "source": [
        "#@title convert four channel images to three channel images and overwrite original images for compatibility with neural net\n",
        "\n",
        "for file_name in tqdm(files_four_channels):\n",
        "    temp = np.load(thumbnails_dir + \"/\" + file_name)\n",
        "    temp = temp[..., 0:3]\n",
        "    np.save(thumbnails_dir + \"/\" + file_name, temp)"
      ],
      "metadata": {
        "cellView": "form",
        "id": "GnHoFkbG3DuM",
        "outputId": "cfd3fb30-2c5e-462a-d5e9-03d286c04813",
        "colab": {
          "base_uri": "https://localhost:8080/"
        }
      },
      "execution_count": null,
      "outputs": [
        {
          "output_type": "stream",
          "name": "stderr",
          "text": [
            "100%|██████████| 226/226 [00:05<00:00, 44.48it/s]\n"
          ]
        }
      ]
    },
    {
      "cell_type": "code",
      "source": [
        "#@title save prices that correspond to all existing thumbnail pictures\n",
        "listings_meta = pd.read_csv(\"/content/drive/MyDrive/Colab/airbnb/data/data1/listings.csv.gz\")\n",
        "\n",
        "with open(\"/content/drive/MyDrive/Colab/airbnb/data/missing_data.json\", \"r\") as f:\n",
        "    missing_data = json.load(f)\n",
        "\n",
        "thumbnails_price = listings_meta[[\"id\", \"price\"]][~listings_meta[\"id\"].isin(missing_data[\"thumbnail\"])]\n",
        "\n",
        "# transform price\n",
        "thumbnails_price[\"price\"] = (thumbnails_price[\"price\"].str.replace(\"$\", \"\").str.replace(\",\", \"\").astype(float))\n",
        "\n",
        "for i in tqdm(thumbnails_price.index):\n",
        "    np.save(\"/content/drive/MyDrive/Colab/airbnb/data/thumbnails/thumbnails_response\" + \"/thumbnail\" + str(thumbnails_price[\"id\"][i]), thumbnails_price[\"price\"][i])"
      ],
      "metadata": {
        "cellView": "form",
        "id": "2r3s44ObtdaP"
      },
      "execution_count": null,
      "outputs": []
    },
    {
      "cell_type": "markdown",
      "source": [
        "# 3. Feature Extraction Hostpics"
      ],
      "metadata": {
        "id": "q2D71W_WQqu4"
      }
    },
    {
      "cell_type": "code",
      "source": [
        "hostpics_dir = \"/content/drive/MyDrive/Colab/airbnb/data/hostpics/hostpics_raw\""
      ],
      "metadata": {
        "id": "jqlGUnqDjabS"
      },
      "execution_count": null,
      "outputs": []
    },
    {
      "cell_type": "code",
      "source": [
        "#@title  calculate moments of hostpicts and save them (dont has to be run again)\n",
        "means, std = fu.calculate_channelwise_moments(\"/content/drive/MyDrive/Colab/airbnb/data/hostpics/hostpics_raw\")\n",
        "means = means.reshape(3, 1)\n",
        "std = std.reshape(3, 1)\n",
        "hostpics_moments = np.hstack([means, std])\n",
        "np.save(\"/content/drive/MyDrive/Colab/airbnb/data/hostpics/hostpics_moments\", hostpics_moments)"
      ],
      "metadata": {
        "id": "9OLcNTfLeYVe",
        "outputId": "5a0ab5d3-44b4-4c68-d717-ae0fe55bd71c",
        "colab": {
          "base_uri": "https://localhost:8080/"
        },
        "cellView": "form"
      },
      "execution_count": null,
      "outputs": [
        {
          "output_type": "stream",
          "name": "stderr",
          "text": [
            "100%|██████████| 11375/11375 [02:43<00:00, 69.66it/s] \n"
          ]
        }
      ]
    },
    {
      "cell_type": "code",
      "source": [
        "# make dataset and dataloader with hostpics\n",
        "\n",
        "# load moments\n",
        "hostpics_moments = np.load(\"/content/drive/MyDrive/Colab/airbnb/data/hostpics/hostpics_moments.npy\")\n",
        "hostpics_moments = torch.from_numpy(hostpics_moments)\n",
        "\n",
        "# initialize dataset and dataloader\n",
        "dataset = pu.Dataset(filepath=hostpics_dir, channel_moments=hostpic_moments, ndata=10)\n",
        "dataloader = torch.utils.data.DataLoader(dataset, batch_size=1, shuffle=False)\n"
      ],
      "metadata": {
        "id": "p5h86a3dtPir"
      },
      "execution_count": null,
      "outputs": []
    },
    {
      "cell_type": "code",
      "source": [
        "# extract features from pretrained model\n",
        "vgg = torchvision.models.vgg19(pretrained=True)\n",
        "feature_extractor = vgg.features[0:31]\n",
        "\n",
        "# compute features for later training\n",
        "train_features = pu.compute_train_features(device=device, dataloader=dataloader, feature_extractor=feature_extractor)\n",
        "train_features = train.features.cpu().numpy()"
      ],
      "metadata": {
        "id": "OJiY3_a68RwA"
      },
      "execution_count": null,
      "outputs": []
    },
    {
      "cell_type": "code",
      "source": [
        "# save features if desired\n",
        "np.save()"
      ],
      "metadata": {
        "id": "wQuCMhGetHx7",
        "outputId": "a250dc67-f8e4-4959-e333-a2eaf7e6756b",
        "colab": {
          "base_uri": "https://localhost:8080/"
        }
      },
      "execution_count": null,
      "outputs": [
        {
          "output_type": "execute_result",
          "data": {
            "text/plain": [
              "torch.Size([10, 512, 14, 14])"
            ]
          },
          "metadata": {},
          "execution_count": 7
        }
      ]
    },
    {
      "cell_type": "markdown",
      "source": [
        "# 4. Feature Extraction thumbnails"
      ],
      "metadata": {
        "id": "rmwXb1Kb46Eo"
      }
    },
    {
      "cell_type": "code",
      "source": [
        "thumbnails_dir = \"/content/drive/MyDrive/Colab/airbnb/data/thumbnails/thumbnails_raw\""
      ],
      "metadata": {
        "id": "rsbXtkQz4_uP"
      },
      "execution_count": null,
      "outputs": []
    },
    {
      "cell_type": "code",
      "source": [
        "#@title calculate moments of thumbnails and save them (dont has to be run again)\n",
        "means, std = pu.calculate_channelwise_moments(thumbnails_dir)\n",
        "means = means.reshape(3, 1)\n",
        "std = std.reshape(3, 1)\n",
        "thumbnails_moments = np.hstack([means, std])\n",
        "np.save(\"/content/drive/MyDrive/Colab/airbnb/data/thumbnails/thumbnails_moments.npy\", thumbnails_moments)"
      ],
      "metadata": {
        "cellView": "form",
        "id": "hOZ_tiNb4-Pj",
        "outputId": "95bca449-4822-4509-8873-262546550bb3",
        "colab": {
          "base_uri": "https://localhost:8080/"
        }
      },
      "execution_count": null,
      "outputs": [
        {
          "output_type": "stream",
          "name": "stderr",
          "text": [
            "100%|██████████| 11402/11402 [01:39<00:00, 114.43it/s]\n"
          ]
        }
      ]
    },
    {
      "cell_type": "code",
      "source": [
        "# make dataset and dataloader with hostpics\n",
        "\n",
        "# load moments\n",
        "thumbnails_moments = np.load(\"/content/drive/MyDrive/Colab/airbnb/data/thumbnails/thumbnails_moments.npy\")\n",
        "thumbnails_moments = torch.from_numpy(thumbnails_moments)\n",
        "\n",
        "# initialize dataset and dataloader\n",
        "dataset = pu.Dataset(filepath=thumbnails_dir, channel_moments=thumbnails_moments, ndata=1000)\n",
        "dataloader = torch.utils.data.DataLoader(dataset, batch_size=16, shuffle=False)"
      ],
      "metadata": {
        "id": "PIqyQ8V28UMd"
      },
      "execution_count": null,
      "outputs": []
    },
    {
      "cell_type": "code",
      "source": [
        "# extract features from pretrained model\n",
        "vgg = torchvision.models.vgg19(pretrained=True)\n",
        "feature_extractor = vgg.features[0:31]\n",
        "\n",
        "# compute features for later training\n",
        "train_features = pu.compute_train_features(device=device, dataloader=dataloader, feature_extractor=feature_extractor)\n",
        "train_features = train.features.cpu().numpy()"
      ],
      "metadata": {
        "id": "PVodQMjb8nzQ",
        "outputId": "6861b204-286a-4347-85c7-fc860b75574d",
        "colab": {
          "base_uri": "https://localhost:8080/"
        }
      },
      "execution_count": null,
      "outputs": [
        {
          "output_type": "stream",
          "name": "stderr",
          "text": [
            "100%|██████████| 63/63 [00:40<00:00,  1.54it/s]\n"
          ]
        }
      ]
    },
    {
      "cell_type": "code",
      "source": [
        "# save features if desired\n",
        "np.save()"
      ],
      "metadata": {
        "id": "j653iCyFJnCj"
      },
      "execution_count": null,
      "outputs": []
    },
    {
      "cell_type": "markdown",
      "source": [
        "# 5. remove thumbnails that correspond to price zero (dont has to be run again)"
      ],
      "metadata": {
        "id": "NlFX-3EOCA3v"
      }
    },
    {
      "cell_type": "code",
      "source": [
        "# remove pictures that correspond to missing prices\n",
        "with open(\"/content/drive/MyDrive/Colab/airbnb/data/data1/missing_data.json\", \"r\") as f:\n",
        "    missing_data = json.load(f)\n",
        "\n",
        "filenames = os.listdir(\"/content/drive/MyDrive/Colab/airbnb/data/thumbnails/thumbnails_raw\")\n",
        "removed = []\n",
        "\n",
        "for filename in tqdm(filenames):\n",
        "    if int(filename[9:-4]) in missing_data[\"price\"]:\n",
        "        os.remove(\"/content/drive/MyDrive/Colab/airbnb/data/thumbnails/thumbnails_raw/\" + filename)\n",
        "        removed.append(filename)"
      ],
      "metadata": {
        "id": "vq_6TNJECF22",
        "outputId": "e1eb8188-39fb-4feb-e6e2-4d23c3e5476e",
        "colab": {
          "base_uri": "https://localhost:8080/"
        }
      },
      "execution_count": null,
      "outputs": [
        {
          "output_type": "stream",
          "name": "stderr",
          "text": [
            "100%|██████████| 11402/11402 [00:00<00:00, 275825.51it/s]\n"
          ]
        }
      ]
    },
    {
      "cell_type": "code",
      "source": [
        "# remove responses that correspond to missing prices\n",
        "with open(\"/content/drive/MyDrive/Colab/airbnb/data/data1/missing_data.json\", \"r\") as f:\n",
        "    missing_data = json.load(f)\n",
        "\n",
        "filenames = os.listdir(\"/content/drive/MyDrive/Colab/airbnb/data/thumbnails/thumbnails_response\")\n",
        "removed = []\n",
        "\n",
        "for filename in tqdm(filenames):\n",
        "    if int(filename[9:-4]) in missing_data[\"price\"]:\n",
        "        os.remove(\"/content/drive/MyDrive/Colab/airbnb/data/thumbnails/thumbnails_response/\" + filename)\n",
        "        removed.append(filename)"
      ],
      "metadata": {
        "id": "eYBXJactFvB-",
        "outputId": "9c4e9a83-1227-49a2-aaff-6dc2dc46a02a",
        "colab": {
          "base_uri": "https://localhost:8080/"
        }
      },
      "execution_count": null,
      "outputs": [
        {
          "output_type": "stream",
          "name": "stderr",
          "text": [
            "100%|██████████| 11402/11402 [00:00<00:00, 299967.10it/s]\n"
          ]
        }
      ]
    },
    {
      "cell_type": "code",
      "source": [
        "len(os.listdir(\"/content/drive/MyDrive/Colab/airbnb/data/thumbnails/thumbnails_response\"))"
      ],
      "metadata": {
        "id": "H-gfOjy0HZN-",
        "outputId": "54095318-547d-4721-e1a8-99b2072cd0a2",
        "colab": {
          "base_uri": "https://localhost:8080/"
        }
      },
      "execution_count": null,
      "outputs": [
        {
          "output_type": "execute_result",
          "data": {
            "text/plain": [
              "11397"
            ]
          },
          "metadata": {},
          "execution_count": 18
        }
      ]
    },
    {
      "cell_type": "markdown",
      "source": [
        "# 6. Add thumbnails manually that were not available"
      ],
      "metadata": {
        "id": "azXNB2EvM4ip"
      }
    },
    {
      "cell_type": "code",
      "source": [
        "with open(\"/content/drive/MyDrive/Colab/airbnb/data/data1/missing_data.json\", \"r\") as f:\n",
        "    missing_thumbnails = json.load(f)[\"thumbnail\"]\n",
        "\n",
        "with open(\"/content/drive/MyDrive/Colab/airbnb/data/data1/missing_data.json\", \"r\") as f:\n",
        "    missing_price = json.load(f)[\"price\"]\n",
        "\n",
        "missing_thumbnails_index = pd.Index(missing_thumbnails)\n",
        "missing_price_index = pd.Index(missing_price)\n",
        "\n",
        "missing_thumbnails_index = missing_thumbnails_index.difference(missing_price_index)\n",
        "\n",
        "listings_original = pd.read_pickle(\"/content/drive/MyDrive/Colab/airbnb/data/translations/translated_listings.pickle\")\n",
        "listings_original.set_index(\"id\", inplace=True)\n",
        "listings_original.loc[missing_thumbnails_index, :]"
      ],
      "metadata": {
        "id": "4bGbNmSoNO53"
      },
      "execution_count": null,
      "outputs": []
    },
    {
      "cell_type": "code",
      "source": [
        "missing_thumbnails_index"
      ],
      "metadata": {
        "colab": {
          "base_uri": "https://localhost:8080/"
        },
        "id": "wW5QZG1zQzof",
        "outputId": "2cd0a830-c4ef-4125-8161-2ad48bc259bc"
      },
      "execution_count": null,
      "outputs": [
        {
          "output_type": "execute_result",
          "data": {
            "text/plain": [
              "Int64Index([10623784, 13499617, 15279015, 22341692, 29335901, 29337422,\n",
              "            31159686],\n",
              "           dtype='int64')"
            ]
          },
          "metadata": {},
          "execution_count": 29
        }
      ]
    },
    {
      "cell_type": "code",
      "source": [
        "listings_original"
      ],
      "metadata": {
        "id": "fcp6KA0mRHR2"
      },
      "execution_count": null,
      "outputs": []
    },
    {
      "cell_type": "code",
      "source": [
        "# downloaded and resized manually the missing images\n",
        "from PIL import Image\n",
        "\n",
        "image1 = Image.open('/content/10623784.jpg')\n",
        "image2 = Image.open('/content/13499617.jpg')\n",
        "image3 = Image.open('/content/15279015.jpg')\n",
        "image4 = Image.open('/content/22341692.jpg')\n",
        "image5 = Image.open('/content/29335901.jpg')\n",
        "image6 = Image.open('/content/29337422.jpg')\n",
        "image7 = Image.open('/content/31159686.jpg')"
      ],
      "metadata": {
        "id": "mUtRsp9KcI7N"
      },
      "execution_count": null,
      "outputs": []
    },
    {
      "cell_type": "code",
      "source": [
        "np.save(\"/content/drive/MyDrive/Colab/airbnb/data/thumbnails/thumbnails_raw/thumbnail10623784.npy\", np.array(image1))\n",
        "np.save(\"/content/drive/MyDrive/Colab/airbnb/data/thumbnails/thumbnails_raw/thumbnail13499617.npy\", np.array(image2))\n",
        "np.save(\"/content/drive/MyDrive/Colab/airbnb/data/thumbnails/thumbnails_raw/thumbnail15279015.npy\", np.array(image3))\n",
        "np.save(\"/content/drive/MyDrive/Colab/airbnb/data/thumbnails/thumbnails_raw/thumbnail22341692.npy\", np.array(image4))\n",
        "np.save(\"/content/drive/MyDrive/Colab/airbnb/data/thumbnails/thumbnails_raw/thumbnail29335901.npy\", np.array(image5))\n",
        "np.save(\"/content/drive/MyDrive/Colab/airbnb/data/thumbnails/thumbnails_raw/thumbnail29337422.npy\", np.array(image6))\n",
        "np.save(\"/content/drive/MyDrive/Colab/airbnb/data/thumbnails/thumbnails_raw/thumbnail31159686.npy\", np.array(image7))"
      ],
      "metadata": {
        "id": "m5fRwTkncMrU"
      },
      "execution_count": null,
      "outputs": []
    }
  ]
}