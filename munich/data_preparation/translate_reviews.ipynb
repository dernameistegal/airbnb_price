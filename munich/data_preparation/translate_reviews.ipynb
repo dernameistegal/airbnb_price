{
  "cells": [
    {
      "cell_type": "markdown",
      "metadata": {
        "id": "view-in-github",
        "colab_type": "text"
      },
      "source": [
        "<a href=\"https://colab.research.google.com/github/dernameistegal/airbnb_price/blob/main/data_utils/munich/translate_reviews.ipynb\" target=\"_parent\"><img src=\"https://colab.research.google.com/assets/colab-badge.svg\" alt=\"Open In Colab\"/></a>"
      ]
    },
    {
      "cell_type": "markdown",
      "source": [
        "#Translation of airbnb dataset into english"
      ],
      "metadata": {
        "id": "zebqTeL1s1Gz"
      }
    },
    {
      "cell_type": "code",
      "source": [
        "from google.colab import drive\n",
        "import pandas as pd\n",
        "import torch\n",
        "drive.mount('/content/drive')"
      ],
      "metadata": {
        "id": "n14UUIPhteId",
        "outputId": "8e23d731-afd8-4071-da33-70a7c8fe4b4e",
        "colab": {
          "base_uri": "https://localhost:8080/"
        }
      },
      "execution_count": 2,
      "outputs": [
        {
          "output_type": "stream",
          "name": "stdout",
          "text": [
            "Mounted at /content/drive\n"
          ]
        }
      ]
    },
    {
      "cell_type": "markdown",
      "source": [
        "## Preliminary works\n",
        "- add comments_en column with values None\n",
        "- add lang column with values None\n",
        "- replace na values in comments colum with \"no text\""
      ],
      "metadata": {
        "id": "NZZO4p038mzR"
      }
    },
    {
      "cell_type": "code",
      "execution_count": 4,
      "metadata": {
        "id": "lIYdn1woOS1n"
      },
      "outputs": [],
      "source": [
        "%%capture\n",
        "!pip install git+https://github.com/neuml/txtai#egg=txtai[pipeline]"
      ]
    },
    {
      "cell_type": "code",
      "source": [
        "import torch\n",
        "path = \"/content/drive/MyDrive/Colab/airbnb/munich/reviews_workfile.pickle\"\n",
        "reviews = pd.read_pickle(path)"
      ],
      "metadata": {
        "id": "LloAHaMEP3sU"
      },
      "execution_count": 2,
      "outputs": []
    },
    {
      "cell_type": "code",
      "source": [
        "import torch\n",
        "path = \"/content/drive/MyDrive/Colab/airbnb/munich/listings.pickle\"\n",
        "listings = pd.read_pickle(path)"
      ],
      "metadata": {
        "id": "t9B97UHtYEwX"
      },
      "execution_count": 10,
      "outputs": []
    },
    {
      "cell_type": "code",
      "source": [
        "reviews.listing_id.isin(listings.id).all()"
      ],
      "metadata": {
        "colab": {
          "base_uri": "https://localhost:8080/"
        },
        "id": "T7ugu7vGYZJU",
        "outputId": "cf53f54b-fc2d-4b5a-aba4-a974961fa837"
      },
      "execution_count": 17,
      "outputs": [
        {
          "output_type": "execute_result",
          "data": {
            "text/plain": [
              "True"
            ]
          },
          "metadata": {},
          "execution_count": 17
        }
      ]
    },
    {
      "cell_type": "code",
      "source": [
        "from torch.utils.data import DataLoader, Dataset\n",
        "\n",
        "class Reviews(Dataset):\n",
        "    def __init__(self, reviews):\n",
        "        super().__init__()\n",
        "        self.reviews = reviews\n",
        "\n",
        "    def __getitem__(self, key):\n",
        "        return self.reviews[\"comments\"].iloc[key], self.reviews.index[key]\n",
        "\n",
        "    def __len__(self):\n",
        "        return len(self.reviews)"
      ],
      "metadata": {
        "id": "XXFncQ3Qu2tc"
      },
      "execution_count": 8,
      "outputs": []
    },
    {
      "cell_type": "code",
      "source": [
        "dataset = Reviews(reviews)\n",
        "dataloader = DataLoader(dataset, batch_size=200)"
      ],
      "metadata": {
        "id": "0xgZzfItwoeN"
      },
      "execution_count": 9,
      "outputs": []
    },
    {
      "cell_type": "markdown",
      "source": [
        "# Detect language and sort by it"
      ],
      "metadata": {
        "id": "b3m2GqEk2O7S"
      }
    },
    {
      "cell_type": "code",
      "source": [
        "# detect language\n",
        "from txtai.pipeline import Translation\n",
        "translate = Translation(batch=200)\n",
        "with torch.no_grad():\n",
        "    for i, (text, id) in enumerate(dataloader):\n",
        "        text = list(text)\n",
        "        try: \n",
        "            if reviews.loc[id, \"lang\"].isnull().values.any():\n",
        "                language = translate.detect(list(text))\n",
        "                reviews.loc[id, \"lang\"] = language\n",
        "        except:\n",
        "          continue\n",
        "        last_id = id[-1]\n",
        "        print(i)"
      ],
      "metadata": {
        "id": "59IVmzub39T5",
        "outputId": "b6e9724d-8b86-4934-8361-2d032da8f810",
        "colab": {
          "base_uri": "https://localhost:8080/"
        }
      },
      "execution_count": 12,
      "outputs": [
        {
          "output_type": "stream",
          "name": "stdout",
          "text": [
            "0\n",
            "1\n",
            "2\n",
            "3\n",
            "4\n",
            "5\n",
            "6\n",
            "7\n",
            "8\n",
            "9\n",
            "10\n",
            "11\n",
            "12\n",
            "13\n",
            "14\n",
            "15\n",
            "16\n",
            "17\n",
            "18\n",
            "19\n",
            "20\n",
            "21\n",
            "22\n",
            "23\n",
            "24\n",
            "25\n",
            "26\n",
            "27\n",
            "28\n",
            "29\n",
            "30\n",
            "31\n",
            "32\n",
            "33\n",
            "34\n",
            "35\n",
            "36\n",
            "37\n",
            "38\n",
            "39\n",
            "40\n",
            "41\n",
            "42\n",
            "43\n",
            "44\n",
            "45\n",
            "46\n",
            "47\n",
            "48\n",
            "49\n",
            "50\n",
            "51\n",
            "52\n",
            "53\n",
            "54\n",
            "55\n",
            "56\n",
            "57\n",
            "58\n",
            "59\n",
            "60\n",
            "61\n",
            "62\n",
            "63\n",
            "64\n",
            "65\n",
            "66\n",
            "67\n",
            "68\n",
            "69\n",
            "70\n",
            "71\n",
            "72\n",
            "73\n",
            "74\n",
            "75\n",
            "76\n",
            "77\n",
            "78\n",
            "79\n",
            "80\n",
            "81\n"
          ]
        }
      ]
    },
    {
      "cell_type": "code",
      "source": [
        "reviews = reviews.sort_values(by=\"lang\")"
      ],
      "metadata": {
        "id": "7CPc007516un"
      },
      "execution_count": 22,
      "outputs": []
    },
    {
      "cell_type": "code",
      "source": [
        "# remove text garbage\t\n",
        "reviews[\"comments_en\"] = reviews[\"comments_en\"].str.replace(\"<.*?>\", \"\")"
      ],
      "metadata": {
        "colab": {
          "base_uri": "https://localhost:8080/"
        },
        "id": "zwr7j9jiaWOA",
        "outputId": "4ee17eca-bbfc-4ff7-a6a5-e201ebcf7ff9"
      },
      "execution_count": 32,
      "outputs": [
        {
          "output_type": "stream",
          "name": "stderr",
          "text": [
            "/usr/local/lib/python3.7/dist-packages/ipykernel_launcher.py:2: FutureWarning: The default value of regex will change from True to False in a future version.\n",
            "  \n"
          ]
        }
      ]
    },
    {
      "cell_type": "code",
      "source": [
        "reviews[\"comments_en\"].iloc[0]"
      ],
      "metadata": {
        "colab": {
          "base_uri": "https://localhost:8080/",
          "height": 70
        },
        "id": "jds8mS7EagLk",
        "outputId": "f4d4885b-2447-4230-d996-4e3c33c880ac"
      },
      "execution_count": 33,
      "outputs": [
        {
          "output_type": "execute_result",
          "data": {
            "application/vnd.google.colaboratory.intrinsic+json": {
              "type": "string"
            },
            "text/plain": [
              "\"My stay at Ralph's place was amazing. Place is great and has everything a Traveler would need. Ralph was a great host and always up to help if needed. Place is spacious and close to public transportation.br/>Raff apartment is wonderful and comfortable. Everything the traveller needs. Ralph was an excellent host.\""
            ]
          },
          "metadata": {},
          "execution_count": 33
        }
      ]
    },
    {
      "cell_type": "code",
      "source": [
        "path = \"/content/drive/MyDrive/Colab/airbnb/munich/reviews_workfile.pickle\"\n",
        "import pandas as pd\n",
        "reviews = pd.read_pickle(path)"
      ],
      "metadata": {
        "id": "SMKcRR7LMn4c"
      },
      "execution_count": 6,
      "outputs": []
    },
    {
      "cell_type": "code",
      "source": [
        "reviews[\"comments\"] = reviews[\"comments\"].fillna(\"no review\")"
      ],
      "metadata": {
        "id": "XjL6WexBrcAZ"
      },
      "execution_count": 37,
      "outputs": []
    },
    {
      "cell_type": "code",
      "source": [
        "reviews.to_pickle(path)"
      ],
      "metadata": {
        "id": "AkDSwm3Qr06-"
      },
      "execution_count": 40,
      "outputs": []
    },
    {
      "cell_type": "markdown",
      "source": [
        "# Translate text"
      ],
      "metadata": {
        "id": "K8u7Df1z2Yi5"
      }
    },
    {
      "cell_type": "code",
      "source": [
        "len(reviews) / 64"
      ],
      "metadata": {
        "id": "diyYp5Ni4Yp3",
        "outputId": "200f2595-a816-4767-8ef7-663499987a23",
        "colab": {
          "base_uri": "https://localhost:8080/"
        }
      },
      "execution_count": 24,
      "outputs": [
        {
          "output_type": "execute_result",
          "data": {
            "text/plain": [
              "298.796875"
            ]
          },
          "metadata": {},
          "execution_count": 24
        }
      ]
    },
    {
      "cell_type": "code",
      "source": [
        "!python script.py"
      ],
      "metadata": {
        "id": "hVai1TD--VTQ",
        "outputId": "400f502b-212e-4e64-816b-110d9b1b86a4",
        "colab": {
          "base_uri": "https://localhost:8080/"
        }
      },
      "execution_count": 1,
      "outputs": [
        {
          "output_type": "stream",
          "name": "stdout",
          "text": [
            "python3: can't open file 'script.py': [Errno 2] No such file or directory\n"
          ]
        }
      ]
    },
    {
      "cell_type": "code",
      "source": [
        "\n",
        "#@title this is script.py\n",
        "from txtai.pipeline import Translation\n",
        "import torch\n",
        "from torch.utils.data import DataLoader, Dataset\n",
        "import pandas as pd\n",
        "\n",
        "# Create translation model\n",
        "translate = Translation(batch=45)\n",
        "\n",
        "path = \"/content/drive/MyDrive/Colab/airbnb/munich/reviews_workfile.pickle\"\n",
        "reviews = pd.read_pickle(path)\n",
        "\n",
        "class Reviews(Dataset):\n",
        "    def __init__(self, reviews):\n",
        "        super().__init__()\n",
        "        self.reviews = reviews\n",
        "\n",
        "    def __getitem__(self, key):\n",
        "        return self.reviews[\"comments\"].iloc[key], self.reviews.index[key]\n",
        "\n",
        "    def __len__(self):\n",
        "        return len(self.reviews)\n",
        "\n",
        "dataset = Reviews(reviews)\n",
        "dataloader = DataLoader(dataset, batch_size=45)\n",
        "\n",
        "\n",
        "with torch.no_grad():\n",
        "    for i, (text, id) in enumerate(dataloader):\n",
        "        text = list(text)\n",
        "        if reviews.loc[id, \"comments_en\"].isnull().values.any():\n",
        "\n",
        "            sourcefinder = reviews.loc[id, \"lang\"].unique()\n",
        "            if len(sourcefinder) > 1:\n",
        "                  print(sourcefinder)\n",
        "                  sourcefinder = None\n",
        "            else:\n",
        "                sourcefinder = sourcefinder[0]\n",
        "                print(i)\n",
        "\n",
        "            translation = translate(list(text), \"en\", source = sourcefinder)\n",
        "            reviews.loc[id, \"comments_en\"] = translation\n",
        "            if i % 1 == 0:\n",
        "                path = \"/content/drive/MyDrive/Colab/airbnb/munich/reviews_workfile.pickle\"\n",
        "                reviews.to_pickle(path)\n",
        "        else:\n",
        "            print(i, \"already done\")\n",
        "\n"
      ],
      "metadata": {
        "cellView": "form",
        "id": "btZmIx1YxTHx",
        "colab": {
          "base_uri": "https://localhost:8080/"
        },
        "outputId": "6f3d7423-19be-43c5-d600-a52332bc384b"
      },
      "execution_count": 5,
      "outputs": [
        {
          "output_type": "stream",
          "name": "stdout",
          "text": [
            "0 already done\n",
            "1 already done\n",
            "2 already done\n",
            "3 already done\n",
            "4 already done\n",
            "5 already done\n",
            "6 already done\n",
            "7 already done\n",
            "8 already done\n",
            "9 already done\n",
            "10 already done\n",
            "11 already done\n",
            "12 already done\n",
            "13 already done\n",
            "14 already done\n",
            "15 already done\n",
            "16 already done\n",
            "17 already done\n",
            "18 already done\n",
            "19 already done\n",
            "20 already done\n",
            "21 already done\n",
            "22 already done\n",
            "23 already done\n",
            "24 already done\n",
            "25 already done\n",
            "26 already done\n",
            "27 already done\n",
            "28 already done\n",
            "29 already done\n",
            "30 already done\n",
            "31 already done\n",
            "32 already done\n",
            "33 already done\n",
            "34 already done\n",
            "35 already done\n",
            "36 already done\n",
            "37 already done\n",
            "38 already done\n",
            "39 already done\n",
            "40 already done\n",
            "41 already done\n",
            "42 already done\n",
            "43 already done\n",
            "44 already done\n",
            "45 already done\n",
            "46 already done\n",
            "47 already done\n",
            "48 already done\n",
            "49 already done\n",
            "50 already done\n",
            "51 already done\n",
            "52 already done\n",
            "53 already done\n",
            "54 already done\n",
            "55 already done\n",
            "56 already done\n",
            "57 already done\n",
            "58 already done\n",
            "59 already done\n",
            "60 already done\n",
            "61 already done\n",
            "62 already done\n",
            "63 already done\n",
            "64 already done\n",
            "65 already done\n",
            "66 already done\n",
            "67 already done\n",
            "68 already done\n",
            "69 already done\n",
            "70 already done\n",
            "71 already done\n",
            "72 already done\n",
            "73 already done\n",
            "74 already done\n",
            "75 already done\n",
            "76 already done\n",
            "77 already done\n",
            "78 already done\n",
            "79 already done\n",
            "80 already done\n",
            "81 already done\n",
            "82 already done\n",
            "83 already done\n",
            "84 already done\n",
            "85 already done\n",
            "86 already done\n",
            "87 already done\n",
            "88 already done\n",
            "89 already done\n",
            "90 already done\n",
            "91 already done\n",
            "92 already done\n",
            "93 already done\n",
            "94 already done\n",
            "95 already done\n",
            "96 already done\n",
            "97 already done\n",
            "98 already done\n",
            "99 already done\n",
            "100 already done\n",
            "101 already done\n",
            "102 already done\n",
            "103 already done\n",
            "104 already done\n",
            "105 already done\n",
            "106 already done\n",
            "107 already done\n",
            "108 already done\n",
            "109 already done\n",
            "110 already done\n",
            "111 already done\n",
            "112 already done\n",
            "113 already done\n",
            "114 already done\n",
            "115 already done\n",
            "116 already done\n",
            "117 already done\n",
            "118 already done\n",
            "119 already done\n",
            "120 already done\n",
            "121 already done\n",
            "122 already done\n",
            "123 already done\n",
            "124 already done\n",
            "125 already done\n",
            "126 already done\n",
            "127 already done\n",
            "128 already done\n",
            "129 already done\n",
            "130 already done\n",
            "131 already done\n",
            "132 already done\n",
            "133 already done\n",
            "134 already done\n",
            "135 already done\n",
            "136 already done\n",
            "137 already done\n",
            "138 already done\n",
            "139 already done\n",
            "140 already done\n",
            "141 already done\n",
            "142 already done\n",
            "143 already done\n",
            "144 already done\n",
            "145 already done\n",
            "146 already done\n",
            "147 already done\n",
            "148 already done\n",
            "149 already done\n",
            "150 already done\n",
            "151 already done\n",
            "152 already done\n",
            "153 already done\n",
            "154 already done\n",
            "155 already done\n",
            "156 already done\n",
            "157 already done\n",
            "158 already done\n",
            "159 already done\n",
            "160 already done\n",
            "161 already done\n",
            "162 already done\n",
            "163 already done\n",
            "164 already done\n",
            "165 already done\n",
            "166 already done\n",
            "167 already done\n",
            "168 already done\n",
            "169 already done\n",
            "170 already done\n",
            "171 already done\n",
            "172 already done\n",
            "173 already done\n",
            "174 already done\n",
            "175 already done\n",
            "176 already done\n",
            "177 already done\n",
            "178 already done\n",
            "179 already done\n",
            "180 already done\n",
            "181 already done\n",
            "182 already done\n",
            "183 already done\n",
            "184 already done\n",
            "185 already done\n",
            "186 already done\n",
            "187 already done\n",
            "188 already done\n",
            "189 already done\n",
            "190 already done\n",
            "191 already done\n",
            "192 already done\n",
            "193 already done\n",
            "194 already done\n",
            "195 already done\n",
            "196 already done\n",
            "197 already done\n",
            "198 already done\n",
            "199 already done\n",
            "200 already done\n",
            "201 already done\n",
            "202 already done\n",
            "203 already done\n",
            "204 already done\n",
            "205 already done\n",
            "206 already done\n",
            "207 already done\n",
            "208 already done\n",
            "209 already done\n",
            "210 already done\n",
            "211 already done\n",
            "212 already done\n",
            "213 already done\n",
            "214 already done\n",
            "215 already done\n",
            "216 already done\n",
            "217 already done\n",
            "218 already done\n",
            "219 already done\n",
            "220 already done\n",
            "221 already done\n",
            "222 already done\n",
            "223 already done\n",
            "224 already done\n",
            "225 already done\n",
            "226 already done\n",
            "227 already done\n",
            "228 already done\n",
            "229 already done\n",
            "230 already done\n",
            "231 already done\n",
            "232 already done\n",
            "233 already done\n",
            "234 already done\n",
            "235 already done\n",
            "236 already done\n",
            "237 already done\n",
            "238 already done\n",
            "239 already done\n",
            "240 already done\n",
            "241 already done\n",
            "242 already done\n",
            "243 already done\n",
            "244 already done\n",
            "245 already done\n",
            "246 already done\n",
            "247 already done\n",
            "248 already done\n",
            "249 already done\n",
            "250 already done\n",
            "251 already done\n",
            "252 already done\n",
            "253 already done\n",
            "254 already done\n",
            "255 already done\n",
            "256 already done\n",
            "257 already done\n",
            "258 already done\n",
            "259 already done\n",
            "260 already done\n",
            "261 already done\n",
            "262 already done\n",
            "263 already done\n",
            "264 already done\n",
            "265 already done\n",
            "266 already done\n",
            "267 already done\n",
            "268 already done\n",
            "269 already done\n",
            "270 already done\n",
            "271 already done\n",
            "272 already done\n",
            "273 already done\n",
            "274 already done\n",
            "275 already done\n",
            "276 already done\n",
            "277 already done\n",
            "278 already done\n",
            "279 already done\n",
            "280 already done\n",
            "281 already done\n",
            "282 already done\n",
            "283 already done\n",
            "284 already done\n",
            "285 already done\n",
            "286 already done\n",
            "287 already done\n",
            "288 already done\n",
            "289 already done\n",
            "290 already done\n",
            "291 already done\n",
            "292 already done\n",
            "293 already done\n",
            "294 already done\n",
            "295 already done\n",
            "296 already done\n",
            "297 already done\n",
            "298 already done\n",
            "299 already done\n",
            "300 already done\n",
            "301 already done\n",
            "302 already done\n",
            "303 already done\n",
            "304 already done\n",
            "305 already done\n",
            "306 already done\n",
            "307 already done\n",
            "308 already done\n",
            "309 already done\n",
            "310 already done\n",
            "311 already done\n",
            "312 already done\n",
            "313 already done\n",
            "314 already done\n",
            "315 already done\n",
            "316 already done\n",
            "317 already done\n",
            "318 already done\n",
            "319 already done\n",
            "320 already done\n",
            "321 already done\n",
            "322 already done\n",
            "323 already done\n",
            "324 already done\n",
            "325 already done\n",
            "326 already done\n",
            "327 already done\n",
            "328 already done\n",
            "329 already done\n",
            "330 already done\n",
            "331 already done\n",
            "332 already done\n",
            "333 already done\n",
            "334 already done\n",
            "335 already done\n",
            "336 already done\n",
            "337 already done\n",
            "338 already done\n",
            "339 already done\n",
            "340 already done\n",
            "341 already done\n",
            "342 already done\n",
            "343 already done\n",
            "344 already done\n",
            "345 already done\n",
            "346 already done\n",
            "347 already done\n",
            "348 already done\n",
            "349 already done\n",
            "350 already done\n",
            "351 already done\n",
            "352 already done\n",
            "353 already done\n",
            "354 already done\n",
            "355 already done\n",
            "356 already done\n",
            "357 already done\n",
            "358 already done\n",
            "359 already done\n",
            "360 already done\n",
            "361 already done\n",
            "362 already done\n",
            "363 already done\n",
            "364 already done\n",
            "365 already done\n",
            "366 already done\n",
            "367 already done\n",
            "368 already done\n",
            "369 already done\n",
            "370 already done\n",
            "371 already done\n",
            "372 already done\n",
            "373 already done\n",
            "374 already done\n",
            "375 already done\n",
            "376 already done\n",
            "377 already done\n",
            "378 already done\n",
            "379 already done\n",
            "380 already done\n",
            "381 already done\n",
            "382 already done\n",
            "383 already done\n",
            "384 already done\n",
            "385 already done\n",
            "386 already done\n",
            "387 already done\n",
            "388 already done\n",
            "389 already done\n",
            "390 already done\n",
            "391 already done\n",
            "392 already done\n",
            "393 already done\n",
            "394 already done\n",
            "395 already done\n",
            "396 already done\n",
            "397 already done\n",
            "398 already done\n",
            "399 already done\n",
            "400 already done\n",
            "401 already done\n",
            "402 already done\n",
            "403 already done\n",
            "404 already done\n",
            "405 already done\n",
            "406 already done\n",
            "407 already done\n",
            "408 already done\n",
            "409 already done\n",
            "410 already done\n",
            "411 already done\n",
            "412 already done\n",
            "413 already done\n",
            "414 already done\n",
            "415 already done\n",
            "416 already done\n",
            "417 already done\n",
            "418 already done\n",
            "419 already done\n",
            "420 already done\n",
            "421 already done\n",
            "422 already done\n",
            "423 already done\n",
            "424 already done\n"
          ]
        }
      ]
    },
    {
      "cell_type": "code",
      "source": [
        "path = \"/content/reviews_save\"\n",
        "reviews = pd.read_pickle(path)"
      ],
      "metadata": {
        "id": "oiO0Nz-C-j0i"
      },
      "execution_count": null,
      "outputs": []
    },
    {
      "cell_type": "code",
      "source": [
        "path = \"/content/drive/MyDrive/Colab/airbnb/munich/translated_reviews.pickle\"\n",
        "reviews.to_pickle(path)"
      ],
      "metadata": {
        "id": "6Aa14-GR3Iir"
      },
      "execution_count": 7,
      "outputs": []
    }
  ],
  "metadata": {
    "colab": {
      "name": "scratchpad",
      "provenance": [],
      "include_colab_link": true
    },
    "kernelspec": {
      "display_name": "Python 3",
      "name": "python3"
    },
    "accelerator": "GPU"
  },
  "nbformat": 4,
  "nbformat_minor": 0
}