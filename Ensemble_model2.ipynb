{
  "cells": [
    {
      "cell_type": "markdown",
      "metadata": {
        "id": "view-in-github",
        "colab_type": "text"
      },
      "source": [
        "<a href=\"https://colab.research.google.com/github/dernameistegal/airbnb_price/blob/main/Ensemble_model2.ipynb\" target=\"_parent\"><img src=\"https://colab.research.google.com/assets/colab-badge.svg\" alt=\"Open In Colab\"/></a>"
      ]
    },
    {
      "cell_type": "markdown",
      "source": [
        "#Model Descriptions"
      ],
      "metadata": {
        "id": "XlqDyKsuVdCa"
      }
    },
    {
      "cell_type": "code",
      "source": [
        "!rm -r airbnb_price"
      ],
      "metadata": {
        "id": "MzNY5F9pjBYs"
      },
      "execution_count": 1,
      "outputs": []
    },
    {
      "cell_type": "code",
      "source": [
        "!git clone https://github.com/dernameistegal/airbnb_price.git"
      ],
      "metadata": {
        "colab": {
          "base_uri": "https://localhost:8080/"
        },
        "id": "LPxhl9jSVd1z",
        "outputId": "93b19c9d-0c86-4ab5-c469-1ef5974d2891"
      },
      "execution_count": 2,
      "outputs": [
        {
          "output_type": "stream",
          "name": "stdout",
          "text": [
            "Cloning into 'airbnb_price'...\n",
            "remote: Enumerating objects: 1230, done.\u001b[K\n",
            "remote: Counting objects: 100% (1230/1230), done.\u001b[K\n",
            "remote: Compressing objects: 100% (1162/1162), done.\u001b[K\n",
            "remote: Total 1230 (delta 741), reused 318 (delta 58), pack-reused 0\u001b[K\n",
            "Receiving objects: 100% (1230/1230), 10.38 MiB | 11.19 MiB/s, done.\n",
            "Resolving deltas: 100% (741/741), done.\n"
          ]
        }
      ]
    },
    {
      "cell_type": "code",
      "source": [
        "#@title also import libraries\n",
        "%cd airbnb_price\n",
        "import sys\n",
        "sys.path.append(\"/content/airbnb_price/custom_functions\")\n",
        "sys.path.append(\"/content/airbnb_price/models\")\n",
        "from ensemble_model import EnsembleModel2, EnsembleDataset2\n",
        "import train_ensemble2 as train\n",
        "import general_utils as ut\n",
        "device = ut.get_device()\n",
        "!mkdir -p /content/checkpoints/"
      ],
      "metadata": {
        "colab": {
          "base_uri": "https://localhost:8080/"
        },
        "id": "c1rK8zOtVoMG",
        "outputId": "32737b9a-52bc-466e-92a5-97ad46425ef4",
        "cellView": "form"
      },
      "execution_count": 3,
      "outputs": [
        {
          "output_type": "stream",
          "name": "stdout",
          "text": [
            "/content/airbnb_price\n"
          ]
        },
        {
          "output_type": "stream",
          "name": "stderr",
          "text": [
            "/usr/local/lib/python3.7/dist-packages/torch/cuda/amp/grad_scaler.py:115: UserWarning: torch.cuda.amp.GradScaler is enabled, but CUDA is not available.  Disabling.\n",
            "  warnings.warn(\"torch.cuda.amp.GradScaler is enabled, but CUDA is not available.  Disabling.\")\n"
          ]
        },
        {
          "output_type": "stream",
          "name": "stdout",
          "text": [
            "cuda available: False ; cudnn available: True ; num devices: 0\n",
            "Using device cpu\n"
          ]
        }
      ]
    },
    {
      "cell_type": "code",
      "execution_count": 4,
      "metadata": {
        "id": "it5JOetS6sgI",
        "colab": {
          "base_uri": "https://localhost:8080/"
        },
        "outputId": "95c93026-ce83-47eb-f109-7fff342f4a8c",
        "cellView": "form"
      },
      "outputs": [
        {
          "output_type": "stream",
          "name": "stdout",
          "text": [
            "Mounted at /content/drive\n"
          ]
        }
      ],
      "source": [
        "#@title Import libraries\n",
        "import numpy as np\n",
        "import pandas as pd\n",
        "import seaborn as sns\n",
        "import matplotlib.pyplot as plt\n",
        "from tqdm import tqdm\n",
        "import fastprogress\n",
        "from sklearn.model_selection import train_test_split\n",
        "from torch.utils.data import TensorDataset, DataLoader\n",
        "import torch.nn as nn\n",
        "import torch\n",
        "from torch.nn import CrossEntropyLoss\n",
        "import torch.nn.functional as F\n",
        "import json\n",
        "from scipy.stats.stats import pearsonr\n",
        "import matplotlib.pyplot as plt\n",
        "\n",
        "from google.colab import drive\n",
        "drive.mount('/content/drive', force_remount=True)"
      ]
    },
    {
      "cell_type": "markdown",
      "metadata": {
        "id": "hu-hKzYgFvZJ"
      },
      "source": [
        "# Data Loading"
      ]
    },
    {
      "cell_type": "code",
      "source": [
        "desc = pd.read_pickle(\"/content/drive/MyDrive/Colab/airbnb/data/embeddings/descriptions.pickle\")\n",
        "rev = pd.read_pickle(\"/content/drive/MyDrive/Colab/airbnb/data/embeddings/reviews.pickle\")\n",
        "thumb = pd.read_pickle(\"/content/drive/MyDrive/Colab/airbnb/data/embeddings/thumbnails.pickle\")\n",
        "features = pd.read_pickle(\"/content/drive/MyDrive/Colab/airbnb/data/data1/listings_embeddedcats.pickle\")\n",
        "with open(\"/content/drive/MyDrive/Colab/airbnb/data/data1/catdict.json\", \"r\") as f:\n",
        "    catlist = json.load(f)"
      ],
      "metadata": {
        "id": "g5YLN7M0rNDa"
      },
      "execution_count": 151,
      "outputs": []
    },
    {
      "cell_type": "code",
      "source": [
        "# if you want to set desc, rev and thumb to zero for performance comparison, run this chunk\n",
        "\n",
        "# for i in range(len(desc)):\n",
        "#     desc.iloc[i] = [0 for i in range(len(desc.iloc[0]))]\n",
        "\n",
        "# for i in range(len(rev)):\n",
        "#     rev.iloc[i] = [0 for i in range(len(rev.iloc[0]))]\n",
        "\n",
        "# for i in range(len(thumb)):\n",
        "#     thumb.iloc[i] = [0 for i in range(len(thumb.iloc[0]))]"
      ],
      "metadata": {
        "id": "De9fLstPb1HD"
      },
      "execution_count": 152,
      "outputs": []
    },
    {
      "cell_type": "code",
      "source": [
        "# if you want to exclude columns in training, run this chunk\n",
        "\n",
        "features = features.drop([\"calculated_host_listings_count_private_rooms\", \"calculated_host_listings_count_entire_homes\", \"calculated_host_listings_count\", \"longitude\", \"latitude\", \"neighbourhood_cleansed\"], axis=1)\n",
        "dropset = set([\"calculated_host_listings_count_private_rooms\", \"calculated_host_listings_count_entire_homes\", \"calculated_host_listings_count\", \"longitude\", \"latitude\", \"neighbourhood_cleansed\"])"
      ],
      "metadata": {
        "id": "n_EKZHDpPU1n"
      },
      "execution_count": 153,
      "outputs": []
    },
    {
      "cell_type": "code",
      "source": [
        "logprice = features[\"log_price\"]"
      ],
      "metadata": {
        "id": "5VYs2MOuhUV-"
      },
      "execution_count": 154,
      "outputs": []
    },
    {
      "cell_type": "code",
      "source": [
        "selected_features = np.load(\"/content/drive/MyDrive/Colab/airbnb/data/feature_selection/selected_features2.npy\", allow_pickle=True)\n",
        "selected_features = (set(selected_features) & set(features.columns)) | (set(['neighbourhood_cleansed', 'property_type', 'room_type', 'lang']) - dropset)\n",
        "features = features[selected_features]"
      ],
      "metadata": {
        "id": "83GSXtmPcYSB"
      },
      "execution_count": 155,
      "outputs": []
    },
    {
      "cell_type": "code",
      "source": [
        "desc = pd.DataFrame(desc)\n",
        "thumb = pd.DataFrame(thumb)\n",
        "rev = pd.DataFrame(rev)\n",
        "logprice = pd.DataFrame(logprice)"
      ],
      "metadata": {
        "id": "EzRmzUm9x_yN"
      },
      "execution_count": 156,
      "outputs": []
    },
    {
      "cell_type": "code",
      "source": [
        "data = pd.concat([thumb, desc, rev, features, logprice], axis=1)"
      ],
      "metadata": {
        "id": "gUduHBgwrgG0"
      },
      "execution_count": 157,
      "outputs": []
    },
    {
      "cell_type": "markdown",
      "source": [
        "# define which of the (possibly 7) data columns are treated as categories"
      ],
      "metadata": {
        "id": "T0GvHOX43pOk"
      }
    },
    {
      "cell_type": "code",
      "source": [
        "# choose to exclude some columns from the cat_cols\n",
        "cat_cols_regular = ['neighbourhood_cleansed', \n",
        "                    'property_type', \n",
        "                    'room_type', \n",
        "                    'lang', \n",
        "                    \"availability_30\", \n",
        "                    \"accommodates\", \n",
        "                    \"bedrooms\"]\n",
        "\n",
        "cat_cols_exclude = [#'neighbourhood_cleansed', \n",
        "                    #'property_type', \n",
        "                    #'room_type', \n",
        "                    #'lang', \n",
        "                    #\"availability_30\", \n",
        "                    \"accommodates\", \n",
        "                    \"bedrooms\"\n",
        "                    ]\n",
        "\n",
        "\n",
        "cat_cols = cat_cols_regular.copy()\n",
        "for x in cat_cols_exclude:\n",
        "    cat_cols.remove(x)\n",
        "\n",
        "rm_list = []\n",
        "for i, col in enumerate(cat_cols_regular):\n",
        "    if col in set(cat_cols_exclude):\n",
        "        rm_list.append(i)\n",
        "\n",
        "for i in rm_list[::-1]:\n",
        "    del catlist[i]\n",
        "\n",
        "to_replace = pd.read_pickle(\"/content/drive/MyDrive/Colab/airbnb/data/data1/listings_workfile.pickle\")\n",
        "\n",
        "if \"neighbourhood_cleansed\" in cat_cols_exclude:\n",
        "    cat_cols_exclude.remove(\"neighbourhood_cleansed\")\n",
        "    data.loc[:, \"neighbourhood_cleansed_Simmering\"] = to_replace[\"neighbourhood_cleansed_Simmering\"]\n",
        "    data.loc[:, \"neighbourhood_cleansed_Brigittenau\"] = to_replace[\"neighbourhood_cleansed_Brigittenau\"]\n",
        "    data.loc[:, \"neighbourhood_cleansed_Ottakring\"] =  to_replace[\"neighbourhood_cleansed_Ottakring\"]\n",
        "    data.loc[:, \"neighbourhood_cleansed_W\\x8ahring\"] =  to_replace[\"neighbourhood_cleansed_W\\x8ahring\"]\n",
        "    data.loc[:, \"neighbourhood_cleansed_Wieden\"] =  to_replace[\"neighbourhood_cleansed_Wieden\"]\n",
        "    data.loc[:, \"neighbourhood_cleansed_Hietzing\"] =  to_replace[\"neighbourhood_cleansed_Hietzing\"]\n",
        "    data.loc[:, \"neighbourhood_cleansed_Innere Stadt\"] =  to_replace[\"neighbourhood_cleansed_Innere Stadt\"]\n",
        "    data = data.drop(\"neighbourhood_cleansed\", axis=1)\n",
        "\n",
        "if \"property_type\" in cat_cols_exclude:\n",
        "    cat_cols_exclude.remove(\"property_type\")\n",
        "    data.loc[:, \"property_type_shared_room\"] =  to_replace[\"property_type_shared_room\"]\n",
        "    data.loc[:, \"property_type_private_room\"] =  to_replace[\"property_type_private_room\"]\n",
        "    data = data.drop(\"property_type\", axis=1)\n",
        "\n",
        "if \"room_type\" in cat_cols_exclude:\n",
        "    cat_cols_exclude.remove(\"room_type\")\n",
        "    data.loc[:, \"room_Private room\"] =  to_replace[\"room_Private room\"]\n",
        "    data.loc[:, \"room_Shared room\"] =  to_replace[\"room_Shared room\"]   \n",
        "    data = data.drop(\"room_type\", axis=1)\n",
        "\n",
        "if \"lang\" in cat_cols_exclude:\n",
        "    cat_cols_exclude.remove(\"lang\")\n",
        "    data = data.drop(\"lang\", axis=1)\n",
        "\n",
        "data.loc[:, cat_cols_exclude] = to_replace[cat_cols_exclude]"
      ],
      "metadata": {
        "id": "YOSpxARL4FRQ"
      },
      "execution_count": 158,
      "outputs": []
    },
    {
      "cell_type": "code",
      "source": [
        "train_ids, val_ids, test_ids = ut.train_val_test_split(data.index)\n",
        "traindf, valdf, testdf = data.loc[train_ids], data.loc[val_ids], data.loc[test_ids]"
      ],
      "metadata": {
        "id": "rdLu5CuEsLPz"
      },
      "execution_count": 159,
      "outputs": []
    },
    {
      "cell_type": "markdown",
      "metadata": {
        "id": "NaSTkvQca3or"
      },
      "source": [
        "## Create DataLoader"
      ]
    },
    {
      "cell_type": "code",
      "source": [
        "# if you want to remove something from catcols and catlist, run this\n",
        "del cat_cols[0]\n",
        "del catlist[0]"
      ],
      "metadata": {
        "id": "D2E5iJiDVKsg"
      },
      "execution_count": 161,
      "outputs": []
    },
    {
      "cell_type": "code",
      "execution_count": 162,
      "metadata": {
        "id": "7my-m1Zt75Zp"
      },
      "outputs": [],
      "source": [
        "# TODO\n",
        "# create dataloaders\n",
        "trainset = EnsembleDataset2(traindf, [\"thumbnails\"], [\"descriptions\"], [\"reviews\"], cat_cols, [\"log_price\"])\n",
        "valset = EnsembleDataset2(valdf, [\"thumbnails\"], [\"descriptions\"], [\"reviews\"], cat_cols, [\"log_price\"])\n",
        "testset = EnsembleDataset2(testdf, [\"thumbnails\"], [\"descriptions\"], [\"reviews\"], cat_cols, [\"log_price\"])\n",
        "\n",
        "b = 128\n",
        "trainloader = DataLoader(trainset, shuffle=True, num_workers=2, batch_size=b)\n",
        "valloader = DataLoader(valset, shuffle=False, num_workers=2, batch_size=b)\n",
        "testloader = DataLoader(testset, shuffle=False, num_workers=2, batch_size=b)"
      ]
    },
    {
      "cell_type": "markdown",
      "metadata": {
        "id": "8vuwkaCRkYLL"
      },
      "source": [
        "\n",
        "#Training\n"
      ]
    },
    {
      "cell_type": "code",
      "source": [
        "no_of_thumb = 100\n",
        "no_of_desc = 100\n",
        "no_of_rev = 100\n",
        "no_of_cont = len(traindf.columns) - 3 - 1 - len(catlist)  # -3 for thumb, desc and rev, -1 for price, last term to subtract cat cols\n",
        "cat_emb_dims = [(len(x), 16) for x in catlist]\n",
        "lin_layer_sizes = [512, 512, 512, 512, 512, 512]"
      ],
      "metadata": {
        "id": "VkLI1Brf2cZA"
      },
      "execution_count": 163,
      "outputs": []
    },
    {
      "cell_type": "code",
      "source": [
        "model = EnsembleModel2(no_of_thumb=no_of_thumb, no_of_desc=no_of_desc, no_of_rev=no_of_rev, no_of_cont=no_of_cont,\n",
        "                       cat_emb_dims=cat_emb_dims, lin_layer_sizes=lin_layer_sizes, thumb_dropout=0.5, desc_dropout=0.5,\n",
        "                       rev_dropout=0.5, cont_dropout=0, cat_dropout=0, linear_layer_dropout=[0, 0, 0], bn_layers=False)\n",
        "model = model.to(device)\n",
        "loss_fn = torch.nn.MSELoss()\n",
        "optimizer = torch.optim.Adam(model.parameters(), lr=1e-3, weight_decay=1e-4)\n",
        "scheduler = torch.optim.lr_scheduler.LambdaLR(optimizer, lr_lambda = lambda epoch: 0.1 ** (epoch // 15), last_epoch=- 1, verbose=True)\n",
        "result = train.run_training(model, optimizer, loss_fn, device, 40, trainloader, \n",
        "                            valloader, verbose=True, ntrain=500, nval=200, scheduler=scheduler, savefolder=\"munich_\")"
      ],
      "metadata": {
        "id": "nXfkQU-21cI3",
        "outputId": "16479eb7-890c-4752-d756-3f88581ec8cd",
        "colab": {
          "base_uri": "https://localhost:8080/",
          "height": 1000
        }
      },
      "execution_count": 164,
      "outputs": [
        {
          "output_type": "stream",
          "name": "stdout",
          "text": [
            "Adjusting learning rate of group 0 to 1.0000e-03.\n"
          ]
        },
        {
          "output_type": "display_data",
          "data": {
            "text/html": [
              "Epoch: 0, Train loss: 1.08, val loss: 0.23, train rmse: 1.041, val rmse 0.478<p>Epoch: 1, Train loss: 0.21, val loss: 0.19, train rmse: 0.455, val rmse 0.433<p>Epoch: 2, Train loss: 0.19, val loss: 0.20, train rmse: 0.434, val rmse 0.451<p>Epoch: 3, Train loss: 0.20, val loss: 0.18, train rmse: 0.443, val rmse 0.428<p>Epoch: 4, Train loss: 0.18, val loss: 0.18, train rmse: 0.424, val rmse 0.426<p>Epoch: 5, Train loss: 0.16, val loss: 0.18, train rmse: 0.406, val rmse 0.427<p>Epoch: 6, Train loss: 0.18, val loss: 0.20, train rmse: 0.420, val rmse 0.445<p>Epoch: 7, Train loss: 0.17, val loss: 0.18, train rmse: 0.413, val rmse 0.420<p>Epoch: 8, Train loss: 0.16, val loss: 0.23, train rmse: 0.395, val rmse 0.484<p>Epoch: 9, Train loss: 0.16, val loss: 0.19, train rmse: 0.396, val rmse 0.432<p>Epoch: 10, Train loss: 0.16, val loss: 0.19, train rmse: 0.398, val rmse 0.433<p>Epoch: 11, Train loss: 0.14, val loss: 0.20, train rmse: 0.377, val rmse 0.448<p>Epoch: 12, Train loss: 0.14, val loss: 0.18, train rmse: 0.374, val rmse 0.422<p>Epoch: 13, Train loss: 0.14, val loss: 0.21, train rmse: 0.372, val rmse 0.456<p>Epoch: 14, Train loss: 0.15, val loss: 0.20, train rmse: 0.384, val rmse 0.445<p>Epoch: 15, Train loss: 0.13, val loss: 0.17, train rmse: 0.361, val rmse 0.414<p>Epoch: 16, Train loss: 0.12, val loss: 0.18, train rmse: 0.352, val rmse 0.420<p>Epoch: 17, Train loss: 0.12, val loss: 0.18, train rmse: 0.349, val rmse 0.423<p>Epoch: 18, Train loss: 0.12, val loss: 0.17, train rmse: 0.347, val rmse 0.417<p>Epoch: 19, Train loss: 0.12, val loss: 0.17, train rmse: 0.345, val rmse 0.413<p>Epoch: 20, Train loss: 0.12, val loss: 0.17, train rmse: 0.350, val rmse 0.416<p>Epoch: 21, Train loss: 0.12, val loss: 0.17, train rmse: 0.349, val rmse 0.409<p>Epoch: 22, Train loss: 0.12, val loss: 0.17, train rmse: 0.348, val rmse 0.411<p>Epoch: 23, Train loss: 0.12, val loss: 0.17, train rmse: 0.346, val rmse 0.410<p>Epoch: 24, Train loss: 0.12, val loss: 0.18, train rmse: 0.346, val rmse 0.421<p>Epoch: 25, Train loss: 0.12, val loss: 0.17, train rmse: 0.345, val rmse 0.415<p>Epoch: 26, Train loss: 0.12, val loss: 0.17, train rmse: 0.344, val rmse 0.412<p>Epoch: 27, Train loss: 0.12, val loss: 0.18, train rmse: 0.347, val rmse 0.419<p>Epoch: 28, Train loss: 0.12, val loss: 0.17, train rmse: 0.339, val rmse 0.412<p>Epoch: 29, Train loss: 0.12, val loss: 0.18, train rmse: 0.346, val rmse 0.420<p>Epoch: 30, Train loss: 0.12, val loss: 0.17, train rmse: 0.340, val rmse 0.418<p>Epoch: 31, Train loss: 0.11, val loss: 0.17, train rmse: 0.337, val rmse 0.415<p>Epoch: 32, Train loss: 0.11, val loss: 0.17, train rmse: 0.338, val rmse 0.417<p>Epoch: 33, Train loss: 0.11, val loss: 0.17, train rmse: 0.335, val rmse 0.416<p>Epoch: 34, Train loss: 0.11, val loss: 0.17, train rmse: 0.338, val rmse 0.418<p>Epoch: 35, Train loss: 0.12, val loss: 0.18, train rmse: 0.339, val rmse 0.419<p>Epoch: 36, Train loss: 0.12, val loss: 0.17, train rmse: 0.340, val rmse 0.418<p>Epoch: 37, Train loss: 0.11, val loss: 0.17, train rmse: 0.338, val rmse 0.418<p>Epoch: 38, Train loss: 0.12, val loss: 0.18, train rmse: 0.340, val rmse 0.419<p>Epoch: 39, Train loss: 0.12, val loss: 0.17, train rmse: 0.340, val rmse 0.418"
            ],
            "text/plain": [
              "<IPython.core.display.HTML object>"
            ]
          },
          "metadata": {}
        },
        {
          "output_type": "stream",
          "name": "stderr",
          "text": [
            "/usr/local/lib/python3.7/dist-packages/torch/autocast_mode.py:141: UserWarning: User provided device_type of 'cuda', but CUDA is not available. Disabling\n",
            "  warnings.warn('User provided device_type of \\'cuda\\', but CUDA is not available. Disabling')\n"
          ]
        },
        {
          "output_type": "stream",
          "name": "stdout",
          "text": [
            "saving model...\n",
            "Adjusting learning rate of group 0 to 1.0000e-03.\n",
            "saving model...\n",
            "Adjusting learning rate of group 0 to 1.0000e-03.\n",
            "Adjusting learning rate of group 0 to 1.0000e-03.\n",
            "saving model...\n",
            "Adjusting learning rate of group 0 to 1.0000e-03.\n",
            "saving model...\n",
            "Adjusting learning rate of group 0 to 1.0000e-03.\n",
            "Adjusting learning rate of group 0 to 1.0000e-03.\n",
            "Adjusting learning rate of group 0 to 1.0000e-03.\n",
            "saving model...\n",
            "Adjusting learning rate of group 0 to 1.0000e-03.\n",
            "Adjusting learning rate of group 0 to 1.0000e-03.\n",
            "Adjusting learning rate of group 0 to 1.0000e-03.\n",
            "Adjusting learning rate of group 0 to 1.0000e-03.\n",
            "Adjusting learning rate of group 0 to 1.0000e-03.\n",
            "Adjusting learning rate of group 0 to 1.0000e-03.\n",
            "Adjusting learning rate of group 0 to 1.0000e-03.\n",
            "Adjusting learning rate of group 0 to 1.0000e-04.\n",
            "saving model...\n",
            "Adjusting learning rate of group 0 to 1.0000e-04.\n",
            "Adjusting learning rate of group 0 to 1.0000e-04.\n",
            "Adjusting learning rate of group 0 to 1.0000e-04.\n",
            "Adjusting learning rate of group 0 to 1.0000e-04.\n",
            "saving model...\n",
            "Adjusting learning rate of group 0 to 1.0000e-04.\n",
            "Adjusting learning rate of group 0 to 1.0000e-04.\n",
            "saving model...\n",
            "Adjusting learning rate of group 0 to 1.0000e-04.\n",
            "Adjusting learning rate of group 0 to 1.0000e-04.\n",
            "Adjusting learning rate of group 0 to 1.0000e-04.\n",
            "Adjusting learning rate of group 0 to 1.0000e-04.\n",
            "Adjusting learning rate of group 0 to 1.0000e-04.\n",
            "Adjusting learning rate of group 0 to 1.0000e-04.\n",
            "Adjusting learning rate of group 0 to 1.0000e-04.\n",
            "Adjusting learning rate of group 0 to 1.0000e-04.\n",
            "Adjusting learning rate of group 0 to 1.0000e-05.\n",
            "Adjusting learning rate of group 0 to 1.0000e-05.\n",
            "Adjusting learning rate of group 0 to 1.0000e-05.\n",
            "Adjusting learning rate of group 0 to 1.0000e-05.\n",
            "Adjusting learning rate of group 0 to 1.0000e-05.\n",
            "Adjusting learning rate of group 0 to 1.0000e-05.\n",
            "Adjusting learning rate of group 0 to 1.0000e-05.\n",
            "Adjusting learning rate of group 0 to 1.0000e-05.\n",
            "Adjusting learning rate of group 0 to 1.0000e-05.\n",
            "Adjusting learning rate of group 0 to 1.0000e-05.\n",
            "Adjusting learning rate of group 0 to 1.0000e-05.\n",
            "Finished training after 138 seconds.\n"
          ]
        }
      ]
    },
    {
      "cell_type": "markdown",
      "source": [
        "# Evaluation of final model"
      ],
      "metadata": {
        "id": "pulBx8YibrAp"
      }
    },
    {
      "cell_type": "code",
      "source": [
        "model = EnsembleModel2(no_of_thumb=no_of_thumb, no_of_desc=no_of_desc, no_of_rev=no_of_rev, no_of_cont=no_of_cont,\n",
        "                       cat_emb_dims=cat_emb_dims, lin_layer_sizes=lin_layer_sizes, thumb_dropout=0.5, desc_dropout=0.5,\n",
        "                       rev_dropout=0.5, cont_dropout=0, cat_dropout=0, linear_layer_dropout=[0, 0, 0], bn_layers=False)\n",
        "\n",
        "# load statedict and model performances\n",
        "savefolder = \"test3\"\n",
        "state_dict = torch.load(\"/content/drive/MyDrive/Colab/airbnb/data/model_performance/\" + savefolder + \"/checkpoint.pt\")\n",
        "model.load_state_dict(state_dict)\n",
        "train_rmse = np.load(\"/content/drive/MyDrive/Colab/airbnb/data/model_performance/\" + savefolder + \"/trainloss.npy\")\n",
        "val_rmse = np.load(\"/content/drive/MyDrive/Colab/airbnb/data/model_performance/\" + savefolder + \"/valloss.npy\")"
      ],
      "metadata": {
        "id": "sP0XfRbdv0Qs"
      },
      "execution_count": null,
      "outputs": []
    },
    {
      "cell_type": "code",
      "source": [
        "# plot train and test\n",
        "ut.plot(\"RMSE\", \"RMSE\", train_rmse, val_rmse, yscale='linear')"
      ],
      "metadata": {
        "id": "D9TgHotkyidp",
        "outputId": "45cff247-6bb2-4689-feef-fec484441d17",
        "colab": {
          "base_uri": "https://localhost:8080/",
          "height": 303
        }
      },
      "execution_count": null,
      "outputs": [
        {
          "output_type": "display_data",
          "data": {
            "image/png": "[encoded data removed]",
            "text/plain": [
              "<Figure size 360x288 with 1 Axes>"
            ]
          },
          "metadata": {}
        }
      ]
    },
    {
      "cell_type": "code",
      "source": [
        "# show correlation\n",
        "ypreds = []\n",
        "ys = []\n",
        "\n",
        "with torch.no_grad():\n",
        "    model = model.eval()\n",
        "\n",
        "    for pic_embdg, description_embdg, reviews_embdg, cont_features, cat_features, label in tqdm(valloader):\n",
        "\n",
        "        pic_embdg, description_embdg, reviews_embdg, cont_features, cat_features = \\\n",
        "        pic_embdg.to(device), description_embdg.to(device), reviews_embdg.to(device), cont_features.to(device), cat_features.to(device).int()\n",
        "        \n",
        "        y_pred = model(pic_embdg, description_embdg, reviews_embdg, cont_features, cat_features)\n",
        "        y_pred = list(y_pred.detach().cpu())\n",
        "        \n",
        "        ypreds = ypreds + y_pred\n",
        "        ys = ys + list(label)\n",
        "\n",
        "\n"
      ],
      "metadata": {
        "colab": {
          "base_uri": "https://localhost:8080/"
        },
        "id": "a_fks15wPIUA",
        "outputId": "2ec5a64d-cf34-4b42-94c2-c0cca6a3c617"
      },
      "execution_count": null,
      "outputs": [
        {
          "output_type": "stream",
          "name": "stderr",
          "text": [
            "100%|██████████| 14/14 [00:00<00:00, 53.00it/s]\n"
          ]
        }
      ]
    },
    {
      "cell_type": "code",
      "source": [
        "ys = [i.item() for i in ys]\n",
        "ypreds = [i.item() for i in ypreds]\n",
        "\n",
        "print(pearsonr(ys, ypreds))\n",
        "plt.scatter(ys, ypreds)\n",
        "plt.show()"
      ],
      "metadata": {
        "id": "mGE1h6X12M6Z",
        "outputId": "d8878b89-e617-4192-f226-fdb87f52ecc7",
        "colab": {
          "base_uri": "https://localhost:8080/",
          "height": 285
        }
      },
      "execution_count": null,
      "outputs": [
        {
          "output_type": "stream",
          "name": "stdout",
          "text": [
            "(0.8051328061419524, 0.0)\n"
          ]
        },
        {
          "output_type": "display_data",
          "data": {
            "image/png": "[encoded data removed]",
            "text/plain": [
              "<Figure size 432x288 with 1 Axes>"
            ]
          },
          "metadata": {}
        }
      ]
    },
    {
      "cell_type": "markdown",
      "source": [
        "# Evaluation of Munich model"
      ],
      "metadata": {
        "id": "4O211_g0Wk3N"
      }
    },
    {
      "cell_type": "code",
      "source": [
        "pd.read_pickle(\"/content/drive/MyDrive/Colab/airbnb/munich/embeddings/descriptions.pickle\")"
      ],
      "metadata": {
        "id": "bP2EMGY7brxJ",
        "outputId": "274c77dd-fbd7-45d2-c4d9-c67674878285",
        "colab": {
          "base_uri": "https://localhost:8080/"
        }
      },
      "execution_count": 5,
      "outputs": [
        {
          "output_type": "execute_result",
          "data": {
            "text/plain": [
              "3.951244    [0.8905333876609802, 0.0, 0.0, 0.0, 0.0, 1.089...\n",
              "4.007333    [0.8307691216468811, 0.0, 0.0, 0.0, 0.0, 0.997...\n",
              "4.174387    [0.775690495967865, 0.0, 0.0, 0.0, 0.0, 0.8953...\n",
              "4.406719    [0.8068555593490601, 0.0, 0.0, 0.0, 0.0, 0.937...\n",
              "4.356709    [0.7978057265281677, 0.0, 0.0, 0.0, 0.0, 0.917...\n",
              "                                  ...                        \n",
              "3.850148    [0.7576680779457092, 0.0, 0.0, 0.0, 0.0, 0.868...\n",
              "4.158883    [0.7072195410728455, 0.0, 0.0, 0.0, 0.0, 0.805...\n",
              "4.174387    [0.8187291622161865, 0.0, 0.0, 0.0, 0.0, 0.978...\n",
              "4.844187    [0.8750788569450378, 0.0, 0.0, 0.0, 0.0, 1.075...\n",
              "3.555348    [0.9032449126243591, 0.0, 0.0, 0.0, 0.0, 1.096...\n",
              "Name: descriptions, Length: 998, dtype: object"
            ]
          },
          "metadata": {},
          "execution_count": 5
        }
      ]
    },
    {
      "cell_type": "code",
      "source": [
        "desc = pd.read_pickle(\"/content/drive/MyDrive/Colab/airbnb/munich/embeddings/descriptions.pickle\")\n",
        "rev = pd.read_pickle(\"/content/drive/MyDrive/Colab/airbnb/munich/embeddings/reviews.pickle\")\n",
        "thumb = pd.read_pickle(\"/content/drive/MyDrive/Colab/airbnb/munich/thumbnails/thumbnails_embeddings.pickle\")\n",
        "features = pd.read_pickle(\"/content/drive/MyDrive/Colab/airbnb/munich/listings_embeddedcats.pickle\")\n",
        "with open(\"/content/drive/MyDrive/Colab/airbnb/data/data1/catdict.json\", \"r\") as f:\n",
        "    catlist = json.load(f)\n",
        "\n",
        "# if you want to exclude columns in training, run this chunk\n",
        "\n",
        "features = features.drop([\"calculated_host_listings_count_private_rooms\", \"calculated_host_listings_count_entire_homes\", \"calculated_host_listings_count\", \"longitude\", \"latitude\", \"neighbourhood_cleansed\"], axis=1)\n",
        "dropset = set([\"calculated_host_listings_count_private_rooms\", \"calculated_host_listings_count_entire_homes\", \"calculated_host_listings_count\", \"longitude\", \"latitude\", \"neighbourhood_cleansed\"])\n",
        "\n",
        "logprice = features[\"log_price\"]\n",
        "\n",
        "selected_features = np.load(\"/content/drive/MyDrive/Colab/airbnb/data/feature_selection/selected_features2.npy\", allow_pickle=True)\n",
        "selected_features = (set(selected_features) & set(features.columns)) | (set(['neighbourhood_cleansed', 'property_type', 'room_type', 'lang']) - dropset)\n",
        "features = features[selected_features]\n",
        "\n",
        "desc = pd.DataFrame(desc)\n",
        "thumb = pd.DataFrame(thumb)\n",
        "rev = pd.DataFrame(rev)\n",
        "logprice = pd.DataFrame(logprice)\n",
        "\n",
        "data = pd.concat([thumb, desc, rev, features, logprice], axis=1)\n",
        "\n",
        "\n",
        "# choose to exclude some columns from the cat_cols\n",
        "cat_cols_regular = ['neighbourhood_cleansed', \n",
        "                    'property_type', \n",
        "                    'room_type', \n",
        "                    'lang', \n",
        "                    \"availability_30\", \n",
        "                    \"accommodates\", \n",
        "                    \"bedrooms\"]\n",
        "\n",
        "cat_cols_exclude = [#'neighbourhood_cleansed', \n",
        "                    #'property_type', \n",
        "                    #'room_type', \n",
        "                    #'lang', \n",
        "                    #\"availability_30\", \n",
        "                    \"accommodates\", \n",
        "                    \"bedrooms\"\n",
        "                    ]\n",
        "\n",
        "\n",
        "cat_cols = cat_cols_regular.copy()\n",
        "for x in cat_cols_exclude:\n",
        "    cat_cols.remove(x)\n",
        "\n",
        "rm_list = []\n",
        "for i, col in enumerate(cat_cols_regular):\n",
        "    if col in set(cat_cols_exclude):\n",
        "        rm_list.append(i)\n",
        "\n",
        "for i in rm_list[::-1]:\n",
        "    del catlist[i]\n",
        "\n",
        "to_replace = pd.read_pickle(\"/content/drive/MyDrive/Colab/airbnb/data/data1/listings_workfile.pickle\")\n",
        "\n",
        "if \"neighbourhood_cleansed\" in cat_cols_exclude:\n",
        "    cat_cols_exclude.remove(\"neighbourhood_cleansed\")\n",
        "    data.loc[:, \"neighbourhood_cleansed_Simmering\"] = to_replace[\"neighbourhood_cleansed_Simmering\"]\n",
        "    data.loc[:, \"neighbourhood_cleansed_Brigittenau\"] = to_replace[\"neighbourhood_cleansed_Brigittenau\"]\n",
        "    data.loc[:, \"neighbourhood_cleansed_Ottakring\"] =  to_replace[\"neighbourhood_cleansed_Ottakring\"]\n",
        "    data.loc[:, \"neighbourhood_cleansed_W\\x8ahring\"] =  to_replace[\"neighbourhood_cleansed_W\\x8ahring\"]\n",
        "    data.loc[:, \"neighbourhood_cleansed_Wieden\"] =  to_replace[\"neighbourhood_cleansed_Wieden\"]\n",
        "    data.loc[:, \"neighbourhood_cleansed_Hietzing\"] =  to_replace[\"neighbourhood_cleansed_Hietzing\"]\n",
        "    data.loc[:, \"neighbourhood_cleansed_Innere Stadt\"] =  to_replace[\"neighbourhood_cleansed_Innere Stadt\"]\n",
        "    data = data.drop(\"neighbourhood_cleansed\", axis=1)\n",
        "\n",
        "if \"property_type\" in cat_cols_exclude:\n",
        "    cat_cols_exclude.remove(\"property_type\")\n",
        "    data.loc[:, \"property_type_shared_room\"] =  to_replace[\"property_type_shared_room\"]\n",
        "    data.loc[:, \"property_type_private_room\"] =  to_replace[\"property_type_private_room\"]\n",
        "    data = data.drop(\"property_type\", axis=1)\n",
        "\n",
        "if \"room_type\" in cat_cols_exclude:\n",
        "    cat_cols_exclude.remove(\"room_type\")\n",
        "    data.loc[:, \"room_Private room\"] =  to_replace[\"room_Private room\"]\n",
        "    data.loc[:, \"room_Shared room\"] =  to_replace[\"room_Shared room\"]   \n",
        "    data = data.drop(\"room_type\", axis=1)\n",
        "\n",
        "if \"lang\" in cat_cols_exclude:\n",
        "    cat_cols_exclude.remove(\"lang\")\n",
        "    data = data.drop(\"lang\", axis=1)\n",
        "\n",
        "data.loc[:, cat_cols_exclude] = to_replace[cat_cols_exclude]\n",
        "\n",
        "\n",
        "train_ids, val_ids, test_ids = ut.train_val_test_split(data.index)\n",
        "traindf, valdf, testdf = data.loc[train_ids], data.loc[val_ids], data.loc[test_ids]\n",
        "\n",
        "\n",
        "# if you want to remove something from catcols and catlist, run this\n",
        "del cat_cols[0]\n",
        "del catlist[0]\n",
        "\n",
        "\n",
        "# TODO\n",
        "# create dataloaders\n",
        "trainset = EnsembleDataset2(traindf, [\"thumbnails\"], [\"descriptions\"], [\"reviews\"], cat_cols, [\"log_price\"])\n",
        "valset = EnsembleDataset2(valdf, [\"thumbnails\"], [\"descriptions\"], [\"reviews\"], cat_cols, [\"log_price\"])\n",
        "testset = EnsembleDataset2(testdf, [\"thumbnails\"], [\"descriptions\"], [\"reviews\"], cat_cols, [\"log_price\"])\n",
        "\n",
        "b = 128\n",
        "trainloader = DataLoader(trainset, shuffle=True, num_workers=2, batch_size=b)\n",
        "valloader = DataLoader(valset, shuffle=False, num_workers=2, batch_size=b)\n",
        "testloader = DataLoader(testset, shuffle=False, num_workers=2, batch_size=b)"
      ],
      "metadata": {
        "id": "n1t8LpkLXedg",
        "outputId": "93fe1aa5-ae13-4d95-df57-6d5034a15e36",
        "colab": {
          "base_uri": "https://localhost:8080/",
          "height": 380
        }
      },
      "execution_count": 173,
      "outputs": [
        {
          "output_type": "error",
          "ename": "InvalidIndexError",
          "evalue": "ignored",
          "traceback": [
            "\u001b[0;31m---------------------------------------------------------------------------\u001b[0m",
            "\u001b[0;31mInvalidIndexError\u001b[0m                         Traceback (most recent call last)",
            "\u001b[0;32m<ipython-input-173-9edcca738f31>\u001b[0m in \u001b[0;36m<module>\u001b[0;34m()\u001b[0m\n\u001b[1;32m     22\u001b[0m \u001b[0mlogprice\u001b[0m \u001b[0;34m=\u001b[0m \u001b[0mpd\u001b[0m\u001b[0;34m.\u001b[0m\u001b[0mDataFrame\u001b[0m\u001b[0;34m(\u001b[0m\u001b[0mlogprice\u001b[0m\u001b[0;34m)\u001b[0m\u001b[0;34m\u001b[0m\u001b[0;34m\u001b[0m\u001b[0m\n\u001b[1;32m     23\u001b[0m \u001b[0;34m\u001b[0m\u001b[0m\n\u001b[0;32m---> 24\u001b[0;31m \u001b[0mdata\u001b[0m \u001b[0;34m=\u001b[0m \u001b[0mpd\u001b[0m\u001b[0;34m.\u001b[0m\u001b[0mconcat\u001b[0m\u001b[0;34m(\u001b[0m\u001b[0;34m[\u001b[0m\u001b[0mthumb\u001b[0m\u001b[0;34m,\u001b[0m \u001b[0mdesc\u001b[0m\u001b[0;34m,\u001b[0m \u001b[0mrev\u001b[0m\u001b[0;34m,\u001b[0m \u001b[0mfeatures\u001b[0m\u001b[0;34m,\u001b[0m \u001b[0mlogprice\u001b[0m\u001b[0;34m]\u001b[0m\u001b[0;34m,\u001b[0m \u001b[0maxis\u001b[0m\u001b[0;34m=\u001b[0m\u001b[0;36m1\u001b[0m\u001b[0;34m)\u001b[0m\u001b[0;34m\u001b[0m\u001b[0;34m\u001b[0m\u001b[0m\n\u001b[0m\u001b[1;32m     25\u001b[0m \u001b[0;34m\u001b[0m\u001b[0m\n\u001b[1;32m     26\u001b[0m \u001b[0;34m\u001b[0m\u001b[0m\n",
            "\u001b[0;32m/usr/local/lib/python3.7/dist-packages/pandas/util/_decorators.py\u001b[0m in \u001b[0;36mwrapper\u001b[0;34m(*args, **kwargs)\u001b[0m\n\u001b[1;32m    309\u001b[0m                     \u001b[0mstacklevel\u001b[0m\u001b[0;34m=\u001b[0m\u001b[0mstacklevel\u001b[0m\u001b[0;34m,\u001b[0m\u001b[0;34m\u001b[0m\u001b[0;34m\u001b[0m\u001b[0m\n\u001b[1;32m    310\u001b[0m                 )\n\u001b[0;32m--> 311\u001b[0;31m             \u001b[0;32mreturn\u001b[0m \u001b[0mfunc\u001b[0m\u001b[0;34m(\u001b[0m\u001b[0;34m*\u001b[0m\u001b[0margs\u001b[0m\u001b[0;34m,\u001b[0m \u001b[0;34m**\u001b[0m\u001b[0mkwargs\u001b[0m\u001b[0;34m)\u001b[0m\u001b[0;34m\u001b[0m\u001b[0;34m\u001b[0m\u001b[0m\n\u001b[0m\u001b[1;32m    312\u001b[0m \u001b[0;34m\u001b[0m\u001b[0m\n\u001b[1;32m    313\u001b[0m         \u001b[0;32mreturn\u001b[0m \u001b[0mwrapper\u001b[0m\u001b[0;34m\u001b[0m\u001b[0;34m\u001b[0m\u001b[0m\n",
            "\u001b[0;32m/usr/local/lib/python3.7/dist-packages/pandas/core/reshape/concat.py\u001b[0m in \u001b[0;36mconcat\u001b[0;34m(objs, axis, join, ignore_index, keys, levels, names, verify_integrity, sort, copy)\u001b[0m\n\u001b[1;32m    305\u001b[0m     )\n\u001b[1;32m    306\u001b[0m \u001b[0;34m\u001b[0m\u001b[0m\n\u001b[0;32m--> 307\u001b[0;31m     \u001b[0;32mreturn\u001b[0m \u001b[0mop\u001b[0m\u001b[0;34m.\u001b[0m\u001b[0mget_result\u001b[0m\u001b[0;34m(\u001b[0m\u001b[0;34m)\u001b[0m\u001b[0;34m\u001b[0m\u001b[0;34m\u001b[0m\u001b[0m\n\u001b[0m\u001b[1;32m    308\u001b[0m \u001b[0;34m\u001b[0m\u001b[0m\n\u001b[1;32m    309\u001b[0m \u001b[0;34m\u001b[0m\u001b[0m\n",
            "\u001b[0;32m/usr/local/lib/python3.7/dist-packages/pandas/core/reshape/concat.py\u001b[0m in \u001b[0;36mget_result\u001b[0;34m(self)\u001b[0m\n\u001b[1;32m    526\u001b[0m                     \u001b[0mobj_labels\u001b[0m \u001b[0;34m=\u001b[0m \u001b[0mobj\u001b[0m\u001b[0;34m.\u001b[0m\u001b[0maxes\u001b[0m\u001b[0;34m[\u001b[0m\u001b[0;36m1\u001b[0m \u001b[0;34m-\u001b[0m \u001b[0max\u001b[0m\u001b[0;34m]\u001b[0m\u001b[0;34m\u001b[0m\u001b[0;34m\u001b[0m\u001b[0m\n\u001b[1;32m    527\u001b[0m                     \u001b[0;32mif\u001b[0m \u001b[0;32mnot\u001b[0m \u001b[0mnew_labels\u001b[0m\u001b[0;34m.\u001b[0m\u001b[0mequals\u001b[0m\u001b[0;34m(\u001b[0m\u001b[0mobj_labels\u001b[0m\u001b[0;34m)\u001b[0m\u001b[0;34m:\u001b[0m\u001b[0;34m\u001b[0m\u001b[0;34m\u001b[0m\u001b[0m\n\u001b[0;32m--> 528\u001b[0;31m                         \u001b[0mindexers\u001b[0m\u001b[0;34m[\u001b[0m\u001b[0max\u001b[0m\u001b[0;34m]\u001b[0m \u001b[0;34m=\u001b[0m \u001b[0mobj_labels\u001b[0m\u001b[0;34m.\u001b[0m\u001b[0mget_indexer\u001b[0m\u001b[0;34m(\u001b[0m\u001b[0mnew_labels\u001b[0m\u001b[0;34m)\u001b[0m\u001b[0;34m\u001b[0m\u001b[0;34m\u001b[0m\u001b[0m\n\u001b[0m\u001b[1;32m    529\u001b[0m \u001b[0;34m\u001b[0m\u001b[0m\n\u001b[1;32m    530\u001b[0m                 \u001b[0mmgrs_indexers\u001b[0m\u001b[0;34m.\u001b[0m\u001b[0mappend\u001b[0m\u001b[0;34m(\u001b[0m\u001b[0;34m(\u001b[0m\u001b[0mobj\u001b[0m\u001b[0;34m.\u001b[0m\u001b[0m_mgr\u001b[0m\u001b[0;34m,\u001b[0m \u001b[0mindexers\u001b[0m\u001b[0;34m)\u001b[0m\u001b[0;34m)\u001b[0m\u001b[0;34m\u001b[0m\u001b[0;34m\u001b[0m\u001b[0m\n",
            "\u001b[0;32m/usr/local/lib/python3.7/dist-packages/pandas/core/indexes/base.py\u001b[0m in \u001b[0;36mget_indexer\u001b[0;34m(self, target, method, limit, tolerance)\u001b[0m\n\u001b[1;32m   3440\u001b[0m \u001b[0;34m\u001b[0m\u001b[0m\n\u001b[1;32m   3441\u001b[0m         \u001b[0;32mif\u001b[0m \u001b[0;32mnot\u001b[0m \u001b[0mself\u001b[0m\u001b[0;34m.\u001b[0m\u001b[0m_index_as_unique\u001b[0m\u001b[0;34m:\u001b[0m\u001b[0;34m\u001b[0m\u001b[0;34m\u001b[0m\u001b[0m\n\u001b[0;32m-> 3442\u001b[0;31m             \u001b[0;32mraise\u001b[0m \u001b[0mInvalidIndexError\u001b[0m\u001b[0;34m(\u001b[0m\u001b[0mself\u001b[0m\u001b[0;34m.\u001b[0m\u001b[0m_requires_unique_msg\u001b[0m\u001b[0;34m)\u001b[0m\u001b[0;34m\u001b[0m\u001b[0;34m\u001b[0m\u001b[0m\n\u001b[0m\u001b[1;32m   3443\u001b[0m \u001b[0;34m\u001b[0m\u001b[0m\n\u001b[1;32m   3444\u001b[0m         \u001b[0;32mif\u001b[0m \u001b[0;32mnot\u001b[0m \u001b[0mself\u001b[0m\u001b[0;34m.\u001b[0m\u001b[0m_should_compare\u001b[0m\u001b[0;34m(\u001b[0m\u001b[0mtarget\u001b[0m\u001b[0;34m)\u001b[0m \u001b[0;32mand\u001b[0m \u001b[0;32mnot\u001b[0m \u001b[0mis_interval_dtype\u001b[0m\u001b[0;34m(\u001b[0m\u001b[0mself\u001b[0m\u001b[0;34m.\u001b[0m\u001b[0mdtype\u001b[0m\u001b[0;34m)\u001b[0m\u001b[0;34m:\u001b[0m\u001b[0;34m\u001b[0m\u001b[0;34m\u001b[0m\u001b[0m\n",
            "\u001b[0;31mInvalidIndexError\u001b[0m: Reindexing only valid with uniquely valued Index objects"
          ]
        }
      ]
    },
    {
      "cell_type": "code",
      "source": [
        "model = EnsembleModel2(no_of_thumb=no_of_thumb, no_of_desc=no_of_desc, no_of_rev=no_of_rev, no_of_cont=no_of_cont,\n",
        "                       cat_emb_dims=cat_emb_dims, lin_layer_sizes=lin_layer_sizes, thumb_dropout=0.5, desc_dropout=0.5,\n",
        "                       rev_dropout=0.5, cont_dropout=0, cat_dropout=0, linear_layer_dropout=[0, 0, 0], bn_layers=False)\n",
        "\n",
        "# load statedict and model performances\n",
        "savefolder = \"munich_model\"\n",
        "state_dict = torch.load(\"/content/drive/MyDrive/Colab/airbnb/data/model_performance/\" + savefolder + \"/checkpoint.pt\")\n",
        "model.load_state_dict(state_dict)\n",
        "train_rmse = np.load(\"/content/drive/MyDrive/Colab/airbnb/data/model_performance/\" + savefolder + \"/trainloss.npy\")\n",
        "val_rmse = np.load(\"/content/drive/MyDrive/Colab/airbnb/data/model_performance/\" + savefolder + \"/valloss.npy\")"
      ],
      "metadata": {
        "id": "jjXVUsP8Wlst"
      },
      "execution_count": 165,
      "outputs": []
    },
    {
      "cell_type": "code",
      "source": [
        "\n",
        "\n",
        "\n",
        "ypreds = []\n",
        "ys = []\n",
        "\n",
        "with torch.no_grad():\n",
        "    model = model.eval()\n",
        "\n",
        "    for pic_embdg, description_embdg, reviews_embdg, cont_features, cat_features, label in tqdm(valloader):\n",
        "\n",
        "        pic_embdg, description_embdg, reviews_embdg, cont_features, cat_features = \\\n",
        "        pic_embdg.to(device), description_embdg.to(device), reviews_embdg.to(device), cont_features.to(device), cat_features.to(device).int()\n",
        "        \n",
        "        y_pred = model(pic_embdg, description_embdg, reviews_embdg, cont_features, cat_features)\n",
        "        y_pred = list(y_pred.detach().cpu())\n",
        "        \n",
        "        ypreds = ypreds + y_pred\n",
        "        ys = ys + list(label)\n"
      ],
      "metadata": {
        "id": "HjQq9O2UWwZM"
      },
      "execution_count": null,
      "outputs": []
    },
    {
      "cell_type": "markdown",
      "source": [
        "# Explainability categorical variables"
      ],
      "metadata": {
        "id": "4lgacq3DrsFE"
      }
    },
    {
      "cell_type": "code",
      "source": [
        "embeddings = np.empty((len(catlist[0]), 16))\n",
        "\n",
        "for i in range(len(catlist[0])):\n",
        "    embedding = model.generate_cat_embeddings(variable_number=0, category_number=i)\n",
        "    embedding = embedding.numpy()\n",
        "    embeddings[i] = embedding"
      ],
      "metadata": {
        "id": "0qhD16589zzN"
      },
      "execution_count": null,
      "outputs": []
    },
    {
      "cell_type": "code",
      "source": [
        "from sklearn.manifold import TSNE\n",
        "\n",
        "tsne = TSNE(random_state=1, perplexity=20)  # perplexity=x argument possible\n",
        "tsne_results = tsne.fit_transform(embeddings)"
      ],
      "metadata": {
        "id": "AbUZ26UsrvLz",
        "outputId": "571b2c88-165a-48f7-9a4e-a52a6cb5d493",
        "colab": {
          "base_uri": "https://localhost:8080/"
        }
      },
      "execution_count": null,
      "outputs": [
        {
          "output_type": "stream",
          "name": "stderr",
          "text": [
            "/usr/local/lib/python3.7/dist-packages/sklearn/manifold/_t_sne.py:783: FutureWarning: The default initialization in TSNE will change from 'random' to 'pca' in 1.2.\n",
            "  FutureWarning,\n",
            "/usr/local/lib/python3.7/dist-packages/sklearn/manifold/_t_sne.py:793: FutureWarning: The default learning rate in TSNE will change from 200.0 to 'auto' in 1.2.\n",
            "  FutureWarning,\n"
          ]
        }
      ]
    },
    {
      "cell_type": "code",
      "source": [
        "districts = ['Donaustadt', 'Leopoldstadt', 'Rudolfsheim-Fuenfhaus', 'Ottakring', 'Brigittenau', 'Neubau', 'Margareten',\n",
        "             'Hernals', 'Floridsdorf', 'Alsergrund', 'Simmering', 'Wieden', 'Mariahilf', 'Josefstadt', 'Landstrasse',\n",
        "             'Favoriten', 'Innere Stadt', 'Meidling', 'Wöhring', 'Döbling', 'Penzing', 'Liesing', 'Hietzing']"
      ],
      "metadata": {
        "id": "M-CAwqRxE4kS"
      },
      "execution_count": null,
      "outputs": []
    },
    {
      "cell_type": "code",
      "source": [
        "fig, ax = plt.subplots(figsize=(10, 10))\n",
        "ax.scatter(pca_results[:, 0], pca_results[:, 1])\n",
        "\n",
        "for i, txt in enumerate(districts):\n",
        "    ax.annotate(districts[i], (pca_results[:, 0][i], pca_results[:, 1][i]))\n",
        "\n",
        "plt.show()"
      ],
      "metadata": {
        "id": "lvDRkisBDNwx",
        "outputId": "245152a4-8a45-4172-a9fb-8bf11aed3578",
        "colab": {
          "base_uri": "https://localhost:8080/",
          "height": 594
        }
      },
      "execution_count": null,
      "outputs": [
        {
          "output_type": "display_data",
          "data": {
            "image/png": "[encoded data removed]",
            "text/plain": [
              "<Figure size 720x720 with 1 Axes>"
            ]
          },
          "metadata": {}
        }
      ]
    },
    {
      "cell_type": "code",
      "source": [
        "import sklearn\n",
        "pca = sklearn.decomposition.PCA(n_components=2)"
      ],
      "metadata": {
        "id": "nQy1akGCHa3f"
      },
      "execution_count": null,
      "outputs": []
    },
    {
      "cell_type": "code",
      "source": [
        "pca_results = pca.fit_transform(embeddings)"
      ],
      "metadata": {
        "id": "ctL25JbJHkbA"
      },
      "execution_count": null,
      "outputs": []
    }
  ],
  "metadata": {
    "colab": {
      "collapsed_sections": [],
      "name": "Ensemble_model.ipynb",
      "provenance": [],
      "include_colab_link": true
    },
    "kernelspec": {
      "display_name": "Python 3",
      "language": "python",
      "name": "python3"
    },
    "language_info": {
      "codemirror_mode": {
        "name": "ipython",
        "version": 3
      },
      "file_extension": ".py",
      "mimetype": "text/x-python",
      "name": "python",
      "nbconvert_exporter": "python",
      "pygments_lexer": "ipython3",
      "version": "3.8.5"
    }
  },
  "nbformat": 4,
  "nbformat_minor": 0
}