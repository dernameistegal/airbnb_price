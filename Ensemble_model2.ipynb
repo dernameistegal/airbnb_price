{
  "cells": [
    {
      "cell_type": "markdown",
      "metadata": {
        "id": "view-in-github",
        "colab_type": "text"
      },
      "source": [
        "<a href=\"https://colab.research.google.com/github/dernameistegal/airbnb_price/blob/main/Ensemble_model2.ipynb\" target=\"_parent\"><img src=\"https://colab.research.google.com/assets/colab-badge.svg\" alt=\"Open In Colab\"/></a>"
      ]
    },
    {
      "cell_type": "markdown",
      "source": [
        "#Model Descriptions"
      ],
      "metadata": {
        "id": "XlqDyKsuVdCa"
      }
    },
    {
      "cell_type": "code",
      "source": [
        "!rm -r airbnb_price"
      ],
      "metadata": {
        "id": "MzNY5F9pjBYs",
        "outputId": "827fc404-17e1-497d-e5f6-2efe86204e4f",
        "colab": {
          "base_uri": "https://localhost:8080/"
        }
      },
      "execution_count": 1,
      "outputs": [
        {
          "output_type": "stream",
          "name": "stdout",
          "text": [
            "rm: cannot remove 'airbnb_price': No such file or directory\n"
          ]
        }
      ]
    },
    {
      "cell_type": "code",
      "source": [
        "!git clone https://github.com/dernameistegal/airbnb_price.git"
      ],
      "metadata": {
        "colab": {
          "base_uri": "https://localhost:8080/"
        },
        "id": "LPxhl9jSVd1z",
        "outputId": "f49781f3-b4d9-4279-b03c-87e8e06d792f"
      },
      "execution_count": 2,
      "outputs": [
        {
          "output_type": "stream",
          "name": "stdout",
          "text": [
            "Cloning into 'airbnb_price'...\n",
            "remote: Enumerating objects: 1233, done.\u001b[K\n",
            "remote: Counting objects: 100% (1233/1233), done.\u001b[K\n",
            "remote: Compressing objects: 100% (1165/1165), done.\u001b[K\n",
            "remote: Total 1233 (delta 743), reused 318 (delta 58), pack-reused 0\u001b[K\n",
            "Receiving objects: 100% (1233/1233), 10.38 MiB | 9.87 MiB/s, done.\n",
            "Resolving deltas: 100% (743/743), done.\n"
          ]
        }
      ]
    },
    {
      "cell_type": "code",
      "source": [
        "#@title also import libraries\n",
        "%cd airbnb_price\n",
        "import sys\n",
        "sys.path.append(\"/content/airbnb_price/custom_functions\")\n",
        "sys.path.append(\"/content/airbnb_price/models\")\n",
        "from ensemble_model import EnsembleModel2, EnsembleDataset2\n",
        "import train_ensemble2 as train\n",
        "import general_utils as ut\n",
        "device = ut.get_device()\n",
        "!mkdir -p /content/checkpoints/"
      ],
      "metadata": {
        "colab": {
          "base_uri": "https://localhost:8080/"
        },
        "id": "c1rK8zOtVoMG",
        "outputId": "764c189f-ea7f-4e58-f323-a79e9146d8ba",
        "cellView": "form"
      },
      "execution_count": 3,
      "outputs": [
        {
          "output_type": "stream",
          "name": "stdout",
          "text": [
            "/content/airbnb_price\n"
          ]
        },
        {
          "output_type": "stream",
          "name": "stderr",
          "text": [
            "/usr/local/lib/python3.7/dist-packages/torch/cuda/amp/grad_scaler.py:115: UserWarning: torch.cuda.amp.GradScaler is enabled, but CUDA is not available.  Disabling.\n",
            "  warnings.warn(\"torch.cuda.amp.GradScaler is enabled, but CUDA is not available.  Disabling.\")\n"
          ]
        },
        {
          "output_type": "stream",
          "name": "stdout",
          "text": [
            "cuda available: False ; cudnn available: True ; num devices: 0\n",
            "Using device cpu\n"
          ]
        }
      ]
    },
    {
      "cell_type": "code",
      "execution_count": 4,
      "metadata": {
        "id": "it5JOetS6sgI",
        "colab": {
          "base_uri": "https://localhost:8080/"
        },
        "outputId": "c9b9e8d9-7839-4f5f-8d38-515b27208732",
        "cellView": "form"
      },
      "outputs": [
        {
          "output_type": "stream",
          "name": "stdout",
          "text": [
            "Mounted at /content/drive\n"
          ]
        }
      ],
      "source": [
        "#@title Import libraries\n",
        "import numpy as np\n",
        "import pandas as pd\n",
        "import seaborn as sns\n",
        "import matplotlib.pyplot as plt\n",
        "from tqdm import tqdm\n",
        "import fastprogress\n",
        "from sklearn.model_selection import train_test_split\n",
        "from torch.utils.data import TensorDataset, DataLoader\n",
        "import torch.nn as nn\n",
        "import torch\n",
        "from torch.nn import CrossEntropyLoss\n",
        "import torch.nn.functional as F\n",
        "import json\n",
        "from scipy.stats.stats import pearsonr\n",
        "import matplotlib.pyplot as plt\n",
        "\n",
        "from google.colab import drive\n",
        "drive.mount('/content/drive', force_remount=True)"
      ]
    },
    {
      "cell_type": "markdown",
      "metadata": {
        "id": "hu-hKzYgFvZJ"
      },
      "source": [
        "# Data Loading"
      ]
    },
    {
      "cell_type": "code",
      "source": [
        "desc = pd.read_pickle(\"/content/drive/MyDrive/Colab/airbnb/data/embeddings/descriptions.pickle\")\n",
        "rev = pd.read_pickle(\"/content/drive/MyDrive/Colab/airbnb/data/embeddings/reviews.pickle\")\n",
        "thumb = pd.read_pickle(\"/content/drive/MyDrive/Colab/airbnb/data/embeddings/thumbnails.pickle\")\n",
        "features = pd.read_pickle(\"/content/drive/MyDrive/Colab/airbnb/data/data1/listings_embeddedcats.pickle\")\n",
        "with open(\"/content/drive/MyDrive/Colab/airbnb/data/data1/catdict.json\", \"r\") as f:\n",
        "    catlist = json.load(f)"
      ],
      "metadata": {
        "id": "g5YLN7M0rNDa"
      },
      "execution_count": 14,
      "outputs": []
    },
    {
      "cell_type": "code",
      "source": [
        "# if you want to set desc, rev and thumb to zero for performance comparison, run this chunk\n",
        "\n",
        "# for i in range(len(desc)):\n",
        "#     desc.iloc[i] = [0 for i in range(len(desc.iloc[0]))]\n",
        "\n",
        "# for i in range(len(rev)):\n",
        "#     rev.iloc[i] = [0 for i in range(len(rev.iloc[0]))]\n",
        "\n",
        "# for i in range(len(thumb)):\n",
        "#     thumb.iloc[i] = [0 for i in range(len(thumb.iloc[0]))]"
      ],
      "metadata": {
        "id": "De9fLstPb1HD"
      },
      "execution_count": 15,
      "outputs": []
    },
    {
      "cell_type": "code",
      "source": [
        "# if you want to exclude columns in training, run this chunk\n",
        "\n",
        "features = features.drop([\"calculated_host_listings_count_private_rooms\", \"calculated_host_listings_count_entire_homes\", \n",
        "                          \"calculated_host_listings_count\", \"longitude\", \"latitude\", \"neighbourhood_cleansed\",\n",
        "                          'host_verification_photographer', 'host_verification_sesame', 'host_verification_sesame_offline',\n",
        "                          'host_verification_weibo','host_verification_zhima_selfie'], axis=1)\n",
        "dropset = set([\"calculated_host_listings_count_private_rooms\", \"calculated_host_listings_count_entire_homes\", \"calculated_host_listings_count\", \"longitude\", \"latitude\", \"neighbourhood_cleansed\"])"
      ],
      "metadata": {
        "id": "n_EKZHDpPU1n"
      },
      "execution_count": 16,
      "outputs": []
    },
    {
      "cell_type": "code",
      "source": [
        "logprice = features[\"log_price\"]"
      ],
      "metadata": {
        "id": "5VYs2MOuhUV-"
      },
      "execution_count": 17,
      "outputs": []
    },
    {
      "cell_type": "code",
      "source": [
        "selected_features = np.load(\"/content/drive/MyDrive/Colab/airbnb/data/feature_selection/selected_features2.npy\", allow_pickle=True)\n",
        "selected_features = (set(selected_features) & set(features.columns)) | (set(['neighbourhood_cleansed', 'property_type', 'room_type', 'lang']) - dropset)\n",
        "features = features[selected_features]"
      ],
      "metadata": {
        "id": "83GSXtmPcYSB"
      },
      "execution_count": 18,
      "outputs": []
    },
    {
      "cell_type": "code",
      "source": [
        "desc = pd.DataFrame(desc)\n",
        "thumb = pd.DataFrame(thumb)\n",
        "rev = pd.DataFrame(rev)\n",
        "logprice = pd.DataFrame(logprice)"
      ],
      "metadata": {
        "id": "EzRmzUm9x_yN"
      },
      "execution_count": 19,
      "outputs": []
    },
    {
      "cell_type": "code",
      "source": [
        "data = pd.concat([thumb, desc, rev, features, logprice], axis=1)"
      ],
      "metadata": {
        "id": "gUduHBgwrgG0"
      },
      "execution_count": 20,
      "outputs": []
    },
    {
      "cell_type": "markdown",
      "source": [
        "# define which of the (possibly 7) data columns are treated as categories"
      ],
      "metadata": {
        "id": "T0GvHOX43pOk"
      }
    },
    {
      "cell_type": "code",
      "source": [
        "# choose to exclude some columns from the cat_cols\n",
        "cat_cols_regular = ['neighbourhood_cleansed', \n",
        "                    'property_type', \n",
        "                    'room_type', \n",
        "                    'lang', \n",
        "                    \"availability_30\", \n",
        "                    \"accommodates\", \n",
        "                    \"bedrooms\"]\n",
        "\n",
        "cat_cols_exclude = [#'neighbourhood_cleansed', \n",
        "                    #'property_type', \n",
        "                    #'room_type', \n",
        "                    #'lang', \n",
        "                    #\"availability_30\", \n",
        "                    \"accommodates\", \n",
        "                    \"bedrooms\"\n",
        "                    ]\n",
        "\n",
        "\n",
        "cat_cols = cat_cols_regular.copy()\n",
        "for x in cat_cols_exclude:\n",
        "    cat_cols.remove(x)\n",
        "\n",
        "rm_list = []\n",
        "for i, col in enumerate(cat_cols_regular):\n",
        "    if col in set(cat_cols_exclude):\n",
        "        rm_list.append(i)\n",
        "\n",
        "for i in rm_list[::-1]:\n",
        "    del catlist[i]\n",
        "\n",
        "to_replace = pd.read_pickle(\"/content/drive/MyDrive/Colab/airbnb/data/data1/listings_workfile.pickle\")\n",
        "\n",
        "if \"neighbourhood_cleansed\" in cat_cols_exclude:\n",
        "    cat_cols_exclude.remove(\"neighbourhood_cleansed\")\n",
        "    data.loc[:, \"neighbourhood_cleansed_Simmering\"] = to_replace[\"neighbourhood_cleansed_Simmering\"]\n",
        "    data.loc[:, \"neighbourhood_cleansed_Brigittenau\"] = to_replace[\"neighbourhood_cleansed_Brigittenau\"]\n",
        "    data.loc[:, \"neighbourhood_cleansed_Ottakring\"] =  to_replace[\"neighbourhood_cleansed_Ottakring\"]\n",
        "    data.loc[:, \"neighbourhood_cleansed_W\\x8ahring\"] =  to_replace[\"neighbourhood_cleansed_W\\x8ahring\"]\n",
        "    data.loc[:, \"neighbourhood_cleansed_Wieden\"] =  to_replace[\"neighbourhood_cleansed_Wieden\"]\n",
        "    data.loc[:, \"neighbourhood_cleansed_Hietzing\"] =  to_replace[\"neighbourhood_cleansed_Hietzing\"]\n",
        "    data.loc[:, \"neighbourhood_cleansed_Innere Stadt\"] =  to_replace[\"neighbourhood_cleansed_Innere Stadt\"]\n",
        "    data = data.drop(\"neighbourhood_cleansed\", axis=1)\n",
        "\n",
        "if \"property_type\" in cat_cols_exclude:\n",
        "    cat_cols_exclude.remove(\"property_type\")\n",
        "    data.loc[:, \"property_type_shared_room\"] =  to_replace[\"property_type_shared_room\"]\n",
        "    data.loc[:, \"property_type_private_room\"] =  to_replace[\"property_type_private_room\"]\n",
        "    data = data.drop(\"property_type\", axis=1)\n",
        "\n",
        "if \"room_type\" in cat_cols_exclude:\n",
        "    cat_cols_exclude.remove(\"room_type\")\n",
        "    data.loc[:, \"room_Private room\"] =  to_replace[\"room_Private room\"]\n",
        "    data.loc[:, \"room_Shared room\"] =  to_replace[\"room_Shared room\"]   \n",
        "    data = data.drop(\"room_type\", axis=1)\n",
        "\n",
        "if \"lang\" in cat_cols_exclude:\n",
        "    cat_cols_exclude.remove(\"lang\")\n",
        "    data = data.drop(\"lang\", axis=1)\n",
        "\n",
        "data.loc[:, cat_cols_exclude] = to_replace[cat_cols_exclude]"
      ],
      "metadata": {
        "id": "YOSpxARL4FRQ"
      },
      "execution_count": 21,
      "outputs": []
    },
    {
      "cell_type": "code",
      "source": [
        "train_ids, val_ids, test_ids = ut.train_val_test_split(data.index)\n",
        "traindf, valdf, testdf = data.loc[train_ids], data.loc[val_ids], data.loc[test_ids]"
      ],
      "metadata": {
        "id": "rdLu5CuEsLPz"
      },
      "execution_count": 22,
      "outputs": []
    },
    {
      "cell_type": "markdown",
      "metadata": {
        "id": "NaSTkvQca3or"
      },
      "source": [
        "## Create DataLoader"
      ]
    },
    {
      "cell_type": "code",
      "source": [
        "# if you want to remove something from catcols and catlist, run this\n",
        "del cat_cols[0]\n",
        "del catlist[0]"
      ],
      "metadata": {
        "id": "D2E5iJiDVKsg"
      },
      "execution_count": 23,
      "outputs": []
    },
    {
      "cell_type": "code",
      "execution_count": 24,
      "metadata": {
        "id": "7my-m1Zt75Zp"
      },
      "outputs": [],
      "source": [
        "# TODO\n",
        "# create dataloaders\n",
        "trainset = EnsembleDataset2(traindf, [\"thumbnails\"], [\"descriptions\"], [\"reviews\"], cat_cols, [\"log_price\"])\n",
        "valset = EnsembleDataset2(valdf, [\"thumbnails\"], [\"descriptions\"], [\"reviews\"], cat_cols, [\"log_price\"])\n",
        "testset = EnsembleDataset2(testdf, [\"thumbnails\"], [\"descriptions\"], [\"reviews\"], cat_cols, [\"log_price\"])\n",
        "\n",
        "b = 128\n",
        "trainloader = DataLoader(trainset, shuffle=True, num_workers=2, batch_size=b)\n",
        "valloader = DataLoader(valset, shuffle=False, num_workers=2, batch_size=b)\n",
        "testloader = DataLoader(testset, shuffle=False, num_workers=2, batch_size=b)"
      ]
    },
    {
      "cell_type": "markdown",
      "metadata": {
        "id": "8vuwkaCRkYLL"
      },
      "source": [
        "\n",
        "#Training\n"
      ]
    },
    {
      "cell_type": "code",
      "source": [
        "no_of_thumb = 100\n",
        "no_of_desc = 100\n",
        "no_of_rev = 100\n",
        "no_of_cont = len(traindf.columns) - 3 - 1 - len(catlist)  # -3 for thumb, desc and rev, -1 for price, last term to subtract cat cols\n",
        "cat_emb_dims = [(len(x), 16) for x in catlist]\n",
        "lin_layer_sizes = [512, 512, 512, 512, 512, 512]"
      ],
      "metadata": {
        "id": "VkLI1Brf2cZA"
      },
      "execution_count": 25,
      "outputs": []
    },
    {
      "cell_type": "code",
      "source": [
        "model = EnsembleModel2(no_of_thumb=no_of_thumb, no_of_desc=no_of_desc, no_of_rev=no_of_rev, no_of_cont=no_of_cont,\n",
        "                       cat_emb_dims=cat_emb_dims, lin_layer_sizes=lin_layer_sizes, thumb_dropout=0.5, desc_dropout=0.5,\n",
        "                       rev_dropout=0.5, cont_dropout=0, cat_dropout=0, linear_layer_dropout=[0, 0, 0], bn_layers=False)\n",
        "model = model.to(device)\n",
        "loss_fn = torch.nn.MSELoss()\n",
        "optimizer = torch.optim.Adam(model.parameters(), lr=1e-3, weight_decay=1e-4)\n",
        "scheduler = torch.optim.lr_scheduler.LambdaLR(optimizer, lr_lambda = lambda epoch: 0.1 ** (epoch // 15), last_epoch=- 1, verbose=True)\n",
        "result = train.run_training(model, optimizer, loss_fn, device, 40, trainloader, \n",
        "                            valloader, verbose=True, ntrain=500, nval=200, scheduler=scheduler, savefolder=\"munich_model4\")"
      ],
      "metadata": {
        "id": "nXfkQU-21cI3",
        "outputId": "2ec22032-91dd-4fcf-a3fc-c68791f5ff34",
        "colab": {
          "base_uri": "https://localhost:8080/",
          "height": 1000
        }
      },
      "execution_count": 42,
      "outputs": [
        {
          "output_type": "stream",
          "name": "stdout",
          "text": [
            "Adjusting learning rate of group 0 to 1.0000e-03.\n"
          ]
        },
        {
          "output_type": "display_data",
          "data": {
            "text/html": [
              "\n",
              "    <div>\n",
              "        <style>\n",
              "            /* Turns off some styling */\n",
              "            progress {\n",
              "                /* gets rid of default border in Firefox and Opera. */\n",
              "                border: none;\n",
              "                /* Needs to be in here for Safari polyfill so background images work as expected. */\n",
              "                background-size: auto;\n",
              "            }\n",
              "            .progress-bar-interrupted, .progress-bar-interrupted::-webkit-progress-bar {\n",
              "                background: #F44336;\n",
              "            }\n",
              "        </style>\n",
              "      <progress value='24' class='' max='40' style='width:300px; height:20px; vertical-align: middle;'></progress>\n",
              "      60.00% [24/40 01:07<00:45]\n",
              "    </div>\n",
              "    \n",
              "Epoch: 0, Train loss: 1.64, val loss: 0.24, train rmse: 1.279, val rmse 0.493<p>Epoch: 1, Train loss: 0.23, val loss: 0.22, train rmse: 0.478, val rmse 0.472<p>Epoch: 2, Train loss: 0.20, val loss: 0.21, train rmse: 0.445, val rmse 0.453<p>Epoch: 3, Train loss: 0.18, val loss: 0.19, train rmse: 0.419, val rmse 0.434<p>Epoch: 4, Train loss: 0.19, val loss: 0.19, train rmse: 0.435, val rmse 0.440<p>Epoch: 5, Train loss: 0.18, val loss: 0.19, train rmse: 0.430, val rmse 0.440<p>Epoch: 6, Train loss: 0.17, val loss: 0.17, train rmse: 0.407, val rmse 0.415<p>Epoch: 7, Train loss: 0.16, val loss: 0.17, train rmse: 0.401, val rmse 0.417<p>Epoch: 8, Train loss: 0.14, val loss: 0.17, train rmse: 0.381, val rmse 0.414<p>Epoch: 9, Train loss: 0.15, val loss: 0.21, train rmse: 0.392, val rmse 0.455<p>Epoch: 10, Train loss: 0.15, val loss: 0.19, train rmse: 0.390, val rmse 0.438<p>Epoch: 11, Train loss: 0.16, val loss: 0.17, train rmse: 0.396, val rmse 0.416<p>Epoch: 12, Train loss: 0.17, val loss: 0.18, train rmse: 0.409, val rmse 0.423<p>Epoch: 13, Train loss: 0.14, val loss: 0.18, train rmse: 0.376, val rmse 0.423<p>Epoch: 14, Train loss: 0.14, val loss: 0.19, train rmse: 0.373, val rmse 0.430<p>Epoch: 15, Train loss: 0.12, val loss: 0.17, train rmse: 0.352, val rmse 0.416<p>Epoch: 16, Train loss: 0.12, val loss: 0.19, train rmse: 0.348, val rmse 0.431<p>Epoch: 17, Train loss: 0.12, val loss: 0.17, train rmse: 0.348, val rmse 0.415<p>Epoch: 18, Train loss: 0.12, val loss: 0.17, train rmse: 0.346, val rmse 0.415<p>Epoch: 19, Train loss: 0.12, val loss: 0.18, train rmse: 0.345, val rmse 0.420<p>Epoch: 20, Train loss: 0.12, val loss: 0.17, train rmse: 0.348, val rmse 0.414<p>Epoch: 21, Train loss: 0.12, val loss: 0.17, train rmse: 0.347, val rmse 0.416<p>Epoch: 22, Train loss: 0.12, val loss: 0.18, train rmse: 0.346, val rmse 0.425<p>Epoch: 23, Train loss: 0.12, val loss: 0.19, train rmse: 0.344, val rmse 0.433<p>\n",
              "\n",
              "    <div>\n",
              "        <style>\n",
              "            /* Turns off some styling */\n",
              "            progress {\n",
              "                /* gets rid of default border in Firefox and Opera. */\n",
              "                border: none;\n",
              "                /* Needs to be in here for Safari polyfill so background images work as expected. */\n",
              "                background-size: auto;\n",
              "            }\n",
              "            .progress-bar-interrupted, .progress-bar-interrupted::-webkit-progress-bar {\n",
              "                background: #F44336;\n",
              "            }\n",
              "        </style>\n",
              "      <progress value='5' class='' max='63' style='width:300px; height:20px; vertical-align: middle;'></progress>\n",
              "      7.94% [5/63 00:00<00:05]\n",
              "    </div>\n",
              "    "
            ],
            "text/plain": [
              "<IPython.core.display.HTML object>"
            ]
          },
          "metadata": {}
        },
        {
          "output_type": "stream",
          "name": "stderr",
          "text": [
            "/usr/local/lib/python3.7/dist-packages/torch/autocast_mode.py:141: UserWarning: User provided device_type of 'cuda', but CUDA is not available. Disabling\n",
            "  warnings.warn('User provided device_type of \\'cuda\\', but CUDA is not available. Disabling')\n"
          ]
        },
        {
          "output_type": "stream",
          "name": "stdout",
          "text": [
            "saving model...\n",
            "Adjusting learning rate of group 0 to 1.0000e-03.\n",
            "saving model...\n",
            "Adjusting learning rate of group 0 to 1.0000e-03.\n",
            "saving model...\n",
            "Adjusting learning rate of group 0 to 1.0000e-03.\n",
            "saving model...\n",
            "Adjusting learning rate of group 0 to 1.0000e-03.\n",
            "Adjusting learning rate of group 0 to 1.0000e-03.\n",
            "Adjusting learning rate of group 0 to 1.0000e-03.\n",
            "saving model...\n",
            "Adjusting learning rate of group 0 to 1.0000e-03.\n",
            "Adjusting learning rate of group 0 to 1.0000e-03.\n",
            "saving model...\n",
            "Adjusting learning rate of group 0 to 1.0000e-03.\n",
            "Adjusting learning rate of group 0 to 1.0000e-03.\n",
            "Adjusting learning rate of group 0 to 1.0000e-03.\n",
            "Adjusting learning rate of group 0 to 1.0000e-03.\n",
            "Adjusting learning rate of group 0 to 1.0000e-03.\n",
            "Adjusting learning rate of group 0 to 1.0000e-03.\n",
            "Adjusting learning rate of group 0 to 1.0000e-04.\n",
            "Adjusting learning rate of group 0 to 1.0000e-04.\n",
            "Adjusting learning rate of group 0 to 1.0000e-04.\n",
            "Adjusting learning rate of group 0 to 1.0000e-04.\n",
            "Adjusting learning rate of group 0 to 1.0000e-04.\n",
            "Adjusting learning rate of group 0 to 1.0000e-04.\n",
            "Adjusting learning rate of group 0 to 1.0000e-04.\n",
            "Adjusting learning rate of group 0 to 1.0000e-04.\n",
            "Adjusting learning rate of group 0 to 1.0000e-04.\n",
            "Adjusting learning rate of group 0 to 1.0000e-04.\n"
          ]
        },
        {
          "output_type": "error",
          "ename": "KeyboardInterrupt",
          "evalue": "ignored",
          "traceback": [
            "\u001b[0;31m---------------------------------------------------------------------------\u001b[0m",
            "\u001b[0;31mKeyboardInterrupt\u001b[0m                         Traceback (most recent call last)",
            "\u001b[0;32m<ipython-input-42-09051f62631b>\u001b[0m in \u001b[0;36m<module>\u001b[0;34m()\u001b[0m\n\u001b[1;32m      7\u001b[0m \u001b[0mscheduler\u001b[0m \u001b[0;34m=\u001b[0m \u001b[0mtorch\u001b[0m\u001b[0;34m.\u001b[0m\u001b[0moptim\u001b[0m\u001b[0;34m.\u001b[0m\u001b[0mlr_scheduler\u001b[0m\u001b[0;34m.\u001b[0m\u001b[0mLambdaLR\u001b[0m\u001b[0;34m(\u001b[0m\u001b[0moptimizer\u001b[0m\u001b[0;34m,\u001b[0m \u001b[0mlr_lambda\u001b[0m \u001b[0;34m=\u001b[0m \u001b[0;32mlambda\u001b[0m \u001b[0mepoch\u001b[0m\u001b[0;34m:\u001b[0m \u001b[0;36m0.1\u001b[0m \u001b[0;34m**\u001b[0m \u001b[0;34m(\u001b[0m\u001b[0mepoch\u001b[0m \u001b[0;34m//\u001b[0m \u001b[0;36m15\u001b[0m\u001b[0;34m)\u001b[0m\u001b[0;34m,\u001b[0m \u001b[0mlast_epoch\u001b[0m\u001b[0;34m=\u001b[0m\u001b[0;34m-\u001b[0m \u001b[0;36m1\u001b[0m\u001b[0;34m,\u001b[0m \u001b[0mverbose\u001b[0m\u001b[0;34m=\u001b[0m\u001b[0;32mTrue\u001b[0m\u001b[0;34m)\u001b[0m\u001b[0;34m\u001b[0m\u001b[0;34m\u001b[0m\u001b[0m\n\u001b[1;32m      8\u001b[0m result = train.run_training(model, optimizer, loss_fn, device, 40, trainloader, \n\u001b[0;32m----> 9\u001b[0;31m                             valloader, verbose=True, ntrain=500, nval=200, scheduler=scheduler, savefolder=\"munich_model4\")\n\u001b[0m",
            "\u001b[0;32m/content/airbnb_price/custom_functions/train_ensemble2.py\u001b[0m in \u001b[0;36mrun_training\u001b[0;34m(model, optimizer, loss_function, device, num_epochs, train_dataloader, val_dataloader, ntrain, nval, verbose, scheduler, savefolder)\u001b[0m\n\u001b[1;32m     89\u001b[0m         \u001b[0;31m# Train the model\u001b[0m\u001b[0;34m\u001b[0m\u001b[0;34m\u001b[0m\u001b[0;34m\u001b[0m\u001b[0m\n\u001b[1;32m     90\u001b[0m         epoch_train_loss, epoch_train_loss_sqrt = train(train_dataloader, optimizer, model,\n\u001b[0;32m---> 91\u001b[0;31m                                                         loss_function, device, ntrain, master_bar)\n\u001b[0m\u001b[1;32m     92\u001b[0m         \u001b[0;31m# Validate the model\u001b[0m\u001b[0;34m\u001b[0m\u001b[0;34m\u001b[0m\u001b[0;34m\u001b[0m\u001b[0m\n\u001b[1;32m     93\u001b[0m         \u001b[0mepoch_val_loss\u001b[0m\u001b[0;34m,\u001b[0m \u001b[0mepoch_val_loss_sqrt\u001b[0m \u001b[0;34m=\u001b[0m \u001b[0mvalidate\u001b[0m\u001b[0;34m(\u001b[0m\u001b[0mval_dataloader\u001b[0m\u001b[0;34m,\u001b[0m \u001b[0mmodel\u001b[0m\u001b[0;34m,\u001b[0m \u001b[0mloss_function\u001b[0m\u001b[0;34m,\u001b[0m \u001b[0mdevice\u001b[0m\u001b[0;34m,\u001b[0m \u001b[0mnval\u001b[0m\u001b[0;34m,\u001b[0m \u001b[0mmaster_bar\u001b[0m\u001b[0;34m)\u001b[0m\u001b[0;34m\u001b[0m\u001b[0;34m\u001b[0m\u001b[0m\n",
            "\u001b[0;32m/content/airbnb_price/custom_functions/train_ensemble2.py\u001b[0m in \u001b[0;36mtrain\u001b[0;34m(dataloader, optimizer, model, loss_fn, device, ntrain, master_bar)\u001b[0m\n\u001b[1;32m     35\u001b[0m \u001b[0;34m\u001b[0m\u001b[0m\n\u001b[1;32m     36\u001b[0m         \u001b[0;31m# Backward pass\u001b[0m\u001b[0;34m\u001b[0m\u001b[0;34m\u001b[0m\u001b[0;34m\u001b[0m\u001b[0m\n\u001b[0;32m---> 37\u001b[0;31m         \u001b[0mscaler\u001b[0m\u001b[0;34m.\u001b[0m\u001b[0mscale\u001b[0m\u001b[0;34m(\u001b[0m\u001b[0mloss\u001b[0m\u001b[0;34m)\u001b[0m\u001b[0;34m.\u001b[0m\u001b[0mbackward\u001b[0m\u001b[0;34m(\u001b[0m\u001b[0;34m)\u001b[0m\u001b[0;34m\u001b[0m\u001b[0;34m\u001b[0m\u001b[0m\n\u001b[0m\u001b[1;32m     38\u001b[0m         \u001b[0mscaler\u001b[0m\u001b[0;34m.\u001b[0m\u001b[0mstep\u001b[0m\u001b[0;34m(\u001b[0m\u001b[0moptimizer\u001b[0m\u001b[0;34m)\u001b[0m\u001b[0;34m\u001b[0m\u001b[0;34m\u001b[0m\u001b[0m\n\u001b[1;32m     39\u001b[0m         \u001b[0mscaler\u001b[0m\u001b[0;34m.\u001b[0m\u001b[0mupdate\u001b[0m\u001b[0;34m(\u001b[0m\u001b[0;34m)\u001b[0m\u001b[0;34m\u001b[0m\u001b[0;34m\u001b[0m\u001b[0m\n",
            "\u001b[0;32m/usr/local/lib/python3.7/dist-packages/torch/_tensor.py\u001b[0m in \u001b[0;36mbackward\u001b[0;34m(self, gradient, retain_graph, create_graph, inputs)\u001b[0m\n\u001b[1;32m    305\u001b[0m                 \u001b[0mcreate_graph\u001b[0m\u001b[0;34m=\u001b[0m\u001b[0mcreate_graph\u001b[0m\u001b[0;34m,\u001b[0m\u001b[0;34m\u001b[0m\u001b[0;34m\u001b[0m\u001b[0m\n\u001b[1;32m    306\u001b[0m                 inputs=inputs)\n\u001b[0;32m--> 307\u001b[0;31m         \u001b[0mtorch\u001b[0m\u001b[0;34m.\u001b[0m\u001b[0mautograd\u001b[0m\u001b[0;34m.\u001b[0m\u001b[0mbackward\u001b[0m\u001b[0;34m(\u001b[0m\u001b[0mself\u001b[0m\u001b[0;34m,\u001b[0m \u001b[0mgradient\u001b[0m\u001b[0;34m,\u001b[0m \u001b[0mretain_graph\u001b[0m\u001b[0;34m,\u001b[0m \u001b[0mcreate_graph\u001b[0m\u001b[0;34m,\u001b[0m \u001b[0minputs\u001b[0m\u001b[0;34m=\u001b[0m\u001b[0minputs\u001b[0m\u001b[0;34m)\u001b[0m\u001b[0;34m\u001b[0m\u001b[0;34m\u001b[0m\u001b[0m\n\u001b[0m\u001b[1;32m    308\u001b[0m \u001b[0;34m\u001b[0m\u001b[0m\n\u001b[1;32m    309\u001b[0m     \u001b[0;32mdef\u001b[0m \u001b[0mregister_hook\u001b[0m\u001b[0;34m(\u001b[0m\u001b[0mself\u001b[0m\u001b[0;34m,\u001b[0m \u001b[0mhook\u001b[0m\u001b[0;34m)\u001b[0m\u001b[0;34m:\u001b[0m\u001b[0;34m\u001b[0m\u001b[0;34m\u001b[0m\u001b[0m\n",
            "\u001b[0;32m/usr/local/lib/python3.7/dist-packages/torch/autograd/__init__.py\u001b[0m in \u001b[0;36mbackward\u001b[0;34m(tensors, grad_tensors, retain_graph, create_graph, grad_variables, inputs)\u001b[0m\n\u001b[1;32m    154\u001b[0m     Variable._execution_engine.run_backward(\n\u001b[1;32m    155\u001b[0m         \u001b[0mtensors\u001b[0m\u001b[0;34m,\u001b[0m \u001b[0mgrad_tensors_\u001b[0m\u001b[0;34m,\u001b[0m \u001b[0mretain_graph\u001b[0m\u001b[0;34m,\u001b[0m \u001b[0mcreate_graph\u001b[0m\u001b[0;34m,\u001b[0m \u001b[0minputs\u001b[0m\u001b[0;34m,\u001b[0m\u001b[0;34m\u001b[0m\u001b[0;34m\u001b[0m\u001b[0m\n\u001b[0;32m--> 156\u001b[0;31m         allow_unreachable=True, accumulate_grad=True)  # allow_unreachable flag\n\u001b[0m\u001b[1;32m    157\u001b[0m \u001b[0;34m\u001b[0m\u001b[0m\n\u001b[1;32m    158\u001b[0m \u001b[0;34m\u001b[0m\u001b[0m\n",
            "\u001b[0;31mKeyboardInterrupt\u001b[0m: "
          ]
        }
      ]
    },
    {
      "cell_type": "markdown",
      "source": [
        "# Evaluation of final model"
      ],
      "metadata": {
        "id": "pulBx8YibrAp"
      }
    },
    {
      "cell_type": "code",
      "source": [
        "model = EnsembleModel2(no_of_thumb=no_of_thumb, no_of_desc=no_of_desc, no_of_rev=no_of_rev, no_of_cont=no_of_cont,\n",
        "                       cat_emb_dims=cat_emb_dims, lin_layer_sizes=lin_layer_sizes, thumb_dropout=0.5, desc_dropout=0.5,\n",
        "                       rev_dropout=0.5, cont_dropout=0, cat_dropout=0, linear_layer_dropout=[0, 0, 0], bn_layers=False)\n",
        "\n",
        "# load statedict and model performances\n",
        "savefolder = \"munich_model\"\n",
        "state_dict = torch.load(\"/content/drive/MyDrive/Colab/airbnb/data/model_performance/\" + savefolder + \"/checkpoint.pt\")\n",
        "model.load_state_dict(state_dict)\n",
        "train_rmse = np.load(\"/content/drive/MyDrive/Colab/airbnb/data/model_performance/\" + savefolder + \"/trainloss.npy\")\n",
        "val_rmse = np.load(\"/content/drive/MyDrive/Colab/airbnb/data/model_performance/\" + savefolder + \"/valloss.npy\")"
      ],
      "metadata": {
        "id": "sP0XfRbdv0Qs"
      },
      "execution_count": null,
      "outputs": []
    },
    {
      "cell_type": "code",
      "source": [
        "# plot train and test\n",
        "ut.plot(\"RMSE\", \"RMSE\", train_rmse, val_rmse, yscale='linear')"
      ],
      "metadata": {
        "id": "D9TgHotkyidp",
        "outputId": "8bb33a80-191a-4bdf-c5ec-cd0b186e408f",
        "colab": {
          "base_uri": "https://localhost:8080/",
          "height": 303
        }
      },
      "execution_count": 55,
      "outputs": [
        {
          "output_type": "display_data",
          "data": {
            "image/png": "[encoded data removed]",
            "text/plain": [
              "<Figure size 360x288 with 1 Axes>"
            ]
          },
          "metadata": {
            "needs_background": "light"
          }
        }
      ]
    },
    {
      "cell_type": "code",
      "source": [
        "# show correlation\n",
        "ypreds = []\n",
        "ys = []\n",
        "\n",
        "with torch.no_grad():\n",
        "    model = model.eval()\n",
        "\n",
        "    for pic_embdg, description_embdg, reviews_embdg, cont_features, cat_features, label in tqdm(valloader):\n",
        "\n",
        "        pic_embdg, description_embdg, reviews_embdg, cont_features, cat_features = \\\n",
        "        pic_embdg.to(device), description_embdg.to(device), reviews_embdg.to(device), cont_features.to(device), cat_features.to(device).int()\n",
        "        \n",
        "        y_pred = model(pic_embdg, description_embdg, reviews_embdg, cont_features, cat_features)\n",
        "        y_pred = list(y_pred.detach().cpu())\n",
        "        \n",
        "        ypreds = ypreds + y_pred\n",
        "        ys = ys + list(label)\n",
        "\n",
        "\n"
      ],
      "metadata": {
        "colab": {
          "base_uri": "https://localhost:8080/"
        },
        "id": "a_fks15wPIUA",
        "outputId": "745badca-2817-4118-c908-682a7dec8e0d"
      },
      "execution_count": 56,
      "outputs": [
        {
          "output_type": "stream",
          "name": "stderr",
          "text": [
            "100%|██████████| 14/14 [00:01<00:00, 11.59it/s]\n"
          ]
        }
      ]
    },
    {
      "cell_type": "code",
      "source": [
        "ys = [i.item() for i in ys]\n",
        "ypreds = [i.item() for i in ypreds]\n",
        "\n",
        "print(pearsonr(ys, ypreds))\n",
        "plt.scatter(ys, ypreds)\n",
        "plt.show()"
      ],
      "metadata": {
        "id": "mGE1h6X12M6Z",
        "outputId": "f943328d-4835-4f12-88f8-e6c4413ccc48",
        "colab": {
          "base_uri": "https://localhost:8080/",
          "height": 285
        }
      },
      "execution_count": 57,
      "outputs": [
        {
          "output_type": "stream",
          "name": "stdout",
          "text": [
            "(0.7837698044517188, 0.0)\n"
          ]
        },
        {
          "output_type": "display_data",
          "data": {
            "image/png": "[encoded data removed]",
            "text/plain": [
              "<Figure size 432x288 with 1 Axes>"
            ]
          },
          "metadata": {}
        }
      ]
    },
    {
      "cell_type": "markdown",
      "source": [
        "# Evaluation of Munich model"
      ],
      "metadata": {
        "id": "4O211_g0Wk3N"
      }
    },
    {
      "cell_type": "code",
      "source": [
        "desc = pd.read_pickle(\"/content/drive/MyDrive/Colab/airbnb/munich/embeddings/descriptions.pickle\")\n",
        "rev = pd.read_pickle(\"/content/drive/MyDrive/Colab/airbnb/munich/embeddings/reviews.pickle\")\n",
        "thumb = pd.read_pickle(\"/content/drive/MyDrive/Colab/airbnb/munich/thumbnails/thumbnails_embeddings.pickle\")\n",
        "features = pd.read_pickle(\"/content/drive/MyDrive/Colab/airbnb/munich/listings_embeddedcats.pickle\")\n",
        "with open(\"/content/drive/MyDrive/Colab/airbnb/munich/catdict.json\", \"r\") as f:\n",
        "    catlist = json.load(f)\n",
        "\n",
        "# if you want to exclude columns in training, run this chunk\n",
        "\n",
        "features = features.drop([\"calculated_host_listings_count_private_rooms\", \"calculated_host_listings_count_entire_homes\", \"calculated_host_listings_count\", \"longitude\", \"latitude\", \"neighbourhood_cleansed\"], axis=1)\n",
        "dropset = set([\"calculated_host_listings_count_private_rooms\", \"calculated_host_listings_count_entire_homes\", \"calculated_host_listings_count\", \"longitude\", \"latitude\", \"neighbourhood_cleansed\"])\n",
        "\n",
        "logprice = features[\"log_price\"]\n",
        "\n",
        "selected_features = np.load(\"/content/drive/MyDrive/Colab/airbnb/data/feature_selection/selected_features2.npy\", allow_pickle=True)\n",
        "selected_features = (set(selected_features) & set(features.columns)) | (set(['neighbourhood_cleansed', 'property_type', 'room_type', 'lang']) - dropset)\n",
        "features = features[selected_features]\n",
        "\n",
        "desc = pd.DataFrame(desc)\n",
        "thumb = pd.DataFrame(thumb)\n",
        "rev = pd.DataFrame(rev)\n",
        "logprice = pd.DataFrame(logprice)\n",
        "\n",
        "data = pd.concat([thumb, desc, rev, features, logprice], axis=1)\n",
        "\n",
        "\n",
        "# choose to exclude some columns from the cat_cols\n",
        "cat_cols_regular = ['neighbourhood_cleansed', \n",
        "                    'property_type', \n",
        "                    'room_type', \n",
        "                    'lang', \n",
        "                    \"availability_30\", \n",
        "                    \"accommodates\", \n",
        "                    \"bedrooms\"]\n",
        "\n",
        "cat_cols_exclude = [#'neighbourhood_cleansed', \n",
        "                    #'property_type', \n",
        "                    #'room_type', \n",
        "                    #'lang', \n",
        "                    #\"availability_30\", \n",
        "                    \"accommodates\", \n",
        "                    \"bedrooms\"\n",
        "                    ]\n",
        "\n",
        "\n",
        "cat_cols = cat_cols_regular.copy()\n",
        "for x in cat_cols_exclude:\n",
        "    cat_cols.remove(x)\n",
        "\n",
        "rm_list = []\n",
        "for i, col in enumerate(cat_cols_regular):\n",
        "    if col in set(cat_cols_exclude):\n",
        "        rm_list.append(i)\n",
        "\n",
        "for i in rm_list[::-1]:\n",
        "    del catlist[i]\n",
        "\n",
        "to_replace = pd.read_pickle(\"/content/drive/MyDrive/Colab/airbnb/munich/listings_workfile.pickle\")\n",
        "\n",
        "if \"neighbourhood_cleansed\" in cat_cols_exclude:\n",
        "    cat_cols_exclude.remove(\"neighbourhood_cleansed\")\n",
        "    data.loc[:, \"neighbourhood_cleansed_Simmering\"] = to_replace[\"neighbourhood_cleansed_Simmering\"]\n",
        "    data.loc[:, \"neighbourhood_cleansed_Brigittenau\"] = to_replace[\"neighbourhood_cleansed_Brigittenau\"]\n",
        "    data.loc[:, \"neighbourhood_cleansed_Ottakring\"] =  to_replace[\"neighbourhood_cleansed_Ottakring\"]\n",
        "    data.loc[:, \"neighbourhood_cleansed_W\\x8ahring\"] =  to_replace[\"neighbourhood_cleansed_W\\x8ahring\"]\n",
        "    data.loc[:, \"neighbourhood_cleansed_Wieden\"] =  to_replace[\"neighbourhood_cleansed_Wieden\"]\n",
        "    data.loc[:, \"neighbourhood_cleansed_Hietzing\"] =  to_replace[\"neighbourhood_cleansed_Hietzing\"]\n",
        "    data.loc[:, \"neighbourhood_cleansed_Innere Stadt\"] =  to_replace[\"neighbourhood_cleansed_Innere Stadt\"]\n",
        "    data = data.drop(\"neighbourhood_cleansed\", axis=1)\n",
        "\n",
        "if \"property_type\" in cat_cols_exclude:\n",
        "    cat_cols_exclude.remove(\"property_type\")\n",
        "    data.loc[:, \"property_type_shared_room\"] =  to_replace[\"property_type_shared_room\"]\n",
        "    data.loc[:, \"property_type_private_room\"] =  to_replace[\"property_type_private_room\"]\n",
        "    data = data.drop(\"property_type\", axis=1)\n",
        "\n",
        "if \"room_type\" in cat_cols_exclude:\n",
        "    cat_cols_exclude.remove(\"room_type\")\n",
        "    data.loc[:, \"room_Private room\"] =  to_replace[\"room_Private room\"]\n",
        "    data.loc[:, \"room_Shared room\"] =  to_replace[\"room_Shared room\"]   \n",
        "    data = data.drop(\"room_type\", axis=1)\n",
        "\n",
        "if \"lang\" in cat_cols_exclude:\n",
        "    cat_cols_exclude.remove(\"lang\")\n",
        "    data = data.drop(\"lang\", axis=1)\n",
        "\n",
        "data.loc[:, cat_cols_exclude] = to_replace[cat_cols_exclude]\n",
        "\n",
        "\n",
        "# if you want to remove something from catcols and catlist, run this\n",
        "del cat_cols[0]\n",
        "del catlist[0]\n",
        "\n",
        "\n",
        "# TODO\n",
        "# create dataloaders\n",
        "testset = EnsembleDataset2(data, [\"thumbnails\"], [\"descriptions\"], [\"reviews\"], cat_cols, [\"log_price\"])\n",
        "\n",
        "b = 128\n",
        "testloader = DataLoader(testset, shuffle=True, num_workers=2, batch_size=b)"
      ],
      "metadata": {
        "id": "n1t8LpkLXedg"
      },
      "execution_count": 30,
      "outputs": []
    },
    {
      "cell_type": "code",
      "source": [
        "no_of_thumb = 100\n",
        "no_of_desc = 100\n",
        "no_of_rev = 100\n",
        "no_of_cont = len(data.columns) - 3 - 1 - len(catlist)  # -3 for thumb, desc and rev, -1 for price, last term to subtract cat cols\n",
        "cat_emb_dims = [(len(x), 16) for x in catlist]\n",
        "lin_layer_sizes = [512, 512, 512, 512, 512, 512]\n",
        "\n",
        "model = EnsembleModel2(no_of_thumb=no_of_thumb, no_of_desc=no_of_desc, no_of_rev=no_of_rev, no_of_cont=no_of_cont,\n",
        "                       cat_emb_dims=cat_emb_dims, lin_layer_sizes=lin_layer_sizes, thumb_dropout=0.5, desc_dropout=0.5,\n",
        "                       rev_dropout=0.5, cont_dropout=0, cat_dropout=0, linear_layer_dropout=[0, 0, 0], bn_layers=False)\n",
        "\n",
        "# load statedict and model performances\n",
        "savefolder = \"munich_model2\"\n",
        "state_dict = torch.load(\"/content/drive/MyDrive/Colab/airbnb/data/model_performance/\" + savefolder + \"/checkpoint.pt\")\n",
        "model.load_state_dict(state_dict)\n",
        "train_rmse = np.load(\"/content/drive/MyDrive/Colab/airbnb/data/model_performance/\" + savefolder + \"/trainloss.npy\")\n",
        "val_rmse = np.load(\"/content/drive/MyDrive/Colab/airbnb/data/model_performance/\" + savefolder + \"/valloss.npy\")"
      ],
      "metadata": {
        "id": "jjXVUsP8Wlst"
      },
      "execution_count": 32,
      "outputs": []
    },
    {
      "cell_type": "code",
      "source": [
        "\n",
        "\n",
        "\n",
        "ypreds = []\n",
        "ys = []\n",
        "\n",
        "with torch.no_grad():\n",
        "    model = model.eval()\n",
        "\n",
        "    for pic_embdg, description_embdg, reviews_embdg, cont_features, cat_features, label in tqdm(testloader):\n",
        "\n",
        "        pic_embdg, description_embdg, reviews_embdg, cont_features, cat_features = \\\n",
        "        pic_embdg.to(device), description_embdg.to(device), reviews_embdg.to(device), cont_features.to(device), cat_features.to(device).int()\n",
        "        \n",
        "        y_pred = model(pic_embdg, description_embdg, reviews_embdg, cont_features, cat_features)\n",
        "        y_pred = list(y_pred.detach().cpu())\n",
        "        \n",
        "        ypreds = ypreds + y_pred\n",
        "        ys = ys + list(label)\n"
      ],
      "metadata": {
        "id": "HjQq9O2UWwZM",
        "outputId": "3a8bfac2-125a-4b04-cce4-8d50385390ed",
        "colab": {
          "base_uri": "https://localhost:8080/"
        }
      },
      "execution_count": 33,
      "outputs": [
        {
          "output_type": "stream",
          "name": "stderr",
          "text": [
            "100%|██████████| 8/8 [00:00<00:00, 25.98it/s]\n"
          ]
        }
      ]
    },
    {
      "cell_type": "code",
      "source": [
        "ys = [i.item() for i in ys]\n",
        "ypreds = [i.item() for i in ypreds]\n",
        "\n",
        "print(pearsonr(ys, ypreds))\n",
        "plt.scatter(ys, ypreds)\n",
        "plt.show()"
      ],
      "metadata": {
        "id": "pmmYeWuChX-B",
        "outputId": "c896b0bd-0f4b-4c97-8882-dee7aa6ff348",
        "colab": {
          "base_uri": "https://localhost:8080/",
          "height": 282
        }
      },
      "execution_count": 34,
      "outputs": [
        {
          "output_type": "stream",
          "name": "stdout",
          "text": [
            "(0.5897443330217649, 1.560985163375761e-94)\n"
          ]
        },
        {
          "output_type": "display_data",
          "data": {
            "image/png": "[encoded data removed]",
            "text/plain": [
              "<Figure size 432x288 with 1 Axes>"
            ]
          },
          "metadata": {
            "needs_background": "light"
          }
        }
      ]
    },
    {
      "cell_type": "code",
      "source": [
        "import sklearn\n",
        "\n",
        "sklearn.metrics.mean_squared_error(ys, ypreds)"
      ],
      "metadata": {
        "id": "n3aP94xXhfel",
        "outputId": "04e96f5b-2637-4aec-93a4-0a17405fd335",
        "colab": {
          "base_uri": "https://localhost:8080/"
        }
      },
      "execution_count": 35,
      "outputs": [
        {
          "output_type": "execute_result",
          "data": {
            "text/plain": [
              "0.4812030225257406"
            ]
          },
          "metadata": {},
          "execution_count": 35
        }
      ]
    },
    {
      "cell_type": "code",
      "source": [
        "from sklearn import linear_model\n",
        "reg = linear_model.LinearRegression()\n",
        "reg.fit(np.array(ypreds).reshape(-1, 1), np.array(ys).reshape(-1,1))\n",
        "ypreds = ypreds * reg.coef_ + reg.intercept_"
      ],
      "metadata": {
        "id": "jBTzUvhUiDP3"
      },
      "execution_count": 36,
      "outputs": []
    },
    {
      "cell_type": "code",
      "source": [
        "sklearn.metrics.mean_squared_error(ys, np.squeeze(ypreds))"
      ],
      "metadata": {
        "id": "HChpEL-PjmRd",
        "outputId": "c893c30f-6410-400f-cd43-a1d14e67f585",
        "colab": {
          "base_uri": "https://localhost:8080/"
        }
      },
      "execution_count": 37,
      "outputs": [
        {
          "output_type": "execute_result",
          "data": {
            "text/plain": [
              "0.3169098085626301"
            ]
          },
          "metadata": {},
          "execution_count": 37
        }
      ]
    },
    {
      "cell_type": "markdown",
      "source": [
        "# Explainability categorical variables"
      ],
      "metadata": {
        "id": "4lgacq3DrsFE"
      }
    },
    {
      "cell_type": "code",
      "source": [
        "embeddings = np.empty((len(catlist[0]), 16))\n",
        "\n",
        "for i in range(len(catlist[0])):\n",
        "    embedding = model.generate_cat_embeddings(variable_number=0, category_number=i)\n",
        "    embedding = embedding.numpy()\n",
        "    embeddings[i] = embedding"
      ],
      "metadata": {
        "id": "0qhD16589zzN"
      },
      "execution_count": null,
      "outputs": []
    },
    {
      "cell_type": "code",
      "source": [
        "from sklearn.manifold import TSNE\n",
        "\n",
        "tsne = TSNE(random_state=1, perplexity=20)  # perplexity=x argument possible\n",
        "tsne_results = tsne.fit_transform(embeddings)"
      ],
      "metadata": {
        "id": "AbUZ26UsrvLz",
        "outputId": "571b2c88-165a-48f7-9a4e-a52a6cb5d493",
        "colab": {
          "base_uri": "https://localhost:8080/"
        }
      },
      "execution_count": null,
      "outputs": [
        {
          "output_type": "stream",
          "name": "stderr",
          "text": [
            "/usr/local/lib/python3.7/dist-packages/sklearn/manifold/_t_sne.py:783: FutureWarning: The default initialization in TSNE will change from 'random' to 'pca' in 1.2.\n",
            "  FutureWarning,\n",
            "/usr/local/lib/python3.7/dist-packages/sklearn/manifold/_t_sne.py:793: FutureWarning: The default learning rate in TSNE will change from 200.0 to 'auto' in 1.2.\n",
            "  FutureWarning,\n"
          ]
        }
      ]
    },
    {
      "cell_type": "code",
      "source": [
        "districts = ['Donaustadt', 'Leopoldstadt', 'Rudolfsheim-Fuenfhaus', 'Ottakring', 'Brigittenau', 'Neubau', 'Margareten',\n",
        "             'Hernals', 'Floridsdorf', 'Alsergrund', 'Simmering', 'Wieden', 'Mariahilf', 'Josefstadt', 'Landstrasse',\n",
        "             'Favoriten', 'Innere Stadt', 'Meidling', 'Wöhring', 'Döbling', 'Penzing', 'Liesing', 'Hietzing']"
      ],
      "metadata": {
        "id": "M-CAwqRxE4kS"
      },
      "execution_count": null,
      "outputs": []
    },
    {
      "cell_type": "code",
      "source": [
        "fig, ax = plt.subplots(figsize=(10, 10))\n",
        "ax.scatter(pca_results[:, 0], pca_results[:, 1])\n",
        "\n",
        "for i, txt in enumerate(districts):\n",
        "    ax.annotate(districts[i], (pca_results[:, 0][i], pca_results[:, 1][i]))\n",
        "\n",
        "plt.show()"
      ],
      "metadata": {
        "id": "lvDRkisBDNwx",
        "outputId": "245152a4-8a45-4172-a9fb-8bf11aed3578",
        "colab": {
          "base_uri": "https://localhost:8080/",
          "height": 594
        }
      },
      "execution_count": null,
      "outputs": [
        {
          "output_type": "display_data",
          "data": {
            "image/png": "[encoded data removed]",
            "text/plain": [
              "<Figure size 720x720 with 1 Axes>"
            ]
          },
          "metadata": {}
        }
      ]
    },
    {
      "cell_type": "code",
      "source": [
        "import sklearn\n",
        "pca = sklearn.decomposition.PCA(n_components=2)"
      ],
      "metadata": {
        "id": "nQy1akGCHa3f"
      },
      "execution_count": null,
      "outputs": []
    },
    {
      "cell_type": "code",
      "source": [
        "pca_results = pca.fit_transform(embeddings)"
      ],
      "metadata": {
        "id": "ctL25JbJHkbA"
      },
      "execution_count": null,
      "outputs": []
    }
  ],
  "metadata": {
    "colab": {
      "collapsed_sections": [],
      "name": "Ensemble_model.ipynb",
      "provenance": [],
      "include_colab_link": true
    },
    "kernelspec": {
      "display_name": "Python 3",
      "language": "python",
      "name": "python3"
    },
    "language_info": {
      "codemirror_mode": {
        "name": "ipython",
        "version": 3
      },
      "file_extension": ".py",
      "mimetype": "text/x-python",
      "name": "python",
      "nbconvert_exporter": "python",
      "pygments_lexer": "ipython3",
      "version": "3.8.5"
    }
  },
  "nbformat": 4,
  "nbformat_minor": 0
}