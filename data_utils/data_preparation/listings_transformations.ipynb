{
  "cells": [
    {
      "cell_type": "markdown",
      "metadata": {
        "id": "view-in-github",
        "colab_type": "text"
      },
      "source": [
        "<a href=\"https://colab.research.google.com/github/dernameistegal/airbnb_price/blob/main/data_utils/data_preparation/listings_transformations.ipynb\" target=\"_parent\"><img src=\"https://colab.research.google.com/assets/colab-badge.svg\" alt=\"Open In Colab\"/></a>"
      ]
    },
    {
      "cell_type": "code",
      "execution_count": null,
      "metadata": {
        "id": "lIYdn1woOS1n"
      },
      "outputs": [],
      "source": [
        "%%capture\n",
        "!pip install ast\n",
        "import numpy as np\n",
        "import ast\n",
        "import pandas as pd\n",
        "import numpy as np\n",
        "from google.colab import drive\n",
        "import matplotlib.pyplot as plt\n",
        "import json\n",
        "drive.mount('/content/drive')"
      ]
    },
    {
      "cell_type": "markdown",
      "source": [
        "# Data preparation translated_listings.pickle"
      ],
      "metadata": {
        "id": "E3pnpJc-QVDm"
      }
    },
    {
      "cell_type": "code",
      "source": [
        "path= (\"/content/drive/MyDrive/Colab/airbnb/data/translations/translated_listings.pickle\")\n",
        "listings = pd.read_pickle(path)"
      ],
      "metadata": {
        "id": "EaY2xt9LFiE9"
      },
      "execution_count": null,
      "outputs": []
    },
    {
      "cell_type": "code",
      "source": [
        "# set id as row index and rename to listing_id\n",
        "listings.set_index('id', inplace=True)\n",
        "listings.index.name = \"listing_id\""
      ],
      "metadata": {
        "id": "Xwcqb-vIES_d"
      },
      "execution_count": null,
      "outputs": []
    },
    {
      "cell_type": "code",
      "source": [
        "# remove columns from listings that do not make sense as predictors\n",
        "\n",
        "drop_vars = [\"name\", \"listing_url\", \"scrape_id\", \"last_scraped\", \"picture_url\", \n",
        "       \"neighborhood_overview\", \"description\", \"host_id\",\n",
        "       \"host_url\", \"host_name\", \"host_location\", \"host_about\",\n",
        "       \"host_thumbnail_url\", \"host_picture_url\", \"host_neighbourhood\", \"host_total_listings_count\",\n",
        "       \"host_has_profile_pic\", \"neighbourhood\", \"neighbourhood_group_cleansed\", \"bathrooms\",\n",
        "       \"maximum_nights\", \"maximum_nights\",\t\"minimum_minimum_nights\", 'minimum_maximum_nights',\n",
        "       'maximum_maximum_nights', 'minimum_nights_avg_ntm',\n",
        "       'maximum_nights_avg_ntm', 'calendar_updated',\"has_availability\", \"calendar_last_scraped\",\n",
        "       \"number_of_reviews_ltm\", \"number_of_reviews_l30d\", \"license\"]\n",
        "\n",
        "listings = listings.drop(drop_vars, axis=1)"
      ],
      "metadata": {
        "id": "KoQUH95KZPia"
      },
      "execution_count": null,
      "outputs": []
    },
    {
      "cell_type": "code",
      "source": [
        "# transform price\n",
        "listings[\"price\"] = (\n",
        "    listings[\"price\"].str.replace(\"$\", \"\").str.replace(\",\", \"\").astype(float)\n",
        ")\n",
        "\n",
        "# save listing ids where price is zero in missing_data file\n",
        "with open(\"/content/drive/MyDrive/Colab/airbnb/data/data1/missing_data.json\", \"r\") as f:\n",
        "    missing_data = json.load(f)\n",
        "\n",
        "price_zero = listings[listings[\"price\"] == 0].index\n",
        "missing_data[\"price\"] = list(price_zero)\n",
        "\n",
        "with open(\"/content/drive/MyDrive/Colab/airbnb/data/data1/missing_data.json\", \"w\") as f:\n",
        "    json.dump(missing_data, f, indent=6)\n",
        "\n",
        "#remove zeros from price\n",
        "listings = listings[listings[\"price\"] != 0]\n",
        "\n",
        "# log price\n",
        "listings[\"log_price\"] = np.log(listings[\"price\"])\n",
        "\n",
        "# plot log price\n",
        "# plt.hist(listings[\"log_price\"], bins=50)\n",
        "# plt.show()"
      ],
      "metadata": {
        "id": "4lvVrVIyLRKj",
        "outputId": "090ca3fa-c432-4747-bba6-d628c2500473",
        "colab": {
          "base_uri": "https://localhost:8080/"
        }
      },
      "execution_count": null,
      "outputs": [
        {
          "output_type": "stream",
          "name": "stderr",
          "text": [
            "/usr/local/lib/python3.7/dist-packages/ipykernel_launcher.py:3: FutureWarning: The default value of regex will change from True to False in a future version. In addition, single character regular expressions will *not* be treated as literal strings when regex=True.\n",
            "  This is separate from the ipykernel package so we can avoid doing imports until\n",
            "/usr/local/lib/python3.7/dist-packages/ipykernel_launcher.py:20: SettingWithCopyWarning: \n",
            "A value is trying to be set on a copy of a slice from a DataFrame.\n",
            "Try using .loc[row_indexer,col_indexer] = value instead\n",
            "\n",
            "See the caveats in the documentation: https://pandas.pydata.org/pandas-docs/stable/user_guide/indexing.html#returning-a-view-versus-a-copy\n"
          ]
        }
      ]
    },
    {
      "cell_type": "code",
      "source": [
        "# recode property into three categories\n",
        "property_type_entire_unit = listings[\"property_type\"].str.contains(\"Entire\", case=False, na=False)\n",
        "property_type_entire_unit = property_type_entire_unit.astype(\"int\")\n",
        "property_type_entire_unit.name = \"property_type_entire_unit\"\n",
        "property_type_shared_room = listings[\"property_type\"].str.contains(\"Shared\", case=False, na=False)\n",
        "property_type_shared_room = property_type_shared_room.astype(\"int\")\n",
        "property_type_shared_room.name = \"property_type_shared_room\"\n",
        "property_type_private_room = listings[\"property_type\"].str.contains(\"Private\", case=False, na=False)\n",
        "property_type_private_room = property_type_private_room.astype(\"int\")\n",
        "property_type_private_room.name = \"property_type_private_room\"\n",
        "listings = listings.drop(\"property_type\", axis=1)"
      ],
      "metadata": {
        "id": "DitQGxytf48J"
      },
      "execution_count": null,
      "outputs": []
    },
    {
      "cell_type": "code",
      "source": [
        "# recode rooms, neighbourhood_cleansed, properties, host_is_superhost, instant_bookable and host_identity_verified into dummies\n",
        "rooms = pd.get_dummies(listings[\"room_type\"], prefix=\"room\")\n",
        "listings = listings.drop(\"room_type\", axis=1)\n",
        "\n",
        "neighbourhood_cleansed = pd.get_dummies(listings[\"neighbourhood_cleansed\"], prefix=\"neighbourhood_cleansed\")\n",
        "listings = listings.drop(\"neighbourhood_cleansed\", axis=1)\n",
        "\n",
        "listings[\"host_is_superhost\"] = listings[\"host_is_superhost\"].map(dict(t=1, f=0))\n",
        "listings[\"instant_bookable\"] = listings[\"instant_bookable\"].map(dict(t=1, f=0))\n",
        "listings[\"host_identity_verified\"] = listings[\"host_identity_verified\"].map(\n",
        "    dict(t=1, f=0)\n",
        ")\n",
        "\n",
        "listings = pd.concat([listings, rooms, neighbourhood_cleansed, property_type_entire_unit, property_type_shared_room, property_type_private_room], axis=1)\n"
      ],
      "metadata": {
        "id": "23BSyd68JdA2"
      },
      "execution_count": null,
      "outputs": []
    },
    {
      "cell_type": "code",
      "source": [
        "# recode host_verifications into dummies\n",
        "listings[\"host_verifications\"] = listings[\"host_verifications\"].apply(ast.literal_eval)\n",
        "host_verifications = listings[\"host_verifications\"]\n",
        "host_verifications = pd.get_dummies(host_verifications.apply(pd.Series).stack(dropna=False), prefix=\"host_verification\").sum(level=0)\n",
        "listings = pd.concat([listings, host_verifications], axis=1)\n",
        "listings = listings.drop(\"host_verifications\", axis=1)"
      ],
      "metadata": {
        "id": "n8oCDiDEfH85",
        "outputId": "9c0c38e9-5074-4399-aa1d-4c3431249307",
        "colab": {
          "base_uri": "https://localhost:8080/"
        }
      },
      "execution_count": null,
      "outputs": [
        {
          "output_type": "stream",
          "name": "stderr",
          "text": [
            "/usr/local/lib/python3.7/dist-packages/ipykernel_launcher.py:4: FutureWarning: Using the level keyword in DataFrame and Series aggregations is deprecated and will be removed in a future version. Use groupby instead. df.sum(level=1) should use df.groupby(level=1).sum().\n",
            "  after removing the cwd from sys.path.\n"
          ]
        }
      ]
    },
    {
      "cell_type": "code",
      "source": [
        "# recode bath into bath shared dummy and number of baths\n",
        "bath_is_shared = listings[\"bathrooms_text\"].str.contains(\"shared\", case=False, na=False)\n",
        "bath_is_shared.name = \"bath_is_shared\"\n",
        "bath_is_shared = bath_is_shared.astype(\"int\")\n",
        "bath_is_half = listings[\"bathrooms_text\"].str.contains(\"half\", case=False, na=False)\n",
        "bath_number = listings[\"bathrooms_text\"].str.extract('(\\d+\\.?\\d?)', expand=False)\n",
        "bath_number[bath_is_half] = 0.5\n",
        "bath_number = bath_number.astype(\"float\")\n",
        "bath_number.name = \"bath_number\"\n",
        "\n",
        "listings = pd.concat([listings, bath_is_shared, bath_number], axis=1)\n",
        "listings = listings.drop(\"bathrooms_text\", axis=1)"
      ],
      "metadata": {
        "id": "fNPuPwfezugU"
      },
      "execution_count": null,
      "outputs": []
    },
    {
      "cell_type": "code",
      "source": [
        "#@title recode amenities functions\n",
        "def contains_list(elements, series):\n",
        "    df = (series == \"Not existing value\").astype(\"int\")\n",
        "    for el in elements:\n",
        "        df = df + series.str.contains(el, case=False, na=0)\n",
        "    return df\n",
        "    \n",
        "def to_binary(series):\n",
        "  series = (series > 0).astype(int)\n",
        "  return series"
      ],
      "metadata": {
        "id": "0CWbS25F-d9H",
        "cellView": "form"
      },
      "execution_count": null,
      "outputs": []
    },
    {
      "cell_type": "code",
      "source": [
        "# look at observation with specific amenity\n",
        "listings[\"amenities\"].loc[contains_list([\"\\\"sauna\"], listings[\"amenities\"]).astype(bool)].iloc[0]"
      ],
      "metadata": {
        "id": "v8E8vI7USFaG",
        "outputId": "16a0ad50-7741-4a3e-f65e-9d0786feb7b3",
        "colab": {
          "base_uri": "https://localhost:8080/",
          "height": 87
        }
      },
      "execution_count": null,
      "outputs": [
        {
          "output_type": "execute_result",
          "data": {
            "application/vnd.google.colaboratory.intrinsic+json": {
              "type": "string"
            },
            "text/plain": [
              "'[\"Wine glasses\", \"Lock on bedroom door\", \"Safe\", \"Iron\", \"Hair dryer\", \"First aid kit\", \"Bed linens\", \"Room-darkening shades\", \"Paid parking on premises\", \"TV\", \"Hangers\", \"Long term stays allowed\", \"Crib\", \"Dedicated workspace\", \"Host greets you\", \"Fire extinguisher\", \"Shower gel\", \"Carbon monoxide alarm\", \"Luggage dropoff allowed\", \"Paid parking off premises\", \"Smoke alarm\", \"Wifi\", \"Elevator\", \"Microwave\", \"Laundromat nearby\", \"Hot water\", \"Sauna\", \"Air conditioning\", \"Refrigerator\", \"Essentials\", \"Body soap\", \"Clothing storage\", \"Shampoo\", \"Heating\", \"Gym\", \"Dishes and silverware\", \"Free street parking\"]'"
            ]
          },
          "metadata": {},
          "execution_count": 218
        }
      ]
    },
    {
      "cell_type": "code",
      "source": [
        "# print number of observations with specific amenity\n",
        "np.sum(contains_list([\"bathtub\"], listings[\"amenities\"]))"
      ],
      "metadata": {
        "id": "vmuiAO6ZUxXO",
        "outputId": "36cbc3e7-6934-4a96-aa5b-bd05fbf8e11a",
        "colab": {
          "base_uri": "https://localhost:8080/"
        }
      },
      "execution_count": null,
      "outputs": [
        {
          "output_type": "execute_result",
          "data": {
            "text/plain": [
              "1491"
            ]
          },
          "metadata": {},
          "execution_count": 219
        }
      ]
    },
    {
      "cell_type": "code",
      "source": [
        "#@title recode amenities\n",
        "\n",
        "# binaries1\n",
        "tmp_amenities = [\"Table corner guards\"]\n",
        "amenities_tablecornerguards = contains_list(tmp_amenities, listings[\"amenities\"])\n",
        "amenities_tablecornerguards.name = \"amenities_\" + \"amenities_tablecornerguards\"\n",
        "amenities_tablecornerguards = to_binary(amenities_tablecornerguards)\n",
        "\n",
        "tmp_amenities = [\"Cleaning before checkout\"]\n",
        "amenities_cleanbeforecheckout = contains_list(tmp_amenities, listings[\"amenities\"])\n",
        "amenities_cleanbeforecheckout.name = \"amenities_\" + \"amenities_cleanbeforecheckout\"\n",
        "amenities_cleanbeforecheckout = to_binary(amenities_cleanbeforecheckout)\n",
        "\n",
        "tmp_amenities = [\"Cleaning products\"]\n",
        "amenities_cleaningproducts = contains_list(tmp_amenities, listings[\"amenities\"])\n",
        "amenities_cleaningproducts.name = \"amenities_\" + \"amenities_cleaningproducts\"\n",
        "amenities_cleaningproducts = to_binary(amenities_cleaningproducts)\n",
        "\n",
        "tmp_amenities = [\"host greets you\"]\n",
        "amenities_greetings = contains_list(tmp_amenities, listings[\"amenities\"])\n",
        "amenities_greetings.name = \"amenities_\" + \"greetings\"\n",
        "amenities_greetings = to_binary(amenities_greetings)\n",
        "\n",
        "tmp_amenities = [\"building staff\"]\n",
        "amenities_staff = contains_list(tmp_amenities, listings[\"amenities\"])\n",
        "amenities_staff.name = \"amenities_\" + \"staff\"\n",
        "amenities_staff = to_binary(amenities_staff)\n",
        "\n",
        "tmp_amenities = [\"elevator\"]\n",
        "amenities_elevator = contains_list(tmp_amenities, listings[\"amenities\"])\n",
        "amenities_elevator.name = \"amenities_\" + \"elevator\"\n",
        "amenities_elevator = to_binary(amenities_elevator)\n",
        "\n",
        "tmp_amenities = [\"Single level home\"]\n",
        "amenities_singlelevel = contains_list(tmp_amenities, listings[\"amenities\"])\n",
        "amenities_singlelevel.name = \"amenities_\" + \"singlelevel\"\n",
        "amenities_singlelevel = to_binary(amenities_singlelevel)\n",
        "\n",
        "tmp_amenities = [\"keypad\"]\n",
        "amenities_keypad = contains_list(tmp_amenities, listings[\"amenities\"])\n",
        "amenities_keypad.name = \"amenities_\" + \"keypad\"\n",
        "amenities_keypad = to_binary(amenities_keypad)\n",
        "\n",
        "tmp_amenities = [\"private entrance\"]\n",
        "amenities_privateentrance = contains_list(tmp_amenities, listings[\"amenities\"])\n",
        "amenities_privateentrance.name = \"amenities_\" + \"privateentrance\"\n",
        "amenities_privateentrance = to_binary(amenities_privateentrance)\n",
        "\n",
        "tmp_amenities = [\"bidet\"]\n",
        "amenities_bidet = contains_list(tmp_amenities, listings[\"amenities\"])\n",
        "amenities_bidet.name = \"amenities_\" + \"bidet\"\n",
        "amenities_bidet = to_binary(amenities_bidet)\n",
        "\n",
        "tmp_amenities = [\"bathtub\"]\n",
        "amenities_bathtub = contains_list(tmp_amenities, listings[\"amenities\"])\n",
        "amenities_bathtub.name = \"amenities_\" + \"bathtub\"\n",
        "amenities_bathtub = to_binary(amenities_bathtub)\n",
        "\n",
        "tmp_amenities = [\"fire extinguisher\"]\n",
        "amenities_extinguisher = contains_list(tmp_amenities, listings[\"amenities\"])\n",
        "amenities_extinguisher.name = \"amenities_\" + \"extinguisher\"\n",
        "amenities_extinguisher = to_binary(amenities_extinguisher)\n",
        "\n",
        "tmp_amenities = [\"dining table\"]\n",
        "amenities_diningtable = contains_list(tmp_amenities, listings[\"amenities\"])\n",
        "amenities_diningtable.name = \"amenities_\" + \"diningtable\"\n",
        "amenities_diningtable = to_binary(amenities_diningtable)\n",
        "\n",
        "tmp_amenities = [\"smart lock\"]\n",
        "amenities_smartlock = contains_list(tmp_amenities, listings[\"amenities\"])\n",
        "amenities_smartlock.name = \"amenities_\" + \"smartlock\"\n",
        "amenities_smartlock = to_binary(amenities_smartlock)\n",
        "\n",
        "tmp_amenities = [\"Security cameras on property\"]\n",
        "amenities_cameras = contains_list(tmp_amenities, listings[\"amenities\"])\n",
        "amenities_cameras.name = \"amenities_\" + \"cameras\"\n",
        "amenities_cameras = to_binary(amenities_cameras)\n",
        "\n",
        "tmp_amenities = [\"tv\"]\n",
        "amenities_tv = contains_list(tmp_amenities, listings[\"amenities\"])\n",
        "amenities_tv.name = \"amenities_\" + \"tv\"\n",
        "amenities_tv = to_binary(amenities_tv)\n",
        "\n",
        "tmp_amenities = [\"sound system\", \"record player\"]\n",
        "amenities_sound_system = contains_list(tmp_amenities, listings[\"amenities\"])\n",
        "amenities_sound_system.name = \"amenities_\" + \"soundsystem\"\n",
        "amenities_sound_system = to_binary(amenities_sound_system)\n",
        "\n",
        "tmp_amenities = [\"AC\", \"air conditioning\"]\n",
        "amenities_aircon = contains_list(tmp_amenities, listings[\"amenities\"])\n",
        "amenities_aircon.name = \"amenities_\" + \"aircon\"\n",
        "amenities_aircon = to_binary(amenities_aircon)\n",
        "\n",
        "tmp_amenities = [\"lake\", \"Waterfront\", \"Boat slip\", \"beachfront\"]\n",
        "amenities_water_access = contains_list(tmp_amenities, listings[\"amenities\"])\n",
        "amenities_water_access.name = \"amenities_\" + \"wateraccess\"\n",
        "amenities_water_access = to_binary(amenities_water_access)\n",
        "\n",
        "tmp_amenities = [\"safe\", \"lockbox\"]\n",
        "amenities_safe = contains_list(tmp_amenities, listings[\"amenities\"])\n",
        "amenities_safe.name = \"amenities_\" + \"safe\"\n",
        "amenities_safe = to_binary(amenities_safe)\n",
        "\n",
        "tmp_amenities = [\"piano\"]\n",
        "amenities_piano = contains_list(tmp_amenities, listings[\"amenities\"])\n",
        "amenities_piano.name = \"amenities_\" + \"piano\"\n",
        "amenities_piano = to_binary(amenities_piano)\n",
        "\n",
        "tmp_amenities = [\"fireplace\", \"fire pit\"]\n",
        "amenities_fireplace = contains_list(tmp_amenities, listings[\"amenities\"])\n",
        "amenities_fireplace.name = \"amenities_\" + \"fireplace\"\n",
        "amenities_fireplace = to_binary(amenities_fireplace)\n",
        "\n",
        "tmp_amenities = [\"bio\", \"ecological\", \"natur\", \"fairtrade\", \"organic\"]\n",
        "amenities_bio = contains_list(tmp_amenities, listings[\"amenities\"])\n",
        "amenities_bio.name = \"amenities_\" + \"bio\"\n",
        "amenities_bio = to_binary(amenities_bio)\n",
        "\n",
        "tmp_amenities = [\"wifi\", \"Ethernet connection\"]\n",
        "amenities_wifi = contains_list(tmp_amenities, listings[\"amenities\"])\n",
        "amenities_wifi.name = \"amenities_\" + \"wifi\"\n",
        "amenities_wifi = to_binary(amenities_wifi)\n",
        "\n",
        "tmp_amenities = [\"balcony\"]\n",
        "amenities_balcony = contains_list(tmp_amenities, listings[\"amenities\"])\n",
        "amenities_balcony.name = \"amenities_\" + \"balcony\"\n",
        "amenities_balcony = to_binary(amenities_balcony)\n",
        "\n",
        "tmp_amenities = [\"\\\"Outdoor\"]\n",
        "amenities_outdoor = contains_list(tmp_amenities, listings[\"amenities\"])\n",
        "amenities_outdoor.name = \"amenities_\" + \"outdoor\"\n",
        "amenities_outdoor = to_binary(amenities_outdoor)\n",
        "\n",
        "# not sure if this is smart\n",
        "tmp_amenities = [\"smoke_alarm\", \"monoxide alarm\"]\n",
        "amenities_smoke_alarm = contains_list(tmp_amenities, listings[\"amenities\"])\n",
        "amenities_smoke_alarm.name = \"amenities_\" + \"smokealarm\"\n",
        "amenities_smoke_alarm = to_binary(amenities_smoke_alarm)\n",
        "\n",
        "tmp_amenities = [\"pets\"]\n",
        "amenities_pets = contains_list(tmp_amenities, listings[\"amenities\"])\n",
        "amenities_pets.name = \"amenities_\" + \"pets\"\n",
        "amenities_pets = to_binary(amenities_pets)\n",
        "\n",
        "tmp_amenities = [\"iron\"]\n",
        "amenities_iron = contains_list(tmp_amenities, listings[\"amenities\"])\n",
        "amenities_iron.name = \"amenities_\" + \"iron\"\n",
        "amenities_iron = to_binary(amenities_iron)\n",
        "\n",
        "tmp_amenities = [\"heating\"]\n",
        "amenities_heating = contains_list(tmp_amenities, listings[\"amenities\"])\n",
        "amenities_heating.name = \"amenities_\" + \"heating\"\n",
        "amenities_heating = to_binary(amenities_heating)\n",
        "\n",
        "tmp_amenities = [\"ev charger\"]\n",
        "amenities_ev_charger = contains_list(tmp_amenities, listings[\"amenities\"])\n",
        "amenities_ev_charger.name = \"amenities_\" + \"evcharger\"\n",
        "amenities_ev_charger = to_binary(amenities_ev_charger)\n",
        "\n",
        "tmp_amenities = [\"\\\"gym\\\"\", \"Gym in building\", \"Shared gym\"]\n",
        "amenities_gym = contains_list(tmp_amenities, listings[\"amenities\"])\n",
        "amenities_gym.name = \"amenities_\" + \"gym\"\n",
        "amenities_gym = to_binary(amenities_gym)\n",
        "\n",
        "tmp_amenities = [\"Baby monitor\", \"baby safety gates\", \"baby bath\", \n",
        "                 \"Babysitter recommendations\", \"Changing table\", \n",
        "                 \"crib\", \"high chair\", \"Outlet covers\"]\n",
        "amenities_baby = contains_list(tmp_amenities, listings[\"amenities\"])\n",
        "amenities_baby.name = \"amenities_\" + \"baby\"\n",
        "amenities_baby = to_binary(amenities_baby)\n",
        "\n",
        "tmp_amenities = [\"Beach essentials\", \"Barbecue utensils\", \"Bikes\", \"Board games\", \"toys\", \"game console\",\n",
        "                 \"ping pong\", \"Pool table\", \"bbq grill\"]\n",
        "amenities_games = contains_list(tmp_amenities, listings[\"amenities\"])\n",
        "amenities_games.name = \"amenities_\" + \"games\"\n",
        "amenities_games = to_binary(amenities_games)\n",
        "\n",
        "# binaries2\n",
        "tmp_amenities = [\"\\\"washer\"]\n",
        "amenities_washer = contains_list(tmp_amenities, listings[\"amenities\"])\n",
        "amenities_washer.name = \"amenities_\" + \"washer\"\n",
        "amenities_washer = to_binary(amenities_washer)\n",
        "\n",
        "tmp_amenities = [\"Free washer\"]\n",
        "amenities_freewasher = contains_list(tmp_amenities, listings[\"amenities\"])\n",
        "amenities_freewasher.name = \"amenities_\" + \"freewasher\"\n",
        "amenities_freewasher = to_binary(amenities_freewasher)\n",
        "\n",
        "tmp_amenities = [\"Paid washer\"]\n",
        "amenities_paidwasher = contains_list(tmp_amenities, listings[\"amenities\"])\n",
        "amenities_paidwasher.name = \"amenities_\" + \"paidwasher\"\n",
        "amenities_paidwasher = to_binary(amenities_paidwasher)\n",
        "\n",
        "tmp_amenities = [\"\\\"dryer\"]\n",
        "amenities_dryer = contains_list(tmp_amenities, listings[\"amenities\"])\n",
        "amenities_dryer.name = \"amenities_\" + \"dryer\"\n",
        "amenities_dryer = to_binary(amenities_dryer)\n",
        "\n",
        "tmp_amenities = [\"Free dryer\"]\n",
        "amenities_freedryer = contains_list(tmp_amenities, listings[\"amenities\"])\n",
        "amenities_freedryer.name = \"amenities_\" + \"freedryer\"\n",
        "amenities_freedryer = to_binary(amenities_freedryer)\n",
        "\n",
        "tmp_amenities = [\"Paid dryer\"]\n",
        "amenities_paiddryer = contains_list(tmp_amenities, listings[\"amenities\"])\n",
        "amenities_paiddryer.name = \"amenities_\" + \"paiddryer\"\n",
        "amenities_paiddryer = to_binary(amenities_paiddryer)\n",
        "\n",
        "tmp_amenities = [\"Private fenced garden or backyard\", \"Private garden or backyard\"]\n",
        "amenities_privategarden = contains_list(tmp_amenities, listings[\"amenities\"])\n",
        "amenities_privategarden.name = \"amenities_\" + \"privategarden\"\n",
        "amenities_privategarden = to_binary(amenities_privategarden)\n",
        "\n",
        "tmp_amenities = [\"Shared fenced garden or backyard\", \"Shared garden or backyard\"]\n",
        "amenities_sharedgarden = contains_list(tmp_amenities, listings[\"amenities\"])\n",
        "amenities_sharedgarden.name = \"amenities_\" + \"sharedgarden\"\n",
        "amenities_sharedgarden = to_binary(amenities_sharedgarden)\n",
        "\n",
        "tmp_amenities = [\"free carport, free driveway, free parking, free residential\"]\n",
        "amenities_free_parking = contains_list(tmp_amenities, listings[\"amenities\"])\n",
        "amenities_free_parking.name = \"amenities_\" + \"freeparking\"\n",
        "amenities_free_parking = to_binary(amenities_free_parking)\n",
        "\n",
        "tmp_amenities = [\"paid parking, paid street\"]\n",
        "amenities_paid_parking = contains_list(tmp_amenities, listings[\"amenities\"])\n",
        "amenities_paid_parking.name = \"amenities_\" + \"paidparking\"\n",
        "amenities_paid_parking = to_binary(amenities_paid_parking)\n",
        "\n",
        "tmp_amenities = [\"\\\"hot tub\", \"\\\"sauna\"]\n",
        "amenities_spa = contains_list(tmp_amenities, listings[\"amenities\"])\n",
        "amenities_spa.name = \"amenities_\" + \"spa\"\n",
        "amenities_spa = to_binary(amenities_spa)\n",
        "\n",
        "tmp_amenities = [\"shared hot tub\", \"shared sauna\"]\n",
        "amenities_sharedspa = contains_list(tmp_amenities, listings[\"amenities\"])\n",
        "amenities_sharedspa.name = \"amenities_\" + \"sharedspa\"\n",
        "amenities_sharedspa = to_binary(amenities_sharedspa)\n",
        "\n",
        "tmp_amenities = [\"private hot tub\", \"private sauna\"]\n",
        "amenities_privatespa = contains_list(tmp_amenities, listings[\"amenities\"])\n",
        "amenities_privatespa.name = \"amenities_\" + \"privatespa\"\n",
        "amenities_privatespa = to_binary(amenities_privatespa)\n",
        "\n",
        "tmp_amenities = [\"\\\"pool\\\"\", \"indoor heated pool\"]\n",
        "amenities_pool = contains_list(tmp_amenities, listings[\"amenities\"])\n",
        "amenities_pool.name = \"amenities_\" + \"pool\"\n",
        "amenities_pool = to_binary(amenities_pool)\n",
        "\n",
        "tmp_amenities = [\"Shared outdoor infinity rooftop pool\", \"Shared outdoor pool\",\n",
        "                 \"Shared outdoor rooftop pool\", \"Shared pool\"]\n",
        "amenities_sharedpool = contains_list(tmp_amenities, listings[\"amenities\"])\n",
        "amenities_sharedpool.name = \"amenities_\" + \"sharedpool\"\n",
        "amenities_sharedpool = to_binary(amenities_sharedpool)\n",
        "\n",
        "tmp_amenities = [\"private pool\"]\n",
        "amenities_privatepool = contains_list(tmp_amenities, listings[\"amenities\"])\n",
        "amenities_privatepool.name = \"amenities_\" + \"privatepool\"\n",
        "amenities_privatepool = to_binary(amenities_privatepool)\n",
        "\n",
        "# non-binaries\n",
        "bath_amenities = [\"soap\", \"conditioner\", \"shampoo\", \"shower gel\", \"bathroom essentials\"]\n",
        "amenities_nbath = contains_list(bath_amenities, listings[\"amenities\"])\n",
        "amenities_nbath.name = \"amenities_\" + \"nbath\"\n",
        "\n",
        "tv_extras_amenities = [\"premium\", \"amazon\", \"apple tv\", \"netflix\", \"HBO\"]\n",
        "amenities_tv_extras = contains_list(tv_extras_amenities, listings[\"amenities\"])\n",
        "amenities_tv_extras.name = \"amenities_\" + \"tv_extras\"\n",
        "\n",
        "tmp_amenities = [\"workspace\", \"office chair\", \"monitor\"]\n",
        "amenities_workspace = contains_list(tmp_amenities, listings[\"amenities\"])\n",
        "amenities_workspace.name = \"amenities_\" + \"workspace\"\n",
        "\n",
        "tmp_amenities = [\"clothing storage\", \"walk-in closet\", \"dresser\", \"wardrobe\", \"closet\"]\n",
        "amenities_clothingstrg = contains_list(tmp_amenities, listings[\"amenities\"])\n",
        "amenities_clothingstrg.name = \"amenities_\" + \"clothingstrg\"\n",
        "\n",
        "amenities_wifi_speed = listings[\"amenities\"].str.extract(\"(\\d+)[^\\d]+Mbps\")[0].fillna(16).astype(int)\n",
        "amenities_wifi_speed.name = \"amenities_wifi_speed\"\n",
        "\n",
        "# not so sure if this is so smart maybe big guys like fridge as binary dunno\n",
        "kitchen_amenities = [\"stove\", \"oven\", \"refrigerator|fridge\", \"toaster\", \"rice maker\", \"kitchen\",\n",
        "                     \"Coffee maker|coffee machine|nespresso machine\", \"Bread maker\", \"baking sheet\", \n",
        "                     \"dishwasher\", \"freezer\", \"kettle\", \"cooking basics\", \"dinnerware\", \"Dishes and silverware\", \n",
        "                     \"trash compactor\", \"microwave\"]\n",
        "amenities_nkitchen = contains_list(kitchen_amenities, listings[\"amenities\"])\n",
        "amenities_nkitchen.name = \"amenities_\" + \"nkitchen\"\n",
        "\n",
        "# add amenities to listings\n",
        "amenity_categories = [amenities_tablecornerguards, amenities_cleanbeforecheckout, amenities_cleaningproducts, amenities_greetings, amenities_staff, amenities_elevator, amenities_singlelevel, amenities_keypad, amenities_privateentrance, amenities_bidet,\n",
        "                      amenities_bathtub, amenities_extinguisher, amenities_diningtable, amenities_smartlock, amenities_cameras, amenities_tv, amenities_sound_system,\n",
        "                      amenities_aircon, amenities_water_access, amenities_safe, amenities_piano, amenities_fireplace, amenities_bio, amenities_wifi, amenities_balcony,\n",
        "                      amenities_outdoor, amenities_smoke_alarm, amenities_pets, amenities_iron, amenities_heating, amenities_ev_charger, amenities_gym, amenities_baby,\n",
        "                      amenities_games, amenities_washer, amenities_freewasher, amenities_paidwasher, amenities_dryer, amenities_freedryer, amenities_paiddryer,\n",
        "                      amenities_privategarden, amenities_sharedgarden, amenities_free_parking, amenities_paid_parking, amenities_spa, amenities_sharedspa, amenities_privatespa,\n",
        "                      amenities_pool, amenities_sharedpool, amenities_privatepool, amenities_nbath, amenities_tv_extras, amenities_workspace, amenities_clothingstrg,\n",
        "                      amenities_nkitchen, amenities_wifi_speed]\n",
        "\n",
        "listings = pd.concat([listings, *amenity_categories], axis=1)\n",
        "listings = listings.drop(\"amenities\", axis=1)"
      ],
      "metadata": {
        "id": "7Ztfp01I8trt",
        "cellView": "form"
      },
      "execution_count": null,
      "outputs": []
    },
    {
      "cell_type": "code",
      "source": [
        "# remove text garbage\t\n",
        "listings[\"description_en\"] = listings[\"description_en\"].str.replace(\"<.*?>\", \"\")\n",
        "listings[\"name_en\"] = listings[\"name_en\"].str.replace(\"<.*?>\", \"\")\n",
        "listings[\"host_about_en\"] = listings[\"host_about_en\"].str.replace(\"<.*?>\", \"\")"
      ],
      "metadata": {
        "id": "VhTrg8vRg5i3",
        "outputId": "c21da903-9569-4662-922f-f132fdec28f8",
        "colab": {
          "base_uri": "https://localhost:8080/"
        }
      },
      "execution_count": null,
      "outputs": [
        {
          "output_type": "stream",
          "name": "stderr",
          "text": [
            "/usr/local/lib/python3.7/dist-packages/ipykernel_launcher.py:2: FutureWarning: The default value of regex will change from True to False in a future version.\n",
            "  \n",
            "/usr/local/lib/python3.7/dist-packages/ipykernel_launcher.py:3: FutureWarning: The default value of regex will change from True to False in a future version.\n",
            "  This is separate from the ipykernel package so we can avoid doing imports until\n",
            "/usr/local/lib/python3.7/dist-packages/ipykernel_launcher.py:4: FutureWarning: The default value of regex will change from True to False in a future version.\n",
            "  after removing the cwd from sys.path.\n"
          ]
        }
      ]
    },
    {
      "cell_type": "code",
      "source": [
        "# append reviews to listings and remove zero price observations\n",
        "reviews = pd.read_pickle(\"/content/drive/MyDrive/Colab/airbnb/data/data1/reviews_workfile.pickle\")\n",
        "listings = pd.concat([listings, reviews.rename(\"reviews\")], axis=1)\n",
        "listings = listings.loc[listings.index.difference(price_zero)]"
      ],
      "metadata": {
        "id": "pRkf3MAvkbaZ"
      },
      "execution_count": null,
      "outputs": []
    },
    {
      "cell_type": "code",
      "source": [
        "# missing observations\n",
        "for j, i in enumerate(np.sum(listings.isna())):\n",
        "    if not i == 0:\n",
        "        print(np.sum(listings.isna()).index[j], i)"
      ],
      "metadata": {
        "colab": {
          "base_uri": "https://localhost:8080/"
        },
        "id": "sm7VTI5e0JS4",
        "outputId": "a14de078-4ebc-4b47-d768-0d86450d03f4"
      },
      "execution_count": null,
      "outputs": [
        {
          "output_type": "stream",
          "name": "stdout",
          "text": [
            "host_since 22\n",
            "host_response_time 4752\n",
            "host_response_rate 4752\n",
            "host_acceptance_rate 4541\n",
            "host_is_superhost 22\n",
            "host_listings_count 22\n",
            "host_identity_verified 22\n",
            "bedrooms 1353\n",
            "beds 439\n",
            "first_review 2328\n",
            "last_review 2328\n",
            "review_scores_rating 2327\n",
            "review_scores_accuracy 2437\n",
            "review_scores_cleanliness 2437\n",
            "review_scores_checkin 2438\n",
            "review_scores_communication 2436\n",
            "review_scores_location 2438\n",
            "review_scores_value 2439\n",
            "reviews_per_month 2328\n",
            "bath_number 8\n",
            "reviews 2328\n"
          ]
        }
      ]
    },
    {
      "cell_type": "code",
      "source": [
        "# this is necessary for some of the following transformations or to look up something on the web\n",
        "listings_original = pd.read_pickle(\"/content/drive/MyDrive/Colab/airbnb/data/translations/translated_listings.pickle\")\n",
        "listings_original.set_index(\"id\", inplace=True)\n",
        "\n",
        "listings_original[\"price\"] = (\n",
        "    listings_original[\"price\"].str.replace(\"$\", \"\").str.replace(\",\", \"\").astype(float)\n",
        ")\n",
        "\n",
        "listings_original = listings_original[listings_original[\"price\"] != 0]"
      ],
      "metadata": {
        "id": "PL4a4LtLmPXC",
        "outputId": "e1d70030-41e7-43a8-8c23-602afaa18b20",
        "colab": {
          "base_uri": "https://localhost:8080/"
        }
      },
      "execution_count": null,
      "outputs": [
        {
          "output_type": "stream",
          "name": "stderr",
          "text": [
            "/usr/local/lib/python3.7/dist-packages/ipykernel_launcher.py:6: FutureWarning: The default value of regex will change from True to False in a future version. In addition, single character regular expressions will *not* be treated as literal strings when regex=True.\n",
            "  \n"
          ]
        }
      ]
    },
    {
      "cell_type": "code",
      "source": [
        "# remove host_response_time, acceptance rate and response rate # remove first_review, host_since and last_review\n",
        "listings.drop([\"host_response_time\", \"host_response_rate\", \"host_acceptance_rate\", \"first_review\", \"last_review\", \"host_since\"], axis=1, inplace=True)"
      ],
      "metadata": {
        "id": "QCkkiUnLyK0A"
      },
      "execution_count": null,
      "outputs": []
    },
    {
      "cell_type": "code",
      "source": [
        "# replace nan in review with [\"no review\"]\n",
        "listings[\"reviews\"] = listings[\"reviews\"].apply(lambda x: x if isinstance(x, list) else [\"no review\"])"
      ],
      "metadata": {
        "id": "2MrkUZwCXgGS"
      },
      "execution_count": null,
      "outputs": []
    },
    {
      "cell_type": "code",
      "source": [
        "# recode host_listings_count na values to actual number of listings in dataset\n",
        "\n",
        "# 1. get host_ids where we have missing host_listings_count\n",
        "host_id_missing_listings_count = listings_original.loc[listings_original[\"host_listings_count\"].isna(), \"host_id\"]\n",
        "host_id_missing_listings_count = host_id_missing_listings_count.reindex(host_id_missing_listings_count)\n",
        "host_id_missing_listings_count = host_id_missing_listings_count.index\n",
        "host_id_missing_listings_count =  listings_original.loc[listings_original[\"host_id\"].isin(host_id_missing_listings_count)][\"host_id\"]\n",
        "host_id_missing_listings_count = host_id_missing_listings_count.reset_index()\n",
        "host_id_missing_listings_count = host_id_missing_listings_count.set_index(\"host_id\")\n",
        "host_id_missing_listings_count\n",
        "\n",
        "# 2. concatenate (1) with the listings_count_calculated\n",
        "listings_count_calculated = listings_original.groupby(\"host_id\").size()\n",
        "listings_count_calculated = listings_count_calculated[host_id_missing_listings_count.index]\n",
        "listings_count_calculated.name = \"listings_count_calculated\"\n",
        "listings_count_calculated = pd.concat([listings_count_calculated, host_id_missing_listings_count], axis=1)\n",
        "listings_count_calculated = listings_count_calculated.set_index(\"id\")\n",
        "listings_count_calculated = listings_count_calculated[\"listings_count_calculated\"]\n",
        "\n",
        "# 3. replace nas with listings_count_calculated values\n",
        "listings.loc[:, \"host_listings_count\"] = listings.loc[:, \"host_listings_count\"].fillna(listings_count_calculated)"
      ],
      "metadata": {
        "id": "E7zcypHRnVNa"
      },
      "execution_count": null,
      "outputs": []
    },
    {
      "cell_type": "code",
      "source": [
        "# recode nas in all review_scores aggregates to mean values\n",
        "listings.loc[:, \"review_scores_rating\"] = listings.loc[:, \"review_scores_rating\"].fillna(listings[\"review_scores_rating\"].mean())\n",
        "listings.loc[:, \"review_scores_accuracy\"] = listings.loc[:, \"review_scores_accuracy\"].fillna(listings[\"review_scores_accuracy\"].mean())\n",
        "listings.loc[:, \"review_scores_cleanliness\"] = listings.loc[:, \"review_scores_cleanliness\"].fillna(listings[\"review_scores_cleanliness\"].mean())\n",
        "listings.loc[:, \"review_scores_communication\"] = listings.loc[:, \"review_scores_communication\"].fillna(listings[\"review_scores_communication\"].mean())\n",
        "listings.loc[:, \"review_scores_checkin\"] = listings.loc[:, \"review_scores_checkin\"].fillna(listings[\"review_scores_checkin\"].mean())\n",
        "listings.loc[:, \"review_scores_location\"] = listings.loc[:, \"review_scores_location\"].fillna(listings[\"review_scores_location\"].mean())\n",
        "listings.loc[:, \"review_scores_value\"] = listings.loc[:, \"review_scores_value\"].fillna(listings[\"review_scores_value\"].mean())"
      ],
      "metadata": {
        "id": "LLmRWkog9iN4"
      },
      "execution_count": null,
      "outputs": []
    },
    {
      "cell_type": "code",
      "source": [
        "# recode reviews_per_month nas to 0\n",
        "listings.loc[:, \"reviews_per_month\"] = listings.loc[:, \"reviews_per_month\"].fillna(0)"
      ],
      "metadata": {
        "id": "vxLwHs2y_UXI"
      },
      "execution_count": null,
      "outputs": []
    },
    {
      "cell_type": "code",
      "source": [
        "# recode host_is_superhost na's according to superhost status at website (looked up manually)\n",
        "listings.loc[pd.Index([21632198]), \"host_is_superhost\"] = 1\n",
        "listings.loc[listings.host_is_superhost.isna(), \"host_is_superhost\"] = 0"
      ],
      "metadata": {
        "id": "whraDHcP9QmE"
      },
      "execution_count": null,
      "outputs": []
    },
    {
      "cell_type": "code",
      "source": [
        "# replace bath_number nas to 0\n",
        "listings.loc[:, \"bath_number\"] = listings.loc[:, \"bath_number\"].fillna(0)"
      ],
      "metadata": {
        "id": "ISlRfxDpHG7k"
      },
      "execution_count": null,
      "outputs": []
    },
    {
      "cell_type": "code",
      "source": [
        "# recode bedrooms nas to 1\n",
        "listings.loc[:, \"bedrooms\"] = listings.loc[:, \"bedrooms\"].fillna(1)"
      ],
      "metadata": {
        "id": "sOSQTIxRL-TC"
      },
      "execution_count": null,
      "outputs": []
    },
    {
      "cell_type": "code",
      "source": [
        "# recodes beds nas to 1\n",
        "listings.loc[:, \"beds\"] = listings.loc[:, \"beds\"].fillna(1)"
      ],
      "metadata": {
        "id": "8s-kg026MF2T"
      },
      "execution_count": null,
      "outputs": []
    },
    {
      "cell_type": "code",
      "source": [
        "# recode host_identity_verified as looked up manually on the web\n",
        "index_not_verified = pd.Index([2808957, 7079941, 8808555, 13880640])\n",
        "listings.loc[index_not_verified, \"host_identity_verified\"] = listings.loc[index_not_verified, \"host_identity_verified\"].fillna(0)\n",
        "listings.loc[:, \"host_identity_verified\"] = listings.loc[:, \"host_identity_verified\"].fillna(1)"
      ],
      "metadata": {
        "id": "i4NQv86nMXqC"
      },
      "execution_count": null,
      "outputs": []
    },
    {
      "cell_type": "markdown",
      "source": [
        "# Incorporate variable from calendar"
      ],
      "metadata": {
        "id": "C_Dff_wf8nKd"
      }
    },
    {
      "cell_type": "code",
      "source": [
        "path = \"/content/drive/MyDrive/Colab/airbnb/data/data1/calendar.csv.gz\"\n",
        "calendar = pd.read_csv(path)"
      ],
      "metadata": {
        "id": "hkDsJHus82vJ"
      },
      "execution_count": null,
      "outputs": []
    },
    {
      "cell_type": "code",
      "source": [
        "calendar[\"available\"] = calendar[\"available\"].map(dict(t=1, f=0))\n",
        "calendar.groupby(\"listing_id\").available.mean().plot.hist()"
      ],
      "metadata": {
        "colab": {
          "base_uri": "https://localhost:8080/",
          "height": 282
        },
        "id": "6TilWcBHF241",
        "outputId": "84da84fd-1cf3-4173-a89d-6225500ec63c"
      },
      "execution_count": null,
      "outputs": [
        {
          "output_type": "execute_result",
          "data": {
            "text/plain": [
              "<matplotlib.axes._subplots.AxesSubplot at 0x7f0c47118b10>"
            ]
          },
          "metadata": {},
          "execution_count": 238
        },
        {
          "output_type": "display_data",
          "data": {
            "image/png": "[encoded data removed]",
            "text/plain": [
              "<Figure size 432x288 with 1 Axes>"
            ]
          },
          "metadata": {
            "needs_background": "light"
          }
        }
      ]
    },
    {
      "cell_type": "code",
      "source": [
        "percent_available_nextyear = calendar.groupby(\"listing_id\").available.mean()"
      ],
      "metadata": {
        "id": "J-M6chq1JWwG"
      },
      "execution_count": null,
      "outputs": []
    },
    {
      "cell_type": "code",
      "source": [
        "with open(\"/content/drive/MyDrive/Colab/airbnb/data/data1/missing_data.json\", \"r\") as f:\n",
        "    missing_data = json.load(f)\n",
        "\n",
        "missing_price_index = percent_available_nextyear.index.isin(missing_data[\"price\"])"
      ],
      "metadata": {
        "id": "9_CRWqoKN2i_"
      },
      "execution_count": null,
      "outputs": []
    },
    {
      "cell_type": "code",
      "source": [
        "# add percent available next year to listings\n",
        "percent_available_nextyear = percent_available_nextyear.loc[~missing_price_index]\n",
        "percent_available_nextyear.name = \"percent_available_nextyear\"\n",
        "listings = pd.concat([listings, percent_available_nextyear], axis=1)"
      ],
      "metadata": {
        "id": "XLhL96atNTlF"
      },
      "execution_count": null,
      "outputs": []
    },
    {
      "cell_type": "markdown",
      "source": [
        "# save transformed listings"
      ],
      "metadata": {
        "id": "_MWJpZFIQYx-"
      }
    },
    {
      "cell_type": "code",
      "source": [
        "path = (\"/content/drive/MyDrive/Colab/airbnb/data/data1/listings_workfile.pickle\")\n",
        "listings.to_pickle(path)"
      ],
      "metadata": {
        "id": "AyzZt9ZhQXdg"
      },
      "execution_count": null,
      "outputs": []
    },
    {
      "cell_type": "markdown",
      "source": [
        "# scrap"
      ],
      "metadata": {
        "id": "Z-3BgU35TMuM"
      }
    },
    {
      "cell_type": "code",
      "source": [
        "scrap_listings = pd.read_pickle(\"/content/drive/MyDrive/Colab/airbnb/data/translations/translated_listings.pickle\")\n",
        "scrap_listings.set_index(\"id\", inplace=True)"
      ],
      "metadata": {
        "id": "H07MG_MvTL2b"
      },
      "execution_count": null,
      "outputs": []
    }
  ],
  "metadata": {
    "colab": {
      "name": "scratchpad",
      "provenance": [],
      "machine_shape": "hm",
      "include_colab_link": true
    },
    "kernelspec": {
      "display_name": "Python 3",
      "name": "python3"
    }
  },
  "nbformat": 4,
  "nbformat_minor": 0
}