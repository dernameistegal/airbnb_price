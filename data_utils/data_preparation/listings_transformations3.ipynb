{
  "cells": [
    {
      "cell_type": "markdown",
      "metadata": {
        "id": "view-in-github",
        "colab_type": "text"
      },
      "source": [
        "<a href=\"https://colab.research.google.com/github/dernameistegal/airbnb_price/blob/main/data_utils/data_preparation/listings_transformations3.ipynb\" target=\"_parent\"><img src=\"https://colab.research.google.com/assets/colab-badge.svg\" alt=\"Open In Colab\"/></a>"
      ]
    },
    {
      "cell_type": "code",
      "execution_count": 147,
      "metadata": {
        "id": "lIYdn1woOS1n"
      },
      "outputs": [],
      "source": [
        "%%capture\n",
        "!pip install ast\n",
        "import numpy as np\n",
        "import ast\n",
        "import pandas as pd\n",
        "import numpy as np\n",
        "from google.colab import drive\n",
        "import matplotlib.pyplot as plt\n",
        "import json\n",
        "from scipy.stats.stats import pearsonr\n",
        "drive.mount('/content/drive')"
      ]
    },
    {
      "cell_type": "markdown",
      "source": [
        "# Data preparation translated_listings.pickle"
      ],
      "metadata": {
        "id": "E3pnpJc-QVDm"
      }
    },
    {
      "cell_type": "code",
      "source": [
        "path= (\"/content/drive/MyDrive/Colab/airbnb/data/translations/translated_listings.pickle\")\n",
        "listings = pd.read_pickle(path)"
      ],
      "metadata": {
        "id": "EaY2xt9LFiE9"
      },
      "execution_count": 148,
      "outputs": []
    },
    {
      "cell_type": "code",
      "source": [
        "# set id as row index and rename to listing_id\n",
        "listings.set_index('id', inplace=True)\n",
        "listings.index.name = \"listing_id\""
      ],
      "metadata": {
        "id": "Xwcqb-vIES_d"
      },
      "execution_count": 149,
      "outputs": []
    },
    {
      "cell_type": "code",
      "source": [
        "# remove columns from listings that do not make sense as predictors\n",
        "\n",
        "drop_vars = [\"name\", \"listing_url\", \"scrape_id\", \"last_scraped\", \"picture_url\", \n",
        "       \"neighborhood_overview\", \"description\", \"host_id\",\n",
        "       \"host_url\", \"host_name\", \"host_location\", \"host_about\",\n",
        "       \"host_thumbnail_url\", \"host_picture_url\", \"host_neighbourhood\", \"host_total_listings_count\",\n",
        "       \"host_has_profile_pic\", \"neighbourhood\", \"neighbourhood_group_cleansed\", \"bathrooms\",\n",
        "       \"maximum_nights\",\t\"minimum_minimum_nights\", 'minimum_maximum_nights',\n",
        "       'maximum_maximum_nights', 'minimum_nights_avg_ntm', \"host_listings_count\",\n",
        "       'maximum_nights_avg_ntm', 'calendar_updated',\"has_availability\", \"calendar_last_scraped\",\n",
        "       \"number_of_reviews_ltm\", \"number_of_reviews_l30d\", \"license\", \"host_since\", \"first_review\", \"last_review\"]\n",
        "\n",
        "listings = listings.drop(drop_vars, axis=1)"
      ],
      "metadata": {
        "id": "KoQUH95KZPia"
      },
      "execution_count": 150,
      "outputs": []
    },
    {
      "cell_type": "code",
      "source": [
        "# transform price\n",
        "listings[\"price\"] = (\n",
        "    listings[\"price\"].str.replace(\"$\", \"\").str.replace(\",\", \"\").astype(float)\n",
        ")\n",
        "\n",
        "# save listing ids where price is zero in missing_data file\n",
        "with open(\"/content/drive/MyDrive/Colab/airbnb/data/data1/missing_data.json\", \"r\") as f:\n",
        "    missing_data = json.load(f)\n",
        "\n",
        "price_zero = listings[listings[\"price\"] == 0].index\n",
        "missing_data[\"price\"] = list(price_zero)\n",
        "\n",
        "with open(\"/content/drive/MyDrive/Colab/airbnb/data/data1/missing_data.json\", \"w\") as f:\n",
        "    json.dump(missing_data, f, indent=6)\n",
        "\n",
        "#remove zeros from price\n",
        "listings = listings[listings[\"price\"] != 0]\n",
        "\n",
        "# log price\n",
        "listings.loc[:, \"log_price\"] = np.log(listings[\"price\"])\n",
        "\n",
        "# plot log price\n",
        "# plt.hist(listings[\"log_price\"], bins=50)\n",
        "# plt.show()"
      ],
      "metadata": {
        "id": "4lvVrVIyLRKj",
        "outputId": "0740fbb1-c9e9-4abb-d928-e9b85811a6e1",
        "colab": {
          "base_uri": "https://localhost:8080/"
        }
      },
      "execution_count": 151,
      "outputs": [
        {
          "output_type": "stream",
          "name": "stderr",
          "text": [
            "/usr/local/lib/python3.7/dist-packages/ipykernel_launcher.py:3: FutureWarning: The default value of regex will change from True to False in a future version. In addition, single character regular expressions will *not* be treated as literal strings when regex=True.\n",
            "  This is separate from the ipykernel package so we can avoid doing imports until\n"
          ]
        }
      ]
    },
    {
      "cell_type": "code",
      "source": [
        "# recode language into three categories\n",
        "german = listings[\"lang\"].str.fullmatch(\"de\", case=False, na=False)\n",
        "listings.loc[german, \"lang\"] = \"german\"\n",
        "\n",
        "english = listings[\"lang\"].str.fullmatch(\"en\", case=False, na=False)\n",
        "listings.loc[english, \"lang\"] = \"english\"\n",
        "\n",
        "listings.loc[~(english|german), \"lang\"] = \"other\""
      ],
      "metadata": {
        "id": "KMSbRMsfMWka"
      },
      "execution_count": 152,
      "outputs": []
    },
    {
      "cell_type": "code",
      "source": [
        "# recode property into three categories\n",
        "listings[\"property_type_temp\"] = 0\n",
        "\n",
        "property_type_entire_unit = listings[\"property_type\"].str.contains(\"Entire|Tiny house\", case=False, na=False)\n",
        "listings.loc[property_type_entire_unit, \"property_type_temp\"] = \"property_type_entire_unit\"\n",
        "\n",
        "property_type_private_room = listings[\"property_type\"].str.contains(\"Private|Casa particular|Room in aparthotel|Room in hotel|Room in boutique hotel|Room in bed and breakfast|Room in serviced apartment|Camper\", case=False, na=False)\n",
        "listings.loc[property_type_private_room, \"property_type_temp\"] = \"property_type_private_room\"\n",
        "\n",
        "property_type_shared_room = listings[\"property_type\"].str.contains(\"Shared\", case=False, na=False)\n",
        "listings.loc[property_type_shared_room, \"property_type_temp\"] = \"property_type_shared_room\"\n",
        "\n",
        "listings = listings.drop(\"property_type\", axis=1)\n",
        "listings = listings.rename(columns={\"property_type_temp\": \"property_type\"})"
      ],
      "metadata": {
        "id": "FHMcY-kqGlfY"
      },
      "execution_count": 153,
      "outputs": []
    },
    {
      "cell_type": "code",
      "source": [
        "# recode host_verifications, instant_bookable and host_identity_verified, host_is_superhost into dummies\n",
        "listings[\"host_verifications\"] = listings[\"host_verifications\"].apply(ast.literal_eval)\n",
        "host_verifications = listings[\"host_verifications\"]\n",
        "host_verifications = pd.get_dummies(host_verifications.apply(pd.Series).stack(dropna=False), prefix=\"host_verification\").sum(level=0)\n",
        "listings = pd.concat([listings, host_verifications], axis=1)\n",
        "listings = listings.drop(\"host_verifications\", axis=1)\n",
        "\n",
        "listings[\"host_is_superhost\"] = listings[\"host_is_superhost\"].map(dict(t=1, f=0))\n",
        "listings[\"instant_bookable\"] = listings[\"instant_bookable\"].map(dict(t=1, f=0))\n",
        "listings[\"host_identity_verified\"] = listings[\"host_identity_verified\"].map(\n",
        "    dict(t=1, f=0)\n",
        ")"
      ],
      "metadata": {
        "id": "n8oCDiDEfH85",
        "outputId": "2ebb961c-9e5a-42c7-a03e-8a758bf88992",
        "colab": {
          "base_uri": "https://localhost:8080/"
        }
      },
      "execution_count": 154,
      "outputs": [
        {
          "output_type": "stream",
          "name": "stderr",
          "text": [
            "/usr/local/lib/python3.7/dist-packages/ipykernel_launcher.py:4: FutureWarning: Using the level keyword in DataFrame and Series aggregations is deprecated and will be removed in a future version. Use groupby instead. df.sum(level=1) should use df.groupby(level=1).sum().\n",
            "  after removing the cwd from sys.path.\n"
          ]
        }
      ]
    },
    {
      "cell_type": "code",
      "source": [
        "# recode bath into bath shared dummy and number of baths\n",
        "bath_is_shared = listings[\"bathrooms_text\"].str.contains(\"shared\", case=False, na=False)\n",
        "bath_is_shared.name = \"bath_is_shared\"\n",
        "bath_is_shared = bath_is_shared.astype(\"int\")\n",
        "bath_is_half = listings[\"bathrooms_text\"].str.contains(\"half\", case=False, na=False)\n",
        "bath_number = listings[\"bathrooms_text\"].str.extract('(\\d+\\.?\\d?)', expand=False)\n",
        "bath_number[bath_is_half] = 0.5\n",
        "bath_number = bath_number.astype(\"float\")\n",
        "bath_number.name = \"bath_number\"\n",
        "\n",
        "listings = pd.concat([listings, bath_is_shared, bath_number], axis=1)\n",
        "listings = listings.drop(\"bathrooms_text\", axis=1)"
      ],
      "metadata": {
        "id": "fNPuPwfezugU"
      },
      "execution_count": 155,
      "outputs": []
    },
    {
      "cell_type": "code",
      "source": [
        "# recode host_response_rate into float\n",
        "listings[\"host_response_rate\"] = (\n",
        "    listings[\"host_response_rate\"].str.replace(\"%\", \"\").str.replace(\",\", \"\").astype(float)\n",
        ")"
      ],
      "metadata": {
        "id": "u3UcxTPYwMew"
      },
      "execution_count": 156,
      "outputs": []
    },
    {
      "cell_type": "code",
      "source": [
        "# recode host_acceptance_rate into float\n",
        "listings[\"host_acceptance_rate\"] = (\n",
        "    listings[\"host_acceptance_rate\"].str.replace(\"%\", \"\").str.replace(\",\", \"\").astype(float)\n",
        ")"
      ],
      "metadata": {
        "id": "MMFu7VvxySA2"
      },
      "execution_count": 157,
      "outputs": []
    },
    {
      "cell_type": "code",
      "source": [
        "# append reviews to listings and remove zero price observations\n",
        "reviews = pd.read_pickle(\"/content/drive/MyDrive/Colab/airbnb/data/data1/reviews_workfile.pickle\")\n",
        "listings = pd.concat([listings, reviews.rename(\"reviews_en\")], axis=1)\n",
        "listings = listings.loc[listings.index.difference(price_zero)]"
      ],
      "metadata": {
        "id": "BFG2bTvbzHVb"
      },
      "execution_count": 158,
      "outputs": []
    },
    {
      "cell_type": "code",
      "source": [
        "# add host picture binary to listings\n",
        "with open(\"/content/drive/MyDrive/Colab/airbnb/data/data1/missing_data.json\", \"r\") as f:\n",
        "    missing_data = json.load(f)\n",
        "\n",
        "missing_price_index = (missing_data[\"price\"])\n",
        "\n",
        "hostpics_binary = pd.read_pickle(\"/content/drive/MyDrive/Colab/airbnb/data/hostpics/hostpics_binary.pickle\")\n",
        "hostpics_binary.index = hostpics_binary.index.astype(\"int\")\n",
        "hostpics_binary = hostpics_binary.drop(pd.Index(missing_price_index))\n",
        "hostpics_binary = hostpics_binary.drop(\"host_picture\", axis=1)\n",
        "hostpics_binary\n",
        "\n",
        "listings = pd.concat([listings, hostpics_binary], axis=1)"
      ],
      "metadata": {
        "id": "17qVlwk_1kw8"
      },
      "execution_count": 159,
      "outputs": []
    },
    {
      "cell_type": "code",
      "source": [
        "# remove text garbage\t\n",
        "listings[\"description_en\"] = listings[\"description_en\"].str.replace(\"<.*?>\", \"\")\n",
        "listings[\"name_en\"] = listings[\"name_en\"].str.replace(\"<.*?>\", \"\")\n",
        "listings[\"host_about_en\"] = listings[\"host_about_en\"].str.replace(\"<.*?>\", \"\")"
      ],
      "metadata": {
        "id": "U2ZgbvGv1o_I",
        "outputId": "e089ee1d-20e3-462a-aa57-1cddef642a3d",
        "colab": {
          "base_uri": "https://localhost:8080/"
        }
      },
      "execution_count": 160,
      "outputs": [
        {
          "output_type": "stream",
          "name": "stderr",
          "text": [
            "/usr/local/lib/python3.7/dist-packages/ipykernel_launcher.py:2: FutureWarning: The default value of regex will change from True to False in a future version.\n",
            "  \n",
            "/usr/local/lib/python3.7/dist-packages/ipykernel_launcher.py:3: FutureWarning: The default value of regex will change from True to False in a future version.\n",
            "  This is separate from the ipykernel package so we can avoid doing imports until\n",
            "/usr/local/lib/python3.7/dist-packages/ipykernel_launcher.py:4: FutureWarning: The default value of regex will change from True to False in a future version.\n",
            "  after removing the cwd from sys.path.\n"
          ]
        }
      ]
    },
    {
      "cell_type": "code",
      "source": [
        "#@title recode amenities functions\n",
        "def contains_list(elements, series):\n",
        "    df = (series == \"Not existing value\").astype(\"int\")\n",
        "    for el in elements:\n",
        "        df = df + series.str.contains(el, case=False, na=0)\n",
        "    return df\n",
        "    \n",
        "def to_binary(series):\n",
        "  series = (series > 0).astype(int)\n",
        "  return series"
      ],
      "metadata": {
        "id": "0CWbS25F-d9H",
        "cellView": "form"
      },
      "execution_count": 161,
      "outputs": []
    },
    {
      "cell_type": "code",
      "source": [
        "#@title recode amenities\n",
        "\n",
        "# binaries1\n",
        "tmp_amenities = [\"stove\"]\n",
        "amenities_stove = contains_list(tmp_amenities, listings[\"amenities\"])\n",
        "amenities_stove.name = \"amenities_\" + \"stove\"\n",
        "amenities_stove = to_binary(amenities_stove)\n",
        "\n",
        "tmp_amenities = [\"oven\"]\n",
        "amenities_oven = contains_list(tmp_amenities, listings[\"amenities\"])\n",
        "amenities_oven.name = \"amenities_\" + \"oven\"\n",
        "amenities_oven = to_binary(amenities_oven)\n",
        "\n",
        "tmp_amenities = [\"refrigerator|fridge\"]\n",
        "amenities_fridge = contains_list(tmp_amenities, listings[\"amenities\"])\n",
        "amenities_fridge.name = \"amenities_\" + \"fridge\"\n",
        "amenities_fridge = to_binary(amenities_fridge)\n",
        "\n",
        "tmp_amenities = [\"toaster\"]\n",
        "amenities_toaster = contains_list(tmp_amenities, listings[\"amenities\"])\n",
        "amenities_toaster.name = \"amenities_\" + \"toaster\"\n",
        "amenities_toaster = to_binary(amenities_toaster)\n",
        "\n",
        "tmp_amenities = [\"rice maker\"]\n",
        "amenities_ricemaker = contains_list(tmp_amenities, listings[\"amenities\"])\n",
        "amenities_ricemaker.name = \"amenities_\" + \"ricemaker\"\n",
        "amenities_ricemaker = to_binary(amenities_ricemaker)\n",
        "\n",
        "tmp_amenities = [\"Bread maker\"]\n",
        "amenities_breadmaker = contains_list(tmp_amenities, listings[\"amenities\"])\n",
        "amenities_breadmaker.name = \"amenities_\" + \"breadmaker\"\n",
        "amenities_breadmaker = to_binary(amenities_breadmaker)\n",
        "\n",
        "tmp_amenities = [\"kitchen\"]\n",
        "amenities_kitchen = contains_list(tmp_amenities, listings[\"amenities\"])\n",
        "amenities_kitchen.name = \"amenities_\" + \"kitchen\"\n",
        "amenities_kitchen = to_binary(amenities_kitchen)\n",
        "\n",
        "tmp_amenities = [\"Coffee maker|coffee machine|nespresso machine\"]\n",
        "amenities_coffeemachine = contains_list(tmp_amenities, listings[\"amenities\"])\n",
        "amenities_coffeemachine.name = \"amenities_\" + \"coffeemachine\"\n",
        "amenities_coffeemachine = to_binary(amenities_coffeemachine)\n",
        "\n",
        "tmp_amenities = [\"baking sheet\"]\n",
        "amenities_bakingsheet = contains_list(tmp_amenities, listings[\"amenities\"])\n",
        "amenities_bakingsheet.name = \"amenities_\" + \"bakingsheet\"\n",
        "amenities_bakingsheet = to_binary(amenities_bakingsheet)\n",
        "\n",
        "tmp_amenities = [\"dishwasher\"]\n",
        "amenities_dishwasher = contains_list(tmp_amenities, listings[\"amenities\"])\n",
        "amenities_dishwasher.name = \"amenities_\" + \"dishwasher\"\n",
        "amenities_dishwasher = to_binary(amenities_dishwasher)\n",
        "\n",
        "tmp_amenities = [\"freezer\"]\n",
        "amenities_freezer = contains_list(tmp_amenities, listings[\"amenities\"])\n",
        "amenities_freezer.name = \"amenities_\" + \"freezer\"\n",
        "amenities_freezer = to_binary(amenities_freezer)\n",
        "\n",
        "tmp_amenities = [\"kettle\"]\n",
        "amenities_kettle = contains_list(tmp_amenities, listings[\"amenities\"])\n",
        "amenities_kettle.name = \"amenities_\" + \"kettle\"\n",
        "amenities_kettle = to_binary(amenities_kettle)\n",
        "\n",
        "tmp_amenities = [\"cooking basics\"]\n",
        "amenities_cookingbasics = contains_list(tmp_amenities, listings[\"amenities\"])\n",
        "amenities_cookingbasics.name = \"amenities_\" + \"cookingbasics\"\n",
        "amenities_cookingbasics = to_binary(amenities_cookingbasics)\n",
        "\n",
        "tmp_amenities = [\"dinnerware\"]\n",
        "amenities_dinnerware = contains_list(tmp_amenities, listings[\"amenities\"])\n",
        "amenities_dinnerware.name = \"amenities_\" + \"dinnerware\"\n",
        "amenities_dinnerware = to_binary(amenities_dinnerware)\n",
        "\n",
        "tmp_amenities = [\"Dishes and silverware\"]\n",
        "amenities_dishes = contains_list(tmp_amenities, listings[\"amenities\"])\n",
        "amenities_dishes.name = \"amenities_\" + \"dishes\"\n",
        "amenities_dishes = to_binary(amenities_dishes)\n",
        "\n",
        "tmp_amenities = [\"trash compactor\"]\n",
        "amenities_trashcompactor = contains_list(tmp_amenities, listings[\"amenities\"])\n",
        "amenities_trashcompactor.name = \"amenities_\" + \"trashcompactor\"\n",
        "amenities_trashcompactor = to_binary(amenities_trashcompactor)\n",
        "\n",
        "tmp_amenities = [\"microwave\"]\n",
        "amenities_microwave = contains_list(tmp_amenities, listings[\"amenities\"])\n",
        "amenities_microwave.name = \"amenities_\" + \"microwave\"\n",
        "amenities_microwave = to_binary(amenities_microwave)\n",
        "\n",
        "tmp_amenities = [\"Table corner guards\"]\n",
        "amenities_tablecornerguards = contains_list(tmp_amenities, listings[\"amenities\"])\n",
        "amenities_tablecornerguards.name = \"amenities_\" + \"tablecornerguards\"\n",
        "amenities_tablecornerguards = to_binary(amenities_tablecornerguards)\n",
        "\n",
        "tmp_amenities = [\"Cleaning before checkout\"]\n",
        "amenities_cleanbeforecheckout = contains_list(tmp_amenities, listings[\"amenities\"])\n",
        "amenities_cleanbeforecheckout.name = \"amenities_\" + \"cleanbeforecheckout\"\n",
        "amenities_cleanbeforecheckout = to_binary(amenities_cleanbeforecheckout)\n",
        "\n",
        "tmp_amenities = [\"Cleaning products\"]\n",
        "amenities_cleaningproducts = contains_list(tmp_amenities, listings[\"amenities\"])\n",
        "amenities_cleaningproducts.name = \"amenities_\" + \"cleaningproducts\"\n",
        "amenities_cleaningproducts = to_binary(amenities_cleaningproducts)\n",
        "\n",
        "tmp_amenities = [\"host greets you\"]\n",
        "amenities_greetings = contains_list(tmp_amenities, listings[\"amenities\"])\n",
        "amenities_greetings.name = \"amenities_\" + \"greetings\"\n",
        "amenities_greetings = to_binary(amenities_greetings)\n",
        "\n",
        "tmp_amenities = [\"building staff\"]\n",
        "amenities_staff = contains_list(tmp_amenities, listings[\"amenities\"])\n",
        "amenities_staff.name = \"amenities_\" + \"staff\"\n",
        "amenities_staff = to_binary(amenities_staff)\n",
        "\n",
        "tmp_amenities = [\"elevator\"]\n",
        "amenities_elevator = contains_list(tmp_amenities, listings[\"amenities\"])\n",
        "amenities_elevator.name = \"amenities_\" + \"elevator\"\n",
        "amenities_elevator = to_binary(amenities_elevator)\n",
        "\n",
        "tmp_amenities = [\"Single level home\"]\n",
        "amenities_singlelevel = contains_list(tmp_amenities, listings[\"amenities\"])\n",
        "amenities_singlelevel.name = \"amenities_\" + \"singlelevel\"\n",
        "amenities_singlelevel = to_binary(amenities_singlelevel)\n",
        "\n",
        "tmp_amenities = [\"keypad\"]\n",
        "amenities_keypad = contains_list(tmp_amenities, listings[\"amenities\"])\n",
        "amenities_keypad.name = \"amenities_\" + \"keypad\"\n",
        "amenities_keypad = to_binary(amenities_keypad)\n",
        "\n",
        "tmp_amenities = [\"private entrance\"]\n",
        "amenities_privateentrance = contains_list(tmp_amenities, listings[\"amenities\"])\n",
        "amenities_privateentrance.name = \"amenities_\" + \"privateentrance\"\n",
        "amenities_privateentrance = to_binary(amenities_privateentrance)\n",
        "\n",
        "tmp_amenities = [\"bidet\"]\n",
        "amenities_bidet = contains_list(tmp_amenities, listings[\"amenities\"])\n",
        "amenities_bidet.name = \"amenities_\" + \"bidet\"\n",
        "amenities_bidet = to_binary(amenities_bidet)\n",
        "\n",
        "tmp_amenities = [\"bathtub\"]\n",
        "amenities_bathtub = contains_list(tmp_amenities, listings[\"amenities\"])\n",
        "amenities_bathtub.name = \"amenities_\" + \"bathtub\"\n",
        "amenities_bathtub = to_binary(amenities_bathtub)\n",
        "\n",
        "tmp_amenities = [\"fire extinguisher\"]\n",
        "amenities_extinguisher = contains_list(tmp_amenities, listings[\"amenities\"])\n",
        "amenities_extinguisher.name = \"amenities_\" + \"extinguisher\"\n",
        "amenities_extinguisher = to_binary(amenities_extinguisher)\n",
        "\n",
        "tmp_amenities = [\"dining table\"]\n",
        "amenities_diningtable = contains_list(tmp_amenities, listings[\"amenities\"])\n",
        "amenities_diningtable.name = \"amenities_\" + \"diningtable\"\n",
        "amenities_diningtable = to_binary(amenities_diningtable)\n",
        "\n",
        "tmp_amenities = [\"smart lock\"]\n",
        "amenities_smartlock = contains_list(tmp_amenities, listings[\"amenities\"])\n",
        "amenities_smartlock.name = \"amenities_\" + \"smartlock\"\n",
        "amenities_smartlock = to_binary(amenities_smartlock)\n",
        "\n",
        "tmp_amenities = [\"Security cameras on property\"]\n",
        "amenities_cameras = contains_list(tmp_amenities, listings[\"amenities\"])\n",
        "amenities_cameras.name = \"amenities_\" + \"cameras\"\n",
        "amenities_cameras = to_binary(amenities_cameras)\n",
        "\n",
        "tmp_amenities = [\"tv\"]\n",
        "amenities_tv = contains_list(tmp_amenities, listings[\"amenities\"])\n",
        "amenities_tv.name = \"amenities_\" + \"tv\"\n",
        "amenities_tv = to_binary(amenities_tv)\n",
        "\n",
        "tmp_amenities = [\"sound system\", \"record player\"]\n",
        "amenities_sound_system = contains_list(tmp_amenities, listings[\"amenities\"])\n",
        "amenities_sound_system.name = \"amenities_\" + \"soundsystem\"\n",
        "amenities_sound_system = to_binary(amenities_sound_system)\n",
        "\n",
        "tmp_amenities = [\"AC\", \"air conditioning\"]\n",
        "amenities_aircon = contains_list(tmp_amenities, listings[\"amenities\"])\n",
        "amenities_aircon.name = \"amenities_\" + \"aircon\"\n",
        "amenities_aircon = to_binary(amenities_aircon)\n",
        "\n",
        "tmp_amenities = [\"lake\", \"Waterfront\", \"Boat slip\", \"beachfront\"]\n",
        "amenities_water_access = contains_list(tmp_amenities, listings[\"amenities\"])\n",
        "amenities_water_access.name = \"amenities_\" + \"wateraccess\"\n",
        "amenities_water_access = to_binary(amenities_water_access)\n",
        "\n",
        "tmp_amenities = [\"safe\", \"lockbox\"]\n",
        "amenities_safe = contains_list(tmp_amenities, listings[\"amenities\"])\n",
        "amenities_safe.name = \"amenities_\" + \"safe\"\n",
        "amenities_safe = to_binary(amenities_safe)\n",
        "\n",
        "tmp_amenities = [\"piano\"]\n",
        "amenities_piano = contains_list(tmp_amenities, listings[\"amenities\"])\n",
        "amenities_piano.name = \"amenities_\" + \"piano\"\n",
        "amenities_piano = to_binary(amenities_piano)\n",
        "\n",
        "tmp_amenities = [\"fireplace\", \"fire pit\"]\n",
        "amenities_fireplace = contains_list(tmp_amenities, listings[\"amenities\"])\n",
        "amenities_fireplace.name = \"amenities_\" + \"fireplace\"\n",
        "amenities_fireplace = to_binary(amenities_fireplace)\n",
        "\n",
        "tmp_amenities = [\"bio\", \"ecological\", \"natur\", \"fairtrade\", \"organic\"]\n",
        "amenities_bio = contains_list(tmp_amenities, listings[\"amenities\"])\n",
        "amenities_bio.name = \"amenities_\" + \"bio\"\n",
        "amenities_bio = to_binary(amenities_bio)\n",
        "\n",
        "tmp_amenities = [\"wifi\", \"Ethernet connection\"]\n",
        "amenities_wifi = contains_list(tmp_amenities, listings[\"amenities\"])\n",
        "amenities_wifi.name = \"amenities_\" + \"wifi\"\n",
        "amenities_wifi = to_binary(amenities_wifi)\n",
        "\n",
        "tmp_amenities = [\"balcony\"]\n",
        "amenities_balcony = contains_list(tmp_amenities, listings[\"amenities\"])\n",
        "amenities_balcony.name = \"amenities_\" + \"balcony\"\n",
        "amenities_balcony = to_binary(amenities_balcony)\n",
        "\n",
        "tmp_amenities = [\"\\\"Outdoor\"]\n",
        "amenities_outdoor = contains_list(tmp_amenities, listings[\"amenities\"])\n",
        "amenities_outdoor.name = \"amenities_\" + \"outdoor\"\n",
        "amenities_outdoor = to_binary(amenities_outdoor)\n",
        "\n",
        "tmp_amenities = [\"smoke_alarm\"]\n",
        "amenities_smoke_alarm = contains_list(tmp_amenities, listings[\"amenities\"])\n",
        "amenities_smoke_alarm.name = \"amenities_\" + \"smokealarm\"\n",
        "amenities_smoke_alarm = to_binary(amenities_smoke_alarm)\n",
        "\n",
        "tmp_amenities = [\"monoxide alarm\"]\n",
        "amenities_monoxide_alarm = contains_list(tmp_amenities, listings[\"amenities\"])\n",
        "amenities_monoxide_alarm.name = \"amenities_\" + \"monoxidealarm\"\n",
        "amenities_monoxide_alarm = to_binary(amenities_monoxide_alarm)\n",
        "\n",
        "tmp_amenities = [\"pets\"]\n",
        "amenities_pets = contains_list(tmp_amenities, listings[\"amenities\"])\n",
        "amenities_pets.name = \"amenities_\" + \"pets\"\n",
        "amenities_pets = to_binary(amenities_pets)\n",
        "\n",
        "tmp_amenities = [\"iron\"]\n",
        "amenities_iron = contains_list(tmp_amenities, listings[\"amenities\"])\n",
        "amenities_iron.name = \"amenities_\" + \"iron\"\n",
        "amenities_iron = to_binary(amenities_iron)\n",
        "\n",
        "tmp_amenities = [\"heating\"]\n",
        "amenities_heating = contains_list(tmp_amenities, listings[\"amenities\"])\n",
        "amenities_heating.name = \"amenities_\" + \"heating\"\n",
        "amenities_heating = to_binary(amenities_heating)\n",
        "\n",
        "tmp_amenities = [\"ev charger\"]\n",
        "amenities_ev_charger = contains_list(tmp_amenities, listings[\"amenities\"])\n",
        "amenities_ev_charger.name = \"amenities_\" + \"evcharger\"\n",
        "amenities_ev_charger = to_binary(amenities_ev_charger)\n",
        "\n",
        "tmp_amenities = [\"Beach essentials\"]\n",
        "amenities_beachessentials = contains_list(tmp_amenities, listings[\"amenities\"])\n",
        "amenities_beachessentials.name = \"amenities_\" + \"beachessentials\"\n",
        "amenities_beachessentials = to_binary(amenities_beachessentials)\n",
        "\n",
        "tmp_amenities = [\"Bikes\"]\n",
        "amenities_bikes = contains_list(tmp_amenities, listings[\"amenities\"])\n",
        "amenities_bikes.name = \"amenities_\" + \"bikes\"\n",
        "amenities_bikes = to_binary(amenities_bikes)\n",
        "\n",
        "tmp_amenities = [\"Board games\"]\n",
        "amenities_boardgames = contains_list(tmp_amenities, listings[\"amenities\"])\n",
        "amenities_boardgames.name = \"amenities_\" + \"boardgames\"\n",
        "amenities_boardgames = to_binary(amenities_boardgames)\n",
        "\n",
        "tmp_amenities = [\"toys\"]\n",
        "amenities_toys = contains_list(tmp_amenities, listings[\"amenities\"])\n",
        "amenities_toys.name = \"amenities_\" + \"toys\"\n",
        "amenities_toys = to_binary(amenities_toys)\n",
        "\n",
        "tmp_amenities = [\"game console\"]\n",
        "amenities_console = contains_list(tmp_amenities, listings[\"amenities\"])\n",
        "amenities_console.name = \"amenities_\" + \"console\"\n",
        "amenities_console = to_binary(amenities_console)\n",
        "\n",
        "tmp_amenities = [\"ping pong\"]\n",
        "amenities_pingpong = contains_list(tmp_amenities, listings[\"amenities\"])\n",
        "amenities_pingpong.name = \"amenities_\" + \"pingpong\"\n",
        "amenities_pingpong = to_binary(amenities_pingpong)\n",
        "\n",
        "tmp_amenities = [\"Pool table\"]\n",
        "amenities_pooltable = contains_list(tmp_amenities, listings[\"amenities\"])\n",
        "amenities_pooltable.name = \"amenities_\" + \"pooltable\"\n",
        "amenities_pooltable = to_binary(amenities_pooltable)\n",
        "\n",
        "tmp_amenities = [\"Barbecue utensils\", \"bbq grill\"]\n",
        "amenities_barbecue = contains_list(tmp_amenities, listings[\"amenities\"])\n",
        "amenities_barbecue.name = \"amenities_\" + \"bbq\"\n",
        "amenities_barbecue = to_binary(amenities_barbecue)\n",
        "\n",
        "tmp_amenities = [\"\\\"gym\\\"\", \"Gym in building\", \"Shared gym\"]\n",
        "amenities_gym = contains_list(tmp_amenities, listings[\"amenities\"])\n",
        "amenities_gym.name = \"amenities_\" + \"gym\"\n",
        "amenities_gym = to_binary(amenities_gym)\n",
        "\n",
        "tmp_amenities = [\"Baby monitor\", \"baby safety gates\", \"baby bath\", \n",
        "                 \"Babysitter recommendations\", \"Changing table\", \n",
        "                 \"crib\", \"high chair\", \"Outlet covers\"]\n",
        "amenities_baby = contains_list(tmp_amenities, listings[\"amenities\"])\n",
        "amenities_baby.name = \"amenities_\" + \"baby\"\n",
        "amenities_baby = to_binary(amenities_baby)\n",
        "\n",
        "# binaries2\n",
        "tmp_amenities = [\"\\\"washer\"]\n",
        "amenities_washer = contains_list(tmp_amenities, listings[\"amenities\"])\n",
        "amenities_washer.name = \"amenities_\" + \"washer\"\n",
        "amenities_washer = to_binary(amenities_washer)\n",
        "\n",
        "tmp_amenities = [\"Free washer\"]\n",
        "amenities_freewasher = contains_list(tmp_amenities, listings[\"amenities\"])\n",
        "amenities_freewasher.name = \"amenities_\" + \"freewasher\"\n",
        "amenities_freewasher = to_binary(amenities_freewasher)\n",
        "\n",
        "tmp_amenities = [\"Paid washer\"]\n",
        "amenities_paidwasher = contains_list(tmp_amenities, listings[\"amenities\"])\n",
        "amenities_paidwasher.name = \"amenities_\" + \"paidwasher\"\n",
        "amenities_paidwasher = to_binary(amenities_paidwasher)\n",
        "\n",
        "tmp_amenities = [\"\\\"dryer\"]\n",
        "amenities_dryer = contains_list(tmp_amenities, listings[\"amenities\"])\n",
        "amenities_dryer.name = \"amenities_\" + \"dryer\"\n",
        "amenities_dryer = to_binary(amenities_dryer)\n",
        "\n",
        "tmp_amenities = [\"Free dryer\"]\n",
        "amenities_freedryer = contains_list(tmp_amenities, listings[\"amenities\"])\n",
        "amenities_freedryer.name = \"amenities_\" + \"freedryer\"\n",
        "amenities_freedryer = to_binary(amenities_freedryer)\n",
        "\n",
        "tmp_amenities = [\"Paid dryer\"]\n",
        "amenities_paiddryer = contains_list(tmp_amenities, listings[\"amenities\"])\n",
        "amenities_paiddryer.name = \"amenities_\" + \"paiddryer\"\n",
        "amenities_paiddryer = to_binary(amenities_paiddryer)\n",
        "\n",
        "tmp_amenities = [\"Private fenced garden or backyard\", \"Private garden or backyard\"]\n",
        "amenities_privategarden = contains_list(tmp_amenities, listings[\"amenities\"])\n",
        "amenities_privategarden.name = \"amenities_\" + \"privategarden\"\n",
        "amenities_privategarden = to_binary(amenities_privategarden)\n",
        "\n",
        "tmp_amenities = [\"Shared fenced garden or backyard\", \"Shared garden or backyard\"]\n",
        "amenities_sharedgarden = contains_list(tmp_amenities, listings[\"amenities\"])\n",
        "amenities_sharedgarden.name = \"amenities_\" + \"sharedgarden\"\n",
        "amenities_sharedgarden = to_binary(amenities_sharedgarden)\n",
        "\n",
        "tmp_amenities = [\"free carport, free driveway, free parking, free residential\"]\n",
        "amenities_free_parking = contains_list(tmp_amenities, listings[\"amenities\"])\n",
        "amenities_free_parking.name = \"amenities_\" + \"freeparking\"\n",
        "amenities_free_parking = to_binary(amenities_free_parking)\n",
        "\n",
        "tmp_amenities = [\"paid parking, paid street\"]\n",
        "amenities_paid_parking = contains_list(tmp_amenities, listings[\"amenities\"])\n",
        "amenities_paid_parking.name = \"amenities_\" + \"paidparking\"\n",
        "amenities_paid_parking = to_binary(amenities_paid_parking)\n",
        "\n",
        "tmp_amenities = [\"\\\"hot tub\", \"\\\"sauna\"]\n",
        "amenities_spa = contains_list(tmp_amenities, listings[\"amenities\"])\n",
        "amenities_spa.name = \"amenities_\" + \"spa\"\n",
        "amenities_spa = to_binary(amenities_spa)\n",
        "\n",
        "tmp_amenities = [\"shared hot tub\", \"shared sauna\"]\n",
        "amenities_sharedspa = contains_list(tmp_amenities, listings[\"amenities\"])\n",
        "amenities_sharedspa.name = \"amenities_\" + \"sharedspa\"\n",
        "amenities_sharedspa = to_binary(amenities_sharedspa)\n",
        "\n",
        "tmp_amenities = [\"private hot tub\", \"private sauna\"]\n",
        "amenities_privatespa = contains_list(tmp_amenities, listings[\"amenities\"])\n",
        "amenities_privatespa.name = \"amenities_\" + \"privatespa\"\n",
        "amenities_privatespa = to_binary(amenities_privatespa)\n",
        "\n",
        "tmp_amenities = [\"\\\"pool\\\"\", \"indoor heated pool\"]\n",
        "amenities_pool = contains_list(tmp_amenities, listings[\"amenities\"])\n",
        "amenities_pool.name = \"amenities_\" + \"pool\"\n",
        "amenities_pool = to_binary(amenities_pool)\n",
        "\n",
        "tmp_amenities = [\"Shared outdoor infinity rooftop pool\", \"Shared outdoor pool\",\n",
        "                 \"Shared outdoor rooftop pool\", \"Shared pool\"]\n",
        "amenities_sharedpool = contains_list(tmp_amenities, listings[\"amenities\"])\n",
        "amenities_sharedpool.name = \"amenities_\" + \"sharedpool\"\n",
        "amenities_sharedpool = to_binary(amenities_sharedpool)\n",
        "\n",
        "tmp_amenities = [\"private pool\"]\n",
        "amenities_privatepool = contains_list(tmp_amenities, listings[\"amenities\"])\n",
        "amenities_privatepool.name = \"amenities_\" + \"privatepool\"\n",
        "amenities_privatepool = to_binary(amenities_privatepool)\n",
        "\n",
        "# non-binaries\n",
        "bath_amenities = [\"soap\", \"conditioner\", \"shampoo\", \"shower gel\", \"bathroom essentials\"]\n",
        "amenities_nbath = contains_list(bath_amenities, listings[\"amenities\"])\n",
        "amenities_nbath.name = \"amenities_\" + \"nbath\"\n",
        "\n",
        "tv_extras_amenities = [\"premium\", \"amazon\", \"apple tv\", \"netflix\", \"HBO\"]\n",
        "amenities_tv_extras = contains_list(tv_extras_amenities, listings[\"amenities\"])\n",
        "amenities_tv_extras.name = \"amenities_\" + \"tv_extras\"\n",
        "\n",
        "tmp_amenities = [\"workspace\", \"office chair\", \"monitor\"]\n",
        "amenities_workspace = contains_list(tmp_amenities, listings[\"amenities\"])\n",
        "amenities_workspace.name = \"amenities_\" + \"workspace\"\n",
        "\n",
        "tmp_amenities = [\"clothing storage\", \"walk-in closet\", \"dresser\", \"wardrobe\", \"closet\"]\n",
        "amenities_clothingstrg = contains_list(tmp_amenities, listings[\"amenities\"])\n",
        "amenities_clothingstrg.name = \"amenities_\" + \"clothingstrg\"\n",
        "\n",
        "amenities_wifi_speed = listings[\"amenities\"].str.extract(\"(\\d+)[^\\d]+Mbps\")[0].fillna(-100).astype(int)\n",
        "amenities_wifi_speed.name = \"amenities_wifi_speed\"\n",
        "\n",
        "# add amenities to listings\n",
        "amenity_categories = [amenities_tablecornerguards, amenities_cleanbeforecheckout, amenities_cleaningproducts, amenities_greetings, amenities_staff, amenities_elevator, amenities_singlelevel, amenities_keypad, amenities_privateentrance, amenities_bidet,\n",
        "                      amenities_bathtub, amenities_extinguisher, amenities_diningtable, amenities_smartlock, amenities_cameras, amenities_tv, amenities_sound_system,\n",
        "                      amenities_aircon, amenities_water_access, amenities_safe, amenities_piano, amenities_fireplace, amenities_bio, amenities_wifi, amenities_balcony,\n",
        "                      amenities_outdoor, amenities_smoke_alarm, amenities_pets, amenities_iron, amenities_heating, amenities_ev_charger, amenities_gym, amenities_baby,\n",
        "                      amenities_washer, amenities_freewasher, amenities_paidwasher, amenities_dryer, amenities_freedryer, amenities_paiddryer,\n",
        "                      amenities_privategarden, amenities_sharedgarden, amenities_free_parking, amenities_paid_parking, amenities_spa, amenities_sharedspa, amenities_privatespa,\n",
        "                      amenities_pool, amenities_sharedpool, amenities_privatepool, amenities_nbath, amenities_tv_extras, amenities_workspace, amenities_clothingstrg,\n",
        "                      amenities_wifi_speed, amenities_beachessentials, amenities_bikes, amenities_boardgames, amenities_toys, amenities_console, amenities_pingpong, amenities_pooltable, amenities_barbecue, amenities_gym, amenities_stove, amenities_oven,\n",
        "                      amenities_fridge, amenities_toaster, amenities_ricemaker, amenities_breadmaker, amenities_kitchen, amenities_coffeemachine, amenities_bakingsheet, amenities_dishwasher, amenities_freezer,\n",
        "                      amenities_kettle, amenities_cookingbasics, amenities_dinnerware, amenities_dishes, amenities_trashcompactor, amenities_microwave]\n",
        "\n",
        "listings = pd.concat([listings, *amenity_categories], axis=1)\n",
        "listings = listings.drop(\"amenities\", axis=1)"
      ],
      "metadata": {
        "id": "7Ztfp01I8trt",
        "cellView": "form"
      },
      "execution_count": 162,
      "outputs": []
    },
    {
      "cell_type": "code",
      "source": [
        "# missing observations after all transformations\n",
        "for j, i in enumerate(np.sum(listings.isna())):\n",
        "    if not i == 0:\n",
        "        print(np.sum(listings.isna()).index[j], i)"
      ],
      "metadata": {
        "colab": {
          "base_uri": "https://localhost:8080/"
        },
        "id": "sm7VTI5e0JS4",
        "outputId": "1899508e-645f-4cd7-83c4-839db5518588"
      },
      "execution_count": 163,
      "outputs": [
        {
          "output_type": "stream",
          "name": "stdout",
          "text": [
            "host_response_time 4752\n",
            "host_response_rate 4752\n",
            "host_acceptance_rate 4541\n",
            "host_is_superhost 22\n",
            "host_identity_verified 22\n",
            "bedrooms 1353\n",
            "beds 439\n",
            "review_scores_rating 2327\n",
            "review_scores_accuracy 2437\n",
            "review_scores_cleanliness 2437\n",
            "review_scores_checkin 2438\n",
            "review_scores_communication 2436\n",
            "review_scores_location 2438\n",
            "review_scores_value 2439\n",
            "reviews_per_month 2328\n",
            "bath_number 8\n",
            "reviews_en 2328\n"
          ]
        }
      ]
    },
    {
      "cell_type": "code",
      "source": [
        "# recode nan in these variables with -100\n",
        "listings.loc[:, \"host_response_rate\"] = listings.loc[:, \"host_response_rate\"].fillna(-100)\n",
        "listings.loc[:, \"host_response_time\"] = listings.loc[:, \"host_response_time\"].fillna(-100)\n",
        "listings.loc[:, \"host_acceptance_rate\"] = listings.loc[:, \"host_acceptance_rate\"].fillna(-100)"
      ],
      "metadata": {
        "id": "ZcGSnttkz-fk"
      },
      "execution_count": 164,
      "outputs": []
    },
    {
      "cell_type": "code",
      "source": [
        "# replace nan in review with [\"no review\"]\n",
        "listings[\"reviews_en\"] = listings[\"reviews_en\"].apply(lambda x: x if isinstance(x, list) else [\"no review\"])"
      ],
      "metadata": {
        "id": "2MrkUZwCXgGS"
      },
      "execution_count": 165,
      "outputs": []
    },
    {
      "cell_type": "code",
      "source": [
        "# recode nas in all review_scores to -100\n",
        "listings.loc[:, \"review_scores_rating\"] = listings.loc[:, \"review_scores_rating\"].fillna(-100)\n",
        "listings.loc[:, \"review_scores_accuracy\"] = listings.loc[:, \"review_scores_accuracy\"].fillna(-100)\n",
        "listings.loc[:, \"review_scores_cleanliness\"] = listings.loc[:, \"review_scores_cleanliness\"].fillna(-100)\n",
        "listings.loc[:, \"review_scores_communication\"] = listings.loc[:, \"review_scores_communication\"].fillna(-100)\n",
        "listings.loc[:, \"review_scores_checkin\"] = listings.loc[:, \"review_scores_checkin\"].fillna(-100)\n",
        "listings.loc[:, \"review_scores_location\"] = listings.loc[:, \"review_scores_location\"].fillna(-100)\n",
        "listings.loc[:, \"review_scores_value\"] = listings.loc[:, \"review_scores_value\"].fillna(-100)"
      ],
      "metadata": {
        "id": "LLmRWkog9iN4"
      },
      "execution_count": 166,
      "outputs": []
    },
    {
      "cell_type": "code",
      "source": [
        "# recode reviews_per_month nas to -100\n",
        "listings.loc[:, \"reviews_per_month\"] = listings.loc[:, \"reviews_per_month\"].fillna(-100)"
      ],
      "metadata": {
        "id": "vxLwHs2y_UXI"
      },
      "execution_count": 167,
      "outputs": []
    },
    {
      "cell_type": "code",
      "source": [
        "# recode host_is_superhost na's according to superhost status at website (looked up manually)\n",
        "listings.loc[pd.Index([21632198]), \"host_is_superhost\"] = 1\n",
        "listings.loc[listings.host_is_superhost.isna(), \"host_is_superhost\"] = 0"
      ],
      "metadata": {
        "id": "whraDHcP9QmE"
      },
      "execution_count": 168,
      "outputs": []
    },
    {
      "cell_type": "code",
      "source": [
        "# replace bath_number nas to 0 (seems plausible)\n",
        "listings.loc[:, \"bath_number\"] = listings.loc[:, \"bath_number\"].fillna(0)"
      ],
      "metadata": {
        "id": "ISlRfxDpHG7k"
      },
      "execution_count": 169,
      "outputs": []
    },
    {
      "cell_type": "code",
      "source": [
        "# recode bedrooms nas to 1 (seems plausible)\n",
        "listings.loc[:, \"bedrooms\"] = listings.loc[:, \"bedrooms\"].fillna(1)"
      ],
      "metadata": {
        "id": "sOSQTIxRL-TC"
      },
      "execution_count": 170,
      "outputs": []
    },
    {
      "cell_type": "code",
      "source": [
        "# recodes beds nas to 1 (seems plausible)\n",
        "listings.loc[:, \"beds\"] = listings.loc[:, \"beds\"].fillna(1)"
      ],
      "metadata": {
        "id": "8s-kg026MF2T"
      },
      "execution_count": 171,
      "outputs": []
    },
    {
      "cell_type": "code",
      "source": [
        "# recode host_identity_verified as looked up manually on the web\n",
        "index_not_verified = pd.Index([2808957, 7079941, 8808555, 13880640])\n",
        "listings.loc[index_not_verified, \"host_identity_verified\"] = listings.loc[index_not_verified, \"host_identity_verified\"].fillna(0)\n",
        "listings.loc[:, \"host_identity_verified\"] = listings.loc[:, \"host_identity_verified\"].fillna(1)"
      ],
      "metadata": {
        "id": "i4NQv86nMXqC"
      },
      "execution_count": 172,
      "outputs": []
    },
    {
      "cell_type": "code",
      "source": [
        "# recode accomodates > 9 to 9\n",
        "listings.loc[listings[\"accommodates\"] >= 9, \"accommodates\"] = 9\n",
        "listings.loc[listings[\"bedrooms\"] >= 5, \"bedrooms\"] = 5"
      ],
      "metadata": {
        "id": "lsRqdMBpVkRZ"
      },
      "execution_count": 173,
      "outputs": []
    },
    {
      "cell_type": "code",
      "source": [
        "# recode categorical vars into numerical representation\n",
        "recodecols = listings.select_dtypes(include=['object']).columns\n",
        "to_recode = ['neighbourhood_cleansed', 'property_type', 'room_type', 'lang', \"availability_30\",\n",
        "             \"accommodates\", \"bedrooms\", \"host_response_time\"]\n",
        "\n",
        "\n",
        "def recode_cats(df, column):\n",
        "    vals = df[column].unique()\n",
        "    vals = np.hstack((vals[:, np.newaxis], np.arange(0, len(vals))[:, np.newaxis]))\n",
        "    df[column] = df[column].map(dict(vals))\n",
        "\n",
        "    return df, vals\n",
        "\n",
        "dictlist = []\n",
        "for cat in to_recode:\n",
        "    listings, tmp = recode_cats(listings, cat)\n",
        "    dictlist.append(tmp.tolist()) \n",
        "\n",
        "    \n",
        "with open(\"/content/drive/MyDrive/Colab/airbnb/data/data1/catdict_better.json\", \"w\") as f:\n",
        "    json.dump(dictlist, f, indent=6)\n",
        "\n",
        "with open(\"/content/drive/MyDrive/Colab/airbnb/data/data1/catdict_better.json\", \"r\") as f:\n",
        "    print(json.load(f))"
      ],
      "metadata": {
        "colab": {
          "base_uri": "https://localhost:8080/"
        },
        "id": "odNi-VbkijdU",
        "outputId": "f44a3853-80ea-4bdd-fd8d-a8f274fe5181"
      },
      "execution_count": 174,
      "outputs": [
        {
          "output_type": "stream",
          "name": "stdout",
          "text": [
            "[[['Donaustadt', 0], ['Leopoldstadt', 1], ['Rudolfsheim-F\\x9fnfhaus', 2], ['Ottakring', 3], ['Brigittenau', 4], ['Neubau', 5], ['Margareten', 6], ['Hernals', 7], ['Floridsdorf', 8], ['Alsergrund', 9], ['Simmering', 10], ['Wieden', 11], ['Mariahilf', 12], ['Josefstadt', 13], ['Landstra§e', 14], ['Favoriten', 15], ['Innere Stadt', 16], ['Meidling', 17], ['W\\x8ahring', 18], ['D\\x9abling', 19], ['Penzing', 20], ['Liesing', 21], ['Hietzing', 22]], [['property_type_private_room', 0], ['property_type_entire_unit', 1], ['property_type_shared_room', 2]], [['Hotel room', 0], ['Entire home/apt', 1], ['Private room', 2], ['Shared room', 3]], [['english', 0], ['other', 1], ['german', 2]], [[29.0, 0.0], [11.0, 1.0], [0.0, 2.0], [4.0, 3.0], [16.0, 4.0], [28.0, 5.0], [12.0, 6.0], [19.0, 7.0], [30.0, 8.0], [3.0, 9.0], [7.0, 10.0], [22.0, 11.0], [20.0, 12.0], [25.0, 13.0], [23.0, 14.0], [14.0, 15.0], [21.0, 16.0], [8.0, 17.0], [1.0, 18.0], [5.0, 19.0], [10.0, 20.0], [15.0, 21.0], [6.0, 22.0], [17.0, 23.0], [9.0, 24.0], [24.0, 25.0], [2.0, 26.0], [18.0, 27.0], [13.0, 28.0], [27.0, 29.0], [26.0, 30.0]], [[3.0, 0.0], [5.0, 1.0], [6.0, 2.0], [2.0, 3.0], [4.0, 4.0], [1.0, 5.0], [8.0, 6.0], [9.0, 7.0], [7.0, 8.0]], [[1.0, 0.0], [2.0, 1.0], [3.0, 2.0], [4.0, 3.0], [5.0, 4.0]], [['within an hour', 0], [-100, 1], ['within a few hours', 2], ['within a day', 3], ['a few days or more', 4]]]\n"
          ]
        }
      ]
    },
    {
      "cell_type": "markdown",
      "source": [
        "# save transformed listings"
      ],
      "metadata": {
        "id": "2ijH_-7XPph-"
      }
    },
    {
      "cell_type": "code",
      "source": [
        "path = (\"/content/drive/MyDrive/Colab/airbnb/data/data1/listings_withcategorical_better.pickle\")\n",
        "listings.to_pickle(path)"
      ],
      "metadata": {
        "id": "AcOZh2jnPn2c"
      },
      "execution_count": 176,
      "outputs": []
    }
  ],
  "metadata": {
    "colab": {
      "name": "scratchpad",
      "provenance": [],
      "include_colab_link": true
    },
    "kernelspec": {
      "display_name": "Python 3",
      "name": "python3"
    }
  },
  "nbformat": 4,
  "nbformat_minor": 0
}