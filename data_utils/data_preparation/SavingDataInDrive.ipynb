{
  "cells": [
    {
      "cell_type": "markdown",
      "metadata": {
        "id": "view-in-github",
        "colab_type": "text"
      },
      "source": [
        "<a href=\"https://colab.research.google.com/github/dernameistegal/airbnb_price/blob/main/data_utils/data_preparation/SavingDataInDrive.ipynb\" target=\"_parent\"><img src=\"https://colab.research.google.com/assets/colab-badge.svg\" alt=\"Open In Colab\"/></a>"
      ]
    },
    {
      "cell_type": "markdown",
      "id": "2ab96183",
      "metadata": {
        "id": "2ab96183"
      },
      "source": [
        "This simple introduction to the Airbnb data set(s) will give you a short overview over the available data. The city used for this introduction is Berlin, hence if you want to run the exact same notebook for a different city you would need to change a few minor details. Otherwise, if you have downloaded all necessary data sets and run this notebook in the same directory it should run smoothly.\n",
        "\n",
        "### Index\n",
        "1. Load data set\n",
        "2. Price analysis\n",
        "    * (Inspect reviews)\n",
        "3. Main file (listings.csv.gz)\n",
        "4. \"Analyze\" Images\n",
        "5. \"Analyze\" Reviews\n",
        "6. Calendar file\n",
        "7.  neighbourhoods Geo.json file"
      ]
    },
    {
      "cell_type": "code",
      "source": [
        "#@title imports\n",
        "%%capture\n",
        "!pip install transformers\n",
        "!pip install geopandas\n",
        "import json\n",
        "import os\n",
        "import math\n",
        "import pandas as pd\n",
        "import gzip\n",
        "from PIL import Image\n",
        "import matplotlib.pyplot as plt\n",
        "import descartes\n",
        "import geopandas as gpd\n",
        "import requests\n",
        "from io import BytesIO\n",
        "import matplotlib.image as mpimg\n",
        "from tqdm import tqdm\n",
        "from PIL import Image\n",
        "import numpy as np\n",
        "\n",
        "from shapely.geometry import Point, Polygon\n",
        "\n",
        "import seaborn as sns\n",
        "\n",
        "from transformers import pipeline\n",
        "\n",
        "import folium\n",
        "from folium.plugins import FastMarkerCluster\n",
        "from branca.colormap import LinearColormap"
      ],
      "metadata": {
        "cellView": "form",
        "id": "u32NNuWPQT1k"
      },
      "id": "u32NNuWPQT1k",
      "execution_count": 2,
      "outputs": []
    },
    {
      "cell_type": "code",
      "source": [
        "#@title mount drive\n",
        "from google.colab import drive\n",
        "drive.mount(\"/content/drive\")"
      ],
      "metadata": {
        "cellView": "form",
        "id": "8I1RscrI-08z",
        "outputId": "638e766c-33b1-4525-a53a-730b456a17a5",
        "colab": {
          "base_uri": "https://localhost:8080/"
        }
      },
      "id": "8I1RscrI-08z",
      "execution_count": 3,
      "outputs": [
        {
          "output_type": "stream",
          "name": "stdout",
          "text": [
            "Drive already mounted at /content/drive; to attempt to forcibly remount, call drive.mount(\"/content/drive\", force_remount=True).\n"
          ]
        }
      ]
    },
    {
      "cell_type": "code",
      "source": [
        "# make directories in drive\n",
        "# !mkdir -p /content/drive/MyDrive/data/data1/\n",
        "# !mkdir -p  /content/drive/MyDrive/data/hostpics/\n",
        "# !mkdir -p  /content/drive/MyDrive/data/thumbnails/"
      ],
      "metadata": {
        "id": "mVnZu9aeQegv"
      },
      "id": "mVnZu9aeQegv",
      "execution_count": null,
      "outputs": []
    },
    {
      "cell_type": "code",
      "source": [
        "# load data to drive\n",
        "%%capture\n",
        "!wget http://data.insideairbnb.com/austria/vienna/vienna/2021-11-07/data/listings.csv.gz\n",
        "!wget http://data.insideairbnb.com/austria/vienna/vienna/2021-11-07/data/calendar.csv.gz\n",
        "!wget http://data.insideairbnb.com/austria/vienna/vienna/2021-11-07/data/reviews.csv.gz\n",
        "!wget http://data.insideairbnb.com/austria/vienna/vienna/2021-11-07/visualisations/listings.csv\n",
        "!wget http://data.insideairbnb.com/austria/vienna/vienna/2021-11-07/visualisations/reviews.csv\n",
        "!wget http://data.insideairbnb.com/austria/vienna/vienna/2021-11-07/visualisations/neighbourhoods.csv\n",
        "!wget http://data.insideairbnb.com/austria/vienna/vienna/2021-11-07/visualisations/neighbourhoods.geojson"
      ],
      "metadata": {
        "id": "8bW7xf849TlL"
      },
      "id": "8bW7xf849TlL",
      "execution_count": null,
      "outputs": []
    },
    {
      "cell_type": "code",
      "execution_count": null,
      "id": "39082681",
      "metadata": {
        "id": "39082681"
      },
      "outputs": [],
      "source": [
        "#read files and show header for overview\n",
        "listings = pd.read_csv(\"listings.csv\")\n",
        "reviews = pd.read_csv(\"reviews.csv\")\n",
        "listings_meta = pd.read_csv(\"listings.csv.gz\")\n",
        "reviews_meta = pd.read_csv(\"reviews.csv.gz\")\n",
        "calendar = pd.read_csv(\"calendar.csv.gz\")\n",
        "listings_meta.set_index(\"id\", inplace=True)"
      ]
    },
    {
      "cell_type": "markdown",
      "id": "57f28625",
      "metadata": {
        "id": "57f28625"
      },
      "source": [
        "# Save Images (only run once)"
      ]
    },
    {
      "cell_type": "code",
      "source": [
        "\n",
        "# descriptive statistics for availability of pictures\n",
        "n_no_hostpic = sum(listings_meta[\"host_picture_url\"].isnull()) \n",
        "n_no_thumbnail = sum(listings_meta[\"picture_url\"].isnull())\n",
        "n_hosts_no_thumbnail = len(np.unique(listings_meta[\"host_id\"][listings_meta[\"host_picture_url\"].isnull()]))\n",
        "print(f\"{n_no_hostpic} listings have no hostpic. In total, {n_hosts_no_thumbnail} hosts have no hostpic. {n_no_thumbnail} listings have no thumbnail.\")"
      ],
      "metadata": {
        "id": "JUwwvWB9IIsm",
        "outputId": "11420e19-c2f9-40ee-df83-f5edb9e64014",
        "colab": {
          "base_uri": "https://localhost:8080/"
        }
      },
      "id": "JUwwvWB9IIsm",
      "execution_count": null,
      "outputs": [
        {
          "output_type": "stream",
          "name": "stdout",
          "text": [
            "22 listings have no hostpic. In total, 6 hosts have no hostpic. 0 listings have no thumbnail.\n"
          ]
        }
      ]
    },
    {
      "cell_type": "code",
      "source": [
        "# instantiate list of all ids where url does not work\n",
        "pic_malfunction = []\n",
        "\n",
        "# save hostpics that are available\n",
        "for i in range(1488, 1505):\n",
        "\n",
        "    # get url\n",
        "    test = listings_meta.loc[i][\"host_picture_url\"]\n",
        "    break\n",
        "\n",
        "    # check if url is not available\n",
        "    if pd.isna(url):\n",
        "        continue\n",
        "\n",
        "    # scrape url\n",
        "    response = requests.get(url)\n",
        "\n",
        "    # check if url does not work\n",
        "    try:\n",
        "        img_plot = Image.open(BytesIO(response.content)).resize(IMAGE_SIZE)\n",
        "    except:\n",
        "        pic_malfunction.append(listings_meta.loc[i][\"id\"])\n",
        "        continue\n",
        "    \n",
        "    # save rgb data\n",
        "    rgb_data = np.array(img_plot)\n",
        "    save_path = \"/content/drive/MyDrive/data/hostpics/hostpic\" + str(listings_meta.loc[i][\"id\"])\n",
        "    np.save(save_path, rgb_data)"
      ],
      "metadata": {
        "id": "lVz1lZnRA2Gv"
      },
      "id": "lVz1lZnRA2Gv",
      "execution_count": null,
      "outputs": []
    },
    {
      "cell_type": "code",
      "source": [
        "# save ids where host pics are not available (either no url or non-functioning url) in dictionary\n",
        "nopic = np.unique(listings_meta[\"id\"][listings_meta[\"host_picture_url\"].isnull()])\n",
        "nopic = list(nopic)\n",
        "#indices = nopic + pic_malfunction\n",
        "\n",
        "missing_data = {\"hostpic\": [int(ind) for ind in indices]}\n",
        "\n",
        "temp_file = open(\"/content/drive/MyDrive/data/missing_data.json\", \"w\")\n",
        "json.dump(missing_data, temp_file)\n",
        "temp_file.close()\n",
        "\n",
        "#temp_file = open(\"missing_data.json\", \"r\")\n",
        "#output = json.load(temp_file)"
      ],
      "metadata": {
        "id": "oJ6hvwxHhI3K"
      },
      "id": "oJ6hvwxHhI3K",
      "execution_count": null,
      "outputs": []
    },
    {
      "cell_type": "code",
      "source": [
        "# instantiate list of all ids where url does not work\n",
        "pic_malfunction = []\n",
        "\n",
        "# save thumbnails that are available\n",
        "for i in range(len(listings_meta)):\n",
        "\n",
        "    # get url\n",
        "    url = listings_meta.loc[i][\"picture_url\"]\n",
        "\n",
        "    # check if url is not available\n",
        "    if pd.isna(url):\n",
        "        continue\n",
        "\n",
        "    # scrape url\n",
        "    response = requests.get(url)\n",
        "\n",
        "    # check if url does not work\n",
        "    try:\n",
        "        img_plot = Image.open(BytesIO(response.content)).resize(IMAGE_SIZE)\n",
        "    except:\n",
        "        pic_malfunction.append(listings_meta.loc[i][\"id\"])\n",
        "        continue\n",
        "    \n",
        "    # save rgb data\n",
        "    rgb_data = np.array(img_plot)\n",
        "    save_path = \"/content/drive/MyDrive/data/thumbnails/thumbnail\" + str(listings_meta.loc[i][\"id\"])\n",
        "    np.save(save_path, rgb_data)"
      ],
      "metadata": {
        "id": "psnTldKeHs3z",
        "outputId": "037681a3-6297-4a5b-9faf-88f4d4546dcc",
        "colab": {
          "base_uri": "https://localhost:8080/"
        }
      },
      "id": "psnTldKeHs3z",
      "execution_count": null,
      "outputs": [
        {
          "output_type": "stream",
          "name": "stderr",
          "text": [
            "/usr/local/lib/python3.7/dist-packages/PIL/TiffImagePlugin.py:770: UserWarning: Possibly corrupt EXIF data.  Expecting to read 8589934590 bytes but only got 16480. Skipping tag 34855\n",
            "  \" Skipping tag %s\" % (size, len(data), tag)\n",
            "/usr/local/lib/python3.7/dist-packages/PIL/TiffImagePlugin.py:788: UserWarning: Corrupt EXIF data.  Expecting to read 4 bytes but only got 0. \n",
            "  warnings.warn(str(msg))\n",
            "/usr/local/lib/python3.7/dist-packages/PIL/Image.py:2800: DecompressionBombWarning: Image size (103168284 pixels) exceeds limit of 89478485 pixels, could be decompression bomb DOS attack.\n",
            "  DecompressionBombWarning,\n"
          ]
        }
      ]
    },
    {
      "cell_type": "code",
      "source": [
        "# save ids where thumbnails are not available in dictionary \n",
        "# various reasons, e.g. could not load because of corrupt exif data or image size\n",
        "\n",
        "temp_file = open(\"/content/drive/MyDrive/data/missing_data.json\", \"r\")\n",
        "temp_file_dict = json.load(temp_file)\n",
        "temp_file_dict[\"thumbnail\"] = pic_malfunction\n",
        "temp_file.close()\n",
        "\n",
        "temp_file = open(\"/content/drive/MyDrive/data/missing_data.json\", \"w\")\n",
        "json.dump(temp_file_dict, temp_file)\n",
        "temp_file.close()\n",
        "\n",
        "#temp_file = open(\"missing_data.json\", \"r\")\n",
        "#output = json.load(temp_file)"
      ],
      "metadata": {
        "id": "XhX2iyEoY0f_"
      },
      "id": "XhX2iyEoY0f_",
      "execution_count": null,
      "outputs": []
    },
    {
      "cell_type": "markdown",
      "source": [
        "# try to get urls (not necessary anymore)"
      ],
      "metadata": {
        "id": "wzMcHwiAaDE2"
      },
      "id": "wzMcHwiAaDE2"
    },
    {
      "cell_type": "code",
      "source": [
        "#@title save hostpic urls\n",
        "# does not have to be run again\n",
        "urls = []\n",
        "\n",
        "for index in tqdm(listings_meta.index):\n",
        "\n",
        "    # get url_temp\n",
        "    index = pd.Index([index])\n",
        "    url_temp = listings_meta[\"host_picture_url\"].loc[index].values[0]\n",
        "\n",
        "    if not pd.isna(url_temp):\n",
        "        url = requests.get(url_temp)\n",
        "        print(url)\n",
        "        urls.append(pd.Series([url], index=index))\n",
        "\n",
        "    else:\n",
        "        urls.append(pd.Series([np.nan], index=index))\n",
        "\n",
        "temp_urls_series = pd.concat(urls, axis=0)\n",
        "temp_urls_series.name = \"temp_hostpics_url\"\n",
        "path = (\"/content/drive/MyDrive/Colab/airbnb/data/hostpics/hostpics_url.pickle\")\n",
        "temp_urls_series.to_pickle(path)\n",
        "\n",
        "temp_urls_series = pd.read_pickle(\"/content/drive/MyDrive/Colab/airbnb/data/hostpics/hostpics_url.pickle\")\n",
        "\n",
        "# does not have to be run again\n",
        "links = []\n",
        "\n",
        "for index in tqdm(temp_urls_series.index):\n",
        "     \n",
        "    index = pd.Index([index])\n",
        "    obj = temp_urls_series.loc[index].values[0]\n",
        "\n",
        "    if not pd.isna(obj):\n",
        "        link = obj.url\n",
        "        links.append(pd.Series([link], index=index))\n",
        "    else:\n",
        "        links.append(pd.Series([np.nan], index=index))\n",
        "\n",
        "urls_series = pd.concat(links, axis=0)\n",
        "urls_series.name = \"hostpics_url\"\n",
        "urls_series = pd.concat([temp_urls_series, urls_series], axis=1)\n",
        "path = (\"/content/drive/MyDrive/Colab/airbnb/data/hostpics/hostpics_url.pickle\")\n",
        "urls_series.to_pickle(path)"
      ],
      "metadata": {
        "id": "LLq1RTtpaA_V",
        "cellView": "form"
      },
      "id": "LLq1RTtpaA_V",
      "execution_count": null,
      "outputs": []
    },
    {
      "cell_type": "markdown",
      "source": [
        "# append missing hostpics manually to missing_hostpics_binary (does not have to be run again)"
      ],
      "metadata": {
        "id": "EN4--V1ECFQy"
      },
      "id": "EN4--V1ECFQy"
    },
    {
      "cell_type": "code",
      "source": [
        "with open(\"/content/drive/MyDrive/Colab/airbnb/data/data1/missing_data.json\", \"r\") as f:\n",
        "    missing_data = json.load(f)"
      ],
      "metadata": {
        "id": "cuH9KX3GBXWM"
      },
      "id": "cuH9KX3GBXWM",
      "execution_count": null,
      "outputs": []
    },
    {
      "cell_type": "code",
      "source": [
        "missing_hostpic_index = pd.Index(missing_data[\"hostpic\"])"
      ],
      "metadata": {
        "id": "YgLy2GsPCQwX"
      },
      "id": "YgLy2GsPCQwX",
      "execution_count": null,
      "outputs": []
    },
    {
      "cell_type": "code",
      "source": [
        "urls_series = pd.read_pickle(\"/content/drive/MyDrive/Colab/airbnb/data/hostpics/hostpics_url.pickle\")\n",
        "missing_hostpic_url_index = listings_meta.loc[urls_series.hostpics_url.isna()].index"
      ],
      "metadata": {
        "id": "urUZViGdC2wa"
      },
      "id": "urUZViGdC2wa",
      "execution_count": null,
      "outputs": []
    },
    {
      "cell_type": "code",
      "source": [
        "# here links dont work\n",
        "listings_meta.loc[missing_hostpic_index.difference(missing_hostpic_url_index)]"
      ],
      "metadata": {
        "id": "jmM_txx_Ck5d"
      },
      "id": "jmM_txx_Ck5d",
      "execution_count": null,
      "outputs": []
    },
    {
      "cell_type": "code",
      "source": [
        "# nopics here where links did not work"
      ],
      "metadata": {
        "id": "FJd5r6jvEYzG"
      },
      "id": "FJd5r6jvEYzG",
      "execution_count": null,
      "outputs": []
    },
    {
      "cell_type": "code",
      "source": [
        "# here url is missing entirely\n",
        "listings_meta.loc[urls_series.hostpics_url.isna()]"
      ],
      "metadata": {
        "id": "2a1i-88ubdMH"
      },
      "id": "2a1i-88ubdMH",
      "execution_count": null,
      "outputs": []
    },
    {
      "cell_type": "code",
      "source": [
        "# https://a0.muscache.com/im/users/14368032/profile_pic/1398641174/original.jpg? yes\n",
        "# https://a0.muscache.com/im/users/6196667/profile_pic/1387179693/original.jpg?im_w=240 yes\n",
        "# https://a0.muscache.com/im/pictures/user/61c74b99-2e58-4bc4-9e50-45f8b7d6e269.jpg?im_w=240 yes\n",
        "# https://a0.muscache.com/im/pictures/user/04a419de-c13a-4511-9750-6133312e101a.jpg?im_w=240 yes\n",
        "# https://a0.muscache.com/im/pictures/user/07077e9d-adb7-46c2-8d6d-c29e184f9a2b.jpg?im_w=240 no\n",
        "# https://a0.muscache.com/im/pictures/user/8e2de99c-a731-41f8-89eb-0a3d31608ae9.jpg?im_w=240 no\n",
        "# https://a0.muscache.com/im/pictures/user/8e2de99c-a731-41f8-89eb-0a3d31608ae9.jpg?im_w=240 no\n",
        "# https://a0.muscache.com/im/pictures/user/8e2de99c-a731-41f8-89eb-0a3d31608ae9.jpg?im_w=240 no\n",
        "# https://a0.muscache.com/im/pictures/user/8e2de99c-a731-41f8-89eb-0a3d31608ae9.jpg?im_w=240 no\n",
        "# https://a0.muscache.com/im/pictures/user/8e2de99c-a731-41f8-89eb-0a3d31608ae9.jpg?im_w=240 no\n",
        "# https://a0.muscache.com/im/pictures/user/8e2de99c-a731-41f8-89eb-0a3d31608ae9.jpg?im_w=240 no\n",
        "# https://a0.muscache.com/im/pictures/user/8e2de99c-a731-41f8-89eb-0a3d31608ae9.jpg?im_w=240 no\n",
        "# https://a0.muscache.com/im/pictures/user/8e2de99c-a731-41f8-89eb-0a3d31608ae9.jpg?im_w=240 no\n",
        "# https://a0.muscache.com/im/pictures/user/8e2de99c-a731-41f8-89eb-0a3d31608ae9.jpg?im_w=240 no\n",
        "# https://a0.muscache.com/im/pictures/user/8e2de99c-a731-41f8-89eb-0a3d31608ae9.jpg?im_w=240 no\n",
        "# https://a0.muscache.com/im/pictures/user/8e2de99c-a731-41f8-89eb-0a3d31608ae9.jpg?im_w=240 no\n",
        "# https://a0.muscache.com/im/pictures/user/8e2de99c-a731-41f8-89eb-0a3d31608ae9.jpg?im_w=240 no\n",
        "# https://a0.muscache.com/im/pictures/user/8e2de99c-a731-41f8-89eb-0a3d31608ae9.jpg?im_w=240 no\n",
        "# https://a0.muscache.com/im/pictures/user/8e2de99c-a731-41f8-89eb-0a3d31608ae9.jpg?im_w=240 no\n",
        "# https://a0.muscache.com/im/pictures/user/8e2de99c-a731-41f8-89eb-0a3d31608ae9.jpg?im_w=240 no\n",
        "# https://a0.muscache.com/im/pictures/user/8e2de99c-a731-41f8-89eb-0a3d31608ae9.jpg?im_w=240 no\n",
        "# https://a0.muscache.com/im/pictures/user/8e2de99c-a731-41f8-89eb-0a3d31608ae9.jpg?im_w=240 no"
      ],
      "metadata": {
        "id": "6Gn-F1UeEXpq"
      },
      "id": "6Gn-F1UeEXpq",
      "execution_count": null,
      "outputs": []
    },
    {
      "cell_type": "code",
      "source": [
        "# create series with hostpic information of missing url or non-working urls\n",
        "\n",
        "missing_hostpic_index.difference(missing_hostpic_url_index)\n",
        "missing_hostpic_information0 = pd.Series(np.zeros(len(missing_hostpic_index.difference(missing_hostpic_url_index))), \n",
        "                                        index=missing_hostpic_index.difference(missing_hostpic_url_index)).astype(\"int\")\n",
        "missing_hostpic_information0.index.name = \"id\"\n",
        "missing_hostpic_information1 = pd.Series(np.array([1, 1, 1, 1, 0, 0, 0, 0, 0, 0, 0, 0, 0, 0, 0, 0, 0, 0, 0, 0, 0, 0]), index=missing_hostpic_url_index).astype(\"int\")"
      ],
      "metadata": {
        "id": "tcuuoib8X9VY"
      },
      "id": "tcuuoib8X9VY",
      "execution_count": null,
      "outputs": []
    },
    {
      "cell_type": "code",
      "source": [
        "missing_hostpic_information = pd.concat([missing_hostpic_information0, missing_hostpic_information1])\n",
        "missing_hostpic_information.name = \"host_picture_binary\"\n",
        "missing_hostpic_information = pd.DataFrame(missing_hostpic_information)"
      ],
      "metadata": {
        "id": "sBZ3Kb8TZijr"
      },
      "id": "sBZ3Kb8TZijr",
      "execution_count": null,
      "outputs": []
    },
    {
      "cell_type": "code",
      "source": [
        "hostpics_binary = pd.read_pickle(\"/content/drive/MyDrive/Colab/airbnb/data/hostpics/hostpics_binary.pickle\")\n",
        "hostpics_binary = hostpics_binary.append(missing_hostpic_information)"
      ],
      "metadata": {
        "id": "5EL5o_dvb5-y"
      },
      "id": "5EL5o_dvb5-y",
      "execution_count": null,
      "outputs": []
    },
    {
      "cell_type": "code",
      "source": [
        "hostpics_binary.to_pickle(\"/content/drive/MyDrive/Colab/airbnb/data/hostpics/hostpics_binary.pickle\")"
      ],
      "metadata": {
        "id": "MLBGir_ef-u1"
      },
      "id": "MLBGir_ef-u1",
      "execution_count": null,
      "outputs": []
    },
    {
      "cell_type": "markdown",
      "source": [
        "# save raw hostpics as jpg (does not have to be run again)"
      ],
      "metadata": {
        "id": "QDgwOTBKso4U"
      },
      "id": "QDgwOTBKso4U"
    },
    {
      "cell_type": "code",
      "source": [
        "# change datatype of matrices in array format to allow for conversion to jpeg\n",
        "for pic_name in tqdm(os.listdir(\"/content/drive/MyDrive/Colab/airbnb/data/hostpics/hostpics_raw\")):\n",
        "    pic_path = \"/content/drive/MyDrive/Colab/airbnb/data/hostpics/hostpics_raw/\" + pic_name\n",
        "    pic = np.load(pic_path)\n",
        "\n",
        "    if not pic.dtype == \"uint8\":\n",
        "        pic = pic.astype(\"uint8\")\n",
        "        np.save(pic_path, pic)"
      ],
      "metadata": {
        "id": "wHiWV2BrFjlO",
        "outputId": "acecb596-4372-4c9f-d9f0-8558d1ca4016",
        "colab": {
          "base_uri": "https://localhost:8080/"
        }
      },
      "id": "wHiWV2BrFjlO",
      "execution_count": null,
      "outputs": [
        {
          "output_type": "stream",
          "name": "stderr",
          "text": [
            "100%|██████████| 11375/11375 [01:34<00:00, 120.35it/s]\n"
          ]
        }
      ]
    },
    {
      "cell_type": "code",
      "source": [
        "# save jpegs of pictures in array format\n",
        "exceptions = []\n",
        "\n",
        "for pic_name in tqdm(os.listdir(\"/content/drive/MyDrive/Colab/airbnb/data/hostpics/hostpics_raw\")):\n",
        "    pic_path = \"/content/drive/MyDrive/Colab/airbnb/data/hostpics/hostpics_raw/\" + pic_name\n",
        "    pic = np.load(pic_path)\n",
        "    pic_name = pic_name[7:-4]\n",
        "\n",
        "    try:\n",
        "        pic = Image.fromarray(pic)\n",
        "        pic.save(\"/content/drive/MyDrive/Colab/airbnb/data/hostpics/hostpics_raw_jpeg/\" + pic_name + \".jpg\")\n",
        "    except:\n",
        "        exceptions.append(\"hostpic\" + pic_name + \".npy\") \n",
        "        print(\"exception occured with \", pic_name)\n"
      ],
      "metadata": {
        "colab": {
          "base_uri": "https://localhost:8080/"
        },
        "id": "zP5NCmylo2Mj",
        "outputId": "8a9a3b7c-cd04-4601-ec6b-91cb6f5d11d1"
      },
      "id": "zP5NCmylo2Mj",
      "execution_count": null,
      "outputs": [
        {
          "output_type": "stream",
          "name": "stderr",
          "text": [
            "100%|██████████| 11375/11375 [1:16:35<00:00,  2.48it/s]\n"
          ]
        }
      ]
    },
    {
      "cell_type": "markdown",
      "source": [
        "# save raw thumbnails as jpg (does not have to be run again)"
      ],
      "metadata": {
        "id": "Sl8PHN89Rg_s"
      },
      "id": "Sl8PHN89Rg_s"
    },
    {
      "cell_type": "code",
      "source": [
        "# change datatype of matrices in array format to allow for conversion to jpeg\n",
        "for pic_name in tqdm(os.listdir(\"/content/drive/MyDrive/Colab/airbnb/data/thumbnails/thumbnails_raw\")):\n",
        "    pic_path = \"/content/drive/MyDrive/Colab/airbnb/data/thumbnails/thumbnails_raw/\" + pic_name\n",
        "    pic = np.load(pic_path)\n",
        "\n",
        "    if not pic.dtype == \"uint8\":\n",
        "        pic = pic.astype(\"uint8\")\n",
        "        np.save(pic_path, pic)"
      ],
      "metadata": {
        "id": "RT9C_Uf8RglF",
        "outputId": "1da4df3b-5b9c-4213-8101-c11cff42dae3",
        "colab": {
          "base_uri": "https://localhost:8080/"
        }
      },
      "id": "RT9C_Uf8RglF",
      "execution_count": 4,
      "outputs": [
        {
          "output_type": "stream",
          "name": "stderr",
          "text": [
            "100%|██████████| 11404/11404 [06:01<00:00, 31.54it/s] \n"
          ]
        }
      ]
    },
    {
      "cell_type": "code",
      "source": [
        "# save jpegs of pictures in array format\n",
        "exceptions = []\n",
        "\n",
        "for pic_name in tqdm(os.listdir(\"/content/drive/MyDrive/Colab/airbnb/data/thumbnails/thumbnails_raw\")):\n",
        "    pic_path = \"/content/drive/MyDrive/Colab/airbnb/data/thumbnails/thumbnails_raw/\" + pic_name\n",
        "    pic = np.load(pic_path)\n",
        "    pic_name = pic_name[7:-4]\n",
        "\n",
        "    try:\n",
        "        pic = Image.fromarray(pic)\n",
        "        pic.save(\"/content/drive/MyDrive/Colab/airbnb/data/thumbnails/thumbnails_raw_jpeg/\" + pic_name + \".jpg\")\n",
        "    except:\n",
        "        exceptions.append(\"hostpic\" + pic_name + \".npy\") \n",
        "        print(\"exception occured with \", pic_name)"
      ],
      "metadata": {
        "id": "QSDUZ_52SSMl",
        "outputId": "4136ffe4-7389-4d00-9b04-d6886f751969",
        "colab": {
          "base_uri": "https://localhost:8080/"
        }
      },
      "id": "QSDUZ_52SSMl",
      "execution_count": 5,
      "outputs": [
        {
          "output_type": "stream",
          "name": "stderr",
          "text": [
            "100%|██████████| 11404/11404 [02:49<00:00, 67.25it/s]\n"
          ]
        }
      ]
    }
  ],
  "metadata": {
    "kernelspec": {
      "display_name": "deepdl_env",
      "language": "python",
      "name": "deepdl_env"
    },
    "language_info": {
      "codemirror_mode": {
        "name": "ipython",
        "version": 3
      },
      "file_extension": ".py",
      "mimetype": "text/x-python",
      "name": "python",
      "nbconvert_exporter": "python",
      "pygments_lexer": "ipython3",
      "version": "3.9.2"
    },
    "colab": {
      "name": "Data_Set_Introduction.ipynb",
      "provenance": [],
      "include_colab_link": true
    }
  },
  "nbformat": 4,
  "nbformat_minor": 5
}