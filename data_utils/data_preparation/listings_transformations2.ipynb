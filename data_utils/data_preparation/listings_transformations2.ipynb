{
  "cells": [
    {
      "cell_type": "markdown",
      "metadata": {
        "id": "view-in-github",
        "colab_type": "text"
      },
      "source": [
        "<a href=\"https://colab.research.google.com/github/dernameistegal/airbnb_price/blob/main/data_utils/data_preparation/listings_transformations2.ipynb\" target=\"_parent\"><img src=\"https://colab.research.google.com/assets/colab-badge.svg\" alt=\"Open In Colab\"/></a>"
      ]
    },
    {
      "cell_type": "code",
      "execution_count": 51,
      "metadata": {
        "id": "lIYdn1woOS1n"
      },
      "outputs": [],
      "source": [
        "%%capture\n",
        "!pip install ast\n",
        "import numpy as np\n",
        "import ast\n",
        "import pandas as pd\n",
        "import numpy as np\n",
        "from google.colab import drive\n",
        "import matplotlib.pyplot as plt\n",
        "import json\n",
        "from scipy.stats.stats import pearsonr\n",
        "drive.mount('/content/drive')"
      ]
    },
    {
      "cell_type": "markdown",
      "source": [
        "# Data preparation translated_listings.pickle"
      ],
      "metadata": {
        "id": "E3pnpJc-QVDm"
      }
    },
    {
      "cell_type": "code",
      "source": [
        "path= (\"/content/drive/MyDrive/Colab/airbnb/data/translations/translated_listings.pickle\")\n",
        "listings = pd.read_pickle(path)"
      ],
      "metadata": {
        "id": "EaY2xt9LFiE9"
      },
      "execution_count": 52,
      "outputs": []
    },
    {
      "cell_type": "code",
      "source": [
        "# set id as row index and rename to listing_id\n",
        "listings.set_index('id', inplace=True)\n",
        "listings.index.name = \"listing_id\""
      ],
      "metadata": {
        "id": "Xwcqb-vIES_d"
      },
      "execution_count": 53,
      "outputs": []
    },
    {
      "cell_type": "code",
      "source": [
        "# remove columns from listings that do not make sense as predictors\n",
        "\n",
        "drop_vars = [\"name\", \"listing_url\", \"scrape_id\", \"last_scraped\", \"picture_url\", \n",
        "       \"neighborhood_overview\", \"description\", \"host_id\",\n",
        "       \"host_url\", \"host_name\", \"host_location\", \"host_about\",\n",
        "       \"host_thumbnail_url\", \"host_picture_url\", \"host_neighbourhood\", \"host_total_listings_count\",\n",
        "       \"host_has_profile_pic\", \"neighbourhood\", \"neighbourhood_group_cleansed\", \"bathrooms\",\n",
        "       \"maximum_nights\", \"maximum_nights\",\t\"minimum_minimum_nights\", 'minimum_maximum_nights',\n",
        "       'maximum_maximum_nights', 'minimum_nights_avg_ntm',\n",
        "       'maximum_nights_avg_ntm', 'calendar_updated',\"has_availability\", \"calendar_last_scraped\",\n",
        "       \"number_of_reviews_ltm\", \"number_of_reviews_l30d\", \"license\"]\n",
        "\n",
        "listings = listings.drop(drop_vars, axis=1)\n",
        "\n",
        "# remove host_response_time, acceptance rate and response rate # remove first_review, host_since and last_review\n",
        "listings.drop([\"host_response_time\", \"host_response_rate\", \"host_acceptance_rate\", \"first_review\", \"last_review\", \"host_since\"], axis=1, inplace=True)"
      ],
      "metadata": {
        "id": "KoQUH95KZPia"
      },
      "execution_count": 54,
      "outputs": []
    },
    {
      "cell_type": "code",
      "source": [
        "# transform price\n",
        "listings[\"price\"] = (\n",
        "    listings[\"price\"].str.replace(\"$\", \"\").str.replace(\",\", \"\").astype(float)\n",
        ")\n",
        "\n",
        "# save listing ids where price is zero in missing_data file\n",
        "with open(\"/content/drive/MyDrive/Colab/airbnb/data/data1/missing_data.json\", \"r\") as f:\n",
        "    missing_data = json.load(f)\n",
        "\n",
        "price_zero = listings[listings[\"price\"] == 0].index\n",
        "missing_data[\"price\"] = list(price_zero)\n",
        "\n",
        "with open(\"/content/drive/MyDrive/Colab/airbnb/data/data1/missing_data.json\", \"w\") as f:\n",
        "    json.dump(missing_data, f, indent=6)\n",
        "\n",
        "#remove zeros from price\n",
        "listings = listings[listings[\"price\"] != 0]\n",
        "\n",
        "# log price\n",
        "listings[\"log_price\"] = np.log(listings[\"price\"])\n",
        "\n",
        "# plot log price\n",
        "# plt.hist(listings[\"log_price\"], bins=50)\n",
        "# plt.show()"
      ],
      "metadata": {
        "id": "4lvVrVIyLRKj",
        "outputId": "ff04fd5d-bb9d-41f2-8772-6c70ba59f1ba",
        "colab": {
          "base_uri": "https://localhost:8080/"
        }
      },
      "execution_count": 55,
      "outputs": [
        {
          "output_type": "stream",
          "name": "stderr",
          "text": [
            "/usr/local/lib/python3.7/dist-packages/ipykernel_launcher.py:3: FutureWarning: The default value of regex will change from True to False in a future version. In addition, single character regular expressions will *not* be treated as literal strings when regex=True.\n",
            "  This is separate from the ipykernel package so we can avoid doing imports until\n"
          ]
        }
      ]
    },
    {
      "cell_type": "code",
      "source": [
        "# recode rooms, neighbourhood_cleansed, properties, host_is_superhost, instant_bookable and host_identity_verified into dummies\n",
        "listings[\"host_is_superhost\"] = listings[\"host_is_superhost\"].map(dict(t=1, f=0))\n",
        "listings[\"instant_bookable\"] = listings[\"instant_bookable\"].map(dict(t=1, f=0))\n",
        "listings[\"host_identity_verified\"] = listings[\"host_identity_verified\"].map(\n",
        "    dict(t=1, f=0)\n",
        ")"
      ],
      "metadata": {
        "id": "23BSyd68JdA2"
      },
      "execution_count": 56,
      "outputs": []
    },
    {
      "cell_type": "code",
      "source": [
        "# recode host_verifications into dummies\n",
        "listings[\"host_verifications\"] = listings[\"host_verifications\"].apply(ast.literal_eval)\n",
        "host_verifications = listings[\"host_verifications\"]\n",
        "host_verifications = pd.get_dummies(host_verifications.apply(pd.Series).stack(dropna=False), prefix=\"host_verification\").sum(level=0)\n",
        "listings = pd.concat([listings, host_verifications], axis=1)\n",
        "listings = listings.drop(\"host_verifications\", axis=1)"
      ],
      "metadata": {
        "id": "n8oCDiDEfH85",
        "outputId": "0a4ceaa0-3032-4a36-f0f3-d622b60a8418",
        "colab": {
          "base_uri": "https://localhost:8080/"
        }
      },
      "execution_count": 57,
      "outputs": [
        {
          "output_type": "stream",
          "name": "stderr",
          "text": [
            "/usr/local/lib/python3.7/dist-packages/ipykernel_launcher.py:4: FutureWarning: Using the level keyword in DataFrame and Series aggregations is deprecated and will be removed in a future version. Use groupby instead. df.sum(level=1) should use df.groupby(level=1).sum().\n",
            "  after removing the cwd from sys.path.\n"
          ]
        }
      ]
    },
    {
      "cell_type": "code",
      "source": [
        "# recode bath into bath shared dummy and number of baths\n",
        "bath_is_shared = listings[\"bathrooms_text\"].str.contains(\"shared\", case=False, na=False)\n",
        "bath_is_shared.name = \"bath_is_shared\"\n",
        "bath_is_shared = bath_is_shared.astype(\"int\")\n",
        "bath_is_half = listings[\"bathrooms_text\"].str.contains(\"half\", case=False, na=False)\n",
        "bath_number = listings[\"bathrooms_text\"].str.extract('(\\d+\\.?\\d?)', expand=False)\n",
        "bath_number[bath_is_half] = 0.5\n",
        "bath_number = bath_number.astype(\"float\")\n",
        "bath_number.name = \"bath_number\"\n",
        "\n",
        "listings = pd.concat([listings, bath_is_shared, bath_number], axis=1)\n",
        "listings = listings.drop(\"bathrooms_text\", axis=1)"
      ],
      "metadata": {
        "id": "fNPuPwfezugU"
      },
      "execution_count": 58,
      "outputs": []
    },
    {
      "cell_type": "code",
      "source": [
        "#@title recode amenities functions\n",
        "def contains_list(elements, series):\n",
        "    df = (series == \"Not existing value\").astype(\"int\")\n",
        "    for el in elements:\n",
        "        df = df + series.str.contains(el, case=False, na=0)\n",
        "    return df\n",
        "    \n",
        "def to_binary(series):\n",
        "  series = (series > 0).astype(int)\n",
        "  return series"
      ],
      "metadata": {
        "id": "0CWbS25F-d9H",
        "cellView": "form"
      },
      "execution_count": 59,
      "outputs": []
    },
    {
      "cell_type": "code",
      "source": [
        "# look at observation with specific amenity\n",
        "listings[\"amenities\"].loc[contains_list([\"\\\"sauna\"], listings[\"amenities\"]).astype(bool)].iloc[0]"
      ],
      "metadata": {
        "id": "v8E8vI7USFaG",
        "outputId": "4757a31d-f105-4108-c9e9-1c3caadf0e3e",
        "colab": {
          "base_uri": "https://localhost:8080/",
          "height": 70
        }
      },
      "execution_count": 60,
      "outputs": [
        {
          "output_type": "execute_result",
          "data": {
            "application/vnd.google.colaboratory.intrinsic+json": {
              "type": "string"
            },
            "text/plain": [
              "'[\"Wine glasses\", \"Lock on bedroom door\", \"Safe\", \"Iron\", \"Hair dryer\", \"First aid kit\", \"Bed linens\", \"Room-darkening shades\", \"Paid parking on premises\", \"TV\", \"Hangers\", \"Long term stays allowed\", \"Crib\", \"Dedicated workspace\", \"Host greets you\", \"Fire extinguisher\", \"Shower gel\", \"Carbon monoxide alarm\", \"Luggage dropoff allowed\", \"Paid parking off premises\", \"Smoke alarm\", \"Wifi\", \"Elevator\", \"Microwave\", \"Laundromat nearby\", \"Hot water\", \"Sauna\", \"Air conditioning\", \"Refrigerator\", \"Essentials\", \"Body soap\", \"Clothing storage\", \"Shampoo\", \"Heating\", \"Gym\", \"Dishes and silverware\", \"Free street parking\"]'"
            ]
          },
          "metadata": {},
          "execution_count": 60
        }
      ]
    },
    {
      "cell_type": "code",
      "source": [
        "# print number of observations with specific amenity\n",
        "np.sum(contains_list([\"bathtub\"], listings[\"amenities\"]))"
      ],
      "metadata": {
        "id": "vmuiAO6ZUxXO",
        "outputId": "926f420f-1416-4fb7-df73-799aa9c40b26",
        "colab": {
          "base_uri": "https://localhost:8080/"
        }
      },
      "execution_count": 61,
      "outputs": [
        {
          "output_type": "execute_result",
          "data": {
            "text/plain": [
              "1491"
            ]
          },
          "metadata": {},
          "execution_count": 61
        }
      ]
    },
    {
      "cell_type": "code",
      "source": [
        "#@title recode amenities\n",
        "\n",
        "# binaries1\n",
        "tmp_amenities = [\"Table corner guards\"]\n",
        "amenities_tablecornerguards = contains_list(tmp_amenities, listings[\"amenities\"])\n",
        "amenities_tablecornerguards.name = \"amenities_\" + \"tablecornerguards\"\n",
        "amenities_tablecornerguards = to_binary(amenities_tablecornerguards)\n",
        "\n",
        "tmp_amenities = [\"Cleaning before checkout\"]\n",
        "amenities_cleanbeforecheckout = contains_list(tmp_amenities, listings[\"amenities\"])\n",
        "amenities_cleanbeforecheckout.name = \"amenities_\" + \"cleanbeforecheckout\"\n",
        "amenities_cleanbeforecheckout = to_binary(amenities_cleanbeforecheckout)\n",
        "\n",
        "tmp_amenities = [\"Cleaning products\"]\n",
        "amenities_cleaningproducts = contains_list(tmp_amenities, listings[\"amenities\"])\n",
        "amenities_cleaningproducts.name = \"amenities_\" + \"cleaningproducts\"\n",
        "amenities_cleaningproducts = to_binary(amenities_cleaningproducts)\n",
        "\n",
        "tmp_amenities = [\"host greets you\"]\n",
        "amenities_greetings = contains_list(tmp_amenities, listings[\"amenities\"])\n",
        "amenities_greetings.name = \"amenities_\" + \"greetings\"\n",
        "amenities_greetings = to_binary(amenities_greetings)\n",
        "\n",
        "tmp_amenities = [\"building staff\"]\n",
        "amenities_staff = contains_list(tmp_amenities, listings[\"amenities\"])\n",
        "amenities_staff.name = \"amenities_\" + \"staff\"\n",
        "amenities_staff = to_binary(amenities_staff)\n",
        "\n",
        "tmp_amenities = [\"elevator\"]\n",
        "amenities_elevator = contains_list(tmp_amenities, listings[\"amenities\"])\n",
        "amenities_elevator.name = \"amenities_\" + \"elevator\"\n",
        "amenities_elevator = to_binary(amenities_elevator)\n",
        "\n",
        "tmp_amenities = [\"Single level home\"]\n",
        "amenities_singlelevel = contains_list(tmp_amenities, listings[\"amenities\"])\n",
        "amenities_singlelevel.name = \"amenities_\" + \"singlelevel\"\n",
        "amenities_singlelevel = to_binary(amenities_singlelevel)\n",
        "\n",
        "tmp_amenities = [\"keypad\"]\n",
        "amenities_keypad = contains_list(tmp_amenities, listings[\"amenities\"])\n",
        "amenities_keypad.name = \"amenities_\" + \"keypad\"\n",
        "amenities_keypad = to_binary(amenities_keypad)\n",
        "\n",
        "tmp_amenities = [\"private entrance\"]\n",
        "amenities_privateentrance = contains_list(tmp_amenities, listings[\"amenities\"])\n",
        "amenities_privateentrance.name = \"amenities_\" + \"privateentrance\"\n",
        "amenities_privateentrance = to_binary(amenities_privateentrance)\n",
        "\n",
        "tmp_amenities = [\"bidet\"]\n",
        "amenities_bidet = contains_list(tmp_amenities, listings[\"amenities\"])\n",
        "amenities_bidet.name = \"amenities_\" + \"bidet\"\n",
        "amenities_bidet = to_binary(amenities_bidet)\n",
        "\n",
        "tmp_amenities = [\"bathtub\"]\n",
        "amenities_bathtub = contains_list(tmp_amenities, listings[\"amenities\"])\n",
        "amenities_bathtub.name = \"amenities_\" + \"bathtub\"\n",
        "amenities_bathtub = to_binary(amenities_bathtub)\n",
        "\n",
        "tmp_amenities = [\"fire extinguisher\"]\n",
        "amenities_extinguisher = contains_list(tmp_amenities, listings[\"amenities\"])\n",
        "amenities_extinguisher.name = \"amenities_\" + \"extinguisher\"\n",
        "amenities_extinguisher = to_binary(amenities_extinguisher)\n",
        "\n",
        "tmp_amenities = [\"dining table\"]\n",
        "amenities_diningtable = contains_list(tmp_amenities, listings[\"amenities\"])\n",
        "amenities_diningtable.name = \"amenities_\" + \"diningtable\"\n",
        "amenities_diningtable = to_binary(amenities_diningtable)\n",
        "\n",
        "tmp_amenities = [\"smart lock\"]\n",
        "amenities_smartlock = contains_list(tmp_amenities, listings[\"amenities\"])\n",
        "amenities_smartlock.name = \"amenities_\" + \"smartlock\"\n",
        "amenities_smartlock = to_binary(amenities_smartlock)\n",
        "\n",
        "tmp_amenities = [\"Security cameras on property\"]\n",
        "amenities_cameras = contains_list(tmp_amenities, listings[\"amenities\"])\n",
        "amenities_cameras.name = \"amenities_\" + \"cameras\"\n",
        "amenities_cameras = to_binary(amenities_cameras)\n",
        "\n",
        "tmp_amenities = [\"tv\"]\n",
        "amenities_tv = contains_list(tmp_amenities, listings[\"amenities\"])\n",
        "amenities_tv.name = \"amenities_\" + \"tv\"\n",
        "amenities_tv = to_binary(amenities_tv)\n",
        "\n",
        "tmp_amenities = [\"sound system\", \"record player\"]\n",
        "amenities_sound_system = contains_list(tmp_amenities, listings[\"amenities\"])\n",
        "amenities_sound_system.name = \"amenities_\" + \"soundsystem\"\n",
        "amenities_sound_system = to_binary(amenities_sound_system)\n",
        "\n",
        "tmp_amenities = [\"AC\", \"air conditioning\"]\n",
        "amenities_aircon = contains_list(tmp_amenities, listings[\"amenities\"])\n",
        "amenities_aircon.name = \"amenities_\" + \"aircon\"\n",
        "amenities_aircon = to_binary(amenities_aircon)\n",
        "\n",
        "tmp_amenities = [\"lake\", \"Waterfront\", \"Boat slip\", \"beachfront\"]\n",
        "amenities_water_access = contains_list(tmp_amenities, listings[\"amenities\"])\n",
        "amenities_water_access.name = \"amenities_\" + \"wateraccess\"\n",
        "amenities_water_access = to_binary(amenities_water_access)\n",
        "\n",
        "tmp_amenities = [\"safe\", \"lockbox\"]\n",
        "amenities_safe = contains_list(tmp_amenities, listings[\"amenities\"])\n",
        "amenities_safe.name = \"amenities_\" + \"safe\"\n",
        "amenities_safe = to_binary(amenities_safe)\n",
        "\n",
        "tmp_amenities = [\"piano\"]\n",
        "amenities_piano = contains_list(tmp_amenities, listings[\"amenities\"])\n",
        "amenities_piano.name = \"amenities_\" + \"piano\"\n",
        "amenities_piano = to_binary(amenities_piano)\n",
        "\n",
        "tmp_amenities = [\"fireplace\", \"fire pit\"]\n",
        "amenities_fireplace = contains_list(tmp_amenities, listings[\"amenities\"])\n",
        "amenities_fireplace.name = \"amenities_\" + \"fireplace\"\n",
        "amenities_fireplace = to_binary(amenities_fireplace)\n",
        "\n",
        "tmp_amenities = [\"bio\", \"ecological\", \"natur\", \"fairtrade\", \"organic\"]\n",
        "amenities_bio = contains_list(tmp_amenities, listings[\"amenities\"])\n",
        "amenities_bio.name = \"amenities_\" + \"bio\"\n",
        "amenities_bio = to_binary(amenities_bio)\n",
        "\n",
        "tmp_amenities = [\"wifi\", \"Ethernet connection\"]\n",
        "amenities_wifi = contains_list(tmp_amenities, listings[\"amenities\"])\n",
        "amenities_wifi.name = \"amenities_\" + \"wifi\"\n",
        "amenities_wifi = to_binary(amenities_wifi)\n",
        "\n",
        "tmp_amenities = [\"balcony\"]\n",
        "amenities_balcony = contains_list(tmp_amenities, listings[\"amenities\"])\n",
        "amenities_balcony.name = \"amenities_\" + \"balcony\"\n",
        "amenities_balcony = to_binary(amenities_balcony)\n",
        "\n",
        "tmp_amenities = [\"\\\"Outdoor\"]\n",
        "amenities_outdoor = contains_list(tmp_amenities, listings[\"amenities\"])\n",
        "amenities_outdoor.name = \"amenities_\" + \"outdoor\"\n",
        "amenities_outdoor = to_binary(amenities_outdoor)\n",
        "\n",
        "# not sure if this is smart\n",
        "tmp_amenities = [\"smoke_alarm\", \"monoxide alarm\"]\n",
        "amenities_smoke_alarm = contains_list(tmp_amenities, listings[\"amenities\"])\n",
        "amenities_smoke_alarm.name = \"amenities_\" + \"smokealarm\"\n",
        "amenities_smoke_alarm = to_binary(amenities_smoke_alarm)\n",
        "\n",
        "tmp_amenities = [\"pets\"]\n",
        "amenities_pets = contains_list(tmp_amenities, listings[\"amenities\"])\n",
        "amenities_pets.name = \"amenities_\" + \"pets\"\n",
        "amenities_pets = to_binary(amenities_pets)\n",
        "\n",
        "tmp_amenities = [\"iron\"]\n",
        "amenities_iron = contains_list(tmp_amenities, listings[\"amenities\"])\n",
        "amenities_iron.name = \"amenities_\" + \"iron\"\n",
        "amenities_iron = to_binary(amenities_iron)\n",
        "\n",
        "tmp_amenities = [\"heating\"]\n",
        "amenities_heating = contains_list(tmp_amenities, listings[\"amenities\"])\n",
        "amenities_heating.name = \"amenities_\" + \"heating\"\n",
        "amenities_heating = to_binary(amenities_heating)\n",
        "\n",
        "tmp_amenities = [\"ev charger\"]\n",
        "amenities_ev_charger = contains_list(tmp_amenities, listings[\"amenities\"])\n",
        "amenities_ev_charger.name = \"amenities_\" + \"evcharger\"\n",
        "amenities_ev_charger = to_binary(amenities_ev_charger)\n",
        "\n",
        "tmp_amenities = [\"\\\"gym\\\"\", \"Gym in building\", \"Shared gym\"]\n",
        "amenities_gym = contains_list(tmp_amenities, listings[\"amenities\"])\n",
        "amenities_gym.name = \"amenities_\" + \"gym\"\n",
        "amenities_gym = to_binary(amenities_gym)\n",
        "\n",
        "tmp_amenities = [\"Baby monitor\", \"baby safety gates\", \"baby bath\", \n",
        "                 \"Babysitter recommendations\", \"Changing table\", \n",
        "                 \"crib\", \"high chair\", \"Outlet covers\"]\n",
        "amenities_baby = contains_list(tmp_amenities, listings[\"amenities\"])\n",
        "amenities_baby.name = \"amenities_\" + \"baby\"\n",
        "amenities_baby = to_binary(amenities_baby)\n",
        "\n",
        "tmp_amenities = [\"Beach essentials\", \"Barbecue utensils\", \"Bikes\", \"Board games\", \"toys\", \"game console\",\n",
        "                 \"ping pong\", \"Pool table\", \"bbq grill\"]\n",
        "amenities_games = contains_list(tmp_amenities, listings[\"amenities\"])\n",
        "amenities_games.name = \"amenities_\" + \"games\"\n",
        "amenities_games = to_binary(amenities_games)\n",
        "\n",
        "# binaries2\n",
        "tmp_amenities = [\"\\\"washer\"]\n",
        "amenities_washer = contains_list(tmp_amenities, listings[\"amenities\"])\n",
        "amenities_washer.name = \"amenities_\" + \"washer\"\n",
        "amenities_washer = to_binary(amenities_washer)\n",
        "\n",
        "tmp_amenities = [\"Free washer\"]\n",
        "amenities_freewasher = contains_list(tmp_amenities, listings[\"amenities\"])\n",
        "amenities_freewasher.name = \"amenities_\" + \"freewasher\"\n",
        "amenities_freewasher = to_binary(amenities_freewasher)\n",
        "\n",
        "tmp_amenities = [\"Paid washer\"]\n",
        "amenities_paidwasher = contains_list(tmp_amenities, listings[\"amenities\"])\n",
        "amenities_paidwasher.name = \"amenities_\" + \"paidwasher\"\n",
        "amenities_paidwasher = to_binary(amenities_paidwasher)\n",
        "\n",
        "tmp_amenities = [\"\\\"dryer\"]\n",
        "amenities_dryer = contains_list(tmp_amenities, listings[\"amenities\"])\n",
        "amenities_dryer.name = \"amenities_\" + \"dryer\"\n",
        "amenities_dryer = to_binary(amenities_dryer)\n",
        "\n",
        "tmp_amenities = [\"Free dryer\"]\n",
        "amenities_freedryer = contains_list(tmp_amenities, listings[\"amenities\"])\n",
        "amenities_freedryer.name = \"amenities_\" + \"freedryer\"\n",
        "amenities_freedryer = to_binary(amenities_freedryer)\n",
        "\n",
        "tmp_amenities = [\"Paid dryer\"]\n",
        "amenities_paiddryer = contains_list(tmp_amenities, listings[\"amenities\"])\n",
        "amenities_paiddryer.name = \"amenities_\" + \"paiddryer\"\n",
        "amenities_paiddryer = to_binary(amenities_paiddryer)\n",
        "\n",
        "tmp_amenities = [\"Private fenced garden or backyard\", \"Private garden or backyard\"]\n",
        "amenities_privategarden = contains_list(tmp_amenities, listings[\"amenities\"])\n",
        "amenities_privategarden.name = \"amenities_\" + \"privategarden\"\n",
        "amenities_privategarden = to_binary(amenities_privategarden)\n",
        "\n",
        "tmp_amenities = [\"Shared fenced garden or backyard\", \"Shared garden or backyard\"]\n",
        "amenities_sharedgarden = contains_list(tmp_amenities, listings[\"amenities\"])\n",
        "amenities_sharedgarden.name = \"amenities_\" + \"sharedgarden\"\n",
        "amenities_sharedgarden = to_binary(amenities_sharedgarden)\n",
        "\n",
        "tmp_amenities = [\"free carport, free driveway, free parking, free residential\"]\n",
        "amenities_free_parking = contains_list(tmp_amenities, listings[\"amenities\"])\n",
        "amenities_free_parking.name = \"amenities_\" + \"freeparking\"\n",
        "amenities_free_parking = to_binary(amenities_free_parking)\n",
        "\n",
        "tmp_amenities = [\"paid parking, paid street\"]\n",
        "amenities_paid_parking = contains_list(tmp_amenities, listings[\"amenities\"])\n",
        "amenities_paid_parking.name = \"amenities_\" + \"paidparking\"\n",
        "amenities_paid_parking = to_binary(amenities_paid_parking)\n",
        "\n",
        "tmp_amenities = [\"\\\"hot tub\", \"\\\"sauna\"]\n",
        "amenities_spa = contains_list(tmp_amenities, listings[\"amenities\"])\n",
        "amenities_spa.name = \"amenities_\" + \"spa\"\n",
        "amenities_spa = to_binary(amenities_spa)\n",
        "\n",
        "tmp_amenities = [\"shared hot tub\", \"shared sauna\"]\n",
        "amenities_sharedspa = contains_list(tmp_amenities, listings[\"amenities\"])\n",
        "amenities_sharedspa.name = \"amenities_\" + \"sharedspa\"\n",
        "amenities_sharedspa = to_binary(amenities_sharedspa)\n",
        "\n",
        "tmp_amenities = [\"private hot tub\", \"private sauna\"]\n",
        "amenities_privatespa = contains_list(tmp_amenities, listings[\"amenities\"])\n",
        "amenities_privatespa.name = \"amenities_\" + \"privatespa\"\n",
        "amenities_privatespa = to_binary(amenities_privatespa)\n",
        "\n",
        "tmp_amenities = [\"\\\"pool\\\"\", \"indoor heated pool\"]\n",
        "amenities_pool = contains_list(tmp_amenities, listings[\"amenities\"])\n",
        "amenities_pool.name = \"amenities_\" + \"pool\"\n",
        "amenities_pool = to_binary(amenities_pool)\n",
        "\n",
        "tmp_amenities = [\"Shared outdoor infinity rooftop pool\", \"Shared outdoor pool\",\n",
        "                 \"Shared outdoor rooftop pool\", \"Shared pool\"]\n",
        "amenities_sharedpool = contains_list(tmp_amenities, listings[\"amenities\"])\n",
        "amenities_sharedpool.name = \"amenities_\" + \"sharedpool\"\n",
        "amenities_sharedpool = to_binary(amenities_sharedpool)\n",
        "\n",
        "tmp_amenities = [\"private pool\"]\n",
        "amenities_privatepool = contains_list(tmp_amenities, listings[\"amenities\"])\n",
        "amenities_privatepool.name = \"amenities_\" + \"privatepool\"\n",
        "amenities_privatepool = to_binary(amenities_privatepool)\n",
        "\n",
        "# non-binaries\n",
        "bath_amenities = [\"soap\", \"conditioner\", \"shampoo\", \"shower gel\", \"bathroom essentials\"]\n",
        "amenities_nbath = contains_list(bath_amenities, listings[\"amenities\"])\n",
        "amenities_nbath.name = \"amenities_\" + \"nbath\"\n",
        "\n",
        "tv_extras_amenities = [\"premium\", \"amazon\", \"apple tv\", \"netflix\", \"HBO\"]\n",
        "amenities_tv_extras = contains_list(tv_extras_amenities, listings[\"amenities\"])\n",
        "amenities_tv_extras.name = \"amenities_\" + \"tv_extras\"\n",
        "\n",
        "tmp_amenities = [\"workspace\", \"office chair\", \"monitor\"]\n",
        "amenities_workspace = contains_list(tmp_amenities, listings[\"amenities\"])\n",
        "amenities_workspace.name = \"amenities_\" + \"workspace\"\n",
        "\n",
        "tmp_amenities = [\"clothing storage\", \"walk-in closet\", \"dresser\", \"wardrobe\", \"closet\"]\n",
        "amenities_clothingstrg = contains_list(tmp_amenities, listings[\"amenities\"])\n",
        "amenities_clothingstrg.name = \"amenities_\" + \"clothingstrg\"\n",
        "\n",
        "amenities_wifi_speed = listings[\"amenities\"].str.extract(\"(\\d+)[^\\d]+Mbps\")[0].fillna(16).astype(int)\n",
        "amenities_wifi_speed.name = \"amenities_wifi_speed\"\n",
        "\n",
        "# not so sure if this is so smart maybe big guys like fridge as binary dunno\n",
        "kitchen_amenities = [\"stove\", \"oven\", \"refrigerator|fridge\", \"toaster\", \"rice maker\", \"kitchen\",\n",
        "                     \"Coffee maker|coffee machine|nespresso machine\", \"Bread maker\", \"baking sheet\", \n",
        "                     \"dishwasher\", \"freezer\", \"kettle\", \"cooking basics\", \"dinnerware\", \"Dishes and silverware\", \n",
        "                     \"trash compactor\", \"microwave\"]\n",
        "amenities_nkitchen = contains_list(kitchen_amenities, listings[\"amenities\"])\n",
        "amenities_nkitchen.name = \"amenities_\" + \"nkitchen\"\n",
        "\n",
        "# add amenities to listings\n",
        "amenity_categories = [amenities_tablecornerguards, amenities_cleanbeforecheckout, amenities_cleaningproducts, amenities_greetings, amenities_staff, amenities_elevator, amenities_singlelevel, amenities_keypad, amenities_privateentrance, amenities_bidet,\n",
        "                      amenities_bathtub, amenities_extinguisher, amenities_diningtable, amenities_smartlock, amenities_cameras, amenities_tv, amenities_sound_system,\n",
        "                      amenities_aircon, amenities_water_access, amenities_safe, amenities_piano, amenities_fireplace, amenities_bio, amenities_wifi, amenities_balcony,\n",
        "                      amenities_outdoor, amenities_smoke_alarm, amenities_pets, amenities_iron, amenities_heating, amenities_ev_charger, amenities_gym, amenities_baby,\n",
        "                      amenities_games, amenities_washer, amenities_freewasher, amenities_paidwasher, amenities_dryer, amenities_freedryer, amenities_paiddryer,\n",
        "                      amenities_privategarden, amenities_sharedgarden, amenities_free_parking, amenities_paid_parking, amenities_spa, amenities_sharedspa, amenities_privatespa,\n",
        "                      amenities_pool, amenities_sharedpool, amenities_privatepool, amenities_nbath, amenities_tv_extras, amenities_workspace, amenities_clothingstrg,\n",
        "                      amenities_nkitchen, amenities_wifi_speed]\n",
        "\n",
        "listings = pd.concat([listings, *amenity_categories], axis=1)\n",
        "listings = listings.drop(\"amenities\", axis=1)"
      ],
      "metadata": {
        "id": "7Ztfp01I8trt",
        "cellView": "form"
      },
      "execution_count": 62,
      "outputs": []
    },
    {
      "cell_type": "code",
      "source": [
        "# remove text garbage\t\n",
        "listings[\"description_en\"] = listings[\"description_en\"].str.replace(\"<.*?>\", \"\")\n",
        "listings[\"name_en\"] = listings[\"name_en\"].str.replace(\"<.*?>\", \"\")\n",
        "listings[\"host_about_en\"] = listings[\"host_about_en\"].str.replace(\"<.*?>\", \"\")"
      ],
      "metadata": {
        "id": "VhTrg8vRg5i3",
        "outputId": "0a574b60-cc6f-4f03-ce4b-cee69052e71c",
        "colab": {
          "base_uri": "https://localhost:8080/"
        }
      },
      "execution_count": 63,
      "outputs": [
        {
          "output_type": "stream",
          "name": "stderr",
          "text": [
            "/usr/local/lib/python3.7/dist-packages/ipykernel_launcher.py:2: FutureWarning: The default value of regex will change from True to False in a future version.\n",
            "  \n",
            "/usr/local/lib/python3.7/dist-packages/ipykernel_launcher.py:3: FutureWarning: The default value of regex will change from True to False in a future version.\n",
            "  This is separate from the ipykernel package so we can avoid doing imports until\n",
            "/usr/local/lib/python3.7/dist-packages/ipykernel_launcher.py:4: FutureWarning: The default value of regex will change from True to False in a future version.\n",
            "  after removing the cwd from sys.path.\n"
          ]
        }
      ]
    },
    {
      "cell_type": "code",
      "source": [
        "# append reviews to listings and remove zero price observations\n",
        "reviews = pd.read_pickle(\"/content/drive/MyDrive/Colab/airbnb/data/data1/reviews_workfile.pickle\")\n",
        "listings = pd.concat([listings, reviews.rename(\"reviews_en\")], axis=1)\n",
        "listings = listings.loc[listings.index.difference(price_zero)]"
      ],
      "metadata": {
        "id": "pRkf3MAvkbaZ"
      },
      "execution_count": 64,
      "outputs": []
    },
    {
      "cell_type": "code",
      "source": [
        "# missing observations\n",
        "for j, i in enumerate(np.sum(listings.isna())):\n",
        "    if not i == 0:\n",
        "        print(np.sum(listings.isna()).index[j], i)"
      ],
      "metadata": {
        "colab": {
          "base_uri": "https://localhost:8080/"
        },
        "id": "sm7VTI5e0JS4",
        "outputId": "5919d36c-2103-4b06-b043-3f1cc22d79dc"
      },
      "execution_count": 65,
      "outputs": [
        {
          "output_type": "stream",
          "name": "stdout",
          "text": [
            "host_is_superhost 22\n",
            "host_listings_count 22\n",
            "host_identity_verified 22\n",
            "bedrooms 1353\n",
            "beds 439\n",
            "review_scores_rating 2327\n",
            "review_scores_accuracy 2437\n",
            "review_scores_cleanliness 2437\n",
            "review_scores_checkin 2438\n",
            "review_scores_communication 2436\n",
            "review_scores_location 2438\n",
            "review_scores_value 2439\n",
            "reviews_per_month 2328\n",
            "bath_number 8\n",
            "reviews_en 2328\n"
          ]
        }
      ]
    },
    {
      "cell_type": "code",
      "source": [
        "# this is necessary for some of the following transformations or to look up something on the web\n",
        "listings_original = pd.read_pickle(\"/content/drive/MyDrive/Colab/airbnb/data/translations/translated_listings.pickle\")\n",
        "listings_original.set_index(\"id\", inplace=True)\n",
        "\n",
        "listings_original[\"price\"] = (\n",
        "    listings_original[\"price\"].str.replace(\"$\", \"\").str.replace(\",\", \"\").astype(float)\n",
        ")\n",
        "\n",
        "listings_original = listings_original[listings_original[\"price\"] != 0]"
      ],
      "metadata": {
        "id": "PL4a4LtLmPXC",
        "outputId": "294a51a2-febd-4505-96cc-81b52aefd52b",
        "colab": {
          "base_uri": "https://localhost:8080/"
        }
      },
      "execution_count": 66,
      "outputs": [
        {
          "output_type": "stream",
          "name": "stderr",
          "text": [
            "/usr/local/lib/python3.7/dist-packages/ipykernel_launcher.py:6: FutureWarning: The default value of regex will change from True to False in a future version. In addition, single character regular expressions will *not* be treated as literal strings when regex=True.\n",
            "  \n"
          ]
        }
      ]
    },
    {
      "cell_type": "code",
      "source": [
        ""
      ],
      "metadata": {
        "id": "QCkkiUnLyK0A"
      },
      "execution_count": 66,
      "outputs": []
    },
    {
      "cell_type": "code",
      "source": [
        "# replace nan in review with [\"no review\"]\n",
        "listings[\"reviews_en\"] = listings[\"reviews_en\"].apply(lambda x: x if isinstance(x, list) else [\"no review\"])"
      ],
      "metadata": {
        "id": "2MrkUZwCXgGS"
      },
      "execution_count": 67,
      "outputs": []
    },
    {
      "cell_type": "code",
      "source": [
        "# recode host_listings_count na values to actual number of listings in dataset\n",
        "\n",
        "# 1. get host_ids where we have missing host_listings_count\n",
        "host_id_missing_listings_count = listings_original.loc[listings_original[\"host_listings_count\"].isna(), \"host_id\"]\n",
        "host_id_missing_listings_count = host_id_missing_listings_count.reindex(host_id_missing_listings_count)\n",
        "host_id_missing_listings_count = host_id_missing_listings_count.index\n",
        "host_id_missing_listings_count =  listings_original.loc[listings_original[\"host_id\"].isin(host_id_missing_listings_count)][\"host_id\"]\n",
        "host_id_missing_listings_count = host_id_missing_listings_count.reset_index()\n",
        "host_id_missing_listings_count = host_id_missing_listings_count.set_index(\"host_id\")\n",
        "host_id_missing_listings_count\n",
        "\n",
        "# 2. concatenate (1) with the listings_count_calculated\n",
        "listings_count_calculated = listings_original.groupby(\"host_id\").size()\n",
        "listings_count_calculated = listings_count_calculated[host_id_missing_listings_count.index]\n",
        "listings_count_calculated.name = \"listings_count_calculated\"\n",
        "listings_count_calculated = pd.concat([listings_count_calculated, host_id_missing_listings_count], axis=1)\n",
        "listings_count_calculated = listings_count_calculated.set_index(\"id\")\n",
        "listings_count_calculated = listings_count_calculated[\"listings_count_calculated\"]\n",
        "\n",
        "# 3. replace nas with listings_count_calculated values\n",
        "listings.loc[:, \"host_listings_count\"] = listings.loc[:, \"host_listings_count\"].fillna(listings_count_calculated)"
      ],
      "metadata": {
        "id": "E7zcypHRnVNa"
      },
      "execution_count": 68,
      "outputs": []
    },
    {
      "cell_type": "code",
      "source": [
        "# recode nas in all review_scores aggregates to mean values\n",
        "listings.loc[:, \"review_scores_rating\"] = listings.loc[:, \"review_scores_rating\"].fillna(listings[\"review_scores_rating\"].mean())\n",
        "listings.loc[:, \"review_scores_accuracy\"] = listings.loc[:, \"review_scores_accuracy\"].fillna(listings[\"review_scores_accuracy\"].mean())\n",
        "listings.loc[:, \"review_scores_cleanliness\"] = listings.loc[:, \"review_scores_cleanliness\"].fillna(listings[\"review_scores_cleanliness\"].mean())\n",
        "listings.loc[:, \"review_scores_communication\"] = listings.loc[:, \"review_scores_communication\"].fillna(listings[\"review_scores_communication\"].mean())\n",
        "listings.loc[:, \"review_scores_checkin\"] = listings.loc[:, \"review_scores_checkin\"].fillna(listings[\"review_scores_checkin\"].mean())\n",
        "listings.loc[:, \"review_scores_location\"] = listings.loc[:, \"review_scores_location\"].fillna(listings[\"review_scores_location\"].mean())\n",
        "listings.loc[:, \"review_scores_value\"] = listings.loc[:, \"review_scores_value\"].fillna(listings[\"review_scores_value\"].mean())"
      ],
      "metadata": {
        "id": "LLmRWkog9iN4"
      },
      "execution_count": 69,
      "outputs": []
    },
    {
      "cell_type": "code",
      "source": [
        "# recode reviews_per_month nas to 0\n",
        "listings.loc[:, \"reviews_per_month\"] = listings.loc[:, \"reviews_per_month\"].fillna(0)"
      ],
      "metadata": {
        "id": "vxLwHs2y_UXI"
      },
      "execution_count": 70,
      "outputs": []
    },
    {
      "cell_type": "code",
      "source": [
        "# recode host_is_superhost na's according to superhost status at website (looked up manually)\n",
        "listings.loc[pd.Index([21632198]), \"host_is_superhost\"] = 1\n",
        "listings.loc[listings.host_is_superhost.isna(), \"host_is_superhost\"] = 0"
      ],
      "metadata": {
        "id": "whraDHcP9QmE"
      },
      "execution_count": 71,
      "outputs": []
    },
    {
      "cell_type": "code",
      "source": [
        "# replace bath_number nas to 0\n",
        "listings.loc[:, \"bath_number\"] = listings.loc[:, \"bath_number\"].fillna(0)"
      ],
      "metadata": {
        "id": "ISlRfxDpHG7k"
      },
      "execution_count": 72,
      "outputs": []
    },
    {
      "cell_type": "code",
      "source": [
        "# recode bedrooms nas to 1\n",
        "listings.loc[:, \"bedrooms\"] = listings.loc[:, \"bedrooms\"].fillna(1)"
      ],
      "metadata": {
        "id": "sOSQTIxRL-TC"
      },
      "execution_count": 73,
      "outputs": []
    },
    {
      "cell_type": "code",
      "source": [
        "# recodes beds nas to 1\n",
        "listings.loc[:, \"beds\"] = listings.loc[:, \"beds\"].fillna(1)"
      ],
      "metadata": {
        "id": "8s-kg026MF2T"
      },
      "execution_count": 74,
      "outputs": []
    },
    {
      "cell_type": "code",
      "source": [
        "# recode host_identity_verified as looked up manually on the web\n",
        "index_not_verified = pd.Index([2808957, 7079941, 8808555, 13880640])\n",
        "listings.loc[index_not_verified, \"host_identity_verified\"] = listings.loc[index_not_verified, \"host_identity_verified\"].fillna(0)\n",
        "listings.loc[:, \"host_identity_verified\"] = listings.loc[:, \"host_identity_verified\"].fillna(1)"
      ],
      "metadata": {
        "id": "i4NQv86nMXqC"
      },
      "execution_count": 75,
      "outputs": []
    },
    {
      "cell_type": "code",
      "source": [
        "# recode categorical vars into numerical representation\n",
        "\n",
        "recodecols = listings.select_dtypes(include=['object']).columns\n",
        "to_recode = ['neighbourhood_cleansed', 'property_type', 'room_type', 'lang', \"availability_30\",\n",
        "            \"availability_365\", \"availability_60\", \"accommodates\", \"bedrooms\",\n",
        "            \"calculated_host_listings_count_entire_homes\", \"calculated_host_listings_count_private_rooms\", \n",
        "            \"calculated_host_listings_count\", \"maximum_minimum_nights\", \"minimum_nights\"]\n",
        "recodecols\n",
        "\n",
        "def recode_cats(df, column):\n",
        "    vals = df[column].unique()\n",
        "    vals = np.hstack((vals[:, np.newaxis], np.arange(0, len(vals))[:, np.newaxis]))\n",
        "    df[column] = df[column].map(dict(vals))\n",
        "\n",
        "    return df, vals\n",
        "\n",
        "dictlist = []\n",
        "for cat in to_recode:\n",
        "    listings, tmp = recode_cats(listings, cat)\n",
        "    dictlist.append(tmp.tolist()) \n",
        "\n",
        "    \n",
        "with open(\"/content/drive/MyDrive/Colab/airbnb/data/data1/catdict.json\", \"w\") as f:\n",
        "    json.dump(dictlist, f, indent=6)\n",
        "\n",
        "with open(\"/content/drive/MyDrive/Colab/airbnb/data/data1/catdict.json\", \"r\") as f:\n",
        "    print(json.load(f))"
      ],
      "metadata": {
        "colab": {
          "base_uri": "https://localhost:8080/"
        },
        "id": "odNi-VbkijdU",
        "outputId": "c31eb3c3-498a-4930-8336-e1ce7931be49"
      },
      "execution_count": 76,
      "outputs": [
        {
          "output_type": "stream",
          "name": "stdout",
          "text": [
            "[[['Donaustadt', 0], ['Leopoldstadt', 1], ['Rudolfsheim-F\\x9fnfhaus', 2], ['Ottakring', 3], ['Brigittenau', 4], ['Neubau', 5], ['Margareten', 6], ['Hernals', 7], ['Floridsdorf', 8], ['Alsergrund', 9], ['Simmering', 10], ['Wieden', 11], ['Mariahilf', 12], ['Josefstadt', 13], ['Landstra§e', 14], ['Favoriten', 15], ['Innere Stadt', 16], ['Meidling', 17], ['W\\x8ahring', 18], ['D\\x9abling', 19], ['Penzing', 20], ['Liesing', 21], ['Hietzing', 22]], [['Room in bed and breakfast', 0], ['Entire rental unit', 1], ['Private room in rental unit', 2], ['Entire condominium (condo)', 3], ['Entire serviced apartment', 4], ['Entire loft', 5], ['Entire residential home', 6], ['Private room in condominium (condo)', 7], ['Private room in treehouse', 8], ['Entire guest suite', 9], ['Private room in residential home', 10], ['Shared room in rental unit', 11], ['Private room in loft', 12], ['Private room in townhouse', 13], ['Shared room in residential home', 14], ['Entire townhouse', 15], ['Private room in bed and breakfast', 16], ['Room in boutique hotel', 17], ['Entire cottage', 18], ['Shared room in loft', 19], ['Private room', 20], ['Entire place', 21], ['Entire villa', 22], ['Private room in cave', 23], ['Private room in guesthouse', 24], ['Room in hotel', 25], ['Private room in villa', 26], ['Camper/RV', 27], ['Room in aparthotel', 28], ['Private room in guest suite', 29], ['Room in serviced apartment', 30], ['Private room in castle', 31], ['Entire hostel', 32], ['Entire chalet', 33], ['Private room in serviced apartment', 34], ['Entire guesthouse', 35], ['Tiny house', 36], ['Entire bungalow', 37], ['Shared room in condominium (condo)', 38], ['Private room in hostel', 39], ['Private room in nature lodge', 40], ['Shared room in tiny house', 41], ['Private room in farm stay', 42], ['Private room in earth house', 43], ['Shared room in hostel', 44], ['Shared room in bed and breakfast', 45], ['Shared room in serviced apartment', 46], ['Entire cabin', 47], ['Private room in camper/rv', 48], ['Casa particular', 49], ['Private room in casa particular', 50], ['Private room in barn', 51], ['Entire vacation home', 52]], [['Hotel room', 0], ['Entire home/apt', 1], ['Private room', 2], ['Shared room', 3]], [['en', 0], ['zh', 1], ['de', 2], ['fr', 3], ['it', 4], ['ru', 5], ['es', 6], ['hu', 7], ['ko', 8], ['ja', 9], ['sk', 10], ['sv', 11], ['tr', 12], ['pl', 13], ['hr', 14], ['uk', 15], ['ro', 16], ['sl', 17], ['sh', 18]], [[29.0, 0.0], [11.0, 1.0], [0.0, 2.0], [4.0, 3.0], [16.0, 4.0], [28.0, 5.0], [12.0, 6.0], [19.0, 7.0], [30.0, 8.0], [3.0, 9.0], [7.0, 10.0], [22.0, 11.0], [20.0, 12.0], [25.0, 13.0], [23.0, 14.0], [14.0, 15.0], [21.0, 16.0], [8.0, 17.0], [1.0, 18.0], [5.0, 19.0], [10.0, 20.0], [15.0, 21.0], [6.0, 22.0], [17.0, 23.0], [9.0, 24.0], [24.0, 25.0], [2.0, 26.0], [18.0, 27.0], [13.0, 28.0], [27.0, 29.0], [26.0, 30.0]], [[364.0, 0.0], [140.0, 1.0], [275.0, 2.0], [142.0, 3.0], [302.0, 4.0], [0.0, 5.0], [252.0, 6.0], [221.0, 7.0], [58.0, 8.0], [325.0, 9.0], [118.0, 10.0], [363.0, 11.0], [12.0, 12.0], [318.0, 13.0], [311.0, 14.0], [2.0, 15.0], [303.0, 16.0], [180.0, 17.0], [38.0, 18.0], [328.0, 19.0], [115.0, 20.0], [101.0, 21.0], [306.0, 22.0], [263.0, 23.0], [274.0, 24.0], [313.0, 25.0], [292.0, 26.0], [323.0, 27.0], [287.0, 28.0], [319.0, 29.0], [314.0, 30.0], [308.0, 31.0], [285.0, 32.0], [309.0, 33.0], [347.0, 34.0], [298.0, 35.0], [37.0, 36.0], [357.0, 37.0], [320.0, 38.0], [365.0, 39.0], [345.0, 40.0], [316.0, 41.0], [295.0, 42.0], [291.0, 43.0], [293.0, 44.0], [254.0, 45.0], [312.0, 46.0], [253.0, 47.0], [1.0, 48.0], [136.0, 49.0], [109.0, 50.0], [147.0, 51.0], [219.0, 52.0], [210.0, 53.0], [120.0, 54.0], [304.0, 55.0], [281.0, 56.0], [322.0, 57.0], [290.0, 58.0], [201.0, 59.0], [195.0, 60.0], [315.0, 61.0], [117.0, 62.0], [337.0, 63.0], [48.0, 64.0], [130.0, 65.0], [342.0, 66.0], [216.0, 67.0], [340.0, 68.0], [330.0, 69.0], [310.0, 70.0], [307.0, 71.0], [289.0, 72.0], [191.0, 73.0], [297.0, 74.0], [32.0, 75.0], [90.0, 76.0], [305.0, 77.0], [139.0, 78.0], [185.0, 79.0], [278.0, 80.0], [333.0, 81.0], [128.0, 82.0], [265.0, 83.0], [360.0, 84.0], [248.0, 85.0], [358.0, 86.0], [145.0, 87.0], [300.0, 88.0], [173.0, 89.0], [178.0, 90.0], [246.0, 91.0], [181.0, 92.0], [273.0, 93.0], [240.0, 94.0], [193.0, 95.0], [317.0, 96.0], [279.0, 97.0], [255.0, 98.0], [261.0, 99.0], [224.0, 100.0], [283.0, 101.0], [190.0, 102.0], [162.0, 103.0], [64.0, 104.0], [83.0, 105.0], [230.0, 106.0], [334.0, 107.0], [61.0, 108.0], [93.0, 109.0], [131.0, 110.0], [16.0, 111.0], [280.0, 112.0], [277.0, 113.0], [299.0, 114.0], [329.0, 115.0], [200.0, 116.0], [199.0, 117.0], [349.0, 118.0], [276.0, 119.0], [271.0, 120.0], [65.0, 121.0], [361.0, 122.0], [68.0, 123.0], [6.0, 124.0], [148.0, 125.0], [28.0, 126.0], [324.0, 127.0], [256.0, 128.0], [243.0, 129.0], [352.0, 130.0], [125.0, 131.0], [331.0, 132.0], [362.0, 133.0], [23.0, 134.0], [24.0, 135.0], [22.0, 136.0], [242.0, 137.0], [341.0, 138.0], [338.0, 139.0], [54.0, 140.0], [267.0, 141.0], [296.0, 142.0], [356.0, 143.0], [36.0, 144.0], [100.0, 145.0], [222.0, 146.0], [227.0, 147.0], [326.0, 148.0], [168.0, 149.0], [247.0, 150.0], [70.0, 151.0], [288.0, 152.0], [268.0, 153.0], [5.0, 154.0], [132.0, 155.0], [129.0, 156.0], [163.0, 157.0], [157.0, 158.0], [251.0, 159.0], [39.0, 160.0], [89.0, 161.0], [327.0, 162.0], [335.0, 163.0], [239.0, 164.0], [343.0, 165.0], [270.0, 166.0], [161.0, 167.0], [218.0, 168.0], [258.0, 169.0], [107.0, 170.0], [75.0, 171.0], [82.0, 172.0], [346.0, 173.0], [351.0, 174.0], [87.0, 175.0], [150.0, 176.0], [45.0, 177.0], [336.0, 178.0], [154.0, 179.0], [187.0, 180.0], [47.0, 181.0], [56.0, 182.0], [213.0, 183.0], [233.0, 184.0], [257.0, 185.0], [146.0, 186.0], [321.0, 187.0], [127.0, 188.0], [52.0, 189.0], [359.0, 190.0], [220.0, 191.0], [99.0, 192.0], [30.0, 193.0], [20.0, 194.0], [294.0, 195.0], [62.0, 196.0], [339.0, 197.0], [155.0, 198.0], [119.0, 199.0], [156.0, 200.0], [235.0, 201.0], [264.0, 202.0], [98.0, 203.0], [123.0, 204.0], [55.0, 205.0], [51.0, 206.0], [112.0, 207.0], [97.0, 208.0], [170.0, 209.0], [166.0, 210.0], [42.0, 211.0], [69.0, 212.0], [8.0, 213.0], [332.0, 214.0], [4.0, 215.0], [217.0, 216.0], [225.0, 217.0], [177.0, 218.0], [160.0, 219.0], [78.0, 220.0], [350.0, 221.0], [46.0, 222.0], [196.0, 223.0], [111.0, 224.0], [282.0, 225.0], [344.0, 226.0], [262.0, 227.0], [67.0, 228.0], [286.0, 229.0], [11.0, 230.0], [33.0, 231.0], [13.0, 232.0], [18.0, 233.0], [19.0, 234.0], [143.0, 235.0], [126.0, 236.0], [164.0, 237.0], [86.0, 238.0], [208.0, 239.0], [26.0, 240.0], [354.0, 241.0], [49.0, 242.0], [135.0, 243.0], [232.0, 244.0], [272.0, 245.0], [348.0, 246.0], [244.0, 247.0], [151.0, 248.0], [9.0, 249.0], [41.0, 250.0], [215.0, 251.0], [189.0, 252.0], [44.0, 253.0], [207.0, 254.0], [353.0, 255.0], [179.0, 256.0], [174.0, 257.0], [7.0, 258.0], [114.0, 259.0], [31.0, 260.0], [116.0, 261.0], [250.0, 262.0], [84.0, 263.0], [234.0, 264.0], [192.0, 265.0], [95.0, 266.0], [186.0, 267.0], [269.0, 268.0], [237.0, 269.0], [10.0, 270.0], [260.0, 271.0], [96.0, 272.0], [113.0, 273.0], [27.0, 274.0], [21.0, 275.0], [133.0, 276.0], [60.0, 277.0], [34.0, 278.0], [355.0, 279.0], [284.0, 280.0], [159.0, 281.0], [204.0, 282.0], [226.0, 283.0], [301.0, 284.0], [183.0, 285.0], [73.0, 286.0], [59.0, 287.0], [85.0, 288.0], [245.0, 289.0], [228.0, 290.0], [3.0, 291.0], [63.0, 292.0], [53.0, 293.0], [198.0, 294.0], [152.0, 295.0], [108.0, 296.0], [214.0, 297.0], [121.0, 298.0], [171.0, 299.0], [25.0, 300.0], [50.0, 301.0], [94.0, 302.0], [149.0, 303.0], [40.0, 304.0], [266.0, 305.0], [144.0, 306.0], [122.0, 307.0], [29.0, 308.0], [175.0, 309.0], [203.0, 310.0], [17.0, 311.0], [104.0, 312.0], [102.0, 313.0], [77.0, 314.0], [165.0, 315.0], [15.0, 316.0], [71.0, 317.0], [88.0, 318.0], [249.0, 319.0], [158.0, 320.0], [188.0, 321.0], [91.0, 322.0], [14.0, 323.0], [66.0, 324.0], [231.0, 325.0], [43.0, 326.0], [106.0, 327.0], [124.0, 328.0], [212.0, 329.0], [184.0, 330.0], [137.0, 331.0], [74.0, 332.0], [105.0, 333.0], [92.0, 334.0], [167.0, 335.0], [172.0, 336.0], [57.0, 337.0], [141.0, 338.0], [35.0, 339.0], [223.0, 340.0], [238.0, 341.0], [241.0, 342.0], [80.0, 343.0], [134.0, 344.0], [138.0, 345.0], [211.0, 346.0], [206.0, 347.0], [72.0, 348.0], [103.0, 349.0], [76.0, 350.0], [259.0, 351.0], [194.0, 352.0], [81.0, 353.0], [236.0, 354.0], [182.0, 355.0], [153.0, 356.0], [229.0, 357.0], [176.0, 358.0], [79.0, 359.0], [202.0, 360.0], [169.0, 361.0], [110.0, 362.0], [209.0, 363.0], [205.0, 364.0], [197.0, 365.0]], [[59.0, 0.0], [20.0, 1.0], [0.0, 2.0], [22.0, 3.0], [28.0, 4.0], [1.0, 5.0], [58.0, 6.0], [12.0, 7.0], [27.0, 8.0], [6.0, 9.0], [40.0, 10.0], [7.0, 11.0], [60.0, 12.0], [8.0, 13.0], [23.0, 14.0], [31.0, 15.0], [17.0, 16.0], [45.0, 17.0], [41.0, 18.0], [39.0, 19.0], [48.0, 20.0], [36.0, 21.0], [53.0, 22.0], [55.0, 23.0], [50.0, 24.0], [44.0, 25.0], [10.0, 26.0], [34.0, 27.0], [42.0, 28.0], [18.0, 29.0], [4.0, 30.0], [52.0, 31.0], [43.0, 32.0], [16.0, 33.0], [15.0, 34.0], [14.0, 35.0], [9.0, 36.0], [32.0, 37.0], [3.0, 38.0], [13.0, 39.0], [19.0, 40.0], [37.0, 41.0], [21.0, 42.0], [35.0, 43.0], [30.0, 44.0], [5.0, 45.0], [54.0, 46.0], [25.0, 47.0], [11.0, 48.0], [2.0, 49.0], [24.0, 50.0], [29.0, 51.0], [38.0, 52.0], [33.0, 53.0], [56.0, 54.0], [26.0, 55.0], [57.0, 56.0], [47.0, 57.0], [51.0, 58.0], [46.0, 59.0], [49.0, 60.0]], [[3.0, 0.0], [5.0, 1.0], [6.0, 2.0], [2.0, 3.0], [4.0, 4.0], [1.0, 5.0], [8.0, 6.0], [9.0, 7.0], [7.0, 8.0], [10.0, 9.0], [12.0, 10.0], [16.0, 11.0], [11.0, 12.0], [14.0, 13.0], [13.0, 14.0], [15.0, 15.0]], [[1.0, 0.0], [2.0, 1.0], [3.0, 2.0], [4.0, 3.0], [6.0, 4.0], [5.0, 5.0], [18.0, 6.0], [8.0, 7.0], [10.0, 8.0], [7.0, 9.0], [14.0, 10.0], [9.0, 11.0], [12.0, 12.0], [19.0, 13.0], [15.0, 14.0]], [[1.0, 0.0], [3.0, 1.0], [14.0, 2.0], [2.0, 3.0], [6.0, 4.0], [0.0, 5.0], [4.0, 6.0], [24.0, 7.0], [10.0, 8.0], [8.0, 9.0], [5.0, 10.0], [37.0, 11.0], [23.0, 12.0], [15.0, 13.0], [21.0, 14.0], [42.0, 15.0], [16.0, 16.0], [32.0, 17.0], [19.0, 18.0], [9.0, 19.0], [7.0, 20.0], [47.0, 21.0], [26.0, 22.0], [29.0, 23.0], [13.0, 24.0], [20.0, 25.0], [85.0, 26.0], [38.0, 27.0], [11.0, 28.0], [12.0, 29.0], [30.0, 30.0], [28.0, 31.0], [52.0, 32.0], [18.0, 33.0], [27.0, 34.0], [36.0, 35.0], [64.0, 36.0], [17.0, 37.0], [22.0, 38.0], [31.0, 39.0], [81.0, 40.0], [59.0, 41.0], [34.0, 42.0], [243.0, 43.0], [66.0, 44.0]], [[0.0, 0.0], [1.0, 1.0], [2.0, 2.0], [13.0, 3.0], [4.0, 4.0], [3.0, 5.0], [5.0, 6.0], [18.0, 7.0], [6.0, 8.0], [8.0, 9.0], [7.0, 10.0], [10.0, 11.0], [12.0, 12.0], [11.0, 13.0], [9.0, 14.0], [69.0, 15.0], [41.0, 16.0], [34.0, 17.0], [15.0, 18.0]], [[3.0, 0.0], [15.0, 1.0], [1.0, 2.0], [2.0, 3.0], [19.0, 4.0], [14.0, 5.0], [6.0, 6.0], [4.0, 7.0], [26.0, 8.0], [10.0, 9.0], [8.0, 10.0], [5.0, 11.0], [37.0, 12.0], [23.0, 13.0], [21.0, 14.0], [42.0, 15.0], [16.0, 16.0], [34.0, 17.0], [9.0, 18.0], [7.0, 19.0], [47.0, 20.0], [13.0, 21.0], [27.0, 22.0], [24.0, 23.0], [29.0, 24.0], [20.0, 25.0], [85.0, 26.0], [38.0, 27.0], [57.0, 28.0], [11.0, 29.0], [12.0, 30.0], [30.0, 31.0], [28.0, 32.0], [52.0, 33.0], [17.0, 34.0], [32.0, 35.0], [18.0, 36.0], [36.0, 37.0], [67.0, 38.0], [31.0, 39.0], [81.0, 40.0], [68.0, 41.0], [69.0, 42.0], [59.0, 43.0], [243.0, 44.0], [66.0, 45.0], [41.0, 46.0]], [[1.0, 0.0], [3.0, 1.0], [2.0, 2.0], [4.0, 3.0], [6.0, 4.0], [7.0, 5.0], [5.0, 6.0], [14.0, 7.0], [25.0, 8.0], [30.0, 9.0], [10.0, 10.0], [28.0, 11.0], [31.0, 12.0], [150.0, 13.0], [120.0, 14.0], [90.0, 15.0], [91.0, 16.0], [20.0, 17.0], [21.0, 18.0], [180.0, 19.0], [13.0, 20.0], [50.0, 21.0], [60.0, 22.0], [140.0, 23.0], [9.0, 24.0], [8.0, 25.0], [360.0, 26.0], [190.0, 27.0], [145.0, 28.0], [300.0, 29.0], [55.0, 30.0], [11.0, 31.0], [56.0, 32.0], [58.0, 33.0], [15.0, 34.0], [1000.0, 35.0], [92.0, 36.0], [365.0, 37.0], [179.0, 38.0], [125.0, 39.0], [95.0, 40.0], [35.0, 41.0], [12.0, 42.0], [27.0, 43.0], [26.0, 44.0], [84.0, 45.0], [78.0, 46.0], [29.0, 47.0], [19.0, 48.0], [89.0, 49.0], [32.0, 50.0], [16.0, 51.0], [80.0, 52.0], [17.0, 53.0], [45.0, 54.0], [200.0, 55.0], [22.0, 56.0], [40.0, 57.0], [999.0, 58.0], [33.0, 59.0], [23.0, 60.0], [1125.0, 61.0], [130.0, 62.0], [36.0, 63.0], [100.0, 64.0], [99.0, 65.0], [18.0, 66.0], [70.0, 67.0], [59.0, 68.0], [240.0, 69.0], [42.0, 70.0], [222.0, 71.0], [730.0, 72.0], [93.0, 73.0], [75.0, 74.0], [79.0, 75.0], [800.0, 76.0]], [[1.0, 0.0], [3.0, 1.0], [2.0, 2.0], [4.0, 3.0], [6.0, 4.0], [7.0, 5.0], [14.0, 6.0], [30.0, 7.0], [5.0, 8.0], [28.0, 9.0], [31.0, 10.0], [90.0, 11.0], [120.0, 12.0], [91.0, 13.0], [20.0, 14.0], [10.0, 15.0], [180.0, 16.0], [13.0, 17.0], [50.0, 18.0], [60.0, 19.0], [70.0, 20.0], [9.0, 21.0], [8.0, 22.0], [360.0, 23.0], [190.0, 24.0], [145.0, 25.0], [300.0, 26.0], [55.0, 27.0], [21.0, 28.0], [11.0, 29.0], [56.0, 30.0], [58.0, 31.0], [15.0, 32.0], [1000.0, 33.0], [365.0, 34.0], [179.0, 35.0], [125.0, 36.0], [95.0, 37.0], [35.0, 38.0], [12.0, 39.0], [27.0, 40.0], [25.0, 41.0], [26.0, 42.0], [84.0, 43.0], [78.0, 44.0], [29.0, 45.0], [150.0, 46.0], [19.0, 47.0], [89.0, 48.0], [32.0, 49.0], [16.0, 50.0], [80.0, 51.0], [17.0, 52.0], [45.0, 53.0], [200.0, 54.0], [22.0, 55.0], [40.0, 56.0], [999.0, 57.0], [33.0, 58.0], [23.0, 59.0], [1125.0, 60.0], [92.0, 61.0], [130.0, 62.0], [36.0, 63.0], [100.0, 64.0], [18.0, 65.0], [59.0, 66.0], [240.0, 67.0], [42.0, 68.0], [222.0, 69.0], [93.0, 70.0]]]\n"
          ]
        }
      ]
    },
    {
      "cell_type": "code",
      "source": [
        "listings.isna().sum().sum()"
      ],
      "metadata": {
        "colab": {
          "base_uri": "https://localhost:8080/"
        },
        "id": "iW01onBUi5g2",
        "outputId": "25f22d9e-9bdd-40cb-85fd-65b6e755685d"
      },
      "execution_count": 78,
      "outputs": [
        {
          "output_type": "execute_result",
          "data": {
            "text/plain": [
              "0"
            ]
          },
          "metadata": {},
          "execution_count": 78
        }
      ]
    },
    {
      "cell_type": "markdown",
      "source": [
        "# add host_picture_binary to listings"
      ],
      "metadata": {
        "id": "lN7MCW5cjmeJ"
      }
    },
    {
      "cell_type": "code",
      "source": [
        "with open(\"/content/drive/MyDrive/Colab/airbnb/data/data1/missing_data.json\", \"r\") as f:\n",
        "    missing_data = json.load(f)\n",
        "\n",
        "missing_price_index = (missing_data[\"price\"])\n",
        "\n",
        "hostpics_binary = pd.read_pickle(\"/content/drive/MyDrive/Colab/airbnb/data/hostpics/hostpics_binary.pickle\")\n",
        "hostpics_binary.index = hostpics_binary.index.astype(\"int\")\n",
        "hostpics_binary = hostpics_binary.drop(pd.Index(missing_price_index))\n",
        "hostpics_binary = hostpics_binary.drop(\"host_picture\", axis=1)\n",
        "hostpics_binary"
      ],
      "metadata": {
        "id": "VmPJKSeelPeC",
        "outputId": "db867f7a-9e98-487f-9c77-6971a6f3fc41",
        "colab": {
          "base_uri": "https://localhost:8080/",
          "height": 455
        }
      },
      "execution_count": 79,
      "outputs": [
        {
          "output_type": "execute_result",
          "data": {
            "text/html": [
              "\n",
              "  <div id=\"df-28329101-44a5-4bb4-ab74-e457b3ada149\">\n",
              "    <div class=\"colab-df-container\">\n",
              "      <div>\n",
              "<style scoped>\n",
              "    .dataframe tbody tr th:only-of-type {\n",
              "        vertical-align: middle;\n",
              "    }\n",
              "\n",
              "    .dataframe tbody tr th {\n",
              "        vertical-align: top;\n",
              "    }\n",
              "\n",
              "    .dataframe thead th {\n",
              "        text-align: right;\n",
              "    }\n",
              "</style>\n",
              "<table border=\"1\" class=\"dataframe\">\n",
              "  <thead>\n",
              "    <tr style=\"text-align: right;\">\n",
              "      <th></th>\n",
              "      <th>host_picture_binary</th>\n",
              "    </tr>\n",
              "    <tr>\n",
              "      <th>id</th>\n",
              "      <th></th>\n",
              "    </tr>\n",
              "  </thead>\n",
              "  <tbody>\n",
              "    <tr>\n",
              "      <th>10009462</th>\n",
              "      <td>1</td>\n",
              "    </tr>\n",
              "    <tr>\n",
              "      <th>1001143</th>\n",
              "      <td>1</td>\n",
              "    </tr>\n",
              "    <tr>\n",
              "      <th>10017950</th>\n",
              "      <td>1</td>\n",
              "    </tr>\n",
              "    <tr>\n",
              "      <th>10039423</th>\n",
              "      <td>0</td>\n",
              "    </tr>\n",
              "    <tr>\n",
              "      <th>1004037</th>\n",
              "      <td>1</td>\n",
              "    </tr>\n",
              "    <tr>\n",
              "      <th>...</th>\n",
              "      <td>...</td>\n",
              "    </tr>\n",
              "    <tr>\n",
              "      <th>27801673</th>\n",
              "      <td>0</td>\n",
              "    </tr>\n",
              "    <tr>\n",
              "      <th>38240023</th>\n",
              "      <td>0</td>\n",
              "    </tr>\n",
              "    <tr>\n",
              "      <th>49303478</th>\n",
              "      <td>0</td>\n",
              "    </tr>\n",
              "    <tr>\n",
              "      <th>51074863</th>\n",
              "      <td>0</td>\n",
              "    </tr>\n",
              "    <tr>\n",
              "      <th>51380533</th>\n",
              "      <td>0</td>\n",
              "    </tr>\n",
              "  </tbody>\n",
              "</table>\n",
              "<p>11404 rows × 1 columns</p>\n",
              "</div>\n",
              "      <button class=\"colab-df-convert\" onclick=\"convertToInteractive('df-28329101-44a5-4bb4-ab74-e457b3ada149')\"\n",
              "              title=\"Convert this dataframe to an interactive table.\"\n",
              "              style=\"display:none;\">\n",
              "        \n",
              "  <svg xmlns=\"http://www.w3.org/2000/svg\" height=\"24px\"viewBox=\"0 0 24 24\"\n",
              "       width=\"24px\">\n",
              "    <path d=\"M0 0h24v24H0V0z\" fill=\"none\"/>\n",
              "    <path d=\"M18.56 5.44l.94 2.06.94-2.06 2.06-.94-2.06-.94-.94-2.06-.94 2.06-2.06.94zm-11 1L8.5 8.5l.94-2.06 2.06-.94-2.06-.94L8.5 2.5l-.94 2.06-2.06.94zm10 10l.94 2.06.94-2.06 2.06-.94-2.06-.94-.94-2.06-.94 2.06-2.06.94z\"/><path d=\"M17.41 7.96l-1.37-1.37c-.4-.4-.92-.59-1.43-.59-.52 0-1.04.2-1.43.59L10.3 9.45l-7.72 7.72c-.78.78-.78 2.05 0 2.83L4 21.41c.39.39.9.59 1.41.59.51 0 1.02-.2 1.41-.59l7.78-7.78 2.81-2.81c.8-.78.8-2.07 0-2.86zM5.41 20L4 18.59l7.72-7.72 1.47 1.35L5.41 20z\"/>\n",
              "  </svg>\n",
              "      </button>\n",
              "      \n",
              "  <style>\n",
              "    .colab-df-container {\n",
              "      display:flex;\n",
              "      flex-wrap:wrap;\n",
              "      gap: 12px;\n",
              "    }\n",
              "\n",
              "    .colab-df-convert {\n",
              "      background-color: #E8F0FE;\n",
              "      border: none;\n",
              "      border-radius: 50%;\n",
              "      cursor: pointer;\n",
              "      display: none;\n",
              "      fill: #1967D2;\n",
              "      height: 32px;\n",
              "      padding: 0 0 0 0;\n",
              "      width: 32px;\n",
              "    }\n",
              "\n",
              "    .colab-df-convert:hover {\n",
              "      background-color: #E2EBFA;\n",
              "      box-shadow: 0px 1px 2px rgba(60, 64, 67, 0.3), 0px 1px 3px 1px rgba(60, 64, 67, 0.15);\n",
              "      fill: #174EA6;\n",
              "    }\n",
              "\n",
              "    [theme=dark] .colab-df-convert {\n",
              "      background-color: #3B4455;\n",
              "      fill: #D2E3FC;\n",
              "    }\n",
              "\n",
              "    [theme=dark] .colab-df-convert:hover {\n",
              "      background-color: #434B5C;\n",
              "      box-shadow: 0px 1px 3px 1px rgba(0, 0, 0, 0.15);\n",
              "      filter: drop-shadow(0px 1px 2px rgba(0, 0, 0, 0.3));\n",
              "      fill: #FFFFFF;\n",
              "    }\n",
              "  </style>\n",
              "\n",
              "      <script>\n",
              "        const buttonEl =\n",
              "          document.querySelector('#df-28329101-44a5-4bb4-ab74-e457b3ada149 button.colab-df-convert');\n",
              "        buttonEl.style.display =\n",
              "          google.colab.kernel.accessAllowed ? 'block' : 'none';\n",
              "\n",
              "        async function convertToInteractive(key) {\n",
              "          const element = document.querySelector('#df-28329101-44a5-4bb4-ab74-e457b3ada149');\n",
              "          const dataTable =\n",
              "            await google.colab.kernel.invokeFunction('convertToInteractive',\n",
              "                                                     [key], {});\n",
              "          if (!dataTable) return;\n",
              "\n",
              "          const docLinkHtml = 'Like what you see? Visit the ' +\n",
              "            '<a target=\"_blank\" href=https://colab.research.google.com/notebooks/data_table.ipynb>data table notebook</a>'\n",
              "            + ' to learn more about interactive tables.';\n",
              "          element.innerHTML = '';\n",
              "          dataTable['output_type'] = 'display_data';\n",
              "          await google.colab.output.renderOutput(dataTable, element);\n",
              "          const docLink = document.createElement('div');\n",
              "          docLink.innerHTML = docLinkHtml;\n",
              "          element.appendChild(docLink);\n",
              "        }\n",
              "      </script>\n",
              "    </div>\n",
              "  </div>\n",
              "  "
            ],
            "text/plain": [
              "          host_picture_binary\n",
              "id                           \n",
              "10009462                    1\n",
              "1001143                     1\n",
              "10017950                    1\n",
              "10039423                    0\n",
              "1004037                     1\n",
              "...                       ...\n",
              "27801673                    0\n",
              "38240023                    0\n",
              "49303478                    0\n",
              "51074863                    0\n",
              "51380533                    0\n",
              "\n",
              "[11404 rows x 1 columns]"
            ]
          },
          "metadata": {},
          "execution_count": 79
        }
      ]
    },
    {
      "cell_type": "code",
      "source": [
        "listings = pd.concat([listings, hostpics_binary], axis=1)"
      ],
      "metadata": {
        "id": "ncIYXjiDnesg"
      },
      "execution_count": 80,
      "outputs": []
    },
    {
      "cell_type": "code",
      "source": [
        "pearsonr(listings[\"host_picture_binary\"], listings[\"log_price\"])"
      ],
      "metadata": {
        "id": "2JnSq9F0nsV_",
        "outputId": "a081eaec-f3e1-4a87-810a-1b8ad68bea44",
        "colab": {
          "base_uri": "https://localhost:8080/"
        }
      },
      "execution_count": 81,
      "outputs": [
        {
          "output_type": "execute_result",
          "data": {
            "text/plain": [
              "(-0.1506295145101593, 7.416315270338306e-59)"
            ]
          },
          "metadata": {},
          "execution_count": 81
        }
      ]
    },
    {
      "cell_type": "markdown",
      "source": [
        "# save transformed listings"
      ],
      "metadata": {
        "id": "2ijH_-7XPph-"
      }
    },
    {
      "cell_type": "code",
      "source": [
        "path = (\"/content/drive/MyDrive/Colab/airbnb/data/data1/listings_embeddedcats.pickle\")\n",
        "listings.to_pickle(path)"
      ],
      "metadata": {
        "id": "AcOZh2jnPn2c"
      },
      "execution_count": 82,
      "outputs": []
    },
    {
      "cell_type": "markdown",
      "source": [
        "# Incorporate variable from calendar (not necessary cause this variable exists already) but at least a nice small plot"
      ],
      "metadata": {
        "id": "C_Dff_wf8nKd"
      }
    },
    {
      "cell_type": "code",
      "source": [
        "path = \"/content/drive/MyDrive/Colab/airbnb/data/data1/calendar.csv.gz\"\n",
        "calendar = pd.read_csv(path)"
      ],
      "metadata": {
        "id": "hkDsJHus82vJ"
      },
      "execution_count": null,
      "outputs": []
    },
    {
      "cell_type": "code",
      "source": [
        "calendar[\"available\"] = calendar[\"available\"].map(dict(t=1, f=0))\n",
        "calendar.groupby(\"listing_id\").available.mean().plot.hist()"
      ],
      "metadata": {
        "colab": {
          "base_uri": "https://localhost:8080/",
          "height": 282
        },
        "id": "6TilWcBHF241",
        "outputId": "84da84fd-1cf3-4173-a89d-6225500ec63c"
      },
      "execution_count": null,
      "outputs": [
        {
          "output_type": "execute_result",
          "data": {
            "text/plain": [
              "<matplotlib.axes._subplots.AxesSubplot at 0x7f0c47118b10>"
            ]
          },
          "metadata": {},
          "execution_count": 238
        },
        {
          "output_type": "display_data",
          "data": {
            "image/png": "[encoded data removed]",
            "text/plain": [
              "<Figure size 432x288 with 1 Axes>"
            ]
          },
          "metadata": {
            "needs_background": "light"
          }
        }
      ]
    },
    {
      "cell_type": "code",
      "source": [
        "percent_available_nextyear = calendar.groupby(\"listing_id\").available.mean()"
      ],
      "metadata": {
        "id": "J-M6chq1JWwG"
      },
      "execution_count": null,
      "outputs": []
    },
    {
      "cell_type": "markdown",
      "source": [
        "# scrap"
      ],
      "metadata": {
        "id": "Z-3BgU35TMuM"
      }
    },
    {
      "cell_type": "code",
      "source": [
        "scrap_listings = pd.read_pickle(\"/content/drive/MyDrive/Colab/airbnb/data/translations/translated_listings.pickle\")\n",
        "scrap_listings.set_index(\"id\", inplace=True)"
      ],
      "metadata": {
        "id": "H07MG_MvTL2b"
      },
      "execution_count": null,
      "outputs": []
    }
  ],
  "metadata": {
    "colab": {
      "name": "scratchpad",
      "provenance": [],
      "include_colab_link": true
    },
    "kernelspec": {
      "display_name": "Python 3",
      "name": "python3"
    }
  },
  "nbformat": 4,
  "nbformat_minor": 0
}