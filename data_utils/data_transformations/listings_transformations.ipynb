{
  "cells": [
    {
      "cell_type": "markdown",
      "metadata": {
        "id": "view-in-github",
        "colab_type": "text"
      },
      "source": [
        "<a href=\"https://colab.research.google.com/github/dernameistegal/airbnb_price/blob/main/data_transformations/listings_transformations.ipynb\" target=\"_parent\"><img src=\"https://colab.research.google.com/assets/colab-badge.svg\" alt=\"Open In Colab\"/></a>"
      ]
    },
    {
      "cell_type": "code",
      "execution_count": 1,
      "metadata": {
        "colab": {
          "base_uri": "https://localhost:8080/"
        },
        "id": "lIYdn1woOS1n",
        "outputId": "f76bebbb-ce0a-4e58-e6dc-c963e80ff47a"
      },
      "outputs": [
        {
          "output_type": "stream",
          "name": "stdout",
          "text": [
            "Mounted at /content/drive\n"
          ]
        }
      ],
      "source": [
        "import pandas as pd\n",
        "import numpy as np\n",
        "from google.colab import drive\n",
        "drive.mount('/content/drive')"
      ]
    },
    {
      "cell_type": "code",
      "source": [
        "path= (\"/content/drive/MyDrive/Colab/airbnb/data/translations/translated_listings.pickle\")\n",
        "listings = pd.read_pickle(path)"
      ],
      "metadata": {
        "id": "EaY2xt9LFiE9"
      },
      "execution_count": 31,
      "outputs": []
    },
    {
      "cell_type": "code",
      "source": [
        "# transform price\n",
        "listings[\"price\"] = (\n",
        "    listings[\"price\"].str.replace(\"$\", \"\").str.replace(\",\", \"\").astype(float)\n",
        ")"
      ],
      "metadata": {
        "id": "4lvVrVIyLRKj"
      },
      "execution_count": 32,
      "outputs": []
    },
    {
      "cell_type": "code",
      "source": [
        "#remove zeros\n",
        "print(len(listings[listings[\"price\"] == 0]))\n",
        "listings = listings[listings[\"price\"] != 0]"
      ],
      "metadata": {
        "id": "KjaQEyiuIEPs",
        "outputId": "abc20d84-5041-4d8a-ea12-ae56040eeacc",
        "colab": {
          "base_uri": "https://localhost:8080/"
        }
      },
      "execution_count": 33,
      "outputs": [
        {
          "output_type": "stream",
          "name": "stdout",
          "text": [
            "5\n"
          ]
        }
      ]
    },
    {
      "cell_type": "code",
      "source": [
        "# log price\n",
        "listings[\"log_price\"] = np.log(listings[\"price\"])"
      ],
      "metadata": {
        "id": "T_vAldT-G2ZQ"
      },
      "execution_count": 34,
      "outputs": []
    },
    {
      "cell_type": "code",
      "source": [
        "import matplotlib.pyplot as plt\n",
        "plt.hist(listings[\"log_price\"], bins=50)\n",
        "plt.show()"
      ],
      "metadata": {
        "id": "oOfMeMlSHBDL",
        "outputId": "4fd9ae67-9e29-4945-8edd-17cf76c80d74",
        "colab": {
          "base_uri": "https://localhost:8080/",
          "height": 265
        }
      },
      "execution_count": 35,
      "outputs": [
        {
          "output_type": "display_data",
          "data": {
            "image/png": "[encoded data removed]",
            "text/plain": [
              "<Figure size 432x288 with 1 Axes>"
            ]
          },
          "metadata": {
            "needs_background": "light"
          }
        }
      ]
    },
    {
      "cell_type": "code",
      "source": [
        "# recode variables\n",
        "rooms = pd.get_dummies(listings[\"room_type\"], prefix=\"room\")\n",
        "listings = listings.drop(\"room_type\", axis=1)\n",
        "listings[\"host_is_superhost\"] = listings[\"host_is_superhost\"].map(dict(t=1, f=0))\n",
        "listings[\"host_identity_verified\"] = listings[\"host_identity_verified\"].map(\n",
        "    dict(t=1, f=0)\n",
        ")\n",
        "listings = pd.concat([listings, rooms], axis=1)\n",
        "listings"
      ],
      "metadata": {
        "id": "23BSyd68JdA2"
      },
      "execution_count": null,
      "outputs": []
    },
    {
      "cell_type": "code",
      "source": [
        "path = (\"/content/drive/MyDrive/Colab/airbnb/data/translations/listings_workfile.pickle\")\n",
        "listings.to_pickle(path)"
      ],
      "metadata": {
        "id": "leb6G0x8J3dk"
      },
      "execution_count": 37,
      "outputs": []
    }
  ],
  "metadata": {
    "colab": {
      "name": "scratchpad",
      "provenance": [],
      "include_colab_link": true
    },
    "kernelspec": {
      "display_name": "Python 3",
      "name": "python3"
    }
  },
  "nbformat": 4,
  "nbformat_minor": 0
}