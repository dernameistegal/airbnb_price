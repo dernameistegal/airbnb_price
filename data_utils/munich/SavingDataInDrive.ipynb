{
  "cells": [
    {
      "cell_type": "markdown",
      "metadata": {
        "id": "view-in-github",
        "colab_type": "text"
      },
      "source": [
        "<a href=\"https://colab.research.google.com/github/dernameistegal/airbnb_price/blob/main/data_utils/munich/SavingDataInDrive.ipynb\" target=\"_parent\"><img src=\"https://colab.research.google.com/assets/colab-badge.svg\" alt=\"Open In Colab\"/></a>"
      ]
    },
    {
      "cell_type": "markdown",
      "id": "2ab96183",
      "metadata": {
        "id": "2ab96183"
      },
      "source": [
        "This simple introduction to the Airbnb data set(s) will give you a short overview over the available data. The city used for this introduction is Berlin, hence if you want to run the exact same notebook for a different city you would need to change a few minor details. Otherwise, if you have downloaded all necessary data sets and run this notebook in the same directory it should run smoothly.\n",
        "\n",
        "### Index\n",
        "1. Load data set\n",
        "2. Price analysis\n",
        "    * (Inspect reviews)\n",
        "3. Main file (listings.csv.gz)\n",
        "4. \"Analyze\" Images\n",
        "5. \"Analyze\" Reviews\n",
        "6. Calendar file\n",
        "7.  neighbourhoods Geo.json file"
      ]
    },
    {
      "cell_type": "code",
      "source": [
        "#@title imports\n",
        "%%capture\n",
        "!pip install transformers\n",
        "!pip install geopandas\n",
        "import json\n",
        "import os\n",
        "import math\n",
        "import pandas as pd\n",
        "import gzip\n",
        "from PIL import Image\n",
        "import matplotlib.pyplot as plt\n",
        "import descartes\n",
        "import geopandas as gpd\n",
        "import requests\n",
        "from io import BytesIO\n",
        "import matplotlib.image as mpimg\n",
        "from tqdm import tqdm\n",
        "from PIL import Image\n",
        "import numpy as np\n",
        "from tqdm import tqdm\n",
        "\n",
        "from shapely.geometry import Point, Polygon\n",
        "\n",
        "import seaborn as sns\n",
        "\n",
        "from transformers import pipeline\n",
        "\n",
        "import folium\n",
        "from folium.plugins import FastMarkerCluster\n",
        "from branca.colormap import LinearColormap"
      ],
      "metadata": {
        "cellView": "form",
        "id": "u32NNuWPQT1k"
      },
      "id": "u32NNuWPQT1k",
      "execution_count": 14,
      "outputs": []
    },
    {
      "cell_type": "code",
      "source": [
        "#@title mount drive\n",
        "from google.colab import drive\n",
        "drive.mount(\"/content/drive\")"
      ],
      "metadata": {
        "id": "8I1RscrI-08z",
        "outputId": "4f4eb0bf-d640-4a14-b43a-eb5d77cef2be",
        "colab": {
          "base_uri": "https://localhost:8080/"
        }
      },
      "id": "8I1RscrI-08z",
      "execution_count": 2,
      "outputs": [
        {
          "output_type": "stream",
          "name": "stdout",
          "text": [
            "Mounted at /content/drive\n"
          ]
        }
      ]
    },
    {
      "cell_type": "code",
      "source": [
        "# make directories in drive\n",
        "!mkdir -p /content/drive/MyDrive/Colab/airbnb/munich/hostpics/hostpics_raw\n",
        "!mkdir -p /content/drive/MyDrive/Colab/airbnb/munich/thumbnails/thumbnails_raw"
      ],
      "metadata": {
        "id": "mVnZu9aeQegv"
      },
      "id": "mVnZu9aeQegv",
      "execution_count": 24,
      "outputs": []
    },
    {
      "cell_type": "code",
      "execution_count": 25,
      "id": "39082681",
      "metadata": {
        "id": "39082681"
      },
      "outputs": [],
      "source": [
        "#read files and show header for overview\n",
        "listings_meta = pd.read_pickle(\"/content/drive/MyDrive/Colab/airbnb/munich/listings.pickle\")"
      ]
    },
    {
      "cell_type": "markdown",
      "id": "57f28625",
      "metadata": {
        "id": "57f28625"
      },
      "source": [
        "# Save Images (only run once)"
      ]
    },
    {
      "cell_type": "code",
      "source": [
        "# descriptive statistics for availability of pictures\n",
        "n_no_hostpic = sum(listings_meta[\"host_picture_url\"].isnull()) \n",
        "n_no_thumbnail = sum(listings_meta[\"picture_url\"].isnull())\n",
        "n_hosts_no_thumbnail = len(np.unique(listings_meta[\"host_id\"][listings_meta[\"host_picture_url\"].isnull()]))\n",
        "print(f\"{n_no_hostpic} listings have no hostpic. In total, {n_hosts_no_thumbnail} hosts have no hostpic. {n_no_thumbnail} listings have no thumbnail.\")"
      ],
      "metadata": {
        "id": "JUwwvWB9IIsm",
        "outputId": "b44a4662-4763-4ffb-f123-6b30c43f0ade",
        "colab": {
          "base_uri": "https://localhost:8080/"
        }
      },
      "id": "JUwwvWB9IIsm",
      "execution_count": 26,
      "outputs": [
        {
          "output_type": "stream",
          "name": "stdout",
          "text": [
            "0 listings have no hostpic. In total, 0 hosts have no hostpic. 0 listings have no thumbnail.\n"
          ]
        }
      ]
    },
    {
      "cell_type": "code",
      "source": [
        "IMAGE_SIZE = [224, 224]"
      ],
      "metadata": {
        "id": "8Vbi-_-Az6yf"
      },
      "id": "8Vbi-_-Az6yf",
      "execution_count": 27,
      "outputs": []
    },
    {
      "cell_type": "code",
      "source": [
        "# instantiate list of all ids where url does not work\n",
        "pic_malfunction = []\n",
        "\n",
        "# save hostpics that are available\n",
        "for i in tqdm(range(len(listings_meta))):\n",
        "\n",
        "    # get url\n",
        "    url = listings_meta.iloc[i][\"host_picture_url\"]\n",
        "\n",
        "    # check if url is not available\n",
        "    if pd.isna(url):\n",
        "        continue\n",
        "\n",
        "    # scrape url\n",
        "    response = requests.get(url)\n",
        "\n",
        "    # check if url does not work\n",
        "    try:\n",
        "        img_plot = Image.open(BytesIO(response.content)).resize(IMAGE_SIZE)\n",
        "    except:\n",
        "        pic_malfunction.append(listings_meta.iloc[i][\"id\"])\n",
        "        continue\n",
        "    \n",
        "    # save rgb data\n",
        "    rgb_data = np.array(img_plot)\n",
        "    save_path = \"/content/drive/MyDrive/Colab/airbnb/munich/hostpics/hostpics_raw/hostpic\" + str(listings_meta.iloc[i][\"id\"])\n",
        "    np.save(save_path, rgb_data)"
      ],
      "metadata": {
        "id": "lVz1lZnRA2Gv",
        "outputId": "b33cdbfe-af5e-451d-e4f5-d5f14ca44c95",
        "colab": {
          "base_uri": "https://localhost:8080/"
        }
      },
      "id": "lVz1lZnRA2Gv",
      "execution_count": 28,
      "outputs": [
        {
          "output_type": "stream",
          "name": "stderr",
          "text": [
            "100%|██████████| 999/999 [01:17<00:00, 12.94it/s]\n"
          ]
        }
      ]
    },
    {
      "cell_type": "code",
      "source": [
        "# save ids where host pics are not available (either no url or non-functioning url) in dictionary\n",
        "nopic = np.unique(listings_meta[\"id\"][listings_meta[\"host_picture_url\"].isnull()])\n",
        "nopic = list(nopic)\n",
        "indices = nopic + pic_malfunction\n",
        "\n",
        "missing_data = {\"hostpic\": [int(ind) for ind in indices]}\n",
        "\n",
        "temp_file = open(\"/content/drive/MyDrive/Colab/airbnb/munich/missing_data.json\", \"w\")\n",
        "json.dump(missing_data, temp_file)\n",
        "temp_file.close()"
      ],
      "metadata": {
        "id": "oJ6hvwxHhI3K"
      },
      "id": "oJ6hvwxHhI3K",
      "execution_count": 32,
      "outputs": []
    },
    {
      "cell_type": "code",
      "source": [
        "# instantiate list of all ids where url does not work\n",
        "pic_malfunction = []\n",
        "\n",
        "# save thumbnails that are available\n",
        "for i in range(len(listings_meta)):\n",
        "\n",
        "    # get url\n",
        "    url = listings_meta.iloc[i][\"picture_url\"]\n",
        "\n",
        "    # check if url is not available\n",
        "    if pd.isna(url):\n",
        "        continue\n",
        "\n",
        "    # scrape url\n",
        "    response = requests.get(url)\n",
        "\n",
        "    # check if url does not work\n",
        "    try:\n",
        "        img_plot = Image.open(BytesIO(response.content)).resize(IMAGE_SIZE)\n",
        "    except:\n",
        "        pic_malfunction.append(listings_meta.iloc[i][\"id\"])\n",
        "        continue\n",
        "    \n",
        "    # save rgb data\n",
        "    rgb_data = np.array(img_plot)\n",
        "    save_path = \"/content/drive/MyDrive/Colab/airbnb/munich/thumbnails/thumbnails_raw/hostpic\" + str(listings_meta.iloc[i][\"id\"])\n",
        "    np.save(save_path, rgb_data)"
      ],
      "metadata": {
        "id": "psnTldKeHs3z"
      },
      "id": "psnTldKeHs3z",
      "execution_count": 37,
      "outputs": []
    }
  ],
  "metadata": {
    "kernelspec": {
      "display_name": "deepdl_env",
      "language": "python",
      "name": "deepdl_env"
    },
    "language_info": {
      "codemirror_mode": {
        "name": "ipython",
        "version": 3
      },
      "file_extension": ".py",
      "mimetype": "text/x-python",
      "name": "python",
      "nbconvert_exporter": "python",
      "pygments_lexer": "ipython3",
      "version": "3.9.2"
    },
    "colab": {
      "name": "Data_Set_Introduction.ipynb",
      "provenance": [],
      "include_colab_link": true
    }
  },
  "nbformat": 4,
  "nbformat_minor": 5
}