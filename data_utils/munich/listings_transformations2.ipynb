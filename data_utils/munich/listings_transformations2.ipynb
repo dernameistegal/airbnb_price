{
  "cells": [
    {
      "cell_type": "markdown",
      "metadata": {
        "id": "view-in-github",
        "colab_type": "text"
      },
      "source": [
        "<a href=\"https://colab.research.google.com/github/dernameistegal/airbnb_price/blob/main/data_utils/munich/listings_transformations2.ipynb\" target=\"_parent\"><img src=\"https://colab.research.google.com/assets/colab-badge.svg\" alt=\"Open In Colab\"/></a>"
      ]
    },
    {
      "cell_type": "code",
      "execution_count": 29,
      "metadata": {
        "id": "lIYdn1woOS1n"
      },
      "outputs": [],
      "source": [
        "%%capture\n",
        "!pip install ast\n",
        "import numpy as np\n",
        "import os\n",
        "import ast\n",
        "import pandas as pd\n",
        "import numpy as np\n",
        "from google.colab import drive\n",
        "import matplotlib.pyplot as plt\n",
        "import json\n",
        "from scipy.stats.stats import pearsonr\n",
        "drive.mount('/content/drive')"
      ]
    },
    {
      "cell_type": "markdown",
      "source": [
        "# Data preparation translated_listings.pickle"
      ],
      "metadata": {
        "id": "E3pnpJc-QVDm"
      }
    },
    {
      "cell_type": "code",
      "source": [
        "path= (\"/content/drive/MyDrive/Colab/airbnb/munich/listings.pickle\")\n",
        "listings = pd.read_pickle(path)"
      ],
      "metadata": {
        "id": "EaY2xt9LFiE9"
      },
      "execution_count": 30,
      "outputs": []
    },
    {
      "cell_type": "code",
      "source": [
        "# set id as row index and rename to listing_id\n",
        "listings.set_index('id', inplace=True)\n",
        "listings.index.name = \"listing_id\""
      ],
      "metadata": {
        "id": "Xwcqb-vIES_d"
      },
      "execution_count": 31,
      "outputs": []
    },
    {
      "cell_type": "code",
      "source": [
        "# remove columns from listings that do not make sense as predictors\n",
        "\n",
        "drop_vars = [\"name\", \"listing_url\", \"scrape_id\", \"last_scraped\", \"picture_url\", \n",
        "       \"neighborhood_overview\", \"description\", \"host_id\",\n",
        "       \"host_url\", \"host_name\", \"host_location\", \"host_about\",\n",
        "       \"host_thumbnail_url\", \"host_picture_url\", \"host_neighbourhood\", \"host_total_listings_count\",\n",
        "       \"host_has_profile_pic\", \"neighbourhood\", \"neighbourhood_group_cleansed\", \"bathrooms\",\n",
        "       \"maximum_nights\", \"maximum_nights\",\t\"minimum_minimum_nights\", 'minimum_maximum_nights',\n",
        "       'maximum_maximum_nights', 'minimum_nights_avg_ntm', \"host_listings_count\",\n",
        "       'maximum_nights_avg_ntm', 'calendar_updated',\"has_availability\", \"calendar_last_scraped\",\n",
        "       \"number_of_reviews_ltm\", \"number_of_reviews_l30d\", \"license\"]\n",
        "\n",
        "listings = listings.drop(drop_vars, axis=1)\n",
        "\n",
        "# remove host_response_time, acceptance rate and response rate # remove first_review, host_since and last_review\n",
        "listings.drop([\"host_response_time\", \"host_response_rate\", \"host_acceptance_rate\", \"first_review\", \"last_review\", \"host_since\"], axis=1, inplace=True)"
      ],
      "metadata": {
        "id": "KoQUH95KZPia"
      },
      "execution_count": 32,
      "outputs": []
    },
    {
      "cell_type": "code",
      "source": [
        "# transform price\n",
        "listings[\"price\"] = (\n",
        "    listings[\"price\"].str.replace(\"$\", \"\").str.replace(\",\", \"\").astype(float)\n",
        ")\n",
        "\n",
        "# save listing ids where price is zero in missing_data file (none in munich sample that we chose)\n",
        "with open(\"/content/drive/MyDrive/Colab/airbnb/munich/missing_data.json\", \"r\") as f:\n",
        "    missing_data = json.load(f)\n",
        "\n",
        "price_zero = listings[listings[\"price\"] == 0].index\n",
        "missing_data[\"price\"] = list(price_zero)\n",
        "\n",
        "with open(\"/content/drive/MyDrive/Colab/airbnb/munich/missing_data.json\", \"w\") as f:\n",
        "    json.dump(missing_data, f, indent=6)\n",
        "\n",
        "#remove zeros from price\n",
        "listings = listings[listings[\"price\"] != 0]\n",
        "\n",
        "# log price\n",
        "listings.loc[:, \"log_price\"] = np.log(listings[\"price\"])\n",
        "\n",
        "# remove observations where there is no hostpic (just one)\n",
        "listings = listings.drop(index = pd.Index(missing_data[\"hostpic\"]))"
      ],
      "metadata": {
        "id": "4lvVrVIyLRKj",
        "outputId": "5ab64a08-b1a8-4de0-c1e6-b9c7d3c53249",
        "colab": {
          "base_uri": "https://localhost:8080/"
        }
      },
      "execution_count": 33,
      "outputs": [
        {
          "output_type": "stream",
          "name": "stderr",
          "text": [
            "/usr/local/lib/python3.7/dist-packages/ipykernel_launcher.py:3: FutureWarning: The default value of regex will change from True to False in a future version. In addition, single character regular expressions will *not* be treated as literal strings when regex=True.\n",
            "  This is separate from the ipykernel package so we can avoid doing imports until\n"
          ]
        }
      ]
    },
    {
      "cell_type": "code",
      "source": [
        "# recode language into three categories\n",
        "german = listings[\"lang\"].str.fullmatch(\"de\", case=False, na=False)\n",
        "listings.loc[german, \"lang\"] = \"german\"\n",
        "\n",
        "english = listings[\"lang\"].str.fullmatch(\"en\", case=False, na=False)\n",
        "listings.loc[english, \"lang\"] = \"english\"\n",
        "\n",
        "listings.loc[~(english|german), \"lang\"] = \"other\""
      ],
      "metadata": {
        "id": "KMSbRMsfMWka"
      },
      "execution_count": 34,
      "outputs": []
    },
    {
      "cell_type": "code",
      "source": [
        "listings[\"property_type_temp\"] = 0\n",
        "\n",
        "# recode property into three categories\n",
        "property_type_entire_unit = listings[\"property_type\"].str.contains(\"Entire|Tiny house|hut|earth house\", case=False, na=False)\n",
        "listings.loc[property_type_entire_unit, \"property_type_temp\"] = \"property_type_entire_unit\"\n",
        "\n",
        "property_type_private_room = listings[\"property_type\"].str.contains(\"Private|Casa particular|Room in aparthotel|Room in hotel|Room in boutique hotel|Room in bed and breakfast|Room in serviced apartment|Camper\", case=False, na=False)\n",
        "listings.loc[property_type_private_room, \"property_type_temp\"] = \"property_type_private_room\"\n",
        "\n",
        "property_type_shared_room = listings[\"property_type\"].str.contains(\"Shared\", case=False, na=False)\n",
        "listings.loc[property_type_shared_room, \"property_type_temp\"] = \"property_type_shared_room\"\n",
        "\n",
        "listings = listings.drop(\"property_type\", axis=1)\n",
        "listings = listings.rename(columns={\"property_type_temp\": \"property_type\"})"
      ],
      "metadata": {
        "id": "FHMcY-kqGlfY"
      },
      "execution_count": 35,
      "outputs": []
    },
    {
      "cell_type": "code",
      "source": [
        "# recode rooms, properties, host_is_superhost, instant_bookable and host_identity_verified into dummies\n",
        "listings[\"host_is_superhost\"] = listings[\"host_is_superhost\"].map(dict(t=1, f=0))\n",
        "listings[\"instant_bookable\"] = listings[\"instant_bookable\"].map(dict(t=1, f=0))\n",
        "listings[\"host_identity_verified\"] = listings[\"host_identity_verified\"].map(\n",
        "    dict(t=1, f=0)\n",
        ")"
      ],
      "metadata": {
        "id": "23BSyd68JdA2"
      },
      "execution_count": 36,
      "outputs": []
    },
    {
      "cell_type": "code",
      "source": [
        "# recode host_verifications into dummies\n",
        "listings[\"host_verifications\"] = listings[\"host_verifications\"].apply(ast.literal_eval)\n",
        "host_verifications = listings[\"host_verifications\"]\n",
        "host_verifications = pd.get_dummies(host_verifications.apply(pd.Series).stack(dropna=False), prefix=\"host_verification\").sum(level=0)\n",
        "listings = pd.concat([listings, host_verifications], axis=1)\n",
        "listings = listings.drop(\"host_verifications\", axis=1)"
      ],
      "metadata": {
        "id": "n8oCDiDEfH85",
        "outputId": "b24a64ef-2b8d-4cf5-e860-2b79a4d5f5a1",
        "colab": {
          "base_uri": "https://localhost:8080/"
        }
      },
      "execution_count": 37,
      "outputs": [
        {
          "output_type": "stream",
          "name": "stderr",
          "text": [
            "/usr/local/lib/python3.7/dist-packages/ipykernel_launcher.py:4: FutureWarning: Using the level keyword in DataFrame and Series aggregations is deprecated and will be removed in a future version. Use groupby instead. df.sum(level=1) should use df.groupby(level=1).sum().\n",
            "  after removing the cwd from sys.path.\n"
          ]
        }
      ]
    },
    {
      "cell_type": "code",
      "source": [
        "# recode bath into bath shared dummy and number of baths\n",
        "bath_is_shared = listings[\"bathrooms_text\"].str.contains(\"shared\", case=False, na=False)\n",
        "bath_is_shared.name = \"bath_is_shared\"\n",
        "bath_is_shared = bath_is_shared.astype(\"int\")\n",
        "bath_is_half = listings[\"bathrooms_text\"].str.contains(\"half\", case=False, na=False)\n",
        "bath_number = listings[\"bathrooms_text\"].str.extract('(\\d+\\.?\\d?)', expand=False)\n",
        "bath_number[bath_is_half] = 0.5\n",
        "bath_number = bath_number.astype(\"float\")\n",
        "bath_number.name = \"bath_number\"\n",
        "\n",
        "listings = pd.concat([listings, bath_is_shared, bath_number], axis=1)\n",
        "listings = listings.drop(\"bathrooms_text\", axis=1)"
      ],
      "metadata": {
        "id": "fNPuPwfezugU"
      },
      "execution_count": 38,
      "outputs": []
    },
    {
      "cell_type": "code",
      "source": [
        "#@title recode amenities functions\n",
        "def contains_list(elements, series):\n",
        "    df = (series == \"Not existing value\").astype(\"int\")\n",
        "    for el in elements:\n",
        "        df = df + series.str.contains(el, case=False, na=0)\n",
        "    return df\n",
        "    \n",
        "def to_binary(series):\n",
        "  series = (series > 0).astype(int)\n",
        "  return series"
      ],
      "metadata": {
        "id": "0CWbS25F-d9H",
        "cellView": "form"
      },
      "execution_count": 39,
      "outputs": []
    },
    {
      "cell_type": "code",
      "source": [
        "# look at observation with specific amenity\n",
        "listings[\"amenities\"].loc[contains_list([\"\\\"sauna\"], listings[\"amenities\"]).astype(bool)].iloc[0]"
      ],
      "metadata": {
        "id": "v8E8vI7USFaG",
        "outputId": "736af6e5-f006-4390-e1dc-8c0446e61a0c",
        "colab": {
          "base_uri": "https://localhost:8080/",
          "height": 90
        }
      },
      "execution_count": 40,
      "outputs": [
        {
          "output_type": "execute_result",
          "data": {
            "application/vnd.google.colaboratory.intrinsic+json": {
              "type": "string"
            },
            "text/plain": [
              "'[\"Room-darkening shades\", \"Long term stays allowed\", \"Gym\", \"Hangers\", \"Air conditioning\", \"Hot water\", \"Safe\", \"Kitchen\", \"Luggage dropoff allowed\", \"Paid washer \\\\u2013 In building\", \"Paid dryer \\\\u2013 In building\", \"Host greets you\", \"55\\\\\" HDTV with standard cable\", \"Outdoor furniture\", \"Dedicated workspace: desk\", \"Iron\", \"Wifi\", \"Hair dryer\", \"Microwave\", \"Single level home\", \"Dishes and silverware\", \"Cooking basics\", \"Sauna\", \"Paid parking lot on premises\", \"Shampoo\", \"Cable TV\", \"Central heating\", \"Lock on bedroom door\", \"Free street parking\", \"Refrigerator\", \"Backyard\", \"Private entrance\", \"Stove\", \"Patio or balcony\", \"Essentials\"]'"
            ]
          },
          "metadata": {},
          "execution_count": 40
        }
      ]
    },
    {
      "cell_type": "code",
      "source": [
        "# print number of observations with specific amenity\n",
        "np.sum(contains_list([\"bathtub\"], listings[\"amenities\"]))"
      ],
      "metadata": {
        "id": "vmuiAO6ZUxXO",
        "outputId": "21836a5a-12f2-4ed3-bc7d-426fb65ed648",
        "colab": {
          "base_uri": "https://localhost:8080/"
        }
      },
      "execution_count": 41,
      "outputs": [
        {
          "output_type": "execute_result",
          "data": {
            "text/plain": [
              "165"
            ]
          },
          "metadata": {},
          "execution_count": 41
        }
      ]
    },
    {
      "cell_type": "code",
      "source": [
        "#@title recode amenities\n",
        "\n",
        "# binaries1\n",
        "tmp_amenities = [\"Table corner guards\"]\n",
        "amenities_tablecornerguards = contains_list(tmp_amenities, listings[\"amenities\"])\n",
        "amenities_tablecornerguards.name = \"amenities_\" + \"tablecornerguards\"\n",
        "amenities_tablecornerguards = to_binary(amenities_tablecornerguards)\n",
        "\n",
        "tmp_amenities = [\"Cleaning before checkout\"]\n",
        "amenities_cleanbeforecheckout = contains_list(tmp_amenities, listings[\"amenities\"])\n",
        "amenities_cleanbeforecheckout.name = \"amenities_\" + \"cleanbeforecheckout\"\n",
        "amenities_cleanbeforecheckout = to_binary(amenities_cleanbeforecheckout)\n",
        "\n",
        "tmp_amenities = [\"Cleaning products\"]\n",
        "amenities_cleaningproducts = contains_list(tmp_amenities, listings[\"amenities\"])\n",
        "amenities_cleaningproducts.name = \"amenities_\" + \"cleaningproducts\"\n",
        "amenities_cleaningproducts = to_binary(amenities_cleaningproducts)\n",
        "\n",
        "tmp_amenities = [\"host greets you\"]\n",
        "amenities_greetings = contains_list(tmp_amenities, listings[\"amenities\"])\n",
        "amenities_greetings.name = \"amenities_\" + \"greetings\"\n",
        "amenities_greetings = to_binary(amenities_greetings)\n",
        "\n",
        "tmp_amenities = [\"building staff\"]\n",
        "amenities_staff = contains_list(tmp_amenities, listings[\"amenities\"])\n",
        "amenities_staff.name = \"amenities_\" + \"staff\"\n",
        "amenities_staff = to_binary(amenities_staff)\n",
        "\n",
        "tmp_amenities = [\"elevator\"]\n",
        "amenities_elevator = contains_list(tmp_amenities, listings[\"amenities\"])\n",
        "amenities_elevator.name = \"amenities_\" + \"elevator\"\n",
        "amenities_elevator = to_binary(amenities_elevator)\n",
        "\n",
        "tmp_amenities = [\"Single level home\"]\n",
        "amenities_singlelevel = contains_list(tmp_amenities, listings[\"amenities\"])\n",
        "amenities_singlelevel.name = \"amenities_\" + \"singlelevel\"\n",
        "amenities_singlelevel = to_binary(amenities_singlelevel)\n",
        "\n",
        "tmp_amenities = [\"keypad\"]\n",
        "amenities_keypad = contains_list(tmp_amenities, listings[\"amenities\"])\n",
        "amenities_keypad.name = \"amenities_\" + \"keypad\"\n",
        "amenities_keypad = to_binary(amenities_keypad)\n",
        "\n",
        "tmp_amenities = [\"private entrance\"]\n",
        "amenities_privateentrance = contains_list(tmp_amenities, listings[\"amenities\"])\n",
        "amenities_privateentrance.name = \"amenities_\" + \"privateentrance\"\n",
        "amenities_privateentrance = to_binary(amenities_privateentrance)\n",
        "\n",
        "tmp_amenities = [\"bidet\"]\n",
        "amenities_bidet = contains_list(tmp_amenities, listings[\"amenities\"])\n",
        "amenities_bidet.name = \"amenities_\" + \"bidet\"\n",
        "amenities_bidet = to_binary(amenities_bidet)\n",
        "\n",
        "tmp_amenities = [\"bathtub\"]\n",
        "amenities_bathtub = contains_list(tmp_amenities, listings[\"amenities\"])\n",
        "amenities_bathtub.name = \"amenities_\" + \"bathtub\"\n",
        "amenities_bathtub = to_binary(amenities_bathtub)\n",
        "\n",
        "tmp_amenities = [\"fire extinguisher\"]\n",
        "amenities_extinguisher = contains_list(tmp_amenities, listings[\"amenities\"])\n",
        "amenities_extinguisher.name = \"amenities_\" + \"extinguisher\"\n",
        "amenities_extinguisher = to_binary(amenities_extinguisher)\n",
        "\n",
        "tmp_amenities = [\"dining table\"]\n",
        "amenities_diningtable = contains_list(tmp_amenities, listings[\"amenities\"])\n",
        "amenities_diningtable.name = \"amenities_\" + \"diningtable\"\n",
        "amenities_diningtable = to_binary(amenities_diningtable)\n",
        "\n",
        "tmp_amenities = [\"smart lock\"]\n",
        "amenities_smartlock = contains_list(tmp_amenities, listings[\"amenities\"])\n",
        "amenities_smartlock.name = \"amenities_\" + \"smartlock\"\n",
        "amenities_smartlock = to_binary(amenities_smartlock)\n",
        "\n",
        "tmp_amenities = [\"Security cameras on property\"]\n",
        "amenities_cameras = contains_list(tmp_amenities, listings[\"amenities\"])\n",
        "amenities_cameras.name = \"amenities_\" + \"cameras\"\n",
        "amenities_cameras = to_binary(amenities_cameras)\n",
        "\n",
        "tmp_amenities = [\"tv\"]\n",
        "amenities_tv = contains_list(tmp_amenities, listings[\"amenities\"])\n",
        "amenities_tv.name = \"amenities_\" + \"tv\"\n",
        "amenities_tv = to_binary(amenities_tv)\n",
        "\n",
        "tmp_amenities = [\"sound system\", \"record player\"]\n",
        "amenities_sound_system = contains_list(tmp_amenities, listings[\"amenities\"])\n",
        "amenities_sound_system.name = \"amenities_\" + \"soundsystem\"\n",
        "amenities_sound_system = to_binary(amenities_sound_system)\n",
        "\n",
        "tmp_amenities = [\"AC\", \"air conditioning\"]\n",
        "amenities_aircon = contains_list(tmp_amenities, listings[\"amenities\"])\n",
        "amenities_aircon.name = \"amenities_\" + \"aircon\"\n",
        "amenities_aircon = to_binary(amenities_aircon)\n",
        "\n",
        "tmp_amenities = [\"lake\", \"Waterfront\", \"Boat slip\", \"beachfront\"]\n",
        "amenities_water_access = contains_list(tmp_amenities, listings[\"amenities\"])\n",
        "amenities_water_access.name = \"amenities_\" + \"wateraccess\"\n",
        "amenities_water_access = to_binary(amenities_water_access)\n",
        "\n",
        "tmp_amenities = [\"safe\", \"lockbox\"]\n",
        "amenities_safe = contains_list(tmp_amenities, listings[\"amenities\"])\n",
        "amenities_safe.name = \"amenities_\" + \"safe\"\n",
        "amenities_safe = to_binary(amenities_safe)\n",
        "\n",
        "tmp_amenities = [\"piano\"]\n",
        "amenities_piano = contains_list(tmp_amenities, listings[\"amenities\"])\n",
        "amenities_piano.name = \"amenities_\" + \"piano\"\n",
        "amenities_piano = to_binary(amenities_piano)\n",
        "\n",
        "tmp_amenities = [\"fireplace\", \"fire pit\"]\n",
        "amenities_fireplace = contains_list(tmp_amenities, listings[\"amenities\"])\n",
        "amenities_fireplace.name = \"amenities_\" + \"fireplace\"\n",
        "amenities_fireplace = to_binary(amenities_fireplace)\n",
        "\n",
        "tmp_amenities = [\"bio\", \"ecological\", \"natur\", \"fairtrade\", \"organic\"]\n",
        "amenities_bio = contains_list(tmp_amenities, listings[\"amenities\"])\n",
        "amenities_bio.name = \"amenities_\" + \"bio\"\n",
        "amenities_bio = to_binary(amenities_bio)\n",
        "\n",
        "tmp_amenities = [\"wifi\", \"Ethernet connection\"]\n",
        "amenities_wifi = contains_list(tmp_amenities, listings[\"amenities\"])\n",
        "amenities_wifi.name = \"amenities_\" + \"wifi\"\n",
        "amenities_wifi = to_binary(amenities_wifi)\n",
        "\n",
        "tmp_amenities = [\"balcony\"]\n",
        "amenities_balcony = contains_list(tmp_amenities, listings[\"amenities\"])\n",
        "amenities_balcony.name = \"amenities_\" + \"balcony\"\n",
        "amenities_balcony = to_binary(amenities_balcony)\n",
        "\n",
        "tmp_amenities = [\"\\\"Outdoor\"]\n",
        "amenities_outdoor = contains_list(tmp_amenities, listings[\"amenities\"])\n",
        "amenities_outdoor.name = \"amenities_\" + \"outdoor\"\n",
        "amenities_outdoor = to_binary(amenities_outdoor)\n",
        "\n",
        "# not sure if this is smart\n",
        "tmp_amenities = [\"smoke_alarm\", \"monoxide alarm\"]\n",
        "amenities_smoke_alarm = contains_list(tmp_amenities, listings[\"amenities\"])\n",
        "amenities_smoke_alarm.name = \"amenities_\" + \"smokealarm\"\n",
        "amenities_smoke_alarm = to_binary(amenities_smoke_alarm)\n",
        "\n",
        "tmp_amenities = [\"pets\"]\n",
        "amenities_pets = contains_list(tmp_amenities, listings[\"amenities\"])\n",
        "amenities_pets.name = \"amenities_\" + \"pets\"\n",
        "amenities_pets = to_binary(amenities_pets)\n",
        "\n",
        "tmp_amenities = [\"iron\"]\n",
        "amenities_iron = contains_list(tmp_amenities, listings[\"amenities\"])\n",
        "amenities_iron.name = \"amenities_\" + \"iron\"\n",
        "amenities_iron = to_binary(amenities_iron)\n",
        "\n",
        "tmp_amenities = [\"heating\"]\n",
        "amenities_heating = contains_list(tmp_amenities, listings[\"amenities\"])\n",
        "amenities_heating.name = \"amenities_\" + \"heating\"\n",
        "amenities_heating = to_binary(amenities_heating)\n",
        "\n",
        "tmp_amenities = [\"ev charger\"]\n",
        "amenities_ev_charger = contains_list(tmp_amenities, listings[\"amenities\"])\n",
        "amenities_ev_charger.name = \"amenities_\" + \"evcharger\"\n",
        "amenities_ev_charger = to_binary(amenities_ev_charger)\n",
        "\n",
        "tmp_amenities = [\"\\\"gym\\\"\", \"Gym in building\", \"Shared gym\"]\n",
        "amenities_gym = contains_list(tmp_amenities, listings[\"amenities\"])\n",
        "amenities_gym.name = \"amenities_\" + \"gym\"\n",
        "amenities_gym = to_binary(amenities_gym)\n",
        "\n",
        "tmp_amenities = [\"Baby monitor\", \"baby safety gates\", \"baby bath\", \n",
        "                 \"Babysitter recommendations\", \"Changing table\", \n",
        "                 \"crib\", \"high chair\", \"Outlet covers\"]\n",
        "amenities_baby = contains_list(tmp_amenities, listings[\"amenities\"])\n",
        "amenities_baby.name = \"amenities_\" + \"baby\"\n",
        "amenities_baby = to_binary(amenities_baby)\n",
        "\n",
        "tmp_amenities = [\"Beach essentials\", \"Barbecue utensils\", \"Bikes\", \"Board games\", \"toys\", \"game console\",\n",
        "                 \"ping pong\", \"Pool table\", \"bbq grill\"]\n",
        "amenities_games = contains_list(tmp_amenities, listings[\"amenities\"])\n",
        "amenities_games.name = \"amenities_\" + \"games\"\n",
        "amenities_games = to_binary(amenities_games)\n",
        "\n",
        "# binaries2\n",
        "tmp_amenities = [\"\\\"washer\"]\n",
        "amenities_washer = contains_list(tmp_amenities, listings[\"amenities\"])\n",
        "amenities_washer.name = \"amenities_\" + \"washer\"\n",
        "amenities_washer = to_binary(amenities_washer)\n",
        "\n",
        "tmp_amenities = [\"Free washer\"]\n",
        "amenities_freewasher = contains_list(tmp_amenities, listings[\"amenities\"])\n",
        "amenities_freewasher.name = \"amenities_\" + \"freewasher\"\n",
        "amenities_freewasher = to_binary(amenities_freewasher)\n",
        "\n",
        "tmp_amenities = [\"Paid washer\"]\n",
        "amenities_paidwasher = contains_list(tmp_amenities, listings[\"amenities\"])\n",
        "amenities_paidwasher.name = \"amenities_\" + \"paidwasher\"\n",
        "amenities_paidwasher = to_binary(amenities_paidwasher)\n",
        "\n",
        "tmp_amenities = [\"\\\"dryer\"]\n",
        "amenities_dryer = contains_list(tmp_amenities, listings[\"amenities\"])\n",
        "amenities_dryer.name = \"amenities_\" + \"dryer\"\n",
        "amenities_dryer = to_binary(amenities_dryer)\n",
        "\n",
        "tmp_amenities = [\"Free dryer\"]\n",
        "amenities_freedryer = contains_list(tmp_amenities, listings[\"amenities\"])\n",
        "amenities_freedryer.name = \"amenities_\" + \"freedryer\"\n",
        "amenities_freedryer = to_binary(amenities_freedryer)\n",
        "\n",
        "tmp_amenities = [\"Paid dryer\"]\n",
        "amenities_paiddryer = contains_list(tmp_amenities, listings[\"amenities\"])\n",
        "amenities_paiddryer.name = \"amenities_\" + \"paiddryer\"\n",
        "amenities_paiddryer = to_binary(amenities_paiddryer)\n",
        "\n",
        "tmp_amenities = [\"Private fenced garden or backyard\", \"Private garden or backyard\"]\n",
        "amenities_privategarden = contains_list(tmp_amenities, listings[\"amenities\"])\n",
        "amenities_privategarden.name = \"amenities_\" + \"privategarden\"\n",
        "amenities_privategarden = to_binary(amenities_privategarden)\n",
        "\n",
        "tmp_amenities = [\"Shared fenced garden or backyard\", \"Shared garden or backyard\"]\n",
        "amenities_sharedgarden = contains_list(tmp_amenities, listings[\"amenities\"])\n",
        "amenities_sharedgarden.name = \"amenities_\" + \"sharedgarden\"\n",
        "amenities_sharedgarden = to_binary(amenities_sharedgarden)\n",
        "\n",
        "tmp_amenities = [\"free carport, free driveway, free parking, free residential\"]\n",
        "amenities_free_parking = contains_list(tmp_amenities, listings[\"amenities\"])\n",
        "amenities_free_parking.name = \"amenities_\" + \"freeparking\"\n",
        "amenities_free_parking = to_binary(amenities_free_parking)\n",
        "\n",
        "tmp_amenities = [\"paid parking, paid street\"]\n",
        "amenities_paid_parking = contains_list(tmp_amenities, listings[\"amenities\"])\n",
        "amenities_paid_parking.name = \"amenities_\" + \"paidparking\"\n",
        "amenities_paid_parking = to_binary(amenities_paid_parking)\n",
        "\n",
        "tmp_amenities = [\"\\\"hot tub\", \"\\\"sauna\"]\n",
        "amenities_spa = contains_list(tmp_amenities, listings[\"amenities\"])\n",
        "amenities_spa.name = \"amenities_\" + \"spa\"\n",
        "amenities_spa = to_binary(amenities_spa)\n",
        "\n",
        "tmp_amenities = [\"shared hot tub\", \"shared sauna\"]\n",
        "amenities_sharedspa = contains_list(tmp_amenities, listings[\"amenities\"])\n",
        "amenities_sharedspa.name = \"amenities_\" + \"sharedspa\"\n",
        "amenities_sharedspa = to_binary(amenities_sharedspa)\n",
        "\n",
        "tmp_amenities = [\"private hot tub\", \"private sauna\"]\n",
        "amenities_privatespa = contains_list(tmp_amenities, listings[\"amenities\"])\n",
        "amenities_privatespa.name = \"amenities_\" + \"privatespa\"\n",
        "amenities_privatespa = to_binary(amenities_privatespa)\n",
        "\n",
        "tmp_amenities = [\"\\\"pool\\\"\", \"indoor heated pool\"]\n",
        "amenities_pool = contains_list(tmp_amenities, listings[\"amenities\"])\n",
        "amenities_pool.name = \"amenities_\" + \"pool\"\n",
        "amenities_pool = to_binary(amenities_pool)\n",
        "\n",
        "tmp_amenities = [\"Shared outdoor infinity rooftop pool\", \"Shared outdoor pool\",\n",
        "                 \"Shared outdoor rooftop pool\", \"Shared pool\"]\n",
        "amenities_sharedpool = contains_list(tmp_amenities, listings[\"amenities\"])\n",
        "amenities_sharedpool.name = \"amenities_\" + \"sharedpool\"\n",
        "amenities_sharedpool = to_binary(amenities_sharedpool)\n",
        "\n",
        "tmp_amenities = [\"private pool\"]\n",
        "amenities_privatepool = contains_list(tmp_amenities, listings[\"amenities\"])\n",
        "amenities_privatepool.name = \"amenities_\" + \"privatepool\"\n",
        "amenities_privatepool = to_binary(amenities_privatepool)\n",
        "\n",
        "# non-binaries\n",
        "bath_amenities = [\"soap\", \"conditioner\", \"shampoo\", \"shower gel\", \"bathroom essentials\"]\n",
        "amenities_nbath = contains_list(bath_amenities, listings[\"amenities\"])\n",
        "amenities_nbath.name = \"amenities_\" + \"nbath\"\n",
        "\n",
        "tv_extras_amenities = [\"premium\", \"amazon\", \"apple tv\", \"netflix\", \"HBO\"]\n",
        "amenities_tv_extras = contains_list(tv_extras_amenities, listings[\"amenities\"])\n",
        "amenities_tv_extras.name = \"amenities_\" + \"tv_extras\"\n",
        "\n",
        "tmp_amenities = [\"workspace\", \"office chair\", \"monitor\"]\n",
        "amenities_workspace = contains_list(tmp_amenities, listings[\"amenities\"])\n",
        "amenities_workspace.name = \"amenities_\" + \"workspace\"\n",
        "\n",
        "tmp_amenities = [\"clothing storage\", \"walk-in closet\", \"dresser\", \"wardrobe\", \"closet\"]\n",
        "amenities_clothingstrg = contains_list(tmp_amenities, listings[\"amenities\"])\n",
        "amenities_clothingstrg.name = \"amenities_\" + \"clothingstrg\"\n",
        "\n",
        "amenities_wifi_speed = listings[\"amenities\"].str.extract(\"(\\d+)[^\\d]+Mbps\")[0].fillna(16).astype(int)\n",
        "amenities_wifi_speed.name = \"amenities_wifi_speed\"\n",
        "\n",
        "# not so sure if this is so smart maybe big guys like fridge as binary dunno\n",
        "kitchen_amenities = [\"stove\", \"oven\", \"refrigerator|fridge\", \"toaster\", \"rice maker\", \"kitchen\",\n",
        "                     \"Coffee maker|coffee machine|nespresso machine\", \"Bread maker\", \"baking sheet\", \n",
        "                     \"dishwasher\", \"freezer\", \"kettle\", \"cooking basics\", \"dinnerware\", \"Dishes and silverware\", \n",
        "                     \"trash compactor\", \"microwave\"]\n",
        "amenities_nkitchen = contains_list(kitchen_amenities, listings[\"amenities\"])\n",
        "amenities_nkitchen.name = \"amenities_\" + \"nkitchen\"\n",
        "\n",
        "# add amenities to listings\n",
        "amenity_categories = [amenities_tablecornerguards, amenities_cleanbeforecheckout, amenities_cleaningproducts, amenities_greetings, amenities_staff, amenities_elevator, amenities_singlelevel, amenities_keypad, amenities_privateentrance, amenities_bidet,\n",
        "                      amenities_bathtub, amenities_extinguisher, amenities_diningtable, amenities_smartlock, amenities_cameras, amenities_tv, amenities_sound_system,\n",
        "                      amenities_aircon, amenities_water_access, amenities_safe, amenities_piano, amenities_fireplace, amenities_bio, amenities_wifi, amenities_balcony,\n",
        "                      amenities_outdoor, amenities_smoke_alarm, amenities_pets, amenities_iron, amenities_heating, amenities_ev_charger, amenities_gym, amenities_baby,\n",
        "                      amenities_games, amenities_washer, amenities_freewasher, amenities_paidwasher, amenities_dryer, amenities_freedryer, amenities_paiddryer,\n",
        "                      amenities_privategarden, amenities_sharedgarden, amenities_free_parking, amenities_paid_parking, amenities_spa, amenities_sharedspa, amenities_privatespa,\n",
        "                      amenities_pool, amenities_sharedpool, amenities_privatepool, amenities_nbath, amenities_tv_extras, amenities_workspace, amenities_clothingstrg,\n",
        "                      amenities_nkitchen, amenities_wifi_speed]\n",
        "\n",
        "listings = pd.concat([listings, *amenity_categories], axis=1)\n",
        "listings = listings.drop(\"amenities\", axis=1)"
      ],
      "metadata": {
        "id": "7Ztfp01I8trt",
        "cellView": "form"
      },
      "execution_count": 42,
      "outputs": []
    },
    {
      "cell_type": "code",
      "source": [
        "# remove text garbage\t\n",
        "listings[\"description_en\"] = listings[\"description_en\"].str.replace(\"<.*?>\", \"\")"
      ],
      "metadata": {
        "id": "VhTrg8vRg5i3",
        "outputId": "935bd43b-13f4-4c09-bda2-c45033f017cd",
        "colab": {
          "base_uri": "https://localhost:8080/"
        }
      },
      "execution_count": 43,
      "outputs": [
        {
          "output_type": "stream",
          "name": "stderr",
          "text": [
            "/usr/local/lib/python3.7/dist-packages/ipykernel_launcher.py:2: FutureWarning: The default value of regex will change from True to False in a future version.\n",
            "  \n"
          ]
        }
      ]
    },
    {
      "cell_type": "code",
      "source": [
        "# append reviews to listings and remove zero price observations\n",
        "reviews = pd.read_pickle(\"/content/drive/MyDrive/Colab/airbnb/data/data1/reviews_workfile.pickle\")\n",
        "listings = pd.concat([listings, reviews.rename(\"reviews_en\")], axis=1)\n",
        "listings = listings.loc[listings.index.difference(price_zero)]"
      ],
      "metadata": {
        "id": "pRkf3MAvkbaZ"
      },
      "execution_count": 65,
      "outputs": []
    },
    {
      "cell_type": "code",
      "source": [
        "# missing observations\n",
        "for j, i in enumerate(np.sum(listings.isna())):\n",
        "    if not i == 0:\n",
        "        print(np.sum(listings.isna()).index[j], i)"
      ],
      "metadata": {
        "colab": {
          "base_uri": "https://localhost:8080/"
        },
        "id": "sm7VTI5e0JS4",
        "outputId": "56ff408f-a859-43ec-ddd1-9b042b814be7"
      },
      "execution_count": 44,
      "outputs": [
        {
          "output_type": "stream",
          "name": "stdout",
          "text": [
            "bedrooms 102\n",
            "beds 27\n",
            "review_scores_rating 256\n",
            "review_scores_accuracy 274\n",
            "review_scores_cleanliness 273\n",
            "review_scores_checkin 274\n",
            "review_scores_communication 274\n",
            "review_scores_location 274\n",
            "review_scores_value 274\n",
            "reviews_per_month 256\n",
            "host_about_en 998\n",
            "name_en 998\n",
            "bath_number 3\n"
          ]
        }
      ]
    },
    {
      "cell_type": "code",
      "source": [
        "# remove host_about_en and name_en\n",
        "listings = listings.drop([\"host_about_en\", \"name_en\"], axis=1)"
      ],
      "metadata": {
        "id": "0AdCycKQxpaB"
      },
      "execution_count": 45,
      "outputs": []
    },
    {
      "cell_type": "code",
      "source": [
        "# replace nan in review with [\"no review\"]\n",
        "listings[\"reviews_en\"] = listings[\"reviews_en\"].apply(lambda x: x if isinstance(x, list) else [\"no review\"])"
      ],
      "metadata": {
        "id": "2MrkUZwCXgGS"
      },
      "execution_count": null,
      "outputs": []
    },
    {
      "cell_type": "code",
      "source": [
        "# recode nas in all review_scores aggregates to mean values\n",
        "listings.loc[:, \"review_scores_rating\"] = listings.loc[:, \"review_scores_rating\"].fillna(listings[\"review_scores_rating\"].mean())\n",
        "listings.loc[:, \"review_scores_accuracy\"] = listings.loc[:, \"review_scores_accuracy\"].fillna(listings[\"review_scores_accuracy\"].mean())\n",
        "listings.loc[:, \"review_scores_cleanliness\"] = listings.loc[:, \"review_scores_cleanliness\"].fillna(listings[\"review_scores_cleanliness\"].mean())\n",
        "listings.loc[:, \"review_scores_communication\"] = listings.loc[:, \"review_scores_communication\"].fillna(listings[\"review_scores_communication\"].mean())\n",
        "listings.loc[:, \"review_scores_checkin\"] = listings.loc[:, \"review_scores_checkin\"].fillna(listings[\"review_scores_checkin\"].mean())\n",
        "listings.loc[:, \"review_scores_location\"] = listings.loc[:, \"review_scores_location\"].fillna(listings[\"review_scores_location\"].mean())\n",
        "listings.loc[:, \"review_scores_value\"] = listings.loc[:, \"review_scores_value\"].fillna(listings[\"review_scores_value\"].mean())"
      ],
      "metadata": {
        "id": "LLmRWkog9iN4"
      },
      "execution_count": 47,
      "outputs": []
    },
    {
      "cell_type": "code",
      "source": [
        "# recode reviews_per_month nas to 0\n",
        "listings.loc[:, \"reviews_per_month\"] = listings.loc[:, \"reviews_per_month\"].fillna(0)"
      ],
      "metadata": {
        "id": "vxLwHs2y_UXI"
      },
      "execution_count": 48,
      "outputs": []
    },
    {
      "cell_type": "code",
      "source": [
        "# replace bath_number nas to 0\n",
        "listings.loc[:, \"bath_number\"] = listings.loc[:, \"bath_number\"].fillna(0)"
      ],
      "metadata": {
        "id": "ISlRfxDpHG7k"
      },
      "execution_count": 49,
      "outputs": []
    },
    {
      "cell_type": "code",
      "source": [
        "# recode bedrooms nas to 1\n",
        "listings.loc[:, \"bedrooms\"] = listings.loc[:, \"bedrooms\"].fillna(1)"
      ],
      "metadata": {
        "id": "sOSQTIxRL-TC"
      },
      "execution_count": 50,
      "outputs": []
    },
    {
      "cell_type": "code",
      "source": [
        "# recodes beds nas to 1\n",
        "listings.loc[:, \"beds\"] = listings.loc[:, \"beds\"].fillna(1)"
      ],
      "metadata": {
        "id": "8s-kg026MF2T"
      },
      "execution_count": 51,
      "outputs": []
    },
    {
      "cell_type": "markdown",
      "source": [
        "# necessary modifications to use model trained on vienna dataset"
      ],
      "metadata": {
        "id": "_hhgxYnrzFSy"
      }
    },
    {
      "cell_type": "code",
      "source": [
        "# set neighbourhood_cleansed to single value\n",
        "listings.loc[:, \"neighbourhood_cleansed\"] = 1\n",
        "\n",
        "# replace longitude and latitude by respective means from vienna dataset\n",
        "listings_vienna = pd.read_pickle(\"/content/drive/MyDrive/Colab/airbnb/data/translations/translated_listings.pickle\")\n",
        "\n",
        "mean_longitude = np.mean(listings_vienna.loc[:, \"longitude\"])\n",
        "mean_latitude = np.mean(listings_vienna.loc[:, \"latitude\"])\n",
        "\n",
        "listings.loc[:, \"longitude\"] = mean_longitude\n",
        "listings.loc[:, \"latitude\"] = mean_latitude"
      ],
      "metadata": {
        "id": "KGI7s2w7zIm7"
      },
      "execution_count": 52,
      "outputs": []
    },
    {
      "cell_type": "markdown",
      "source": [
        "# categorical recoding"
      ],
      "metadata": {
        "id": "WlVa8MMlzJdd"
      }
    },
    {
      "cell_type": "code",
      "source": [
        "# accomodates and beds > 9 to 9\n",
        "\n",
        "listings.loc[listings[\"accommodates\"] >= 9, \"accommodates\"] = 9\n",
        "listings.loc[listings[\"bedrooms\"] >= 5, \"bedrooms\"] = 5"
      ],
      "metadata": {
        "id": "lsRqdMBpVkRZ"
      },
      "execution_count": 55,
      "outputs": []
    },
    {
      "cell_type": "code",
      "source": [
        "# recode categorical vars into numerical representation\n",
        "\n",
        "recodecols = listings.select_dtypes(include=['object']).columns\n",
        "to_recode = ['neighbourhood_cleansed', 'property_type', 'room_type', 'lang', \"availability_30\",\n",
        "             \"accommodates\", \"bedrooms\"]\n",
        "\n",
        "\n",
        "def recode_cats(df, column):\n",
        "    vals = df[column].unique()\n",
        "    vals = np.hstack((vals[:, np.newaxis], np.arange(0, len(vals))[:, np.newaxis]))\n",
        "    df[column] = df[column].map(dict(vals))\n",
        "\n",
        "    return df, vals\n",
        "\n",
        "dictlist = []\n",
        "for cat in to_recode:\n",
        "    listings, tmp = recode_cats(listings, cat)\n",
        "    dictlist.append(tmp.tolist()) \n",
        "\n",
        "    \n",
        "with open(\"/content/drive/MyDrive/Colab/airbnb/munich/catdict.json\", \"w\") as f:\n",
        "    json.dump(dictlist, f, indent=6)\n",
        "\n",
        "with open(\"/content/drive/MyDrive/Colab/airbnb/munich/catdict.json\", \"r\") as f:\n",
        "    print(json.load(f))"
      ],
      "metadata": {
        "colab": {
          "base_uri": "https://localhost:8080/"
        },
        "id": "odNi-VbkijdU",
        "outputId": "673cbfd4-55fc-48c1-a24f-07426f1ad6e0"
      },
      "execution_count": 56,
      "outputs": [
        {
          "output_type": "stream",
          "name": "stdout",
          "text": [
            "[[[1, 0]], [['property_type_entire_unit', 0], ['property_type_private_room', 1], ['property_type_shared_room', 2]], [['Entire home/apt', 0], ['Private room', 1], ['Shared room', 2], ['Hotel room', 3]], [['german', 0], ['english', 1], ['other', 2]], [[30, 0], [22, 1], [0, 2], [17, 3], [13, 4], [28, 5], [5, 6], [21, 7], [15, 8], [1, 9], [23, 10], [29, 11], [27, 12], [3, 13], [18, 14], [20, 15], [8, 16], [19, 17], [2, 18], [7, 19], [4, 20], [25, 21], [26, 22], [12, 23], [14, 24], [16, 25], [24, 26], [11, 27], [6, 28], [10, 29], [9, 30]], [[7, 0], [2, 1], [4, 2], [3, 3], [5, 4], [1, 5], [6, 6], [9, 7], [8, 8]], [[3.0, 0.0], [1.0, 1.0], [2.0, 2.0], [4.0, 3.0], [5.0, 4.0]]]\n"
          ]
        }
      ]
    },
    {
      "cell_type": "markdown",
      "source": [
        "# add host_picture_binary to listings"
      ],
      "metadata": {
        "id": "lN7MCW5cjmeJ"
      }
    },
    {
      "cell_type": "code",
      "source": [
        "with open(\"/content/drive/MyDrive/Colab/airbnb/data/data1/missing_data.json\", \"r\") as f:\n",
        "    missing_data = json.load(f)\n",
        "\n",
        "missing_price_index = (missing_data[\"price\"])\n",
        "\n",
        "hostpics_binary = pd.read_pickle(\"/content/drive/MyDrive/Colab/airbnb/data/hostpics/hostpics_binary.pickle\")\n",
        "hostpics_binary.index = hostpics_binary.index.astype(\"int\")\n",
        "hostpics_binary = hostpics_binary.drop(pd.Index(missing_price_index))\n",
        "hostpics_binary = hostpics_binary.drop(\"host_picture\", axis=1)\n",
        "hostpics_binary"
      ],
      "metadata": {
        "id": "VmPJKSeelPeC",
        "outputId": "232787e8-1a02-4f40-9987-fb69282639da",
        "colab": {
          "base_uri": "https://localhost:8080/",
          "height": 455
        }
      },
      "execution_count": null,
      "outputs": [
        {
          "output_type": "execute_result",
          "data": {
            "text/html": [
              "\n",
              "  <div id=\"df-82851a59-7472-43d3-a686-6fce3e394c0e\">\n",
              "    <div class=\"colab-df-container\">\n",
              "      <div>\n",
              "<style scoped>\n",
              "    .dataframe tbody tr th:only-of-type {\n",
              "        vertical-align: middle;\n",
              "    }\n",
              "\n",
              "    .dataframe tbody tr th {\n",
              "        vertical-align: top;\n",
              "    }\n",
              "\n",
              "    .dataframe thead th {\n",
              "        text-align: right;\n",
              "    }\n",
              "</style>\n",
              "<table border=\"1\" class=\"dataframe\">\n",
              "  <thead>\n",
              "    <tr style=\"text-align: right;\">\n",
              "      <th></th>\n",
              "      <th>host_picture_binary</th>\n",
              "    </tr>\n",
              "    <tr>\n",
              "      <th>id</th>\n",
              "      <th></th>\n",
              "    </tr>\n",
              "  </thead>\n",
              "  <tbody>\n",
              "    <tr>\n",
              "      <th>10009462</th>\n",
              "      <td>1</td>\n",
              "    </tr>\n",
              "    <tr>\n",
              "      <th>1001143</th>\n",
              "      <td>1</td>\n",
              "    </tr>\n",
              "    <tr>\n",
              "      <th>10017950</th>\n",
              "      <td>1</td>\n",
              "    </tr>\n",
              "    <tr>\n",
              "      <th>10039423</th>\n",
              "      <td>0</td>\n",
              "    </tr>\n",
              "    <tr>\n",
              "      <th>1004037</th>\n",
              "      <td>1</td>\n",
              "    </tr>\n",
              "    <tr>\n",
              "      <th>...</th>\n",
              "      <td>...</td>\n",
              "    </tr>\n",
              "    <tr>\n",
              "      <th>27801673</th>\n",
              "      <td>0</td>\n",
              "    </tr>\n",
              "    <tr>\n",
              "      <th>38240023</th>\n",
              "      <td>0</td>\n",
              "    </tr>\n",
              "    <tr>\n",
              "      <th>49303478</th>\n",
              "      <td>0</td>\n",
              "    </tr>\n",
              "    <tr>\n",
              "      <th>51074863</th>\n",
              "      <td>0</td>\n",
              "    </tr>\n",
              "    <tr>\n",
              "      <th>51380533</th>\n",
              "      <td>0</td>\n",
              "    </tr>\n",
              "  </tbody>\n",
              "</table>\n",
              "<p>11404 rows × 1 columns</p>\n",
              "</div>\n",
              "      <button class=\"colab-df-convert\" onclick=\"convertToInteractive('df-82851a59-7472-43d3-a686-6fce3e394c0e')\"\n",
              "              title=\"Convert this dataframe to an interactive table.\"\n",
              "              style=\"display:none;\">\n",
              "        \n",
              "  <svg xmlns=\"http://www.w3.org/2000/svg\" height=\"24px\"viewBox=\"0 0 24 24\"\n",
              "       width=\"24px\">\n",
              "    <path d=\"M0 0h24v24H0V0z\" fill=\"none\"/>\n",
              "    <path d=\"M18.56 5.44l.94 2.06.94-2.06 2.06-.94-2.06-.94-.94-2.06-.94 2.06-2.06.94zm-11 1L8.5 8.5l.94-2.06 2.06-.94-2.06-.94L8.5 2.5l-.94 2.06-2.06.94zm10 10l.94 2.06.94-2.06 2.06-.94-2.06-.94-.94-2.06-.94 2.06-2.06.94z\"/><path d=\"M17.41 7.96l-1.37-1.37c-.4-.4-.92-.59-1.43-.59-.52 0-1.04.2-1.43.59L10.3 9.45l-7.72 7.72c-.78.78-.78 2.05 0 2.83L4 21.41c.39.39.9.59 1.41.59.51 0 1.02-.2 1.41-.59l7.78-7.78 2.81-2.81c.8-.78.8-2.07 0-2.86zM5.41 20L4 18.59l7.72-7.72 1.47 1.35L5.41 20z\"/>\n",
              "  </svg>\n",
              "      </button>\n",
              "      \n",
              "  <style>\n",
              "    .colab-df-container {\n",
              "      display:flex;\n",
              "      flex-wrap:wrap;\n",
              "      gap: 12px;\n",
              "    }\n",
              "\n",
              "    .colab-df-convert {\n",
              "      background-color: #E8F0FE;\n",
              "      border: none;\n",
              "      border-radius: 50%;\n",
              "      cursor: pointer;\n",
              "      display: none;\n",
              "      fill: #1967D2;\n",
              "      height: 32px;\n",
              "      padding: 0 0 0 0;\n",
              "      width: 32px;\n",
              "    }\n",
              "\n",
              "    .colab-df-convert:hover {\n",
              "      background-color: #E2EBFA;\n",
              "      box-shadow: 0px 1px 2px rgba(60, 64, 67, 0.3), 0px 1px 3px 1px rgba(60, 64, 67, 0.15);\n",
              "      fill: #174EA6;\n",
              "    }\n",
              "\n",
              "    [theme=dark] .colab-df-convert {\n",
              "      background-color: #3B4455;\n",
              "      fill: #D2E3FC;\n",
              "    }\n",
              "\n",
              "    [theme=dark] .colab-df-convert:hover {\n",
              "      background-color: #434B5C;\n",
              "      box-shadow: 0px 1px 3px 1px rgba(0, 0, 0, 0.15);\n",
              "      filter: drop-shadow(0px 1px 2px rgba(0, 0, 0, 0.3));\n",
              "      fill: #FFFFFF;\n",
              "    }\n",
              "  </style>\n",
              "\n",
              "      <script>\n",
              "        const buttonEl =\n",
              "          document.querySelector('#df-82851a59-7472-43d3-a686-6fce3e394c0e button.colab-df-convert');\n",
              "        buttonEl.style.display =\n",
              "          google.colab.kernel.accessAllowed ? 'block' : 'none';\n",
              "\n",
              "        async function convertToInteractive(key) {\n",
              "          const element = document.querySelector('#df-82851a59-7472-43d3-a686-6fce3e394c0e');\n",
              "          const dataTable =\n",
              "            await google.colab.kernel.invokeFunction('convertToInteractive',\n",
              "                                                     [key], {});\n",
              "          if (!dataTable) return;\n",
              "\n",
              "          const docLinkHtml = 'Like what you see? Visit the ' +\n",
              "            '<a target=\"_blank\" href=https://colab.research.google.com/notebooks/data_table.ipynb>data table notebook</a>'\n",
              "            + ' to learn more about interactive tables.';\n",
              "          element.innerHTML = '';\n",
              "          dataTable['output_type'] = 'display_data';\n",
              "          await google.colab.output.renderOutput(dataTable, element);\n",
              "          const docLink = document.createElement('div');\n",
              "          docLink.innerHTML = docLinkHtml;\n",
              "          element.appendChild(docLink);\n",
              "        }\n",
              "      </script>\n",
              "    </div>\n",
              "  </div>\n",
              "  "
            ],
            "text/plain": [
              "          host_picture_binary\n",
              "id                           \n",
              "10009462                    1\n",
              "1001143                     1\n",
              "10017950                    1\n",
              "10039423                    0\n",
              "1004037                     1\n",
              "...                       ...\n",
              "27801673                    0\n",
              "38240023                    0\n",
              "49303478                    0\n",
              "51074863                    0\n",
              "51380533                    0\n",
              "\n",
              "[11404 rows x 1 columns]"
            ]
          },
          "metadata": {},
          "execution_count": 429
        }
      ]
    },
    {
      "cell_type": "code",
      "source": [
        "listings = pd.concat([listings, hostpics_binary], axis=1)"
      ],
      "metadata": {
        "id": "ncIYXjiDnesg"
      },
      "execution_count": null,
      "outputs": []
    },
    {
      "cell_type": "code",
      "source": [
        "pearsonr(listings[\"host_picture_binary\"], listings[\"log_price\"])"
      ],
      "metadata": {
        "id": "2JnSq9F0nsV_",
        "outputId": "42710138-4ba5-41e9-d59c-a1228137a09b",
        "colab": {
          "base_uri": "https://localhost:8080/"
        }
      },
      "execution_count": null,
      "outputs": [
        {
          "output_type": "execute_result",
          "data": {
            "text/plain": [
              "(-0.1506295145101593, 7.416315270338306e-59)"
            ]
          },
          "metadata": {},
          "execution_count": 431
        }
      ]
    },
    {
      "cell_type": "code",
      "source": [
        ""
      ],
      "metadata": {
        "id": "tKt-hs7j5bSr"
      },
      "execution_count": null,
      "outputs": []
    },
    {
      "cell_type": "markdown",
      "source": [
        "# save transformed listings"
      ],
      "metadata": {
        "id": "2ijH_-7XPph-"
      }
    },
    {
      "cell_type": "code",
      "source": [
        "path = (\"/content/drive/MyDrive/Colab/airbnb/data/data1/listings_embeddedcats.pickle\")\n",
        "listings.to_pickle(path)"
      ],
      "metadata": {
        "id": "AcOZh2jnPn2c"
      },
      "execution_count": null,
      "outputs": []
    }
  ],
  "metadata": {
    "colab": {
      "name": "scratchpad",
      "provenance": [],
      "include_colab_link": true
    },
    "kernelspec": {
      "display_name": "Python 3",
      "name": "python3"
    }
  },
  "nbformat": 4,
  "nbformat_minor": 0
}