{
  "cells": [
    {
      "cell_type": "markdown",
      "metadata": {
        "id": "view-in-github",
        "colab_type": "text"
      },
      "source": [
        "<a href=\"https://colab.research.google.com/github/dernameistegal/airbnb_price/blob/main/data_transformations/translate_listings.ipynb\" target=\"_parent\"><img src=\"https://colab.research.google.com/assets/colab-badge.svg\" alt=\"Open In Colab\"/></a>"
      ]
    },
    {
      "cell_type": "markdown",
      "source": [
        "#Translation of airbnb dataset into english"
      ],
      "metadata": {
        "id": "zebqTeL1s1Gz"
      }
    },
    {
      "cell_type": "code",
      "source": [
        "from google.colab import drive\n",
        "import pandas as pd\n",
        "drive.mount('/content/drive')"
      ],
      "metadata": {
        "id": "n14UUIPhteId",
        "outputId": "f5fc5f8f-4412-49bf-e9e7-25e55bc8fe27",
        "colab": {
          "base_uri": "https://localhost:8080/"
        }
      },
      "execution_count": 1,
      "outputs": [
        {
          "output_type": "stream",
          "name": "stdout",
          "text": [
            "Mounted at /content/drive\n"
          ]
        }
      ]
    },
    {
      "cell_type": "markdown",
      "source": [
        "## Preliminary works\n",
        "- add comments_en column with values None\n",
        "- add lang column with values None\n",
        "- replace na values in comments colum with \"no text\""
      ],
      "metadata": {
        "id": "NZZO4p038mzR"
      }
    },
    {
      "cell_type": "code",
      "source": [
        "%%capture\n",
        "!wget http://data.insideairbnb.com/austria/vienna/vienna/2021-11-07/data/listings.csv.gz"
      ],
      "metadata": {
        "id": "Xu79tCDyCOBz"
      },
      "execution_count": 8,
      "outputs": []
    },
    {
      "cell_type": "code",
      "source": [
        "listings = pd.read_csv(\"listings.csv.gz\")"
      ],
      "metadata": {
        "id": "vVBh0DhYDs6l"
      },
      "execution_count": 48,
      "outputs": []
    },
    {
      "cell_type": "code",
      "execution_count": 40,
      "metadata": {
        "id": "lIYdn1woOS1n"
      },
      "outputs": [],
      "source": [
        "%%capture\n",
        "!pip install git+https://github.com/neuml/txtai#egg=txtai[pipeline]"
      ]
    },
    {
      "cell_type": "code",
      "source": [
        "import torch\n",
        "path = \"/content/drive/MyDrive/Colab/airbnb/data/translations/listings\"\n",
        "listings = pd.read_pickle(path)"
      ],
      "metadata": {
        "id": "LloAHaMEP3sU"
      },
      "execution_count": 72,
      "outputs": []
    },
    {
      "cell_type": "code",
      "source": [
        "# todo\n",
        "listings.description\n",
        "listings.host_about\n",
        "listings.name"
      ],
      "metadata": {
        "id": "RYqkK1IKEsOj",
        "outputId": "cc366ce7-7d81-4822-dc28-9394b8ff3c16",
        "colab": {
          "base_uri": "https://localhost:8080/"
        }
      },
      "execution_count": 21,
      "outputs": [
        {
          "output_type": "execute_result",
          "data": {
            "text/plain": [
              "0                                b&b near Old Danube river\n",
              "1         central cityapartement- wifi- nice neighbourhood\n",
              "2                           Near Palace Schönbrunn, Apt. 1\n",
              "3        little studio- next to citycenter- wifi- nice ...\n",
              "4                          Flat in the Center with Terrace\n",
              "                               ...                        \n",
              "11404                                  New Apartment Top 4\n",
              "11405                                  New Apartment Top 2\n",
              "11406                                  New Apartment Top 6\n",
              "11407      Schöne Wohnung zwischen Augarten und Donaukanal\n",
              "11408    Private room in Vienna next to Westbahnhof PrG...\n",
              "Name: name, Length: 11409, dtype: object"
            ]
          },
          "metadata": {},
          "execution_count": 21
        }
      ]
    },
    {
      "cell_type": "code",
      "source": [
        "listings[[\"description_en\", \"host_about_en\", \"name_en\"]] = listings[[\"description\", \"host_about\", \"name\"]]\n",
        "listings[\"lang\"] = listings[\"description\"]\n",
        "listings[[\"description_en\", \"host_about_en\", \"name_en\", \"lang\"]] = None"
      ],
      "metadata": {
        "id": "elVP73PEF1bN"
      },
      "execution_count": 49,
      "outputs": []
    },
    {
      "cell_type": "code",
      "source": [
        "listings[[\"description\", \"host_about\", \"name\"]] = listings[[\"description\", \"host_about\", \"name\"]].fillna(\"no text\")"
      ],
      "metadata": {
        "id": "Nytmd0hHGUWa"
      },
      "execution_count": 50,
      "outputs": []
    },
    {
      "cell_type": "code",
      "source": [
        "from torch.utils.data import DataLoader, Dataset\n",
        "\n",
        "class Translatedata(Dataset):\n",
        "    def __init__(self, data, column):\n",
        "        super().__init__()\n",
        "        self.data = data\n",
        "        self.column = column\n",
        "\n",
        "    def __getitem__(self, key):\n",
        "        return self.data[self.column].iloc[key], self.data.index[key]\n",
        "\n",
        "    def __len__(self):\n",
        "        return len(self.data)"
      ],
      "metadata": {
        "id": "XXFncQ3Qu2tc"
      },
      "execution_count": 53,
      "outputs": []
    },
    {
      "cell_type": "code",
      "source": [
        "dataset = Translatedata(listings, \"description\")\n",
        "dataloader = DataLoader(dataset, batch_size=200)"
      ],
      "metadata": {
        "id": "0xgZzfItwoeN"
      },
      "execution_count": 54,
      "outputs": []
    },
    {
      "cell_type": "markdown",
      "source": [
        "# Detect language and sort by it"
      ],
      "metadata": {
        "id": "b3m2GqEk2O7S"
      }
    },
    {
      "cell_type": "code",
      "source": [
        "# detect language\n",
        "from txtai.pipeline import Translation\n",
        "translate = Translation(batch=64)\n",
        "with torch.no_grad():\n",
        "    for i, (text, id) in enumerate(dataloader):\n",
        "        text = list(text)\n",
        "        try: \n",
        "            if listings.loc[id, \"lang\"].isnull().values.any():\n",
        "                language = translate.detect(list(text))\n",
        "                listings.loc[id, \"lang\"] = language\n",
        "        except:\n",
        "            continue\n",
        "        last_id = id[-1]\n",
        "        print(i)"
      ],
      "metadata": {
        "id": "59IVmzub39T5",
        "outputId": "e81d5153-d2b8-42ba-a9fa-c51b3b3fb29f",
        "colab": {
          "base_uri": "https://localhost:8080/",
          "height": 1000,
          "referenced_widgets": [
            "592b3a0a346b45709315a1515e643aff",
            "6bd31b010ecf416a87fbbd14060f3c86",
            "c3114f3234184a67b255e907250c2123",
            "5a08815542c841ea8cd3218b73cbdb46",
            "ee6e43c2992145798b0d4007ae92cf3e",
            "edd57eb258594969a7f9440030cbf83b",
            "52e2c6294bcb4170b2af9c4c4cebc2ee",
            "1d90f145b2c146fbbc06deb19ce7f58a",
            "0b8e098459904888b41b6fe2555eb643",
            "799b862fc609430fb0ef8a750ef54b66",
            "5ad2e13e880544009f5dc5901ec57d55"
          ]
        }
      },
      "execution_count": 55,
      "outputs": [
        {
          "output_type": "display_data",
          "data": {
            "application/vnd.jupyter.widget-view+json": {
              "model_id": "592b3a0a346b45709315a1515e643aff",
              "version_minor": 0,
              "version_major": 2
            },
            "text/plain": [
              "Downloading:   0%|          | 0.00/916k [00:00<?, ?B/s]"
            ]
          },
          "metadata": {}
        },
        {
          "output_type": "stream",
          "name": "stdout",
          "text": [
            "0\n",
            "1\n",
            "2\n",
            "3\n",
            "4\n",
            "5\n",
            "6\n",
            "7\n",
            "8\n",
            "9\n",
            "10\n",
            "11\n",
            "12\n",
            "13\n",
            "14\n",
            "15\n",
            "16\n",
            "17\n",
            "18\n",
            "19\n",
            "20\n",
            "21\n",
            "22\n",
            "23\n",
            "24\n",
            "25\n",
            "26\n",
            "27\n",
            "28\n",
            "29\n",
            "30\n",
            "31\n",
            "32\n",
            "33\n",
            "34\n",
            "35\n",
            "36\n",
            "37\n",
            "38\n",
            "39\n",
            "40\n",
            "41\n",
            "42\n",
            "43\n",
            "44\n",
            "45\n",
            "46\n",
            "47\n",
            "48\n",
            "49\n",
            "50\n",
            "51\n",
            "52\n",
            "53\n",
            "54\n",
            "55\n",
            "56\n",
            "57\n"
          ]
        }
      ]
    },
    {
      "cell_type": "code",
      "source": [
        "listings = listings.sort_values(by=\"lang\")"
      ],
      "metadata": {
        "id": "7CPc007516un"
      },
      "execution_count": 56,
      "outputs": []
    },
    {
      "cell_type": "code",
      "source": [
        "path = \"/content/drive/MyDrive/Colab/airbnb/data/translations/listings\"\n",
        "listings.to_pickle(path)"
      ],
      "metadata": {
        "id": "SMKcRR7LMn4c"
      },
      "execution_count": 61,
      "outputs": []
    },
    {
      "cell_type": "code",
      "source": [
        "listings[\"lang\"].value_counts()"
      ],
      "metadata": {
        "id": "KHmeJu8mIZRY",
        "outputId": "8babb593-2a29-43ac-b297-aa1fd22365a8",
        "colab": {
          "base_uri": "https://localhost:8080/"
        }
      },
      "execution_count": 60,
      "outputs": [
        {
          "output_type": "execute_result",
          "data": {
            "text/plain": [
              "en    8126\n",
              "de    3184\n",
              "es      17\n",
              "ru      16\n",
              "fr      14\n",
              "it      13\n",
              "zh      11\n",
              "ko       7\n",
              "hu       5\n",
              "uk       4\n",
              "pl       2\n",
              "ja       2\n",
              "sv       2\n",
              "hr       1\n",
              "sh       1\n",
              "tr       1\n",
              "sl       1\n",
              "sk       1\n",
              "ro       1\n",
              "Name: lang, dtype: int64"
            ]
          },
          "metadata": {},
          "execution_count": 60
        }
      ]
    },
    {
      "cell_type": "markdown",
      "source": [
        "# Translate text"
      ],
      "metadata": {
        "id": "K8u7Df1z2Yi5"
      }
    },
    {
      "cell_type": "code",
      "source": [
        "#@title this is script.py\n",
        "from txtai.pipeline import Translation\n",
        "import torch\n",
        "from torch.utils.data import DataLoader, Dataset\n",
        "import pandas as pd\n",
        "\n",
        "# Create translation model\n",
        "translate = Translation(batch=64)\n",
        "\n",
        "path = \"/content/drive/MyDrive/Colab/airbnb/data/translations/listings\"\n",
        "listings = pd.read_pickle(path)\n",
        "\n",
        "class Translatedata(Dataset):\n",
        "    def __init__(self, data, column):\n",
        "        super().__init__()\n",
        "        self.data = data\n",
        "        self.column = column\n",
        "\n",
        "    def __getitem__(self, key):\n",
        "        return self.data[self.column].iloc[key], self.data.index[key]\n",
        "\n",
        "    def __len__(self):\n",
        "        return len(self.data)\n",
        "\n",
        "dataset = Translatedata(listings)\n",
        "dataloader = DataLoader(dataset, batch_size=64)\n",
        "\n",
        "\n",
        "with torch.no_grad():\n",
        "    for i, (text, id) in enumerate(dataloader):\n",
        "        text = list(text)\n",
        "        if listings.loc[id, Translatedata.column +\"_en\"].isnull().values.any():\n",
        "\n",
        "            sourcefinder = listings.loc[id, \"lang\"].unique()\n",
        "            if len(sourcefinder) >= 1:\n",
        "                  print(sourcefinder)\n",
        "                  sourcefinder = None\n",
        "            else:\n",
        "                print(i)\n",
        "                sourcefinder = sourcefinder[0]\n",
        "\n",
        "            translation = translate(list(text), \"en\", source = sourcefinder)\n",
        "            listings.loc[id, Translatedata.column +\"_en\"] = translation\n",
        "\n",
        "        \n",
        "        listings.to_pickle(path)"
      ],
      "metadata": {
        "cellView": "form",
        "id": "btZmIx1YxTHx"
      },
      "execution_count": null,
      "outputs": []
    },
    {
      "cell_type": "code",
      "source": [
        "# description batch size 50\n",
        "!python script.py"
      ],
      "metadata": {
        "id": "hVai1TD--VTQ",
        "outputId": "865ead22-6a38-40b6-f50e-65eca2a5c781",
        "colab": {
          "base_uri": "https://localhost:8080/"
        }
      },
      "execution_count": 81,
      "outputs": [
        {
          "output_type": "stream",
          "name": "stdout",
          "text": [
            "0\n",
            "1\n",
            "2\n",
            "3\n",
            "4\n",
            "5\n",
            "6\n",
            "7\n",
            "8\n",
            "9\n",
            "10\n",
            "Token indices sequence length is longer than the specified maximum sequence length for this model (642 > 512). Running this sequence through the model will result in indexing errors\n",
            "11\n",
            "12\n",
            "13\n",
            "14\n",
            "15\n",
            "16\n",
            "17\n",
            "18\n",
            "19\n",
            "20\n",
            "21\n",
            "22\n",
            "23\n",
            "24\n",
            "25\n",
            "26\n",
            "27\n",
            "28\n",
            "29\n",
            "30\n",
            "31\n",
            "32\n",
            "33\n",
            "34\n",
            "35\n",
            "36\n",
            "37\n",
            "38\n",
            "39\n",
            "40\n",
            "41\n",
            "42\n",
            "43\n",
            "44\n",
            "45\n",
            "46\n",
            "47\n",
            "48\n",
            "49\n",
            "50\n",
            "51\n",
            "52\n",
            "53\n",
            "54\n",
            "55\n",
            "56\n",
            "57\n",
            "58\n",
            "59\n",
            "60\n",
            "61\n",
            "62\n",
            "['de' 'en']\n",
            "64\n",
            "65\n",
            "66\n",
            "67\n",
            "68\n",
            "69\n",
            "70\n",
            "71\n",
            "72\n",
            "73\n",
            "74\n",
            "75\n",
            "76\n",
            "77\n",
            "78\n",
            "79\n",
            "80\n",
            "81\n",
            "82\n",
            "83\n",
            "84\n",
            "85\n",
            "86\n",
            "87\n",
            "88\n",
            "89\n",
            "90\n",
            "91\n",
            "92\n",
            "93\n",
            "94\n",
            "95\n",
            "96\n",
            "97\n",
            "98\n",
            "99\n",
            "100\n",
            "101\n",
            "102\n",
            "103\n",
            "104\n",
            "105\n",
            "106\n",
            "107\n",
            "108\n",
            "109\n",
            "110\n",
            "111\n",
            "112\n",
            "113\n",
            "114\n",
            "115\n",
            "116\n",
            "117\n",
            "118\n",
            "119\n",
            "120\n",
            "121\n",
            "122\n",
            "123\n",
            "124\n",
            "125\n",
            "126\n",
            "127\n",
            "128\n",
            "129\n",
            "130\n",
            "131\n",
            "132\n",
            "133\n",
            "134\n",
            "135\n",
            "136\n",
            "137\n",
            "138\n",
            "139\n",
            "140\n",
            "141\n",
            "142\n",
            "143\n",
            "144\n",
            "145\n",
            "146\n",
            "147\n",
            "148\n",
            "149\n",
            "150\n",
            "151\n",
            "152\n",
            "153\n",
            "154\n",
            "155\n",
            "156\n",
            "157\n",
            "158\n",
            "159\n",
            "160\n",
            "161\n",
            "162\n",
            "163\n",
            "164\n",
            "165\n",
            "166\n",
            "167\n",
            "168\n",
            "169\n",
            "170\n",
            "171\n",
            "172\n",
            "173\n",
            "174\n",
            "175\n",
            "176\n",
            "177\n",
            "178\n",
            "179\n",
            "180\n",
            "181\n",
            "182\n",
            "183\n",
            "184\n",
            "185\n",
            "186\n",
            "187\n",
            "188\n",
            "189\n",
            "190\n",
            "191\n",
            "192\n",
            "193\n",
            "194\n",
            "195\n",
            "196\n",
            "197\n",
            "198\n",
            "199\n",
            "200\n",
            "201\n",
            "202\n",
            "203\n",
            "204\n",
            "205\n",
            "206\n",
            "207\n",
            "208\n",
            "209\n",
            "210\n",
            "211\n",
            "212\n",
            "213\n",
            "214\n",
            "215\n",
            "216\n",
            "217\n",
            "218\n",
            "219\n",
            "220\n",
            "221\n",
            "222\n",
            "223\n",
            "224\n",
            "225\n",
            "['en' 'es' 'fr' 'hr' 'hu' 'it']\n",
            "['it' 'ja' 'ko' 'pl' 'ro' 'ru' 'sh' 'sk' 'sl' 'sv' 'tr' 'uk' 'zh']\n",
            "Downloading: 100% 1.11k/1.11k [00:00<00:00, 948kB/s]\n",
            "Downloading: 100% 295M/295M [00:10<00:00, 29.4MB/s]\n",
            "Downloading: 100% 815k/815k [00:00<00:00, 941kB/s]\n",
            "Downloading: 100% 767k/767k [00:00<00:00, 2.42MB/s]\n",
            "Downloading: 100% 1.45M/1.45M [00:00<00:00, 3.88MB/s]\n",
            "Downloading: 100% 42.0/42.0 [00:00<00:00, 35.2kB/s]\n",
            "Downloading: 100% 1.11k/1.11k [00:00<00:00, 761kB/s]\n",
            "Downloading: 100% 293M/293M [00:21<00:00, 14.5MB/s]\n",
            "Downloading: 100% 820k/820k [00:00<00:00, 2.25MB/s]\n",
            "Downloading: 100% 778k/778k [00:00<00:00, 2.50MB/s]\n",
            "Downloading: 100% 1.49M/1.49M [00:00<00:00, 3.56MB/s]\n",
            "Downloading: 100% 42.0/42.0 [00:00<00:00, 34.4kB/s]\n",
            "Token indices sequence length is longer than the specified maximum sequence length for this model (566 > 512). Running this sequence through the model will result in indexing errors\n",
            "228\n",
            "Token indices sequence length is longer than the specified maximum sequence length for this model (595 > 512). Running this sequence through the model will result in indexing errors\n"
          ]
        }
      ]
    },
    {
      "cell_type": "code",
      "source": [
        "listings = pd.read_pickle(path)"
      ],
      "metadata": {
        "id": "-nDe5vkzX_pM"
      },
      "execution_count": 94,
      "outputs": []
    },
    {
      "cell_type": "code",
      "source": [
        "path = \"/content/drive/MyDrive/Colab/airbnb/data/translations/listings_secure_save\"\n",
        "listings.to_pickle(path)"
      ],
      "metadata": {
        "id": "J5CeohWqYUMy"
      },
      "execution_count": 88,
      "outputs": []
    },
    {
      "cell_type": "code",
      "source": [
        "len(listings[\"host_id\"].unique())"
      ],
      "metadata": {
        "id": "xN0x9afKa1br",
        "outputId": "9de58d4c-92d5-490d-959d-38a9694e3fce",
        "colab": {
          "base_uri": "https://localhost:8080/"
        }
      },
      "execution_count": 104,
      "outputs": [
        {
          "output_type": "execute_result",
          "data": {
            "text/plain": [
              "6338"
            ]
          },
          "metadata": {},
          "execution_count": 104
        }
      ]
    },
    {
      "cell_type": "code",
      "source": [
        "unique_host_about = listings[\"host_about\"].unique()\n",
        "unique_host_about = pd.DataFrame(unique_host_about, columns=[\"host_about\"])\n",
        "unique_host_about[\"host_about_en\"] = unique_host_about[\"host_about\"]\n",
        "unique_host_about[\"host_about_en\"] = None\n",
        "unique_host_about.to_pickle(\"/content/drive/MyDrive/Colab/airbnb/data/translations/host_about\")"
      ],
      "metadata": {
        "id": "psDcjntbbxAn"
      },
      "execution_count": 113,
      "outputs": []
    },
    {
      "cell_type": "code",
      "source": [
        "#@title new script\n",
        "from txtai.pipeline import Translation\n",
        "import torch\n",
        "from torch.utils.data import DataLoader, Dataset\n",
        "import pandas as pd\n",
        "\n",
        "# Create translation model\n",
        "translate = Translation(batch=64)\n",
        "\n",
        "path = \"/content/drive/MyDrive/Colab/airbnb/data/translations/host_about\"\n",
        "listings = pd.read_pickle(path)\n",
        "\n",
        "class Translatedata(Dataset):\n",
        "    def __init__(self, data, column):\n",
        "        super().__init__()\n",
        "        self.data = data\n",
        "        self.column = column\n",
        "\n",
        "    def __getitem__(self, key):\n",
        "        return self.data[self.column].iloc[key], self.data.index[key]\n",
        "\n",
        "    def __len__(self):\n",
        "        return len(self.data)\n",
        "\n",
        "dataset = Translatedata(listings, \"host_about\")\n",
        "dataloader = DataLoader(dataset, batch_size=64)\n",
        "\n",
        "jump_value=0\n",
        "exit_value=1000\n",
        "\n",
        "with torch.no_grad():\n",
        "    for i, (text, id) in enumerate(dataloader):\n",
        "        text = list(text)\n",
        "        if i < jump_value:\n",
        "            print(\"jumped\", i)\n",
        "            continue\n",
        "        if i > exit_value:\n",
        "            break\n",
        "        if listings.loc[id, dataset.column +\"_en\"].isnull().values.any():\n",
        "            print(i)\n",
        "            translation = translate(list(text), \"en\")\n",
        "            listings.loc[id, dataset.column +\"_en\"] = translation\n",
        "        else:\n",
        "            print(\"already done in \", i)\n",
        "\n",
        "        listings.to_pickle(path)"
      ],
      "metadata": {
        "cellView": "form",
        "id": "ouHLU-xHd3n2"
      },
      "execution_count": null,
      "outputs": []
    },
    {
      "cell_type": "code",
      "source": [
        "# host about \n",
        "!python script.py"
      ],
      "metadata": {
        "colab": {
          "base_uri": "https://localhost:8080/"
        },
        "id": "ytltaeHgYcAG",
        "outputId": "618d2b29-4145-4edd-86dc-c1d5ac34d147"
      },
      "execution_count": 120,
      "outputs": [
        {
          "output_type": "stream",
          "name": "stdout",
          "text": [
            "already done in  0\n",
            "already done in  1\n",
            "already done in  2\n",
            "already done in  3\n",
            "already done in  4\n",
            "already done in  5\n",
            "already done in  6\n",
            "already done in  7\n",
            "already done in  8\n",
            "already done in  9\n",
            "already done in  10\n",
            "already done in  11\n",
            "12\n",
            "13\n",
            "14\n",
            "15\n",
            "16\n",
            "17\n",
            "18\n",
            "19\n",
            "20\n",
            "21\n",
            "22\n",
            "23\n",
            "24\n",
            "25\n",
            "Downloading: 100% 1.11k/1.11k [00:00<00:00, 817kB/s]\n",
            "Downloading: 100% 286M/286M [00:06<00:00, 44.9MB/s]\n",
            "Downloading: 100% 800k/800k [00:00<00:00, 2.13MB/s]\n",
            "Downloading: 100% 787k/787k [00:00<00:00, 2.48MB/s]\n",
            "Downloading: 100% 1.29M/1.29M [00:00<00:00, 3.44MB/s]\n",
            "Downloading: 100% 42.0/42.0 [00:00<00:00, 35.4kB/s]\n",
            "26\n",
            "27\n",
            "28\n",
            "29\n",
            "30\n",
            "31\n",
            "32\n",
            "33\n",
            "34\n",
            "35\n",
            "36\n",
            "37\n",
            "38\n",
            "39\n",
            "40\n",
            "41\n",
            "42\n",
            "43\n",
            "44\n",
            "45\n",
            "46\n",
            "47\n",
            "48\n",
            "49\n",
            "50\n",
            "51\n",
            "52\n",
            "53\n",
            "54\n",
            "55\n",
            "56\n",
            "57\n",
            "58\n",
            "59\n",
            "60\n",
            "61\n",
            "62\n",
            "63\n",
            "64\n",
            "65\n",
            "66\n",
            "67\n",
            "68\n",
            "69\n",
            "70\n",
            "71\n",
            "72\n",
            "73\n",
            "74\n",
            "75\n",
            "76\n",
            "77\n",
            "78\n",
            "79\n",
            "80\n",
            "81\n",
            "82\n",
            "83\n",
            "84\n",
            "85\n",
            "86\n",
            "87\n",
            "88\n",
            "89\n",
            "90\n",
            "91\n",
            "92\n",
            "93\n",
            "94\n",
            "95\n",
            "96\n",
            "97\n",
            "98\n",
            "99\n",
            "100\n",
            "101\n",
            "102\n",
            "103\n",
            "104\n",
            "105\n",
            "106\n",
            "107\n",
            "108\n",
            "109\n",
            "110\n",
            "111\n",
            "112\n",
            "113\n",
            "114\n",
            "115\n",
            "116\n",
            "117\n",
            "118\n",
            "119\n",
            "120\n",
            "121\n",
            "122\n",
            "123\n",
            "124\n",
            "125\n",
            "126\n",
            "127\n",
            "128\n",
            "129\n",
            "130\n",
            "131\n",
            "132\n",
            "133\n",
            "134\n",
            "135\n",
            "136\n",
            "137\n",
            "138\n",
            "139\n",
            "140\n",
            "141\n",
            "142\n",
            "143\n",
            "144\n",
            "145\n",
            "146\n",
            "147\n",
            "148\n",
            "149\n",
            "150\n",
            "151\n",
            "152\n",
            "153\n",
            "154\n",
            "155\n",
            "156\n",
            "157\n",
            "158\n",
            "159\n",
            "160\n",
            "161\n",
            "162\n",
            "163\n",
            "164\n",
            "165\n",
            "166\n",
            "167\n",
            "168\n",
            "169\n",
            "170\n",
            "171\n",
            "172\n",
            "173\n",
            "174\n",
            "175\n",
            "176\n",
            "177\n",
            "178\n",
            "179\n",
            "180\n",
            "181\n",
            "182\n",
            "183\n",
            "184\n",
            "185\n",
            "186\n",
            "187\n",
            "188\n",
            "189\n",
            "190\n",
            "191\n",
            "192\n",
            "193\n",
            "194\n",
            "195\n",
            "196\n",
            "197\n",
            "198\n",
            "199\n",
            "200\n",
            "201\n",
            "202\n",
            "203\n",
            "204\n",
            "205\n",
            "206\n",
            "207\n",
            "208\n",
            "209\n",
            "210\n",
            "211\n",
            "212\n",
            "213\n",
            "214\n",
            "215\n",
            "216\n",
            "217\n",
            "218\n",
            "219\n",
            "220\n",
            "221\n",
            "Downloading: 100% 1.11k/1.11k [00:00<00:00, 833kB/s]\n",
            "Downloading: 100% 279M/279M [00:18<00:00, 15.7MB/s]\n",
            "Downloading: 100% 796k/796k [00:00<00:00, 2.51MB/s]\n",
            "Downloading: 100% 784k/784k [00:00<00:00, 2.51MB/s]\n",
            "Downloading: 100% 1.20M/1.20M [00:01<00:00, 1.12MB/s]\n",
            "Downloading: 100% 42.0/42.0 [00:00<00:00, 42.0kB/s]\n",
            "222\n",
            "223\n",
            "224\n",
            "225\n",
            "226\n",
            "227\n",
            "228\n",
            "229\n",
            "230\n",
            "231\n",
            "232\n",
            "233\n",
            "234\n",
            "235\n",
            "236\n",
            "237\n",
            "238\n",
            "239\n",
            "240\n",
            "241\n",
            "242\n",
            "243\n",
            "244\n",
            "245\n",
            "246\n",
            "247\n",
            "248\n",
            "249\n",
            "250\n",
            "251\n",
            "252\n",
            "253\n",
            "254\n",
            "255\n",
            "256\n",
            "257\n",
            "Downloading: 100% 1.12k/1.12k [00:00<00:00, 1.01MB/s]\n",
            "Downloading: 100% 287M/287M [00:09<00:00, 33.0MB/s]\n",
            "Downloading: 100% 812k/812k [00:00<00:00, 2.21MB/s]\n",
            "Downloading: 100% 771k/771k [00:00<00:00, 2.05MB/s]\n",
            "Downloading: 100% 1.31M/1.31M [00:00<00:00, 4.24MB/s]\n",
            "Downloading: 100% 44.0/44.0 [00:00<00:00, 36.4kB/s]\n",
            "258\n",
            "259\n",
            "260\n",
            "261\n",
            "262\n",
            "263\n",
            "264\n",
            "265\n",
            "266\n",
            "267\n",
            "268\n",
            "269\n",
            "270\n",
            "271\n",
            "272\n",
            "273\n",
            "274\n",
            "275\n",
            "276\n",
            "277\n",
            "278\n",
            "279\n",
            "280\n",
            "281\n",
            "282\n",
            "283\n",
            "284\n",
            "285\n",
            "286\n"
          ]
        }
      ]
    },
    {
      "cell_type": "code",
      "source": [
        "translated_ha = pd.read_pickle(\"/content/drive/MyDrive/Colab/airbnb/data/translations/host_about\")"
      ],
      "metadata": {
        "id": "AqOAadizgL8l"
      },
      "execution_count": 124,
      "outputs": []
    },
    {
      "cell_type": "code",
      "source": [
        "translated_ha.index = translated_ha.host_about"
      ],
      "metadata": {
        "id": "BzUQ2wvekFy8"
      },
      "execution_count": 125,
      "outputs": []
    },
    {
      "cell_type": "code",
      "source": [
        "ha_dict = translated_ha[\"host_about_en\"].to_dict()"
      ],
      "metadata": {
        "id": "NlFv11kykKvq"
      },
      "execution_count": 132,
      "outputs": []
    },
    {
      "cell_type": "code",
      "source": [
        "listings_mapped_translations = listings[\"host_about\"].map(ha_dict)"
      ],
      "metadata": {
        "id": "omzxZLMUkpjU"
      },
      "execution_count": 137,
      "outputs": []
    },
    {
      "cell_type": "code",
      "source": [
        "listings[\"host_about_en\"] = listings_mapped_translations"
      ],
      "metadata": {
        "id": "SbJjyNIOlEeV"
      },
      "execution_count": 138,
      "outputs": []
    },
    {
      "cell_type": "code",
      "source": [
        "path = \"/content/drive/MyDrive/Colab/airbnb/data/translations/listings\"\n",
        "listings.to_pickle(path)"
      ],
      "metadata": {
        "id": "WcCqjw0vi7KJ"
      },
      "execution_count": 144,
      "outputs": []
    },
    {
      "cell_type": "code",
      "source": [
        "listings[\"description_en\"][500:550]"
      ],
      "metadata": {
        "id": "Q-GOiOHrl6aa",
        "outputId": "44d35872-e647-4350-bf6c-d4a31c43c393",
        "colab": {
          "base_uri": "https://localhost:8080/"
        }
      },
      "execution_count": 145,
      "outputs": [
        {
          "output_type": "execute_result",
          "data": {
            "text/plain": [
              "7197     The apartment is very close to two subway line...\n",
              "9894     In the accommodation 1210 apartment is a compl...\n",
              "5478     Nice flat for a wonderful stay in Vienna. Near...\n",
              "8453     Perfect to explore Vienna. It is a private acc...\n",
              "4548     This attic apartment offers a pleasant holiday...\n",
              "8457     Newly furnished 2-room apartment with Viennese...\n",
              "1849     Dear travellers! Welcome to a stylish home in ...\n",
              "9889     In March 2020 this house was opened with units...\n",
              "1852     Near the river! The Danube is across the road,...\n",
              "8455     Our apartment is comfortably furnished and can...\n",
              "8456     Vienna is a beautiful city that invites many v...\n",
              "5472     Close to the Danube Canal, very bright, quiet ...\n",
              "1856     Daughter 19 abroad - her room is vacated and w...\n",
              "3754     Are you looking for a cozy and bright accommod...\n",
              "9884     SCROLL DOWN FOR ENGLISH DESCRIPTION PLEASE! <b...\n",
              "9883     This first-class 36 m2 design apartment is cen...\n",
              "7203     Bright apartment in a prime location with holi...\n",
              "5475     The location: <br />One is located here, in ab...\n",
              "1887     • Tram 2, Subway U2 Taborstraße<br />• City Ce...\n",
              "7183     Kleingartenhaus in the middle of the Prater, t...\n",
              "5502     Supermodern, elaborately renovated (November 2...\n",
              "5545     Our house is located in a quiet location, Unte...\n",
              "5544     In order to get to, toUU6U6U6(burggasse, to to...\n",
              "3793     The apartment is 48m2 in size, little used aft...\n",
              "4526     Nice & newly renovated loft maisonette apartme...\n",
              "10006    The cozy 1-room apartment is rented for a maxi...\n",
              "7151     During your stay you will get an apartment of ...\n",
              "10004    !! ENGLISH DESCRIPTION BELOW!! ENGLISH DESCRIP...\n",
              "4527     In a quiet side street is located in a former ...\n",
              "1708     The newly furnished City-Apartment Karlsplatz ...\n",
              "10002    The new comfortably furnished apartment with l...\n",
              "7148     Welcome to Vienna - Very cosy, bright and beat...\n",
              "7153     The apartment has 3 rooms. Large living and di...\n",
              "1712     Best solution!<br /><br /><b>The space</b><br ...\n",
              "1713     It is also a garden using what in summer is a ...\n",
              "8698     -the apartment is in a very good location.<br ...\n",
              "8423     Modern city apartment with sun terrace, free u...\n",
              "3789     In the absolute heart of Vienna. Optimal to ex...\n",
              "8424     This designer apartment is high-quality and ve...\n",
              "1718     The room is around the +20m2 and is furnished ...\n",
              "9997     --Short term rent / or long term dependent on ...\n",
              "9996     The apartment is fully furnished. <br /> <br /...\n",
              "9994     The apartment is located on the 3rd floor, bri...\n",
              "1711     Perfectly located in the centre of the city, t...\n",
              "1723     A nice, large and bright room in one of Vienna...\n",
              "7147     This apartment with a view of the famous Old D...\n",
              "7146     It is special & unconventional: in the center ...\n",
              "10040    The bright 1-room apartment is rented for a ma...\n",
              "10039    The modern 1-room apartment is rented for a ma...\n",
              "5571     Compact Viennese style apartment with maritime...\n",
              "Name: description_en, dtype: object"
            ]
          },
          "metadata": {},
          "execution_count": 145
        }
      ]
    }
  ],
  "metadata": {
    "colab": {
      "name": "scratchpad",
      "provenance": [],
      "include_colab_link": true
    },
    "kernelspec": {
      "display_name": "Python 3",
      "name": "python3"
    },
    "accelerator": "GPU",
    "widgets": {
      "application/vnd.jupyter.widget-state+json": {
        "592b3a0a346b45709315a1515e643aff": {
          "model_module": "@jupyter-widgets/controls",
          "model_name": "HBoxModel",
          "model_module_version": "1.5.0",
          "state": {
            "_view_name": "HBoxView",
            "_dom_classes": [],
            "_model_name": "HBoxModel",
            "_view_module": "@jupyter-widgets/controls",
            "_model_module_version": "1.5.0",
            "_view_count": null,
            "_view_module_version": "1.5.0",
            "box_style": "",
            "layout": "IPY_MODEL_6bd31b010ecf416a87fbbd14060f3c86",
            "_model_module": "@jupyter-widgets/controls",
            "children": [
              "IPY_MODEL_c3114f3234184a67b255e907250c2123",
              "IPY_MODEL_5a08815542c841ea8cd3218b73cbdb46",
              "IPY_MODEL_ee6e43c2992145798b0d4007ae92cf3e"
            ]
          }
        },
        "6bd31b010ecf416a87fbbd14060f3c86": {
          "model_module": "@jupyter-widgets/base",
          "model_name": "LayoutModel",
          "model_module_version": "1.2.0",
          "state": {
            "_view_name": "LayoutView",
            "grid_template_rows": null,
            "right": null,
            "justify_content": null,
            "_view_module": "@jupyter-widgets/base",
            "overflow": null,
            "_model_module_version": "1.2.0",
            "_view_count": null,
            "flex_flow": null,
            "width": null,
            "min_width": null,
            "border": null,
            "align_items": null,
            "bottom": null,
            "_model_module": "@jupyter-widgets/base",
            "top": null,
            "grid_column": null,
            "overflow_y": null,
            "overflow_x": null,
            "grid_auto_flow": null,
            "grid_area": null,
            "grid_template_columns": null,
            "flex": null,
            "_model_name": "LayoutModel",
            "justify_items": null,
            "grid_row": null,
            "max_height": null,
            "align_content": null,
            "visibility": null,
            "align_self": null,
            "height": null,
            "min_height": null,
            "padding": null,
            "grid_auto_rows": null,
            "grid_gap": null,
            "max_width": null,
            "order": null,
            "_view_module_version": "1.2.0",
            "grid_template_areas": null,
            "object_position": null,
            "object_fit": null,
            "grid_auto_columns": null,
            "margin": null,
            "display": null,
            "left": null
          }
        },
        "c3114f3234184a67b255e907250c2123": {
          "model_module": "@jupyter-widgets/controls",
          "model_name": "HTMLModel",
          "model_module_version": "1.5.0",
          "state": {
            "_view_name": "HTMLView",
            "style": "IPY_MODEL_edd57eb258594969a7f9440030cbf83b",
            "_dom_classes": [],
            "description": "",
            "_model_name": "HTMLModel",
            "placeholder": "​",
            "_view_module": "@jupyter-widgets/controls",
            "_model_module_version": "1.5.0",
            "value": "Downloading: 100%",
            "_view_count": null,
            "_view_module_version": "1.5.0",
            "description_tooltip": null,
            "_model_module": "@jupyter-widgets/controls",
            "layout": "IPY_MODEL_52e2c6294bcb4170b2af9c4c4cebc2ee"
          }
        },
        "5a08815542c841ea8cd3218b73cbdb46": {
          "model_module": "@jupyter-widgets/controls",
          "model_name": "FloatProgressModel",
          "model_module_version": "1.5.0",
          "state": {
            "_view_name": "ProgressView",
            "style": "IPY_MODEL_1d90f145b2c146fbbc06deb19ce7f58a",
            "_dom_classes": [],
            "description": "",
            "_model_name": "FloatProgressModel",
            "bar_style": "success",
            "max": 938013,
            "_view_module": "@jupyter-widgets/controls",
            "_model_module_version": "1.5.0",
            "value": 938013,
            "_view_count": null,
            "_view_module_version": "1.5.0",
            "orientation": "horizontal",
            "min": 0,
            "description_tooltip": null,
            "_model_module": "@jupyter-widgets/controls",
            "layout": "IPY_MODEL_0b8e098459904888b41b6fe2555eb643"
          }
        },
        "ee6e43c2992145798b0d4007ae92cf3e": {
          "model_module": "@jupyter-widgets/controls",
          "model_name": "HTMLModel",
          "model_module_version": "1.5.0",
          "state": {
            "_view_name": "HTMLView",
            "style": "IPY_MODEL_799b862fc609430fb0ef8a750ef54b66",
            "_dom_classes": [],
            "description": "",
            "_model_name": "HTMLModel",
            "placeholder": "​",
            "_view_module": "@jupyter-widgets/controls",
            "_model_module_version": "1.5.0",
            "value": " 916k/916k [00:00&lt;00:00, 9.41MB/s]",
            "_view_count": null,
            "_view_module_version": "1.5.0",
            "description_tooltip": null,
            "_model_module": "@jupyter-widgets/controls",
            "layout": "IPY_MODEL_5ad2e13e880544009f5dc5901ec57d55"
          }
        },
        "edd57eb258594969a7f9440030cbf83b": {
          "model_module": "@jupyter-widgets/controls",
          "model_name": "DescriptionStyleModel",
          "model_module_version": "1.5.0",
          "state": {
            "_view_name": "StyleView",
            "_model_name": "DescriptionStyleModel",
            "description_width": "",
            "_view_module": "@jupyter-widgets/base",
            "_model_module_version": "1.5.0",
            "_view_count": null,
            "_view_module_version": "1.2.0",
            "_model_module": "@jupyter-widgets/controls"
          }
        },
        "52e2c6294bcb4170b2af9c4c4cebc2ee": {
          "model_module": "@jupyter-widgets/base",
          "model_name": "LayoutModel",
          "model_module_version": "1.2.0",
          "state": {
            "_view_name": "LayoutView",
            "grid_template_rows": null,
            "right": null,
            "justify_content": null,
            "_view_module": "@jupyter-widgets/base",
            "overflow": null,
            "_model_module_version": "1.2.0",
            "_view_count": null,
            "flex_flow": null,
            "width": null,
            "min_width": null,
            "border": null,
            "align_items": null,
            "bottom": null,
            "_model_module": "@jupyter-widgets/base",
            "top": null,
            "grid_column": null,
            "overflow_y": null,
            "overflow_x": null,
            "grid_auto_flow": null,
            "grid_area": null,
            "grid_template_columns": null,
            "flex": null,
            "_model_name": "LayoutModel",
            "justify_items": null,
            "grid_row": null,
            "max_height": null,
            "align_content": null,
            "visibility": null,
            "align_self": null,
            "height": null,
            "min_height": null,
            "padding": null,
            "grid_auto_rows": null,
            "grid_gap": null,
            "max_width": null,
            "order": null,
            "_view_module_version": "1.2.0",
            "grid_template_areas": null,
            "object_position": null,
            "object_fit": null,
            "grid_auto_columns": null,
            "margin": null,
            "display": null,
            "left": null
          }
        },
        "1d90f145b2c146fbbc06deb19ce7f58a": {
          "model_module": "@jupyter-widgets/controls",
          "model_name": "ProgressStyleModel",
          "model_module_version": "1.5.0",
          "state": {
            "_view_name": "StyleView",
            "_model_name": "ProgressStyleModel",
            "description_width": "",
            "_view_module": "@jupyter-widgets/base",
            "_model_module_version": "1.5.0",
            "_view_count": null,
            "_view_module_version": "1.2.0",
            "bar_color": null,
            "_model_module": "@jupyter-widgets/controls"
          }
        },
        "0b8e098459904888b41b6fe2555eb643": {
          "model_module": "@jupyter-widgets/base",
          "model_name": "LayoutModel",
          "model_module_version": "1.2.0",
          "state": {
            "_view_name": "LayoutView",
            "grid_template_rows": null,
            "right": null,
            "justify_content": null,
            "_view_module": "@jupyter-widgets/base",
            "overflow": null,
            "_model_module_version": "1.2.0",
            "_view_count": null,
            "flex_flow": null,
            "width": null,
            "min_width": null,
            "border": null,
            "align_items": null,
            "bottom": null,
            "_model_module": "@jupyter-widgets/base",
            "top": null,
            "grid_column": null,
            "overflow_y": null,
            "overflow_x": null,
            "grid_auto_flow": null,
            "grid_area": null,
            "grid_template_columns": null,
            "flex": null,
            "_model_name": "LayoutModel",
            "justify_items": null,
            "grid_row": null,
            "max_height": null,
            "align_content": null,
            "visibility": null,
            "align_self": null,
            "height": null,
            "min_height": null,
            "padding": null,
            "grid_auto_rows": null,
            "grid_gap": null,
            "max_width": null,
            "order": null,
            "_view_module_version": "1.2.0",
            "grid_template_areas": null,
            "object_position": null,
            "object_fit": null,
            "grid_auto_columns": null,
            "margin": null,
            "display": null,
            "left": null
          }
        },
        "799b862fc609430fb0ef8a750ef54b66": {
          "model_module": "@jupyter-widgets/controls",
          "model_name": "DescriptionStyleModel",
          "model_module_version": "1.5.0",
          "state": {
            "_view_name": "StyleView",
            "_model_name": "DescriptionStyleModel",
            "description_width": "",
            "_view_module": "@jupyter-widgets/base",
            "_model_module_version": "1.5.0",
            "_view_count": null,
            "_view_module_version": "1.2.0",
            "_model_module": "@jupyter-widgets/controls"
          }
        },
        "5ad2e13e880544009f5dc5901ec57d55": {
          "model_module": "@jupyter-widgets/base",
          "model_name": "LayoutModel",
          "model_module_version": "1.2.0",
          "state": {
            "_view_name": "LayoutView",
            "grid_template_rows": null,
            "right": null,
            "justify_content": null,
            "_view_module": "@jupyter-widgets/base",
            "overflow": null,
            "_model_module_version": "1.2.0",
            "_view_count": null,
            "flex_flow": null,
            "width": null,
            "min_width": null,
            "border": null,
            "align_items": null,
            "bottom": null,
            "_model_module": "@jupyter-widgets/base",
            "top": null,
            "grid_column": null,
            "overflow_y": null,
            "overflow_x": null,
            "grid_auto_flow": null,
            "grid_area": null,
            "grid_template_columns": null,
            "flex": null,
            "_model_name": "LayoutModel",
            "justify_items": null,
            "grid_row": null,
            "max_height": null,
            "align_content": null,
            "visibility": null,
            "align_self": null,
            "height": null,
            "min_height": null,
            "padding": null,
            "grid_auto_rows": null,
            "grid_gap": null,
            "max_width": null,
            "order": null,
            "_view_module_version": "1.2.0",
            "grid_template_areas": null,
            "object_position": null,
            "object_fit": null,
            "grid_auto_columns": null,
            "margin": null,
            "display": null,
            "left": null
          }
        }
      }
    }
  },
  "nbformat": 4,
  "nbformat_minor": 0
}